{
 "cells": [
  {
   "cell_type": "code",
   "execution_count": 9,
   "metadata": {},
   "outputs": [
    {
     "name": "stdout",
     "output_type": "stream",
     "text": [
      "Requirement already satisfied: numpy in c:\\users\\alsaf\\appdata\\local\\programs\\python\\python311\\lib\\site-packages (1.25.2)Note: you may need to restart the kernel to use updated packages.\n",
      "\n",
      "Requirement already satisfied: scipy in c:\\users\\alsaf\\appdata\\local\\programs\\python\\python311\\lib\\site-packages (1.14.1)\n",
      "Requirement already satisfied: mne in c:\\users\\alsaf\\appdata\\local\\programs\\python\\python311\\lib\\site-packages (1.9.0)\n",
      "Requirement already satisfied: tqdm in c:\\users\\alsaf\\appdata\\local\\programs\\python\\python311\\lib\\site-packages (4.66.5)\n",
      "Requirement already satisfied: decorator in c:\\users\\alsaf\\appdata\\local\\programs\\python\\python311\\lib\\site-packages (from mne) (5.1.1)\n",
      "Requirement already satisfied: jinja2 in c:\\users\\alsaf\\appdata\\local\\programs\\python\\python311\\lib\\site-packages (from mne) (3.1.2)\n",
      "Requirement already satisfied: lazy-loader>=0.3 in c:\\users\\alsaf\\appdata\\roaming\\python\\python311\\site-packages (from mne) (0.4)\n",
      "Requirement already satisfied: matplotlib>=3.6 in c:\\users\\alsaf\\appdata\\local\\programs\\python\\python311\\lib\\site-packages (from mne) (3.6.2)\n",
      "Requirement already satisfied: packaging in c:\\users\\alsaf\\appdata\\local\\programs\\python\\python311\\lib\\site-packages (from mne) (24.1)\n",
      "Requirement already satisfied: pooch>=1.5 in c:\\users\\alsaf\\appdata\\local\\programs\\python\\python311\\lib\\site-packages (from mne) (1.8.2)\n",
      "Requirement already satisfied: colorama in c:\\users\\alsaf\\appdata\\local\\programs\\python\\python311\\lib\\site-packages (from tqdm) (0.4.6)\n",
      "Requirement already satisfied: contourpy>=1.0.1 in c:\\users\\alsaf\\appdata\\local\\programs\\python\\python311\\lib\\site-packages (from matplotlib>=3.6->mne) (1.0.6)\n",
      "Requirement already satisfied: cycler>=0.10 in c:\\users\\alsaf\\appdata\\local\\programs\\python\\python311\\lib\\site-packages (from matplotlib>=3.6->mne) (0.11.0)\n",
      "Requirement already satisfied: fonttools>=4.22.0 in c:\\users\\alsaf\\appdata\\local\\programs\\python\\python311\\lib\\site-packages (from matplotlib>=3.6->mne) (4.38.0)\n",
      "Requirement already satisfied: kiwisolver>=1.0.1 in c:\\users\\alsaf\\appdata\\local\\programs\\python\\python311\\lib\\site-packages (from matplotlib>=3.6->mne) (1.4.4)\n",
      "Requirement already satisfied: pillow>=6.2.0 in c:\\users\\alsaf\\appdata\\local\\programs\\python\\python311\\lib\\site-packages (from matplotlib>=3.6->mne) (9.4.0)\n",
      "Requirement already satisfied: pyparsing>=2.2.1 in c:\\users\\alsaf\\appdata\\local\\programs\\python\\python311\\lib\\site-packages (from matplotlib>=3.6->mne) (3.0.9)\n",
      "Requirement already satisfied: python-dateutil>=2.7 in c:\\users\\alsaf\\appdata\\local\\programs\\python\\python311\\lib\\site-packages (from matplotlib>=3.6->mne) (2.8.2)\n",
      "Requirement already satisfied: platformdirs>=2.5.0 in c:\\users\\alsaf\\appdata\\local\\programs\\python\\python311\\lib\\site-packages (from pooch>=1.5->mne) (2.5.4)\n",
      "Requirement already satisfied: requests>=2.19.0 in c:\\users\\alsaf\\appdata\\local\\programs\\python\\python311\\lib\\site-packages (from pooch>=1.5->mne) (2.32.3)\n",
      "Requirement already satisfied: MarkupSafe>=2.0 in c:\\users\\alsaf\\appdata\\local\\programs\\python\\python311\\lib\\site-packages (from jinja2->mne) (2.1.1)\n",
      "Requirement already satisfied: six>=1.5 in c:\\users\\alsaf\\appdata\\local\\programs\\python\\python311\\lib\\site-packages (from python-dateutil>=2.7->matplotlib>=3.6->mne) (1.16.0)\n",
      "Requirement already satisfied: charset-normalizer<4,>=2 in c:\\users\\alsaf\\appdata\\local\\programs\\python\\python311\\lib\\site-packages (from requests>=2.19.0->pooch>=1.5->mne) (2.1.1)\n",
      "Requirement already satisfied: idna<4,>=2.5 in c:\\users\\alsaf\\appdata\\local\\programs\\python\\python311\\lib\\site-packages (from requests>=2.19.0->pooch>=1.5->mne) (3.7)\n",
      "Requirement already satisfied: urllib3<3,>=1.21.1 in c:\\users\\alsaf\\appdata\\local\\programs\\python\\python311\\lib\\site-packages (from requests>=2.19.0->pooch>=1.5->mne) (1.26.12)\n",
      "Requirement already satisfied: certifi>=2017.4.17 in c:\\users\\alsaf\\appdata\\local\\programs\\python\\python311\\lib\\site-packages (from requests>=2.19.0->pooch>=1.5->mne) (2022.9.24)\n"
     ]
    },
    {
     "name": "stderr",
     "output_type": "stream",
     "text": [
      "WARNING: Ignoring invalid distribution ~ip (c:\\Users\\alsaf\\AppData\\Local\\Programs\\Python\\Python311\\Lib\\site-packages)\n",
      "WARNING: Ignoring invalid distribution ~ip (c:\\Users\\alsaf\\AppData\\Local\\Programs\\Python\\Python311\\Lib\\site-packages)\n",
      "WARNING: Ignoring invalid distribution ~ip (c:\\Users\\alsaf\\AppData\\Local\\Programs\\Python\\Python311\\Lib\\site-packages)\n",
      "\n",
      "[notice] A new release of pip is available: 24.2 -> 25.0.1\n",
      "[notice] To update, run: python.exe -m pip install --upgrade pip\n"
     ]
    }
   ],
   "source": [
    "pip install numpy scipy mne tqdm\n"
   ]
  },
  {
   "cell_type": "code",
   "execution_count": 10,
   "metadata": {},
   "outputs": [
    {
     "name": "stdout",
     "output_type": "stream",
     "text": [
      "✅ Found 438 EDF files in subdirectories\n",
      "Example files: ['C:\\\\Users\\\\alsaf\\\\Downloads\\\\Capstone2\\\\data\\\\data\\\\v2.0.3\\\\edf\\\\dev\\\\aaaaaajy\\\\s001_2003\\\\02_tcp_le\\\\aaaaaajy_s001_t000.edf', 'C:\\\\Users\\\\alsaf\\\\Downloads\\\\Capstone2\\\\data\\\\data\\\\v2.0.3\\\\edf\\\\dev\\\\aaaaaajy\\\\s002_2003\\\\01_tcp_ar\\\\aaaaaajy_s002_t000.edf', 'C:\\\\Users\\\\alsaf\\\\Downloads\\\\Capstone2\\\\data\\\\data\\\\v2.0.3\\\\edf\\\\dev\\\\aaaaaajy\\\\s002_2003\\\\01_tcp_ar\\\\aaaaaajy_s002_t001.edf', 'C:\\\\Users\\\\alsaf\\\\Downloads\\\\Capstone2\\\\data\\\\data\\\\v2.0.3\\\\edf\\\\dev\\\\aaaaaajy\\\\s002_2003\\\\01_tcp_ar\\\\aaaaaajy_s002_t002.edf', 'C:\\\\Users\\\\alsaf\\\\Downloads\\\\Capstone2\\\\data\\\\data\\\\v2.0.3\\\\edf\\\\dev\\\\aaaaaajy\\\\s003_2003\\\\01_tcp_ar\\\\aaaaaajy_s003_t000.edf']\n"
     ]
    }
   ],
   "source": [
    "import os  # ✅ Import os module\n",
    "\n",
    "# ✅ Define the path to your EEG dataset\n",
    "edf_dir = r\"C:\\Users\\alsaf\\Downloads\\Capstone2\\data\\data\\v2.0.3\\edf\\dev\"  # ✅ Set dataset directory\n",
    "\n",
    "# ✅ Scan for .edf files\n",
    "edf_files = []\n",
    "for root, _, files in os.walk(edf_dir):  # Recursively search for `.edf`\n",
    "    for file in files:\n",
    "        if file.endswith('.edf'):\n",
    "            edf_files.append(os.path.join(root, file))\n",
    "\n",
    "# ✅ Check if files are found\n",
    "if edf_files:\n",
    "    print(f\"✅ Found {len(edf_files)} EDF files in subdirectories\")\n",
    "    print(\"Example files:\", edf_files[:5])  # Show first 5\n",
    "else:\n",
    "    print(\"❌ No EDF files found! Check the folder path.\")\n"
   ]
  },
  {
   "cell_type": "code",
   "execution_count": 11,
   "metadata": {},
   "outputs": [
    {
     "name": "stdout",
     "output_type": "stream",
     "text": [
      "🔍 Checking: C:\\Users\\alsaf\\Downloads\\Capstone2\\data\\data\\v2.0.3\\edf\\dev\\aaaaaajy\\s001_2003\\02_tcp_le\\aaaaaajy_s001_t000.edf\n",
      "✅ File exists: C:\\Users\\alsaf\\Downloads\\Capstone2\\data\\data\\v2.0.3\\edf\\dev\\aaaaaajy\\s001_2003\\02_tcp_le\\aaaaaajy_s001_t000.edf\n",
      "🔍 Checking: C:\\Users\\alsaf\\Downloads\\Capstone2\\data\\data\\v2.0.3\\edf\\dev\\aaaaaajy\\s002_2003\\01_tcp_ar\\aaaaaajy_s002_t000.edf\n",
      "✅ File exists: C:\\Users\\alsaf\\Downloads\\Capstone2\\data\\data\\v2.0.3\\edf\\dev\\aaaaaajy\\s002_2003\\01_tcp_ar\\aaaaaajy_s002_t000.edf\n",
      "🔍 Checking: C:\\Users\\alsaf\\Downloads\\Capstone2\\data\\data\\v2.0.3\\edf\\dev\\aaaaaajy\\s002_2003\\01_tcp_ar\\aaaaaajy_s002_t001.edf\n",
      "✅ File exists: C:\\Users\\alsaf\\Downloads\\Capstone2\\data\\data\\v2.0.3\\edf\\dev\\aaaaaajy\\s002_2003\\01_tcp_ar\\aaaaaajy_s002_t001.edf\n",
      "🔍 Checking: C:\\Users\\alsaf\\Downloads\\Capstone2\\data\\data\\v2.0.3\\edf\\dev\\aaaaaajy\\s002_2003\\01_tcp_ar\\aaaaaajy_s002_t002.edf\n",
      "✅ File exists: C:\\Users\\alsaf\\Downloads\\Capstone2\\data\\data\\v2.0.3\\edf\\dev\\aaaaaajy\\s002_2003\\01_tcp_ar\\aaaaaajy_s002_t002.edf\n",
      "🔍 Checking: C:\\Users\\alsaf\\Downloads\\Capstone2\\data\\data\\v2.0.3\\edf\\dev\\aaaaaajy\\s003_2003\\01_tcp_ar\\aaaaaajy_s003_t000.edf\n",
      "✅ File exists: C:\\Users\\alsaf\\Downloads\\Capstone2\\data\\data\\v2.0.3\\edf\\dev\\aaaaaajy\\s003_2003\\01_tcp_ar\\aaaaaajy_s003_t000.edf\n",
      "🔍 Checking: C:\\Users\\alsaf\\Downloads\\Capstone2\\data\\data\\v2.0.3\\edf\\dev\\aaaaaajy\\s003_2003\\01_tcp_ar\\aaaaaajy_s003_t001.edf\n",
      "✅ File exists: C:\\Users\\alsaf\\Downloads\\Capstone2\\data\\data\\v2.0.3\\edf\\dev\\aaaaaajy\\s003_2003\\01_tcp_ar\\aaaaaajy_s003_t001.edf\n",
      "🔍 Checking: C:\\Users\\alsaf\\Downloads\\Capstone2\\data\\data\\v2.0.3\\edf\\dev\\aaaaaajy\\s003_2003\\01_tcp_ar\\aaaaaajy_s003_t002.edf\n",
      "✅ File exists: C:\\Users\\alsaf\\Downloads\\Capstone2\\data\\data\\v2.0.3\\edf\\dev\\aaaaaajy\\s003_2003\\01_tcp_ar\\aaaaaajy_s003_t002.edf\n",
      "🔍 Checking: C:\\Users\\alsaf\\Downloads\\Capstone2\\data\\data\\v2.0.3\\edf\\dev\\aaaaaajy\\s003_2003\\01_tcp_ar\\aaaaaajy_s003_t003.edf\n",
      "✅ File exists: C:\\Users\\alsaf\\Downloads\\Capstone2\\data\\data\\v2.0.3\\edf\\dev\\aaaaaajy\\s003_2003\\01_tcp_ar\\aaaaaajy_s003_t003.edf\n",
      "🔍 Checking: C:\\Users\\alsaf\\Downloads\\Capstone2\\data\\data\\v2.0.3\\edf\\dev\\aaaaaajy\\s003_2003\\01_tcp_ar\\aaaaaajy_s003_t004.edf\n",
      "✅ File exists: C:\\Users\\alsaf\\Downloads\\Capstone2\\data\\data\\v2.0.3\\edf\\dev\\aaaaaajy\\s003_2003\\01_tcp_ar\\aaaaaajy_s003_t004.edf\n",
      "🔍 Checking: C:\\Users\\alsaf\\Downloads\\Capstone2\\data\\data\\v2.0.3\\edf\\dev\\aaaaaajy\\s003_2003\\01_tcp_ar\\aaaaaajy_s003_t005.edf\n",
      "✅ File exists: C:\\Users\\alsaf\\Downloads\\Capstone2\\data\\data\\v2.0.3\\edf\\dev\\aaaaaajy\\s003_2003\\01_tcp_ar\\aaaaaajy_s003_t005.edf\n",
      "🔍 Checking: C:\\Users\\alsaf\\Downloads\\Capstone2\\data\\data\\v2.0.3\\edf\\dev\\aaaaaajy\\s004_2003\\02_tcp_le\\aaaaaajy_s004_t000.edf\n",
      "✅ File exists: C:\\Users\\alsaf\\Downloads\\Capstone2\\data\\data\\v2.0.3\\edf\\dev\\aaaaaajy\\s004_2003\\02_tcp_le\\aaaaaajy_s004_t000.edf\n",
      "🔍 Checking: C:\\Users\\alsaf\\Downloads\\Capstone2\\data\\data\\v2.0.3\\edf\\dev\\aaaaaayf\\s001_2003\\02_tcp_le\\aaaaaayf_s001_t000.edf\n",
      "✅ File exists: C:\\Users\\alsaf\\Downloads\\Capstone2\\data\\data\\v2.0.3\\edf\\dev\\aaaaaayf\\s001_2003\\02_tcp_le\\aaaaaayf_s001_t000.edf\n",
      "🔍 Checking: C:\\Users\\alsaf\\Downloads\\Capstone2\\data\\data\\v2.0.3\\edf\\dev\\aaaaaayf\\s001_2003\\02_tcp_le\\aaaaaayf_s001_t001.edf\n",
      "✅ File exists: C:\\Users\\alsaf\\Downloads\\Capstone2\\data\\data\\v2.0.3\\edf\\dev\\aaaaaayf\\s001_2003\\02_tcp_le\\aaaaaayf_s001_t001.edf\n",
      "🔍 Checking: C:\\Users\\alsaf\\Downloads\\Capstone2\\data\\data\\v2.0.3\\edf\\dev\\aaaaaayf\\s002_2003\\02_tcp_le\\aaaaaayf_s002_t000.edf\n",
      "✅ File exists: C:\\Users\\alsaf\\Downloads\\Capstone2\\data\\data\\v2.0.3\\edf\\dev\\aaaaaayf\\s002_2003\\02_tcp_le\\aaaaaayf_s002_t000.edf\n",
      "🔍 Checking: C:\\Users\\alsaf\\Downloads\\Capstone2\\data\\data\\v2.0.3\\edf\\dev\\aaaaaayf\\s002_2003\\02_tcp_le\\aaaaaayf_s002_t001.edf\n",
      "✅ File exists: C:\\Users\\alsaf\\Downloads\\Capstone2\\data\\data\\v2.0.3\\edf\\dev\\aaaaaayf\\s002_2003\\02_tcp_le\\aaaaaayf_s002_t001.edf\n",
      "🔍 Checking: C:\\Users\\alsaf\\Downloads\\Capstone2\\data\\data\\v2.0.3\\edf\\dev\\aaaaaayf\\s003_2003\\01_tcp_ar\\aaaaaayf_s003_t000.edf\n",
      "✅ File exists: C:\\Users\\alsaf\\Downloads\\Capstone2\\data\\data\\v2.0.3\\edf\\dev\\aaaaaayf\\s003_2003\\01_tcp_ar\\aaaaaayf_s003_t000.edf\n",
      "🔍 Checking: C:\\Users\\alsaf\\Downloads\\Capstone2\\data\\data\\v2.0.3\\edf\\dev\\aaaaaayf\\s004_2003\\01_tcp_ar\\aaaaaayf_s004_t000.edf\n",
      "✅ File exists: C:\\Users\\alsaf\\Downloads\\Capstone2\\data\\data\\v2.0.3\\edf\\dev\\aaaaaayf\\s004_2003\\01_tcp_ar\\aaaaaayf_s004_t000.edf\n",
      "🔍 Checking: C:\\Users\\alsaf\\Downloads\\Capstone2\\data\\data\\v2.0.3\\edf\\dev\\aaaaaayf\\s004_2003\\01_tcp_ar\\aaaaaayf_s004_t001.edf\n",
      "✅ File exists: C:\\Users\\alsaf\\Downloads\\Capstone2\\data\\data\\v2.0.3\\edf\\dev\\aaaaaayf\\s004_2003\\01_tcp_ar\\aaaaaayf_s004_t001.edf\n",
      "🔍 Checking: C:\\Users\\alsaf\\Downloads\\Capstone2\\data\\data\\v2.0.3\\edf\\dev\\aaaaaayf\\s004_2003\\01_tcp_ar\\aaaaaayf_s004_t002.edf\n",
      "✅ File exists: C:\\Users\\alsaf\\Downloads\\Capstone2\\data\\data\\v2.0.3\\edf\\dev\\aaaaaayf\\s004_2003\\01_tcp_ar\\aaaaaayf_s004_t002.edf\n",
      "🔍 Checking: C:\\Users\\alsaf\\Downloads\\Capstone2\\data\\data\\v2.0.3\\edf\\dev\\aaaaaayf\\s004_2003\\01_tcp_ar\\aaaaaayf_s004_t003.edf\n",
      "✅ File exists: C:\\Users\\alsaf\\Downloads\\Capstone2\\data\\data\\v2.0.3\\edf\\dev\\aaaaaayf\\s004_2003\\01_tcp_ar\\aaaaaayf_s004_t003.edf\n",
      "🔍 Checking: C:\\Users\\alsaf\\Downloads\\Capstone2\\data\\data\\v2.0.3\\edf\\dev\\aaaaaazz\\s001_2003\\02_tcp_le\\aaaaaazz_s001_t001.edf\n",
      "✅ File exists: C:\\Users\\alsaf\\Downloads\\Capstone2\\data\\data\\v2.0.3\\edf\\dev\\aaaaaazz\\s001_2003\\02_tcp_le\\aaaaaazz_s001_t001.edf\n",
      "🔍 Checking: C:\\Users\\alsaf\\Downloads\\Capstone2\\data\\data\\v2.0.3\\edf\\dev\\aaaaaazz\\s002_2006\\02_tcp_le\\aaaaaazz_s002_t001.edf\n",
      "✅ File exists: C:\\Users\\alsaf\\Downloads\\Capstone2\\data\\data\\v2.0.3\\edf\\dev\\aaaaaazz\\s002_2006\\02_tcp_le\\aaaaaazz_s002_t001.edf\n",
      "🔍 Checking: C:\\Users\\alsaf\\Downloads\\Capstone2\\data\\data\\v2.0.3\\edf\\dev\\aaaaabep\\s001_2003\\02_tcp_le\\aaaaabep_s001_t001.edf\n",
      "✅ File exists: C:\\Users\\alsaf\\Downloads\\Capstone2\\data\\data\\v2.0.3\\edf\\dev\\aaaaabep\\s001_2003\\02_tcp_le\\aaaaabep_s001_t001.edf\n",
      "🔍 Checking: C:\\Users\\alsaf\\Downloads\\Capstone2\\data\\data\\v2.0.3\\edf\\dev\\aaaaabep\\s001_2003\\02_tcp_le\\aaaaabep_s001_t002.edf\n",
      "✅ File exists: C:\\Users\\alsaf\\Downloads\\Capstone2\\data\\data\\v2.0.3\\edf\\dev\\aaaaabep\\s001_2003\\02_tcp_le\\aaaaabep_s001_t002.edf\n",
      "🔍 Checking: C:\\Users\\alsaf\\Downloads\\Capstone2\\data\\data\\v2.0.3\\edf\\dev\\aaaaabxe\\s001_2003\\02_tcp_le\\aaaaabxe_s001_t001.edf\n",
      "✅ File exists: C:\\Users\\alsaf\\Downloads\\Capstone2\\data\\data\\v2.0.3\\edf\\dev\\aaaaabxe\\s001_2003\\02_tcp_le\\aaaaabxe_s001_t001.edf\n",
      "🔍 Checking: C:\\Users\\alsaf\\Downloads\\Capstone2\\data\\data\\v2.0.3\\edf\\dev\\aaaaabxe\\s002_2003\\01_tcp_ar\\aaaaabxe_s002_t000.edf\n",
      "✅ File exists: C:\\Users\\alsaf\\Downloads\\Capstone2\\data\\data\\v2.0.3\\edf\\dev\\aaaaabxe\\s002_2003\\01_tcp_ar\\aaaaabxe_s002_t000.edf\n",
      "🔍 Checking: C:\\Users\\alsaf\\Downloads\\Capstone2\\data\\data\\v2.0.3\\edf\\dev\\aaaaabxe\\s002_2003\\01_tcp_ar\\aaaaabxe_s002_t001.edf\n",
      "✅ File exists: C:\\Users\\alsaf\\Downloads\\Capstone2\\data\\data\\v2.0.3\\edf\\dev\\aaaaabxe\\s002_2003\\01_tcp_ar\\aaaaabxe_s002_t001.edf\n",
      "🔍 Checking: C:\\Users\\alsaf\\Downloads\\Capstone2\\data\\data\\v2.0.3\\edf\\dev\\aaaaabxe\\s002_2003\\01_tcp_ar\\aaaaabxe_s002_t002.edf\n",
      "✅ File exists: C:\\Users\\alsaf\\Downloads\\Capstone2\\data\\data\\v2.0.3\\edf\\dev\\aaaaabxe\\s002_2003\\01_tcp_ar\\aaaaabxe_s002_t002.edf\n",
      "🔍 Checking: C:\\Users\\alsaf\\Downloads\\Capstone2\\data\\data\\v2.0.3\\edf\\dev\\aaaaabxe\\s002_2003\\01_tcp_ar\\aaaaabxe_s002_t003.edf\n",
      "✅ File exists: C:\\Users\\alsaf\\Downloads\\Capstone2\\data\\data\\v2.0.3\\edf\\dev\\aaaaabxe\\s002_2003\\01_tcp_ar\\aaaaabxe_s002_t003.edf\n",
      "🔍 Checking: C:\\Users\\alsaf\\Downloads\\Capstone2\\data\\data\\v2.0.3\\edf\\dev\\aaaaaclc\\s001_2004\\02_tcp_le\\aaaaaclc_s001_t001.edf\n",
      "✅ File exists: C:\\Users\\alsaf\\Downloads\\Capstone2\\data\\data\\v2.0.3\\edf\\dev\\aaaaaclc\\s001_2004\\02_tcp_le\\aaaaaclc_s001_t001.edf\n",
      "🔍 Checking: C:\\Users\\alsaf\\Downloads\\Capstone2\\data\\data\\v2.0.3\\edf\\dev\\aaaaacqc\\s001_2004\\02_tcp_le\\aaaaacqc_s001_t000.edf\n",
      "✅ File exists: C:\\Users\\alsaf\\Downloads\\Capstone2\\data\\data\\v2.0.3\\edf\\dev\\aaaaacqc\\s001_2004\\02_tcp_le\\aaaaacqc_s001_t000.edf\n",
      "🔍 Checking: C:\\Users\\alsaf\\Downloads\\Capstone2\\data\\data\\v2.0.3\\edf\\dev\\aaaaacqc\\s001_2004\\02_tcp_le\\aaaaacqc_s001_t001.edf\n",
      "✅ File exists: C:\\Users\\alsaf\\Downloads\\Capstone2\\data\\data\\v2.0.3\\edf\\dev\\aaaaacqc\\s001_2004\\02_tcp_le\\aaaaacqc_s001_t001.edf\n",
      "🔍 Checking: C:\\Users\\alsaf\\Downloads\\Capstone2\\data\\data\\v2.0.3\\edf\\dev\\aaaaacqc\\s002_2004\\02_tcp_le\\aaaaacqc_s002_t000.edf\n",
      "✅ File exists: C:\\Users\\alsaf\\Downloads\\Capstone2\\data\\data\\v2.0.3\\edf\\dev\\aaaaacqc\\s002_2004\\02_tcp_le\\aaaaacqc_s002_t000.edf\n",
      "🔍 Checking: C:\\Users\\alsaf\\Downloads\\Capstone2\\data\\data\\v2.0.3\\edf\\dev\\aaaaacqc\\s003_2006\\02_tcp_le\\aaaaacqc_s003_t000.edf\n",
      "✅ File exists: C:\\Users\\alsaf\\Downloads\\Capstone2\\data\\data\\v2.0.3\\edf\\dev\\aaaaacqc\\s003_2006\\02_tcp_le\\aaaaacqc_s003_t000.edf\n",
      "🔍 Checking: C:\\Users\\alsaf\\Downloads\\Capstone2\\data\\data\\v2.0.3\\edf\\dev\\aaaaacqc\\s004_2006\\03_tcp_ar_a\\aaaaacqc_s004_t000.edf\n",
      "✅ File exists: C:\\Users\\alsaf\\Downloads\\Capstone2\\data\\data\\v2.0.3\\edf\\dev\\aaaaacqc\\s004_2006\\03_tcp_ar_a\\aaaaacqc_s004_t000.edf\n",
      "🔍 Checking: C:\\Users\\alsaf\\Downloads\\Capstone2\\data\\data\\v2.0.3\\edf\\dev\\aaaaacqc\\s004_2006\\03_tcp_ar_a\\aaaaacqc_s004_t001.edf\n",
      "✅ File exists: C:\\Users\\alsaf\\Downloads\\Capstone2\\data\\data\\v2.0.3\\edf\\dev\\aaaaacqc\\s004_2006\\03_tcp_ar_a\\aaaaacqc_s004_t001.edf\n",
      "🔍 Checking: C:\\Users\\alsaf\\Downloads\\Capstone2\\data\\data\\v2.0.3\\edf\\dev\\aaaaacyi\\s001_2004\\02_tcp_le\\aaaaacyi_s001_t001.edf\n",
      "✅ File exists: C:\\Users\\alsaf\\Downloads\\Capstone2\\data\\data\\v2.0.3\\edf\\dev\\aaaaacyi\\s001_2004\\02_tcp_le\\aaaaacyi_s001_t001.edf\n",
      "🔍 Checking: C:\\Users\\alsaf\\Downloads\\Capstone2\\data\\data\\v2.0.3\\edf\\dev\\aaaaadkb\\s001_2005\\02_tcp_le\\aaaaadkb_s001_t000.edf\n",
      "✅ File exists: C:\\Users\\alsaf\\Downloads\\Capstone2\\data\\data\\v2.0.3\\edf\\dev\\aaaaadkb\\s001_2005\\02_tcp_le\\aaaaadkb_s001_t000.edf\n",
      "🔍 Checking: C:\\Users\\alsaf\\Downloads\\Capstone2\\data\\data\\v2.0.3\\edf\\dev\\aaaaadkb\\s002_2012\\01_tcp_ar\\aaaaadkb_s002_t000.edf\n",
      "✅ File exists: C:\\Users\\alsaf\\Downloads\\Capstone2\\data\\data\\v2.0.3\\edf\\dev\\aaaaadkb\\s002_2012\\01_tcp_ar\\aaaaadkb_s002_t000.edf\n",
      "🔍 Checking: C:\\Users\\alsaf\\Downloads\\Capstone2\\data\\data\\v2.0.3\\edf\\dev\\aaaaadkb\\s003_2012\\01_tcp_ar\\aaaaadkb_s003_t000.edf\n",
      "✅ File exists: C:\\Users\\alsaf\\Downloads\\Capstone2\\data\\data\\v2.0.3\\edf\\dev\\aaaaadkb\\s003_2012\\01_tcp_ar\\aaaaadkb_s003_t000.edf\n",
      "🔍 Checking: C:\\Users\\alsaf\\Downloads\\Capstone2\\data\\data\\v2.0.3\\edf\\dev\\aaaaadkb\\s003_2012\\01_tcp_ar\\aaaaadkb_s003_t001.edf\n",
      "✅ File exists: C:\\Users\\alsaf\\Downloads\\Capstone2\\data\\data\\v2.0.3\\edf\\dev\\aaaaadkb\\s003_2012\\01_tcp_ar\\aaaaadkb_s003_t001.edf\n",
      "🔍 Checking: C:\\Users\\alsaf\\Downloads\\Capstone2\\data\\data\\v2.0.3\\edf\\dev\\aaaaadkb\\s003_2012\\01_tcp_ar\\aaaaadkb_s003_t002.edf\n",
      "✅ File exists: C:\\Users\\alsaf\\Downloads\\Capstone2\\data\\data\\v2.0.3\\edf\\dev\\aaaaadkb\\s003_2012\\01_tcp_ar\\aaaaadkb_s003_t002.edf\n",
      "🔍 Checking: C:\\Users\\alsaf\\Downloads\\Capstone2\\data\\data\\v2.0.3\\edf\\dev\\aaaaadkb\\s003_2012\\01_tcp_ar\\aaaaadkb_s003_t003.edf\n",
      "✅ File exists: C:\\Users\\alsaf\\Downloads\\Capstone2\\data\\data\\v2.0.3\\edf\\dev\\aaaaadkb\\s003_2012\\01_tcp_ar\\aaaaadkb_s003_t003.edf\n",
      "🔍 Checking: C:\\Users\\alsaf\\Downloads\\Capstone2\\data\\data\\v2.0.3\\edf\\dev\\aaaaadkb\\s003_2012\\01_tcp_ar\\aaaaadkb_s003_t004.edf\n",
      "✅ File exists: C:\\Users\\alsaf\\Downloads\\Capstone2\\data\\data\\v2.0.3\\edf\\dev\\aaaaadkb\\s003_2012\\01_tcp_ar\\aaaaadkb_s003_t004.edf\n",
      "🔍 Checking: C:\\Users\\alsaf\\Downloads\\Capstone2\\data\\data\\v2.0.3\\edf\\dev\\aaaaadkb\\s003_2012\\01_tcp_ar\\aaaaadkb_s003_t005.edf\n",
      "✅ File exists: C:\\Users\\alsaf\\Downloads\\Capstone2\\data\\data\\v2.0.3\\edf\\dev\\aaaaadkb\\s003_2012\\01_tcp_ar\\aaaaadkb_s003_t005.edf\n",
      "🔍 Checking: C:\\Users\\alsaf\\Downloads\\Capstone2\\data\\data\\v2.0.3\\edf\\dev\\aaaaadkb\\s003_2012\\01_tcp_ar\\aaaaadkb_s003_t006.edf\n",
      "✅ File exists: C:\\Users\\alsaf\\Downloads\\Capstone2\\data\\data\\v2.0.3\\edf\\dev\\aaaaadkb\\s003_2012\\01_tcp_ar\\aaaaadkb_s003_t006.edf\n",
      "🔍 Checking: C:\\Users\\alsaf\\Downloads\\Capstone2\\data\\data\\v2.0.3\\edf\\dev\\aaaaadkb\\s003_2012\\01_tcp_ar\\aaaaadkb_s003_t007.edf\n",
      "✅ File exists: C:\\Users\\alsaf\\Downloads\\Capstone2\\data\\data\\v2.0.3\\edf\\dev\\aaaaadkb\\s003_2012\\01_tcp_ar\\aaaaadkb_s003_t007.edf\n",
      "🔍 Checking: C:\\Users\\alsaf\\Downloads\\Capstone2\\data\\data\\v2.0.3\\edf\\dev\\aaaaadkb\\s003_2012\\01_tcp_ar\\aaaaadkb_s003_t008.edf\n",
      "✅ File exists: C:\\Users\\alsaf\\Downloads\\Capstone2\\data\\data\\v2.0.3\\edf\\dev\\aaaaadkb\\s003_2012\\01_tcp_ar\\aaaaadkb_s003_t008.edf\n",
      "🔍 Checking: C:\\Users\\alsaf\\Downloads\\Capstone2\\data\\data\\v2.0.3\\edf\\dev\\aaaaadkb\\s003_2012\\01_tcp_ar\\aaaaadkb_s003_t009.edf\n",
      "✅ File exists: C:\\Users\\alsaf\\Downloads\\Capstone2\\data\\data\\v2.0.3\\edf\\dev\\aaaaadkb\\s003_2012\\01_tcp_ar\\aaaaadkb_s003_t009.edf\n",
      "🔍 Checking: C:\\Users\\alsaf\\Downloads\\Capstone2\\data\\data\\v2.0.3\\edf\\dev\\aaaaadkb\\s003_2012\\01_tcp_ar\\aaaaadkb_s003_t010.edf\n",
      "✅ File exists: C:\\Users\\alsaf\\Downloads\\Capstone2\\data\\data\\v2.0.3\\edf\\dev\\aaaaadkb\\s003_2012\\01_tcp_ar\\aaaaadkb_s003_t010.edf\n",
      "🔍 Checking: C:\\Users\\alsaf\\Downloads\\Capstone2\\data\\data\\v2.0.3\\edf\\dev\\aaaaadkb\\s003_2012\\01_tcp_ar\\aaaaadkb_s003_t011.edf\n",
      "✅ File exists: C:\\Users\\alsaf\\Downloads\\Capstone2\\data\\data\\v2.0.3\\edf\\dev\\aaaaadkb\\s003_2012\\01_tcp_ar\\aaaaadkb_s003_t011.edf\n",
      "🔍 Checking: C:\\Users\\alsaf\\Downloads\\Capstone2\\data\\data\\v2.0.3\\edf\\dev\\aaaaadkb\\s003_2012\\01_tcp_ar\\aaaaadkb_s003_t012.edf\n",
      "✅ File exists: C:\\Users\\alsaf\\Downloads\\Capstone2\\data\\data\\v2.0.3\\edf\\dev\\aaaaadkb\\s003_2012\\01_tcp_ar\\aaaaadkb_s003_t012.edf\n",
      "🔍 Checking: C:\\Users\\alsaf\\Downloads\\Capstone2\\data\\data\\v2.0.3\\edf\\dev\\aaaaadkb\\s003_2012\\01_tcp_ar\\aaaaadkb_s003_t013.edf\n",
      "✅ File exists: C:\\Users\\alsaf\\Downloads\\Capstone2\\data\\data\\v2.0.3\\edf\\dev\\aaaaadkb\\s003_2012\\01_tcp_ar\\aaaaadkb_s003_t013.edf\n",
      "🔍 Checking: C:\\Users\\alsaf\\Downloads\\Capstone2\\data\\data\\v2.0.3\\edf\\dev\\aaaaadkb\\s004_2012\\01_tcp_ar\\aaaaadkb_s004_t000.edf\n",
      "✅ File exists: C:\\Users\\alsaf\\Downloads\\Capstone2\\data\\data\\v2.0.3\\edf\\dev\\aaaaadkb\\s004_2012\\01_tcp_ar\\aaaaadkb_s004_t000.edf\n",
      "🔍 Checking: C:\\Users\\alsaf\\Downloads\\Capstone2\\data\\data\\v2.0.3\\edf\\dev\\aaaaadkb\\s004_2012\\01_tcp_ar\\aaaaadkb_s004_t005.edf\n",
      "✅ File exists: C:\\Users\\alsaf\\Downloads\\Capstone2\\data\\data\\v2.0.3\\edf\\dev\\aaaaadkb\\s004_2012\\01_tcp_ar\\aaaaadkb_s004_t005.edf\n",
      "🔍 Checking: C:\\Users\\alsaf\\Downloads\\Capstone2\\data\\data\\v2.0.3\\edf\\dev\\aaaaadkb\\s004_2012\\01_tcp_ar\\aaaaadkb_s004_t006.edf\n",
      "✅ File exists: C:\\Users\\alsaf\\Downloads\\Capstone2\\data\\data\\v2.0.3\\edf\\dev\\aaaaadkb\\s004_2012\\01_tcp_ar\\aaaaadkb_s004_t006.edf\n",
      "🔍 Checking: C:\\Users\\alsaf\\Downloads\\Capstone2\\data\\data\\v2.0.3\\edf\\dev\\aaaaadkb\\s004_2012\\01_tcp_ar\\aaaaadkb_s004_t010.edf\n",
      "✅ File exists: C:\\Users\\alsaf\\Downloads\\Capstone2\\data\\data\\v2.0.3\\edf\\dev\\aaaaadkb\\s004_2012\\01_tcp_ar\\aaaaadkb_s004_t010.edf\n",
      "🔍 Checking: C:\\Users\\alsaf\\Downloads\\Capstone2\\data\\data\\v2.0.3\\edf\\dev\\aaaaadkb\\s004_2012\\01_tcp_ar\\aaaaadkb_s004_t011.edf\n",
      "✅ File exists: C:\\Users\\alsaf\\Downloads\\Capstone2\\data\\data\\v2.0.3\\edf\\dev\\aaaaadkb\\s004_2012\\01_tcp_ar\\aaaaadkb_s004_t011.edf\n",
      "🔍 Checking: C:\\Users\\alsaf\\Downloads\\Capstone2\\data\\data\\v2.0.3\\edf\\dev\\aaaaadkb\\s005_2012\\01_tcp_ar\\aaaaadkb_s005_t000.edf\n",
      "✅ File exists: C:\\Users\\alsaf\\Downloads\\Capstone2\\data\\data\\v2.0.3\\edf\\dev\\aaaaadkb\\s005_2012\\01_tcp_ar\\aaaaadkb_s005_t000.edf\n",
      "🔍 Checking: C:\\Users\\alsaf\\Downloads\\Capstone2\\data\\data\\v2.0.3\\edf\\dev\\aaaaadkb\\s005_2012\\01_tcp_ar\\aaaaadkb_s005_t001.edf\n",
      "✅ File exists: C:\\Users\\alsaf\\Downloads\\Capstone2\\data\\data\\v2.0.3\\edf\\dev\\aaaaadkb\\s005_2012\\01_tcp_ar\\aaaaadkb_s005_t001.edf\n",
      "🔍 Checking: C:\\Users\\alsaf\\Downloads\\Capstone2\\data\\data\\v2.0.3\\edf\\dev\\aaaaadkb\\s005_2012\\01_tcp_ar\\aaaaadkb_s005_t002.edf\n",
      "✅ File exists: C:\\Users\\alsaf\\Downloads\\Capstone2\\data\\data\\v2.0.3\\edf\\dev\\aaaaadkb\\s005_2012\\01_tcp_ar\\aaaaadkb_s005_t002.edf\n",
      "🔍 Checking: C:\\Users\\alsaf\\Downloads\\Capstone2\\data\\data\\v2.0.3\\edf\\dev\\aaaaadkb\\s005_2012\\01_tcp_ar\\aaaaadkb_s005_t003.edf\n",
      "✅ File exists: C:\\Users\\alsaf\\Downloads\\Capstone2\\data\\data\\v2.0.3\\edf\\dev\\aaaaadkb\\s005_2012\\01_tcp_ar\\aaaaadkb_s005_t003.edf\n",
      "🔍 Checking: C:\\Users\\alsaf\\Downloads\\Capstone2\\data\\data\\v2.0.3\\edf\\dev\\aaaaadkb\\s005_2012\\01_tcp_ar\\aaaaadkb_s005_t004.edf\n",
      "✅ File exists: C:\\Users\\alsaf\\Downloads\\Capstone2\\data\\data\\v2.0.3\\edf\\dev\\aaaaadkb\\s005_2012\\01_tcp_ar\\aaaaadkb_s005_t004.edf\n",
      "🔍 Checking: C:\\Users\\alsaf\\Downloads\\Capstone2\\data\\data\\v2.0.3\\edf\\dev\\aaaaadkb\\s005_2012\\01_tcp_ar\\aaaaadkb_s005_t005.edf\n",
      "✅ File exists: C:\\Users\\alsaf\\Downloads\\Capstone2\\data\\data\\v2.0.3\\edf\\dev\\aaaaadkb\\s005_2012\\01_tcp_ar\\aaaaadkb_s005_t005.edf\n",
      "🔍 Checking: C:\\Users\\alsaf\\Downloads\\Capstone2\\data\\data\\v2.0.3\\edf\\dev\\aaaaadkb\\s007_2012\\01_tcp_ar\\aaaaadkb_s007_t000.edf\n",
      "✅ File exists: C:\\Users\\alsaf\\Downloads\\Capstone2\\data\\data\\v2.0.3\\edf\\dev\\aaaaadkb\\s007_2012\\01_tcp_ar\\aaaaadkb_s007_t000.edf\n",
      "🔍 Checking: C:\\Users\\alsaf\\Downloads\\Capstone2\\data\\data\\v2.0.3\\edf\\dev\\aaaaadkb\\s007_2012\\01_tcp_ar\\aaaaadkb_s007_t001.edf\n",
      "✅ File exists: C:\\Users\\alsaf\\Downloads\\Capstone2\\data\\data\\v2.0.3\\edf\\dev\\aaaaadkb\\s007_2012\\01_tcp_ar\\aaaaadkb_s007_t001.edf\n",
      "🔍 Checking: C:\\Users\\alsaf\\Downloads\\Capstone2\\data\\data\\v2.0.3\\edf\\dev\\aaaaadkb\\s007_2012\\01_tcp_ar\\aaaaadkb_s007_t002.edf\n",
      "✅ File exists: C:\\Users\\alsaf\\Downloads\\Capstone2\\data\\data\\v2.0.3\\edf\\dev\\aaaaadkb\\s007_2012\\01_tcp_ar\\aaaaadkb_s007_t002.edf\n",
      "🔍 Checking: C:\\Users\\alsaf\\Downloads\\Capstone2\\data\\data\\v2.0.3\\edf\\dev\\aaaaadkb\\s007_2012\\01_tcp_ar\\aaaaadkb_s007_t003.edf\n",
      "✅ File exists: C:\\Users\\alsaf\\Downloads\\Capstone2\\data\\data\\v2.0.3\\edf\\dev\\aaaaadkb\\s007_2012\\01_tcp_ar\\aaaaadkb_s007_t003.edf\n",
      "🔍 Checking: C:\\Users\\alsaf\\Downloads\\Capstone2\\data\\data\\v2.0.3\\edf\\dev\\aaaaadkb\\s007_2012\\01_tcp_ar\\aaaaadkb_s007_t004.edf\n",
      "✅ File exists: C:\\Users\\alsaf\\Downloads\\Capstone2\\data\\data\\v2.0.3\\edf\\dev\\aaaaadkb\\s007_2012\\01_tcp_ar\\aaaaadkb_s007_t004.edf\n",
      "🔍 Checking: C:\\Users\\alsaf\\Downloads\\Capstone2\\data\\data\\v2.0.3\\edf\\dev\\aaaaadkb\\s008_2012\\01_tcp_ar\\aaaaadkb_s008_t000.edf\n",
      "✅ File exists: C:\\Users\\alsaf\\Downloads\\Capstone2\\data\\data\\v2.0.3\\edf\\dev\\aaaaadkb\\s008_2012\\01_tcp_ar\\aaaaadkb_s008_t000.edf\n",
      "🔍 Checking: C:\\Users\\alsaf\\Downloads\\Capstone2\\data\\data\\v2.0.3\\edf\\dev\\aaaaadkb\\s008_2012\\01_tcp_ar\\aaaaadkb_s008_t001.edf\n",
      "✅ File exists: C:\\Users\\alsaf\\Downloads\\Capstone2\\data\\data\\v2.0.3\\edf\\dev\\aaaaadkb\\s008_2012\\01_tcp_ar\\aaaaadkb_s008_t001.edf\n",
      "🔍 Checking: C:\\Users\\alsaf\\Downloads\\Capstone2\\data\\data\\v2.0.3\\edf\\dev\\aaaaadkb\\s008_2012\\01_tcp_ar\\aaaaadkb_s008_t002.edf\n",
      "✅ File exists: C:\\Users\\alsaf\\Downloads\\Capstone2\\data\\data\\v2.0.3\\edf\\dev\\aaaaadkb\\s008_2012\\01_tcp_ar\\aaaaadkb_s008_t002.edf\n",
      "🔍 Checking: C:\\Users\\alsaf\\Downloads\\Capstone2\\data\\data\\v2.0.3\\edf\\dev\\aaaaadkb\\s009_2012\\01_tcp_ar\\aaaaadkb_s009_t000.edf\n",
      "✅ File exists: C:\\Users\\alsaf\\Downloads\\Capstone2\\data\\data\\v2.0.3\\edf\\dev\\aaaaadkb\\s009_2012\\01_tcp_ar\\aaaaadkb_s009_t000.edf\n",
      "🔍 Checking: C:\\Users\\alsaf\\Downloads\\Capstone2\\data\\data\\v2.0.3\\edf\\dev\\aaaaadkb\\s009_2012\\01_tcp_ar\\aaaaadkb_s009_t002.edf\n",
      "✅ File exists: C:\\Users\\alsaf\\Downloads\\Capstone2\\data\\data\\v2.0.3\\edf\\dev\\aaaaadkb\\s009_2012\\01_tcp_ar\\aaaaadkb_s009_t002.edf\n",
      "🔍 Checking: C:\\Users\\alsaf\\Downloads\\Capstone2\\data\\data\\v2.0.3\\edf\\dev\\aaaaadkb\\s009_2012\\01_tcp_ar\\aaaaadkb_s009_t003.edf\n",
      "✅ File exists: C:\\Users\\alsaf\\Downloads\\Capstone2\\data\\data\\v2.0.3\\edf\\dev\\aaaaadkb\\s009_2012\\01_tcp_ar\\aaaaadkb_s009_t003.edf\n",
      "🔍 Checking: C:\\Users\\alsaf\\Downloads\\Capstone2\\data\\data\\v2.0.3\\edf\\dev\\aaaaadkb\\s010_2016\\01_tcp_ar\\aaaaadkb_s010_t000.edf\n",
      "✅ File exists: C:\\Users\\alsaf\\Downloads\\Capstone2\\data\\data\\v2.0.3\\edf\\dev\\aaaaadkb\\s010_2016\\01_tcp_ar\\aaaaadkb_s010_t000.edf\n",
      "🔍 Checking: C:\\Users\\alsaf\\Downloads\\Capstone2\\data\\data\\v2.0.3\\edf\\dev\\aaaaadkb\\s010_2016\\01_tcp_ar\\aaaaadkb_s010_t001.edf\n",
      "✅ File exists: C:\\Users\\alsaf\\Downloads\\Capstone2\\data\\data\\v2.0.3\\edf\\dev\\aaaaadkb\\s010_2016\\01_tcp_ar\\aaaaadkb_s010_t001.edf\n",
      "🔍 Checking: C:\\Users\\alsaf\\Downloads\\Capstone2\\data\\data\\v2.0.3\\edf\\dev\\aaaaadkj\\s001_2005\\02_tcp_le\\aaaaadkj_s001_t000.edf\n",
      "✅ File exists: C:\\Users\\alsaf\\Downloads\\Capstone2\\data\\data\\v2.0.3\\edf\\dev\\aaaaadkj\\s001_2005\\02_tcp_le\\aaaaadkj_s001_t000.edf\n",
      "🔍 Checking: C:\\Users\\alsaf\\Downloads\\Capstone2\\data\\data\\v2.0.3\\edf\\dev\\aaaaadkj\\s002_2007\\02_tcp_le\\aaaaadkj_s002_t000.edf\n",
      "✅ File exists: C:\\Users\\alsaf\\Downloads\\Capstone2\\data\\data\\v2.0.3\\edf\\dev\\aaaaadkj\\s002_2007\\02_tcp_le\\aaaaadkj_s002_t000.edf\n",
      "🔍 Checking: C:\\Users\\alsaf\\Downloads\\Capstone2\\data\\data\\v2.0.3\\edf\\dev\\aaaaadkj\\s003_2007\\03_tcp_ar_a\\aaaaadkj_s003_t000.edf\n",
      "✅ File exists: C:\\Users\\alsaf\\Downloads\\Capstone2\\data\\data\\v2.0.3\\edf\\dev\\aaaaadkj\\s003_2007\\03_tcp_ar_a\\aaaaadkj_s003_t000.edf\n",
      "🔍 Checking: C:\\Users\\alsaf\\Downloads\\Capstone2\\data\\data\\v2.0.3\\edf\\dev\\aaaaadkj\\s003_2007\\03_tcp_ar_a\\aaaaadkj_s003_t001.edf\n",
      "✅ File exists: C:\\Users\\alsaf\\Downloads\\Capstone2\\data\\data\\v2.0.3\\edf\\dev\\aaaaadkj\\s003_2007\\03_tcp_ar_a\\aaaaadkj_s003_t001.edf\n",
      "🔍 Checking: C:\\Users\\alsaf\\Downloads\\Capstone2\\data\\data\\v2.0.3\\edf\\dev\\aaaaadkj\\s003_2007\\03_tcp_ar_a\\aaaaadkj_s003_t002.edf\n",
      "✅ File exists: C:\\Users\\alsaf\\Downloads\\Capstone2\\data\\data\\v2.0.3\\edf\\dev\\aaaaadkj\\s003_2007\\03_tcp_ar_a\\aaaaadkj_s003_t002.edf\n",
      "🔍 Checking: C:\\Users\\alsaf\\Downloads\\Capstone2\\data\\data\\v2.0.3\\edf\\dev\\aaaaadkj\\s003_2007\\03_tcp_ar_a\\aaaaadkj_s003_t003.edf\n",
      "✅ File exists: C:\\Users\\alsaf\\Downloads\\Capstone2\\data\\data\\v2.0.3\\edf\\dev\\aaaaadkj\\s003_2007\\03_tcp_ar_a\\aaaaadkj_s003_t003.edf\n",
      "🔍 Checking: C:\\Users\\alsaf\\Downloads\\Capstone2\\data\\data\\v2.0.3\\edf\\dev\\aaaaadkj\\s004_2007\\03_tcp_ar_a\\aaaaadkj_s004_t000.edf\n",
      "✅ File exists: C:\\Users\\alsaf\\Downloads\\Capstone2\\data\\data\\v2.0.3\\edf\\dev\\aaaaadkj\\s004_2007\\03_tcp_ar_a\\aaaaadkj_s004_t000.edf\n",
      "🔍 Checking: C:\\Users\\alsaf\\Downloads\\Capstone2\\data\\data\\v2.0.3\\edf\\dev\\aaaaadkj\\s004_2007\\03_tcp_ar_a\\aaaaadkj_s004_t001.edf\n",
      "✅ File exists: C:\\Users\\alsaf\\Downloads\\Capstone2\\data\\data\\v2.0.3\\edf\\dev\\aaaaadkj\\s004_2007\\03_tcp_ar_a\\aaaaadkj_s004_t001.edf\n",
      "🔍 Checking: C:\\Users\\alsaf\\Downloads\\Capstone2\\data\\data\\v2.0.3\\edf\\dev\\aaaaaewf\\s001_2006\\02_tcp_le\\aaaaaewf_s001_t001.edf\n",
      "✅ File exists: C:\\Users\\alsaf\\Downloads\\Capstone2\\data\\data\\v2.0.3\\edf\\dev\\aaaaaewf\\s001_2006\\02_tcp_le\\aaaaaewf_s001_t001.edf\n",
      "🔍 Checking: C:\\Users\\alsaf\\Downloads\\Capstone2\\data\\data\\v2.0.3\\edf\\dev\\aaaaaewf\\s002_2012\\01_tcp_ar\\aaaaaewf_s002_t000.edf\n",
      "✅ File exists: C:\\Users\\alsaf\\Downloads\\Capstone2\\data\\data\\v2.0.3\\edf\\dev\\aaaaaewf\\s002_2012\\01_tcp_ar\\aaaaaewf_s002_t000.edf\n",
      "🔍 Checking: C:\\Users\\alsaf\\Downloads\\Capstone2\\data\\data\\v2.0.3\\edf\\dev\\aaaaaewf\\s003_2015\\01_tcp_ar\\aaaaaewf_s003_t000.edf\n",
      "✅ File exists: C:\\Users\\alsaf\\Downloads\\Capstone2\\data\\data\\v2.0.3\\edf\\dev\\aaaaaewf\\s003_2015\\01_tcp_ar\\aaaaaewf_s003_t000.edf\n",
      "🔍 Checking: C:\\Users\\alsaf\\Downloads\\Capstone2\\data\\data\\v2.0.3\\edf\\dev\\aaaaaexe\\s001_2006\\02_tcp_le\\aaaaaexe_s001_t001.edf\n",
      "✅ File exists: C:\\Users\\alsaf\\Downloads\\Capstone2\\data\\data\\v2.0.3\\edf\\dev\\aaaaaexe\\s001_2006\\02_tcp_le\\aaaaaexe_s001_t001.edf\n",
      "🔍 Checking: C:\\Users\\alsaf\\Downloads\\Capstone2\\data\\data\\v2.0.3\\edf\\dev\\aaaaafjv\\s001_2006\\02_tcp_le\\aaaaafjv_s001_t001.edf\n",
      "✅ File exists: C:\\Users\\alsaf\\Downloads\\Capstone2\\data\\data\\v2.0.3\\edf\\dev\\aaaaafjv\\s001_2006\\02_tcp_le\\aaaaafjv_s001_t001.edf\n",
      "🔍 Checking: C:\\Users\\alsaf\\Downloads\\Capstone2\\data\\data\\v2.0.3\\edf\\dev\\aaaaagbf\\s001_2007\\02_tcp_le\\aaaaagbf_s001_t000.edf\n",
      "✅ File exists: C:\\Users\\alsaf\\Downloads\\Capstone2\\data\\data\\v2.0.3\\edf\\dev\\aaaaagbf\\s001_2007\\02_tcp_le\\aaaaagbf_s001_t000.edf\n",
      "🔍 Checking: C:\\Users\\alsaf\\Downloads\\Capstone2\\data\\data\\v2.0.3\\edf\\dev\\aaaaagbf\\s002_2007\\02_tcp_le\\aaaaagbf_s002_t000.edf\n",
      "✅ File exists: C:\\Users\\alsaf\\Downloads\\Capstone2\\data\\data\\v2.0.3\\edf\\dev\\aaaaagbf\\s002_2007\\02_tcp_le\\aaaaagbf_s002_t000.edf\n",
      "🔍 Checking: C:\\Users\\alsaf\\Downloads\\Capstone2\\data\\data\\v2.0.3\\edf\\dev\\aaaaagbf\\s003_2007\\03_tcp_ar_a\\aaaaagbf_s003_t000.edf\n",
      "✅ File exists: C:\\Users\\alsaf\\Downloads\\Capstone2\\data\\data\\v2.0.3\\edf\\dev\\aaaaagbf\\s003_2007\\03_tcp_ar_a\\aaaaagbf_s003_t000.edf\n",
      "🔍 Checking: C:\\Users\\alsaf\\Downloads\\Capstone2\\data\\data\\v2.0.3\\edf\\dev\\aaaaagbf\\s003_2007\\03_tcp_ar_a\\aaaaagbf_s003_t001.edf\n",
      "✅ File exists: C:\\Users\\alsaf\\Downloads\\Capstone2\\data\\data\\v2.0.3\\edf\\dev\\aaaaagbf\\s003_2007\\03_tcp_ar_a\\aaaaagbf_s003_t001.edf\n",
      "🔍 Checking: C:\\Users\\alsaf\\Downloads\\Capstone2\\data\\data\\v2.0.3\\edf\\dev\\aaaaagbf\\s003_2007\\03_tcp_ar_a\\aaaaagbf_s003_t002.edf\n",
      "✅ File exists: C:\\Users\\alsaf\\Downloads\\Capstone2\\data\\data\\v2.0.3\\edf\\dev\\aaaaagbf\\s003_2007\\03_tcp_ar_a\\aaaaagbf_s003_t002.edf\n",
      "🔍 Checking: C:\\Users\\alsaf\\Downloads\\Capstone2\\data\\data\\v2.0.3\\edf\\dev\\aaaaagbf\\s003_2007\\03_tcp_ar_a\\aaaaagbf_s003_t003.edf\n",
      "✅ File exists: C:\\Users\\alsaf\\Downloads\\Capstone2\\data\\data\\v2.0.3\\edf\\dev\\aaaaagbf\\s003_2007\\03_tcp_ar_a\\aaaaagbf_s003_t003.edf\n",
      "🔍 Checking: C:\\Users\\alsaf\\Downloads\\Capstone2\\data\\data\\v2.0.3\\edf\\dev\\aaaaagbf\\s003_2007\\03_tcp_ar_a\\aaaaagbf_s003_t004.edf\n",
      "✅ File exists: C:\\Users\\alsaf\\Downloads\\Capstone2\\data\\data\\v2.0.3\\edf\\dev\\aaaaagbf\\s003_2007\\03_tcp_ar_a\\aaaaagbf_s003_t004.edf\n",
      "🔍 Checking: C:\\Users\\alsaf\\Downloads\\Capstone2\\data\\data\\v2.0.3\\edf\\dev\\aaaaagbf\\s004_2015\\01_tcp_ar\\aaaaagbf_s004_t001.edf\n",
      "✅ File exists: C:\\Users\\alsaf\\Downloads\\Capstone2\\data\\data\\v2.0.3\\edf\\dev\\aaaaagbf\\s004_2015\\01_tcp_ar\\aaaaagbf_s004_t001.edf\n",
      "🔍 Checking: C:\\Users\\alsaf\\Downloads\\Capstone2\\data\\data\\v2.0.3\\edf\\dev\\aaaaagbf\\s005_2016\\01_tcp_ar\\aaaaagbf_s005_t000.edf\n",
      "✅ File exists: C:\\Users\\alsaf\\Downloads\\Capstone2\\data\\data\\v2.0.3\\edf\\dev\\aaaaagbf\\s005_2016\\01_tcp_ar\\aaaaagbf_s005_t000.edf\n",
      "🔍 Checking: C:\\Users\\alsaf\\Downloads\\Capstone2\\data\\data\\v2.0.3\\edf\\dev\\aaaaagbf\\s005_2016\\01_tcp_ar\\aaaaagbf_s005_t001.edf\n",
      "✅ File exists: C:\\Users\\alsaf\\Downloads\\Capstone2\\data\\data\\v2.0.3\\edf\\dev\\aaaaagbf\\s005_2016\\01_tcp_ar\\aaaaagbf_s005_t001.edf\n",
      "🔍 Checking: C:\\Users\\alsaf\\Downloads\\Capstone2\\data\\data\\v2.0.3\\edf\\dev\\aaaaagbf\\s005_2016\\01_tcp_ar\\aaaaagbf_s005_t002.edf\n",
      "✅ File exists: C:\\Users\\alsaf\\Downloads\\Capstone2\\data\\data\\v2.0.3\\edf\\dev\\aaaaagbf\\s005_2016\\01_tcp_ar\\aaaaagbf_s005_t002.edf\n",
      "🔍 Checking: C:\\Users\\alsaf\\Downloads\\Capstone2\\data\\data\\v2.0.3\\edf\\dev\\aaaaagbf\\s005_2016\\01_tcp_ar\\aaaaagbf_s005_t003.edf\n",
      "✅ File exists: C:\\Users\\alsaf\\Downloads\\Capstone2\\data\\data\\v2.0.3\\edf\\dev\\aaaaagbf\\s005_2016\\01_tcp_ar\\aaaaagbf_s005_t003.edf\n",
      "🔍 Checking: C:\\Users\\alsaf\\Downloads\\Capstone2\\data\\data\\v2.0.3\\edf\\dev\\aaaaagbf\\s005_2016\\01_tcp_ar\\aaaaagbf_s005_t004.edf\n",
      "✅ File exists: C:\\Users\\alsaf\\Downloads\\Capstone2\\data\\data\\v2.0.3\\edf\\dev\\aaaaagbf\\s005_2016\\01_tcp_ar\\aaaaagbf_s005_t004.edf\n",
      "🔍 Checking: C:\\Users\\alsaf\\Downloads\\Capstone2\\data\\data\\v2.0.3\\edf\\dev\\aaaaagbf\\s006_2016\\01_tcp_ar\\aaaaagbf_s006_t000.edf\n",
      "✅ File exists: C:\\Users\\alsaf\\Downloads\\Capstone2\\data\\data\\v2.0.3\\edf\\dev\\aaaaagbf\\s006_2016\\01_tcp_ar\\aaaaagbf_s006_t000.edf\n",
      "🔍 Checking: C:\\Users\\alsaf\\Downloads\\Capstone2\\data\\data\\v2.0.3\\edf\\dev\\aaaaagbf\\s006_2016\\01_tcp_ar\\aaaaagbf_s006_t001.edf\n",
      "✅ File exists: C:\\Users\\alsaf\\Downloads\\Capstone2\\data\\data\\v2.0.3\\edf\\dev\\aaaaagbf\\s006_2016\\01_tcp_ar\\aaaaagbf_s006_t001.edf\n",
      "🔍 Checking: C:\\Users\\alsaf\\Downloads\\Capstone2\\data\\data\\v2.0.3\\edf\\dev\\aaaaagbf\\s006_2016\\01_tcp_ar\\aaaaagbf_s006_t002.edf\n",
      "✅ File exists: C:\\Users\\alsaf\\Downloads\\Capstone2\\data\\data\\v2.0.3\\edf\\dev\\aaaaagbf\\s006_2016\\01_tcp_ar\\aaaaagbf_s006_t002.edf\n",
      "🔍 Checking: C:\\Users\\alsaf\\Downloads\\Capstone2\\data\\data\\v2.0.3\\edf\\dev\\aaaaagbf\\s006_2016\\01_tcp_ar\\aaaaagbf_s006_t003.edf\n",
      "✅ File exists: C:\\Users\\alsaf\\Downloads\\Capstone2\\data\\data\\v2.0.3\\edf\\dev\\aaaaagbf\\s006_2016\\01_tcp_ar\\aaaaagbf_s006_t003.edf\n",
      "🔍 Checking: C:\\Users\\alsaf\\Downloads\\Capstone2\\data\\data\\v2.0.3\\edf\\dev\\aaaaagbf\\s006_2016\\01_tcp_ar\\aaaaagbf_s006_t004.edf\n",
      "✅ File exists: C:\\Users\\alsaf\\Downloads\\Capstone2\\data\\data\\v2.0.3\\edf\\dev\\aaaaagbf\\s006_2016\\01_tcp_ar\\aaaaagbf_s006_t004.edf\n",
      "🔍 Checking: C:\\Users\\alsaf\\Downloads\\Capstone2\\data\\data\\v2.0.3\\edf\\dev\\aaaaagbf\\s006_2016\\01_tcp_ar\\aaaaagbf_s006_t005.edf\n",
      "✅ File exists: C:\\Users\\alsaf\\Downloads\\Capstone2\\data\\data\\v2.0.3\\edf\\dev\\aaaaagbf\\s006_2016\\01_tcp_ar\\aaaaagbf_s006_t005.edf\n",
      "🔍 Checking: C:\\Users\\alsaf\\Downloads\\Capstone2\\data\\data\\v2.0.3\\edf\\dev\\aaaaagbf\\s006_2016\\01_tcp_ar\\aaaaagbf_s006_t006.edf\n",
      "✅ File exists: C:\\Users\\alsaf\\Downloads\\Capstone2\\data\\data\\v2.0.3\\edf\\dev\\aaaaagbf\\s006_2016\\01_tcp_ar\\aaaaagbf_s006_t006.edf\n",
      "🔍 Checking: C:\\Users\\alsaf\\Downloads\\Capstone2\\data\\data\\v2.0.3\\edf\\dev\\aaaaagbf\\s006_2016\\01_tcp_ar\\aaaaagbf_s006_t007.edf\n",
      "✅ File exists: C:\\Users\\alsaf\\Downloads\\Capstone2\\data\\data\\v2.0.3\\edf\\dev\\aaaaagbf\\s006_2016\\01_tcp_ar\\aaaaagbf_s006_t007.edf\n",
      "🔍 Checking: C:\\Users\\alsaf\\Downloads\\Capstone2\\data\\data\\v2.0.3\\edf\\dev\\aaaaagbf\\s006_2016\\01_tcp_ar\\aaaaagbf_s006_t008.edf\n",
      "✅ File exists: C:\\Users\\alsaf\\Downloads\\Capstone2\\data\\data\\v2.0.3\\edf\\dev\\aaaaagbf\\s006_2016\\01_tcp_ar\\aaaaagbf_s006_t008.edf\n",
      "🔍 Checking: C:\\Users\\alsaf\\Downloads\\Capstone2\\data\\data\\v2.0.3\\edf\\dev\\aaaaagbf\\s006_2016\\01_tcp_ar\\aaaaagbf_s006_t009.edf\n",
      "✅ File exists: C:\\Users\\alsaf\\Downloads\\Capstone2\\data\\data\\v2.0.3\\edf\\dev\\aaaaagbf\\s006_2016\\01_tcp_ar\\aaaaagbf_s006_t009.edf\n",
      "🔍 Checking: C:\\Users\\alsaf\\Downloads\\Capstone2\\data\\data\\v2.0.3\\edf\\dev\\aaaaagbf\\s006_2016\\01_tcp_ar\\aaaaagbf_s006_t010.edf\n",
      "✅ File exists: C:\\Users\\alsaf\\Downloads\\Capstone2\\data\\data\\v2.0.3\\edf\\dev\\aaaaagbf\\s006_2016\\01_tcp_ar\\aaaaagbf_s006_t010.edf\n",
      "🔍 Checking: C:\\Users\\alsaf\\Downloads\\Capstone2\\data\\data\\v2.0.3\\edf\\dev\\aaaaagbf\\s006_2016\\01_tcp_ar\\aaaaagbf_s006_t011.edf\n",
      "✅ File exists: C:\\Users\\alsaf\\Downloads\\Capstone2\\data\\data\\v2.0.3\\edf\\dev\\aaaaagbf\\s006_2016\\01_tcp_ar\\aaaaagbf_s006_t011.edf\n",
      "🔍 Checking: C:\\Users\\alsaf\\Downloads\\Capstone2\\data\\data\\v2.0.3\\edf\\dev\\aaaaagbf\\s006_2016\\01_tcp_ar\\aaaaagbf_s006_t012.edf\n",
      "✅ File exists: C:\\Users\\alsaf\\Downloads\\Capstone2\\data\\data\\v2.0.3\\edf\\dev\\aaaaagbf\\s006_2016\\01_tcp_ar\\aaaaagbf_s006_t012.edf\n",
      "🔍 Checking: C:\\Users\\alsaf\\Downloads\\Capstone2\\data\\data\\v2.0.3\\edf\\dev\\aaaaagbf\\s006_2016\\01_tcp_ar\\aaaaagbf_s006_t013.edf\n",
      "✅ File exists: C:\\Users\\alsaf\\Downloads\\Capstone2\\data\\data\\v2.0.3\\edf\\dev\\aaaaagbf\\s006_2016\\01_tcp_ar\\aaaaagbf_s006_t013.edf\n",
      "🔍 Checking: C:\\Users\\alsaf\\Downloads\\Capstone2\\data\\data\\v2.0.3\\edf\\dev\\aaaaagbf\\s006_2016\\01_tcp_ar\\aaaaagbf_s006_t014.edf\n",
      "✅ File exists: C:\\Users\\alsaf\\Downloads\\Capstone2\\data\\data\\v2.0.3\\edf\\dev\\aaaaagbf\\s006_2016\\01_tcp_ar\\aaaaagbf_s006_t014.edf\n",
      "🔍 Checking: C:\\Users\\alsaf\\Downloads\\Capstone2\\data\\data\\v2.0.3\\edf\\dev\\aaaaagbf\\s006_2016\\01_tcp_ar\\aaaaagbf_s006_t015.edf\n",
      "✅ File exists: C:\\Users\\alsaf\\Downloads\\Capstone2\\data\\data\\v2.0.3\\edf\\dev\\aaaaagbf\\s006_2016\\01_tcp_ar\\aaaaagbf_s006_t015.edf\n",
      "🔍 Checking: C:\\Users\\alsaf\\Downloads\\Capstone2\\data\\data\\v2.0.3\\edf\\dev\\aaaaagbf\\s006_2016\\01_tcp_ar\\aaaaagbf_s006_t016.edf\n",
      "✅ File exists: C:\\Users\\alsaf\\Downloads\\Capstone2\\data\\data\\v2.0.3\\edf\\dev\\aaaaagbf\\s006_2016\\01_tcp_ar\\aaaaagbf_s006_t016.edf\n",
      "🔍 Checking: C:\\Users\\alsaf\\Downloads\\Capstone2\\data\\data\\v2.0.3\\edf\\dev\\aaaaagbf\\s006_2016\\01_tcp_ar\\aaaaagbf_s006_t017.edf\n",
      "✅ File exists: C:\\Users\\alsaf\\Downloads\\Capstone2\\data\\data\\v2.0.3\\edf\\dev\\aaaaagbf\\s006_2016\\01_tcp_ar\\aaaaagbf_s006_t017.edf\n",
      "🔍 Checking: C:\\Users\\alsaf\\Downloads\\Capstone2\\data\\data\\v2.0.3\\edf\\dev\\aaaaagbf\\s006_2016\\01_tcp_ar\\aaaaagbf_s006_t018.edf\n",
      "✅ File exists: C:\\Users\\alsaf\\Downloads\\Capstone2\\data\\data\\v2.0.3\\edf\\dev\\aaaaagbf\\s006_2016\\01_tcp_ar\\aaaaagbf_s006_t018.edf\n",
      "🔍 Checking: C:\\Users\\alsaf\\Downloads\\Capstone2\\data\\data\\v2.0.3\\edf\\dev\\aaaaagbf\\s006_2016\\01_tcp_ar\\aaaaagbf_s006_t019.edf\n",
      "✅ File exists: C:\\Users\\alsaf\\Downloads\\Capstone2\\data\\data\\v2.0.3\\edf\\dev\\aaaaagbf\\s006_2016\\01_tcp_ar\\aaaaagbf_s006_t019.edf\n",
      "🔍 Checking: C:\\Users\\alsaf\\Downloads\\Capstone2\\data\\data\\v2.0.3\\edf\\dev\\aaaaagbf\\s006_2016\\01_tcp_ar\\aaaaagbf_s006_t020.edf\n",
      "✅ File exists: C:\\Users\\alsaf\\Downloads\\Capstone2\\data\\data\\v2.0.3\\edf\\dev\\aaaaagbf\\s006_2016\\01_tcp_ar\\aaaaagbf_s006_t020.edf\n",
      "🔍 Checking: C:\\Users\\alsaf\\Downloads\\Capstone2\\data\\data\\v2.0.3\\edf\\dev\\aaaaagbf\\s006_2016\\01_tcp_ar\\aaaaagbf_s006_t021.edf\n",
      "✅ File exists: C:\\Users\\alsaf\\Downloads\\Capstone2\\data\\data\\v2.0.3\\edf\\dev\\aaaaagbf\\s006_2016\\01_tcp_ar\\aaaaagbf_s006_t021.edf\n",
      "🔍 Checking: C:\\Users\\alsaf\\Downloads\\Capstone2\\data\\data\\v2.0.3\\edf\\dev\\aaaaagbf\\s006_2016\\01_tcp_ar\\aaaaagbf_s006_t022.edf\n",
      "✅ File exists: C:\\Users\\alsaf\\Downloads\\Capstone2\\data\\data\\v2.0.3\\edf\\dev\\aaaaagbf\\s006_2016\\01_tcp_ar\\aaaaagbf_s006_t022.edf\n",
      "🔍 Checking: C:\\Users\\alsaf\\Downloads\\Capstone2\\data\\data\\v2.0.3\\edf\\dev\\aaaaagbf\\s006_2016\\01_tcp_ar\\aaaaagbf_s006_t023.edf\n",
      "✅ File exists: C:\\Users\\alsaf\\Downloads\\Capstone2\\data\\data\\v2.0.3\\edf\\dev\\aaaaagbf\\s006_2016\\01_tcp_ar\\aaaaagbf_s006_t023.edf\n",
      "🔍 Checking: C:\\Users\\alsaf\\Downloads\\Capstone2\\data\\data\\v2.0.3\\edf\\dev\\aaaaagbf\\s006_2016\\01_tcp_ar\\aaaaagbf_s006_t024.edf\n",
      "✅ File exists: C:\\Users\\alsaf\\Downloads\\Capstone2\\data\\data\\v2.0.3\\edf\\dev\\aaaaagbf\\s006_2016\\01_tcp_ar\\aaaaagbf_s006_t024.edf\n",
      "🔍 Checking: C:\\Users\\alsaf\\Downloads\\Capstone2\\data\\data\\v2.0.3\\edf\\dev\\aaaaagbf\\s006_2016\\01_tcp_ar\\aaaaagbf_s006_t025.edf\n",
      "✅ File exists: C:\\Users\\alsaf\\Downloads\\Capstone2\\data\\data\\v2.0.3\\edf\\dev\\aaaaagbf\\s006_2016\\01_tcp_ar\\aaaaagbf_s006_t025.edf\n",
      "🔍 Checking: C:\\Users\\alsaf\\Downloads\\Capstone2\\data\\data\\v2.0.3\\edf\\dev\\aaaaagbf\\s006_2016\\01_tcp_ar\\aaaaagbf_s006_t026.edf\n",
      "✅ File exists: C:\\Users\\alsaf\\Downloads\\Capstone2\\data\\data\\v2.0.3\\edf\\dev\\aaaaagbf\\s006_2016\\01_tcp_ar\\aaaaagbf_s006_t026.edf\n",
      "🔍 Checking: C:\\Users\\alsaf\\Downloads\\Capstone2\\data\\data\\v2.0.3\\edf\\dev\\aaaaagbf\\s007_2016\\01_tcp_ar\\aaaaagbf_s007_t000.edf\n",
      "✅ File exists: C:\\Users\\alsaf\\Downloads\\Capstone2\\data\\data\\v2.0.3\\edf\\dev\\aaaaagbf\\s007_2016\\01_tcp_ar\\aaaaagbf_s007_t000.edf\n",
      "🔍 Checking: C:\\Users\\alsaf\\Downloads\\Capstone2\\data\\data\\v2.0.3\\edf\\dev\\aaaaagbf\\s007_2016\\01_tcp_ar\\aaaaagbf_s007_t001.edf\n",
      "✅ File exists: C:\\Users\\alsaf\\Downloads\\Capstone2\\data\\data\\v2.0.3\\edf\\dev\\aaaaagbf\\s007_2016\\01_tcp_ar\\aaaaagbf_s007_t001.edf\n",
      "🔍 Checking: C:\\Users\\alsaf\\Downloads\\Capstone2\\data\\data\\v2.0.3\\edf\\dev\\aaaaagbf\\s007_2016\\01_tcp_ar\\aaaaagbf_s007_t002.edf\n",
      "✅ File exists: C:\\Users\\alsaf\\Downloads\\Capstone2\\data\\data\\v2.0.3\\edf\\dev\\aaaaagbf\\s007_2016\\01_tcp_ar\\aaaaagbf_s007_t002.edf\n",
      "🔍 Checking: C:\\Users\\alsaf\\Downloads\\Capstone2\\data\\data\\v2.0.3\\edf\\dev\\aaaaagbf\\s007_2016\\01_tcp_ar\\aaaaagbf_s007_t003.edf\n",
      "✅ File exists: C:\\Users\\alsaf\\Downloads\\Capstone2\\data\\data\\v2.0.3\\edf\\dev\\aaaaagbf\\s007_2016\\01_tcp_ar\\aaaaagbf_s007_t003.edf\n",
      "🔍 Checking: C:\\Users\\alsaf\\Downloads\\Capstone2\\data\\data\\v2.0.3\\edf\\dev\\aaaaagbf\\s007_2016\\01_tcp_ar\\aaaaagbf_s007_t004.edf\n",
      "✅ File exists: C:\\Users\\alsaf\\Downloads\\Capstone2\\data\\data\\v2.0.3\\edf\\dev\\aaaaagbf\\s007_2016\\01_tcp_ar\\aaaaagbf_s007_t004.edf\n",
      "🔍 Checking: C:\\Users\\alsaf\\Downloads\\Capstone2\\data\\data\\v2.0.3\\edf\\dev\\aaaaagbf\\s007_2016\\01_tcp_ar\\aaaaagbf_s007_t005.edf\n",
      "✅ File exists: C:\\Users\\alsaf\\Downloads\\Capstone2\\data\\data\\v2.0.3\\edf\\dev\\aaaaagbf\\s007_2016\\01_tcp_ar\\aaaaagbf_s007_t005.edf\n",
      "🔍 Checking: C:\\Users\\alsaf\\Downloads\\Capstone2\\data\\data\\v2.0.3\\edf\\dev\\aaaaagbf\\s007_2016\\01_tcp_ar\\aaaaagbf_s007_t006.edf\n",
      "✅ File exists: C:\\Users\\alsaf\\Downloads\\Capstone2\\data\\data\\v2.0.3\\edf\\dev\\aaaaagbf\\s007_2016\\01_tcp_ar\\aaaaagbf_s007_t006.edf\n",
      "🔍 Checking: C:\\Users\\alsaf\\Downloads\\Capstone2\\data\\data\\v2.0.3\\edf\\dev\\aaaaagbf\\s007_2016\\01_tcp_ar\\aaaaagbf_s007_t007.edf\n",
      "✅ File exists: C:\\Users\\alsaf\\Downloads\\Capstone2\\data\\data\\v2.0.3\\edf\\dev\\aaaaagbf\\s007_2016\\01_tcp_ar\\aaaaagbf_s007_t007.edf\n",
      "🔍 Checking: C:\\Users\\alsaf\\Downloads\\Capstone2\\data\\data\\v2.0.3\\edf\\dev\\aaaaagbf\\s007_2016\\01_tcp_ar\\aaaaagbf_s007_t008.edf\n",
      "✅ File exists: C:\\Users\\alsaf\\Downloads\\Capstone2\\data\\data\\v2.0.3\\edf\\dev\\aaaaagbf\\s007_2016\\01_tcp_ar\\aaaaagbf_s007_t008.edf\n",
      "🔍 Checking: C:\\Users\\alsaf\\Downloads\\Capstone2\\data\\data\\v2.0.3\\edf\\dev\\aaaaagbf\\s007_2016\\01_tcp_ar\\aaaaagbf_s007_t009.edf\n",
      "✅ File exists: C:\\Users\\alsaf\\Downloads\\Capstone2\\data\\data\\v2.0.3\\edf\\dev\\aaaaagbf\\s007_2016\\01_tcp_ar\\aaaaagbf_s007_t009.edf\n",
      "🔍 Checking: C:\\Users\\alsaf\\Downloads\\Capstone2\\data\\data\\v2.0.3\\edf\\dev\\aaaaagbf\\s007_2016\\01_tcp_ar\\aaaaagbf_s007_t010.edf\n",
      "✅ File exists: C:\\Users\\alsaf\\Downloads\\Capstone2\\data\\data\\v2.0.3\\edf\\dev\\aaaaagbf\\s007_2016\\01_tcp_ar\\aaaaagbf_s007_t010.edf\n",
      "🔍 Checking: C:\\Users\\alsaf\\Downloads\\Capstone2\\data\\data\\v2.0.3\\edf\\dev\\aaaaagbf\\s007_2016\\01_tcp_ar\\aaaaagbf_s007_t011.edf\n",
      "✅ File exists: C:\\Users\\alsaf\\Downloads\\Capstone2\\data\\data\\v2.0.3\\edf\\dev\\aaaaagbf\\s007_2016\\01_tcp_ar\\aaaaagbf_s007_t011.edf\n",
      "🔍 Checking: C:\\Users\\alsaf\\Downloads\\Capstone2\\data\\data\\v2.0.3\\edf\\dev\\aaaaagbf\\s007_2016\\01_tcp_ar\\aaaaagbf_s007_t012.edf\n",
      "✅ File exists: C:\\Users\\alsaf\\Downloads\\Capstone2\\data\\data\\v2.0.3\\edf\\dev\\aaaaagbf\\s007_2016\\01_tcp_ar\\aaaaagbf_s007_t012.edf\n",
      "🔍 Checking: C:\\Users\\alsaf\\Downloads\\Capstone2\\data\\data\\v2.0.3\\edf\\dev\\aaaaagbf\\s007_2016\\01_tcp_ar\\aaaaagbf_s007_t013.edf\n",
      "✅ File exists: C:\\Users\\alsaf\\Downloads\\Capstone2\\data\\data\\v2.0.3\\edf\\dev\\aaaaagbf\\s007_2016\\01_tcp_ar\\aaaaagbf_s007_t013.edf\n",
      "🔍 Checking: C:\\Users\\alsaf\\Downloads\\Capstone2\\data\\data\\v2.0.3\\edf\\dev\\aaaaagbf\\s007_2016\\01_tcp_ar\\aaaaagbf_s007_t014.edf\n",
      "✅ File exists: C:\\Users\\alsaf\\Downloads\\Capstone2\\data\\data\\v2.0.3\\edf\\dev\\aaaaagbf\\s007_2016\\01_tcp_ar\\aaaaagbf_s007_t014.edf\n",
      "🔍 Checking: C:\\Users\\alsaf\\Downloads\\Capstone2\\data\\data\\v2.0.3\\edf\\dev\\aaaaagbf\\s007_2016\\01_tcp_ar\\aaaaagbf_s007_t015.edf\n",
      "✅ File exists: C:\\Users\\alsaf\\Downloads\\Capstone2\\data\\data\\v2.0.3\\edf\\dev\\aaaaagbf\\s007_2016\\01_tcp_ar\\aaaaagbf_s007_t015.edf\n",
      "🔍 Checking: C:\\Users\\alsaf\\Downloads\\Capstone2\\data\\data\\v2.0.3\\edf\\dev\\aaaaagbf\\s007_2016\\01_tcp_ar\\aaaaagbf_s007_t016.edf\n",
      "✅ File exists: C:\\Users\\alsaf\\Downloads\\Capstone2\\data\\data\\v2.0.3\\edf\\dev\\aaaaagbf\\s007_2016\\01_tcp_ar\\aaaaagbf_s007_t016.edf\n",
      "🔍 Checking: C:\\Users\\alsaf\\Downloads\\Capstone2\\data\\data\\v2.0.3\\edf\\dev\\aaaaagbf\\s007_2016\\01_tcp_ar\\aaaaagbf_s007_t017.edf\n",
      "✅ File exists: C:\\Users\\alsaf\\Downloads\\Capstone2\\data\\data\\v2.0.3\\edf\\dev\\aaaaagbf\\s007_2016\\01_tcp_ar\\aaaaagbf_s007_t017.edf\n",
      "🔍 Checking: C:\\Users\\alsaf\\Downloads\\Capstone2\\data\\data\\v2.0.3\\edf\\dev\\aaaaagbf\\s007_2016\\01_tcp_ar\\aaaaagbf_s007_t018.edf\n",
      "✅ File exists: C:\\Users\\alsaf\\Downloads\\Capstone2\\data\\data\\v2.0.3\\edf\\dev\\aaaaagbf\\s007_2016\\01_tcp_ar\\aaaaagbf_s007_t018.edf\n",
      "🔍 Checking: C:\\Users\\alsaf\\Downloads\\Capstone2\\data\\data\\v2.0.3\\edf\\dev\\aaaaagbf\\s007_2016\\01_tcp_ar\\aaaaagbf_s007_t019.edf\n",
      "✅ File exists: C:\\Users\\alsaf\\Downloads\\Capstone2\\data\\data\\v2.0.3\\edf\\dev\\aaaaagbf\\s007_2016\\01_tcp_ar\\aaaaagbf_s007_t019.edf\n",
      "🔍 Checking: C:\\Users\\alsaf\\Downloads\\Capstone2\\data\\data\\v2.0.3\\edf\\dev\\aaaaagbf\\s007_2016\\01_tcp_ar\\aaaaagbf_s007_t020.edf\n",
      "✅ File exists: C:\\Users\\alsaf\\Downloads\\Capstone2\\data\\data\\v2.0.3\\edf\\dev\\aaaaagbf\\s007_2016\\01_tcp_ar\\aaaaagbf_s007_t020.edf\n",
      "🔍 Checking: C:\\Users\\alsaf\\Downloads\\Capstone2\\data\\data\\v2.0.3\\edf\\dev\\aaaaagbf\\s007_2016\\01_tcp_ar\\aaaaagbf_s007_t021.edf\n",
      "✅ File exists: C:\\Users\\alsaf\\Downloads\\Capstone2\\data\\data\\v2.0.3\\edf\\dev\\aaaaagbf\\s007_2016\\01_tcp_ar\\aaaaagbf_s007_t021.edf\n",
      "🔍 Checking: C:\\Users\\alsaf\\Downloads\\Capstone2\\data\\data\\v2.0.3\\edf\\dev\\aaaaagbf\\s007_2016\\01_tcp_ar\\aaaaagbf_s007_t022.edf\n",
      "✅ File exists: C:\\Users\\alsaf\\Downloads\\Capstone2\\data\\data\\v2.0.3\\edf\\dev\\aaaaagbf\\s007_2016\\01_tcp_ar\\aaaaagbf_s007_t022.edf\n",
      "🔍 Checking: C:\\Users\\alsaf\\Downloads\\Capstone2\\data\\data\\v2.0.3\\edf\\dev\\aaaaagbf\\s007_2016\\01_tcp_ar\\aaaaagbf_s007_t023.edf\n",
      "✅ File exists: C:\\Users\\alsaf\\Downloads\\Capstone2\\data\\data\\v2.0.3\\edf\\dev\\aaaaagbf\\s007_2016\\01_tcp_ar\\aaaaagbf_s007_t023.edf\n",
      "🔍 Checking: C:\\Users\\alsaf\\Downloads\\Capstone2\\data\\data\\v2.0.3\\edf\\dev\\aaaaagbf\\s007_2016\\01_tcp_ar\\aaaaagbf_s007_t024.edf\n",
      "✅ File exists: C:\\Users\\alsaf\\Downloads\\Capstone2\\data\\data\\v2.0.3\\edf\\dev\\aaaaagbf\\s007_2016\\01_tcp_ar\\aaaaagbf_s007_t024.edf\n",
      "🔍 Checking: C:\\Users\\alsaf\\Downloads\\Capstone2\\data\\data\\v2.0.3\\edf\\dev\\aaaaagbf\\s007_2016\\01_tcp_ar\\aaaaagbf_s007_t025.edf\n",
      "✅ File exists: C:\\Users\\alsaf\\Downloads\\Capstone2\\data\\data\\v2.0.3\\edf\\dev\\aaaaagbf\\s007_2016\\01_tcp_ar\\aaaaagbf_s007_t025.edf\n",
      "🔍 Checking: C:\\Users\\alsaf\\Downloads\\Capstone2\\data\\data\\v2.0.3\\edf\\dev\\aaaaagbf\\s007_2016\\01_tcp_ar\\aaaaagbf_s007_t026.edf\n",
      "✅ File exists: C:\\Users\\alsaf\\Downloads\\Capstone2\\data\\data\\v2.0.3\\edf\\dev\\aaaaagbf\\s007_2016\\01_tcp_ar\\aaaaagbf_s007_t026.edf\n",
      "🔍 Checking: C:\\Users\\alsaf\\Downloads\\Capstone2\\data\\data\\v2.0.3\\edf\\dev\\aaaaagbf\\s007_2016\\01_tcp_ar\\aaaaagbf_s007_t027.edf\n",
      "✅ File exists: C:\\Users\\alsaf\\Downloads\\Capstone2\\data\\data\\v2.0.3\\edf\\dev\\aaaaagbf\\s007_2016\\01_tcp_ar\\aaaaagbf_s007_t027.edf\n",
      "🔍 Checking: C:\\Users\\alsaf\\Downloads\\Capstone2\\data\\data\\v2.0.3\\edf\\dev\\aaaaagbf\\s007_2016\\01_tcp_ar\\aaaaagbf_s007_t028.edf\n",
      "✅ File exists: C:\\Users\\alsaf\\Downloads\\Capstone2\\data\\data\\v2.0.3\\edf\\dev\\aaaaagbf\\s007_2016\\01_tcp_ar\\aaaaagbf_s007_t028.edf\n",
      "🔍 Checking: C:\\Users\\alsaf\\Downloads\\Capstone2\\data\\data\\v2.0.3\\edf\\dev\\aaaaagbf\\s007_2016\\01_tcp_ar\\aaaaagbf_s007_t029.edf\n",
      "✅ File exists: C:\\Users\\alsaf\\Downloads\\Capstone2\\data\\data\\v2.0.3\\edf\\dev\\aaaaagbf\\s007_2016\\01_tcp_ar\\aaaaagbf_s007_t029.edf\n",
      "🔍 Checking: C:\\Users\\alsaf\\Downloads\\Capstone2\\data\\data\\v2.0.3\\edf\\dev\\aaaaagbf\\s007_2016\\01_tcp_ar\\aaaaagbf_s007_t030.edf\n",
      "✅ File exists: C:\\Users\\alsaf\\Downloads\\Capstone2\\data\\data\\v2.0.3\\edf\\dev\\aaaaagbf\\s007_2016\\01_tcp_ar\\aaaaagbf_s007_t030.edf\n",
      "🔍 Checking: C:\\Users\\alsaf\\Downloads\\Capstone2\\data\\data\\v2.0.3\\edf\\dev\\aaaaagbf\\s007_2016\\01_tcp_ar\\aaaaagbf_s007_t031.edf\n",
      "✅ File exists: C:\\Users\\alsaf\\Downloads\\Capstone2\\data\\data\\v2.0.3\\edf\\dev\\aaaaagbf\\s007_2016\\01_tcp_ar\\aaaaagbf_s007_t031.edf\n",
      "🔍 Checking: C:\\Users\\alsaf\\Downloads\\Capstone2\\data\\data\\v2.0.3\\edf\\dev\\aaaaagbf\\s008_2016\\01_tcp_ar\\aaaaagbf_s008_t000.edf\n",
      "✅ File exists: C:\\Users\\alsaf\\Downloads\\Capstone2\\data\\data\\v2.0.3\\edf\\dev\\aaaaagbf\\s008_2016\\01_tcp_ar\\aaaaagbf_s008_t000.edf\n",
      "🔍 Checking: C:\\Users\\alsaf\\Downloads\\Capstone2\\data\\data\\v2.0.3\\edf\\dev\\aaaaagbf\\s008_2016\\01_tcp_ar\\aaaaagbf_s008_t001.edf\n",
      "✅ File exists: C:\\Users\\alsaf\\Downloads\\Capstone2\\data\\data\\v2.0.3\\edf\\dev\\aaaaagbf\\s008_2016\\01_tcp_ar\\aaaaagbf_s008_t001.edf\n",
      "🔍 Checking: C:\\Users\\alsaf\\Downloads\\Capstone2\\data\\data\\v2.0.3\\edf\\dev\\aaaaagbf\\s008_2016\\01_tcp_ar\\aaaaagbf_s008_t002.edf\n",
      "✅ File exists: C:\\Users\\alsaf\\Downloads\\Capstone2\\data\\data\\v2.0.3\\edf\\dev\\aaaaagbf\\s008_2016\\01_tcp_ar\\aaaaagbf_s008_t002.edf\n",
      "🔍 Checking: C:\\Users\\alsaf\\Downloads\\Capstone2\\data\\data\\v2.0.3\\edf\\dev\\aaaaagbf\\s008_2016\\01_tcp_ar\\aaaaagbf_s008_t003.edf\n",
      "✅ File exists: C:\\Users\\alsaf\\Downloads\\Capstone2\\data\\data\\v2.0.3\\edf\\dev\\aaaaagbf\\s008_2016\\01_tcp_ar\\aaaaagbf_s008_t003.edf\n",
      "🔍 Checking: C:\\Users\\alsaf\\Downloads\\Capstone2\\data\\data\\v2.0.3\\edf\\dev\\aaaaagbf\\s008_2016\\01_tcp_ar\\aaaaagbf_s008_t004.edf\n",
      "✅ File exists: C:\\Users\\alsaf\\Downloads\\Capstone2\\data\\data\\v2.0.3\\edf\\dev\\aaaaagbf\\s008_2016\\01_tcp_ar\\aaaaagbf_s008_t004.edf\n",
      "🔍 Checking: C:\\Users\\alsaf\\Downloads\\Capstone2\\data\\data\\v2.0.3\\edf\\dev\\aaaaagbf\\s008_2016\\01_tcp_ar\\aaaaagbf_s008_t005.edf\n",
      "✅ File exists: C:\\Users\\alsaf\\Downloads\\Capstone2\\data\\data\\v2.0.3\\edf\\dev\\aaaaagbf\\s008_2016\\01_tcp_ar\\aaaaagbf_s008_t005.edf\n",
      "🔍 Checking: C:\\Users\\alsaf\\Downloads\\Capstone2\\data\\data\\v2.0.3\\edf\\dev\\aaaaagbf\\s008_2016\\01_tcp_ar\\aaaaagbf_s008_t006.edf\n",
      "✅ File exists: C:\\Users\\alsaf\\Downloads\\Capstone2\\data\\data\\v2.0.3\\edf\\dev\\aaaaagbf\\s008_2016\\01_tcp_ar\\aaaaagbf_s008_t006.edf\n",
      "🔍 Checking: C:\\Users\\alsaf\\Downloads\\Capstone2\\data\\data\\v2.0.3\\edf\\dev\\aaaaagbf\\s008_2016\\01_tcp_ar\\aaaaagbf_s008_t007.edf\n",
      "✅ File exists: C:\\Users\\alsaf\\Downloads\\Capstone2\\data\\data\\v2.0.3\\edf\\dev\\aaaaagbf\\s008_2016\\01_tcp_ar\\aaaaagbf_s008_t007.edf\n",
      "🔍 Checking: C:\\Users\\alsaf\\Downloads\\Capstone2\\data\\data\\v2.0.3\\edf\\dev\\aaaaagbf\\s008_2016\\01_tcp_ar\\aaaaagbf_s008_t008.edf\n",
      "✅ File exists: C:\\Users\\alsaf\\Downloads\\Capstone2\\data\\data\\v2.0.3\\edf\\dev\\aaaaagbf\\s008_2016\\01_tcp_ar\\aaaaagbf_s008_t008.edf\n",
      "🔍 Checking: C:\\Users\\alsaf\\Downloads\\Capstone2\\data\\data\\v2.0.3\\edf\\dev\\aaaaagbf\\s008_2016\\01_tcp_ar\\aaaaagbf_s008_t009.edf\n",
      "✅ File exists: C:\\Users\\alsaf\\Downloads\\Capstone2\\data\\data\\v2.0.3\\edf\\dev\\aaaaagbf\\s008_2016\\01_tcp_ar\\aaaaagbf_s008_t009.edf\n",
      "🔍 Checking: C:\\Users\\alsaf\\Downloads\\Capstone2\\data\\data\\v2.0.3\\edf\\dev\\aaaaagbf\\s008_2016\\01_tcp_ar\\aaaaagbf_s008_t010.edf\n",
      "✅ File exists: C:\\Users\\alsaf\\Downloads\\Capstone2\\data\\data\\v2.0.3\\edf\\dev\\aaaaagbf\\s008_2016\\01_tcp_ar\\aaaaagbf_s008_t010.edf\n",
      "🔍 Checking: C:\\Users\\alsaf\\Downloads\\Capstone2\\data\\data\\v2.0.3\\edf\\dev\\aaaaagbf\\s008_2016\\01_tcp_ar\\aaaaagbf_s008_t011.edf\n",
      "✅ File exists: C:\\Users\\alsaf\\Downloads\\Capstone2\\data\\data\\v2.0.3\\edf\\dev\\aaaaagbf\\s008_2016\\01_tcp_ar\\aaaaagbf_s008_t011.edf\n",
      "🔍 Checking: C:\\Users\\alsaf\\Downloads\\Capstone2\\data\\data\\v2.0.3\\edf\\dev\\aaaaagbf\\s008_2016\\01_tcp_ar\\aaaaagbf_s008_t012.edf\n",
      "✅ File exists: C:\\Users\\alsaf\\Downloads\\Capstone2\\data\\data\\v2.0.3\\edf\\dev\\aaaaagbf\\s008_2016\\01_tcp_ar\\aaaaagbf_s008_t012.edf\n",
      "🔍 Checking: C:\\Users\\alsaf\\Downloads\\Capstone2\\data\\data\\v2.0.3\\edf\\dev\\aaaaagbf\\s008_2016\\01_tcp_ar\\aaaaagbf_s008_t013.edf\n",
      "✅ File exists: C:\\Users\\alsaf\\Downloads\\Capstone2\\data\\data\\v2.0.3\\edf\\dev\\aaaaagbf\\s008_2016\\01_tcp_ar\\aaaaagbf_s008_t013.edf\n",
      "🔍 Checking: C:\\Users\\alsaf\\Downloads\\Capstone2\\data\\data\\v2.0.3\\edf\\dev\\aaaaagbf\\s008_2016\\01_tcp_ar\\aaaaagbf_s008_t014.edf\n",
      "✅ File exists: C:\\Users\\alsaf\\Downloads\\Capstone2\\data\\data\\v2.0.3\\edf\\dev\\aaaaagbf\\s008_2016\\01_tcp_ar\\aaaaagbf_s008_t014.edf\n",
      "🔍 Checking: C:\\Users\\alsaf\\Downloads\\Capstone2\\data\\data\\v2.0.3\\edf\\dev\\aaaaagbf\\s008_2016\\01_tcp_ar\\aaaaagbf_s008_t015.edf\n",
      "✅ File exists: C:\\Users\\alsaf\\Downloads\\Capstone2\\data\\data\\v2.0.3\\edf\\dev\\aaaaagbf\\s008_2016\\01_tcp_ar\\aaaaagbf_s008_t015.edf\n",
      "🔍 Checking: C:\\Users\\alsaf\\Downloads\\Capstone2\\data\\data\\v2.0.3\\edf\\dev\\aaaaagbf\\s008_2016\\01_tcp_ar\\aaaaagbf_s008_t016.edf\n",
      "✅ File exists: C:\\Users\\alsaf\\Downloads\\Capstone2\\data\\data\\v2.0.3\\edf\\dev\\aaaaagbf\\s008_2016\\01_tcp_ar\\aaaaagbf_s008_t016.edf\n",
      "🔍 Checking: C:\\Users\\alsaf\\Downloads\\Capstone2\\data\\data\\v2.0.3\\edf\\dev\\aaaaagbf\\s008_2016\\01_tcp_ar\\aaaaagbf_s008_t017.edf\n",
      "✅ File exists: C:\\Users\\alsaf\\Downloads\\Capstone2\\data\\data\\v2.0.3\\edf\\dev\\aaaaagbf\\s008_2016\\01_tcp_ar\\aaaaagbf_s008_t017.edf\n",
      "🔍 Checking: C:\\Users\\alsaf\\Downloads\\Capstone2\\data\\data\\v2.0.3\\edf\\dev\\aaaaagbf\\s008_2016\\01_tcp_ar\\aaaaagbf_s008_t018.edf\n",
      "✅ File exists: C:\\Users\\alsaf\\Downloads\\Capstone2\\data\\data\\v2.0.3\\edf\\dev\\aaaaagbf\\s008_2016\\01_tcp_ar\\aaaaagbf_s008_t018.edf\n",
      "🔍 Checking: C:\\Users\\alsaf\\Downloads\\Capstone2\\data\\data\\v2.0.3\\edf\\dev\\aaaaagbf\\s008_2016\\01_tcp_ar\\aaaaagbf_s008_t019.edf\n",
      "✅ File exists: C:\\Users\\alsaf\\Downloads\\Capstone2\\data\\data\\v2.0.3\\edf\\dev\\aaaaagbf\\s008_2016\\01_tcp_ar\\aaaaagbf_s008_t019.edf\n",
      "🔍 Checking: C:\\Users\\alsaf\\Downloads\\Capstone2\\data\\data\\v2.0.3\\edf\\dev\\aaaaagbf\\s008_2016\\01_tcp_ar\\aaaaagbf_s008_t020.edf\n",
      "✅ File exists: C:\\Users\\alsaf\\Downloads\\Capstone2\\data\\data\\v2.0.3\\edf\\dev\\aaaaagbf\\s008_2016\\01_tcp_ar\\aaaaagbf_s008_t020.edf\n",
      "🔍 Checking: C:\\Users\\alsaf\\Downloads\\Capstone2\\data\\data\\v2.0.3\\edf\\dev\\aaaaagbf\\s008_2016\\01_tcp_ar\\aaaaagbf_s008_t021.edf\n",
      "✅ File exists: C:\\Users\\alsaf\\Downloads\\Capstone2\\data\\data\\v2.0.3\\edf\\dev\\aaaaagbf\\s008_2016\\01_tcp_ar\\aaaaagbf_s008_t021.edf\n",
      "🔍 Checking: C:\\Users\\alsaf\\Downloads\\Capstone2\\data\\data\\v2.0.3\\edf\\dev\\aaaaagbf\\s008_2016\\01_tcp_ar\\aaaaagbf_s008_t022.edf\n",
      "✅ File exists: C:\\Users\\alsaf\\Downloads\\Capstone2\\data\\data\\v2.0.3\\edf\\dev\\aaaaagbf\\s008_2016\\01_tcp_ar\\aaaaagbf_s008_t022.edf\n",
      "🔍 Checking: C:\\Users\\alsaf\\Downloads\\Capstone2\\data\\data\\v2.0.3\\edf\\dev\\aaaaagbf\\s008_2016\\01_tcp_ar\\aaaaagbf_s008_t023.edf\n",
      "✅ File exists: C:\\Users\\alsaf\\Downloads\\Capstone2\\data\\data\\v2.0.3\\edf\\dev\\aaaaagbf\\s008_2016\\01_tcp_ar\\aaaaagbf_s008_t023.edf\n",
      "🔍 Checking: C:\\Users\\alsaf\\Downloads\\Capstone2\\data\\data\\v2.0.3\\edf\\dev\\aaaaagbf\\s008_2016\\01_tcp_ar\\aaaaagbf_s008_t024.edf\n",
      "✅ File exists: C:\\Users\\alsaf\\Downloads\\Capstone2\\data\\data\\v2.0.3\\edf\\dev\\aaaaagbf\\s008_2016\\01_tcp_ar\\aaaaagbf_s008_t024.edf\n",
      "🔍 Checking: C:\\Users\\alsaf\\Downloads\\Capstone2\\data\\data\\v2.0.3\\edf\\dev\\aaaaagbf\\s008_2016\\01_tcp_ar\\aaaaagbf_s008_t025.edf\n",
      "✅ File exists: C:\\Users\\alsaf\\Downloads\\Capstone2\\data\\data\\v2.0.3\\edf\\dev\\aaaaagbf\\s008_2016\\01_tcp_ar\\aaaaagbf_s008_t025.edf\n",
      "🔍 Checking: C:\\Users\\alsaf\\Downloads\\Capstone2\\data\\data\\v2.0.3\\edf\\dev\\aaaaagbf\\s008_2016\\01_tcp_ar\\aaaaagbf_s008_t026.edf\n",
      "✅ File exists: C:\\Users\\alsaf\\Downloads\\Capstone2\\data\\data\\v2.0.3\\edf\\dev\\aaaaagbf\\s008_2016\\01_tcp_ar\\aaaaagbf_s008_t026.edf\n",
      "🔍 Checking: C:\\Users\\alsaf\\Downloads\\Capstone2\\data\\data\\v2.0.3\\edf\\dev\\aaaaagbf\\s009_2016\\01_tcp_ar\\aaaaagbf_s009_t000.edf\n",
      "✅ File exists: C:\\Users\\alsaf\\Downloads\\Capstone2\\data\\data\\v2.0.3\\edf\\dev\\aaaaagbf\\s009_2016\\01_tcp_ar\\aaaaagbf_s009_t000.edf\n",
      "🔍 Checking: C:\\Users\\alsaf\\Downloads\\Capstone2\\data\\data\\v2.0.3\\edf\\dev\\aaaaagbf\\s009_2016\\01_tcp_ar\\aaaaagbf_s009_t001.edf\n",
      "✅ File exists: C:\\Users\\alsaf\\Downloads\\Capstone2\\data\\data\\v2.0.3\\edf\\dev\\aaaaagbf\\s009_2016\\01_tcp_ar\\aaaaagbf_s009_t001.edf\n",
      "🔍 Checking: C:\\Users\\alsaf\\Downloads\\Capstone2\\data\\data\\v2.0.3\\edf\\dev\\aaaaagbf\\s009_2016\\01_tcp_ar\\aaaaagbf_s009_t002.edf\n",
      "✅ File exists: C:\\Users\\alsaf\\Downloads\\Capstone2\\data\\data\\v2.0.3\\edf\\dev\\aaaaagbf\\s009_2016\\01_tcp_ar\\aaaaagbf_s009_t002.edf\n",
      "🔍 Checking: C:\\Users\\alsaf\\Downloads\\Capstone2\\data\\data\\v2.0.3\\edf\\dev\\aaaaagbf\\s009_2016\\01_tcp_ar\\aaaaagbf_s009_t003.edf\n",
      "✅ File exists: C:\\Users\\alsaf\\Downloads\\Capstone2\\data\\data\\v2.0.3\\edf\\dev\\aaaaagbf\\s009_2016\\01_tcp_ar\\aaaaagbf_s009_t003.edf\n",
      "🔍 Checking: C:\\Users\\alsaf\\Downloads\\Capstone2\\data\\data\\v2.0.3\\edf\\dev\\aaaaagbf\\s009_2016\\01_tcp_ar\\aaaaagbf_s009_t004.edf\n",
      "✅ File exists: C:\\Users\\alsaf\\Downloads\\Capstone2\\data\\data\\v2.0.3\\edf\\dev\\aaaaagbf\\s009_2016\\01_tcp_ar\\aaaaagbf_s009_t004.edf\n",
      "🔍 Checking: C:\\Users\\alsaf\\Downloads\\Capstone2\\data\\data\\v2.0.3\\edf\\dev\\aaaaagbf\\s009_2016\\01_tcp_ar\\aaaaagbf_s009_t005.edf\n",
      "✅ File exists: C:\\Users\\alsaf\\Downloads\\Capstone2\\data\\data\\v2.0.3\\edf\\dev\\aaaaagbf\\s009_2016\\01_tcp_ar\\aaaaagbf_s009_t005.edf\n",
      "🔍 Checking: C:\\Users\\alsaf\\Downloads\\Capstone2\\data\\data\\v2.0.3\\edf\\dev\\aaaaagbf\\s009_2016\\01_tcp_ar\\aaaaagbf_s009_t006.edf\n",
      "✅ File exists: C:\\Users\\alsaf\\Downloads\\Capstone2\\data\\data\\v2.0.3\\edf\\dev\\aaaaagbf\\s009_2016\\01_tcp_ar\\aaaaagbf_s009_t006.edf\n",
      "🔍 Checking: C:\\Users\\alsaf\\Downloads\\Capstone2\\data\\data\\v2.0.3\\edf\\dev\\aaaaagbf\\s009_2016\\01_tcp_ar\\aaaaagbf_s009_t007.edf\n",
      "✅ File exists: C:\\Users\\alsaf\\Downloads\\Capstone2\\data\\data\\v2.0.3\\edf\\dev\\aaaaagbf\\s009_2016\\01_tcp_ar\\aaaaagbf_s009_t007.edf\n",
      "🔍 Checking: C:\\Users\\alsaf\\Downloads\\Capstone2\\data\\data\\v2.0.3\\edf\\dev\\aaaaagbf\\s009_2016\\01_tcp_ar\\aaaaagbf_s009_t008.edf\n",
      "✅ File exists: C:\\Users\\alsaf\\Downloads\\Capstone2\\data\\data\\v2.0.3\\edf\\dev\\aaaaagbf\\s009_2016\\01_tcp_ar\\aaaaagbf_s009_t008.edf\n",
      "🔍 Checking: C:\\Users\\alsaf\\Downloads\\Capstone2\\data\\data\\v2.0.3\\edf\\dev\\aaaaagbf\\s009_2016\\01_tcp_ar\\aaaaagbf_s009_t009.edf\n",
      "✅ File exists: C:\\Users\\alsaf\\Downloads\\Capstone2\\data\\data\\v2.0.3\\edf\\dev\\aaaaagbf\\s009_2016\\01_tcp_ar\\aaaaagbf_s009_t009.edf\n",
      "🔍 Checking: C:\\Users\\alsaf\\Downloads\\Capstone2\\data\\data\\v2.0.3\\edf\\dev\\aaaaagbf\\s009_2016\\01_tcp_ar\\aaaaagbf_s009_t010.edf\n",
      "✅ File exists: C:\\Users\\alsaf\\Downloads\\Capstone2\\data\\data\\v2.0.3\\edf\\dev\\aaaaagbf\\s009_2016\\01_tcp_ar\\aaaaagbf_s009_t010.edf\n",
      "🔍 Checking: C:\\Users\\alsaf\\Downloads\\Capstone2\\data\\data\\v2.0.3\\edf\\dev\\aaaaagbf\\s009_2016\\01_tcp_ar\\aaaaagbf_s009_t011.edf\n",
      "✅ File exists: C:\\Users\\alsaf\\Downloads\\Capstone2\\data\\data\\v2.0.3\\edf\\dev\\aaaaagbf\\s009_2016\\01_tcp_ar\\aaaaagbf_s009_t011.edf\n",
      "🔍 Checking: C:\\Users\\alsaf\\Downloads\\Capstone2\\data\\data\\v2.0.3\\edf\\dev\\aaaaagbf\\s009_2016\\01_tcp_ar\\aaaaagbf_s009_t012.edf\n",
      "✅ File exists: C:\\Users\\alsaf\\Downloads\\Capstone2\\data\\data\\v2.0.3\\edf\\dev\\aaaaagbf\\s009_2016\\01_tcp_ar\\aaaaagbf_s009_t012.edf\n",
      "🔍 Checking: C:\\Users\\alsaf\\Downloads\\Capstone2\\data\\data\\v2.0.3\\edf\\dev\\aaaaagbf\\s009_2016\\01_tcp_ar\\aaaaagbf_s009_t013.edf\n",
      "✅ File exists: C:\\Users\\alsaf\\Downloads\\Capstone2\\data\\data\\v2.0.3\\edf\\dev\\aaaaagbf\\s009_2016\\01_tcp_ar\\aaaaagbf_s009_t013.edf\n",
      "🔍 Checking: C:\\Users\\alsaf\\Downloads\\Capstone2\\data\\data\\v2.0.3\\edf\\dev\\aaaaagbf\\s009_2016\\01_tcp_ar\\aaaaagbf_s009_t014.edf\n",
      "✅ File exists: C:\\Users\\alsaf\\Downloads\\Capstone2\\data\\data\\v2.0.3\\edf\\dev\\aaaaagbf\\s009_2016\\01_tcp_ar\\aaaaagbf_s009_t014.edf\n",
      "🔍 Checking: C:\\Users\\alsaf\\Downloads\\Capstone2\\data\\data\\v2.0.3\\edf\\dev\\aaaaagbf\\s009_2016\\01_tcp_ar\\aaaaagbf_s009_t015.edf\n",
      "✅ File exists: C:\\Users\\alsaf\\Downloads\\Capstone2\\data\\data\\v2.0.3\\edf\\dev\\aaaaagbf\\s009_2016\\01_tcp_ar\\aaaaagbf_s009_t015.edf\n",
      "🔍 Checking: C:\\Users\\alsaf\\Downloads\\Capstone2\\data\\data\\v2.0.3\\edf\\dev\\aaaaagbf\\s009_2016\\01_tcp_ar\\aaaaagbf_s009_t016.edf\n",
      "✅ File exists: C:\\Users\\alsaf\\Downloads\\Capstone2\\data\\data\\v2.0.3\\edf\\dev\\aaaaagbf\\s009_2016\\01_tcp_ar\\aaaaagbf_s009_t016.edf\n",
      "🔍 Checking: C:\\Users\\alsaf\\Downloads\\Capstone2\\data\\data\\v2.0.3\\edf\\dev\\aaaaagbf\\s009_2016\\01_tcp_ar\\aaaaagbf_s009_t017.edf\n",
      "✅ File exists: C:\\Users\\alsaf\\Downloads\\Capstone2\\data\\data\\v2.0.3\\edf\\dev\\aaaaagbf\\s009_2016\\01_tcp_ar\\aaaaagbf_s009_t017.edf\n",
      "🔍 Checking: C:\\Users\\alsaf\\Downloads\\Capstone2\\data\\data\\v2.0.3\\edf\\dev\\aaaaagbf\\s009_2016\\01_tcp_ar\\aaaaagbf_s009_t018.edf\n",
      "✅ File exists: C:\\Users\\alsaf\\Downloads\\Capstone2\\data\\data\\v2.0.3\\edf\\dev\\aaaaagbf\\s009_2016\\01_tcp_ar\\aaaaagbf_s009_t018.edf\n",
      "🔍 Checking: C:\\Users\\alsaf\\Downloads\\Capstone2\\data\\data\\v2.0.3\\edf\\dev\\aaaaagbf\\s009_2016\\01_tcp_ar\\aaaaagbf_s009_t019.edf\n",
      "✅ File exists: C:\\Users\\alsaf\\Downloads\\Capstone2\\data\\data\\v2.0.3\\edf\\dev\\aaaaagbf\\s009_2016\\01_tcp_ar\\aaaaagbf_s009_t019.edf\n",
      "🔍 Checking: C:\\Users\\alsaf\\Downloads\\Capstone2\\data\\data\\v2.0.3\\edf\\dev\\aaaaagbf\\s009_2016\\01_tcp_ar\\aaaaagbf_s009_t020.edf\n",
      "✅ File exists: C:\\Users\\alsaf\\Downloads\\Capstone2\\data\\data\\v2.0.3\\edf\\dev\\aaaaagbf\\s009_2016\\01_tcp_ar\\aaaaagbf_s009_t020.edf\n",
      "🔍 Checking: C:\\Users\\alsaf\\Downloads\\Capstone2\\data\\data\\v2.0.3\\edf\\dev\\aaaaagbf\\s009_2016\\01_tcp_ar\\aaaaagbf_s009_t021.edf\n",
      "✅ File exists: C:\\Users\\alsaf\\Downloads\\Capstone2\\data\\data\\v2.0.3\\edf\\dev\\aaaaagbf\\s009_2016\\01_tcp_ar\\aaaaagbf_s009_t021.edf\n",
      "🔍 Checking: C:\\Users\\alsaf\\Downloads\\Capstone2\\data\\data\\v2.0.3\\edf\\dev\\aaaaagbf\\s009_2016\\01_tcp_ar\\aaaaagbf_s009_t022.edf\n",
      "✅ File exists: C:\\Users\\alsaf\\Downloads\\Capstone2\\data\\data\\v2.0.3\\edf\\dev\\aaaaagbf\\s009_2016\\01_tcp_ar\\aaaaagbf_s009_t022.edf\n",
      "🔍 Checking: C:\\Users\\alsaf\\Downloads\\Capstone2\\data\\data\\v2.0.3\\edf\\dev\\aaaaagbf\\s009_2016\\01_tcp_ar\\aaaaagbf_s009_t023.edf\n",
      "✅ File exists: C:\\Users\\alsaf\\Downloads\\Capstone2\\data\\data\\v2.0.3\\edf\\dev\\aaaaagbf\\s009_2016\\01_tcp_ar\\aaaaagbf_s009_t023.edf\n",
      "🔍 Checking: C:\\Users\\alsaf\\Downloads\\Capstone2\\data\\data\\v2.0.3\\edf\\dev\\aaaaagbf\\s009_2016\\01_tcp_ar\\aaaaagbf_s009_t024.edf\n",
      "✅ File exists: C:\\Users\\alsaf\\Downloads\\Capstone2\\data\\data\\v2.0.3\\edf\\dev\\aaaaagbf\\s009_2016\\01_tcp_ar\\aaaaagbf_s009_t024.edf\n",
      "🔍 Checking: C:\\Users\\alsaf\\Downloads\\Capstone2\\data\\data\\v2.0.3\\edf\\dev\\aaaaagbf\\s009_2016\\01_tcp_ar\\aaaaagbf_s009_t025.edf\n",
      "✅ File exists: C:\\Users\\alsaf\\Downloads\\Capstone2\\data\\data\\v2.0.3\\edf\\dev\\aaaaagbf\\s009_2016\\01_tcp_ar\\aaaaagbf_s009_t025.edf\n",
      "🔍 Checking: C:\\Users\\alsaf\\Downloads\\Capstone2\\data\\data\\v2.0.3\\edf\\dev\\aaaaagbf\\s009_2016\\01_tcp_ar\\aaaaagbf_s009_t026.edf\n",
      "✅ File exists: C:\\Users\\alsaf\\Downloads\\Capstone2\\data\\data\\v2.0.3\\edf\\dev\\aaaaagbf\\s009_2016\\01_tcp_ar\\aaaaagbf_s009_t026.edf\n",
      "🔍 Checking: C:\\Users\\alsaf\\Downloads\\Capstone2\\data\\data\\v2.0.3\\edf\\dev\\aaaaagbf\\s009_2016\\01_tcp_ar\\aaaaagbf_s009_t027.edf\n",
      "✅ File exists: C:\\Users\\alsaf\\Downloads\\Capstone2\\data\\data\\v2.0.3\\edf\\dev\\aaaaagbf\\s009_2016\\01_tcp_ar\\aaaaagbf_s009_t027.edf\n",
      "🔍 Checking: C:\\Users\\alsaf\\Downloads\\Capstone2\\data\\data\\v2.0.3\\edf\\dev\\aaaaagbf\\s009_2016\\01_tcp_ar\\aaaaagbf_s009_t028.edf\n",
      "✅ File exists: C:\\Users\\alsaf\\Downloads\\Capstone2\\data\\data\\v2.0.3\\edf\\dev\\aaaaagbf\\s009_2016\\01_tcp_ar\\aaaaagbf_s009_t028.edf\n",
      "🔍 Checking: C:\\Users\\alsaf\\Downloads\\Capstone2\\data\\data\\v2.0.3\\edf\\dev\\aaaaagbf\\s009_2016\\01_tcp_ar\\aaaaagbf_s009_t029.edf\n",
      "✅ File exists: C:\\Users\\alsaf\\Downloads\\Capstone2\\data\\data\\v2.0.3\\edf\\dev\\aaaaagbf\\s009_2016\\01_tcp_ar\\aaaaagbf_s009_t029.edf\n",
      "🔍 Checking: C:\\Users\\alsaf\\Downloads\\Capstone2\\data\\data\\v2.0.3\\edf\\dev\\aaaaagbf\\s009_2016\\01_tcp_ar\\aaaaagbf_s009_t030.edf\n",
      "✅ File exists: C:\\Users\\alsaf\\Downloads\\Capstone2\\data\\data\\v2.0.3\\edf\\dev\\aaaaagbf\\s009_2016\\01_tcp_ar\\aaaaagbf_s009_t030.edf\n",
      "🔍 Checking: C:\\Users\\alsaf\\Downloads\\Capstone2\\data\\data\\v2.0.3\\edf\\dev\\aaaaagbf\\s010_2016\\01_tcp_ar\\aaaaagbf_s010_t000.edf\n",
      "✅ File exists: C:\\Users\\alsaf\\Downloads\\Capstone2\\data\\data\\v2.0.3\\edf\\dev\\aaaaagbf\\s010_2016\\01_tcp_ar\\aaaaagbf_s010_t000.edf\n",
      "🔍 Checking: C:\\Users\\alsaf\\Downloads\\Capstone2\\data\\data\\v2.0.3\\edf\\dev\\aaaaagbf\\s010_2016\\01_tcp_ar\\aaaaagbf_s010_t001.edf\n",
      "✅ File exists: C:\\Users\\alsaf\\Downloads\\Capstone2\\data\\data\\v2.0.3\\edf\\dev\\aaaaagbf\\s010_2016\\01_tcp_ar\\aaaaagbf_s010_t001.edf\n",
      "🔍 Checking: C:\\Users\\alsaf\\Downloads\\Capstone2\\data\\data\\v2.0.3\\edf\\dev\\aaaaagbf\\s010_2016\\01_tcp_ar\\aaaaagbf_s010_t002.edf\n",
      "✅ File exists: C:\\Users\\alsaf\\Downloads\\Capstone2\\data\\data\\v2.0.3\\edf\\dev\\aaaaagbf\\s010_2016\\01_tcp_ar\\aaaaagbf_s010_t002.edf\n",
      "🔍 Checking: C:\\Users\\alsaf\\Downloads\\Capstone2\\data\\data\\v2.0.3\\edf\\dev\\aaaaagbf\\s010_2016\\01_tcp_ar\\aaaaagbf_s010_t003.edf\n",
      "✅ File exists: C:\\Users\\alsaf\\Downloads\\Capstone2\\data\\data\\v2.0.3\\edf\\dev\\aaaaagbf\\s010_2016\\01_tcp_ar\\aaaaagbf_s010_t003.edf\n",
      "🔍 Checking: C:\\Users\\alsaf\\Downloads\\Capstone2\\data\\data\\v2.0.3\\edf\\dev\\aaaaagbf\\s010_2016\\01_tcp_ar\\aaaaagbf_s010_t004.edf\n",
      "✅ File exists: C:\\Users\\alsaf\\Downloads\\Capstone2\\data\\data\\v2.0.3\\edf\\dev\\aaaaagbf\\s010_2016\\01_tcp_ar\\aaaaagbf_s010_t004.edf\n",
      "🔍 Checking: C:\\Users\\alsaf\\Downloads\\Capstone2\\data\\data\\v2.0.3\\edf\\dev\\aaaaagbf\\s010_2016\\01_tcp_ar\\aaaaagbf_s010_t005.edf\n",
      "✅ File exists: C:\\Users\\alsaf\\Downloads\\Capstone2\\data\\data\\v2.0.3\\edf\\dev\\aaaaagbf\\s010_2016\\01_tcp_ar\\aaaaagbf_s010_t005.edf\n",
      "🔍 Checking: C:\\Users\\alsaf\\Downloads\\Capstone2\\data\\data\\v2.0.3\\edf\\dev\\aaaaagbf\\s010_2016\\01_tcp_ar\\aaaaagbf_s010_t006.edf\n",
      "✅ File exists: C:\\Users\\alsaf\\Downloads\\Capstone2\\data\\data\\v2.0.3\\edf\\dev\\aaaaagbf\\s010_2016\\01_tcp_ar\\aaaaagbf_s010_t006.edf\n",
      "🔍 Checking: C:\\Users\\alsaf\\Downloads\\Capstone2\\data\\data\\v2.0.3\\edf\\dev\\aaaaagbf\\s010_2016\\01_tcp_ar\\aaaaagbf_s010_t007.edf\n",
      "✅ File exists: C:\\Users\\alsaf\\Downloads\\Capstone2\\data\\data\\v2.0.3\\edf\\dev\\aaaaagbf\\s010_2016\\01_tcp_ar\\aaaaagbf_s010_t007.edf\n",
      "🔍 Checking: C:\\Users\\alsaf\\Downloads\\Capstone2\\data\\data\\v2.0.3\\edf\\dev\\aaaaagdr\\s001_2007\\02_tcp_le\\aaaaagdr_s001_t001.edf\n",
      "✅ File exists: C:\\Users\\alsaf\\Downloads\\Capstone2\\data\\data\\v2.0.3\\edf\\dev\\aaaaagdr\\s001_2007\\02_tcp_le\\aaaaagdr_s001_t001.edf\n",
      "🔍 Checking: C:\\Users\\alsaf\\Downloads\\Capstone2\\data\\data\\v2.0.3\\edf\\dev\\aaaaagdr\\s002_2007\\02_tcp_le\\aaaaagdr_s002_t001.edf\n",
      "✅ File exists: C:\\Users\\alsaf\\Downloads\\Capstone2\\data\\data\\v2.0.3\\edf\\dev\\aaaaagdr\\s002_2007\\02_tcp_le\\aaaaagdr_s002_t001.edf\n",
      "🔍 Checking: C:\\Users\\alsaf\\Downloads\\Capstone2\\data\\data\\v2.0.3\\edf\\dev\\aaaaagdr\\s002_2007\\02_tcp_le\\aaaaagdr_s002_t002.edf\n",
      "✅ File exists: C:\\Users\\alsaf\\Downloads\\Capstone2\\data\\data\\v2.0.3\\edf\\dev\\aaaaagdr\\s002_2007\\02_tcp_le\\aaaaagdr_s002_t002.edf\n",
      "🔍 Checking: C:\\Users\\alsaf\\Downloads\\Capstone2\\data\\data\\v2.0.3\\edf\\dev\\aaaaagdr\\s002_2007\\02_tcp_le\\aaaaagdr_s002_t003.edf\n",
      "✅ File exists: C:\\Users\\alsaf\\Downloads\\Capstone2\\data\\data\\v2.0.3\\edf\\dev\\aaaaagdr\\s002_2007\\02_tcp_le\\aaaaagdr_s002_t003.edf\n",
      "🔍 Checking: C:\\Users\\alsaf\\Downloads\\Capstone2\\data\\data\\v2.0.3\\edf\\dev\\aaaaagus\\s001_2008\\02_tcp_le\\aaaaagus_s001_t000.edf\n",
      "✅ File exists: C:\\Users\\alsaf\\Downloads\\Capstone2\\data\\data\\v2.0.3\\edf\\dev\\aaaaagus\\s001_2008\\02_tcp_le\\aaaaagus_s001_t000.edf\n",
      "🔍 Checking: C:\\Users\\alsaf\\Downloads\\Capstone2\\data\\data\\v2.0.3\\edf\\dev\\aaaaagus\\s002_2008\\02_tcp_le\\aaaaagus_s002_t000.edf\n",
      "✅ File exists: C:\\Users\\alsaf\\Downloads\\Capstone2\\data\\data\\v2.0.3\\edf\\dev\\aaaaagus\\s002_2008\\02_tcp_le\\aaaaagus_s002_t000.edf\n",
      "🔍 Checking: C:\\Users\\alsaf\\Downloads\\Capstone2\\data\\data\\v2.0.3\\edf\\dev\\aaaaagus\\s003_2012\\01_tcp_ar\\aaaaagus_s003_t000.edf\n",
      "✅ File exists: C:\\Users\\alsaf\\Downloads\\Capstone2\\data\\data\\v2.0.3\\edf\\dev\\aaaaagus\\s003_2012\\01_tcp_ar\\aaaaagus_s003_t000.edf\n",
      "🔍 Checking: C:\\Users\\alsaf\\Downloads\\Capstone2\\data\\data\\v2.0.3\\edf\\dev\\aaaaagus\\s004_2013\\01_tcp_ar\\aaaaagus_s004_t000.edf\n",
      "✅ File exists: C:\\Users\\alsaf\\Downloads\\Capstone2\\data\\data\\v2.0.3\\edf\\dev\\aaaaagus\\s004_2013\\01_tcp_ar\\aaaaagus_s004_t000.edf\n",
      "🔍 Checking: C:\\Users\\alsaf\\Downloads\\Capstone2\\data\\data\\v2.0.3\\edf\\dev\\aaaaahie\\s001_2008\\02_tcp_le\\aaaaahie_s001_t000.edf\n",
      "✅ File exists: C:\\Users\\alsaf\\Downloads\\Capstone2\\data\\data\\v2.0.3\\edf\\dev\\aaaaahie\\s001_2008\\02_tcp_le\\aaaaahie_s001_t000.edf\n",
      "🔍 Checking: C:\\Users\\alsaf\\Downloads\\Capstone2\\data\\data\\v2.0.3\\edf\\dev\\aaaaahie\\s002_2008\\02_tcp_le\\aaaaahie_s002_t000.edf\n",
      "✅ File exists: C:\\Users\\alsaf\\Downloads\\Capstone2\\data\\data\\v2.0.3\\edf\\dev\\aaaaahie\\s002_2008\\02_tcp_le\\aaaaahie_s002_t000.edf\n",
      "🔍 Checking: C:\\Users\\alsaf\\Downloads\\Capstone2\\data\\data\\v2.0.3\\edf\\dev\\aaaaahie\\s003_2009\\03_tcp_ar_a\\aaaaahie_s003_t000.edf\n",
      "✅ File exists: C:\\Users\\alsaf\\Downloads\\Capstone2\\data\\data\\v2.0.3\\edf\\dev\\aaaaahie\\s003_2009\\03_tcp_ar_a\\aaaaahie_s003_t000.edf\n",
      "🔍 Checking: C:\\Users\\alsaf\\Downloads\\Capstone2\\data\\data\\v2.0.3\\edf\\dev\\aaaaahie\\s004_2009\\03_tcp_ar_a\\aaaaahie_s004_t000.edf\n",
      "✅ File exists: C:\\Users\\alsaf\\Downloads\\Capstone2\\data\\data\\v2.0.3\\edf\\dev\\aaaaahie\\s004_2009\\03_tcp_ar_a\\aaaaahie_s004_t000.edf\n",
      "🔍 Checking: C:\\Users\\alsaf\\Downloads\\Capstone2\\data\\data\\v2.0.3\\edf\\dev\\aaaaahie\\s005_2010\\01_tcp_ar\\aaaaahie_s005_t001.edf\n",
      "✅ File exists: C:\\Users\\alsaf\\Downloads\\Capstone2\\data\\data\\v2.0.3\\edf\\dev\\aaaaahie\\s005_2010\\01_tcp_ar\\aaaaahie_s005_t001.edf\n",
      "🔍 Checking: C:\\Users\\alsaf\\Downloads\\Capstone2\\data\\data\\v2.0.3\\edf\\dev\\aaaaahie\\s006_2014\\01_tcp_ar\\aaaaahie_s006_t000.edf\n",
      "✅ File exists: C:\\Users\\alsaf\\Downloads\\Capstone2\\data\\data\\v2.0.3\\edf\\dev\\aaaaahie\\s006_2014\\01_tcp_ar\\aaaaahie_s006_t000.edf\n",
      "🔍 Checking: C:\\Users\\alsaf\\Downloads\\Capstone2\\data\\data\\v2.0.3\\edf\\dev\\aaaaahie\\s006_2014\\01_tcp_ar\\aaaaahie_s006_t001.edf\n",
      "✅ File exists: C:\\Users\\alsaf\\Downloads\\Capstone2\\data\\data\\v2.0.3\\edf\\dev\\aaaaahie\\s006_2014\\01_tcp_ar\\aaaaahie_s006_t001.edf\n",
      "🔍 Checking: C:\\Users\\alsaf\\Downloads\\Capstone2\\data\\data\\v2.0.3\\edf\\dev\\aaaaahie\\s007_2014\\01_tcp_ar\\aaaaahie_s007_t000.edf\n",
      "✅ File exists: C:\\Users\\alsaf\\Downloads\\Capstone2\\data\\data\\v2.0.3\\edf\\dev\\aaaaahie\\s007_2014\\01_tcp_ar\\aaaaahie_s007_t000.edf\n",
      "🔍 Checking: C:\\Users\\alsaf\\Downloads\\Capstone2\\data\\data\\v2.0.3\\edf\\dev\\aaaaahie\\s007_2014\\01_tcp_ar\\aaaaahie_s007_t001.edf\n",
      "✅ File exists: C:\\Users\\alsaf\\Downloads\\Capstone2\\data\\data\\v2.0.3\\edf\\dev\\aaaaahie\\s007_2014\\01_tcp_ar\\aaaaahie_s007_t001.edf\n",
      "🔍 Checking: C:\\Users\\alsaf\\Downloads\\Capstone2\\data\\data\\v2.0.3\\edf\\dev\\aaaaahie\\s007_2014\\01_tcp_ar\\aaaaahie_s007_t002.edf\n",
      "✅ File exists: C:\\Users\\alsaf\\Downloads\\Capstone2\\data\\data\\v2.0.3\\edf\\dev\\aaaaahie\\s007_2014\\01_tcp_ar\\aaaaahie_s007_t002.edf\n",
      "🔍 Checking: C:\\Users\\alsaf\\Downloads\\Capstone2\\data\\data\\v2.0.3\\edf\\dev\\aaaaahie\\s007_2014\\01_tcp_ar\\aaaaahie_s007_t003.edf\n",
      "✅ File exists: C:\\Users\\alsaf\\Downloads\\Capstone2\\data\\data\\v2.0.3\\edf\\dev\\aaaaahie\\s007_2014\\01_tcp_ar\\aaaaahie_s007_t003.edf\n",
      "🔍 Checking: C:\\Users\\alsaf\\Downloads\\Capstone2\\data\\data\\v2.0.3\\edf\\dev\\aaaaahie\\s007_2014\\01_tcp_ar\\aaaaahie_s007_t004.edf\n",
      "✅ File exists: C:\\Users\\alsaf\\Downloads\\Capstone2\\data\\data\\v2.0.3\\edf\\dev\\aaaaahie\\s007_2014\\01_tcp_ar\\aaaaahie_s007_t004.edf\n",
      "🔍 Checking: C:\\Users\\alsaf\\Downloads\\Capstone2\\data\\data\\v2.0.3\\edf\\dev\\aaaaahie\\s007_2014\\01_tcp_ar\\aaaaahie_s007_t005.edf\n",
      "✅ File exists: C:\\Users\\alsaf\\Downloads\\Capstone2\\data\\data\\v2.0.3\\edf\\dev\\aaaaahie\\s007_2014\\01_tcp_ar\\aaaaahie_s007_t005.edf\n",
      "🔍 Checking: C:\\Users\\alsaf\\Downloads\\Capstone2\\data\\data\\v2.0.3\\edf\\dev\\aaaaahie\\s007_2014\\01_tcp_ar\\aaaaahie_s007_t006.edf\n",
      "✅ File exists: C:\\Users\\alsaf\\Downloads\\Capstone2\\data\\data\\v2.0.3\\edf\\dev\\aaaaahie\\s007_2014\\01_tcp_ar\\aaaaahie_s007_t006.edf\n",
      "🔍 Checking: C:\\Users\\alsaf\\Downloads\\Capstone2\\data\\data\\v2.0.3\\edf\\dev\\aaaaahie\\s007_2014\\01_tcp_ar\\aaaaahie_s007_t007.edf\n",
      "✅ File exists: C:\\Users\\alsaf\\Downloads\\Capstone2\\data\\data\\v2.0.3\\edf\\dev\\aaaaahie\\s007_2014\\01_tcp_ar\\aaaaahie_s007_t007.edf\n",
      "🔍 Checking: C:\\Users\\alsaf\\Downloads\\Capstone2\\data\\data\\v2.0.3\\edf\\dev\\aaaaahie\\s007_2014\\01_tcp_ar\\aaaaahie_s007_t008.edf\n",
      "✅ File exists: C:\\Users\\alsaf\\Downloads\\Capstone2\\data\\data\\v2.0.3\\edf\\dev\\aaaaahie\\s007_2014\\01_tcp_ar\\aaaaahie_s007_t008.edf\n",
      "🔍 Checking: C:\\Users\\alsaf\\Downloads\\Capstone2\\data\\data\\v2.0.3\\edf\\dev\\aaaaahie\\s007_2014\\01_tcp_ar\\aaaaahie_s007_t009.edf\n",
      "✅ File exists: C:\\Users\\alsaf\\Downloads\\Capstone2\\data\\data\\v2.0.3\\edf\\dev\\aaaaahie\\s007_2014\\01_tcp_ar\\aaaaahie_s007_t009.edf\n",
      "🔍 Checking: C:\\Users\\alsaf\\Downloads\\Capstone2\\data\\data\\v2.0.3\\edf\\dev\\aaaaahie\\s007_2014\\01_tcp_ar\\aaaaahie_s007_t010.edf\n",
      "✅ File exists: C:\\Users\\alsaf\\Downloads\\Capstone2\\data\\data\\v2.0.3\\edf\\dev\\aaaaahie\\s007_2014\\01_tcp_ar\\aaaaahie_s007_t010.edf\n",
      "🔍 Checking: C:\\Users\\alsaf\\Downloads\\Capstone2\\data\\data\\v2.0.3\\edf\\dev\\aaaaahie\\s007_2014\\01_tcp_ar\\aaaaahie_s007_t011.edf\n",
      "✅ File exists: C:\\Users\\alsaf\\Downloads\\Capstone2\\data\\data\\v2.0.3\\edf\\dev\\aaaaahie\\s007_2014\\01_tcp_ar\\aaaaahie_s007_t011.edf\n",
      "🔍 Checking: C:\\Users\\alsaf\\Downloads\\Capstone2\\data\\data\\v2.0.3\\edf\\dev\\aaaaahie\\s007_2014\\01_tcp_ar\\aaaaahie_s007_t012.edf\n",
      "✅ File exists: C:\\Users\\alsaf\\Downloads\\Capstone2\\data\\data\\v2.0.3\\edf\\dev\\aaaaahie\\s007_2014\\01_tcp_ar\\aaaaahie_s007_t012.edf\n",
      "🔍 Checking: C:\\Users\\alsaf\\Downloads\\Capstone2\\data\\data\\v2.0.3\\edf\\dev\\aaaaahie\\s007_2014\\01_tcp_ar\\aaaaahie_s007_t013.edf\n",
      "✅ File exists: C:\\Users\\alsaf\\Downloads\\Capstone2\\data\\data\\v2.0.3\\edf\\dev\\aaaaahie\\s007_2014\\01_tcp_ar\\aaaaahie_s007_t013.edf\n",
      "🔍 Checking: C:\\Users\\alsaf\\Downloads\\Capstone2\\data\\data\\v2.0.3\\edf\\dev\\aaaaahie\\s007_2014\\01_tcp_ar\\aaaaahie_s007_t014.edf\n",
      "✅ File exists: C:\\Users\\alsaf\\Downloads\\Capstone2\\data\\data\\v2.0.3\\edf\\dev\\aaaaahie\\s007_2014\\01_tcp_ar\\aaaaahie_s007_t014.edf\n",
      "🔍 Checking: C:\\Users\\alsaf\\Downloads\\Capstone2\\data\\data\\v2.0.3\\edf\\dev\\aaaaahie\\s008_2014\\01_tcp_ar\\aaaaahie_s008_t000.edf\n",
      "✅ File exists: C:\\Users\\alsaf\\Downloads\\Capstone2\\data\\data\\v2.0.3\\edf\\dev\\aaaaahie\\s008_2014\\01_tcp_ar\\aaaaahie_s008_t000.edf\n",
      "🔍 Checking: C:\\Users\\alsaf\\Downloads\\Capstone2\\data\\data\\v2.0.3\\edf\\dev\\aaaaahie\\s008_2014\\01_tcp_ar\\aaaaahie_s008_t001.edf\n",
      "✅ File exists: C:\\Users\\alsaf\\Downloads\\Capstone2\\data\\data\\v2.0.3\\edf\\dev\\aaaaahie\\s008_2014\\01_tcp_ar\\aaaaahie_s008_t001.edf\n",
      "🔍 Checking: C:\\Users\\alsaf\\Downloads\\Capstone2\\data\\data\\v2.0.3\\edf\\dev\\aaaaahie\\s008_2014\\01_tcp_ar\\aaaaahie_s008_t002.edf\n",
      "✅ File exists: C:\\Users\\alsaf\\Downloads\\Capstone2\\data\\data\\v2.0.3\\edf\\dev\\aaaaahie\\s008_2014\\01_tcp_ar\\aaaaahie_s008_t002.edf\n",
      "🔍 Checking: C:\\Users\\alsaf\\Downloads\\Capstone2\\data\\data\\v2.0.3\\edf\\dev\\aaaaahie\\s008_2014\\01_tcp_ar\\aaaaahie_s008_t003.edf\n",
      "✅ File exists: C:\\Users\\alsaf\\Downloads\\Capstone2\\data\\data\\v2.0.3\\edf\\dev\\aaaaahie\\s008_2014\\01_tcp_ar\\aaaaahie_s008_t003.edf\n",
      "🔍 Checking: C:\\Users\\alsaf\\Downloads\\Capstone2\\data\\data\\v2.0.3\\edf\\dev\\aaaaahie\\s008_2014\\01_tcp_ar\\aaaaahie_s008_t004.edf\n",
      "✅ File exists: C:\\Users\\alsaf\\Downloads\\Capstone2\\data\\data\\v2.0.3\\edf\\dev\\aaaaahie\\s008_2014\\01_tcp_ar\\aaaaahie_s008_t004.edf\n",
      "🔍 Checking: C:\\Users\\alsaf\\Downloads\\Capstone2\\data\\data\\v2.0.3\\edf\\dev\\aaaaahie\\s009_2014\\01_tcp_ar\\aaaaahie_s009_t000.edf\n",
      "✅ File exists: C:\\Users\\alsaf\\Downloads\\Capstone2\\data\\data\\v2.0.3\\edf\\dev\\aaaaahie\\s009_2014\\01_tcp_ar\\aaaaahie_s009_t000.edf\n",
      "🔍 Checking: C:\\Users\\alsaf\\Downloads\\Capstone2\\data\\data\\v2.0.3\\edf\\dev\\aaaaahie\\s009_2014\\01_tcp_ar\\aaaaahie_s009_t001.edf\n",
      "✅ File exists: C:\\Users\\alsaf\\Downloads\\Capstone2\\data\\data\\v2.0.3\\edf\\dev\\aaaaahie\\s009_2014\\01_tcp_ar\\aaaaahie_s009_t001.edf\n",
      "🔍 Checking: C:\\Users\\alsaf\\Downloads\\Capstone2\\data\\data\\v2.0.3\\edf\\dev\\aaaaahie\\s009_2014\\01_tcp_ar\\aaaaahie_s009_t002.edf\n",
      "✅ File exists: C:\\Users\\alsaf\\Downloads\\Capstone2\\data\\data\\v2.0.3\\edf\\dev\\aaaaahie\\s009_2014\\01_tcp_ar\\aaaaahie_s009_t002.edf\n",
      "🔍 Checking: C:\\Users\\alsaf\\Downloads\\Capstone2\\data\\data\\v2.0.3\\edf\\dev\\aaaaahie\\s009_2014\\01_tcp_ar\\aaaaahie_s009_t003.edf\n",
      "✅ File exists: C:\\Users\\alsaf\\Downloads\\Capstone2\\data\\data\\v2.0.3\\edf\\dev\\aaaaahie\\s009_2014\\01_tcp_ar\\aaaaahie_s009_t003.edf\n",
      "🔍 Checking: C:\\Users\\alsaf\\Downloads\\Capstone2\\data\\data\\v2.0.3\\edf\\dev\\aaaaahie\\s009_2014\\01_tcp_ar\\aaaaahie_s009_t004.edf\n",
      "✅ File exists: C:\\Users\\alsaf\\Downloads\\Capstone2\\data\\data\\v2.0.3\\edf\\dev\\aaaaahie\\s009_2014\\01_tcp_ar\\aaaaahie_s009_t004.edf\n",
      "🔍 Checking: C:\\Users\\alsaf\\Downloads\\Capstone2\\data\\data\\v2.0.3\\edf\\dev\\aaaaahie\\s010_2014\\03_tcp_ar_a\\aaaaahie_s010_t000.edf\n",
      "✅ File exists: C:\\Users\\alsaf\\Downloads\\Capstone2\\data\\data\\v2.0.3\\edf\\dev\\aaaaahie\\s010_2014\\03_tcp_ar_a\\aaaaahie_s010_t000.edf\n",
      "🔍 Checking: C:\\Users\\alsaf\\Downloads\\Capstone2\\data\\data\\v2.0.3\\edf\\dev\\aaaaahie\\s010_2014\\03_tcp_ar_a\\aaaaahie_s010_t001.edf\n",
      "✅ File exists: C:\\Users\\alsaf\\Downloads\\Capstone2\\data\\data\\v2.0.3\\edf\\dev\\aaaaahie\\s010_2014\\03_tcp_ar_a\\aaaaahie_s010_t001.edf\n",
      "🔍 Checking: C:\\Users\\alsaf\\Downloads\\Capstone2\\data\\data\\v2.0.3\\edf\\dev\\aaaaahie\\s010_2014\\03_tcp_ar_a\\aaaaahie_s010_t002.edf\n",
      "✅ File exists: C:\\Users\\alsaf\\Downloads\\Capstone2\\data\\data\\v2.0.3\\edf\\dev\\aaaaahie\\s010_2014\\03_tcp_ar_a\\aaaaahie_s010_t002.edf\n",
      "🔍 Checking: C:\\Users\\alsaf\\Downloads\\Capstone2\\data\\data\\v2.0.3\\edf\\dev\\aaaaahie\\s011_2014\\03_tcp_ar_a\\aaaaahie_s011_t000.edf\n",
      "✅ File exists: C:\\Users\\alsaf\\Downloads\\Capstone2\\data\\data\\v2.0.3\\edf\\dev\\aaaaahie\\s011_2014\\03_tcp_ar_a\\aaaaahie_s011_t000.edf\n",
      "🔍 Checking: C:\\Users\\alsaf\\Downloads\\Capstone2\\data\\data\\v2.0.3\\edf\\dev\\aaaaahie\\s011_2014\\03_tcp_ar_a\\aaaaahie_s011_t001.edf\n",
      "✅ File exists: C:\\Users\\alsaf\\Downloads\\Capstone2\\data\\data\\v2.0.3\\edf\\dev\\aaaaahie\\s011_2014\\03_tcp_ar_a\\aaaaahie_s011_t001.edf\n",
      "🔍 Checking: C:\\Users\\alsaf\\Downloads\\Capstone2\\data\\data\\v2.0.3\\edf\\dev\\aaaaahie\\s011_2014\\03_tcp_ar_a\\aaaaahie_s011_t002.edf\n",
      "✅ File exists: C:\\Users\\alsaf\\Downloads\\Capstone2\\data\\data\\v2.0.3\\edf\\dev\\aaaaahie\\s011_2014\\03_tcp_ar_a\\aaaaahie_s011_t002.edf\n",
      "🔍 Checking: C:\\Users\\alsaf\\Downloads\\Capstone2\\data\\data\\v2.0.3\\edf\\dev\\aaaaahie\\s011_2014\\03_tcp_ar_a\\aaaaahie_s011_t003.edf\n",
      "✅ File exists: C:\\Users\\alsaf\\Downloads\\Capstone2\\data\\data\\v2.0.3\\edf\\dev\\aaaaahie\\s011_2014\\03_tcp_ar_a\\aaaaahie_s011_t003.edf\n",
      "🔍 Checking: C:\\Users\\alsaf\\Downloads\\Capstone2\\data\\data\\v2.0.3\\edf\\dev\\aaaaahie\\s011_2014\\03_tcp_ar_a\\aaaaahie_s011_t004.edf\n",
      "✅ File exists: C:\\Users\\alsaf\\Downloads\\Capstone2\\data\\data\\v2.0.3\\edf\\dev\\aaaaahie\\s011_2014\\03_tcp_ar_a\\aaaaahie_s011_t004.edf\n",
      "🔍 Checking: C:\\Users\\alsaf\\Downloads\\Capstone2\\data\\data\\v2.0.3\\edf\\dev\\aaaaahie\\s011_2014\\03_tcp_ar_a\\aaaaahie_s011_t005.edf\n",
      "✅ File exists: C:\\Users\\alsaf\\Downloads\\Capstone2\\data\\data\\v2.0.3\\edf\\dev\\aaaaahie\\s011_2014\\03_tcp_ar_a\\aaaaahie_s011_t005.edf\n",
      "🔍 Checking: C:\\Users\\alsaf\\Downloads\\Capstone2\\data\\data\\v2.0.3\\edf\\dev\\aaaaahie\\s011_2014\\03_tcp_ar_a\\aaaaahie_s011_t006.edf\n",
      "✅ File exists: C:\\Users\\alsaf\\Downloads\\Capstone2\\data\\data\\v2.0.3\\edf\\dev\\aaaaahie\\s011_2014\\03_tcp_ar_a\\aaaaahie_s011_t006.edf\n",
      "🔍 Checking: C:\\Users\\alsaf\\Downloads\\Capstone2\\data\\data\\v2.0.3\\edf\\dev\\aaaaahie\\s012_2014\\03_tcp_ar_a\\aaaaahie_s012_t000.edf\n",
      "✅ File exists: C:\\Users\\alsaf\\Downloads\\Capstone2\\data\\data\\v2.0.3\\edf\\dev\\aaaaahie\\s012_2014\\03_tcp_ar_a\\aaaaahie_s012_t000.edf\n",
      "🔍 Checking: C:\\Users\\alsaf\\Downloads\\Capstone2\\data\\data\\v2.0.3\\edf\\dev\\aaaaahie\\s012_2014\\03_tcp_ar_a\\aaaaahie_s012_t001.edf\n",
      "✅ File exists: C:\\Users\\alsaf\\Downloads\\Capstone2\\data\\data\\v2.0.3\\edf\\dev\\aaaaahie\\s012_2014\\03_tcp_ar_a\\aaaaahie_s012_t001.edf\n",
      "🔍 Checking: C:\\Users\\alsaf\\Downloads\\Capstone2\\data\\data\\v2.0.3\\edf\\dev\\aaaaahie\\s012_2014\\03_tcp_ar_a\\aaaaahie_s012_t002.edf\n",
      "✅ File exists: C:\\Users\\alsaf\\Downloads\\Capstone2\\data\\data\\v2.0.3\\edf\\dev\\aaaaahie\\s012_2014\\03_tcp_ar_a\\aaaaahie_s012_t002.edf\n",
      "🔍 Checking: C:\\Users\\alsaf\\Downloads\\Capstone2\\data\\data\\v2.0.3\\edf\\dev\\aaaaahie\\s012_2014\\03_tcp_ar_a\\aaaaahie_s012_t003.edf\n",
      "✅ File exists: C:\\Users\\alsaf\\Downloads\\Capstone2\\data\\data\\v2.0.3\\edf\\dev\\aaaaahie\\s012_2014\\03_tcp_ar_a\\aaaaahie_s012_t003.edf\n",
      "🔍 Checking: C:\\Users\\alsaf\\Downloads\\Capstone2\\data\\data\\v2.0.3\\edf\\dev\\aaaaahie\\s012_2014\\03_tcp_ar_a\\aaaaahie_s012_t004.edf\n",
      "✅ File exists: C:\\Users\\alsaf\\Downloads\\Capstone2\\data\\data\\v2.0.3\\edf\\dev\\aaaaahie\\s012_2014\\03_tcp_ar_a\\aaaaahie_s012_t004.edf\n",
      "🔍 Checking: C:\\Users\\alsaf\\Downloads\\Capstone2\\data\\data\\v2.0.3\\edf\\dev\\aaaaahie\\s012_2014\\03_tcp_ar_a\\aaaaahie_s012_t005.edf\n",
      "✅ File exists: C:\\Users\\alsaf\\Downloads\\Capstone2\\data\\data\\v2.0.3\\edf\\dev\\aaaaahie\\s012_2014\\03_tcp_ar_a\\aaaaahie_s012_t005.edf\n",
      "🔍 Checking: C:\\Users\\alsaf\\Downloads\\Capstone2\\data\\data\\v2.0.3\\edf\\dev\\aaaaahie\\s012_2014\\03_tcp_ar_a\\aaaaahie_s012_t007.edf\n",
      "✅ File exists: C:\\Users\\alsaf\\Downloads\\Capstone2\\data\\data\\v2.0.3\\edf\\dev\\aaaaahie\\s012_2014\\03_tcp_ar_a\\aaaaahie_s012_t007.edf\n",
      "🔍 Checking: C:\\Users\\alsaf\\Downloads\\Capstone2\\data\\data\\v2.0.3\\edf\\dev\\aaaaahie\\s012_2014\\03_tcp_ar_a\\aaaaahie_s012_t008.edf\n",
      "✅ File exists: C:\\Users\\alsaf\\Downloads\\Capstone2\\data\\data\\v2.0.3\\edf\\dev\\aaaaahie\\s012_2014\\03_tcp_ar_a\\aaaaahie_s012_t008.edf\n",
      "🔍 Checking: C:\\Users\\alsaf\\Downloads\\Capstone2\\data\\data\\v2.0.3\\edf\\dev\\aaaaahie\\s012_2014\\03_tcp_ar_a\\aaaaahie_s012_t009.edf\n",
      "✅ File exists: C:\\Users\\alsaf\\Downloads\\Capstone2\\data\\data\\v2.0.3\\edf\\dev\\aaaaahie\\s012_2014\\03_tcp_ar_a\\aaaaahie_s012_t009.edf\n",
      "🔍 Checking: C:\\Users\\alsaf\\Downloads\\Capstone2\\data\\data\\v2.0.3\\edf\\dev\\aaaaahie\\s012_2014\\03_tcp_ar_a\\aaaaahie_s012_t010.edf\n",
      "✅ File exists: C:\\Users\\alsaf\\Downloads\\Capstone2\\data\\data\\v2.0.3\\edf\\dev\\aaaaahie\\s012_2014\\03_tcp_ar_a\\aaaaahie_s012_t010.edf\n",
      "🔍 Checking: C:\\Users\\alsaf\\Downloads\\Capstone2\\data\\data\\v2.0.3\\edf\\dev\\aaaaahie\\s012_2014\\03_tcp_ar_a\\aaaaahie_s012_t011.edf\n",
      "✅ File exists: C:\\Users\\alsaf\\Downloads\\Capstone2\\data\\data\\v2.0.3\\edf\\dev\\aaaaahie\\s012_2014\\03_tcp_ar_a\\aaaaahie_s012_t011.edf\n",
      "🔍 Checking: C:\\Users\\alsaf\\Downloads\\Capstone2\\data\\data\\v2.0.3\\edf\\dev\\aaaaahie\\s013_2014\\03_tcp_ar_a\\aaaaahie_s013_t000.edf\n",
      "✅ File exists: C:\\Users\\alsaf\\Downloads\\Capstone2\\data\\data\\v2.0.3\\edf\\dev\\aaaaahie\\s013_2014\\03_tcp_ar_a\\aaaaahie_s013_t000.edf\n",
      "🔍 Checking: C:\\Users\\alsaf\\Downloads\\Capstone2\\data\\data\\v2.0.3\\edf\\dev\\aaaaahie\\s013_2014\\03_tcp_ar_a\\aaaaahie_s013_t001.edf\n",
      "✅ File exists: C:\\Users\\alsaf\\Downloads\\Capstone2\\data\\data\\v2.0.3\\edf\\dev\\aaaaahie\\s013_2014\\03_tcp_ar_a\\aaaaahie_s013_t001.edf\n",
      "🔍 Checking: C:\\Users\\alsaf\\Downloads\\Capstone2\\data\\data\\v2.0.3\\edf\\dev\\aaaaahie\\s013_2014\\03_tcp_ar_a\\aaaaahie_s013_t002.edf\n",
      "✅ File exists: C:\\Users\\alsaf\\Downloads\\Capstone2\\data\\data\\v2.0.3\\edf\\dev\\aaaaahie\\s013_2014\\03_tcp_ar_a\\aaaaahie_s013_t002.edf\n",
      "🔍 Checking: C:\\Users\\alsaf\\Downloads\\Capstone2\\data\\data\\v2.0.3\\edf\\dev\\aaaaahie\\s013_2014\\03_tcp_ar_a\\aaaaahie_s013_t003.edf\n",
      "✅ File exists: C:\\Users\\alsaf\\Downloads\\Capstone2\\data\\data\\v2.0.3\\edf\\dev\\aaaaahie\\s013_2014\\03_tcp_ar_a\\aaaaahie_s013_t003.edf\n",
      "🔍 Checking: C:\\Users\\alsaf\\Downloads\\Capstone2\\data\\data\\v2.0.3\\edf\\dev\\aaaaahie\\s013_2014\\03_tcp_ar_a\\aaaaahie_s013_t004.edf\n",
      "✅ File exists: C:\\Users\\alsaf\\Downloads\\Capstone2\\data\\data\\v2.0.3\\edf\\dev\\aaaaahie\\s013_2014\\03_tcp_ar_a\\aaaaahie_s013_t004.edf\n",
      "🔍 Checking: C:\\Users\\alsaf\\Downloads\\Capstone2\\data\\data\\v2.0.3\\edf\\dev\\aaaaahie\\s013_2014\\03_tcp_ar_a\\aaaaahie_s013_t005.edf\n",
      "✅ File exists: C:\\Users\\alsaf\\Downloads\\Capstone2\\data\\data\\v2.0.3\\edf\\dev\\aaaaahie\\s013_2014\\03_tcp_ar_a\\aaaaahie_s013_t005.edf\n",
      "🔍 Checking: C:\\Users\\alsaf\\Downloads\\Capstone2\\data\\data\\v2.0.3\\edf\\dev\\aaaaahie\\s013_2014\\03_tcp_ar_a\\aaaaahie_s013_t006.edf\n",
      "✅ File exists: C:\\Users\\alsaf\\Downloads\\Capstone2\\data\\data\\v2.0.3\\edf\\dev\\aaaaahie\\s013_2014\\03_tcp_ar_a\\aaaaahie_s013_t006.edf\n",
      "🔍 Checking: C:\\Users\\alsaf\\Downloads\\Capstone2\\data\\data\\v2.0.3\\edf\\dev\\aaaaahie\\s013_2014\\03_tcp_ar_a\\aaaaahie_s013_t007.edf\n",
      "✅ File exists: C:\\Users\\alsaf\\Downloads\\Capstone2\\data\\data\\v2.0.3\\edf\\dev\\aaaaahie\\s013_2014\\03_tcp_ar_a\\aaaaahie_s013_t007.edf\n",
      "🔍 Checking: C:\\Users\\alsaf\\Downloads\\Capstone2\\data\\data\\v2.0.3\\edf\\dev\\aaaaahie\\s013_2014\\03_tcp_ar_a\\aaaaahie_s013_t008.edf\n",
      "✅ File exists: C:\\Users\\alsaf\\Downloads\\Capstone2\\data\\data\\v2.0.3\\edf\\dev\\aaaaahie\\s013_2014\\03_tcp_ar_a\\aaaaahie_s013_t008.edf\n",
      "🔍 Checking: C:\\Users\\alsaf\\Downloads\\Capstone2\\data\\data\\v2.0.3\\edf\\dev\\aaaaahie\\s013_2014\\03_tcp_ar_a\\aaaaahie_s013_t009.edf\n",
      "✅ File exists: C:\\Users\\alsaf\\Downloads\\Capstone2\\data\\data\\v2.0.3\\edf\\dev\\aaaaahie\\s013_2014\\03_tcp_ar_a\\aaaaahie_s013_t009.edf\n",
      "🔍 Checking: C:\\Users\\alsaf\\Downloads\\Capstone2\\data\\data\\v2.0.3\\edf\\dev\\aaaaahie\\s014_2014\\01_tcp_ar\\aaaaahie_s014_t001.edf\n",
      "✅ File exists: C:\\Users\\alsaf\\Downloads\\Capstone2\\data\\data\\v2.0.3\\edf\\dev\\aaaaahie\\s014_2014\\01_tcp_ar\\aaaaahie_s014_t001.edf\n",
      "🔍 Checking: C:\\Users\\alsaf\\Downloads\\Capstone2\\data\\data\\v2.0.3\\edf\\dev\\aaaaahie\\s015_2014\\01_tcp_ar\\aaaaahie_s015_t000.edf\n",
      "✅ File exists: C:\\Users\\alsaf\\Downloads\\Capstone2\\data\\data\\v2.0.3\\edf\\dev\\aaaaahie\\s015_2014\\01_tcp_ar\\aaaaahie_s015_t000.edf\n",
      "🔍 Checking: C:\\Users\\alsaf\\Downloads\\Capstone2\\data\\data\\v2.0.3\\edf\\dev\\aaaaahie\\s016_2015\\03_tcp_ar_a\\aaaaahie_s016_t000.edf\n",
      "✅ File exists: C:\\Users\\alsaf\\Downloads\\Capstone2\\data\\data\\v2.0.3\\edf\\dev\\aaaaahie\\s016_2015\\03_tcp_ar_a\\aaaaahie_s016_t000.edf\n",
      "🔍 Checking: C:\\Users\\alsaf\\Downloads\\Capstone2\\data\\data\\v2.0.3\\edf\\dev\\aaaaahie\\s017_2015\\01_tcp_ar\\aaaaahie_s017_t001.edf\n",
      "✅ File exists: C:\\Users\\alsaf\\Downloads\\Capstone2\\data\\data\\v2.0.3\\edf\\dev\\aaaaahie\\s017_2015\\01_tcp_ar\\aaaaahie_s017_t001.edf\n",
      "🔍 Checking: C:\\Users\\alsaf\\Downloads\\Capstone2\\data\\data\\v2.0.3\\edf\\dev\\aaaaahie\\s018_2016\\01_tcp_ar\\aaaaahie_s018_t000.edf\n",
      "✅ File exists: C:\\Users\\alsaf\\Downloads\\Capstone2\\data\\data\\v2.0.3\\edf\\dev\\aaaaahie\\s018_2016\\01_tcp_ar\\aaaaahie_s018_t000.edf\n",
      "🔍 Checking: C:\\Users\\alsaf\\Downloads\\Capstone2\\data\\data\\v2.0.3\\edf\\dev\\aaaaahie\\s018_2016\\01_tcp_ar\\aaaaahie_s018_t001.edf\n",
      "✅ File exists: C:\\Users\\alsaf\\Downloads\\Capstone2\\data\\data\\v2.0.3\\edf\\dev\\aaaaahie\\s018_2016\\01_tcp_ar\\aaaaahie_s018_t001.edf\n",
      "🔍 Checking: C:\\Users\\alsaf\\Downloads\\Capstone2\\data\\data\\v2.0.3\\edf\\dev\\aaaaahie\\s019_2016\\01_tcp_ar\\aaaaahie_s019_t000.edf\n",
      "✅ File exists: C:\\Users\\alsaf\\Downloads\\Capstone2\\data\\data\\v2.0.3\\edf\\dev\\aaaaahie\\s019_2016\\01_tcp_ar\\aaaaahie_s019_t000.edf\n",
      "🔍 Checking: C:\\Users\\alsaf\\Downloads\\Capstone2\\data\\data\\v2.0.3\\edf\\dev\\aaaaahie\\s019_2016\\01_tcp_ar\\aaaaahie_s019_t001.edf\n",
      "✅ File exists: C:\\Users\\alsaf\\Downloads\\Capstone2\\data\\data\\v2.0.3\\edf\\dev\\aaaaahie\\s019_2016\\01_tcp_ar\\aaaaahie_s019_t001.edf\n",
      "🔍 Checking: C:\\Users\\alsaf\\Downloads\\Capstone2\\data\\data\\v2.0.3\\edf\\dev\\aaaaahie\\s019_2016\\01_tcp_ar\\aaaaahie_s019_t002.edf\n",
      "✅ File exists: C:\\Users\\alsaf\\Downloads\\Capstone2\\data\\data\\v2.0.3\\edf\\dev\\aaaaahie\\s019_2016\\01_tcp_ar\\aaaaahie_s019_t002.edf\n",
      "🔍 Checking: C:\\Users\\alsaf\\Downloads\\Capstone2\\data\\data\\v2.0.3\\edf\\dev\\aaaaahie\\s019_2016\\01_tcp_ar\\aaaaahie_s019_t003.edf\n",
      "✅ File exists: C:\\Users\\alsaf\\Downloads\\Capstone2\\data\\data\\v2.0.3\\edf\\dev\\aaaaahie\\s019_2016\\01_tcp_ar\\aaaaahie_s019_t003.edf\n",
      "🔍 Checking: C:\\Users\\alsaf\\Downloads\\Capstone2\\data\\data\\v2.0.3\\edf\\dev\\aaaaahie\\s019_2016\\01_tcp_ar\\aaaaahie_s019_t004.edf\n",
      "✅ File exists: C:\\Users\\alsaf\\Downloads\\Capstone2\\data\\data\\v2.0.3\\edf\\dev\\aaaaahie\\s019_2016\\01_tcp_ar\\aaaaahie_s019_t004.edf\n",
      "🔍 Checking: C:\\Users\\alsaf\\Downloads\\Capstone2\\data\\data\\v2.0.3\\edf\\dev\\aaaaahie\\s019_2016\\01_tcp_ar\\aaaaahie_s019_t005.edf\n",
      "✅ File exists: C:\\Users\\alsaf\\Downloads\\Capstone2\\data\\data\\v2.0.3\\edf\\dev\\aaaaahie\\s019_2016\\01_tcp_ar\\aaaaahie_s019_t005.edf\n",
      "🔍 Checking: C:\\Users\\alsaf\\Downloads\\Capstone2\\data\\data\\v2.0.3\\edf\\dev\\aaaaahie\\s019_2016\\01_tcp_ar\\aaaaahie_s019_t006.edf\n",
      "✅ File exists: C:\\Users\\alsaf\\Downloads\\Capstone2\\data\\data\\v2.0.3\\edf\\dev\\aaaaahie\\s019_2016\\01_tcp_ar\\aaaaahie_s019_t006.edf\n",
      "🔍 Checking: C:\\Users\\alsaf\\Downloads\\Capstone2\\data\\data\\v2.0.3\\edf\\dev\\aaaaahie\\s019_2016\\01_tcp_ar\\aaaaahie_s019_t007.edf\n",
      "✅ File exists: C:\\Users\\alsaf\\Downloads\\Capstone2\\data\\data\\v2.0.3\\edf\\dev\\aaaaahie\\s019_2016\\01_tcp_ar\\aaaaahie_s019_t007.edf\n",
      "🔍 Checking: C:\\Users\\alsaf\\Downloads\\Capstone2\\data\\data\\v2.0.3\\edf\\dev\\aaaaahie\\s019_2016\\01_tcp_ar\\aaaaahie_s019_t008.edf\n",
      "✅ File exists: C:\\Users\\alsaf\\Downloads\\Capstone2\\data\\data\\v2.0.3\\edf\\dev\\aaaaahie\\s019_2016\\01_tcp_ar\\aaaaahie_s019_t008.edf\n",
      "🔍 Checking: C:\\Users\\alsaf\\Downloads\\Capstone2\\data\\data\\v2.0.3\\edf\\dev\\aaaaahie\\s019_2016\\01_tcp_ar\\aaaaahie_s019_t009.edf\n",
      "✅ File exists: C:\\Users\\alsaf\\Downloads\\Capstone2\\data\\data\\v2.0.3\\edf\\dev\\aaaaahie\\s019_2016\\01_tcp_ar\\aaaaahie_s019_t009.edf\n",
      "🔍 Checking: C:\\Users\\alsaf\\Downloads\\Capstone2\\data\\data\\v2.0.3\\edf\\dev\\aaaaahie\\s019_2016\\01_tcp_ar\\aaaaahie_s019_t010.edf\n",
      "✅ File exists: C:\\Users\\alsaf\\Downloads\\Capstone2\\data\\data\\v2.0.3\\edf\\dev\\aaaaahie\\s019_2016\\01_tcp_ar\\aaaaahie_s019_t010.edf\n",
      "🔍 Checking: C:\\Users\\alsaf\\Downloads\\Capstone2\\data\\data\\v2.0.3\\edf\\dev\\aaaaahie\\s019_2016\\01_tcp_ar\\aaaaahie_s019_t011.edf\n",
      "✅ File exists: C:\\Users\\alsaf\\Downloads\\Capstone2\\data\\data\\v2.0.3\\edf\\dev\\aaaaahie\\s019_2016\\01_tcp_ar\\aaaaahie_s019_t011.edf\n",
      "🔍 Checking: C:\\Users\\alsaf\\Downloads\\Capstone2\\data\\data\\v2.0.3\\edf\\dev\\aaaaahie\\s019_2016\\01_tcp_ar\\aaaaahie_s019_t012.edf\n",
      "✅ File exists: C:\\Users\\alsaf\\Downloads\\Capstone2\\data\\data\\v2.0.3\\edf\\dev\\aaaaahie\\s019_2016\\01_tcp_ar\\aaaaahie_s019_t012.edf\n",
      "🔍 Checking: C:\\Users\\alsaf\\Downloads\\Capstone2\\data\\data\\v2.0.3\\edf\\dev\\aaaaahie\\s019_2016\\01_tcp_ar\\aaaaahie_s019_t013.edf\n",
      "✅ File exists: C:\\Users\\alsaf\\Downloads\\Capstone2\\data\\data\\v2.0.3\\edf\\dev\\aaaaahie\\s019_2016\\01_tcp_ar\\aaaaahie_s019_t013.edf\n",
      "🔍 Checking: C:\\Users\\alsaf\\Downloads\\Capstone2\\data\\data\\v2.0.3\\edf\\dev\\aaaaahie\\s019_2016\\01_tcp_ar\\aaaaahie_s019_t014.edf\n",
      "✅ File exists: C:\\Users\\alsaf\\Downloads\\Capstone2\\data\\data\\v2.0.3\\edf\\dev\\aaaaahie\\s019_2016\\01_tcp_ar\\aaaaahie_s019_t014.edf\n",
      "🔍 Checking: C:\\Users\\alsaf\\Downloads\\Capstone2\\data\\data\\v2.0.3\\edf\\dev\\aaaaahie\\s019_2016\\01_tcp_ar\\aaaaahie_s019_t015.edf\n",
      "✅ File exists: C:\\Users\\alsaf\\Downloads\\Capstone2\\data\\data\\v2.0.3\\edf\\dev\\aaaaahie\\s019_2016\\01_tcp_ar\\aaaaahie_s019_t015.edf\n",
      "🔍 Checking: C:\\Users\\alsaf\\Downloads\\Capstone2\\data\\data\\v2.0.3\\edf\\dev\\aaaaahie\\s019_2016\\01_tcp_ar\\aaaaahie_s019_t016.edf\n",
      "✅ File exists: C:\\Users\\alsaf\\Downloads\\Capstone2\\data\\data\\v2.0.3\\edf\\dev\\aaaaahie\\s019_2016\\01_tcp_ar\\aaaaahie_s019_t016.edf\n",
      "🔍 Checking: C:\\Users\\alsaf\\Downloads\\Capstone2\\data\\data\\v2.0.3\\edf\\dev\\aaaaahie\\s019_2016\\01_tcp_ar\\aaaaahie_s019_t017.edf\n",
      "✅ File exists: C:\\Users\\alsaf\\Downloads\\Capstone2\\data\\data\\v2.0.3\\edf\\dev\\aaaaahie\\s019_2016\\01_tcp_ar\\aaaaahie_s019_t017.edf\n",
      "🔍 Checking: C:\\Users\\alsaf\\Downloads\\Capstone2\\data\\data\\v2.0.3\\edf\\dev\\aaaaahie\\s019_2016\\01_tcp_ar\\aaaaahie_s019_t018.edf\n",
      "✅ File exists: C:\\Users\\alsaf\\Downloads\\Capstone2\\data\\data\\v2.0.3\\edf\\dev\\aaaaahie\\s019_2016\\01_tcp_ar\\aaaaahie_s019_t018.edf\n",
      "🔍 Checking: C:\\Users\\alsaf\\Downloads\\Capstone2\\data\\data\\v2.0.3\\edf\\dev\\aaaaahie\\s019_2016\\01_tcp_ar\\aaaaahie_s019_t019.edf\n",
      "✅ File exists: C:\\Users\\alsaf\\Downloads\\Capstone2\\data\\data\\v2.0.3\\edf\\dev\\aaaaahie\\s019_2016\\01_tcp_ar\\aaaaahie_s019_t019.edf\n",
      "🔍 Checking: C:\\Users\\alsaf\\Downloads\\Capstone2\\data\\data\\v2.0.3\\edf\\dev\\aaaaahie\\s020_2016\\01_tcp_ar\\aaaaahie_s020_t000.edf\n",
      "✅ File exists: C:\\Users\\alsaf\\Downloads\\Capstone2\\data\\data\\v2.0.3\\edf\\dev\\aaaaahie\\s020_2016\\01_tcp_ar\\aaaaahie_s020_t000.edf\n",
      "🔍 Checking: C:\\Users\\alsaf\\Downloads\\Capstone2\\data\\data\\v2.0.3\\edf\\dev\\aaaaahie\\s020_2016\\01_tcp_ar\\aaaaahie_s020_t001.edf\n",
      "✅ File exists: C:\\Users\\alsaf\\Downloads\\Capstone2\\data\\data\\v2.0.3\\edf\\dev\\aaaaahie\\s020_2016\\01_tcp_ar\\aaaaahie_s020_t001.edf\n",
      "🔍 Checking: C:\\Users\\alsaf\\Downloads\\Capstone2\\data\\data\\v2.0.3\\edf\\dev\\aaaaahie\\s020_2016\\01_tcp_ar\\aaaaahie_s020_t002.edf\n",
      "✅ File exists: C:\\Users\\alsaf\\Downloads\\Capstone2\\data\\data\\v2.0.3\\edf\\dev\\aaaaahie\\s020_2016\\01_tcp_ar\\aaaaahie_s020_t002.edf\n",
      "🔍 Checking: C:\\Users\\alsaf\\Downloads\\Capstone2\\data\\data\\v2.0.3\\edf\\dev\\aaaaahie\\s020_2016\\01_tcp_ar\\aaaaahie_s020_t003.edf\n",
      "✅ File exists: C:\\Users\\alsaf\\Downloads\\Capstone2\\data\\data\\v2.0.3\\edf\\dev\\aaaaahie\\s020_2016\\01_tcp_ar\\aaaaahie_s020_t003.edf\n",
      "🔍 Checking: C:\\Users\\alsaf\\Downloads\\Capstone2\\data\\data\\v2.0.3\\edf\\dev\\aaaaahie\\s020_2016\\01_tcp_ar\\aaaaahie_s020_t004.edf\n",
      "✅ File exists: C:\\Users\\alsaf\\Downloads\\Capstone2\\data\\data\\v2.0.3\\edf\\dev\\aaaaahie\\s020_2016\\01_tcp_ar\\aaaaahie_s020_t004.edf\n",
      "🔍 Checking: C:\\Users\\alsaf\\Downloads\\Capstone2\\data\\data\\v2.0.3\\edf\\dev\\aaaaahie\\s020_2016\\01_tcp_ar\\aaaaahie_s020_t005.edf\n",
      "✅ File exists: C:\\Users\\alsaf\\Downloads\\Capstone2\\data\\data\\v2.0.3\\edf\\dev\\aaaaahie\\s020_2016\\01_tcp_ar\\aaaaahie_s020_t005.edf\n",
      "🔍 Checking: C:\\Users\\alsaf\\Downloads\\Capstone2\\data\\data\\v2.0.3\\edf\\dev\\aaaaahie\\s021_2016\\01_tcp_ar\\aaaaahie_s021_t000.edf\n",
      "✅ File exists: C:\\Users\\alsaf\\Downloads\\Capstone2\\data\\data\\v2.0.3\\edf\\dev\\aaaaahie\\s021_2016\\01_tcp_ar\\aaaaahie_s021_t000.edf\n",
      "🔍 Checking: C:\\Users\\alsaf\\Downloads\\Capstone2\\data\\data\\v2.0.3\\edf\\dev\\aaaaahie\\s021_2016\\01_tcp_ar\\aaaaahie_s021_t001.edf\n",
      "✅ File exists: C:\\Users\\alsaf\\Downloads\\Capstone2\\data\\data\\v2.0.3\\edf\\dev\\aaaaahie\\s021_2016\\01_tcp_ar\\aaaaahie_s021_t001.edf\n",
      "🔍 Checking: C:\\Users\\alsaf\\Downloads\\Capstone2\\data\\data\\v2.0.3\\edf\\dev\\aaaaahie\\s021_2016\\01_tcp_ar\\aaaaahie_s021_t002.edf\n",
      "✅ File exists: C:\\Users\\alsaf\\Downloads\\Capstone2\\data\\data\\v2.0.3\\edf\\dev\\aaaaahie\\s021_2016\\01_tcp_ar\\aaaaahie_s021_t002.edf\n",
      "🔍 Checking: C:\\Users\\alsaf\\Downloads\\Capstone2\\data\\data\\v2.0.3\\edf\\dev\\aaaaahie\\s021_2016\\01_tcp_ar\\aaaaahie_s021_t003.edf\n",
      "✅ File exists: C:\\Users\\alsaf\\Downloads\\Capstone2\\data\\data\\v2.0.3\\edf\\dev\\aaaaahie\\s021_2016\\01_tcp_ar\\aaaaahie_s021_t003.edf\n",
      "🔍 Checking: C:\\Users\\alsaf\\Downloads\\Capstone2\\data\\data\\v2.0.3\\edf\\dev\\aaaaahie\\s021_2016\\01_tcp_ar\\aaaaahie_s021_t004.edf\n",
      "✅ File exists: C:\\Users\\alsaf\\Downloads\\Capstone2\\data\\data\\v2.0.3\\edf\\dev\\aaaaahie\\s021_2016\\01_tcp_ar\\aaaaahie_s021_t004.edf\n",
      "🔍 Checking: C:\\Users\\alsaf\\Downloads\\Capstone2\\data\\data\\v2.0.3\\edf\\dev\\aaaaahie\\s021_2016\\01_tcp_ar\\aaaaahie_s021_t005.edf\n",
      "✅ File exists: C:\\Users\\alsaf\\Downloads\\Capstone2\\data\\data\\v2.0.3\\edf\\dev\\aaaaahie\\s021_2016\\01_tcp_ar\\aaaaahie_s021_t005.edf\n",
      "🔍 Checking: C:\\Users\\alsaf\\Downloads\\Capstone2\\data\\data\\v2.0.3\\edf\\dev\\aaaaahie\\s021_2016\\01_tcp_ar\\aaaaahie_s021_t006.edf\n",
      "✅ File exists: C:\\Users\\alsaf\\Downloads\\Capstone2\\data\\data\\v2.0.3\\edf\\dev\\aaaaahie\\s021_2016\\01_tcp_ar\\aaaaahie_s021_t006.edf\n",
      "🔍 Checking: C:\\Users\\alsaf\\Downloads\\Capstone2\\data\\data\\v2.0.3\\edf\\dev\\aaaaahie\\s022_2016\\01_tcp_ar\\aaaaahie_s022_t000.edf\n",
      "✅ File exists: C:\\Users\\alsaf\\Downloads\\Capstone2\\data\\data\\v2.0.3\\edf\\dev\\aaaaahie\\s022_2016\\01_tcp_ar\\aaaaahie_s022_t000.edf\n",
      "🔍 Checking: C:\\Users\\alsaf\\Downloads\\Capstone2\\data\\data\\v2.0.3\\edf\\dev\\aaaaahie\\s022_2016\\01_tcp_ar\\aaaaahie_s022_t001.edf\n",
      "✅ File exists: C:\\Users\\alsaf\\Downloads\\Capstone2\\data\\data\\v2.0.3\\edf\\dev\\aaaaahie\\s022_2016\\01_tcp_ar\\aaaaahie_s022_t001.edf\n",
      "🔍 Checking: C:\\Users\\alsaf\\Downloads\\Capstone2\\data\\data\\v2.0.3\\edf\\dev\\aaaaahie\\s022_2016\\01_tcp_ar\\aaaaahie_s022_t002.edf\n",
      "✅ File exists: C:\\Users\\alsaf\\Downloads\\Capstone2\\data\\data\\v2.0.3\\edf\\dev\\aaaaahie\\s022_2016\\01_tcp_ar\\aaaaahie_s022_t002.edf\n",
      "🔍 Checking: C:\\Users\\alsaf\\Downloads\\Capstone2\\data\\data\\v2.0.3\\edf\\dev\\aaaaahie\\s022_2016\\01_tcp_ar\\aaaaahie_s022_t003.edf\n",
      "✅ File exists: C:\\Users\\alsaf\\Downloads\\Capstone2\\data\\data\\v2.0.3\\edf\\dev\\aaaaahie\\s022_2016\\01_tcp_ar\\aaaaahie_s022_t003.edf\n",
      "🔍 Checking: C:\\Users\\alsaf\\Downloads\\Capstone2\\data\\data\\v2.0.3\\edf\\dev\\aaaaahie\\s022_2016\\01_tcp_ar\\aaaaahie_s022_t004.edf\n",
      "✅ File exists: C:\\Users\\alsaf\\Downloads\\Capstone2\\data\\data\\v2.0.3\\edf\\dev\\aaaaahie\\s022_2016\\01_tcp_ar\\aaaaahie_s022_t004.edf\n",
      "🔍 Checking: C:\\Users\\alsaf\\Downloads\\Capstone2\\data\\data\\v2.0.3\\edf\\dev\\aaaaahie\\s022_2016\\01_tcp_ar\\aaaaahie_s022_t005.edf\n",
      "✅ File exists: C:\\Users\\alsaf\\Downloads\\Capstone2\\data\\data\\v2.0.3\\edf\\dev\\aaaaahie\\s022_2016\\01_tcp_ar\\aaaaahie_s022_t005.edf\n",
      "🔍 Checking: C:\\Users\\alsaf\\Downloads\\Capstone2\\data\\data\\v2.0.3\\edf\\dev\\aaaaahie\\s022_2016\\01_tcp_ar\\aaaaahie_s022_t006.edf\n",
      "✅ File exists: C:\\Users\\alsaf\\Downloads\\Capstone2\\data\\data\\v2.0.3\\edf\\dev\\aaaaahie\\s022_2016\\01_tcp_ar\\aaaaahie_s022_t006.edf\n",
      "🔍 Checking: C:\\Users\\alsaf\\Downloads\\Capstone2\\data\\data\\v2.0.3\\edf\\dev\\aaaaahie\\s022_2016\\01_tcp_ar\\aaaaahie_s022_t007.edf\n",
      "✅ File exists: C:\\Users\\alsaf\\Downloads\\Capstone2\\data\\data\\v2.0.3\\edf\\dev\\aaaaahie\\s022_2016\\01_tcp_ar\\aaaaahie_s022_t007.edf\n",
      "🔍 Checking: C:\\Users\\alsaf\\Downloads\\Capstone2\\data\\data\\v2.0.3\\edf\\dev\\aaaaahie\\s022_2016\\01_tcp_ar\\aaaaahie_s022_t008.edf\n",
      "✅ File exists: C:\\Users\\alsaf\\Downloads\\Capstone2\\data\\data\\v2.0.3\\edf\\dev\\aaaaahie\\s022_2016\\01_tcp_ar\\aaaaahie_s022_t008.edf\n",
      "🔍 Checking: C:\\Users\\alsaf\\Downloads\\Capstone2\\data\\data\\v2.0.3\\edf\\dev\\aaaaahie\\s022_2016\\01_tcp_ar\\aaaaahie_s022_t009.edf\n",
      "✅ File exists: C:\\Users\\alsaf\\Downloads\\Capstone2\\data\\data\\v2.0.3\\edf\\dev\\aaaaahie\\s022_2016\\01_tcp_ar\\aaaaahie_s022_t009.edf\n",
      "🔍 Checking: C:\\Users\\alsaf\\Downloads\\Capstone2\\data\\data\\v2.0.3\\edf\\dev\\aaaaahie\\s023_2016\\01_tcp_ar\\aaaaahie_s023_t000.edf\n",
      "✅ File exists: C:\\Users\\alsaf\\Downloads\\Capstone2\\data\\data\\v2.0.3\\edf\\dev\\aaaaahie\\s023_2016\\01_tcp_ar\\aaaaahie_s023_t000.edf\n",
      "🔍 Checking: C:\\Users\\alsaf\\Downloads\\Capstone2\\data\\data\\v2.0.3\\edf\\dev\\aaaaahie\\s023_2016\\01_tcp_ar\\aaaaahie_s023_t001.edf\n",
      "✅ File exists: C:\\Users\\alsaf\\Downloads\\Capstone2\\data\\data\\v2.0.3\\edf\\dev\\aaaaahie\\s023_2016\\01_tcp_ar\\aaaaahie_s023_t001.edf\n",
      "🔍 Checking: C:\\Users\\alsaf\\Downloads\\Capstone2\\data\\data\\v2.0.3\\edf\\dev\\aaaaahie\\s023_2016\\01_tcp_ar\\aaaaahie_s023_t002.edf\n",
      "✅ File exists: C:\\Users\\alsaf\\Downloads\\Capstone2\\data\\data\\v2.0.3\\edf\\dev\\aaaaahie\\s023_2016\\01_tcp_ar\\aaaaahie_s023_t002.edf\n",
      "🔍 Checking: C:\\Users\\alsaf\\Downloads\\Capstone2\\data\\data\\v2.0.3\\edf\\dev\\aaaaahie\\s023_2016\\01_tcp_ar\\aaaaahie_s023_t003.edf\n",
      "✅ File exists: C:\\Users\\alsaf\\Downloads\\Capstone2\\data\\data\\v2.0.3\\edf\\dev\\aaaaahie\\s023_2016\\01_tcp_ar\\aaaaahie_s023_t003.edf\n",
      "🔍 Checking: C:\\Users\\alsaf\\Downloads\\Capstone2\\data\\data\\v2.0.3\\edf\\dev\\aaaaahie\\s023_2016\\01_tcp_ar\\aaaaahie_s023_t004.edf\n",
      "✅ File exists: C:\\Users\\alsaf\\Downloads\\Capstone2\\data\\data\\v2.0.3\\edf\\dev\\aaaaahie\\s023_2016\\01_tcp_ar\\aaaaahie_s023_t004.edf\n",
      "🔍 Checking: C:\\Users\\alsaf\\Downloads\\Capstone2\\data\\data\\v2.0.3\\edf\\dev\\aaaaahie\\s023_2016\\01_tcp_ar\\aaaaahie_s023_t006.edf\n",
      "✅ File exists: C:\\Users\\alsaf\\Downloads\\Capstone2\\data\\data\\v2.0.3\\edf\\dev\\aaaaahie\\s023_2016\\01_tcp_ar\\aaaaahie_s023_t006.edf\n",
      "🔍 Checking: C:\\Users\\alsaf\\Downloads\\Capstone2\\data\\data\\v2.0.3\\edf\\dev\\aaaaahie\\s023_2016\\01_tcp_ar\\aaaaahie_s023_t007.edf\n",
      "✅ File exists: C:\\Users\\alsaf\\Downloads\\Capstone2\\data\\data\\v2.0.3\\edf\\dev\\aaaaahie\\s023_2016\\01_tcp_ar\\aaaaahie_s023_t007.edf\n",
      "🔍 Checking: C:\\Users\\alsaf\\Downloads\\Capstone2\\data\\data\\v2.0.3\\edf\\dev\\aaaaahie\\s023_2016\\01_tcp_ar\\aaaaahie_s023_t008.edf\n",
      "✅ File exists: C:\\Users\\alsaf\\Downloads\\Capstone2\\data\\data\\v2.0.3\\edf\\dev\\aaaaahie\\s023_2016\\01_tcp_ar\\aaaaahie_s023_t008.edf\n",
      "🔍 Checking: C:\\Users\\alsaf\\Downloads\\Capstone2\\data\\data\\v2.0.3\\edf\\dev\\aaaaahie\\s023_2016\\01_tcp_ar\\aaaaahie_s023_t009.edf\n",
      "✅ File exists: C:\\Users\\alsaf\\Downloads\\Capstone2\\data\\data\\v2.0.3\\edf\\dev\\aaaaahie\\s023_2016\\01_tcp_ar\\aaaaahie_s023_t009.edf\n",
      "🔍 Checking: C:\\Users\\alsaf\\Downloads\\Capstone2\\data\\data\\v2.0.3\\edf\\dev\\aaaaahie\\s023_2016\\01_tcp_ar\\aaaaahie_s023_t010.edf\n",
      "✅ File exists: C:\\Users\\alsaf\\Downloads\\Capstone2\\data\\data\\v2.0.3\\edf\\dev\\aaaaahie\\s023_2016\\01_tcp_ar\\aaaaahie_s023_t010.edf\n",
      "🔍 Checking: C:\\Users\\alsaf\\Downloads\\Capstone2\\data\\data\\v2.0.3\\edf\\dev\\aaaaahie\\s023_2016\\01_tcp_ar\\aaaaahie_s023_t011.edf\n",
      "✅ File exists: C:\\Users\\alsaf\\Downloads\\Capstone2\\data\\data\\v2.0.3\\edf\\dev\\aaaaahie\\s023_2016\\01_tcp_ar\\aaaaahie_s023_t011.edf\n",
      "🔍 Checking: C:\\Users\\alsaf\\Downloads\\Capstone2\\data\\data\\v2.0.3\\edf\\dev\\aaaaahie\\s024_2016\\01_tcp_ar\\aaaaahie_s024_t000.edf\n",
      "✅ File exists: C:\\Users\\alsaf\\Downloads\\Capstone2\\data\\data\\v2.0.3\\edf\\dev\\aaaaahie\\s024_2016\\01_tcp_ar\\aaaaahie_s024_t000.edf\n",
      "🔍 Checking: C:\\Users\\alsaf\\Downloads\\Capstone2\\data\\data\\v2.0.3\\edf\\dev\\aaaaahie\\s024_2016\\01_tcp_ar\\aaaaahie_s024_t001.edf\n",
      "✅ File exists: C:\\Users\\alsaf\\Downloads\\Capstone2\\data\\data\\v2.0.3\\edf\\dev\\aaaaahie\\s024_2016\\01_tcp_ar\\aaaaahie_s024_t001.edf\n",
      "🔍 Checking: C:\\Users\\alsaf\\Downloads\\Capstone2\\data\\data\\v2.0.3\\edf\\dev\\aaaaahie\\s024_2016\\01_tcp_ar\\aaaaahie_s024_t002.edf\n",
      "✅ File exists: C:\\Users\\alsaf\\Downloads\\Capstone2\\data\\data\\v2.0.3\\edf\\dev\\aaaaahie\\s024_2016\\01_tcp_ar\\aaaaahie_s024_t002.edf\n",
      "🔍 Checking: C:\\Users\\alsaf\\Downloads\\Capstone2\\data\\data\\v2.0.3\\edf\\dev\\aaaaahie\\s024_2016\\01_tcp_ar\\aaaaahie_s024_t003.edf\n",
      "✅ File exists: C:\\Users\\alsaf\\Downloads\\Capstone2\\data\\data\\v2.0.3\\edf\\dev\\aaaaahie\\s024_2016\\01_tcp_ar\\aaaaahie_s024_t003.edf\n",
      "🔍 Checking: C:\\Users\\alsaf\\Downloads\\Capstone2\\data\\data\\v2.0.3\\edf\\dev\\aaaaahie\\s024_2016\\01_tcp_ar\\aaaaahie_s024_t004.edf\n",
      "✅ File exists: C:\\Users\\alsaf\\Downloads\\Capstone2\\data\\data\\v2.0.3\\edf\\dev\\aaaaahie\\s024_2016\\01_tcp_ar\\aaaaahie_s024_t004.edf\n",
      "🔍 Checking: C:\\Users\\alsaf\\Downloads\\Capstone2\\data\\data\\v2.0.3\\edf\\dev\\aaaaahie\\s024_2016\\01_tcp_ar\\aaaaahie_s024_t005.edf\n",
      "✅ File exists: C:\\Users\\alsaf\\Downloads\\Capstone2\\data\\data\\v2.0.3\\edf\\dev\\aaaaahie\\s024_2016\\01_tcp_ar\\aaaaahie_s024_t005.edf\n",
      "🔍 Checking: C:\\Users\\alsaf\\Downloads\\Capstone2\\data\\data\\v2.0.3\\edf\\dev\\aaaaahie\\s024_2016\\01_tcp_ar\\aaaaahie_s024_t006.edf\n",
      "✅ File exists: C:\\Users\\alsaf\\Downloads\\Capstone2\\data\\data\\v2.0.3\\edf\\dev\\aaaaahie\\s024_2016\\01_tcp_ar\\aaaaahie_s024_t006.edf\n",
      "🔍 Checking: C:\\Users\\alsaf\\Downloads\\Capstone2\\data\\data\\v2.0.3\\edf\\dev\\aaaaahie\\s024_2016\\01_tcp_ar\\aaaaahie_s024_t007.edf\n",
      "✅ File exists: C:\\Users\\alsaf\\Downloads\\Capstone2\\data\\data\\v2.0.3\\edf\\dev\\aaaaahie\\s024_2016\\01_tcp_ar\\aaaaahie_s024_t007.edf\n",
      "🔍 Checking: C:\\Users\\alsaf\\Downloads\\Capstone2\\data\\data\\v2.0.3\\edf\\dev\\aaaaahie\\s024_2016\\01_tcp_ar\\aaaaahie_s024_t008.edf\n",
      "✅ File exists: C:\\Users\\alsaf\\Downloads\\Capstone2\\data\\data\\v2.0.3\\edf\\dev\\aaaaahie\\s024_2016\\01_tcp_ar\\aaaaahie_s024_t008.edf\n",
      "🔍 Checking: C:\\Users\\alsaf\\Downloads\\Capstone2\\data\\data\\v2.0.3\\edf\\dev\\aaaaahie\\s025_2016\\01_tcp_ar\\aaaaahie_s025_t000.edf\n",
      "✅ File exists: C:\\Users\\alsaf\\Downloads\\Capstone2\\data\\data\\v2.0.3\\edf\\dev\\aaaaahie\\s025_2016\\01_tcp_ar\\aaaaahie_s025_t000.edf\n",
      "🔍 Checking: C:\\Users\\alsaf\\Downloads\\Capstone2\\data\\data\\v2.0.3\\edf\\dev\\aaaaahie\\s025_2016\\01_tcp_ar\\aaaaahie_s025_t001.edf\n",
      "✅ File exists: C:\\Users\\alsaf\\Downloads\\Capstone2\\data\\data\\v2.0.3\\edf\\dev\\aaaaahie\\s025_2016\\01_tcp_ar\\aaaaahie_s025_t001.edf\n",
      "🔍 Checking: C:\\Users\\alsaf\\Downloads\\Capstone2\\data\\data\\v2.0.3\\edf\\dev\\aaaaahie\\s025_2016\\01_tcp_ar\\aaaaahie_s025_t002.edf\n",
      "✅ File exists: C:\\Users\\alsaf\\Downloads\\Capstone2\\data\\data\\v2.0.3\\edf\\dev\\aaaaahie\\s025_2016\\01_tcp_ar\\aaaaahie_s025_t002.edf\n",
      "🔍 Checking: C:\\Users\\alsaf\\Downloads\\Capstone2\\data\\data\\v2.0.3\\edf\\dev\\aaaaahie\\s025_2016\\01_tcp_ar\\aaaaahie_s025_t003.edf\n",
      "✅ File exists: C:\\Users\\alsaf\\Downloads\\Capstone2\\data\\data\\v2.0.3\\edf\\dev\\aaaaahie\\s025_2016\\01_tcp_ar\\aaaaahie_s025_t003.edf\n",
      "🔍 Checking: C:\\Users\\alsaf\\Downloads\\Capstone2\\data\\data\\v2.0.3\\edf\\dev\\aaaaahie\\s025_2016\\01_tcp_ar\\aaaaahie_s025_t004.edf\n",
      "✅ File exists: C:\\Users\\alsaf\\Downloads\\Capstone2\\data\\data\\v2.0.3\\edf\\dev\\aaaaahie\\s025_2016\\01_tcp_ar\\aaaaahie_s025_t004.edf\n",
      "🔍 Checking: C:\\Users\\alsaf\\Downloads\\Capstone2\\data\\data\\v2.0.3\\edf\\dev\\aaaaahie\\s025_2016\\01_tcp_ar\\aaaaahie_s025_t005.edf\n",
      "✅ File exists: C:\\Users\\alsaf\\Downloads\\Capstone2\\data\\data\\v2.0.3\\edf\\dev\\aaaaahie\\s025_2016\\01_tcp_ar\\aaaaahie_s025_t005.edf\n",
      "🔍 Checking: C:\\Users\\alsaf\\Downloads\\Capstone2\\data\\data\\v2.0.3\\edf\\dev\\aaaaahie\\s025_2016\\01_tcp_ar\\aaaaahie_s025_t006.edf\n",
      "✅ File exists: C:\\Users\\alsaf\\Downloads\\Capstone2\\data\\data\\v2.0.3\\edf\\dev\\aaaaahie\\s025_2016\\01_tcp_ar\\aaaaahie_s025_t006.edf\n",
      "🔍 Checking: C:\\Users\\alsaf\\Downloads\\Capstone2\\data\\data\\v2.0.3\\edf\\dev\\aaaaahie\\s025_2016\\01_tcp_ar\\aaaaahie_s025_t007.edf\n",
      "✅ File exists: C:\\Users\\alsaf\\Downloads\\Capstone2\\data\\data\\v2.0.3\\edf\\dev\\aaaaahie\\s025_2016\\01_tcp_ar\\aaaaahie_s025_t007.edf\n",
      "🔍 Checking: C:\\Users\\alsaf\\Downloads\\Capstone2\\data\\data\\v2.0.3\\edf\\dev\\aaaaahie\\s025_2016\\01_tcp_ar\\aaaaahie_s025_t008.edf\n",
      "✅ File exists: C:\\Users\\alsaf\\Downloads\\Capstone2\\data\\data\\v2.0.3\\edf\\dev\\aaaaahie\\s025_2016\\01_tcp_ar\\aaaaahie_s025_t008.edf\n",
      "🔍 Checking: C:\\Users\\alsaf\\Downloads\\Capstone2\\data\\data\\v2.0.3\\edf\\dev\\aaaaahie\\s026_2016\\01_tcp_ar\\aaaaahie_s026_t000.edf\n",
      "✅ File exists: C:\\Users\\alsaf\\Downloads\\Capstone2\\data\\data\\v2.0.3\\edf\\dev\\aaaaahie\\s026_2016\\01_tcp_ar\\aaaaahie_s026_t000.edf\n",
      "🔍 Checking: C:\\Users\\alsaf\\Downloads\\Capstone2\\data\\data\\v2.0.3\\edf\\dev\\aaaaahie\\s026_2016\\01_tcp_ar\\aaaaahie_s026_t001.edf\n",
      "✅ File exists: C:\\Users\\alsaf\\Downloads\\Capstone2\\data\\data\\v2.0.3\\edf\\dev\\aaaaahie\\s026_2016\\01_tcp_ar\\aaaaahie_s026_t001.edf\n",
      "🔍 Checking: C:\\Users\\alsaf\\Downloads\\Capstone2\\data\\data\\v2.0.3\\edf\\dev\\aaaaahie\\s026_2016\\01_tcp_ar\\aaaaahie_s026_t002.edf\n",
      "✅ File exists: C:\\Users\\alsaf\\Downloads\\Capstone2\\data\\data\\v2.0.3\\edf\\dev\\aaaaahie\\s026_2016\\01_tcp_ar\\aaaaahie_s026_t002.edf\n",
      "🔍 Checking: C:\\Users\\alsaf\\Downloads\\Capstone2\\data\\data\\v2.0.3\\edf\\dev\\aaaaahie\\s026_2016\\01_tcp_ar\\aaaaahie_s026_t003.edf\n",
      "✅ File exists: C:\\Users\\alsaf\\Downloads\\Capstone2\\data\\data\\v2.0.3\\edf\\dev\\aaaaahie\\s026_2016\\01_tcp_ar\\aaaaahie_s026_t003.edf\n",
      "🔍 Checking: C:\\Users\\alsaf\\Downloads\\Capstone2\\data\\data\\v2.0.3\\edf\\dev\\aaaaahie\\s026_2016\\01_tcp_ar\\aaaaahie_s026_t004.edf\n",
      "✅ File exists: C:\\Users\\alsaf\\Downloads\\Capstone2\\data\\data\\v2.0.3\\edf\\dev\\aaaaahie\\s026_2016\\01_tcp_ar\\aaaaahie_s026_t004.edf\n",
      "🔍 Checking: C:\\Users\\alsaf\\Downloads\\Capstone2\\data\\data\\v2.0.3\\edf\\dev\\aaaaahie\\s026_2016\\01_tcp_ar\\aaaaahie_s026_t005.edf\n",
      "✅ File exists: C:\\Users\\alsaf\\Downloads\\Capstone2\\data\\data\\v2.0.3\\edf\\dev\\aaaaahie\\s026_2016\\01_tcp_ar\\aaaaahie_s026_t005.edf\n",
      "🔍 Checking: C:\\Users\\alsaf\\Downloads\\Capstone2\\data\\data\\v2.0.3\\edf\\dev\\aaaaahie\\s026_2016\\01_tcp_ar\\aaaaahie_s026_t006.edf\n",
      "✅ File exists: C:\\Users\\alsaf\\Downloads\\Capstone2\\data\\data\\v2.0.3\\edf\\dev\\aaaaahie\\s026_2016\\01_tcp_ar\\aaaaahie_s026_t006.edf\n",
      "🔍 Checking: C:\\Users\\alsaf\\Downloads\\Capstone2\\data\\data\\v2.0.3\\edf\\dev\\aaaaahie\\s027_2016\\01_tcp_ar\\aaaaahie_s027_t000.edf\n",
      "✅ File exists: C:\\Users\\alsaf\\Downloads\\Capstone2\\data\\data\\v2.0.3\\edf\\dev\\aaaaahie\\s027_2016\\01_tcp_ar\\aaaaahie_s027_t000.edf\n",
      "🔍 Checking: C:\\Users\\alsaf\\Downloads\\Capstone2\\data\\data\\v2.0.3\\edf\\dev\\aaaaahie\\s027_2016\\01_tcp_ar\\aaaaahie_s027_t001.edf\n",
      "✅ File exists: C:\\Users\\alsaf\\Downloads\\Capstone2\\data\\data\\v2.0.3\\edf\\dev\\aaaaahie\\s027_2016\\01_tcp_ar\\aaaaahie_s027_t001.edf\n",
      "🔍 Checking: C:\\Users\\alsaf\\Downloads\\Capstone2\\data\\data\\v2.0.3\\edf\\dev\\aaaaahie\\s027_2016\\01_tcp_ar\\aaaaahie_s027_t002.edf\n",
      "✅ File exists: C:\\Users\\alsaf\\Downloads\\Capstone2\\data\\data\\v2.0.3\\edf\\dev\\aaaaahie\\s027_2016\\01_tcp_ar\\aaaaahie_s027_t002.edf\n",
      "🔍 Checking: C:\\Users\\alsaf\\Downloads\\Capstone2\\data\\data\\v2.0.3\\edf\\dev\\aaaaahie\\s027_2016\\01_tcp_ar\\aaaaahie_s027_t003.edf\n",
      "✅ File exists: C:\\Users\\alsaf\\Downloads\\Capstone2\\data\\data\\v2.0.3\\edf\\dev\\aaaaahie\\s027_2016\\01_tcp_ar\\aaaaahie_s027_t003.edf\n",
      "🔍 Checking: C:\\Users\\alsaf\\Downloads\\Capstone2\\data\\data\\v2.0.3\\edf\\dev\\aaaaahie\\s027_2016\\01_tcp_ar\\aaaaahie_s027_t004.edf\n",
      "✅ File exists: C:\\Users\\alsaf\\Downloads\\Capstone2\\data\\data\\v2.0.3\\edf\\dev\\aaaaahie\\s027_2016\\01_tcp_ar\\aaaaahie_s027_t004.edf\n",
      "🔍 Checking: C:\\Users\\alsaf\\Downloads\\Capstone2\\data\\data\\v2.0.3\\edf\\dev\\aaaaahie\\s027_2016\\01_tcp_ar\\aaaaahie_s027_t005.edf\n",
      "✅ File exists: C:\\Users\\alsaf\\Downloads\\Capstone2\\data\\data\\v2.0.3\\edf\\dev\\aaaaahie\\s027_2016\\01_tcp_ar\\aaaaahie_s027_t005.edf\n",
      "🔍 Checking: C:\\Users\\alsaf\\Downloads\\Capstone2\\data\\data\\v2.0.3\\edf\\dev\\aaaaahie\\s027_2016\\01_tcp_ar\\aaaaahie_s027_t006.edf\n",
      "✅ File exists: C:\\Users\\alsaf\\Downloads\\Capstone2\\data\\data\\v2.0.3\\edf\\dev\\aaaaahie\\s027_2016\\01_tcp_ar\\aaaaahie_s027_t006.edf\n",
      "🔍 Checking: C:\\Users\\alsaf\\Downloads\\Capstone2\\data\\data\\v2.0.3\\edf\\dev\\aaaaahie\\s027_2016\\01_tcp_ar\\aaaaahie_s027_t007.edf\n",
      "✅ File exists: C:\\Users\\alsaf\\Downloads\\Capstone2\\data\\data\\v2.0.3\\edf\\dev\\aaaaahie\\s027_2016\\01_tcp_ar\\aaaaahie_s027_t007.edf\n",
      "🔍 Checking: C:\\Users\\alsaf\\Downloads\\Capstone2\\data\\data\\v2.0.3\\edf\\dev\\aaaaahie\\s027_2016\\01_tcp_ar\\aaaaahie_s027_t008.edf\n",
      "✅ File exists: C:\\Users\\alsaf\\Downloads\\Capstone2\\data\\data\\v2.0.3\\edf\\dev\\aaaaahie\\s027_2016\\01_tcp_ar\\aaaaahie_s027_t008.edf\n",
      "🔍 Checking: C:\\Users\\alsaf\\Downloads\\Capstone2\\data\\data\\v2.0.3\\edf\\dev\\aaaaahie\\s027_2016\\01_tcp_ar\\aaaaahie_s027_t009.edf\n",
      "✅ File exists: C:\\Users\\alsaf\\Downloads\\Capstone2\\data\\data\\v2.0.3\\edf\\dev\\aaaaahie\\s027_2016\\01_tcp_ar\\aaaaahie_s027_t009.edf\n",
      "🔍 Checking: C:\\Users\\alsaf\\Downloads\\Capstone2\\data\\data\\v2.0.3\\edf\\dev\\aaaaahie\\s027_2016\\01_tcp_ar\\aaaaahie_s027_t010.edf\n",
      "✅ File exists: C:\\Users\\alsaf\\Downloads\\Capstone2\\data\\data\\v2.0.3\\edf\\dev\\aaaaahie\\s027_2016\\01_tcp_ar\\aaaaahie_s027_t010.edf\n",
      "🔍 Checking: C:\\Users\\alsaf\\Downloads\\Capstone2\\data\\data\\v2.0.3\\edf\\dev\\aaaaahie\\s027_2016\\01_tcp_ar\\aaaaahie_s027_t011.edf\n",
      "✅ File exists: C:\\Users\\alsaf\\Downloads\\Capstone2\\data\\data\\v2.0.3\\edf\\dev\\aaaaahie\\s027_2016\\01_tcp_ar\\aaaaahie_s027_t011.edf\n",
      "🔍 Checking: C:\\Users\\alsaf\\Downloads\\Capstone2\\data\\data\\v2.0.3\\edf\\dev\\aaaaahie\\s027_2016\\01_tcp_ar\\aaaaahie_s027_t012.edf\n",
      "✅ File exists: C:\\Users\\alsaf\\Downloads\\Capstone2\\data\\data\\v2.0.3\\edf\\dev\\aaaaahie\\s027_2016\\01_tcp_ar\\aaaaahie_s027_t012.edf\n",
      "🔍 Checking: C:\\Users\\alsaf\\Downloads\\Capstone2\\data\\data\\v2.0.3\\edf\\dev\\aaaaahie\\s027_2016\\01_tcp_ar\\aaaaahie_s027_t013.edf\n",
      "✅ File exists: C:\\Users\\alsaf\\Downloads\\Capstone2\\data\\data\\v2.0.3\\edf\\dev\\aaaaahie\\s027_2016\\01_tcp_ar\\aaaaahie_s027_t013.edf\n",
      "🔍 Checking: C:\\Users\\alsaf\\Downloads\\Capstone2\\data\\data\\v2.0.3\\edf\\dev\\aaaaahie\\s027_2016\\01_tcp_ar\\aaaaahie_s027_t014.edf\n",
      "✅ File exists: C:\\Users\\alsaf\\Downloads\\Capstone2\\data\\data\\v2.0.3\\edf\\dev\\aaaaahie\\s027_2016\\01_tcp_ar\\aaaaahie_s027_t014.edf\n",
      "🔍 Checking: C:\\Users\\alsaf\\Downloads\\Capstone2\\data\\data\\v2.0.3\\edf\\dev\\aaaaahie\\s028_2016\\01_tcp_ar\\aaaaahie_s028_t000.edf\n",
      "✅ File exists: C:\\Users\\alsaf\\Downloads\\Capstone2\\data\\data\\v2.0.3\\edf\\dev\\aaaaahie\\s028_2016\\01_tcp_ar\\aaaaahie_s028_t000.edf\n",
      "🔍 Checking: C:\\Users\\alsaf\\Downloads\\Capstone2\\data\\data\\v2.0.3\\edf\\dev\\aaaaahie\\s028_2016\\01_tcp_ar\\aaaaahie_s028_t001.edf\n",
      "✅ File exists: C:\\Users\\alsaf\\Downloads\\Capstone2\\data\\data\\v2.0.3\\edf\\dev\\aaaaahie\\s028_2016\\01_tcp_ar\\aaaaahie_s028_t001.edf\n",
      "🔍 Checking: C:\\Users\\alsaf\\Downloads\\Capstone2\\data\\data\\v2.0.3\\edf\\dev\\aaaaahie\\s028_2016\\01_tcp_ar\\aaaaahie_s028_t002.edf\n",
      "✅ File exists: C:\\Users\\alsaf\\Downloads\\Capstone2\\data\\data\\v2.0.3\\edf\\dev\\aaaaahie\\s028_2016\\01_tcp_ar\\aaaaahie_s028_t002.edf\n",
      "🔍 Checking: C:\\Users\\alsaf\\Downloads\\Capstone2\\data\\data\\v2.0.3\\edf\\dev\\aaaaahie\\s028_2016\\01_tcp_ar\\aaaaahie_s028_t003.edf\n",
      "✅ File exists: C:\\Users\\alsaf\\Downloads\\Capstone2\\data\\data\\v2.0.3\\edf\\dev\\aaaaahie\\s028_2016\\01_tcp_ar\\aaaaahie_s028_t003.edf\n",
      "🔍 Checking: C:\\Users\\alsaf\\Downloads\\Capstone2\\data\\data\\v2.0.3\\edf\\dev\\aaaaahie\\s028_2016\\01_tcp_ar\\aaaaahie_s028_t004.edf\n",
      "✅ File exists: C:\\Users\\alsaf\\Downloads\\Capstone2\\data\\data\\v2.0.3\\edf\\dev\\aaaaahie\\s028_2016\\01_tcp_ar\\aaaaahie_s028_t004.edf\n",
      "🔍 Checking: C:\\Users\\alsaf\\Downloads\\Capstone2\\data\\data\\v2.0.3\\edf\\dev\\aaaaahie\\s028_2016\\01_tcp_ar\\aaaaahie_s028_t005.edf\n",
      "✅ File exists: C:\\Users\\alsaf\\Downloads\\Capstone2\\data\\data\\v2.0.3\\edf\\dev\\aaaaahie\\s028_2016\\01_tcp_ar\\aaaaahie_s028_t005.edf\n",
      "🔍 Checking: C:\\Users\\alsaf\\Downloads\\Capstone2\\data\\data\\v2.0.3\\edf\\dev\\aaaaahie\\s028_2016\\01_tcp_ar\\aaaaahie_s028_t006.edf\n",
      "✅ File exists: C:\\Users\\alsaf\\Downloads\\Capstone2\\data\\data\\v2.0.3\\edf\\dev\\aaaaahie\\s028_2016\\01_tcp_ar\\aaaaahie_s028_t006.edf\n",
      "🔍 Checking: C:\\Users\\alsaf\\Downloads\\Capstone2\\data\\data\\v2.0.3\\edf\\dev\\aaaaahie\\s029_2016\\01_tcp_ar\\aaaaahie_s029_t000.edf\n",
      "✅ File exists: C:\\Users\\alsaf\\Downloads\\Capstone2\\data\\data\\v2.0.3\\edf\\dev\\aaaaahie\\s029_2016\\01_tcp_ar\\aaaaahie_s029_t000.edf\n",
      "🔍 Checking: C:\\Users\\alsaf\\Downloads\\Capstone2\\data\\data\\v2.0.3\\edf\\dev\\aaaaahie\\s029_2016\\01_tcp_ar\\aaaaahie_s029_t001.edf\n",
      "✅ File exists: C:\\Users\\alsaf\\Downloads\\Capstone2\\data\\data\\v2.0.3\\edf\\dev\\aaaaahie\\s029_2016\\01_tcp_ar\\aaaaahie_s029_t001.edf\n",
      "🔍 Checking: C:\\Users\\alsaf\\Downloads\\Capstone2\\data\\data\\v2.0.3\\edf\\dev\\aaaaahie\\s029_2016\\01_tcp_ar\\aaaaahie_s029_t002.edf\n",
      "✅ File exists: C:\\Users\\alsaf\\Downloads\\Capstone2\\data\\data\\v2.0.3\\edf\\dev\\aaaaahie\\s029_2016\\01_tcp_ar\\aaaaahie_s029_t002.edf\n",
      "🔍 Checking: C:\\Users\\alsaf\\Downloads\\Capstone2\\data\\data\\v2.0.3\\edf\\dev\\aaaaahie\\s029_2016\\01_tcp_ar\\aaaaahie_s029_t003.edf\n",
      "✅ File exists: C:\\Users\\alsaf\\Downloads\\Capstone2\\data\\data\\v2.0.3\\edf\\dev\\aaaaahie\\s029_2016\\01_tcp_ar\\aaaaahie_s029_t003.edf\n",
      "🔍 Checking: C:\\Users\\alsaf\\Downloads\\Capstone2\\data\\data\\v2.0.3\\edf\\dev\\aaaaahie\\s029_2016\\01_tcp_ar\\aaaaahie_s029_t004.edf\n",
      "✅ File exists: C:\\Users\\alsaf\\Downloads\\Capstone2\\data\\data\\v2.0.3\\edf\\dev\\aaaaahie\\s029_2016\\01_tcp_ar\\aaaaahie_s029_t004.edf\n",
      "🔍 Checking: C:\\Users\\alsaf\\Downloads\\Capstone2\\data\\data\\v2.0.3\\edf\\dev\\aaaaahie\\s029_2016\\01_tcp_ar\\aaaaahie_s029_t005.edf\n",
      "✅ File exists: C:\\Users\\alsaf\\Downloads\\Capstone2\\data\\data\\v2.0.3\\edf\\dev\\aaaaahie\\s029_2016\\01_tcp_ar\\aaaaahie_s029_t005.edf\n",
      "🔍 Checking: C:\\Users\\alsaf\\Downloads\\Capstone2\\data\\data\\v2.0.3\\edf\\dev\\aaaaahie\\s030_2016\\01_tcp_ar\\aaaaahie_s030_t000.edf\n",
      "✅ File exists: C:\\Users\\alsaf\\Downloads\\Capstone2\\data\\data\\v2.0.3\\edf\\dev\\aaaaahie\\s030_2016\\01_tcp_ar\\aaaaahie_s030_t000.edf\n",
      "🔍 Checking: C:\\Users\\alsaf\\Downloads\\Capstone2\\data\\data\\v2.0.3\\edf\\dev\\aaaaahie\\s030_2016\\01_tcp_ar\\aaaaahie_s030_t001.edf\n",
      "✅ File exists: C:\\Users\\alsaf\\Downloads\\Capstone2\\data\\data\\v2.0.3\\edf\\dev\\aaaaahie\\s030_2016\\01_tcp_ar\\aaaaahie_s030_t001.edf\n",
      "🔍 Checking: C:\\Users\\alsaf\\Downloads\\Capstone2\\data\\data\\v2.0.3\\edf\\dev\\aaaaahie\\s030_2016\\01_tcp_ar\\aaaaahie_s030_t002.edf\n",
      "✅ File exists: C:\\Users\\alsaf\\Downloads\\Capstone2\\data\\data\\v2.0.3\\edf\\dev\\aaaaahie\\s030_2016\\01_tcp_ar\\aaaaahie_s030_t002.edf\n",
      "🔍 Checking: C:\\Users\\alsaf\\Downloads\\Capstone2\\data\\data\\v2.0.3\\edf\\dev\\aaaaahie\\s030_2016\\01_tcp_ar\\aaaaahie_s030_t003.edf\n",
      "✅ File exists: C:\\Users\\alsaf\\Downloads\\Capstone2\\data\\data\\v2.0.3\\edf\\dev\\aaaaahie\\s030_2016\\01_tcp_ar\\aaaaahie_s030_t003.edf\n",
      "🔍 Checking: C:\\Users\\alsaf\\Downloads\\Capstone2\\data\\data\\v2.0.3\\edf\\dev\\aaaaahie\\s030_2016\\01_tcp_ar\\aaaaahie_s030_t004.edf\n",
      "✅ File exists: C:\\Users\\alsaf\\Downloads\\Capstone2\\data\\data\\v2.0.3\\edf\\dev\\aaaaahie\\s030_2016\\01_tcp_ar\\aaaaahie_s030_t004.edf\n",
      "🔍 Checking: C:\\Users\\alsaf\\Downloads\\Capstone2\\data\\data\\v2.0.3\\edf\\dev\\aaaaahie\\s030_2016\\01_tcp_ar\\aaaaahie_s030_t005.edf\n",
      "✅ File exists: C:\\Users\\alsaf\\Downloads\\Capstone2\\data\\data\\v2.0.3\\edf\\dev\\aaaaahie\\s030_2016\\01_tcp_ar\\aaaaahie_s030_t005.edf\n",
      "🔍 Checking: C:\\Users\\alsaf\\Downloads\\Capstone2\\data\\data\\v2.0.3\\edf\\dev\\aaaaahie\\s030_2016\\01_tcp_ar\\aaaaahie_s030_t006.edf\n",
      "✅ File exists: C:\\Users\\alsaf\\Downloads\\Capstone2\\data\\data\\v2.0.3\\edf\\dev\\aaaaahie\\s030_2016\\01_tcp_ar\\aaaaahie_s030_t006.edf\n",
      "🔍 Checking: C:\\Users\\alsaf\\Downloads\\Capstone2\\data\\data\\v2.0.3\\edf\\dev\\aaaaahie\\s030_2016\\01_tcp_ar\\aaaaahie_s030_t007.edf\n",
      "✅ File exists: C:\\Users\\alsaf\\Downloads\\Capstone2\\data\\data\\v2.0.3\\edf\\dev\\aaaaahie\\s030_2016\\01_tcp_ar\\aaaaahie_s030_t007.edf\n",
      "🔍 Checking: C:\\Users\\alsaf\\Downloads\\Capstone2\\data\\data\\v2.0.3\\edf\\dev\\aaaaahie\\s030_2016\\01_tcp_ar\\aaaaahie_s030_t008.edf\n",
      "✅ File exists: C:\\Users\\alsaf\\Downloads\\Capstone2\\data\\data\\v2.0.3\\edf\\dev\\aaaaahie\\s030_2016\\01_tcp_ar\\aaaaahie_s030_t008.edf\n",
      "🔍 Checking: C:\\Users\\alsaf\\Downloads\\Capstone2\\data\\data\\v2.0.3\\edf\\dev\\aaaaahie\\s031_2016\\01_tcp_ar\\aaaaahie_s031_t000.edf\n",
      "✅ File exists: C:\\Users\\alsaf\\Downloads\\Capstone2\\data\\data\\v2.0.3\\edf\\dev\\aaaaahie\\s031_2016\\01_tcp_ar\\aaaaahie_s031_t000.edf\n",
      "🔍 Checking: C:\\Users\\alsaf\\Downloads\\Capstone2\\data\\data\\v2.0.3\\edf\\dev\\aaaaahie\\s031_2016\\01_tcp_ar\\aaaaahie_s031_t001.edf\n",
      "✅ File exists: C:\\Users\\alsaf\\Downloads\\Capstone2\\data\\data\\v2.0.3\\edf\\dev\\aaaaahie\\s031_2016\\01_tcp_ar\\aaaaahie_s031_t001.edf\n",
      "🔍 Checking: C:\\Users\\alsaf\\Downloads\\Capstone2\\data\\data\\v2.0.3\\edf\\dev\\aaaaahie\\s031_2016\\01_tcp_ar\\aaaaahie_s031_t002.edf\n",
      "✅ File exists: C:\\Users\\alsaf\\Downloads\\Capstone2\\data\\data\\v2.0.3\\edf\\dev\\aaaaahie\\s031_2016\\01_tcp_ar\\aaaaahie_s031_t002.edf\n",
      "🔍 Checking: C:\\Users\\alsaf\\Downloads\\Capstone2\\data\\data\\v2.0.3\\edf\\dev\\aaaaahie\\s031_2016\\01_tcp_ar\\aaaaahie_s031_t003.edf\n",
      "✅ File exists: C:\\Users\\alsaf\\Downloads\\Capstone2\\data\\data\\v2.0.3\\edf\\dev\\aaaaahie\\s031_2016\\01_tcp_ar\\aaaaahie_s031_t003.edf\n",
      "🔍 Checking: C:\\Users\\alsaf\\Downloads\\Capstone2\\data\\data\\v2.0.3\\edf\\dev\\aaaaahie\\s031_2016\\01_tcp_ar\\aaaaahie_s031_t004.edf\n",
      "✅ File exists: C:\\Users\\alsaf\\Downloads\\Capstone2\\data\\data\\v2.0.3\\edf\\dev\\aaaaahie\\s031_2016\\01_tcp_ar\\aaaaahie_s031_t004.edf\n",
      "🔍 Checking: C:\\Users\\alsaf\\Downloads\\Capstone2\\data\\data\\v2.0.3\\edf\\dev\\aaaaahie\\s031_2016\\01_tcp_ar\\aaaaahie_s031_t005.edf\n",
      "✅ File exists: C:\\Users\\alsaf\\Downloads\\Capstone2\\data\\data\\v2.0.3\\edf\\dev\\aaaaahie\\s031_2016\\01_tcp_ar\\aaaaahie_s031_t005.edf\n",
      "🔍 Checking: C:\\Users\\alsaf\\Downloads\\Capstone2\\data\\data\\v2.0.3\\edf\\dev\\aaaaahie\\s031_2016\\01_tcp_ar\\aaaaahie_s031_t006.edf\n",
      "✅ File exists: C:\\Users\\alsaf\\Downloads\\Capstone2\\data\\data\\v2.0.3\\edf\\dev\\aaaaahie\\s031_2016\\01_tcp_ar\\aaaaahie_s031_t006.edf\n",
      "🔍 Checking: C:\\Users\\alsaf\\Downloads\\Capstone2\\data\\data\\v2.0.3\\edf\\dev\\aaaaahie\\s031_2016\\01_tcp_ar\\aaaaahie_s031_t007.edf\n",
      "✅ File exists: C:\\Users\\alsaf\\Downloads\\Capstone2\\data\\data\\v2.0.3\\edf\\dev\\aaaaahie\\s031_2016\\01_tcp_ar\\aaaaahie_s031_t007.edf\n",
      "🔍 Checking: C:\\Users\\alsaf\\Downloads\\Capstone2\\data\\data\\v2.0.3\\edf\\dev\\aaaaahie\\s031_2016\\01_tcp_ar\\aaaaahie_s031_t008.edf\n",
      "✅ File exists: C:\\Users\\alsaf\\Downloads\\Capstone2\\data\\data\\v2.0.3\\edf\\dev\\aaaaahie\\s031_2016\\01_tcp_ar\\aaaaahie_s031_t008.edf\n",
      "🔍 Checking: C:\\Users\\alsaf\\Downloads\\Capstone2\\data\\data\\v2.0.3\\edf\\dev\\aaaaahie\\s031_2016\\01_tcp_ar\\aaaaahie_s031_t009.edf\n",
      "✅ File exists: C:\\Users\\alsaf\\Downloads\\Capstone2\\data\\data\\v2.0.3\\edf\\dev\\aaaaahie\\s031_2016\\01_tcp_ar\\aaaaahie_s031_t009.edf\n",
      "🔍 Checking: C:\\Users\\alsaf\\Downloads\\Capstone2\\data\\data\\v2.0.3\\edf\\dev\\aaaaahie\\s031_2016\\01_tcp_ar\\aaaaahie_s031_t010.edf\n",
      "✅ File exists: C:\\Users\\alsaf\\Downloads\\Capstone2\\data\\data\\v2.0.3\\edf\\dev\\aaaaahie\\s031_2016\\01_tcp_ar\\aaaaahie_s031_t010.edf\n",
      "🔍 Checking: C:\\Users\\alsaf\\Downloads\\Capstone2\\data\\data\\v2.0.3\\edf\\dev\\aaaaahie\\s031_2016\\01_tcp_ar\\aaaaahie_s031_t011.edf\n",
      "✅ File exists: C:\\Users\\alsaf\\Downloads\\Capstone2\\data\\data\\v2.0.3\\edf\\dev\\aaaaahie\\s031_2016\\01_tcp_ar\\aaaaahie_s031_t011.edf\n",
      "🔍 Checking: C:\\Users\\alsaf\\Downloads\\Capstone2\\data\\data\\v2.0.3\\edf\\dev\\aaaaahie\\s031_2016\\01_tcp_ar\\aaaaahie_s031_t012.edf\n",
      "✅ File exists: C:\\Users\\alsaf\\Downloads\\Capstone2\\data\\data\\v2.0.3\\edf\\dev\\aaaaahie\\s031_2016\\01_tcp_ar\\aaaaahie_s031_t012.edf\n",
      "🔍 Checking: C:\\Users\\alsaf\\Downloads\\Capstone2\\data\\data\\v2.0.3\\edf\\dev\\aaaaahie\\s031_2016\\01_tcp_ar\\aaaaahie_s031_t013.edf\n",
      "✅ File exists: C:\\Users\\alsaf\\Downloads\\Capstone2\\data\\data\\v2.0.3\\edf\\dev\\aaaaahie\\s031_2016\\01_tcp_ar\\aaaaahie_s031_t013.edf\n",
      "🔍 Checking: C:\\Users\\alsaf\\Downloads\\Capstone2\\data\\data\\v2.0.3\\edf\\dev\\aaaaahie\\s031_2016\\01_tcp_ar\\aaaaahie_s031_t014.edf\n",
      "✅ File exists: C:\\Users\\alsaf\\Downloads\\Capstone2\\data\\data\\v2.0.3\\edf\\dev\\aaaaahie\\s031_2016\\01_tcp_ar\\aaaaahie_s031_t014.edf\n",
      "🔍 Checking: C:\\Users\\alsaf\\Downloads\\Capstone2\\data\\data\\v2.0.3\\edf\\dev\\aaaaahie\\s031_2016\\01_tcp_ar\\aaaaahie_s031_t015.edf\n",
      "✅ File exists: C:\\Users\\alsaf\\Downloads\\Capstone2\\data\\data\\v2.0.3\\edf\\dev\\aaaaahie\\s031_2016\\01_tcp_ar\\aaaaahie_s031_t015.edf\n",
      "🔍 Checking: C:\\Users\\alsaf\\Downloads\\Capstone2\\data\\data\\v2.0.3\\edf\\dev\\aaaaahie\\s031_2016\\01_tcp_ar\\aaaaahie_s031_t016.edf\n",
      "✅ File exists: C:\\Users\\alsaf\\Downloads\\Capstone2\\data\\data\\v2.0.3\\edf\\dev\\aaaaahie\\s031_2016\\01_tcp_ar\\aaaaahie_s031_t016.edf\n"
     ]
    }
   ],
   "source": [
    "for edf_file in edf_files:\n",
    "    edf_path = os.path.join(edf_dir, edf_file)\n",
    "    print(f\"🔍 Checking: {edf_path}\")\n",
    "\n",
    "    if not os.path.exists(edf_path):\n",
    "        print(f\"❌ File not found: {edf_path}\")\n",
    "    else:\n",
    "        print(f\"✅ File exists: {edf_path}\")\n"
   ]
  },
  {
   "cell_type": "code",
   "execution_count": 12,
   "metadata": {},
   "outputs": [
    {
     "name": "stdout",
     "output_type": "stream",
     "text": [
      "✅ Found 438 EDF files for processing...\n",
      "\n"
     ]
    },
    {
     "name": "stderr",
     "output_type": "stream",
     "text": [
      "Processing EEG Files:   0%|          | 1/438 [00:04<36:12,  4.97s/it]"
     ]
    },
    {
     "name": "stdout",
     "output_type": "stream",
     "text": [
      "✅ Saved: C:\\Users\\alsaf\\Downloads\\Capstone2\\EEG_Segments_Preprocessed\\aaaaaajy_s001_t000.npy | Shape: (33, 448000)\n",
      "✅ Saved: C:\\Users\\alsaf\\Downloads\\Capstone2\\EEG_Segments_Preprocessed\\aaaaaajy_s002_t000.npy | Shape: (32, 5120)\n",
      "✅ Saved: C:\\Users\\alsaf\\Downloads\\Capstone2\\EEG_Segments_Preprocessed\\aaaaaajy_s002_t001.npy | Shape: (32, 1792)\n"
     ]
    },
    {
     "name": "stderr",
     "output_type": "stream",
     "text": [
      "Processing EEG Files:   1%|          | 4/438 [00:05<07:33,  1.04s/it]"
     ]
    },
    {
     "name": "stdout",
     "output_type": "stream",
     "text": [
      "✅ Saved: C:\\Users\\alsaf\\Downloads\\Capstone2\\EEG_Segments_Preprocessed\\aaaaaajy_s002_t002.npy | Shape: (32, 69632)\n"
     ]
    },
    {
     "name": "stderr",
     "output_type": "stream",
     "text": [
      "Processing EEG Files:   1%|          | 5/438 [00:05<06:02,  1.19it/s]"
     ]
    },
    {
     "name": "stdout",
     "output_type": "stream",
     "text": [
      "✅ Saved: C:\\Users\\alsaf\\Downloads\\Capstone2\\EEG_Segments_Preprocessed\\aaaaaajy_s003_t000.npy | Shape: (32, 59904)\n"
     ]
    },
    {
     "name": "stderr",
     "output_type": "stream",
     "text": [
      "Processing EEG Files:   1%|▏         | 6/438 [00:05<04:57,  1.45it/s]"
     ]
    },
    {
     "name": "stdout",
     "output_type": "stream",
     "text": [
      "✅ Saved: C:\\Users\\alsaf\\Downloads\\Capstone2\\EEG_Segments_Preprocessed\\aaaaaajy_s003_t001.npy | Shape: (32, 57344)\n"
     ]
    },
    {
     "name": "stderr",
     "output_type": "stream",
     "text": [
      "Processing EEG Files:   2%|▏         | 7/438 [00:06<04:06,  1.75it/s]"
     ]
    },
    {
     "name": "stdout",
     "output_type": "stream",
     "text": [
      "✅ Saved: C:\\Users\\alsaf\\Downloads\\Capstone2\\EEG_Segments_Preprocessed\\aaaaaajy_s003_t002.npy | Shape: (32, 51968)\n"
     ]
    },
    {
     "name": "stderr",
     "output_type": "stream",
     "text": [
      "Processing EEG Files:   2%|▏         | 8/438 [00:06<03:27,  2.08it/s]"
     ]
    },
    {
     "name": "stdout",
     "output_type": "stream",
     "text": [
      "✅ Saved: C:\\Users\\alsaf\\Downloads\\Capstone2\\EEG_Segments_Preprocessed\\aaaaaajy_s003_t003.npy | Shape: (32, 52480)\n"
     ]
    },
    {
     "name": "stderr",
     "output_type": "stream",
     "text": [
      "Processing EEG Files:   2%|▏         | 9/438 [00:06<02:55,  2.44it/s]"
     ]
    },
    {
     "name": "stdout",
     "output_type": "stream",
     "text": [
      "✅ Saved: C:\\Users\\alsaf\\Downloads\\Capstone2\\EEG_Segments_Preprocessed\\aaaaaajy_s003_t004.npy | Shape: (32, 44800)\n"
     ]
    },
    {
     "name": "stderr",
     "output_type": "stream",
     "text": [
      "Processing EEG Files:   2%|▏         | 10/438 [00:07<02:46,  2.57it/s]"
     ]
    },
    {
     "name": "stdout",
     "output_type": "stream",
     "text": [
      "✅ Saved: C:\\Users\\alsaf\\Downloads\\Capstone2\\EEG_Segments_Preprocessed\\aaaaaajy_s003_t005.npy | Shape: (32, 79104)\n"
     ]
    },
    {
     "name": "stderr",
     "output_type": "stream",
     "text": [
      "Processing EEG Files:   3%|▎         | 11/438 [00:10<09:36,  1.35s/it]"
     ]
    },
    {
     "name": "stdout",
     "output_type": "stream",
     "text": [
      "✅ Saved: C:\\Users\\alsaf\\Downloads\\Capstone2\\EEG_Segments_Preprocessed\\aaaaaajy_s004_t000.npy | Shape: (33, 332032)\n"
     ]
    },
    {
     "name": "stderr",
     "output_type": "stream",
     "text": [
      "Processing EEG Files:   3%|▎         | 12/438 [00:11<07:28,  1.05s/it]"
     ]
    },
    {
     "name": "stdout",
     "output_type": "stream",
     "text": [
      "✅ Saved: C:\\Users\\alsaf\\Downloads\\Capstone2\\EEG_Segments_Preprocessed\\aaaaaayf_s001_t000.npy | Shape: (33, 37120)\n"
     ]
    },
    {
     "name": "stderr",
     "output_type": "stream",
     "text": [
      "Processing EEG Files:   3%|▎         | 13/438 [00:14<12:43,  1.80s/it]"
     ]
    },
    {
     "name": "stdout",
     "output_type": "stream",
     "text": [
      "✅ Saved: C:\\Users\\alsaf\\Downloads\\Capstone2\\EEG_Segments_Preprocessed\\aaaaaayf_s001_t001.npy | Shape: (33, 346624)\n"
     ]
    },
    {
     "name": "stderr",
     "output_type": "stream",
     "text": [
      "Processing EEG Files:   3%|▎         | 14/438 [00:22<24:47,  3.51s/it]"
     ]
    },
    {
     "name": "stdout",
     "output_type": "stream",
     "text": [
      "✅ Saved: C:\\Users\\alsaf\\Downloads\\Capstone2\\EEG_Segments_Preprocessed\\aaaaaayf_s002_t000.npy | Shape: (33, 921600)\n"
     ]
    },
    {
     "name": "stderr",
     "output_type": "stream",
     "text": [
      "Processing EEG Files:   3%|▎         | 15/438 [00:23<21:07,  3.00s/it]"
     ]
    },
    {
     "name": "stdout",
     "output_type": "stream",
     "text": [
      "✅ Saved: C:\\Users\\alsaf\\Downloads\\Capstone2\\EEG_Segments_Preprocessed\\aaaaaayf_s002_t001.npy | Shape: (33, 260608)\n"
     ]
    },
    {
     "name": "stderr",
     "output_type": "stream",
     "text": [
      "Processing EEG Files:   4%|▎         | 16/438 [00:24<15:15,  2.17s/it]"
     ]
    },
    {
     "name": "stdout",
     "output_type": "stream",
     "text": [
      "✅ Saved: C:\\Users\\alsaf\\Downloads\\Capstone2\\EEG_Segments_Preprocessed\\aaaaaayf_s003_t000.npy | Shape: (32, 47360)\n"
     ]
    },
    {
     "name": "stderr",
     "output_type": "stream",
     "text": [
      "Processing EEG Files:   4%|▍         | 17/438 [00:24<11:15,  1.61s/it]"
     ]
    },
    {
     "name": "stdout",
     "output_type": "stream",
     "text": [
      "✅ Saved: C:\\Users\\alsaf\\Downloads\\Capstone2\\EEG_Segments_Preprocessed\\aaaaaayf_s004_t000.npy | Shape: (32, 75520)\n"
     ]
    },
    {
     "name": "stderr",
     "output_type": "stream",
     "text": [
      "Processing EEG Files:   4%|▍         | 18/438 [00:24<08:55,  1.28s/it]"
     ]
    },
    {
     "name": "stdout",
     "output_type": "stream",
     "text": [
      "✅ Saved: C:\\Users\\alsaf\\Downloads\\Capstone2\\EEG_Segments_Preprocessed\\aaaaaayf_s004_t001.npy | Shape: (32, 94464)\n"
     ]
    },
    {
     "name": "stderr",
     "output_type": "stream",
     "text": [
      "Processing EEG Files:   4%|▍         | 19/438 [00:25<06:51,  1.02it/s]"
     ]
    },
    {
     "name": "stdout",
     "output_type": "stream",
     "text": [
      "✅ Saved: C:\\Users\\alsaf\\Downloads\\Capstone2\\EEG_Segments_Preprocessed\\aaaaaayf_s004_t002.npy | Shape: (32, 78080)\n"
     ]
    },
    {
     "name": "stderr",
     "output_type": "stream",
     "text": [
      "Processing EEG Files:   5%|▍         | 20/438 [00:25<05:28,  1.27it/s]"
     ]
    },
    {
     "name": "stdout",
     "output_type": "stream",
     "text": [
      "✅ Saved: C:\\Users\\alsaf\\Downloads\\Capstone2\\EEG_Segments_Preprocessed\\aaaaaayf_s004_t003.npy | Shape: (32, 80384)\n"
     ]
    },
    {
     "name": "stderr",
     "output_type": "stream",
     "text": [
      "Processing EEG Files:   5%|▍         | 21/438 [00:28<10:08,  1.46s/it]"
     ]
    },
    {
     "name": "stdout",
     "output_type": "stream",
     "text": [
      "✅ Saved: C:\\Users\\alsaf\\Downloads\\Capstone2\\EEG_Segments_Preprocessed\\aaaaaazz_s001_t001.npy | Shape: (33, 316672)\n"
     ]
    },
    {
     "name": "stderr",
     "output_type": "stream",
     "text": [
      "Processing EEG Files:   5%|▌         | 23/438 [00:32<10:44,  1.55s/it]"
     ]
    },
    {
     "name": "stdout",
     "output_type": "stream",
     "text": [
      "✅ Saved: C:\\Users\\alsaf\\Downloads\\Capstone2\\EEG_Segments_Preprocessed\\aaaaaazz_s002_t001.npy | Shape: (41, 318720)\n",
      "✅ Saved: C:\\Users\\alsaf\\Downloads\\Capstone2\\EEG_Segments_Preprocessed\\aaaaabep_s001_t001.npy | Shape: (33, 22784)\n"
     ]
    },
    {
     "name": "stderr",
     "output_type": "stream",
     "text": [
      "Processing EEG Files:   5%|▌         | 24/438 [00:35<13:43,  1.99s/it]"
     ]
    },
    {
     "name": "stdout",
     "output_type": "stream",
     "text": [
      "✅ Saved: C:\\Users\\alsaf\\Downloads\\Capstone2\\EEG_Segments_Preprocessed\\aaaaabep_s001_t002.npy | Shape: (33, 304128)\n"
     ]
    },
    {
     "name": "stderr",
     "output_type": "stream",
     "text": [
      "Processing EEG Files:   6%|▌         | 25/438 [00:38<15:49,  2.30s/it]"
     ]
    },
    {
     "name": "stdout",
     "output_type": "stream",
     "text": [
      "✅ Saved: C:\\Users\\alsaf\\Downloads\\Capstone2\\EEG_Segments_Preprocessed\\aaaaabxe_s001_t001.npy | Shape: (33, 322048)\n"
     ]
    },
    {
     "name": "stderr",
     "output_type": "stream",
     "text": [
      "Processing EEG Files:   6%|▌         | 26/438 [00:38<11:39,  1.70s/it]"
     ]
    },
    {
     "name": "stdout",
     "output_type": "stream",
     "text": [
      "✅ Saved: C:\\Users\\alsaf\\Downloads\\Capstone2\\EEG_Segments_Preprocessed\\aaaaabxe_s002_t000.npy | Shape: (32, 74496)\n"
     ]
    },
    {
     "name": "stderr",
     "output_type": "stream",
     "text": [
      "Processing EEG Files:   6%|▌         | 27/438 [00:48<27:22,  4.00s/it]"
     ]
    },
    {
     "name": "stdout",
     "output_type": "stream",
     "text": [
      "✅ Saved: C:\\Users\\alsaf\\Downloads\\Capstone2\\EEG_Segments_Preprocessed\\aaaaabxe_s002_t001.npy | Shape: (32, 678912)\n"
     ]
    },
    {
     "name": "stderr",
     "output_type": "stream",
     "text": [
      "Processing EEG Files:   6%|▋         | 28/438 [00:48<20:28,  3.00s/it]"
     ]
    },
    {
     "name": "stdout",
     "output_type": "stream",
     "text": [
      "✅ Saved: C:\\Users\\alsaf\\Downloads\\Capstone2\\EEG_Segments_Preprocessed\\aaaaabxe_s002_t002.npy | Shape: (32, 138496)\n"
     ]
    },
    {
     "name": "stderr",
     "output_type": "stream",
     "text": [
      "Processing EEG Files:   7%|▋         | 29/438 [00:49<15:34,  2.29s/it]"
     ]
    },
    {
     "name": "stdout",
     "output_type": "stream",
     "text": [
      "✅ Saved: C:\\Users\\alsaf\\Downloads\\Capstone2\\EEG_Segments_Preprocessed\\aaaaabxe_s002_t003.npy | Shape: (32, 128000)\n"
     ]
    },
    {
     "name": "stderr",
     "output_type": "stream",
     "text": [
      "Processing EEG Files:   7%|▋         | 30/438 [00:52<17:25,  2.56s/it]"
     ]
    },
    {
     "name": "stdout",
     "output_type": "stream",
     "text": [
      "✅ Saved: C:\\Users\\alsaf\\Downloads\\Capstone2\\EEG_Segments_Preprocessed\\aaaaaclc_s001_t001.npy | Shape: (33, 313344)\n"
     ]
    },
    {
     "name": "stderr",
     "output_type": "stream",
     "text": [
      "Processing EEG Files:   7%|▋         | 31/438 [00:54<15:30,  2.29s/it]"
     ]
    },
    {
     "name": "stdout",
     "output_type": "stream",
     "text": [
      "✅ Saved: C:\\Users\\alsaf\\Downloads\\Capstone2\\EEG_Segments_Preprocessed\\aaaaacqc_s001_t000.npy | Shape: (33, 206592)\n"
     ]
    },
    {
     "name": "stderr",
     "output_type": "stream",
     "text": [
      "Processing EEG Files:   7%|▋         | 32/438 [00:55<13:54,  2.06s/it]"
     ]
    },
    {
     "name": "stdout",
     "output_type": "stream",
     "text": [
      "✅ Saved: C:\\Users\\alsaf\\Downloads\\Capstone2\\EEG_Segments_Preprocessed\\aaaaacqc_s001_t001.npy | Shape: (33, 151808)\n"
     ]
    },
    {
     "name": "stderr",
     "output_type": "stream",
     "text": [
      "Processing EEG Files:   8%|▊         | 33/438 [00:59<16:25,  2.43s/it]"
     ]
    },
    {
     "name": "stdout",
     "output_type": "stream",
     "text": [
      "✅ Saved: C:\\Users\\alsaf\\Downloads\\Capstone2\\EEG_Segments_Preprocessed\\aaaaacqc_s002_t000.npy | Shape: (33, 340480)\n"
     ]
    },
    {
     "name": "stderr",
     "output_type": "stream",
     "text": [
      "Processing EEG Files:   8%|▊         | 34/438 [01:07<28:23,  4.22s/it]"
     ]
    },
    {
     "name": "stdout",
     "output_type": "stream",
     "text": [
      "✅ Saved: C:\\Users\\alsaf\\Downloads\\Capstone2\\EEG_Segments_Preprocessed\\aaaaacqc_s003_t000.npy | Shape: (41, 606720)\n"
     ]
    },
    {
     "name": "stderr",
     "output_type": "stream",
     "text": [
      "Processing EEG Files:   8%|▊         | 35/438 [01:07<20:35,  3.06s/it]"
     ]
    },
    {
     "name": "stdout",
     "output_type": "stream",
     "text": [
      "✅ Saved: C:\\Users\\alsaf\\Downloads\\Capstone2\\EEG_Segments_Preprocessed\\aaaaacqc_s004_t000.npy | Shape: (32, 80384)\n"
     ]
    },
    {
     "name": "stderr",
     "output_type": "stream",
     "text": [
      "Processing EEG Files:   8%|▊         | 36/438 [01:08<15:47,  2.36s/it]"
     ]
    },
    {
     "name": "stdout",
     "output_type": "stream",
     "text": [
      "✅ Saved: C:\\Users\\alsaf\\Downloads\\Capstone2\\EEG_Segments_Preprocessed\\aaaaacqc_s004_t001.npy | Shape: (32, 154624)\n"
     ]
    },
    {
     "name": "stderr",
     "output_type": "stream",
     "text": [
      "Processing EEG Files:   8%|▊         | 37/438 [01:12<18:12,  2.73s/it]"
     ]
    },
    {
     "name": "stdout",
     "output_type": "stream",
     "text": [
      "✅ Saved: C:\\Users\\alsaf\\Downloads\\Capstone2\\EEG_Segments_Preprocessed\\aaaaacyi_s001_t001.npy | Shape: (33, 373504)\n"
     ]
    },
    {
     "name": "stderr",
     "output_type": "stream",
     "text": [
      "Processing EEG Files:   9%|▊         | 38/438 [01:15<19:36,  2.94s/it]"
     ]
    },
    {
     "name": "stdout",
     "output_type": "stream",
     "text": [
      "✅ Saved: C:\\Users\\alsaf\\Downloads\\Capstone2\\EEG_Segments_Preprocessed\\aaaaadkb_s001_t000.npy | Shape: (33, 357632)\n"
     ]
    },
    {
     "name": "stderr",
     "output_type": "stream",
     "text": [
      "Processing EEG Files:   9%|▉         | 39/438 [01:19<21:08,  3.18s/it]"
     ]
    },
    {
     "name": "stdout",
     "output_type": "stream",
     "text": [
      "✅ Saved: C:\\Users\\alsaf\\Downloads\\Capstone2\\EEG_Segments_Preprocessed\\aaaaadkb_s002_t000.npy | Shape: (36, 339712)\n"
     ]
    },
    {
     "name": "stderr",
     "output_type": "stream",
     "text": [
      "Processing EEG Files:   9%|▉         | 40/438 [01:19<15:46,  2.38s/it]"
     ]
    },
    {
     "name": "stdout",
     "output_type": "stream",
     "text": [
      "✅ Saved: C:\\Users\\alsaf\\Downloads\\Capstone2\\EEG_Segments_Preprocessed\\aaaaadkb_s003_t000.npy | Shape: (34, 76800)\n"
     ]
    },
    {
     "name": "stderr",
     "output_type": "stream",
     "text": [
      "Processing EEG Files:   9%|▉         | 41/438 [01:21<13:20,  2.02s/it]"
     ]
    },
    {
     "name": "stdout",
     "output_type": "stream",
     "text": [
      "✅ Saved: C:\\Users\\alsaf\\Downloads\\Capstone2\\EEG_Segments_Preprocessed\\aaaaadkb_s003_t001.npy | Shape: (34, 168704)\n",
      "✅ Saved: C:\\Users\\alsaf\\Downloads\\Capstone2\\EEG_Segments_Preprocessed\\aaaaadkb_s003_t002.npy | Shape: (34, 1792)\n"
     ]
    },
    {
     "name": "stderr",
     "output_type": "stream",
     "text": [
      "Processing EEG Files:  10%|▉         | 43/438 [01:21<07:40,  1.16s/it]"
     ]
    },
    {
     "name": "stdout",
     "output_type": "stream",
     "text": [
      "✅ Saved: C:\\Users\\alsaf\\Downloads\\Capstone2\\EEG_Segments_Preprocessed\\aaaaadkb_s003_t003.npy | Shape: (34, 51456)\n"
     ]
    },
    {
     "name": "stderr",
     "output_type": "stream",
     "text": [
      "Processing EEG Files:  10%|█         | 44/438 [01:22<07:31,  1.15s/it]"
     ]
    },
    {
     "name": "stdout",
     "output_type": "stream",
     "text": [
      "✅ Saved: C:\\Users\\alsaf\\Downloads\\Capstone2\\EEG_Segments_Preprocessed\\aaaaadkb_s003_t004.npy | Shape: (34, 153856)\n"
     ]
    },
    {
     "name": "stderr",
     "output_type": "stream",
     "text": [
      "Processing EEG Files:  10%|█         | 45/438 [01:23<06:23,  1.02it/s]"
     ]
    },
    {
     "name": "stdout",
     "output_type": "stream",
     "text": [
      "✅ Saved: C:\\Users\\alsaf\\Downloads\\Capstone2\\EEG_Segments_Preprocessed\\aaaaadkb_s003_t005.npy | Shape: (34, 76800)\n"
     ]
    },
    {
     "name": "stderr",
     "output_type": "stream",
     "text": [
      "Processing EEG Files:  11%|█         | 46/438 [01:25<08:24,  1.29s/it]"
     ]
    },
    {
     "name": "stdout",
     "output_type": "stream",
     "text": [
      "✅ Saved: C:\\Users\\alsaf\\Downloads\\Capstone2\\EEG_Segments_Preprocessed\\aaaaadkb_s003_t006.npy | Shape: (34, 317696)\n"
     ]
    },
    {
     "name": "stderr",
     "output_type": "stream",
     "text": [
      "Processing EEG Files:  11%|█         | 47/438 [01:26<08:32,  1.31s/it]"
     ]
    },
    {
     "name": "stdout",
     "output_type": "stream",
     "text": [
      "✅ Saved: C:\\Users\\alsaf\\Downloads\\Capstone2\\EEG_Segments_Preprocessed\\aaaaadkb_s003_t007.npy | Shape: (34, 255744)\n"
     ]
    },
    {
     "name": "stderr",
     "output_type": "stream",
     "text": [
      "Processing EEG Files:  11%|█         | 48/438 [01:27<07:03,  1.09s/it]"
     ]
    },
    {
     "name": "stdout",
     "output_type": "stream",
     "text": [
      "✅ Saved: C:\\Users\\alsaf\\Downloads\\Capstone2\\EEG_Segments_Preprocessed\\aaaaadkb_s003_t008.npy | Shape: (34, 76800)\n"
     ]
    },
    {
     "name": "stderr",
     "output_type": "stream",
     "text": [
      "Processing EEG Files:  11%|█         | 49/438 [01:28<06:56,  1.07s/it]"
     ]
    },
    {
     "name": "stdout",
     "output_type": "stream",
     "text": [
      "✅ Saved: C:\\Users\\alsaf\\Downloads\\Capstone2\\EEG_Segments_Preprocessed\\aaaaadkb_s003_t009.npy | Shape: (34, 153856)\n"
     ]
    },
    {
     "name": "stderr",
     "output_type": "stream",
     "text": [
      "Processing EEG Files:  11%|█▏        | 50/438 [01:28<05:48,  1.11it/s]"
     ]
    },
    {
     "name": "stdout",
     "output_type": "stream",
     "text": [
      "✅ Saved: C:\\Users\\alsaf\\Downloads\\Capstone2\\EEG_Segments_Preprocessed\\aaaaadkb_s003_t010.npy | Shape: (34, 76800)\n"
     ]
    },
    {
     "name": "stderr",
     "output_type": "stream",
     "text": [
      "Processing EEG Files:  12%|█▏        | 51/438 [01:29<06:08,  1.05it/s]"
     ]
    },
    {
     "name": "stdout",
     "output_type": "stream",
     "text": [
      "✅ Saved: C:\\Users\\alsaf\\Downloads\\Capstone2\\EEG_Segments_Preprocessed\\aaaaadkb_s003_t011.npy | Shape: (34, 153856)\n"
     ]
    },
    {
     "name": "stderr",
     "output_type": "stream",
     "text": [
      "Processing EEG Files:  12%|█▏        | 52/438 [01:30<05:20,  1.21it/s]"
     ]
    },
    {
     "name": "stdout",
     "output_type": "stream",
     "text": [
      "✅ Saved: C:\\Users\\alsaf\\Downloads\\Capstone2\\EEG_Segments_Preprocessed\\aaaaadkb_s003_t012.npy | Shape: (34, 76800)\n"
     ]
    },
    {
     "name": "stderr",
     "output_type": "stream",
     "text": [
      "Processing EEG Files:  12%|█▏        | 53/438 [01:31<05:50,  1.10it/s]"
     ]
    },
    {
     "name": "stdout",
     "output_type": "stream",
     "text": [
      "✅ Saved: C:\\Users\\alsaf\\Downloads\\Capstone2\\EEG_Segments_Preprocessed\\aaaaadkb_s003_t013.npy | Shape: (34, 153856)\n"
     ]
    },
    {
     "name": "stderr",
     "output_type": "stream",
     "text": [
      "Processing EEG Files:  12%|█▏        | 54/438 [01:31<05:03,  1.26it/s]"
     ]
    },
    {
     "name": "stdout",
     "output_type": "stream",
     "text": [
      "✅ Saved: C:\\Users\\alsaf\\Downloads\\Capstone2\\EEG_Segments_Preprocessed\\aaaaadkb_s004_t000.npy | Shape: (34, 76800)\n"
     ]
    },
    {
     "name": "stderr",
     "output_type": "stream",
     "text": [
      "Processing EEG Files:  13%|█▎        | 55/438 [01:32<04:30,  1.41it/s]"
     ]
    },
    {
     "name": "stdout",
     "output_type": "stream",
     "text": [
      "✅ Saved: C:\\Users\\alsaf\\Downloads\\Capstone2\\EEG_Segments_Preprocessed\\aaaaadkb_s004_t005.npy | Shape: (34, 76800)\n"
     ]
    },
    {
     "name": "stderr",
     "output_type": "stream",
     "text": [
      "Processing EEG Files:  13%|█▎        | 56/438 [01:32<04:03,  1.57it/s]"
     ]
    },
    {
     "name": "stdout",
     "output_type": "stream",
     "text": [
      "✅ Saved: C:\\Users\\alsaf\\Downloads\\Capstone2\\EEG_Segments_Preprocessed\\aaaaadkb_s004_t006.npy | Shape: (34, 76800)\n"
     ]
    },
    {
     "name": "stderr",
     "output_type": "stream",
     "text": [
      "Processing EEG Files:  13%|█▎        | 57/438 [01:33<03:47,  1.67it/s]"
     ]
    },
    {
     "name": "stdout",
     "output_type": "stream",
     "text": [
      "✅ Saved: C:\\Users\\alsaf\\Downloads\\Capstone2\\EEG_Segments_Preprocessed\\aaaaadkb_s004_t010.npy | Shape: (34, 76800)\n"
     ]
    },
    {
     "name": "stderr",
     "output_type": "stream",
     "text": [
      "Processing EEG Files:  13%|█▎        | 58/438 [01:33<03:34,  1.77it/s]"
     ]
    },
    {
     "name": "stdout",
     "output_type": "stream",
     "text": [
      "✅ Saved: C:\\Users\\alsaf\\Downloads\\Capstone2\\EEG_Segments_Preprocessed\\aaaaadkb_s004_t011.npy | Shape: (34, 76800)\n"
     ]
    },
    {
     "name": "stderr",
     "output_type": "stream",
     "text": [
      "Processing EEG Files:  13%|█▎        | 59/438 [01:34<03:29,  1.81it/s]"
     ]
    },
    {
     "name": "stdout",
     "output_type": "stream",
     "text": [
      "✅ Saved: C:\\Users\\alsaf\\Downloads\\Capstone2\\EEG_Segments_Preprocessed\\aaaaadkb_s005_t000.npy | Shape: (34, 76800)\n"
     ]
    },
    {
     "name": "stderr",
     "output_type": "stream",
     "text": [
      "Processing EEG Files:  14%|█▎        | 60/438 [01:35<04:43,  1.33it/s]"
     ]
    },
    {
     "name": "stdout",
     "output_type": "stream",
     "text": [
      "✅ Saved: C:\\Users\\alsaf\\Downloads\\Capstone2\\EEG_Segments_Preprocessed\\aaaaadkb_s005_t001.npy | Shape: (34, 172032)\n"
     ]
    },
    {
     "name": "stderr",
     "output_type": "stream",
     "text": [
      "Processing EEG Files:  14%|█▍        | 61/438 [01:36<04:15,  1.47it/s]"
     ]
    },
    {
     "name": "stdout",
     "output_type": "stream",
     "text": [
      "✅ Saved: C:\\Users\\alsaf\\Downloads\\Capstone2\\EEG_Segments_Preprocessed\\aaaaadkb_s005_t002.npy | Shape: (34, 76800)\n"
     ]
    },
    {
     "name": "stderr",
     "output_type": "stream",
     "text": [
      "Processing EEG Files:  14%|█▍        | 62/438 [01:36<03:55,  1.60it/s]"
     ]
    },
    {
     "name": "stdout",
     "output_type": "stream",
     "text": [
      "✅ Saved: C:\\Users\\alsaf\\Downloads\\Capstone2\\EEG_Segments_Preprocessed\\aaaaadkb_s005_t003.npy | Shape: (34, 76800)\n"
     ]
    },
    {
     "name": "stderr",
     "output_type": "stream",
     "text": [
      "Processing EEG Files:  14%|█▍        | 63/438 [01:37<03:39,  1.71it/s]"
     ]
    },
    {
     "name": "stdout",
     "output_type": "stream",
     "text": [
      "✅ Saved: C:\\Users\\alsaf\\Downloads\\Capstone2\\EEG_Segments_Preprocessed\\aaaaadkb_s005_t004.npy | Shape: (34, 76800)\n"
     ]
    },
    {
     "name": "stderr",
     "output_type": "stream",
     "text": [
      "Processing EEG Files:  15%|█▍        | 64/438 [01:37<03:30,  1.78it/s]"
     ]
    },
    {
     "name": "stdout",
     "output_type": "stream",
     "text": [
      "✅ Saved: C:\\Users\\alsaf\\Downloads\\Capstone2\\EEG_Segments_Preprocessed\\aaaaadkb_s005_t005.npy | Shape: (34, 76800)\n"
     ]
    },
    {
     "name": "stderr",
     "output_type": "stream",
     "text": [
      "Processing EEG Files:  15%|█▍        | 65/438 [01:38<04:55,  1.26it/s]"
     ]
    },
    {
     "name": "stdout",
     "output_type": "stream",
     "text": [
      "✅ Saved: C:\\Users\\alsaf\\Downloads\\Capstone2\\EEG_Segments_Preprocessed\\aaaaadkb_s007_t000.npy | Shape: (34, 179456)\n"
     ]
    },
    {
     "name": "stderr",
     "output_type": "stream",
     "text": [
      "Processing EEG Files:  15%|█▌        | 66/438 [01:39<04:22,  1.42it/s]"
     ]
    },
    {
     "name": "stdout",
     "output_type": "stream",
     "text": [
      "✅ Saved: C:\\Users\\alsaf\\Downloads\\Capstone2\\EEG_Segments_Preprocessed\\aaaaadkb_s007_t001.npy | Shape: (34, 76800)\n"
     ]
    },
    {
     "name": "stderr",
     "output_type": "stream",
     "text": [
      "Processing EEG Files:  15%|█▌        | 67/438 [01:39<04:02,  1.53it/s]"
     ]
    },
    {
     "name": "stdout",
     "output_type": "stream",
     "text": [
      "✅ Saved: C:\\Users\\alsaf\\Downloads\\Capstone2\\EEG_Segments_Preprocessed\\aaaaadkb_s007_t002.npy | Shape: (34, 76800)\n"
     ]
    },
    {
     "name": "stderr",
     "output_type": "stream",
     "text": [
      "Processing EEG Files:  16%|█▌        | 68/438 [01:40<03:46,  1.63it/s]"
     ]
    },
    {
     "name": "stdout",
     "output_type": "stream",
     "text": [
      "✅ Saved: C:\\Users\\alsaf\\Downloads\\Capstone2\\EEG_Segments_Preprocessed\\aaaaadkb_s007_t003.npy | Shape: (34, 76800)\n"
     ]
    },
    {
     "name": "stderr",
     "output_type": "stream",
     "text": [
      "Processing EEG Files:  16%|█▌        | 69/438 [01:40<03:33,  1.73it/s]"
     ]
    },
    {
     "name": "stdout",
     "output_type": "stream",
     "text": [
      "✅ Saved: C:\\Users\\alsaf\\Downloads\\Capstone2\\EEG_Segments_Preprocessed\\aaaaadkb_s007_t004.npy | Shape: (34, 76800)\n",
      "✅ Saved: C:\\Users\\alsaf\\Downloads\\Capstone2\\EEG_Segments_Preprocessed\\aaaaadkb_s008_t000.npy | Shape: (34, 8704)\n"
     ]
    },
    {
     "name": "stderr",
     "output_type": "stream",
     "text": [
      "Processing EEG Files:  16%|█▌        | 71/438 [01:41<02:15,  2.71it/s]"
     ]
    },
    {
     "name": "stdout",
     "output_type": "stream",
     "text": [
      "✅ Saved: C:\\Users\\alsaf\\Downloads\\Capstone2\\EEG_Segments_Preprocessed\\aaaaadkb_s008_t001.npy | Shape: (34, 29440)\n"
     ]
    },
    {
     "name": "stderr",
     "output_type": "stream",
     "text": [
      "Processing EEG Files:  16%|█▋        | 72/438 [01:42<03:15,  1.87it/s]"
     ]
    },
    {
     "name": "stdout",
     "output_type": "stream",
     "text": [
      "✅ Saved: C:\\Users\\alsaf\\Downloads\\Capstone2\\EEG_Segments_Preprocessed\\aaaaadkb_s008_t002.npy | Shape: (34, 137984)\n"
     ]
    },
    {
     "name": "stderr",
     "output_type": "stream",
     "text": [
      "Processing EEG Files:  17%|█▋        | 73/438 [01:43<04:20,  1.40it/s]"
     ]
    },
    {
     "name": "stdout",
     "output_type": "stream",
     "text": [
      "✅ Saved: C:\\Users\\alsaf\\Downloads\\Capstone2\\EEG_Segments_Preprocessed\\aaaaadkb_s009_t000.npy | Shape: (34, 167168)\n"
     ]
    },
    {
     "name": "stderr",
     "output_type": "stream",
     "text": [
      "Processing EEG Files:  17%|█▋        | 74/438 [01:43<03:40,  1.65it/s]"
     ]
    },
    {
     "name": "stdout",
     "output_type": "stream",
     "text": [
      "✅ Saved: C:\\Users\\alsaf\\Downloads\\Capstone2\\EEG_Segments_Preprocessed\\aaaaadkb_s009_t002.npy | Shape: (34, 60160)\n"
     ]
    },
    {
     "name": "stderr",
     "output_type": "stream",
     "text": [
      "Processing EEG Files:  17%|█▋        | 75/438 [01:44<04:21,  1.39it/s]"
     ]
    },
    {
     "name": "stdout",
     "output_type": "stream",
     "text": [
      "✅ Saved: C:\\Users\\alsaf\\Downloads\\Capstone2\\EEG_Segments_Preprocessed\\aaaaadkb_s009_t003.npy | Shape: (34, 152320)\n"
     ]
    },
    {
     "name": "stderr",
     "output_type": "stream",
     "text": [
      "Processing EEG Files:  17%|█▋        | 76/438 [01:53<17:52,  2.96s/it]"
     ]
    },
    {
     "name": "stdout",
     "output_type": "stream",
     "text": [
      "✅ Saved: C:\\Users\\alsaf\\Downloads\\Capstone2\\EEG_Segments_Preprocessed\\aaaaadkb_s010_t000.npy | Shape: (21, 921600)\n",
      "✅ Saved: C:\\Users\\alsaf\\Downloads\\Capstone2\\EEG_Segments_Preprocessed\\aaaaadkb_s010_t001.npy | Shape: (21, 7424)\n"
     ]
    },
    {
     "name": "stderr",
     "output_type": "stream",
     "text": [
      "Processing EEG Files:  18%|█▊        | 78/438 [01:57<14:53,  2.48s/it]"
     ]
    },
    {
     "name": "stdout",
     "output_type": "stream",
     "text": [
      "✅ Saved: C:\\Users\\alsaf\\Downloads\\Capstone2\\EEG_Segments_Preprocessed\\aaaaadkj_s001_t000.npy | Shape: (33, 310016)\n"
     ]
    },
    {
     "name": "stderr",
     "output_type": "stream",
     "text": [
      "Processing EEG Files:  18%|█▊        | 79/438 [02:01<17:41,  2.96s/it]"
     ]
    },
    {
     "name": "stdout",
     "output_type": "stream",
     "text": [
      "✅ Saved: C:\\Users\\alsaf\\Downloads\\Capstone2\\EEG_Segments_Preprocessed\\aaaaadkj_s002_t000.npy | Shape: (41, 316416)\n"
     ]
    },
    {
     "name": "stderr",
     "output_type": "stream",
     "text": [
      "Processing EEG Files:  18%|█▊        | 80/438 [02:02<14:02,  2.35s/it]"
     ]
    },
    {
     "name": "stdout",
     "output_type": "stream",
     "text": [
      "✅ Saved: C:\\Users\\alsaf\\Downloads\\Capstone2\\EEG_Segments_Preprocessed\\aaaaadkj_s003_t000.npy | Shape: (32, 111360)\n"
     ]
    },
    {
     "name": "stderr",
     "output_type": "stream",
     "text": [
      "Processing EEG Files:  18%|█▊        | 81/438 [02:02<11:09,  1.88s/it]"
     ]
    },
    {
     "name": "stdout",
     "output_type": "stream",
     "text": [
      "✅ Saved: C:\\Users\\alsaf\\Downloads\\Capstone2\\EEG_Segments_Preprocessed\\aaaaadkj_s003_t001.npy | Shape: (32, 118784)\n"
     ]
    },
    {
     "name": "stderr",
     "output_type": "stream",
     "text": [
      "Processing EEG Files:  19%|█▉        | 83/438 [02:03<06:33,  1.11s/it]"
     ]
    },
    {
     "name": "stdout",
     "output_type": "stream",
     "text": [
      "✅ Saved: C:\\Users\\alsaf\\Downloads\\Capstone2\\EEG_Segments_Preprocessed\\aaaaadkj_s003_t002.npy | Shape: (32, 96768)\n",
      "✅ Saved: C:\\Users\\alsaf\\Downloads\\Capstone2\\EEG_Segments_Preprocessed\\aaaaadkj_s003_t003.npy | Shape: (32, 31488)\n"
     ]
    },
    {
     "name": "stderr",
     "output_type": "stream",
     "text": [
      "Processing EEG Files:  19%|█▉        | 84/438 [02:03<05:26,  1.08it/s]"
     ]
    },
    {
     "name": "stdout",
     "output_type": "stream",
     "text": [
      "✅ Saved: C:\\Users\\alsaf\\Downloads\\Capstone2\\EEG_Segments_Preprocessed\\aaaaadkj_s004_t000.npy | Shape: (32, 83968)\n"
     ]
    },
    {
     "name": "stderr",
     "output_type": "stream",
     "text": [
      "Processing EEG Files:  19%|█▉        | 85/438 [02:04<04:19,  1.36it/s]"
     ]
    },
    {
     "name": "stdout",
     "output_type": "stream",
     "text": [
      "✅ Saved: C:\\Users\\alsaf\\Downloads\\Capstone2\\EEG_Segments_Preprocessed\\aaaaadkj_s004_t001.npy | Shape: (32, 53504)\n"
     ]
    },
    {
     "name": "stderr",
     "output_type": "stream",
     "text": [
      "Processing EEG Files:  20%|█▉        | 86/438 [02:07<09:33,  1.63s/it]"
     ]
    },
    {
     "name": "stdout",
     "output_type": "stream",
     "text": [
      "✅ Saved: C:\\Users\\alsaf\\Downloads\\Capstone2\\EEG_Segments_Preprocessed\\aaaaaewf_s001_t001.npy | Shape: (41, 336128)\n"
     ]
    },
    {
     "name": "stderr",
     "output_type": "stream",
     "text": [
      "Processing EEG Files:  20%|█▉        | 87/438 [02:10<11:48,  2.02s/it]"
     ]
    },
    {
     "name": "stdout",
     "output_type": "stream",
     "text": [
      "✅ Saved: C:\\Users\\alsaf\\Downloads\\Capstone2\\EEG_Segments_Preprocessed\\aaaaaewf_s002_t000.npy | Shape: (30, 372992)\n"
     ]
    },
    {
     "name": "stderr",
     "output_type": "stream",
     "text": [
      "Processing EEG Files:  20%|██        | 88/438 [02:16<17:31,  3.00s/it]"
     ]
    },
    {
     "name": "stdout",
     "output_type": "stream",
     "text": [
      "✅ Saved: C:\\Users\\alsaf\\Downloads\\Capstone2\\EEG_Segments_Preprocessed\\aaaaaewf_s003_t000.npy | Shape: (30, 418816)\n"
     ]
    },
    {
     "name": "stderr",
     "output_type": "stream",
     "text": [
      "Processing EEG Files:  20%|██        | 89/438 [02:20<19:57,  3.43s/it]"
     ]
    },
    {
     "name": "stdout",
     "output_type": "stream",
     "text": [
      "✅ Saved: C:\\Users\\alsaf\\Downloads\\Capstone2\\EEG_Segments_Preprocessed\\aaaaaexe_s001_t001.npy | Shape: (41, 365056)\n"
     ]
    },
    {
     "name": "stderr",
     "output_type": "stream",
     "text": [
      "Processing EEG Files:  21%|██        | 90/438 [02:24<20:25,  3.52s/it]"
     ]
    },
    {
     "name": "stdout",
     "output_type": "stream",
     "text": [
      "✅ Saved: C:\\Users\\alsaf\\Downloads\\Capstone2\\EEG_Segments_Preprocessed\\aaaaafjv_s001_t001.npy | Shape: (33, 414208)\n"
     ]
    },
    {
     "name": "stderr",
     "output_type": "stream",
     "text": [
      "Processing EEG Files:  21%|██        | 91/438 [02:28<21:47,  3.77s/it]"
     ]
    },
    {
     "name": "stdout",
     "output_type": "stream",
     "text": [
      "✅ Saved: C:\\Users\\alsaf\\Downloads\\Capstone2\\EEG_Segments_Preprocessed\\aaaaagbf_s001_t000.npy | Shape: (41, 347904)\n"
     ]
    },
    {
     "name": "stderr",
     "output_type": "stream",
     "text": [
      "Processing EEG Files:  21%|██        | 92/438 [02:32<21:56,  3.81s/it]"
     ]
    },
    {
     "name": "stdout",
     "output_type": "stream",
     "text": [
      "✅ Saved: C:\\Users\\alsaf\\Downloads\\Capstone2\\EEG_Segments_Preprocessed\\aaaaagbf_s002_t000.npy | Shape: (41, 347904)\n"
     ]
    },
    {
     "name": "stderr",
     "output_type": "stream",
     "text": [
      "Processing EEG Files:  21%|██        | 93/438 [02:32<15:54,  2.77s/it]"
     ]
    },
    {
     "name": "stdout",
     "output_type": "stream",
     "text": [
      "✅ Saved: C:\\Users\\alsaf\\Downloads\\Capstone2\\EEG_Segments_Preprocessed\\aaaaagbf_s003_t000.npy | Shape: (32, 79616)\n"
     ]
    },
    {
     "name": "stderr",
     "output_type": "stream",
     "text": [
      "Processing EEG Files:  21%|██▏       | 94/438 [02:33<11:35,  2.02s/it]"
     ]
    },
    {
     "name": "stdout",
     "output_type": "stream",
     "text": [
      "✅ Saved: C:\\Users\\alsaf\\Downloads\\Capstone2\\EEG_Segments_Preprocessed\\aaaaagbf_s003_t001.npy | Shape: (32, 51456)\n"
     ]
    },
    {
     "name": "stderr",
     "output_type": "stream",
     "text": [
      "Processing EEG Files:  22%|██▏       | 95/438 [02:33<08:38,  1.51s/it]"
     ]
    },
    {
     "name": "stdout",
     "output_type": "stream",
     "text": [
      "✅ Saved: C:\\Users\\alsaf\\Downloads\\Capstone2\\EEG_Segments_Preprocessed\\aaaaagbf_s003_t002.npy | Shape: (32, 82176)\n"
     ]
    },
    {
     "name": "stderr",
     "output_type": "stream",
     "text": [
      "Processing EEG Files:  22%|██▏       | 96/438 [02:33<06:51,  1.20s/it]"
     ]
    },
    {
     "name": "stdout",
     "output_type": "stream",
     "text": [
      "✅ Saved: C:\\Users\\alsaf\\Downloads\\Capstone2\\EEG_Segments_Preprocessed\\aaaaagbf_s003_t003.npy | Shape: (32, 87808)\n"
     ]
    },
    {
     "name": "stderr",
     "output_type": "stream",
     "text": [
      "Processing EEG Files:  22%|██▏       | 97/438 [02:34<05:22,  1.06it/s]"
     ]
    },
    {
     "name": "stdout",
     "output_type": "stream",
     "text": [
      "✅ Saved: C:\\Users\\alsaf\\Downloads\\Capstone2\\EEG_Segments_Preprocessed\\aaaaagbf_s003_t004.npy | Shape: (32, 80640)\n",
      "Sampling frequency of the instance is already 256.0, returning unmodified.\n"
     ]
    },
    {
     "name": "stderr",
     "output_type": "stream",
     "text": [
      "Processing EEG Files:  22%|██▏       | 98/438 [02:35<04:57,  1.14it/s]"
     ]
    },
    {
     "name": "stdout",
     "output_type": "stream",
     "text": [
      "✅ Saved: C:\\Users\\alsaf\\Downloads\\Capstone2\\EEG_Segments_Preprocessed\\aaaaagbf_s004_t001.npy | Shape: (32, 325376)\n",
      "Sampling frequency of the instance is already 256.0, returning unmodified.\n",
      "✅ Saved: C:\\Users\\alsaf\\Downloads\\Capstone2\\EEG_Segments_Preprocessed\\aaaaagbf_s005_t000.npy | Shape: (33, 1280)\n",
      "Sampling frequency of the instance is already 256.0, returning unmodified.\n",
      "✅ Saved: C:\\Users\\alsaf\\Downloads\\Capstone2\\EEG_Segments_Preprocessed\\aaaaagbf_s005_t001.npy | Shape: (33, 8448)\n",
      "Sampling frequency of the instance is already 256.0, returning unmodified.\n"
     ]
    },
    {
     "name": "stderr",
     "output_type": "stream",
     "text": [
      "Processing EEG Files:  23%|██▎       | 101/438 [02:35<02:18,  2.43it/s]"
     ]
    },
    {
     "name": "stdout",
     "output_type": "stream",
     "text": [
      "✅ Saved: C:\\Users\\alsaf\\Downloads\\Capstone2\\EEG_Segments_Preprocessed\\aaaaagbf_s005_t002.npy | Shape: (33, 18688)\n",
      "Sampling frequency of the instance is already 256.0, returning unmodified.\n"
     ]
    },
    {
     "name": "stderr",
     "output_type": "stream",
     "text": [
      "Processing EEG Files:  23%|██▎       | 102/438 [02:35<02:42,  2.06it/s]"
     ]
    },
    {
     "name": "stdout",
     "output_type": "stream",
     "text": [
      "✅ Saved: C:\\Users\\alsaf\\Downloads\\Capstone2\\EEG_Segments_Preprocessed\\aaaaagbf_s005_t003.npy | Shape: (33, 333312)\n",
      "Sampling frequency of the instance is already 256.0, returning unmodified.\n"
     ]
    },
    {
     "name": "stderr",
     "output_type": "stream",
     "text": [
      "Processing EEG Files:  24%|██▎       | 103/438 [02:36<02:18,  2.42it/s]"
     ]
    },
    {
     "name": "stdout",
     "output_type": "stream",
     "text": [
      "✅ Saved: C:\\Users\\alsaf\\Downloads\\Capstone2\\EEG_Segments_Preprocessed\\aaaaagbf_s005_t004.npy | Shape: (33, 70912)\n",
      "Sampling frequency of the instance is already 256.0, returning unmodified.\n"
     ]
    },
    {
     "name": "stderr",
     "output_type": "stream",
     "text": [
      "Processing EEG Files:  24%|██▎       | 104/438 [02:36<01:57,  2.84it/s]"
     ]
    },
    {
     "name": "stdout",
     "output_type": "stream",
     "text": [
      "✅ Saved: C:\\Users\\alsaf\\Downloads\\Capstone2\\EEG_Segments_Preprocessed\\aaaaagbf_s006_t000.npy | Shape: (33, 76800)\n",
      "Sampling frequency of the instance is already 256.0, returning unmodified.\n",
      "✅ Saved: C:\\Users\\alsaf\\Downloads\\Capstone2\\EEG_Segments_Preprocessed\\aaaaagbf_s006_t001.npy | Shape: (33, 256)\n",
      "Sampling frequency of the instance is already 256.0, returning unmodified.\n",
      "✅ Saved: C:\\Users\\alsaf\\Downloads\\Capstone2\\EEG_Segments_Preprocessed\\aaaaagbf_s006_t002.npy | Shape: (33, 256)\n",
      "Sampling frequency of the instance is already 256.0, returning unmodified.\n"
     ]
    },
    {
     "name": "stderr",
     "output_type": "stream",
     "text": [
      "Processing EEG Files:  24%|██▍       | 107/438 [02:36<01:09,  4.74it/s]"
     ]
    },
    {
     "name": "stdout",
     "output_type": "stream",
     "text": [
      "✅ Saved: C:\\Users\\alsaf\\Downloads\\Capstone2\\EEG_Segments_Preprocessed\\aaaaagbf_s006_t003.npy | Shape: (33, 77056)\n",
      "Sampling frequency of the instance is already 256.0, returning unmodified.\n",
      "✅ Saved: C:\\Users\\alsaf\\Downloads\\Capstone2\\EEG_Segments_Preprocessed\\aaaaagbf_s006_t004.npy | Shape: (33, 256)\n",
      "Sampling frequency of the instance is already 256.0, returning unmodified.\n",
      "✅ Saved: C:\\Users\\alsaf\\Downloads\\Capstone2\\EEG_Segments_Preprocessed\\aaaaagbf_s006_t005.npy | Shape: (33, 256)\n",
      "Sampling frequency of the instance is already 256.0, returning unmodified.\n",
      "✅ Saved: C:\\Users\\alsaf\\Downloads\\Capstone2\\EEG_Segments_Preprocessed\\aaaaagbf_s006_t006.npy | Shape: (33, 256)\n",
      "Sampling frequency of the instance is already 256.0, returning unmodified.\n"
     ]
    },
    {
     "name": "stderr",
     "output_type": "stream",
     "text": [
      "Processing EEG Files:  25%|██▌       | 111/438 [02:36<00:45,  7.16it/s]"
     ]
    },
    {
     "name": "stdout",
     "output_type": "stream",
     "text": [
      "✅ Saved: C:\\Users\\alsaf\\Downloads\\Capstone2\\EEG_Segments_Preprocessed\\aaaaagbf_s006_t007.npy | Shape: (33, 77056)\n",
      "Sampling frequency of the instance is already 256.0, returning unmodified.\n",
      "✅ Saved: C:\\Users\\alsaf\\Downloads\\Capstone2\\EEG_Segments_Preprocessed\\aaaaagbf_s006_t008.npy | Shape: (33, 256)\n",
      "Sampling frequency of the instance is already 256.0, returning unmodified.\n",
      "✅ Saved: C:\\Users\\alsaf\\Downloads\\Capstone2\\EEG_Segments_Preprocessed\\aaaaagbf_s006_t009.npy | Shape: (33, 76800)"
     ]
    },
    {
     "name": "stderr",
     "output_type": "stream",
     "text": [
      "Processing EEG Files:  26%|██▌       | 113/438 [02:36<00:41,  7.77it/s]"
     ]
    },
    {
     "name": "stdout",
     "output_type": "stream",
     "text": [
      "\n",
      "Sampling frequency of the instance is already 256.0, returning unmodified.\n",
      "✅ Saved: C:\\Users\\alsaf\\Downloads\\Capstone2\\EEG_Segments_Preprocessed\\aaaaagbf_s006_t010.npy | Shape: (33, 256)\n",
      "Sampling frequency of the instance is already 256.0, returning unmodified.\n"
     ]
    },
    {
     "name": "stderr",
     "output_type": "stream",
     "text": [
      "Processing EEG Files:  26%|██▋       | 115/438 [02:37<00:39,  8.21it/s]"
     ]
    },
    {
     "name": "stdout",
     "output_type": "stream",
     "text": [
      "✅ Saved: C:\\Users\\alsaf\\Downloads\\Capstone2\\EEG_Segments_Preprocessed\\aaaaagbf_s006_t011.npy | Shape: (33, 77056)\n",
      "Sampling frequency of the instance is already 256.0, returning unmodified.\n",
      "✅ Saved: C:\\Users\\alsaf\\Downloads\\Capstone2\\EEG_Segments_Preprocessed\\aaaaagbf_s006_t012.npy | Shape: (33, 256)\n",
      "Sampling frequency of the instance is already 256.0, returning unmodified.\n",
      "✅ Saved: C:\\Users\\alsaf\\Downloads\\Capstone2\\EEG_Segments_Preprocessed\\aaaaagbf_s006_t013.npy | Shape: (33, 256)\n",
      "Sampling frequency of the instance is already 256.0, returning unmodified.\n"
     ]
    },
    {
     "name": "stderr",
     "output_type": "stream",
     "text": [
      "Processing EEG Files:  27%|██▋       | 118/438 [02:37<00:28, 11.06it/s]"
     ]
    },
    {
     "name": "stdout",
     "output_type": "stream",
     "text": [
      "✅ Saved: C:\\Users\\alsaf\\Downloads\\Capstone2\\EEG_Segments_Preprocessed\\aaaaagbf_s006_t014.npy | Shape: (33, 12288)\n",
      "Sampling frequency of the instance is already 256.0, returning unmodified.\n",
      "✅ Saved: C:\\Users\\alsaf\\Downloads\\Capstone2\\EEG_Segments_Preprocessed\\aaaaagbf_s006_t015.npy | Shape: (33, 76800)\n",
      "Sampling frequency of the instance is already 256.0, returning unmodified.\n"
     ]
    },
    {
     "name": "stderr",
     "output_type": "stream",
     "text": [
      "Processing EEG Files:  27%|██▋       | 120/438 [02:37<00:30, 10.36it/s]"
     ]
    },
    {
     "name": "stdout",
     "output_type": "stream",
     "text": [
      "✅ Saved: C:\\Users\\alsaf\\Downloads\\Capstone2\\EEG_Segments_Preprocessed\\aaaaagbf_s006_t016.npy | Shape: (33, 256)\n",
      "Sampling frequency of the instance is already 256.0, returning unmodified.\n",
      "✅ Saved: C:\\Users\\alsaf\\Downloads\\Capstone2\\EEG_Segments_Preprocessed\\aaaaagbf_s006_t017.npy | Shape: (33, 256)\n",
      "Sampling frequency of the instance is already 256.0, returning unmodified.\n"
     ]
    },
    {
     "name": "stderr",
     "output_type": "stream",
     "text": [
      "Processing EEG Files:  28%|██▊       | 122/438 [02:37<00:31, 10.19it/s]"
     ]
    },
    {
     "name": "stdout",
     "output_type": "stream",
     "text": [
      "✅ Saved: C:\\Users\\alsaf\\Downloads\\Capstone2\\EEG_Segments_Preprocessed\\aaaaagbf_s006_t018.npy | Shape: (33, 77056)\n",
      "Sampling frequency of the instance is already 256.0, returning unmodified.\n",
      "✅ Saved: C:\\Users\\alsaf\\Downloads\\Capstone2\\EEG_Segments_Preprocessed\\aaaaagbf_s006_t019.npy | Shape: (33, 77056)\n",
      "Sampling frequency of the instance is already 256.0, returning unmodified.\n"
     ]
    },
    {
     "name": "stderr",
     "output_type": "stream",
     "text": [
      "Processing EEG Files:  28%|██▊       | 124/438 [02:38<00:37,  8.48it/s]"
     ]
    },
    {
     "name": "stdout",
     "output_type": "stream",
     "text": [
      "✅ Saved: C:\\Users\\alsaf\\Downloads\\Capstone2\\EEG_Segments_Preprocessed\\aaaaagbf_s006_t020.npy | Shape: (33, 77056)\n",
      "Sampling frequency of the instance is already 256.0, returning unmodified.\n",
      "✅ Saved: C:\\Users\\alsaf\\Downloads\\Capstone2\\EEG_Segments_Preprocessed\\aaaaagbf_s006_t021.npy | Shape: (33, 256)\n",
      "Sampling frequency of the instance is already 256.0, returning unmodified.\n"
     ]
    },
    {
     "name": "stderr",
     "output_type": "stream",
     "text": [
      "Processing EEG Files:  29%|██▉       | 126/438 [02:38<00:36,  8.54it/s]"
     ]
    },
    {
     "name": "stdout",
     "output_type": "stream",
     "text": [
      "✅ Saved: C:\\Users\\alsaf\\Downloads\\Capstone2\\EEG_Segments_Preprocessed\\aaaaagbf_s006_t022.npy | Shape: (33, 77056)\n",
      "Sampling frequency of the instance is already 256.0, returning unmodified.\n"
     ]
    },
    {
     "name": "stderr",
     "output_type": "stream",
     "text": [
      "Processing EEG Files:  29%|██▉       | 127/438 [02:38<00:40,  7.75it/s]"
     ]
    },
    {
     "name": "stdout",
     "output_type": "stream",
     "text": [
      "✅ Saved: C:\\Users\\alsaf\\Downloads\\Capstone2\\EEG_Segments_Preprocessed\\aaaaagbf_s006_t023.npy | Shape: (33, 76800)\n",
      "Sampling frequency of the instance is already 256.0, returning unmodified.\n",
      "✅ Saved: C:\\Users\\alsaf\\Downloads\\Capstone2\\EEG_Segments_Preprocessed\\aaaaagbf_s006_t024.npy | Shape: (33, 256)\n",
      "Sampling frequency of the instance is already 256.0, returning unmodified.\n",
      "✅ Saved: C:\\Users\\alsaf\\Downloads\\Capstone2\\EEG_Segments_Preprocessed\\aaaaagbf_s006_t025.npy | Shape: (33, 256)\n",
      "Sampling frequency of the instance is already 256.0, returning unmodified.\n",
      "✅ Saved: C:\\Users\\alsaf\\Downloads\\Capstone2\\EEG_Segments_Preprocessed\\aaaaagbf_s006_t026.npy | Shape: (33, 256)\n",
      "Sampling frequency of the instance is already 256.0, returning unmodified.\n"
     ]
    },
    {
     "name": "stderr",
     "output_type": "stream",
     "text": [
      "Processing EEG Files:  30%|██▉       | 131/438 [02:38<00:30, 10.15it/s]"
     ]
    },
    {
     "name": "stdout",
     "output_type": "stream",
     "text": [
      "✅ Saved: C:\\Users\\alsaf\\Downloads\\Capstone2\\EEG_Segments_Preprocessed\\aaaaagbf_s007_t000.npy | Shape: (33, 76800)\n",
      "Sampling frequency of the instance is already 256.0, returning unmodified.\n",
      "✅ Saved: C:\\Users\\alsaf\\Downloads\\Capstone2\\EEG_Segments_Preprocessed\\aaaaagbf_s007_t001.npy | Shape: (33, 256)\n",
      "Sampling frequency of the instance is already 256.0, returning unmodified.\n"
     ]
    },
    {
     "name": "stderr",
     "output_type": "stream",
     "text": [
      "Processing EEG Files:  30%|███       | 133/438 [02:38<00:31,  9.75it/s]"
     ]
    },
    {
     "name": "stdout",
     "output_type": "stream",
     "text": [
      "✅ Saved: C:\\Users\\alsaf\\Downloads\\Capstone2\\EEG_Segments_Preprocessed\\aaaaagbf_s007_t002.npy | Shape: (33, 77056)\n",
      "Sampling frequency of the instance is already 256.0, returning unmodified.\n"
     ]
    },
    {
     "name": "stderr",
     "output_type": "stream",
     "text": [
      "Processing EEG Files:  31%|███       | 134/438 [02:39<00:35,  8.46it/s]"
     ]
    },
    {
     "name": "stdout",
     "output_type": "stream",
     "text": [
      "✅ Saved: C:\\Users\\alsaf\\Downloads\\Capstone2\\EEG_Segments_Preprocessed\\aaaaagbf_s007_t003.npy | Shape: (33, 77056)\n",
      "Sampling frequency of the instance is already 256.0, returning unmodified.\n",
      "✅ Saved: C:\\Users\\alsaf\\Downloads\\Capstone2\\EEG_Segments_Preprocessed\\aaaaagbf_s007_t004.npy | Shape: (33, 256)\n",
      "Sampling frequency of the instance is already 256.0, returning unmodified.\n"
     ]
    },
    {
     "name": "stderr",
     "output_type": "stream",
     "text": [
      "Processing EEG Files:  31%|███       | 136/438 [02:39<00:35,  8.46it/s]"
     ]
    },
    {
     "name": "stdout",
     "output_type": "stream",
     "text": [
      "✅ Saved: C:\\Users\\alsaf\\Downloads\\Capstone2\\EEG_Segments_Preprocessed\\aaaaagbf_s007_t005.npy | Shape: (33, 76800)\n",
      "Sampling frequency of the instance is already 256.0, returning unmodified.\n"
     ]
    },
    {
     "name": "stderr",
     "output_type": "stream",
     "text": [
      "Processing EEG Files:  31%|███▏      | 137/438 [02:39<00:40,  7.50it/s]"
     ]
    },
    {
     "name": "stdout",
     "output_type": "stream",
     "text": [
      "✅ Saved: C:\\Users\\alsaf\\Downloads\\Capstone2\\EEG_Segments_Preprocessed\\aaaaagbf_s007_t006.npy | Shape: (33, 77056)\n",
      "Sampling frequency of the instance is already 256.0, returning unmodified.\n"
     ]
    },
    {
     "name": "stderr",
     "output_type": "stream",
     "text": [
      "Processing EEG Files:  32%|███▏      | 138/438 [02:40<01:19,  3.77it/s]"
     ]
    },
    {
     "name": "stdout",
     "output_type": "stream",
     "text": [
      "✅ Saved: C:\\Users\\alsaf\\Downloads\\Capstone2\\EEG_Segments_Preprocessed\\aaaaagbf_s007_t007.npy | Shape: (33, 267776)\n",
      "Sampling frequency of the instance is already 256.0, returning unmodified.\n",
      "✅ Saved: C:\\Users\\alsaf\\Downloads\\Capstone2\\EEG_Segments_Preprocessed\\aaaaagbf_s007_t008.npy | Shape: (33, 256)\n",
      "Sampling frequency of the instance is already 256.0, returning unmodified.\n",
      "✅ Saved: C:\\Users\\alsaf\\Downloads\\Capstone2\\EEG_Segments_Preprocessed\\aaaaagbf_s007_t009.npy | Shape: (33, 256)\n",
      "Sampling frequency of the instance is already 256.0, returning unmodified.\n"
     ]
    },
    {
     "name": "stderr",
     "output_type": "stream",
     "text": [
      "Processing EEG Files:  32%|███▏      | 141/438 [02:40<00:46,  6.33it/s]"
     ]
    },
    {
     "name": "stdout",
     "output_type": "stream",
     "text": [
      "✅ Saved: C:\\Users\\alsaf\\Downloads\\Capstone2\\EEG_Segments_Preprocessed\\aaaaagbf_s007_t010.npy | Shape: (33, 256)\n",
      "Sampling frequency of the instance is already 256.0, returning unmodified.\n",
      "✅ Saved: C:\\Users\\alsaf\\Downloads\\Capstone2\\EEG_Segments_Preprocessed\\aaaaagbf_s007_t011.npy | Shape: (33, 256)\n",
      "Sampling frequency of the instance is already 256.0, returning unmodified.\n",
      "✅ Saved: C:\\Users\\alsaf\\Downloads\\Capstone2\\EEG_Segments_Preprocessed\\aaaaagbf_s007_t012.npy | Shape: (33, 256)\n",
      "Sampling frequency of the instance is already 256.0, returning unmodified.\n",
      "✅ Saved: C:\\Users\\alsaf\\Downloads\\Capstone2\\EEG_Segments_Preprocessed\\aaaaagbf_s007_t013.npy | Shape: (33, 256)\n",
      "Sampling frequency of the instance is already 256.0, returning unmodified.\n",
      "✅ Saved: C:\\Users\\alsaf\\Downloads\\Capstone2\\EEG_Segments_Preprocessed\\aaaaagbf_s007_t014.npy | Shape: (33, 76800)"
     ]
    },
    {
     "name": "stderr",
     "output_type": "stream",
     "text": [
      "Processing EEG Files:  33%|███▎      | 145/438 [02:40<00:34,  8.59it/s]"
     ]
    },
    {
     "name": "stdout",
     "output_type": "stream",
     "text": [
      "\n",
      "Sampling frequency of the instance is already 256.0, returning unmodified.\n",
      "✅ Saved: C:\\Users\\alsaf\\Downloads\\Capstone2\\EEG_Segments_Preprocessed\\aaaaagbf_s007_t015.npy | Shape: (33, 256)\n",
      "Sampling frequency of the instance is already 256.0, returning unmodified.\n",
      "✅ Saved: C:\\Users\\alsaf\\Downloads\\Capstone2\\EEG_Segments_Preprocessed\\aaaaagbf_s007_t016.npy | Shape: (33, 256)\n",
      "Sampling frequency of the instance is already 256.0, returning unmodified.\n",
      "✅ Saved: C:\\Users\\alsaf\\Downloads\\Capstone2\\EEG_Segments_Preprocessed\\aaaaagbf_s007_t017.npy | Shape: (33, 768)\n",
      "Sampling frequency of the instance is already 256.0, returning unmodified.\n"
     ]
    },
    {
     "name": "stderr",
     "output_type": "stream",
     "text": [
      "Processing EEG Files:  34%|███▍      | 149/438 [02:41<00:27, 10.37it/s]"
     ]
    },
    {
     "name": "stdout",
     "output_type": "stream",
     "text": [
      "✅ Saved: C:\\Users\\alsaf\\Downloads\\Capstone2\\EEG_Segments_Preprocessed\\aaaaagbf_s007_t018.npy | Shape: (33, 76800)\n",
      "Sampling frequency of the instance is already 256.0, returning unmodified.\n",
      "✅ Saved: C:\\Users\\alsaf\\Downloads\\Capstone2\\EEG_Segments_Preprocessed\\aaaaagbf_s007_t019.npy | Shape: (33, 256)\n",
      "Sampling frequency of the instance is already 256.0, returning unmodified.\n",
      "✅ Saved: C:\\Users\\alsaf\\Downloads\\Capstone2\\EEG_Segments_Preprocessed\\aaaaagbf_s007_t020.npy | Shape: (33, 768)\n",
      "Sampling frequency of the instance is already 256.0, returning unmodified.\n",
      "✅ Saved: C:\\Users\\alsaf\\Downloads\\Capstone2\\EEG_Segments_Preprocessed\\aaaaagbf_s007_t021.npy | Shape: (33, 77056)"
     ]
    },
    {
     "name": "stderr",
     "output_type": "stream",
     "text": [
      "Processing EEG Files:  35%|███▍      | 152/438 [02:41<00:26, 11.00it/s]"
     ]
    },
    {
     "name": "stdout",
     "output_type": "stream",
     "text": [
      "\n",
      "Sampling frequency of the instance is already 256.0, returning unmodified.\n",
      "✅ Saved: C:\\Users\\alsaf\\Downloads\\Capstone2\\EEG_Segments_Preprocessed\\aaaaagbf_s007_t022.npy | Shape: (33, 77056)\n",
      "Sampling frequency of the instance is already 256.0, returning unmodified.\n",
      "✅ Saved: C:\\Users\\alsaf\\Downloads\\Capstone2\\EEG_Segments_Preprocessed\\aaaaagbf_s007_t023.npy | Shape: (33, 77056)"
     ]
    },
    {
     "name": "stderr",
     "output_type": "stream",
     "text": [
      "Processing EEG Files:  35%|███▌      | 154/438 [02:41<00:31,  9.04it/s]"
     ]
    },
    {
     "name": "stdout",
     "output_type": "stream",
     "text": [
      "\n",
      "Sampling frequency of the instance is already 256.0, returning unmodified.\n",
      "✅ Saved: C:\\Users\\alsaf\\Downloads\\Capstone2\\EEG_Segments_Preprocessed\\aaaaagbf_s007_t024.npy | Shape: (33, 256)\n",
      "Sampling frequency of the instance is already 256.0, returning unmodified.\n",
      "✅ Saved: C:\\Users\\alsaf\\Downloads\\Capstone2\\EEG_Segments_Preprocessed\\aaaaagbf_s007_t025.npy | Shape: (33, 77056)"
     ]
    },
    {
     "name": "stderr",
     "output_type": "stream",
     "text": [
      "Processing EEG Files:  36%|███▌      | 156/438 [02:41<00:30,  9.15it/s]"
     ]
    },
    {
     "name": "stdout",
     "output_type": "stream",
     "text": [
      "\n",
      "Sampling frequency of the instance is already 256.0, returning unmodified.\n",
      "✅ Saved: C:\\Users\\alsaf\\Downloads\\Capstone2\\EEG_Segments_Preprocessed\\aaaaagbf_s007_t026.npy | Shape: (33, 256)\n",
      "Sampling frequency of the instance is already 256.0, returning unmodified.\n",
      "✅ Saved: C:\\Users\\alsaf\\Downloads\\Capstone2\\EEG_Segments_Preprocessed\\aaaaagbf_s007_t027.npy | Shape: (33, 256)\n",
      "Sampling frequency of the instance is already 256.0, returning unmodified.\n",
      "✅ Saved: C:\\Users\\alsaf\\Downloads\\Capstone2\\EEG_Segments_Preprocessed\\aaaaagbf_s007_t028.npy | Shape: (33, 256)\n",
      "Sampling frequency of the instance is already 256.0, returning unmodified.\n"
     ]
    },
    {
     "name": "stderr",
     "output_type": "stream",
     "text": [
      "Processing EEG Files:  37%|███▋      | 160/438 [02:42<00:26, 10.53it/s]"
     ]
    },
    {
     "name": "stdout",
     "output_type": "stream",
     "text": [
      "✅ Saved: C:\\Users\\alsaf\\Downloads\\Capstone2\\EEG_Segments_Preprocessed\\aaaaagbf_s007_t029.npy | Shape: (33, 76800)\n",
      "Sampling frequency of the instance is already 256.0, returning unmodified.\n",
      "✅ Saved: C:\\Users\\alsaf\\Downloads\\Capstone2\\EEG_Segments_Preprocessed\\aaaaagbf_s007_t030.npy | Shape: (33, 256)\n",
      "Sampling frequency of the instance is already 256.0, returning unmodified.\n"
     ]
    },
    {
     "name": "stderr",
     "output_type": "stream",
     "text": [
      "Processing EEG Files:  37%|███▋      | 162/438 [02:42<00:26, 10.31it/s]"
     ]
    },
    {
     "name": "stdout",
     "output_type": "stream",
     "text": [
      "✅ Saved: C:\\Users\\alsaf\\Downloads\\Capstone2\\EEG_Segments_Preprocessed\\aaaaagbf_s007_t031.npy | Shape: (33, 77056)\n",
      "Sampling frequency of the instance is already 256.0, returning unmodified.\n",
      "✅ Saved: C:\\Users\\alsaf\\Downloads\\Capstone2\\EEG_Segments_Preprocessed\\aaaaagbf_s008_t000.npy | Shape: (33, 77056)\n",
      "Sampling frequency of the instance is already 256.0, returning unmodified.\n"
     ]
    },
    {
     "name": "stderr",
     "output_type": "stream",
     "text": [
      "Processing EEG Files:  37%|███▋      | 164/438 [02:42<00:27, 10.13it/s]"
     ]
    },
    {
     "name": "stdout",
     "output_type": "stream",
     "text": [
      "✅ Saved: C:\\Users\\alsaf\\Downloads\\Capstone2\\EEG_Segments_Preprocessed\\aaaaagbf_s008_t001.npy | Shape: (33, 256)\n",
      "Sampling frequency of the instance is already 256.0, returning unmodified.\n",
      "✅ Saved: C:\\Users\\alsaf\\Downloads\\Capstone2\\EEG_Segments_Preprocessed\\aaaaagbf_s008_t002.npy | Shape: (33, 256)\n",
      "Sampling frequency of the instance is already 256.0, returning unmodified.\n"
     ]
    },
    {
     "name": "stderr",
     "output_type": "stream",
     "text": [
      "Processing EEG Files:  38%|███▊      | 166/438 [02:43<00:43,  6.26it/s]"
     ]
    },
    {
     "name": "stdout",
     "output_type": "stream",
     "text": [
      "✅ Saved: C:\\Users\\alsaf\\Downloads\\Capstone2\\EEG_Segments_Preprocessed\\aaaaagbf_s008_t003.npy | Shape: (33, 266240)\n",
      "Sampling frequency of the instance is already 256.0, returning unmodified.\n",
      "✅ Saved: C:\\Users\\alsaf\\Downloads\\Capstone2\\EEG_Segments_Preprocessed\\aaaaagbf_s008_t004.npy | Shape: (33, 256)\n",
      "Sampling frequency of the instance is already 256.0, returning unmodified.\n",
      "✅ Saved: C:\\Users\\alsaf\\Downloads\\Capstone2\\EEG_Segments_Preprocessed\\aaaaagbf_s008_t005.npy | Shape: (33, 5376)\n",
      "Sampling frequency of the instance is already 256.0, returning unmodified.\n",
      "✅ Saved: C:\\Users\\alsaf\\Downloads\\Capstone2\\EEG_Segments_Preprocessed\\aaaaagbf_s008_t006.npy | Shape: (33, 256)\n",
      "Sampling frequency of the instance is already 256.0, returning unmodified.\n"
     ]
    },
    {
     "name": "stderr",
     "output_type": "stream",
     "text": [
      "Processing EEG Files:  39%|███▉      | 170/438 [02:43<00:28,  9.54it/s]"
     ]
    },
    {
     "name": "stdout",
     "output_type": "stream",
     "text": [
      "✅ Saved: C:\\Users\\alsaf\\Downloads\\Capstone2\\EEG_Segments_Preprocessed\\aaaaagbf_s008_t007.npy | Shape: (33, 1024)\n",
      "Sampling frequency of the instance is already 256.0, returning unmodified.\n",
      "✅ Saved: C:\\Users\\alsaf\\Downloads\\Capstone2\\EEG_Segments_Preprocessed\\aaaaagbf_s008_t008.npy | Shape: (33, 256)\n",
      "Sampling frequency of the instance is already 256.0, returning unmodified.\n",
      "✅ Saved: C:\\Users\\alsaf\\Downloads\\Capstone2\\EEG_Segments_Preprocessed\\aaaaagbf_s008_t009.npy | Shape: (33, 512)\n",
      "Sampling frequency of the instance is already 256.0, returning unmodified.\n"
     ]
    },
    {
     "name": "stderr",
     "output_type": "stream",
     "text": [
      "Processing EEG Files:  39%|███▉      | 173/438 [02:43<00:26, 10.13it/s]"
     ]
    },
    {
     "name": "stdout",
     "output_type": "stream",
     "text": [
      "✅ Saved: C:\\Users\\alsaf\\Downloads\\Capstone2\\EEG_Segments_Preprocessed\\aaaaagbf_s008_t010.npy | Shape: (33, 77056)\n",
      "Sampling frequency of the instance is already 256.0, returning unmodified.\n",
      "✅ Saved: C:\\Users\\alsaf\\Downloads\\Capstone2\\EEG_Segments_Preprocessed\\aaaaagbf_s008_t011.npy | Shape: (33, 256)\n",
      "Sampling frequency of the instance is already 256.0, returning unmodified.\n",
      "✅ Saved: C:\\Users\\alsaf\\Downloads\\Capstone2\\EEG_Segments_Preprocessed\\aaaaagbf_s008_t012.npy | Shape: (33, 5376)\n",
      "Sampling frequency of the instance is already 256.0, returning unmodified.\n"
     ]
    },
    {
     "name": "stderr",
     "output_type": "stream",
     "text": [
      "Processing EEG Files:  40%|████      | 176/438 [02:43<00:21, 12.45it/s]"
     ]
    },
    {
     "name": "stdout",
     "output_type": "stream",
     "text": [
      "✅ Saved: C:\\Users\\alsaf\\Downloads\\Capstone2\\EEG_Segments_Preprocessed\\aaaaagbf_s008_t013.npy | Shape: (33, 5632)\n",
      "Sampling frequency of the instance is already 256.0, returning unmodified.\n",
      "✅ Saved: C:\\Users\\alsaf\\Downloads\\Capstone2\\EEG_Segments_Preprocessed\\aaaaagbf_s008_t014.npy | Shape: (33, 1024)\n",
      "Sampling frequency of the instance is already 256.0, returning unmodified.\n",
      "✅ Saved: C:\\Users\\alsaf\\Downloads\\Capstone2\\EEG_Segments_Preprocessed\\aaaaagbf_s008_t015.npy | Shape: (33, 1280)\n",
      "Sampling frequency of the instance is already 256.0, returning unmodified.\n"
     ]
    },
    {
     "name": "stderr",
     "output_type": "stream",
     "text": [
      "Processing EEG Files:  41%|████      | 179/438 [02:43<00:20, 12.48it/s]"
     ]
    },
    {
     "name": "stdout",
     "output_type": "stream",
     "text": [
      "✅ Saved: C:\\Users\\alsaf\\Downloads\\Capstone2\\EEG_Segments_Preprocessed\\aaaaagbf_s008_t016.npy | Shape: (33, 77056)\n",
      "Sampling frequency of the instance is already 256.0, returning unmodified.\n",
      "✅ Saved: C:\\Users\\alsaf\\Downloads\\Capstone2\\EEG_Segments_Preprocessed\\aaaaagbf_s008_t017.npy | Shape: (33, 2304)\n",
      "Sampling frequency of the instance is already 256.0, returning unmodified.\n",
      "✅ Saved: C:\\Users\\alsaf\\Downloads\\Capstone2\\EEG_Segments_Preprocessed\\aaaaagbf_s008_t018.npy | Shape: (33, 768)\n",
      "Sampling frequency of the instance is already 256.0, returning unmodified.\n",
      "✅ Saved: C:\\Users\\alsaf\\Downloads\\Capstone2\\EEG_Segments_Preprocessed\\aaaaagbf_s008_t019.npy | Shape: (33, 256)\n",
      "Sampling frequency of the instance is already 256.0, returning unmodified.\n"
     ]
    },
    {
     "name": "stderr",
     "output_type": "stream",
     "text": [
      "Processing EEG Files:  42%|████▏     | 183/438 [02:44<00:15, 16.54it/s]"
     ]
    },
    {
     "name": "stdout",
     "output_type": "stream",
     "text": [
      "✅ Saved: C:\\Users\\alsaf\\Downloads\\Capstone2\\EEG_Segments_Preprocessed\\aaaaagbf_s008_t020.npy | Shape: (33, 256)\n",
      "Sampling frequency of the instance is already 256.0, returning unmodified.\n",
      "✅ Saved: C:\\Users\\alsaf\\Downloads\\Capstone2\\EEG_Segments_Preprocessed\\aaaaagbf_s008_t021.npy | Shape: (33, 256)\n",
      "Sampling frequency of the instance is already 256.0, returning unmodified.\n",
      "✅ Saved: C:\\Users\\alsaf\\Downloads\\Capstone2\\EEG_Segments_Preprocessed\\aaaaagbf_s008_t022.npy | Shape: (33, 256)\n",
      "Sampling frequency of the instance is already 256.0, returning unmodified.\n",
      "✅ Saved: C:\\Users\\alsaf\\Downloads\\Capstone2\\EEG_Segments_Preprocessed\\aaaaagbf_s008_t023.npy | Shape: (33, 256)\n",
      "Sampling frequency of the instance is already 256.0, returning unmodified.\n"
     ]
    },
    {
     "name": "stderr",
     "output_type": "stream",
     "text": [
      "Processing EEG Files:  43%|████▎     | 187/438 [02:44<00:12, 20.59it/s]"
     ]
    },
    {
     "name": "stdout",
     "output_type": "stream",
     "text": [
      "✅ Saved: C:\\Users\\alsaf\\Downloads\\Capstone2\\EEG_Segments_Preprocessed\\aaaaagbf_s008_t024.npy | Shape: (33, 256)\n",
      "Sampling frequency of the instance is already 256.0, returning unmodified.\n",
      "✅ Saved: C:\\Users\\alsaf\\Downloads\\Capstone2\\EEG_Segments_Preprocessed\\aaaaagbf_s008_t025.npy | Shape: (33, 77056)\n",
      "Sampling frequency of the instance is already 256.0, returning unmodified.\n",
      "✅ Saved: C:\\Users\\alsaf\\Downloads\\Capstone2\\EEG_Segments_Preprocessed\\aaaaagbf_s008_t026.npy | Shape: (33, 5376)\n",
      "Sampling frequency of the instance is already 256.0, returning unmodified.\n"
     ]
    },
    {
     "name": "stderr",
     "output_type": "stream",
     "text": [
      "Processing EEG Files:  43%|████▎     | 190/438 [02:44<00:16, 15.03it/s]"
     ]
    },
    {
     "name": "stdout",
     "output_type": "stream",
     "text": [
      "✅ Saved: C:\\Users\\alsaf\\Downloads\\Capstone2\\EEG_Segments_Preprocessed\\aaaaagbf_s009_t000.npy | Shape: (33, 49920)\n",
      "Sampling frequency of the instance is already 256.0, returning unmodified.\n",
      "✅ Saved: C:\\Users\\alsaf\\Downloads\\Capstone2\\EEG_Segments_Preprocessed\\aaaaagbf_s009_t001.npy | Shape: (33, 26880)\n",
      "Sampling frequency of the instance is already 256.0, returning unmodified.\n",
      "✅ Saved: C:\\Users\\alsaf\\Downloads\\Capstone2\\EEG_Segments_Preprocessed\\aaaaagbf_s009_t002.npy | Shape: (33, 256)\n",
      "Sampling frequency of the instance is already 256.0, returning unmodified.\n"
     ]
    },
    {
     "name": "stderr",
     "output_type": "stream",
     "text": [
      "Processing EEG Files:  44%|████▍     | 193/438 [02:44<00:18, 13.05it/s]"
     ]
    },
    {
     "name": "stdout",
     "output_type": "stream",
     "text": [
      "✅ Saved: C:\\Users\\alsaf\\Downloads\\Capstone2\\EEG_Segments_Preprocessed\\aaaaagbf_s009_t003.npy | Shape: (33, 77056)\n",
      "Sampling frequency of the instance is already 256.0, returning unmodified.\n",
      "✅ Saved: C:\\Users\\alsaf\\Downloads\\Capstone2\\EEG_Segments_Preprocessed\\aaaaagbf_s009_t004.npy | Shape: (33, 256)\n",
      "Sampling frequency of the instance is already 256.0, returning unmodified.\n",
      "✅ Saved: C:\\Users\\alsaf\\Downloads\\Capstone2\\EEG_Segments_Preprocessed\\aaaaagbf_s009_t005.npy | Shape: (33, 256)\n",
      "Sampling frequency of the instance is already 256.0, returning unmodified.\n"
     ]
    },
    {
     "name": "stderr",
     "output_type": "stream",
     "text": [
      "Processing EEG Files:  45%|████▍     | 196/438 [02:45<00:17, 13.73it/s]"
     ]
    },
    {
     "name": "stdout",
     "output_type": "stream",
     "text": [
      "✅ Saved: C:\\Users\\alsaf\\Downloads\\Capstone2\\EEG_Segments_Preprocessed\\aaaaagbf_s009_t006.npy | Shape: (33, 52480)\n",
      "Sampling frequency of the instance is already 256.0, returning unmodified.\n",
      "✅ Saved: C:\\Users\\alsaf\\Downloads\\Capstone2\\EEG_Segments_Preprocessed\\aaaaagbf_s009_t007.npy | Shape: (33, 24320)\n",
      "Sampling frequency of the instance is already 256.0, returning unmodified.\n"
     ]
    },
    {
     "name": "stderr",
     "output_type": "stream",
     "text": [
      "Processing EEG Files:  45%|████▌     | 198/438 [02:45<00:16, 14.64it/s]"
     ]
    },
    {
     "name": "stdout",
     "output_type": "stream",
     "text": [
      "✅ Saved: C:\\Users\\alsaf\\Downloads\\Capstone2\\EEG_Segments_Preprocessed\\aaaaagbf_s009_t008.npy | Shape: (33, 256)\n",
      "Sampling frequency of the instance is already 256.0, returning unmodified.\n",
      "✅ Saved: C:\\Users\\alsaf\\Downloads\\Capstone2\\EEG_Segments_Preprocessed\\aaaaagbf_s009_t009.npy | Shape: (33, 77056)\n",
      "Sampling frequency of the instance is already 256.0, returning unmodified.\n"
     ]
    },
    {
     "name": "stderr",
     "output_type": "stream",
     "text": [
      "Processing EEG Files:  46%|████▌     | 200/438 [02:45<00:18, 13.02it/s]"
     ]
    },
    {
     "name": "stdout",
     "output_type": "stream",
     "text": [
      "✅ Saved: C:\\Users\\alsaf\\Downloads\\Capstone2\\EEG_Segments_Preprocessed\\aaaaagbf_s009_t010.npy | Shape: (33, 256)\n",
      "Sampling frequency of the instance is already 256.0, returning unmodified.\n",
      "✅ Saved: C:\\Users\\alsaf\\Downloads\\Capstone2\\EEG_Segments_Preprocessed\\aaaaagbf_s009_t011.npy | Shape: (33, 256)\n",
      "Sampling frequency of the instance is already 256.0, returning unmodified.\n",
      "✅ Saved: C:\\Users\\alsaf\\Downloads\\Capstone2\\EEG_Segments_Preprocessed\\aaaaagbf_s009_t012.npy | Shape: (33, 256)\n",
      "Sampling frequency of the instance is already 256.0, returning unmodified.\n"
     ]
    },
    {
     "name": "stderr",
     "output_type": "stream",
     "text": [
      "Processing EEG Files:  46%|████▋     | 203/438 [02:45<00:18, 12.78it/s]"
     ]
    },
    {
     "name": "stdout",
     "output_type": "stream",
     "text": [
      "✅ Saved: C:\\Users\\alsaf\\Downloads\\Capstone2\\EEG_Segments_Preprocessed\\aaaaagbf_s009_t013.npy | Shape: (33, 76800)\n",
      "Sampling frequency of the instance is already 256.0, returning unmodified.\n",
      "✅ Saved: C:\\Users\\alsaf\\Downloads\\Capstone2\\EEG_Segments_Preprocessed\\aaaaagbf_s009_t014.npy | Shape: (33, 256)\n",
      "Sampling frequency of the instance is already 256.0, returning unmodified.\n",
      "✅ Saved: C:\\Users\\alsaf\\Downloads\\Capstone2\\EEG_Segments_Preprocessed\\aaaaagbf_s009_t015.npy | Shape: (33, 256)\n",
      "Sampling frequency of the instance is already 256.0, returning unmodified.\n",
      "✅ Saved: C:\\Users\\alsaf\\Downloads\\Capstone2\\EEG_Segments_Preprocessed\\aaaaagbf_s009_t016.npy | Shape: (33, 256)\n",
      "Sampling frequency of the instance is already 256.0, returning unmodified.\n"
     ]
    },
    {
     "name": "stderr",
     "output_type": "stream",
     "text": [
      "Processing EEG Files:  47%|████▋     | 207/438 [02:45<00:13, 16.90it/s]"
     ]
    },
    {
     "name": "stdout",
     "output_type": "stream",
     "text": [
      "✅ Saved: C:\\Users\\alsaf\\Downloads\\Capstone2\\EEG_Segments_Preprocessed\\aaaaagbf_s009_t017.npy | Shape: (33, 256)\n",
      "Sampling frequency of the instance is already 256.0, returning unmodified.\n",
      "✅ Saved: C:\\Users\\alsaf\\Downloads\\Capstone2\\EEG_Segments_Preprocessed\\aaaaagbf_s009_t018.npy | Shape: (33, 256)\n",
      "Sampling frequency of the instance is already 256.0, returning unmodified.\n",
      "✅ Saved: C:\\Users\\alsaf\\Downloads\\Capstone2\\EEG_Segments_Preprocessed\\aaaaagbf_s009_t019.npy | Shape: (33, 77056)\n",
      "Sampling frequency of the instance is already 256.0, returning unmodified.\n"
     ]
    },
    {
     "name": "stderr",
     "output_type": "stream",
     "text": [
      "Processing EEG Files:  48%|████▊     | 210/438 [02:46<00:18, 12.34it/s]"
     ]
    },
    {
     "name": "stdout",
     "output_type": "stream",
     "text": [
      "✅ Saved: C:\\Users\\alsaf\\Downloads\\Capstone2\\EEG_Segments_Preprocessed\\aaaaagbf_s009_t020.npy | Shape: (33, 76800)\n",
      "Sampling frequency of the instance is already 256.0, returning unmodified.\n",
      "✅ Saved: C:\\Users\\alsaf\\Downloads\\Capstone2\\EEG_Segments_Preprocessed\\aaaaagbf_s009_t021.npy | Shape: (33, 256)\n",
      "Sampling frequency of the instance is already 256.0, returning unmodified.\n"
     ]
    },
    {
     "name": "stderr",
     "output_type": "stream",
     "text": [
      "Processing EEG Files:  48%|████▊     | 212/438 [02:46<00:20, 11.00it/s]"
     ]
    },
    {
     "name": "stdout",
     "output_type": "stream",
     "text": [
      "✅ Saved: C:\\Users\\alsaf\\Downloads\\Capstone2\\EEG_Segments_Preprocessed\\aaaaagbf_s009_t022.npy | Shape: (33, 77056)\n",
      "Sampling frequency of the instance is already 256.0, returning unmodified.\n",
      "✅ Saved: C:\\Users\\alsaf\\Downloads\\Capstone2\\EEG_Segments_Preprocessed\\aaaaagbf_s009_t023.npy | Shape: (33, 768)\n",
      "Sampling frequency of the instance is already 256.0, returning unmodified.\n",
      "✅ Saved: C:\\Users\\alsaf\\Downloads\\Capstone2\\EEG_Segments_Preprocessed\\aaaaagbf_s009_t024.npy | Shape: (33, 256)\n",
      "Sampling frequency of the instance is already 256.0, returning unmodified.\n",
      "✅ Saved: C:\\Users\\alsaf\\Downloads\\Capstone2\\EEG_Segments_Preprocessed\\aaaaagbf_s009_t025.npy | Shape: (33, 256)\n",
      "Sampling frequency of the instance is already 256.0, returning unmodified.\n"
     ]
    },
    {
     "name": "stderr",
     "output_type": "stream",
     "text": [
      "Processing EEG Files:  49%|████▉     | 216/438 [02:46<00:18, 12.11it/s]"
     ]
    },
    {
     "name": "stdout",
     "output_type": "stream",
     "text": [
      "✅ Saved: C:\\Users\\alsaf\\Downloads\\Capstone2\\EEG_Segments_Preprocessed\\aaaaagbf_s009_t026.npy | Shape: (33, 77056)\n",
      "Sampling frequency of the instance is already 256.0, returning unmodified.\n",
      "✅ Saved: C:\\Users\\alsaf\\Downloads\\Capstone2\\EEG_Segments_Preprocessed\\aaaaagbf_s009_t027.npy | Shape: (33, 768)\n",
      "Sampling frequency of the instance is already 256.0, returning unmodified.\n",
      "✅ Saved: C:\\Users\\alsaf\\Downloads\\Capstone2\\EEG_Segments_Preprocessed\\aaaaagbf_s009_t028.npy | Shape: (33, 256)\n",
      "Sampling frequency of the instance is already 256.0, returning unmodified.\n"
     ]
    },
    {
     "name": "stderr",
     "output_type": "stream",
     "text": [
      "Processing EEG Files:  50%|█████     | 219/438 [02:46<00:19, 11.01it/s]"
     ]
    },
    {
     "name": "stdout",
     "output_type": "stream",
     "text": [
      "✅ Saved: C:\\Users\\alsaf\\Downloads\\Capstone2\\EEG_Segments_Preprocessed\\aaaaagbf_s009_t029.npy | Shape: (33, 105984)\n",
      "Sampling frequency of the instance is already 256.0, returning unmodified.\n",
      "✅ Saved: C:\\Users\\alsaf\\Downloads\\Capstone2\\EEG_Segments_Preprocessed\\aaaaagbf_s009_t030.npy | Shape: (33, 768)\n",
      "Sampling frequency of the instance is already 256.0, returning unmodified.\n"
     ]
    },
    {
     "name": "stderr",
     "output_type": "stream",
     "text": [
      "Processing EEG Files:  50%|█████     | 221/438 [02:47<00:18, 12.03it/s]"
     ]
    },
    {
     "name": "stdout",
     "output_type": "stream",
     "text": [
      "✅ Saved: C:\\Users\\alsaf\\Downloads\\Capstone2\\EEG_Segments_Preprocessed\\aaaaagbf_s010_t000.npy | Shape: (33, 17920)\n",
      "Sampling frequency of the instance is already 256.0, returning unmodified.\n",
      "✅ Saved: C:\\Users\\alsaf\\Downloads\\Capstone2\\EEG_Segments_Preprocessed\\aaaaagbf_s010_t001.npy | Shape: (33, 58880)\n",
      "Sampling frequency of the instance is already 256.0, returning unmodified.\n"
     ]
    },
    {
     "name": "stderr",
     "output_type": "stream",
     "text": [
      "Processing EEG Files:  51%|█████     | 223/438 [02:47<00:18, 11.63it/s]"
     ]
    },
    {
     "name": "stdout",
     "output_type": "stream",
     "text": [
      "✅ Saved: C:\\Users\\alsaf\\Downloads\\Capstone2\\EEG_Segments_Preprocessed\\aaaaagbf_s010_t002.npy | Shape: (33, 768)\n",
      "Sampling frequency of the instance is already 256.0, returning unmodified.\n",
      "✅ Saved: C:\\Users\\alsaf\\Downloads\\Capstone2\\EEG_Segments_Preprocessed\\aaaaagbf_s010_t003.npy | Shape: (33, 77056)\n",
      "Sampling frequency of the instance is already 256.0, returning unmodified.\n"
     ]
    },
    {
     "name": "stderr",
     "output_type": "stream",
     "text": [
      "Processing EEG Files:  51%|█████▏    | 225/438 [02:47<00:19, 10.91it/s]"
     ]
    },
    {
     "name": "stdout",
     "output_type": "stream",
     "text": [
      "✅ Saved: C:\\Users\\alsaf\\Downloads\\Capstone2\\EEG_Segments_Preprocessed\\aaaaagbf_s010_t004.npy | Shape: (33, 256)\n",
      "Sampling frequency of the instance is already 256.0, returning unmodified.\n",
      "✅ Saved: C:\\Users\\alsaf\\Downloads\\Capstone2\\EEG_Segments_Preprocessed\\aaaaagbf_s010_t005.npy | Shape: (33, 77056)\n",
      "Sampling frequency of the instance is already 256.0, returning unmodified.\n"
     ]
    },
    {
     "name": "stderr",
     "output_type": "stream",
     "text": [
      "Processing EEG Files:  52%|█████▏    | 227/438 [02:47<00:24,  8.46it/s]"
     ]
    },
    {
     "name": "stdout",
     "output_type": "stream",
     "text": [
      "✅ Saved: C:\\Users\\alsaf\\Downloads\\Capstone2\\EEG_Segments_Preprocessed\\aaaaagbf_s010_t006.npy | Shape: (33, 77056)\n",
      "Sampling frequency of the instance is already 256.0, returning unmodified.\n"
     ]
    },
    {
     "name": "stderr",
     "output_type": "stream",
     "text": [
      "Processing EEG Files:  52%|█████▏    | 228/438 [02:48<00:26,  8.00it/s]"
     ]
    },
    {
     "name": "stdout",
     "output_type": "stream",
     "text": [
      "✅ Saved: C:\\Users\\alsaf\\Downloads\\Capstone2\\EEG_Segments_Preprocessed\\aaaaagbf_s010_t007.npy | Shape: (33, 41472)\n"
     ]
    },
    {
     "name": "stderr",
     "output_type": "stream",
     "text": [
      "Processing EEG Files:  52%|█████▏    | 229/438 [02:52<03:16,  1.06it/s]"
     ]
    },
    {
     "name": "stdout",
     "output_type": "stream",
     "text": [
      "✅ Saved: C:\\Users\\alsaf\\Downloads\\Capstone2\\EEG_Segments_Preprocessed\\aaaaagdr_s001_t001.npy | Shape: (41, 364288)\n"
     ]
    },
    {
     "name": "stderr",
     "output_type": "stream",
     "text": [
      "Processing EEG Files:  53%|█████▎    | 230/438 [02:53<03:19,  1.04it/s]"
     ]
    },
    {
     "name": "stdout",
     "output_type": "stream",
     "text": [
      "✅ Saved: C:\\Users\\alsaf\\Downloads\\Capstone2\\EEG_Segments_Preprocessed\\aaaaagdr_s002_t001.npy | Shape: (41, 125440)\n"
     ]
    },
    {
     "name": "stderr",
     "output_type": "stream",
     "text": [
      "Processing EEG Files:  53%|█████▎    | 231/438 [02:54<02:55,  1.18it/s]"
     ]
    },
    {
     "name": "stdout",
     "output_type": "stream",
     "text": [
      "✅ Saved: C:\\Users\\alsaf\\Downloads\\Capstone2\\EEG_Segments_Preprocessed\\aaaaagdr_s002_t002.npy | Shape: (41, 65536)\n"
     ]
    },
    {
     "name": "stderr",
     "output_type": "stream",
     "text": [
      "Processing EEG Files:  53%|█████▎    | 232/438 [02:55<03:01,  1.13it/s]"
     ]
    },
    {
     "name": "stdout",
     "output_type": "stream",
     "text": [
      "✅ Saved: C:\\Users\\alsaf\\Downloads\\Capstone2\\EEG_Segments_Preprocessed\\aaaaagdr_s002_t003.npy | Shape: (41, 113408)\n"
     ]
    },
    {
     "name": "stderr",
     "output_type": "stream",
     "text": [
      "Processing EEG Files:  53%|█████▎    | 233/438 [02:56<03:09,  1.08it/s]"
     ]
    },
    {
     "name": "stdout",
     "output_type": "stream",
     "text": [
      "✅ Saved: C:\\Users\\alsaf\\Downloads\\Capstone2\\EEG_Segments_Preprocessed\\aaaaagus_s001_t000.npy | Shape: (41, 124928)\n"
     ]
    },
    {
     "name": "stderr",
     "output_type": "stream",
     "text": [
      "Processing EEG Files:  53%|█████▎    | 234/438 [03:00<06:06,  1.80s/it]"
     ]
    },
    {
     "name": "stdout",
     "output_type": "stream",
     "text": [
      "✅ Saved: C:\\Users\\alsaf\\Downloads\\Capstone2\\EEG_Segments_Preprocessed\\aaaaagus_s002_t000.npy | Shape: (41, 334336)\n"
     ]
    },
    {
     "name": "stderr",
     "output_type": "stream",
     "text": [
      "Processing EEG Files:  54%|█████▎    | 235/438 [03:03<07:36,  2.25s/it]"
     ]
    },
    {
     "name": "stdout",
     "output_type": "stream",
     "text": [
      "✅ Saved: C:\\Users\\alsaf\\Downloads\\Capstone2\\EEG_Segments_Preprocessed\\aaaaagus_s003_t000.npy | Shape: (30, 328448)\n"
     ]
    },
    {
     "name": "stderr",
     "output_type": "stream",
     "text": [
      "Processing EEG Files:  54%|█████▍    | 236/438 [03:07<09:05,  2.70s/it]"
     ]
    },
    {
     "name": "stdout",
     "output_type": "stream",
     "text": [
      "✅ Saved: C:\\Users\\alsaf\\Downloads\\Capstone2\\EEG_Segments_Preprocessed\\aaaaagus_s004_t000.npy | Shape: (36, 385024)\n"
     ]
    },
    {
     "name": "stderr",
     "output_type": "stream",
     "text": [
      "Processing EEG Files:  54%|█████▍    | 237/438 [03:11<10:39,  3.18s/it]"
     ]
    },
    {
     "name": "stdout",
     "output_type": "stream",
     "text": [
      "✅ Saved: C:\\Users\\alsaf\\Downloads\\Capstone2\\EEG_Segments_Preprocessed\\aaaaahie_s001_t000.npy | Shape: (41, 354816)\n"
     ]
    },
    {
     "name": "stderr",
     "output_type": "stream",
     "text": [
      "Processing EEG Files:  54%|█████▍    | 238/438 [03:15<11:19,  3.40s/it]"
     ]
    },
    {
     "name": "stdout",
     "output_type": "stream",
     "text": [
      "✅ Saved: C:\\Users\\alsaf\\Downloads\\Capstone2\\EEG_Segments_Preprocessed\\aaaaahie_s002_t000.npy | Shape: (41, 322816)\n"
     ]
    },
    {
     "name": "stderr",
     "output_type": "stream",
     "text": [
      "Processing EEG Files:  55%|█████▍    | 239/438 [03:17<09:22,  2.82s/it]"
     ]
    },
    {
     "name": "stdout",
     "output_type": "stream",
     "text": [
      "✅ Saved: C:\\Users\\alsaf\\Downloads\\Capstone2\\EEG_Segments_Preprocessed\\aaaaahie_s003_t000.npy | Shape: (32, 308224)\n"
     ]
    },
    {
     "name": "stderr",
     "output_type": "stream",
     "text": [
      "Processing EEG Files:  55%|█████▍    | 240/438 [03:18<08:04,  2.45s/it]"
     ]
    },
    {
     "name": "stdout",
     "output_type": "stream",
     "text": [
      "✅ Saved: C:\\Users\\alsaf\\Downloads\\Capstone2\\EEG_Segments_Preprocessed\\aaaaahie_s004_t000.npy | Shape: (32, 317952)\n"
     ]
    },
    {
     "name": "stderr",
     "output_type": "stream",
     "text": [
      "Processing EEG Files:  55%|█████▌    | 241/438 [03:22<09:11,  2.80s/it]"
     ]
    },
    {
     "name": "stdout",
     "output_type": "stream",
     "text": [
      "✅ Saved: C:\\Users\\alsaf\\Downloads\\Capstone2\\EEG_Segments_Preprocessed\\aaaaahie_s005_t001.npy | Shape: (36, 300800)\n"
     ]
    },
    {
     "name": "stderr",
     "output_type": "stream",
     "text": [
      "Processing EEG Files:  55%|█████▌    | 242/438 [03:25<09:24,  2.88s/it]"
     ]
    },
    {
     "name": "stdout",
     "output_type": "stream",
     "text": [
      "✅ Saved: C:\\Users\\alsaf\\Downloads\\Capstone2\\EEG_Segments_Preprocessed\\aaaaahie_s006_t000.npy | Shape: (30, 263680)\n"
     ]
    },
    {
     "name": "stderr",
     "output_type": "stream",
     "text": [
      "Processing EEG Files:  55%|█████▌    | 243/438 [03:26<07:38,  2.35s/it]"
     ]
    },
    {
     "name": "stdout",
     "output_type": "stream",
     "text": [
      "✅ Saved: C:\\Users\\alsaf\\Downloads\\Capstone2\\EEG_Segments_Preprocessed\\aaaaahie_s006_t001.npy | Shape: (30, 90112)\n",
      "Sampling frequency of the instance is already 256.0, returning unmodified.\n"
     ]
    },
    {
     "name": "stderr",
     "output_type": "stream",
     "text": [
      "Processing EEG Files:  56%|█████▌    | 244/438 [03:28<07:19,  2.26s/it]"
     ]
    },
    {
     "name": "stdout",
     "output_type": "stream",
     "text": [
      "✅ Saved: C:\\Users\\alsaf\\Downloads\\Capstone2\\EEG_Segments_Preprocessed\\aaaaahie_s007_t000.npy | Shape: (30, 921600)\n",
      "Sampling frequency of the instance is already 256.0, returning unmodified.\n"
     ]
    },
    {
     "name": "stderr",
     "output_type": "stream",
     "text": [
      "Processing EEG Files:  56%|█████▌    | 245/438 [03:29<06:11,  1.92s/it]"
     ]
    },
    {
     "name": "stdout",
     "output_type": "stream",
     "text": [
      "✅ Saved: C:\\Users\\alsaf\\Downloads\\Capstone2\\EEG_Segments_Preprocessed\\aaaaahie_s007_t001.npy | Shape: (20, 921856)\n",
      "Sampling frequency of the instance is already 256.0, returning unmodified.\n"
     ]
    },
    {
     "name": "stderr",
     "output_type": "stream",
     "text": [
      "Processing EEG Files:  56%|█████▌    | 246/438 [03:30<05:25,  1.69s/it]"
     ]
    },
    {
     "name": "stdout",
     "output_type": "stream",
     "text": [
      "✅ Saved: C:\\Users\\alsaf\\Downloads\\Capstone2\\EEG_Segments_Preprocessed\\aaaaahie_s007_t002.npy | Shape: (20, 921856)\n",
      "Sampling frequency of the instance is already 256.0, returning unmodified.\n"
     ]
    },
    {
     "name": "stderr",
     "output_type": "stream",
     "text": [
      "Processing EEG Files:  56%|█████▋    | 247/438 [03:32<04:58,  1.56s/it]"
     ]
    },
    {
     "name": "stdout",
     "output_type": "stream",
     "text": [
      "✅ Saved: C:\\Users\\alsaf\\Downloads\\Capstone2\\EEG_Segments_Preprocessed\\aaaaahie_s007_t003.npy | Shape: (20, 921856)\n",
      "Sampling frequency of the instance is already 256.0, returning unmodified.\n"
     ]
    },
    {
     "name": "stderr",
     "output_type": "stream",
     "text": [
      "Processing EEG Files:  57%|█████▋    | 248/438 [03:33<04:41,  1.48s/it]"
     ]
    },
    {
     "name": "stdout",
     "output_type": "stream",
     "text": [
      "✅ Saved: C:\\Users\\alsaf\\Downloads\\Capstone2\\EEG_Segments_Preprocessed\\aaaaahie_s007_t004.npy | Shape: (20, 921856)\n",
      "Sampling frequency of the instance is already 256.0, returning unmodified.\n"
     ]
    },
    {
     "name": "stderr",
     "output_type": "stream",
     "text": [
      "Processing EEG Files:  57%|█████▋    | 249/438 [03:34<04:40,  1.48s/it]"
     ]
    },
    {
     "name": "stdout",
     "output_type": "stream",
     "text": [
      "✅ Saved: C:\\Users\\alsaf\\Downloads\\Capstone2\\EEG_Segments_Preprocessed\\aaaaahie_s007_t005.npy | Shape: (20, 921856)\n",
      "Sampling frequency of the instance is already 256.0, returning unmodified.\n"
     ]
    },
    {
     "name": "stderr",
     "output_type": "stream",
     "text": [
      "Processing EEG Files:  57%|█████▋    | 250/438 [03:36<04:45,  1.52s/it]"
     ]
    },
    {
     "name": "stdout",
     "output_type": "stream",
     "text": [
      "✅ Saved: C:\\Users\\alsaf\\Downloads\\Capstone2\\EEG_Segments_Preprocessed\\aaaaahie_s007_t006.npy | Shape: (20, 921856)\n",
      "Sampling frequency of the instance is already 256.0, returning unmodified.\n"
     ]
    },
    {
     "name": "stderr",
     "output_type": "stream",
     "text": [
      "Processing EEG Files:  57%|█████▋    | 251/438 [03:38<04:51,  1.56s/it]"
     ]
    },
    {
     "name": "stdout",
     "output_type": "stream",
     "text": [
      "✅ Saved: C:\\Users\\alsaf\\Downloads\\Capstone2\\EEG_Segments_Preprocessed\\aaaaahie_s007_t007.npy | Shape: (20, 921856)\n",
      "Sampling frequency of the instance is already 256.0, returning unmodified.\n"
     ]
    },
    {
     "name": "stderr",
     "output_type": "stream",
     "text": [
      "Processing EEG Files:  58%|█████▊    | 252/438 [03:39<04:52,  1.57s/it]"
     ]
    },
    {
     "name": "stdout",
     "output_type": "stream",
     "text": [
      "✅ Saved: C:\\Users\\alsaf\\Downloads\\Capstone2\\EEG_Segments_Preprocessed\\aaaaahie_s007_t008.npy | Shape: (20, 921856)\n",
      "Sampling frequency of the instance is already 256.0, returning unmodified.\n"
     ]
    },
    {
     "name": "stderr",
     "output_type": "stream",
     "text": [
      "Processing EEG Files:  58%|█████▊    | 253/438 [03:41<04:50,  1.57s/it]"
     ]
    },
    {
     "name": "stdout",
     "output_type": "stream",
     "text": [
      "✅ Saved: C:\\Users\\alsaf\\Downloads\\Capstone2\\EEG_Segments_Preprocessed\\aaaaahie_s007_t009.npy | Shape: (20, 921856)\n",
      "Sampling frequency of the instance is already 256.0, returning unmodified.\n"
     ]
    },
    {
     "name": "stderr",
     "output_type": "stream",
     "text": [
      "Processing EEG Files:  58%|█████▊    | 254/438 [03:42<04:48,  1.57s/it]"
     ]
    },
    {
     "name": "stdout",
     "output_type": "stream",
     "text": [
      "✅ Saved: C:\\Users\\alsaf\\Downloads\\Capstone2\\EEG_Segments_Preprocessed\\aaaaahie_s007_t010.npy | Shape: (20, 921856)\n",
      "Sampling frequency of the instance is already 256.0, returning unmodified.\n"
     ]
    },
    {
     "name": "stderr",
     "output_type": "stream",
     "text": [
      "Processing EEG Files:  58%|█████▊    | 255/438 [03:44<04:44,  1.56s/it]"
     ]
    },
    {
     "name": "stdout",
     "output_type": "stream",
     "text": [
      "✅ Saved: C:\\Users\\alsaf\\Downloads\\Capstone2\\EEG_Segments_Preprocessed\\aaaaahie_s007_t011.npy | Shape: (20, 921856)\n",
      "Sampling frequency of the instance is already 256.0, returning unmodified.\n"
     ]
    },
    {
     "name": "stderr",
     "output_type": "stream",
     "text": [
      "Processing EEG Files:  58%|█████▊    | 256/438 [03:46<04:47,  1.58s/it]"
     ]
    },
    {
     "name": "stdout",
     "output_type": "stream",
     "text": [
      "✅ Saved: C:\\Users\\alsaf\\Downloads\\Capstone2\\EEG_Segments_Preprocessed\\aaaaahie_s007_t012.npy | Shape: (20, 921856)\n",
      "Sampling frequency of the instance is already 256.0, returning unmodified.\n"
     ]
    },
    {
     "name": "stderr",
     "output_type": "stream",
     "text": [
      "Processing EEG Files:  59%|█████▊    | 257/438 [03:47<04:40,  1.55s/it]"
     ]
    },
    {
     "name": "stdout",
     "output_type": "stream",
     "text": [
      "✅ Saved: C:\\Users\\alsaf\\Downloads\\Capstone2\\EEG_Segments_Preprocessed\\aaaaahie_s007_t013.npy | Shape: (20, 921856)\n",
      "Sampling frequency of the instance is already 256.0, returning unmodified.\n"
     ]
    },
    {
     "name": "stderr",
     "output_type": "stream",
     "text": [
      "Processing EEG Files:  59%|█████▉    | 258/438 [03:48<03:55,  1.31s/it]"
     ]
    },
    {
     "name": "stdout",
     "output_type": "stream",
     "text": [
      "✅ Saved: C:\\Users\\alsaf\\Downloads\\Capstone2\\EEG_Segments_Preprocessed\\aaaaahie_s007_t014.npy | Shape: (20, 464896)\n",
      "Sampling frequency of the instance is already 256.0, returning unmodified.\n"
     ]
    },
    {
     "name": "stderr",
     "output_type": "stream",
     "text": [
      "Processing EEG Files:  59%|█████▉    | 259/438 [03:49<04:06,  1.38s/it]"
     ]
    },
    {
     "name": "stdout",
     "output_type": "stream",
     "text": [
      "✅ Saved: C:\\Users\\alsaf\\Downloads\\Capstone2\\EEG_Segments_Preprocessed\\aaaaahie_s008_t000.npy | Shape: (20, 921600)\n",
      "Sampling frequency of the instance is already 256.0, returning unmodified.\n"
     ]
    },
    {
     "name": "stderr",
     "output_type": "stream",
     "text": [
      "Processing EEG Files:  59%|█████▉    | 260/438 [03:49<02:58,  1.00s/it]"
     ]
    },
    {
     "name": "stdout",
     "output_type": "stream",
     "text": [
      "✅ Saved: C:\\Users\\alsaf\\Downloads\\Capstone2\\EEG_Segments_Preprocessed\\aaaaahie_s008_t001.npy | Shape: (20, 40960)\n",
      "Sampling frequency of the instance is already 256.0, returning unmodified.\n"
     ]
    },
    {
     "name": "stderr",
     "output_type": "stream",
     "text": [
      "Processing EEG Files:  60%|█████▉    | 261/438 [03:50<02:58,  1.01s/it]"
     ]
    },
    {
     "name": "stdout",
     "output_type": "stream",
     "text": [
      "✅ Saved: C:\\Users\\alsaf\\Downloads\\Capstone2\\EEG_Segments_Preprocessed\\aaaaahie_s008_t002.npy | Shape: (30, 418304)\n",
      "Sampling frequency of the instance is already 256.0, returning unmodified.\n"
     ]
    },
    {
     "name": "stderr",
     "output_type": "stream",
     "text": [
      "Processing EEG Files:  60%|█████▉    | 262/438 [03:51<02:23,  1.22it/s]"
     ]
    },
    {
     "name": "stdout",
     "output_type": "stream",
     "text": [
      "✅ Saved: C:\\Users\\alsaf\\Downloads\\Capstone2\\EEG_Segments_Preprocessed\\aaaaahie_s008_t003.npy | Shape: (30, 154624)\n",
      "Sampling frequency of the instance is already 256.0, returning unmodified.\n"
     ]
    },
    {
     "name": "stderr",
     "output_type": "stream",
     "text": [
      "Processing EEG Files:  60%|██████    | 263/438 [03:52<02:58,  1.02s/it]"
     ]
    },
    {
     "name": "stdout",
     "output_type": "stream",
     "text": [
      "✅ Saved: C:\\Users\\alsaf\\Downloads\\Capstone2\\EEG_Segments_Preprocessed\\aaaaahie_s008_t004.npy | Shape: (30, 571136)\n",
      "Sampling frequency of the instance is already 256.0, returning unmodified.\n"
     ]
    },
    {
     "name": "stderr",
     "output_type": "stream",
     "text": [
      "Processing EEG Files:  60%|██████    | 264/438 [03:53<02:17,  1.26it/s]"
     ]
    },
    {
     "name": "stdout",
     "output_type": "stream",
     "text": [
      "✅ Saved: C:\\Users\\alsaf\\Downloads\\Capstone2\\EEG_Segments_Preprocessed\\aaaaahie_s009_t000.npy | Shape: (30, 76800)\n",
      "Sampling frequency of the instance is already 256.0, returning unmodified.\n"
     ]
    },
    {
     "name": "stderr",
     "output_type": "stream",
     "text": [
      "Processing EEG Files:  61%|██████    | 265/438 [03:55<03:48,  1.32s/it]"
     ]
    },
    {
     "name": "stdout",
     "output_type": "stream",
     "text": [
      "✅ Saved: C:\\Users\\alsaf\\Downloads\\Capstone2\\EEG_Segments_Preprocessed\\aaaaahie_s009_t001.npy | Shape: (30, 921600)\n",
      "Sampling frequency of the instance is already 256.0, returning unmodified.\n"
     ]
    },
    {
     "name": "stderr",
     "output_type": "stream",
     "text": [
      "Processing EEG Files:  61%|██████    | 266/438 [03:56<03:47,  1.32s/it]"
     ]
    },
    {
     "name": "stdout",
     "output_type": "stream",
     "text": [
      "✅ Saved: C:\\Users\\alsaf\\Downloads\\Capstone2\\EEG_Segments_Preprocessed\\aaaaahie_s009_t002.npy | Shape: (30, 549376)\n",
      "Sampling frequency of the instance is already 256.0, returning unmodified.\n"
     ]
    },
    {
     "name": "stderr",
     "output_type": "stream",
     "text": [
      "Processing EEG Files:  61%|██████    | 267/438 [03:57<03:01,  1.06s/it]"
     ]
    },
    {
     "name": "stdout",
     "output_type": "stream",
     "text": [
      "✅ Saved: C:\\Users\\alsaf\\Downloads\\Capstone2\\EEG_Segments_Preprocessed\\aaaaahie_s009_t003.npy | Shape: (30, 198144)\n",
      "Sampling frequency of the instance is already 256.0, returning unmodified.\n"
     ]
    },
    {
     "name": "stderr",
     "output_type": "stream",
     "text": [
      "Processing EEG Files:  61%|██████    | 268/438 [03:58<02:41,  1.05it/s]"
     ]
    },
    {
     "name": "stdout",
     "output_type": "stream",
     "text": [
      "✅ Saved: C:\\Users\\alsaf\\Downloads\\Capstone2\\EEG_Segments_Preprocessed\\aaaaahie_s009_t004.npy | Shape: (30, 277760)\n",
      "Sampling frequency of the instance is already 256.0, returning unmodified.\n"
     ]
    },
    {
     "name": "stderr",
     "output_type": "stream",
     "text": [
      "Processing EEG Files:  61%|██████▏   | 269/438 [03:59<03:03,  1.09s/it]"
     ]
    },
    {
     "name": "stdout",
     "output_type": "stream",
     "text": [
      "✅ Saved: C:\\Users\\alsaf\\Downloads\\Capstone2\\EEG_Segments_Preprocessed\\aaaaahie_s010_t000.npy | Shape: (18, 921600)\n",
      "Sampling frequency of the instance is already 256.0, returning unmodified.\n"
     ]
    },
    {
     "name": "stderr",
     "output_type": "stream",
     "text": [
      "Processing EEG Files:  62%|██████▏   | 270/438 [04:00<03:13,  1.15s/it]"
     ]
    },
    {
     "name": "stdout",
     "output_type": "stream",
     "text": [
      "✅ Saved: C:\\Users\\alsaf\\Downloads\\Capstone2\\EEG_Segments_Preprocessed\\aaaaahie_s010_t001.npy | Shape: (18, 921856)\n",
      "Sampling frequency of the instance is already 256.0, returning unmodified.\n"
     ]
    },
    {
     "name": "stderr",
     "output_type": "stream",
     "text": [
      "Processing EEG Files:  62%|██████▏   | 271/438 [04:00<02:20,  1.19it/s]"
     ]
    },
    {
     "name": "stdout",
     "output_type": "stream",
     "text": [
      "✅ Saved: C:\\Users\\alsaf\\Downloads\\Capstone2\\EEG_Segments_Preprocessed\\aaaaahie_s010_t002.npy | Shape: (18, 72192)\n",
      "Sampling frequency of the instance is already 256.0, returning unmodified.\n",
      "✅ Saved: C:\\Users\\alsaf\\Downloads\\Capstone2\\EEG_Segments_Preprocessed\\aaaaahie_s011_t000.npy | Shape: (34, 19712)\n",
      "Sampling frequency of the instance is already 256.0, returning unmodified.\n"
     ]
    },
    {
     "name": "stderr",
     "output_type": "stream",
     "text": [
      "Processing EEG Files:  62%|██████▏   | 273/438 [04:02<02:18,  1.19it/s]"
     ]
    },
    {
     "name": "stdout",
     "output_type": "stream",
     "text": [
      "✅ Saved: C:\\Users\\alsaf\\Downloads\\Capstone2\\EEG_Segments_Preprocessed\\aaaaahie_s011_t001.npy | Shape: (32, 610048)\n",
      "Sampling frequency of the instance is already 256.0, returning unmodified.\n"
     ]
    },
    {
     "name": "stderr",
     "output_type": "stream",
     "text": [
      "Processing EEG Files:  63%|██████▎   | 274/438 [04:03<01:58,  1.38it/s]"
     ]
    },
    {
     "name": "stdout",
     "output_type": "stream",
     "text": [
      "✅ Saved: C:\\Users\\alsaf\\Downloads\\Capstone2\\EEG_Segments_Preprocessed\\aaaaahie_s011_t002.npy | Shape: (32, 154624)\n",
      "Sampling frequency of the instance is already 256.0, returning unmodified.\n"
     ]
    },
    {
     "name": "stderr",
     "output_type": "stream",
     "text": [
      "Processing EEG Files:  63%|██████▎   | 275/438 [04:03<01:37,  1.68it/s]"
     ]
    },
    {
     "name": "stdout",
     "output_type": "stream",
     "text": [
      "✅ Saved: C:\\Users\\alsaf\\Downloads\\Capstone2\\EEG_Segments_Preprocessed\\aaaaahie_s011_t003.npy | Shape: (32, 76800)\n",
      "Sampling frequency of the instance is already 256.0, returning unmodified.\n"
     ]
    },
    {
     "name": "stderr",
     "output_type": "stream",
     "text": [
      "Processing EEG Files:  63%|██████▎   | 276/438 [04:03<01:37,  1.66it/s]"
     ]
    },
    {
     "name": "stdout",
     "output_type": "stream",
     "text": [
      "✅ Saved: C:\\Users\\alsaf\\Downloads\\Capstone2\\EEG_Segments_Preprocessed\\aaaaahie_s011_t004.npy | Shape: (32, 269824)\n",
      "Sampling frequency of the instance is already 256.0, returning unmodified.\n"
     ]
    },
    {
     "name": "stderr",
     "output_type": "stream",
     "text": [
      "Processing EEG Files:  63%|██████▎   | 277/438 [04:04<01:29,  1.81it/s]"
     ]
    },
    {
     "name": "stdout",
     "output_type": "stream",
     "text": [
      "✅ Saved: C:\\Users\\alsaf\\Downloads\\Capstone2\\EEG_Segments_Preprocessed\\aaaaahie_s011_t005.npy | Shape: (32, 154880)\n",
      "Sampling frequency of the instance is already 256.0, returning unmodified.\n"
     ]
    },
    {
     "name": "stderr",
     "output_type": "stream",
     "text": [
      "Processing EEG Files:  63%|██████▎   | 278/438 [04:04<01:12,  2.20it/s]"
     ]
    },
    {
     "name": "stdout",
     "output_type": "stream",
     "text": [
      "✅ Saved: C:\\Users\\alsaf\\Downloads\\Capstone2\\EEG_Segments_Preprocessed\\aaaaahie_s011_t006.npy | Shape: (32, 76800)\n",
      "Sampling frequency of the instance is already 256.0, returning unmodified.\n"
     ]
    },
    {
     "name": "stderr",
     "output_type": "stream",
     "text": [
      "Processing EEG Files:  64%|██████▎   | 279/438 [04:04<01:01,  2.57it/s]"
     ]
    },
    {
     "name": "stdout",
     "output_type": "stream",
     "text": [
      "✅ Saved: C:\\Users\\alsaf\\Downloads\\Capstone2\\EEG_Segments_Preprocessed\\aaaaahie_s012_t000.npy | Shape: (32, 76800)\n",
      "Sampling frequency of the instance is already 256.0, returning unmodified.\n",
      "✅ Saved: C:\\Users\\alsaf\\Downloads\\Capstone2\\EEG_Segments_Preprocessed\\aaaaahie_s012_t001.npy | Shape: (32, 1792)\n",
      "Sampling frequency of the instance is already 256.0, returning unmodified.\n"
     ]
    },
    {
     "name": "stderr",
     "output_type": "stream",
     "text": [
      "Processing EEG Files:  64%|██████▍   | 281/438 [04:05<00:52,  3.02it/s]"
     ]
    },
    {
     "name": "stdout",
     "output_type": "stream",
     "text": [
      "✅ Saved: C:\\Users\\alsaf\\Downloads\\Capstone2\\EEG_Segments_Preprocessed\\aaaaahie_s012_t002.npy | Shape: (32, 170496)\n",
      "Sampling frequency of the instance is already 256.0, returning unmodified.\n"
     ]
    },
    {
     "name": "stderr",
     "output_type": "stream",
     "text": [
      "Processing EEG Files:  64%|██████▍   | 282/438 [04:05<00:56,  2.74it/s]"
     ]
    },
    {
     "name": "stdout",
     "output_type": "stream",
     "text": [
      "✅ Saved: C:\\Users\\alsaf\\Downloads\\Capstone2\\EEG_Segments_Preprocessed\\aaaaahie_s012_t003.npy | Shape: (32, 172288)\n",
      "Sampling frequency of the instance is already 256.0, returning unmodified.\n",
      "✅ Saved: C:\\Users\\alsaf\\Downloads\\Capstone2\\EEG_Segments_Preprocessed\\aaaaahie_s012_t004.npy | Shape: (32, 1792)\n",
      "Sampling frequency of the instance is already 256.0, returning unmodified.\n"
     ]
    },
    {
     "name": "stderr",
     "output_type": "stream",
     "text": [
      "Processing EEG Files:  65%|██████▍   | 284/438 [04:05<00:41,  3.72it/s]"
     ]
    },
    {
     "name": "stdout",
     "output_type": "stream",
     "text": [
      "✅ Saved: C:\\Users\\alsaf\\Downloads\\Capstone2\\EEG_Segments_Preprocessed\\aaaaahie_s012_t005.npy | Shape: (32, 76800)\n",
      "Sampling frequency of the instance is already 256.0, returning unmodified.\n"
     ]
    },
    {
     "name": "stderr",
     "output_type": "stream",
     "text": [
      "Processing EEG Files:  65%|██████▌   | 285/438 [04:06<00:39,  3.92it/s]"
     ]
    },
    {
     "name": "stdout",
     "output_type": "stream",
     "text": [
      "✅ Saved: C:\\Users\\alsaf\\Downloads\\Capstone2\\EEG_Segments_Preprocessed\\aaaaahie_s012_t007.npy | Shape: (32, 76800)\n",
      "Sampling frequency of the instance is already 256.0, returning unmodified.\n"
     ]
    },
    {
     "name": "stderr",
     "output_type": "stream",
     "text": [
      "Processing EEG Files:  65%|██████▌   | 286/438 [04:06<00:36,  4.16it/s]"
     ]
    },
    {
     "name": "stdout",
     "output_type": "stream",
     "text": [
      "✅ Saved: C:\\Users\\alsaf\\Downloads\\Capstone2\\EEG_Segments_Preprocessed\\aaaaahie_s012_t008.npy | Shape: (32, 76800)\n",
      "Sampling frequency of the instance is already 256.0, returning unmodified.\n"
     ]
    },
    {
     "name": "stderr",
     "output_type": "stream",
     "text": [
      "Processing EEG Files:  66%|██████▌   | 287/438 [04:06<00:45,  3.31it/s]"
     ]
    },
    {
     "name": "stdout",
     "output_type": "stream",
     "text": [
      "✅ Saved: C:\\Users\\alsaf\\Downloads\\Capstone2\\EEG_Segments_Preprocessed\\aaaaahie_s012_t009.npy | Shape: (32, 153856)\n",
      "Sampling frequency of the instance is already 256.0, returning unmodified.\n"
     ]
    },
    {
     "name": "stderr",
     "output_type": "stream",
     "text": [
      "Processing EEG Files:  66%|██████▌   | 288/438 [04:07<00:42,  3.55it/s]"
     ]
    },
    {
     "name": "stdout",
     "output_type": "stream",
     "text": [
      "✅ Saved: C:\\Users\\alsaf\\Downloads\\Capstone2\\EEG_Segments_Preprocessed\\aaaaahie_s012_t010.npy | Shape: (32, 76800)\n",
      "Sampling frequency of the instance is already 256.0, returning unmodified.\n"
     ]
    },
    {
     "name": "stderr",
     "output_type": "stream",
     "text": [
      "Processing EEG Files:  66%|██████▌   | 289/438 [04:07<00:47,  3.11it/s]"
     ]
    },
    {
     "name": "stdout",
     "output_type": "stream",
     "text": [
      "✅ Saved: C:\\Users\\alsaf\\Downloads\\Capstone2\\EEG_Segments_Preprocessed\\aaaaahie_s012_t011.npy | Shape: (32, 153856)\n",
      "Sampling frequency of the instance is already 256.0, returning unmodified.\n"
     ]
    },
    {
     "name": "stderr",
     "output_type": "stream",
     "text": [
      "Processing EEG Files:  66%|██████▌   | 290/438 [04:07<00:43,  3.42it/s]"
     ]
    },
    {
     "name": "stdout",
     "output_type": "stream",
     "text": [
      "✅ Saved: C:\\Users\\alsaf\\Downloads\\Capstone2\\EEG_Segments_Preprocessed\\aaaaahie_s013_t000.npy | Shape: (32, 76800)\n",
      "Sampling frequency of the instance is already 256.0, returning unmodified.\n"
     ]
    },
    {
     "name": "stderr",
     "output_type": "stream",
     "text": [
      "Processing EEG Files:  66%|██████▋   | 291/438 [04:08<00:50,  2.93it/s]"
     ]
    },
    {
     "name": "stdout",
     "output_type": "stream",
     "text": [
      "✅ Saved: C:\\Users\\alsaf\\Downloads\\Capstone2\\EEG_Segments_Preprocessed\\aaaaahie_s013_t001.npy | Shape: (32, 153856)\n",
      "Sampling frequency of the instance is already 256.0, returning unmodified.\n"
     ]
    },
    {
     "name": "stderr",
     "output_type": "stream",
     "text": [
      "Processing EEG Files:  67%|██████▋   | 292/438 [04:08<00:46,  3.13it/s]"
     ]
    },
    {
     "name": "stdout",
     "output_type": "stream",
     "text": [
      "✅ Saved: C:\\Users\\alsaf\\Downloads\\Capstone2\\EEG_Segments_Preprocessed\\aaaaahie_s013_t002.npy | Shape: (32, 76800)\n",
      "Sampling frequency of the instance is already 256.0, returning unmodified.\n"
     ]
    },
    {
     "name": "stderr",
     "output_type": "stream",
     "text": [
      "Processing EEG Files:  67%|██████▋   | 293/438 [04:08<00:53,  2.72it/s]"
     ]
    },
    {
     "name": "stdout",
     "output_type": "stream",
     "text": [
      "✅ Saved: C:\\Users\\alsaf\\Downloads\\Capstone2\\EEG_Segments_Preprocessed\\aaaaahie_s013_t003.npy | Shape: (32, 153856)\n",
      "Sampling frequency of the instance is already 256.0, returning unmodified.\n"
     ]
    },
    {
     "name": "stderr",
     "output_type": "stream",
     "text": [
      "Processing EEG Files:  67%|██████▋   | 294/438 [04:09<00:48,  2.95it/s]"
     ]
    },
    {
     "name": "stdout",
     "output_type": "stream",
     "text": [
      "✅ Saved: C:\\Users\\alsaf\\Downloads\\Capstone2\\EEG_Segments_Preprocessed\\aaaaahie_s013_t004.npy | Shape: (32, 76800)\n",
      "Sampling frequency of the instance is already 256.0, returning unmodified.\n"
     ]
    },
    {
     "name": "stderr",
     "output_type": "stream",
     "text": [
      "Processing EEG Files:  67%|██████▋   | 295/438 [04:09<00:54,  2.61it/s]"
     ]
    },
    {
     "name": "stdout",
     "output_type": "stream",
     "text": [
      "✅ Saved: C:\\Users\\alsaf\\Downloads\\Capstone2\\EEG_Segments_Preprocessed\\aaaaahie_s013_t005.npy | Shape: (32, 153856)\n",
      "Sampling frequency of the instance is already 256.0, returning unmodified.\n"
     ]
    },
    {
     "name": "stderr",
     "output_type": "stream",
     "text": [
      "Processing EEG Files:  68%|██████▊   | 296/438 [04:09<00:47,  2.99it/s]"
     ]
    },
    {
     "name": "stdout",
     "output_type": "stream",
     "text": [
      "✅ Saved: C:\\Users\\alsaf\\Downloads\\Capstone2\\EEG_Segments_Preprocessed\\aaaaahie_s013_t006.npy | Shape: (32, 76800)\n",
      "Sampling frequency of the instance is already 256.0, returning unmodified.\n"
     ]
    },
    {
     "name": "stderr",
     "output_type": "stream",
     "text": [
      "Processing EEG Files:  68%|██████▊   | 297/438 [04:10<00:54,  2.59it/s]"
     ]
    },
    {
     "name": "stdout",
     "output_type": "stream",
     "text": [
      "✅ Saved: C:\\Users\\alsaf\\Downloads\\Capstone2\\EEG_Segments_Preprocessed\\aaaaahie_s013_t007.npy | Shape: (32, 153856)\n",
      "Sampling frequency of the instance is already 256.0, returning unmodified.\n"
     ]
    },
    {
     "name": "stderr",
     "output_type": "stream",
     "text": [
      "Processing EEG Files:  68%|██████▊   | 298/438 [04:10<00:46,  2.98it/s]"
     ]
    },
    {
     "name": "stdout",
     "output_type": "stream",
     "text": [
      "✅ Saved: C:\\Users\\alsaf\\Downloads\\Capstone2\\EEG_Segments_Preprocessed\\aaaaahie_s013_t008.npy | Shape: (32, 76800)\n",
      "Sampling frequency of the instance is already 256.0, returning unmodified.\n"
     ]
    },
    {
     "name": "stderr",
     "output_type": "stream",
     "text": [
      "Processing EEG Files:  68%|██████▊   | 299/438 [04:11<00:53,  2.58it/s]"
     ]
    },
    {
     "name": "stdout",
     "output_type": "stream",
     "text": [
      "✅ Saved: C:\\Users\\alsaf\\Downloads\\Capstone2\\EEG_Segments_Preprocessed\\aaaaahie_s013_t009.npy | Shape: (32, 153856)\n"
     ]
    },
    {
     "name": "stderr",
     "output_type": "stream",
     "text": [
      "Processing EEG Files:  68%|██████▊   | 300/438 [04:18<05:31,  2.40s/it]"
     ]
    },
    {
     "name": "stdout",
     "output_type": "stream",
     "text": [
      "✅ Saved: C:\\Users\\alsaf\\Downloads\\Capstone2\\EEG_Segments_Preprocessed\\aaaaahie_s014_t001.npy | Shape: (31, 627712)\n"
     ]
    },
    {
     "name": "stderr",
     "output_type": "stream",
     "text": [
      "Processing EEG Files:  69%|██████▊   | 301/438 [04:21<05:59,  2.63s/it]"
     ]
    },
    {
     "name": "stdout",
     "output_type": "stream",
     "text": [
      "✅ Saved: C:\\Users\\alsaf\\Downloads\\Capstone2\\EEG_Segments_Preprocessed\\aaaaahie_s015_t000.npy | Shape: (31, 339456)\n",
      "Sampling frequency of the instance is already 256.0, returning unmodified.\n"
     ]
    },
    {
     "name": "stderr",
     "output_type": "stream",
     "text": [
      "Processing EEG Files:  69%|██████▉   | 302/438 [04:22<04:47,  2.12s/it]"
     ]
    },
    {
     "name": "stdout",
     "output_type": "stream",
     "text": [
      "✅ Saved: C:\\Users\\alsaf\\Downloads\\Capstone2\\EEG_Segments_Preprocessed\\aaaaahie_s016_t000.npy | Shape: (31, 325120)\n"
     ]
    },
    {
     "name": "stderr",
     "output_type": "stream",
     "text": [
      "Processing EEG Files:  69%|██████▉   | 303/438 [04:25<05:34,  2.48s/it]"
     ]
    },
    {
     "name": "stdout",
     "output_type": "stream",
     "text": [
      "✅ Saved: C:\\Users\\alsaf\\Downloads\\Capstone2\\EEG_Segments_Preprocessed\\aaaaahie_s017_t001.npy | Shape: (31, 337408)\n"
     ]
    },
    {
     "name": "stderr",
     "output_type": "stream",
     "text": [
      "Processing EEG Files:  69%|██████▉   | 304/438 [04:33<09:12,  4.12s/it]"
     ]
    },
    {
     "name": "stdout",
     "output_type": "stream",
     "text": [
      "✅ Saved: C:\\Users\\alsaf\\Downloads\\Capstone2\\EEG_Segments_Preprocessed\\aaaaahie_s018_t000.npy | Shape: (32, 921600)\n"
     ]
    },
    {
     "name": "stderr",
     "output_type": "stream",
     "text": [
      "Processing EEG Files:  70%|██████▉   | 305/438 [04:37<08:40,  3.91s/it]"
     ]
    },
    {
     "name": "stdout",
     "output_type": "stream",
     "text": [
      "✅ Saved: C:\\Users\\alsaf\\Downloads\\Capstone2\\EEG_Segments_Preprocessed\\aaaaahie_s018_t001.npy | Shape: (32, 416256)\n",
      "Sampling frequency of the instance is already 256.0, returning unmodified.\n",
      "✅ Saved: C:\\Users\\alsaf\\Downloads\\Capstone2\\EEG_Segments_Preprocessed\\aaaaahie_s019_t000.npy | Shape: (31, 256)\n",
      "Sampling frequency of the instance is already 256.0, returning unmodified.\n",
      "✅ Saved: C:\\Users\\alsaf\\Downloads\\Capstone2\\EEG_Segments_Preprocessed\\aaaaahie_s019_t001.npy | Shape: (31, 768)\n",
      "Sampling frequency of the instance is already 256.0, returning unmodified.\n"
     ]
    },
    {
     "name": "stderr",
     "output_type": "stream",
     "text": [
      "Processing EEG Files:  70%|███████   | 308/438 [04:37<03:45,  1.74s/it]"
     ]
    },
    {
     "name": "stdout",
     "output_type": "stream",
     "text": [
      "✅ Saved: C:\\Users\\alsaf\\Downloads\\Capstone2\\EEG_Segments_Preprocessed\\aaaaahie_s019_t002.npy | Shape: (31, 256)\n",
      "Sampling frequency of the instance is already 256.0, returning unmodified.\n",
      "✅ Saved: C:\\Users\\alsaf\\Downloads\\Capstone2\\EEG_Segments_Preprocessed\\aaaaahie_s019_t003.npy | Shape: (31, 256)\n",
      "Sampling frequency of the instance is already 256.0, returning unmodified.\n",
      "✅ Saved: C:\\Users\\alsaf\\Downloads\\Capstone2\\EEG_Segments_Preprocessed\\aaaaahie_s019_t004.npy | Shape: (31, 256)\n",
      "Sampling frequency of the instance is already 256.0, returning unmodified.\n",
      "✅ Saved: C:\\Users\\alsaf\\Downloads\\Capstone2\\EEG_Segments_Preprocessed\\aaaaahie_s019_t005.npy | Shape: (31, 768)"
     ]
    },
    {
     "name": "stderr",
     "output_type": "stream",
     "text": [
      "Processing EEG Files:  71%|███████   | 311/438 [04:37<02:04,  1.02it/s]"
     ]
    },
    {
     "name": "stdout",
     "output_type": "stream",
     "text": [
      "\n",
      "Sampling frequency of the instance is already 256.0, returning unmodified.\n",
      "✅ Saved: C:\\Users\\alsaf\\Downloads\\Capstone2\\EEG_Segments_Preprocessed\\aaaaahie_s019_t006.npy | Shape: (31, 256)\n",
      "Sampling frequency of the instance is already 256.0, returning unmodified.\n",
      "✅ Saved: C:\\Users\\alsaf\\Downloads\\Capstone2\\EEG_Segments_Preprocessed\\aaaaahie_s019_t007.npy | Shape: (31, 256)\n",
      "Sampling frequency of the instance is already 256.0, returning unmodified.\n",
      "✅ Saved: C:\\Users\\alsaf\\Downloads\\Capstone2\\EEG_Segments_Preprocessed\\aaaaahie_s019_t008.npy | Shape: (31, 768)"
     ]
    },
    {
     "name": "stderr",
     "output_type": "stream",
     "text": [
      "Processing EEG Files:  72%|███████▏  | 314/438 [04:37<01:16,  1.63it/s]"
     ]
    },
    {
     "name": "stdout",
     "output_type": "stream",
     "text": [
      "\n",
      "Sampling frequency of the instance is already 256.0, returning unmodified.\n",
      "✅ Saved: C:\\Users\\alsaf\\Downloads\\Capstone2\\EEG_Segments_Preprocessed\\aaaaahie_s019_t009.npy | Shape: (31, 768)\n",
      "Sampling frequency of the instance is already 256.0, returning unmodified.\n",
      "✅ Saved: C:\\Users\\alsaf\\Downloads\\Capstone2\\EEG_Segments_Preprocessed\\aaaaahie_s019_t010.npy | Shape: (31, 256)\n",
      "Sampling frequency of the instance is already 256.0, returning unmodified.\n",
      "✅ Saved: C:\\Users\\alsaf\\Downloads\\Capstone2\\EEG_Segments_Preprocessed\\aaaaahie_s019_t011.npy | Shape: (31, 768)\n",
      "Sampling frequency of the instance is already 256.0, returning unmodified.\n"
     ]
    },
    {
     "name": "stderr",
     "output_type": "stream",
     "text": [
      "Processing EEG Files:  73%|███████▎  | 318/438 [04:37<00:44,  2.72it/s]"
     ]
    },
    {
     "name": "stdout",
     "output_type": "stream",
     "text": [
      "✅ Saved: C:\\Users\\alsaf\\Downloads\\Capstone2\\EEG_Segments_Preprocessed\\aaaaahie_s019_t012.npy | Shape: (31, 768)\n",
      "Sampling frequency of the instance is already 256.0, returning unmodified.\n",
      "✅ Saved: C:\\Users\\alsaf\\Downloads\\Capstone2\\EEG_Segments_Preprocessed\\aaaaahie_s019_t013.npy | Shape: (31, 768)\n",
      "Sampling frequency of the instance is already 256.0, returning unmodified.\n",
      "✅ Saved: C:\\Users\\alsaf\\Downloads\\Capstone2\\EEG_Segments_Preprocessed\\aaaaahie_s019_t014.npy | Shape: (31, 768)\n",
      "Sampling frequency of the instance is already 256.0, returning unmodified.\n",
      "✅ Saved: C:\\Users\\alsaf\\Downloads\\Capstone2\\EEG_Segments_Preprocessed\\aaaaahie_s019_t015.npy | Shape: (31, 256)\n",
      "Sampling frequency of the instance is already 256.0, returning unmodified.\n",
      "✅ Saved: C:\\Users\\alsaf\\Downloads\\Capstone2\\EEG_Segments_Preprocessed\\aaaaahie_s019_t016.npy | Shape: (31, 256)"
     ]
    },
    {
     "name": "stderr",
     "output_type": "stream",
     "text": [
      "Processing EEG Files:  74%|███████▎  | 322/438 [04:37<00:27,  4.16it/s]"
     ]
    },
    {
     "name": "stdout",
     "output_type": "stream",
     "text": [
      "\n",
      "Sampling frequency of the instance is already 256.0, returning unmodified.\n",
      "✅ Saved: C:\\Users\\alsaf\\Downloads\\Capstone2\\EEG_Segments_Preprocessed\\aaaaahie_s019_t017.npy | Shape: (31, 256)\n",
      "Sampling frequency of the instance is already 256.0, returning unmodified.\n",
      "✅ Saved: C:\\Users\\alsaf\\Downloads\\Capstone2\\EEG_Segments_Preprocessed\\aaaaahie_s019_t018.npy | Shape: (31, 256)\n",
      "Sampling frequency of the instance is already 256.0, returning unmodified.\n"
     ]
    },
    {
     "name": "stderr",
     "output_type": "stream",
     "text": [
      "Processing EEG Files:  74%|███████▍  | 325/438 [04:37<00:20,  5.50it/s]"
     ]
    },
    {
     "name": "stdout",
     "output_type": "stream",
     "text": [
      "✅ Saved: C:\\Users\\alsaf\\Downloads\\Capstone2\\EEG_Segments_Preprocessed\\aaaaahie_s019_t019.npy | Shape: (31, 256)\n",
      "Sampling frequency of the instance is already 256.0, returning unmodified.\n",
      "✅ Saved: C:\\Users\\alsaf\\Downloads\\Capstone2\\EEG_Segments_Preprocessed\\aaaaahie_s020_t000.npy | Shape: (31, 68864)\n",
      "Sampling frequency of the instance is already 256.0, returning unmodified.\n",
      "✅ Saved: C:\\Users\\alsaf\\Downloads\\Capstone2\\EEG_Segments_Preprocessed\\aaaaahie_s020_t001.npy | Shape: (31, 126720)\n",
      "Sampling frequency of the instance is already 256.0, returning unmodified.\n"
     ]
    },
    {
     "name": "stderr",
     "output_type": "stream",
     "text": [
      "Processing EEG Files:  75%|███████▍  | 328/438 [04:38<00:23,  4.62it/s]"
     ]
    },
    {
     "name": "stdout",
     "output_type": "stream",
     "text": [
      "✅ Saved: C:\\Users\\alsaf\\Downloads\\Capstone2\\EEG_Segments_Preprocessed\\aaaaahie_s020_t002.npy | Shape: (31, 126464)\n",
      "Sampling frequency of the instance is already 256.0, returning unmodified.\n",
      "✅ Saved: C:\\Users\\alsaf\\Downloads\\Capstone2\\EEG_Segments_Preprocessed\\aaaaahie_s020_t003.npy | Shape: (31, 256)\n",
      "Sampling frequency of the instance is already 256.0, returning unmodified.\n"
     ]
    },
    {
     "name": "stderr",
     "output_type": "stream",
     "text": [
      "Processing EEG Files:  75%|███████▌  | 330/438 [04:39<00:21,  4.92it/s]"
     ]
    },
    {
     "name": "stdout",
     "output_type": "stream",
     "text": [
      "✅ Saved: C:\\Users\\alsaf\\Downloads\\Capstone2\\EEG_Segments_Preprocessed\\aaaaahie_s020_t004.npy | Shape: (31, 77056)\n",
      "Sampling frequency of the instance is already 256.0, returning unmodified.\n",
      "✅ Saved: C:\\Users\\alsaf\\Downloads\\Capstone2\\EEG_Segments_Preprocessed\\aaaaahie_s020_t005.npy | Shape: (31, 171776)\n",
      "Sampling frequency of the instance is already 256.0, returning unmodified.\n"
     ]
    },
    {
     "name": "stderr",
     "output_type": "stream",
     "text": [
      "Processing EEG Files:  76%|███████▌  | 332/438 [04:39<00:25,  4.20it/s]"
     ]
    },
    {
     "name": "stdout",
     "output_type": "stream",
     "text": [
      "✅ Saved: C:\\Users\\alsaf\\Downloads\\Capstone2\\EEG_Segments_Preprocessed\\aaaaahie_s021_t000.npy | Shape: (31, 76800)\n",
      "Sampling frequency of the instance is already 256.0, returning unmodified.\n",
      "✅ Saved: C:\\Users\\alsaf\\Downloads\\Capstone2\\EEG_Segments_Preprocessed\\aaaaahie_s021_t001.npy | Shape: (31, 174080)\n",
      "Sampling frequency of the instance is already 256.0, returning unmodified.\n"
     ]
    },
    {
     "name": "stderr",
     "output_type": "stream",
     "text": [
      "Processing EEG Files:  76%|███████▋  | 334/438 [04:40<00:29,  3.52it/s]"
     ]
    },
    {
     "name": "stdout",
     "output_type": "stream",
     "text": [
      "✅ Saved: C:\\Users\\alsaf\\Downloads\\Capstone2\\EEG_Segments_Preprocessed\\aaaaahie_s021_t002.npy | Shape: (31, 179200)\n",
      "Sampling frequency of the instance is already 256.0, returning unmodified.\n"
     ]
    },
    {
     "name": "stderr",
     "output_type": "stream",
     "text": [
      "Processing EEG Files:  76%|███████▋  | 335/438 [04:41<00:32,  3.15it/s]"
     ]
    },
    {
     "name": "stdout",
     "output_type": "stream",
     "text": [
      "✅ Saved: C:\\Users\\alsaf\\Downloads\\Capstone2\\EEG_Segments_Preprocessed\\aaaaahie_s021_t003.npy | Shape: (31, 192512)\n",
      "Sampling frequency of the instance is already 256.0, returning unmodified.\n"
     ]
    },
    {
     "name": "stderr",
     "output_type": "stream",
     "text": [
      "Processing EEG Files:  77%|███████▋  | 336/438 [04:41<00:36,  2.79it/s]"
     ]
    },
    {
     "name": "stdout",
     "output_type": "stream",
     "text": [
      "✅ Saved: C:\\Users\\alsaf\\Downloads\\Capstone2\\EEG_Segments_Preprocessed\\aaaaahie_s021_t004.npy | Shape: (31, 230656)\n",
      "Sampling frequency of the instance is already 256.0, returning unmodified.\n"
     ]
    },
    {
     "name": "stderr",
     "output_type": "stream",
     "text": [
      "Processing EEG Files:  77%|███████▋  | 337/438 [04:41<00:32,  3.07it/s]"
     ]
    },
    {
     "name": "stdout",
     "output_type": "stream",
     "text": [
      "✅ Saved: C:\\Users\\alsaf\\Downloads\\Capstone2\\EEG_Segments_Preprocessed\\aaaaahie_s021_t005.npy | Shape: (31, 76800)\n",
      "Sampling frequency of the instance is already 256.0, returning unmodified.\n"
     ]
    },
    {
     "name": "stderr",
     "output_type": "stream",
     "text": [
      "Processing EEG Files:  77%|███████▋  | 338/438 [04:42<00:35,  2.84it/s]"
     ]
    },
    {
     "name": "stdout",
     "output_type": "stream",
     "text": [
      "✅ Saved: C:\\Users\\alsaf\\Downloads\\Capstone2\\EEG_Segments_Preprocessed\\aaaaahie_s021_t006.npy | Shape: (31, 179712)\n",
      "Sampling frequency of the instance is already 256.0, returning unmodified.\n"
     ]
    },
    {
     "name": "stderr",
     "output_type": "stream",
     "text": [
      "Processing EEG Files:  77%|███████▋  | 339/438 [04:43<01:07,  1.46it/s]"
     ]
    },
    {
     "name": "stdout",
     "output_type": "stream",
     "text": [
      "✅ Saved: C:\\Users\\alsaf\\Downloads\\Capstone2\\EEG_Segments_Preprocessed\\aaaaahie_s022_t000.npy | Shape: (21, 921600)\n",
      "Sampling frequency of the instance is already 256.0, returning unmodified.\n"
     ]
    },
    {
     "name": "stderr",
     "output_type": "stream",
     "text": [
      "Processing EEG Files:  78%|███████▊  | 340/438 [04:45<01:24,  1.16it/s]"
     ]
    },
    {
     "name": "stdout",
     "output_type": "stream",
     "text": [
      "✅ Saved: C:\\Users\\alsaf\\Downloads\\Capstone2\\EEG_Segments_Preprocessed\\aaaaahie_s022_t001.npy | Shape: (21, 921856)\n",
      "Sampling frequency of the instance is already 256.0, returning unmodified.\n"
     ]
    },
    {
     "name": "stderr",
     "output_type": "stream",
     "text": [
      "Processing EEG Files:  78%|███████▊  | 341/438 [04:46<01:33,  1.03it/s]"
     ]
    },
    {
     "name": "stdout",
     "output_type": "stream",
     "text": [
      "✅ Saved: C:\\Users\\alsaf\\Downloads\\Capstone2\\EEG_Segments_Preprocessed\\aaaaahie_s022_t002.npy | Shape: (21, 921856)\n",
      "Sampling frequency of the instance is already 256.0, returning unmodified.\n"
     ]
    },
    {
     "name": "stderr",
     "output_type": "stream",
     "text": [
      "Processing EEG Files:  78%|███████▊  | 342/438 [04:47<01:40,  1.05s/it]"
     ]
    },
    {
     "name": "stdout",
     "output_type": "stream",
     "text": [
      "✅ Saved: C:\\Users\\alsaf\\Downloads\\Capstone2\\EEG_Segments_Preprocessed\\aaaaahie_s022_t003.npy | Shape: (21, 921856)\n",
      "Sampling frequency of the instance is already 256.0, returning unmodified.\n"
     ]
    },
    {
     "name": "stderr",
     "output_type": "stream",
     "text": [
      "Processing EEG Files:  78%|███████▊  | 343/438 [04:49<01:57,  1.24s/it]"
     ]
    },
    {
     "name": "stdout",
     "output_type": "stream",
     "text": [
      "✅ Saved: C:\\Users\\alsaf\\Downloads\\Capstone2\\EEG_Segments_Preprocessed\\aaaaahie_s022_t004.npy | Shape: (21, 921856)\n",
      "Sampling frequency of the instance is already 256.0, returning unmodified.\n"
     ]
    },
    {
     "name": "stderr",
     "output_type": "stream",
     "text": [
      "Processing EEG Files:  79%|███████▊  | 344/438 [04:51<02:05,  1.33s/it]"
     ]
    },
    {
     "name": "stdout",
     "output_type": "stream",
     "text": [
      "✅ Saved: C:\\Users\\alsaf\\Downloads\\Capstone2\\EEG_Segments_Preprocessed\\aaaaahie_s022_t005.npy | Shape: (21, 921856)\n",
      "Sampling frequency of the instance is already 256.0, returning unmodified.\n"
     ]
    },
    {
     "name": "stderr",
     "output_type": "stream",
     "text": [
      "Processing EEG Files:  79%|███████▉  | 345/438 [04:52<02:13,  1.44s/it]"
     ]
    },
    {
     "name": "stdout",
     "output_type": "stream",
     "text": [
      "✅ Saved: C:\\Users\\alsaf\\Downloads\\Capstone2\\EEG_Segments_Preprocessed\\aaaaahie_s022_t006.npy | Shape: (21, 921856)\n",
      "Sampling frequency of the instance is already 256.0, returning unmodified.\n"
     ]
    },
    {
     "name": "stderr",
     "output_type": "stream",
     "text": [
      "Processing EEG Files:  79%|███████▉  | 346/438 [04:54<02:28,  1.62s/it]"
     ]
    },
    {
     "name": "stdout",
     "output_type": "stream",
     "text": [
      "✅ Saved: C:\\Users\\alsaf\\Downloads\\Capstone2\\EEG_Segments_Preprocessed\\aaaaahie_s022_t007.npy | Shape: (21, 921856)\n",
      "Sampling frequency of the instance is already 256.0, returning unmodified.\n"
     ]
    },
    {
     "name": "stderr",
     "output_type": "stream",
     "text": [
      "Processing EEG Files:  79%|███████▉  | 347/438 [04:56<02:35,  1.71s/it]"
     ]
    },
    {
     "name": "stdout",
     "output_type": "stream",
     "text": [
      "✅ Saved: C:\\Users\\alsaf\\Downloads\\Capstone2\\EEG_Segments_Preprocessed\\aaaaahie_s022_t008.npy | Shape: (21, 921856)\n",
      "Sampling frequency of the instance is already 256.0, returning unmodified.\n"
     ]
    },
    {
     "name": "stderr",
     "output_type": "stream",
     "text": [
      "Processing EEG Files:  79%|███████▉  | 348/438 [04:58<02:36,  1.73s/it]"
     ]
    },
    {
     "name": "stdout",
     "output_type": "stream",
     "text": [
      "✅ Saved: C:\\Users\\alsaf\\Downloads\\Capstone2\\EEG_Segments_Preprocessed\\aaaaahie_s022_t009.npy | Shape: (21, 915200)\n",
      "Sampling frequency of the instance is already 256.0, returning unmodified.\n"
     ]
    },
    {
     "name": "stderr",
     "output_type": "stream",
     "text": [
      "Processing EEG Files:  80%|███████▉  | 349/438 [05:00<02:38,  1.78s/it]"
     ]
    },
    {
     "name": "stdout",
     "output_type": "stream",
     "text": [
      "✅ Saved: C:\\Users\\alsaf\\Downloads\\Capstone2\\EEG_Segments_Preprocessed\\aaaaahie_s023_t000.npy | Shape: (21, 921600)\n",
      "Sampling frequency of the instance is already 256.0, returning unmodified.\n"
     ]
    },
    {
     "name": "stderr",
     "output_type": "stream",
     "text": [
      "Processing EEG Files:  80%|███████▉  | 350/438 [05:02<02:36,  1.78s/it]"
     ]
    },
    {
     "name": "stdout",
     "output_type": "stream",
     "text": [
      "✅ Saved: C:\\Users\\alsaf\\Downloads\\Capstone2\\EEG_Segments_Preprocessed\\aaaaahie_s023_t001.npy | Shape: (21, 921856)\n",
      "Sampling frequency of the instance is already 256.0, returning unmodified.\n"
     ]
    },
    {
     "name": "stderr",
     "output_type": "stream",
     "text": [
      "Processing EEG Files:  80%|████████  | 351/438 [05:03<02:30,  1.73s/it]"
     ]
    },
    {
     "name": "stdout",
     "output_type": "stream",
     "text": [
      "✅ Saved: C:\\Users\\alsaf\\Downloads\\Capstone2\\EEG_Segments_Preprocessed\\aaaaahie_s023_t002.npy | Shape: (21, 921856)\n",
      "Sampling frequency of the instance is already 256.0, returning unmodified.\n"
     ]
    },
    {
     "name": "stderr",
     "output_type": "stream",
     "text": [
      "Processing EEG Files:  80%|████████  | 352/438 [05:05<02:24,  1.68s/it]"
     ]
    },
    {
     "name": "stdout",
     "output_type": "stream",
     "text": [
      "✅ Saved: C:\\Users\\alsaf\\Downloads\\Capstone2\\EEG_Segments_Preprocessed\\aaaaahie_s023_t003.npy | Shape: (21, 921856)\n",
      "Sampling frequency of the instance is already 256.0, returning unmodified.\n"
     ]
    },
    {
     "name": "stderr",
     "output_type": "stream",
     "text": [
      "Processing EEG Files:  81%|████████  | 353/438 [05:07<02:24,  1.69s/it]"
     ]
    },
    {
     "name": "stdout",
     "output_type": "stream",
     "text": [
      "✅ Saved: C:\\Users\\alsaf\\Downloads\\Capstone2\\EEG_Segments_Preprocessed\\aaaaahie_s023_t004.npy | Shape: (21, 906752)\n",
      "Sampling frequency of the instance is already 256.0, returning unmodified.\n"
     ]
    },
    {
     "name": "stderr",
     "output_type": "stream",
     "text": [
      "Processing EEG Files:  81%|████████  | 354/438 [05:08<02:18,  1.64s/it]"
     ]
    },
    {
     "name": "stdout",
     "output_type": "stream",
     "text": [
      "✅ Saved: C:\\Users\\alsaf\\Downloads\\Capstone2\\EEG_Segments_Preprocessed\\aaaaahie_s023_t006.npy | Shape: (21, 921600)\n",
      "Sampling frequency of the instance is already 256.0, returning unmodified.\n"
     ]
    },
    {
     "name": "stderr",
     "output_type": "stream",
     "text": [
      "Processing EEG Files:  81%|████████  | 355/438 [05:10<02:14,  1.62s/it]"
     ]
    },
    {
     "name": "stdout",
     "output_type": "stream",
     "text": [
      "✅ Saved: C:\\Users\\alsaf\\Downloads\\Capstone2\\EEG_Segments_Preprocessed\\aaaaahie_s023_t007.npy | Shape: (21, 921856)\n",
      "Sampling frequency of the instance is already 256.0, returning unmodified.\n"
     ]
    },
    {
     "name": "stderr",
     "output_type": "stream",
     "text": [
      "Processing EEG Files:  81%|████████▏ | 356/438 [05:11<02:07,  1.55s/it]"
     ]
    },
    {
     "name": "stdout",
     "output_type": "stream",
     "text": [
      "✅ Saved: C:\\Users\\alsaf\\Downloads\\Capstone2\\EEG_Segments_Preprocessed\\aaaaahie_s023_t008.npy | Shape: (21, 921856)\n",
      "Sampling frequency of the instance is already 256.0, returning unmodified.\n"
     ]
    },
    {
     "name": "stderr",
     "output_type": "stream",
     "text": [
      "Processing EEG Files:  82%|████████▏ | 357/438 [05:13<02:01,  1.51s/it]"
     ]
    },
    {
     "name": "stdout",
     "output_type": "stream",
     "text": [
      "✅ Saved: C:\\Users\\alsaf\\Downloads\\Capstone2\\EEG_Segments_Preprocessed\\aaaaahie_s023_t009.npy | Shape: (21, 921856)\n",
      "Sampling frequency of the instance is already 256.0, returning unmodified.\n"
     ]
    },
    {
     "name": "stderr",
     "output_type": "stream",
     "text": [
      "Processing EEG Files:  82%|████████▏ | 358/438 [05:14<01:56,  1.46s/it]"
     ]
    },
    {
     "name": "stdout",
     "output_type": "stream",
     "text": [
      "✅ Saved: C:\\Users\\alsaf\\Downloads\\Capstone2\\EEG_Segments_Preprocessed\\aaaaahie_s023_t010.npy | Shape: (21, 921856)\n",
      "Sampling frequency of the instance is already 256.0, returning unmodified.\n"
     ]
    },
    {
     "name": "stderr",
     "output_type": "stream",
     "text": [
      "Processing EEG Files:  82%|████████▏ | 359/438 [05:15<01:43,  1.31s/it]"
     ]
    },
    {
     "name": "stdout",
     "output_type": "stream",
     "text": [
      "✅ Saved: C:\\Users\\alsaf\\Downloads\\Capstone2\\EEG_Segments_Preprocessed\\aaaaahie_s023_t011.npy | Shape: (21, 667648)\n",
      "Sampling frequency of the instance is already 256.0, returning unmodified.\n"
     ]
    },
    {
     "name": "stderr",
     "output_type": "stream",
     "text": [
      "Processing EEG Files:  82%|████████▏ | 360/438 [05:15<01:21,  1.05s/it]"
     ]
    },
    {
     "name": "stdout",
     "output_type": "stream",
     "text": [
      "✅ Saved: C:\\Users\\alsaf\\Downloads\\Capstone2\\EEG_Segments_Preprocessed\\aaaaahie_s024_t000.npy | Shape: (33, 176640)\n",
      "Sampling frequency of the instance is already 256.0, returning unmodified.\n"
     ]
    },
    {
     "name": "stderr",
     "output_type": "stream",
     "text": [
      "Processing EEG Files:  82%|████████▏ | 361/438 [05:16<01:08,  1.12it/s]"
     ]
    },
    {
     "name": "stdout",
     "output_type": "stream",
     "text": [
      "✅ Saved: C:\\Users\\alsaf\\Downloads\\Capstone2\\EEG_Segments_Preprocessed\\aaaaahie_s024_t001.npy | Shape: (33, 230656)\n",
      "Sampling frequency of the instance is already 256.0, returning unmodified.\n"
     ]
    },
    {
     "name": "stderr",
     "output_type": "stream",
     "text": [
      "Processing EEG Files:  83%|████████▎ | 362/438 [05:16<00:56,  1.33it/s]"
     ]
    },
    {
     "name": "stdout",
     "output_type": "stream",
     "text": [
      "✅ Saved: C:\\Users\\alsaf\\Downloads\\Capstone2\\EEG_Segments_Preprocessed\\aaaaahie_s024_t002.npy | Shape: (33, 183296)\n",
      "Sampling frequency of the instance is already 256.0, returning unmodified.\n"
     ]
    },
    {
     "name": "stderr",
     "output_type": "stream",
     "text": [
      "Processing EEG Files:  83%|████████▎ | 363/438 [05:16<00:43,  1.74it/s]"
     ]
    },
    {
     "name": "stdout",
     "output_type": "stream",
     "text": [
      "✅ Saved: C:\\Users\\alsaf\\Downloads\\Capstone2\\EEG_Segments_Preprocessed\\aaaaahie_s024_t003.npy | Shape: (33, 76800)\n",
      "Sampling frequency of the instance is already 256.0, returning unmodified.\n"
     ]
    },
    {
     "name": "stderr",
     "output_type": "stream",
     "text": [
      "Processing EEG Files:  83%|████████▎ | 364/438 [05:17<00:40,  1.83it/s]"
     ]
    },
    {
     "name": "stdout",
     "output_type": "stream",
     "text": [
      "✅ Saved: C:\\Users\\alsaf\\Downloads\\Capstone2\\EEG_Segments_Preprocessed\\aaaaahie_s024_t004.npy | Shape: (33, 184064)\n",
      "Sampling frequency of the instance is already 256.0, returning unmodified.\n"
     ]
    },
    {
     "name": "stderr",
     "output_type": "stream",
     "text": [
      "Processing EEG Files:  83%|████████▎ | 365/438 [05:17<00:38,  1.91it/s]"
     ]
    },
    {
     "name": "stdout",
     "output_type": "stream",
     "text": [
      "✅ Saved: C:\\Users\\alsaf\\Downloads\\Capstone2\\EEG_Segments_Preprocessed\\aaaaahie_s024_t005.npy | Shape: (33, 207360)\n",
      "Sampling frequency of the instance is already 256.0, returning unmodified.\n"
     ]
    },
    {
     "name": "stderr",
     "output_type": "stream",
     "text": [
      "Processing EEG Files:  84%|████████▎ | 366/438 [05:18<00:30,  2.40it/s]"
     ]
    },
    {
     "name": "stdout",
     "output_type": "stream",
     "text": [
      "✅ Saved: C:\\Users\\alsaf\\Downloads\\Capstone2\\EEG_Segments_Preprocessed\\aaaaahie_s024_t006.npy | Shape: (33, 76800)\n",
      "Sampling frequency of the instance is already 256.0, returning unmodified.\n"
     ]
    },
    {
     "name": "stderr",
     "output_type": "stream",
     "text": [
      "Processing EEG Files:  84%|████████▍ | 367/438 [05:18<00:32,  2.21it/s]"
     ]
    },
    {
     "name": "stdout",
     "output_type": "stream",
     "text": [
      "✅ Saved: C:\\Users\\alsaf\\Downloads\\Capstone2\\EEG_Segments_Preprocessed\\aaaaahie_s024_t007.npy | Shape: (33, 230656)\n",
      "Sampling frequency of the instance is already 256.0, returning unmodified.\n"
     ]
    },
    {
     "name": "stderr",
     "output_type": "stream",
     "text": [
      "Processing EEG Files:  84%|████████▍ | 368/438 [05:19<00:32,  2.18it/s]"
     ]
    },
    {
     "name": "stdout",
     "output_type": "stream",
     "text": [
      "✅ Saved: C:\\Users\\alsaf\\Downloads\\Capstone2\\EEG_Segments_Preprocessed\\aaaaahie_s024_t008.npy | Shape: (33, 197120)\n",
      "Sampling frequency of the instance is already 256.0, returning unmodified.\n"
     ]
    },
    {
     "name": "stderr",
     "output_type": "stream",
     "text": [
      "Processing EEG Files:  84%|████████▍ | 369/438 [05:19<00:28,  2.39it/s]"
     ]
    },
    {
     "name": "stdout",
     "output_type": "stream",
     "text": [
      "✅ Saved: C:\\Users\\alsaf\\Downloads\\Capstone2\\EEG_Segments_Preprocessed\\aaaaahie_s025_t000.npy | Shape: (33, 138240)\n",
      "Sampling frequency of the instance is already 256.0, returning unmodified.\n",
      "✅ Saved: C:\\Users\\alsaf\\Downloads\\Capstone2\\EEG_Segments_Preprocessed\\aaaaahie_s025_t001.npy | Shape: (33, 256)\n",
      "Sampling frequency of the instance is already 256.0, returning unmodified.\n"
     ]
    },
    {
     "name": "stderr",
     "output_type": "stream",
     "text": [
      "Processing EEG Files:  85%|████████▍ | 371/438 [05:19<00:17,  3.75it/s]"
     ]
    },
    {
     "name": "stdout",
     "output_type": "stream",
     "text": [
      "✅ Saved: C:\\Users\\alsaf\\Downloads\\Capstone2\\EEG_Segments_Preprocessed\\aaaaahie_s025_t002.npy | Shape: (33, 77056)\n",
      "Sampling frequency of the instance is already 256.0, returning unmodified.\n",
      "✅ Saved: C:\\Users\\alsaf\\Downloads\\Capstone2\\EEG_Segments_Preprocessed\\aaaaahie_s025_t003.npy | Shape: (33, 256)\n",
      "Sampling frequency of the instance is already 256.0, returning unmodified.\n",
      "✅ Saved: C:\\Users\\alsaf\\Downloads\\Capstone2\\EEG_Segments_Preprocessed\\aaaaahie_s025_t004.npy | Shape: (33, 256)\n",
      "Sampling frequency of the instance is already 256.0, returning unmodified.\n",
      "✅ Saved: C:\\Users\\alsaf\\Downloads\\Capstone2\\EEG_Segments_Preprocessed\\aaaaahie_s025_t005.npy | Shape: (33, 4608)\n",
      "Sampling frequency of the instance is already 256.0, returning unmodified.\n"
     ]
    },
    {
     "name": "stderr",
     "output_type": "stream",
     "text": [
      "Processing EEG Files:  86%|████████▌ | 375/438 [05:19<00:10,  6.05it/s]"
     ]
    },
    {
     "name": "stdout",
     "output_type": "stream",
     "text": [
      "✅ Saved: C:\\Users\\alsaf\\Downloads\\Capstone2\\EEG_Segments_Preprocessed\\aaaaahie_s025_t006.npy | Shape: (33, 127744)\n",
      "Sampling frequency of the instance is already 256.0, returning unmodified.\n"
     ]
    },
    {
     "name": "stderr",
     "output_type": "stream",
     "text": [
      "Processing EEG Files:  86%|████████▌ | 376/438 [05:20<00:10,  6.01it/s]"
     ]
    },
    {
     "name": "stdout",
     "output_type": "stream",
     "text": [
      "✅ Saved: C:\\Users\\alsaf\\Downloads\\Capstone2\\EEG_Segments_Preprocessed\\aaaaahie_s025_t007.npy | Shape: (33, 77056)\n",
      "Sampling frequency of the instance is already 256.0, returning unmodified.\n",
      "✅ Saved: C:\\Users\\alsaf\\Downloads\\Capstone2\\EEG_Segments_Preprocessed\\aaaaahie_s025_t008.npy | Shape: (33, 256)\n",
      "Sampling frequency of the instance is already 256.0, returning unmodified.\n"
     ]
    },
    {
     "name": "stderr",
     "output_type": "stream",
     "text": [
      "Processing EEG Files:  86%|████████▋ | 378/438 [05:20<00:08,  6.95it/s]"
     ]
    },
    {
     "name": "stdout",
     "output_type": "stream",
     "text": [
      "✅ Saved: C:\\Users\\alsaf\\Downloads\\Capstone2\\EEG_Segments_Preprocessed\\aaaaahie_s026_t000.npy | Shape: (33, 77056)\n",
      "Sampling frequency of the instance is already 256.0, returning unmodified.\n"
     ]
    },
    {
     "name": "stderr",
     "output_type": "stream",
     "text": [
      "Processing EEG Files:  87%|████████▋ | 379/438 [05:20<00:11,  5.29it/s]"
     ]
    },
    {
     "name": "stdout",
     "output_type": "stream",
     "text": [
      "✅ Saved: C:\\Users\\alsaf\\Downloads\\Capstone2\\EEG_Segments_Preprocessed\\aaaaahie_s026_t001.npy | Shape: (33, 156672)\n",
      "Sampling frequency of the instance is already 256.0, returning unmodified.\n"
     ]
    },
    {
     "name": "stderr",
     "output_type": "stream",
     "text": [
      "Processing EEG Files:  87%|████████▋ | 380/438 [05:20<00:10,  5.33it/s]"
     ]
    },
    {
     "name": "stdout",
     "output_type": "stream",
     "text": [
      "✅ Saved: C:\\Users\\alsaf\\Downloads\\Capstone2\\EEG_Segments_Preprocessed\\aaaaahie_s026_t002.npy | Shape: (33, 77056)\n",
      "Sampling frequency of the instance is already 256.0, returning unmodified.\n"
     ]
    },
    {
     "name": "stderr",
     "output_type": "stream",
     "text": [
      "Processing EEG Files:  87%|████████▋ | 381/438 [05:21<00:10,  5.44it/s]"
     ]
    },
    {
     "name": "stdout",
     "output_type": "stream",
     "text": [
      "✅ Saved: C:\\Users\\alsaf\\Downloads\\Capstone2\\EEG_Segments_Preprocessed\\aaaaahie_s026_t003.npy | Shape: (33, 77056)\n",
      "Sampling frequency of the instance is already 256.0, returning unmodified.\n",
      "✅ Saved: C:\\Users\\alsaf\\Downloads\\Capstone2\\EEG_Segments_Preprocessed\\aaaaahie_s026_t004.npy | Shape: (33, 256)\n",
      "Sampling frequency of the instance is already 256.0, returning unmodified.\n",
      "✅ Saved: C:\\Users\\alsaf\\Downloads\\Capstone2\\EEG_Segments_Preprocessed\\aaaaahie_s026_t005.npy | Shape: (33, 256)\n",
      "Sampling frequency of the instance is already 256.0, returning unmodified.\n"
     ]
    },
    {
     "name": "stderr",
     "output_type": "stream",
     "text": [
      "Processing EEG Files:  88%|████████▊ | 384/438 [05:21<00:08,  6.73it/s]"
     ]
    },
    {
     "name": "stdout",
     "output_type": "stream",
     "text": [
      "✅ Saved: C:\\Users\\alsaf\\Downloads\\Capstone2\\EEG_Segments_Preprocessed\\aaaaahie_s026_t006.npy | Shape: (33, 125952)\n",
      "Sampling frequency of the instance is already 256.0, returning unmodified.\n",
      "✅ Saved: C:\\Users\\alsaf\\Downloads\\Capstone2\\EEG_Segments_Preprocessed\\aaaaahie_s027_t000.npy | Shape: (33, 256)\n",
      "Sampling frequency of the instance is already 256.0, returning unmodified.\n",
      "✅ Saved: C:\\Users\\alsaf\\Downloads\\Capstone2\\EEG_Segments_Preprocessed\\aaaaahie_s027_t001.npy | Shape: (33, 256)\n",
      "Sampling frequency of the instance is already 256.0, returning unmodified.\n",
      "✅ Saved: C:\\Users\\alsaf\\Downloads\\Capstone2\\EEG_Segments_Preprocessed\\aaaaahie_s027_t002.npy | Shape: (33, 256)\n",
      "Sampling frequency of the instance is already 256.0, returning unmodified.\n",
      "✅ Saved: C:\\Users\\alsaf\\Downloads\\Capstone2\\EEG_Segments_Preprocessed\\aaaaahie_s027_t003.npy | Shape: (33, 256)\n",
      "Sampling frequency of the instance is already 256.0, returning unmodified.\n",
      "✅ Saved: C:\\Users\\alsaf\\Downloads\\Capstone2\\EEG_Segments_Preprocessed\\aaaaahie_s027_t004.npy | Shape: (33, 256)\n",
      "Sampling frequency of the instance is already 256.0, returning unmodified.\n",
      "✅ Saved: C:\\Users\\alsaf\\Downloads\\Capstone2\\EEG_Segments_Preprocessed\\aaaaahie_s027_t005.npy | Shape: (33, 256)\n",
      "Sampling frequency of the instance is already 256.0, returning unmodified.\n",
      "✅ Saved: C:\\Users\\alsaf\\Downloads\\Capstone2\\EEG_Segments_Preprocessed\\aaaaahie_s027_t006.npy | Shape: (33, 256)\n",
      "Sampling frequency of the instance is already 256.0, returning unmodified.\n"
     ]
    },
    {
     "name": "stderr",
     "output_type": "stream",
     "text": [
      "Processing EEG Files:  89%|████████▉ | 392/438 [05:21<00:03, 12.75it/s]"
     ]
    },
    {
     "name": "stdout",
     "output_type": "stream",
     "text": [
      "✅ Saved: C:\\Users\\alsaf\\Downloads\\Capstone2\\EEG_Segments_Preprocessed\\aaaaahie_s027_t007.npy | Shape: (33, 105728)\n",
      "Sampling frequency of the instance is already 256.0, returning unmodified.\n",
      "✅ Saved: C:\\Users\\alsaf\\Downloads\\Capstone2\\EEG_Segments_Preprocessed\\aaaaahie_s027_t008.npy | Shape: (33, 256)\n",
      "Sampling frequency of the instance is already 256.0, returning unmodified.\n",
      "✅ Saved: C:\\Users\\alsaf\\Downloads\\Capstone2\\EEG_Segments_Preprocessed\\aaaaahie_s027_t009.npy | Shape: (33, 77056)"
     ]
    },
    {
     "name": "stderr",
     "output_type": "stream",
     "text": [
      "Processing EEG Files:  90%|████████▉ | 394/438 [05:21<00:03, 12.23it/s]"
     ]
    },
    {
     "name": "stdout",
     "output_type": "stream",
     "text": [
      "\n",
      "Sampling frequency of the instance is already 256.0, returning unmodified.\n",
      "✅ Saved: C:\\Users\\alsaf\\Downloads\\Capstone2\\EEG_Segments_Preprocessed\\aaaaahie_s027_t010.npy | Shape: (33, 256)\n",
      "Sampling frequency of the instance is already 256.0, returning unmodified.\n",
      "✅ Saved: C:\\Users\\alsaf\\Downloads\\Capstone2\\EEG_Segments_Preprocessed\\aaaaahie_s027_t011.npy | Shape: (33, 256)\n",
      "Sampling frequency of the instance is already 256.0, returning unmodified.\n",
      "✅ Saved: C:\\Users\\alsaf\\Downloads\\Capstone2\\EEG_Segments_Preprocessed\\aaaaahie_s027_t012.npy | Shape: (33, 512)\n",
      "Sampling frequency of the instance is already 256.0, returning unmodified.\n",
      "✅ Saved: C:\\Users\\alsaf\\Downloads\\Capstone2\\EEG_Segments_Preprocessed\\aaaaahie_s027_t013.npy | Shape: (33, 77056)"
     ]
    },
    {
     "name": "stderr",
     "output_type": "stream",
     "text": [
      "Processing EEG Files:  91%|█████████ | 398/438 [05:22<00:02, 13.81it/s]"
     ]
    },
    {
     "name": "stdout",
     "output_type": "stream",
     "text": [
      "\n",
      "Sampling frequency of the instance is already 256.0, returning unmodified.\n",
      "✅ Saved: C:\\Users\\alsaf\\Downloads\\Capstone2\\EEG_Segments_Preprocessed\\aaaaahie_s027_t014.npy | Shape: (33, 256)\n",
      "Sampling frequency of the instance is already 256.0, returning unmodified.\n",
      "✅ Saved: C:\\Users\\alsaf\\Downloads\\Capstone2\\EEG_Segments_Preprocessed\\aaaaahie_s028_t000.npy | Shape: (33, 75520)"
     ]
    },
    {
     "name": "stderr",
     "output_type": "stream",
     "text": [
      "Processing EEG Files:  91%|█████████▏| 400/438 [05:22<00:02, 13.01it/s]"
     ]
    },
    {
     "name": "stdout",
     "output_type": "stream",
     "text": [
      "\n",
      "Sampling frequency of the instance is already 256.0, returning unmodified.\n",
      "✅ Saved: C:\\Users\\alsaf\\Downloads\\Capstone2\\EEG_Segments_Preprocessed\\aaaaahie_s028_t001.npy | Shape: (33, 77056)\n",
      "Sampling frequency of the instance is already 256.0, returning unmodified.\n"
     ]
    },
    {
     "name": "stderr",
     "output_type": "stream",
     "text": [
      "Processing EEG Files:  92%|█████████▏| 402/438 [05:22<00:02, 12.35it/s]"
     ]
    },
    {
     "name": "stdout",
     "output_type": "stream",
     "text": [
      "✅ Saved: C:\\Users\\alsaf\\Downloads\\Capstone2\\EEG_Segments_Preprocessed\\aaaaahie_s028_t002.npy | Shape: (33, 256)\n",
      "Sampling frequency of the instance is already 256.0, returning unmodified.\n",
      "✅ Saved: C:\\Users\\alsaf\\Downloads\\Capstone2\\EEG_Segments_Preprocessed\\aaaaahie_s028_t003.npy | Shape: (33, 5376)\n",
      "Sampling frequency of the instance is already 256.0, returning unmodified.\n",
      "✅ Saved: C:\\Users\\alsaf\\Downloads\\Capstone2\\EEG_Segments_Preprocessed\\aaaaahie_s028_t004.npy | Shape: (33, 256)\n",
      "Sampling frequency of the instance is already 256.0, returning unmodified.\n",
      "✅ Saved: C:\\Users\\alsaf\\Downloads\\Capstone2\\EEG_Segments_Preprocessed\\aaaaahie_s028_t005.npy | Shape: (33, 1280)\n",
      "Sampling frequency of the instance is already 256.0, returning unmodified.\n"
     ]
    },
    {
     "name": "stderr",
     "output_type": "stream",
     "text": [
      "Processing EEG Files:  93%|█████████▎| 406/438 [05:22<00:02, 14.18it/s]"
     ]
    },
    {
     "name": "stdout",
     "output_type": "stream",
     "text": [
      "✅ Saved: C:\\Users\\alsaf\\Downloads\\Capstone2\\EEG_Segments_Preprocessed\\aaaaahie_s028_t006.npy | Shape: (33, 77056)\n",
      "Sampling frequency of the instance is already 256.0, returning unmodified.\n",
      "✅ Saved: C:\\Users\\alsaf\\Downloads\\Capstone2\\EEG_Segments_Preprocessed\\aaaaahie_s029_t000.npy | Shape: (33, 77056)\n",
      "Sampling frequency of the instance is already 256.0, returning unmodified.\n"
     ]
    },
    {
     "name": "stderr",
     "output_type": "stream",
     "text": [
      "Processing EEG Files:  93%|█████████▎| 408/438 [05:23<00:03,  9.67it/s]"
     ]
    },
    {
     "name": "stdout",
     "output_type": "stream",
     "text": [
      "✅ Saved: C:\\Users\\alsaf\\Downloads\\Capstone2\\EEG_Segments_Preprocessed\\aaaaahie_s029_t001.npy | Shape: (33, 106752)\n",
      "Sampling frequency of the instance is already 256.0, returning unmodified.\n",
      "✅ Saved: C:\\Users\\alsaf\\Downloads\\Capstone2\\EEG_Segments_Preprocessed\\aaaaahie_s029_t002.npy | Shape: (33, 256)\n",
      "Sampling frequency of the instance is already 256.0, returning unmodified.\n",
      "✅ Saved: C:\\Users\\alsaf\\Downloads\\Capstone2\\EEG_Segments_Preprocessed\\aaaaahie_s029_t003.npy | Shape: (33, 256)\n",
      "Sampling frequency of the instance is already 256.0, returning unmodified.\n"
     ]
    },
    {
     "name": "stderr",
     "output_type": "stream",
     "text": [
      "Processing EEG Files:  94%|█████████▍| 411/438 [05:23<00:02,  9.99it/s]"
     ]
    },
    {
     "name": "stdout",
     "output_type": "stream",
     "text": [
      "✅ Saved: C:\\Users\\alsaf\\Downloads\\Capstone2\\EEG_Segments_Preprocessed\\aaaaahie_s029_t004.npy | Shape: (33, 108800)\n",
      "Sampling frequency of the instance is already 256.0, returning unmodified.\n",
      "✅ Saved: C:\\Users\\alsaf\\Downloads\\Capstone2\\EEG_Segments_Preprocessed\\aaaaahie_s029_t005.npy | Shape: (33, 77056)\n",
      "Sampling frequency of the instance is already 256.0, returning unmodified.\n"
     ]
    },
    {
     "name": "stderr",
     "output_type": "stream",
     "text": [
      "Processing EEG Files:  94%|█████████▍| 413/438 [05:25<00:08,  2.87it/s]"
     ]
    },
    {
     "name": "stdout",
     "output_type": "stream",
     "text": [
      "✅ Saved: C:\\Users\\alsaf\\Downloads\\Capstone2\\EEG_Segments_Preprocessed\\aaaaahie_s030_t000.npy | Shape: (32, 921600)\n",
      "Sampling frequency of the instance is already 256.0, returning unmodified.\n"
     ]
    },
    {
     "name": "stderr",
     "output_type": "stream",
     "text": [
      "Processing EEG Files:  95%|█████████▍| 414/438 [05:26<00:11,  2.11it/s]"
     ]
    },
    {
     "name": "stdout",
     "output_type": "stream",
     "text": [
      "✅ Saved: C:\\Users\\alsaf\\Downloads\\Capstone2\\EEG_Segments_Preprocessed\\aaaaahie_s030_t001.npy | Shape: (20, 921856)\n",
      "Sampling frequency of the instance is already 256.0, returning unmodified.\n"
     ]
    },
    {
     "name": "stderr",
     "output_type": "stream",
     "text": [
      "Processing EEG Files:  95%|█████████▍| 415/438 [05:28<00:13,  1.71it/s]"
     ]
    },
    {
     "name": "stdout",
     "output_type": "stream",
     "text": [
      "✅ Saved: C:\\Users\\alsaf\\Downloads\\Capstone2\\EEG_Segments_Preprocessed\\aaaaahie_s030_t002.npy | Shape: (20, 921344)\n",
      "Sampling frequency of the instance is already 256.0, returning unmodified.\n"
     ]
    },
    {
     "name": "stderr",
     "output_type": "stream",
     "text": [
      "Processing EEG Files:  95%|█████████▍| 416/438 [05:30<00:19,  1.10it/s]"
     ]
    },
    {
     "name": "stdout",
     "output_type": "stream",
     "text": [
      "✅ Saved: C:\\Users\\alsaf\\Downloads\\Capstone2\\EEG_Segments_Preprocessed\\aaaaahie_s030_t003.npy | Shape: (20, 921856)\n",
      "Sampling frequency of the instance is already 256.0, returning unmodified.\n"
     ]
    },
    {
     "name": "stderr",
     "output_type": "stream",
     "text": [
      "Processing EEG Files:  95%|█████████▌| 417/438 [05:32<00:25,  1.22s/it]"
     ]
    },
    {
     "name": "stdout",
     "output_type": "stream",
     "text": [
      "✅ Saved: C:\\Users\\alsaf\\Downloads\\Capstone2\\EEG_Segments_Preprocessed\\aaaaahie_s030_t004.npy | Shape: (20, 921856)\n",
      "Sampling frequency of the instance is already 256.0, returning unmodified.\n"
     ]
    },
    {
     "name": "stderr",
     "output_type": "stream",
     "text": [
      "Processing EEG Files:  95%|█████████▌| 418/438 [05:35<00:31,  1.56s/it]"
     ]
    },
    {
     "name": "stdout",
     "output_type": "stream",
     "text": [
      "✅ Saved: C:\\Users\\alsaf\\Downloads\\Capstone2\\EEG_Segments_Preprocessed\\aaaaahie_s030_t005.npy | Shape: (20, 921856)\n",
      "Sampling frequency of the instance is already 256.0, returning unmodified.\n"
     ]
    },
    {
     "name": "stderr",
     "output_type": "stream",
     "text": [
      "Processing EEG Files:  96%|█████████▌| 419/438 [05:37<00:34,  1.82s/it]"
     ]
    },
    {
     "name": "stdout",
     "output_type": "stream",
     "text": [
      "✅ Saved: C:\\Users\\alsaf\\Downloads\\Capstone2\\EEG_Segments_Preprocessed\\aaaaahie_s030_t006.npy | Shape: (20, 921856)\n",
      "Sampling frequency of the instance is already 256.0, returning unmodified.\n"
     ]
    },
    {
     "name": "stderr",
     "output_type": "stream",
     "text": [
      "Processing EEG Files:  96%|█████████▌| 420/438 [05:40<00:37,  2.09s/it]"
     ]
    },
    {
     "name": "stdout",
     "output_type": "stream",
     "text": [
      "✅ Saved: C:\\Users\\alsaf\\Downloads\\Capstone2\\EEG_Segments_Preprocessed\\aaaaahie_s030_t007.npy | Shape: (20, 921856)\n",
      "Sampling frequency of the instance is already 256.0, returning unmodified.\n"
     ]
    },
    {
     "name": "stderr",
     "output_type": "stream",
     "text": [
      "Processing EEG Files:  96%|█████████▌| 421/438 [05:41<00:29,  1.72s/it]"
     ]
    },
    {
     "name": "stdout",
     "output_type": "stream",
     "text": [
      "✅ Saved: C:\\Users\\alsaf\\Downloads\\Capstone2\\EEG_Segments_Preprocessed\\aaaaahie_s030_t008.npy | Shape: (20, 602624)\n",
      "Sampling frequency of the instance is already 256.0, returning unmodified.\n"
     ]
    },
    {
     "name": "stderr",
     "output_type": "stream",
     "text": [
      "Processing EEG Files:  96%|█████████▋| 422/438 [05:42<00:26,  1.64s/it]"
     ]
    },
    {
     "name": "stdout",
     "output_type": "stream",
     "text": [
      "✅ Saved: C:\\Users\\alsaf\\Downloads\\Capstone2\\EEG_Segments_Preprocessed\\aaaaahie_s031_t000.npy | Shape: (20, 921600)\n",
      "Sampling frequency of the instance is already 256.0, returning unmodified.\n"
     ]
    },
    {
     "name": "stderr",
     "output_type": "stream",
     "text": [
      "Processing EEG Files:  97%|█████████▋| 423/438 [05:44<00:23,  1.59s/it]"
     ]
    },
    {
     "name": "stdout",
     "output_type": "stream",
     "text": [
      "✅ Saved: C:\\Users\\alsaf\\Downloads\\Capstone2\\EEG_Segments_Preprocessed\\aaaaahie_s031_t001.npy | Shape: (20, 921856)\n",
      "Sampling frequency of the instance is already 256.0, returning unmodified.\n"
     ]
    },
    {
     "name": "stderr",
     "output_type": "stream",
     "text": [
      "Processing EEG Files:  97%|█████████▋| 424/438 [05:45<00:21,  1.55s/it]"
     ]
    },
    {
     "name": "stdout",
     "output_type": "stream",
     "text": [
      "✅ Saved: C:\\Users\\alsaf\\Downloads\\Capstone2\\EEG_Segments_Preprocessed\\aaaaahie_s031_t002.npy | Shape: (20, 921856)\n",
      "Sampling frequency of the instance is already 256.0, returning unmodified.\n"
     ]
    },
    {
     "name": "stderr",
     "output_type": "stream",
     "text": [
      "Processing EEG Files:  97%|█████████▋| 425/438 [05:48<00:26,  2.01s/it]"
     ]
    },
    {
     "name": "stdout",
     "output_type": "stream",
     "text": [
      "✅ Saved: C:\\Users\\alsaf\\Downloads\\Capstone2\\EEG_Segments_Preprocessed\\aaaaahie_s031_t003.npy | Shape: (20, 921856)\n",
      "Sampling frequency of the instance is already 256.0, returning unmodified.\n"
     ]
    },
    {
     "name": "stderr",
     "output_type": "stream",
     "text": [
      "Processing EEG Files:  97%|█████████▋| 426/438 [05:51<00:26,  2.17s/it]"
     ]
    },
    {
     "name": "stdout",
     "output_type": "stream",
     "text": [
      "✅ Saved: C:\\Users\\alsaf\\Downloads\\Capstone2\\EEG_Segments_Preprocessed\\aaaaahie_s031_t004.npy | Shape: (20, 921856)\n",
      "Sampling frequency of the instance is already 256.0, returning unmodified.\n"
     ]
    },
    {
     "name": "stderr",
     "output_type": "stream",
     "text": [
      "Processing EEG Files:  97%|█████████▋| 427/438 [05:54<00:25,  2.29s/it]"
     ]
    },
    {
     "name": "stdout",
     "output_type": "stream",
     "text": [
      "✅ Saved: C:\\Users\\alsaf\\Downloads\\Capstone2\\EEG_Segments_Preprocessed\\aaaaahie_s031_t005.npy | Shape: (20, 921856)\n",
      "Sampling frequency of the instance is already 256.0, returning unmodified.\n"
     ]
    },
    {
     "name": "stderr",
     "output_type": "stream",
     "text": [
      "Processing EEG Files:  98%|█████████▊| 428/438 [05:55<00:19,  1.95s/it]"
     ]
    },
    {
     "name": "stdout",
     "output_type": "stream",
     "text": [
      "✅ Saved: C:\\Users\\alsaf\\Downloads\\Capstone2\\EEG_Segments_Preprocessed\\aaaaahie_s031_t006.npy | Shape: (20, 921856)\n",
      "Sampling frequency of the instance is already 256.0, returning unmodified.\n"
     ]
    },
    {
     "name": "stderr",
     "output_type": "stream",
     "text": [
      "Processing EEG Files:  98%|█████████▊| 429/438 [05:56<00:15,  1.72s/it]"
     ]
    },
    {
     "name": "stdout",
     "output_type": "stream",
     "text": [
      "✅ Saved: C:\\Users\\alsaf\\Downloads\\Capstone2\\EEG_Segments_Preprocessed\\aaaaahie_s031_t007.npy | Shape: (20, 921856)\n",
      "Sampling frequency of the instance is already 256.0, returning unmodified.\n"
     ]
    },
    {
     "name": "stderr",
     "output_type": "stream",
     "text": [
      "Processing EEG Files:  98%|█████████▊| 430/438 [05:57<00:12,  1.55s/it]"
     ]
    },
    {
     "name": "stdout",
     "output_type": "stream",
     "text": [
      "✅ Saved: C:\\Users\\alsaf\\Downloads\\Capstone2\\EEG_Segments_Preprocessed\\aaaaahie_s031_t008.npy | Shape: (20, 921856)\n",
      "Sampling frequency of the instance is already 256.0, returning unmodified.\n"
     ]
    },
    {
     "name": "stderr",
     "output_type": "stream",
     "text": [
      "Processing EEG Files:  98%|█████████▊| 431/438 [05:58<00:09,  1.43s/it]"
     ]
    },
    {
     "name": "stdout",
     "output_type": "stream",
     "text": [
      "✅ Saved: C:\\Users\\alsaf\\Downloads\\Capstone2\\EEG_Segments_Preprocessed\\aaaaahie_s031_t009.npy | Shape: (20, 921856)\n",
      "Sampling frequency of the instance is already 256.0, returning unmodified.\n"
     ]
    },
    {
     "name": "stderr",
     "output_type": "stream",
     "text": [
      "Processing EEG Files:  99%|█████████▊| 432/438 [05:59<00:08,  1.35s/it]"
     ]
    },
    {
     "name": "stdout",
     "output_type": "stream",
     "text": [
      "✅ Saved: C:\\Users\\alsaf\\Downloads\\Capstone2\\EEG_Segments_Preprocessed\\aaaaahie_s031_t010.npy | Shape: (20, 921856)\n",
      "Sampling frequency of the instance is already 256.0, returning unmodified.\n"
     ]
    },
    {
     "name": "stderr",
     "output_type": "stream",
     "text": [
      "Processing EEG Files:  99%|█████████▉| 433/438 [06:01<00:06,  1.30s/it]"
     ]
    },
    {
     "name": "stdout",
     "output_type": "stream",
     "text": [
      "✅ Saved: C:\\Users\\alsaf\\Downloads\\Capstone2\\EEG_Segments_Preprocessed\\aaaaahie_s031_t011.npy | Shape: (20, 921856)\n",
      "Sampling frequency of the instance is already 256.0, returning unmodified.\n"
     ]
    },
    {
     "name": "stderr",
     "output_type": "stream",
     "text": [
      "Processing EEG Files:  99%|█████████▉| 434/438 [06:02<00:05,  1.26s/it]"
     ]
    },
    {
     "name": "stdout",
     "output_type": "stream",
     "text": [
      "✅ Saved: C:\\Users\\alsaf\\Downloads\\Capstone2\\EEG_Segments_Preprocessed\\aaaaahie_s031_t012.npy | Shape: (20, 921856)\n",
      "Sampling frequency of the instance is already 256.0, returning unmodified.\n"
     ]
    },
    {
     "name": "stderr",
     "output_type": "stream",
     "text": [
      "Processing EEG Files:  99%|█████████▉| 435/438 [06:03<00:03,  1.32s/it]"
     ]
    },
    {
     "name": "stdout",
     "output_type": "stream",
     "text": [
      "✅ Saved: C:\\Users\\alsaf\\Downloads\\Capstone2\\EEG_Segments_Preprocessed\\aaaaahie_s031_t013.npy | Shape: (20, 921856)\n",
      "Sampling frequency of the instance is already 256.0, returning unmodified.\n"
     ]
    },
    {
     "name": "stderr",
     "output_type": "stream",
     "text": [
      "Processing EEG Files: 100%|█████████▉| 436/438 [06:06<00:03,  1.62s/it]"
     ]
    },
    {
     "name": "stdout",
     "output_type": "stream",
     "text": [
      "✅ Saved: C:\\Users\\alsaf\\Downloads\\Capstone2\\EEG_Segments_Preprocessed\\aaaaahie_s031_t014.npy | Shape: (20, 921856)\n",
      "Sampling frequency of the instance is already 256.0, returning unmodified.\n"
     ]
    },
    {
     "name": "stderr",
     "output_type": "stream",
     "text": [
      "Processing EEG Files: 100%|█████████▉| 437/438 [06:08<00:01,  1.90s/it]"
     ]
    },
    {
     "name": "stdout",
     "output_type": "stream",
     "text": [
      "✅ Saved: C:\\Users\\alsaf\\Downloads\\Capstone2\\EEG_Segments_Preprocessed\\aaaaahie_s031_t015.npy | Shape: (20, 921856)\n",
      "Sampling frequency of the instance is already 256.0, returning unmodified.\n"
     ]
    },
    {
     "name": "stderr",
     "output_type": "stream",
     "text": [
      "Processing EEG Files: 100%|██████████| 438/438 [06:11<00:00,  1.18it/s]"
     ]
    },
    {
     "name": "stdout",
     "output_type": "stream",
     "text": [
      "✅ Saved: C:\\Users\\alsaf\\Downloads\\Capstone2\\EEG_Segments_Preprocessed\\aaaaahie_s031_t016.npy | Shape: (20, 921856)\n",
      "\n",
      "✅ All EEG files have been processed & saved!\n"
     ]
    },
    {
     "name": "stderr",
     "output_type": "stream",
     "text": [
      "\n"
     ]
    }
   ],
   "source": [
    "import os\n",
    "import numpy as np\n",
    "import mne\n",
    "import scipy.signal as signal\n",
    "from tqdm import tqdm\n",
    "\n",
    "# ✅ Paths\n",
    "edf_dir = r\"C:\\Users\\alsaf\\Downloads\\Capstone2\\data\\data\\v2.0.3\\edf\\dev\"  # Raw EEG files (includes subfolders)\n",
    "output_dir = r\"C:\\Users\\alsaf\\Downloads\\Capstone2\\EEG_Segments_Preprocessed\"  # Processed files\n",
    "os.makedirs(output_dir, exist_ok=True)\n",
    "\n",
    "# ✅ Filtering settings\n",
    "lowcut = 0.5  # Lower cutoff for bandpass filter\n",
    "highcut = 70  # Upper cutoff for bandpass filter\n",
    "fs = 256  # EEG Sampling rate (Adjust if different)\n",
    "notch_freq = 50  # Powerline noise frequency\n",
    "order = 4  # Filter order\n",
    "min_channels = 16  # Minimum channels required (Update as needed)\n",
    "\n",
    "# ✅ Bandpass filter function\n",
    "def bandpass_filter(data, lowcut, highcut, fs, order=4):\n",
    "    nyquist = 0.5 * fs\n",
    "    low = lowcut / nyquist\n",
    "    high = highcut / nyquist\n",
    "    b, a = signal.butter(order, [low, high], btype='band')\n",
    "    return signal.filtfilt(b, a, data, axis=1)\n",
    "\n",
    "# ✅ Notch filter function (Removes 50Hz noise)\n",
    "def notch_filter(data, notch_freq, fs):\n",
    "    Q = 30.0\n",
    "    b, a = signal.iirnotch(notch_freq / (fs / 2), Q)\n",
    "    return signal.filtfilt(b, a, data, axis=1)\n",
    "\n",
    "# ✅ Z-score normalization\n",
    "def normalize(data):\n",
    "    mean = np.mean(data, axis=1, keepdims=True)\n",
    "    std = np.std(data, axis=1, keepdims=True)\n",
    "    return (data - mean) / (std + 1e-8)  # Avoid division by zero\n",
    "\n",
    "# ✅ Scan all `.edf` files from subdirectories\n",
    "edf_files = []\n",
    "for root, _, files in os.walk(edf_dir):  # Recursively search for `.edf`\n",
    "    for file in files:\n",
    "        if file.endswith('.edf'):\n",
    "            edf_files.append(os.path.join(root, file))\n",
    "\n",
    "print(f\"✅ Found {len(edf_files)} EDF files for processing...\\n\")\n",
    "\n",
    "# ✅ Process each `.edf` file\n",
    "for edf_path in tqdm(edf_files, desc=\"Processing EEG Files\"):\n",
    "    try:\n",
    "        # Load EEG data\n",
    "        raw = mne.io.read_raw_edf(edf_path, preload=True, verbose=False)\n",
    "        raw.resample(fs)  # Resample to standard sampling rate\n",
    "        data = raw.get_data()  # Shape: (n_channels, n_samples)\n",
    "\n",
    "        # ✅ Ensure minimum required channels\n",
    "        if data.shape[0] < min_channels:\n",
    "            print(f\"⚠️ Skipping {edf_path} (Only {data.shape[0]} channels found)\")\n",
    "            continue\n",
    "\n",
    "        # Apply filters\n",
    "        data = bandpass_filter(data, lowcut, highcut, fs, order)\n",
    "        data = notch_filter(data, notch_freq, fs)\n",
    "\n",
    "        # Normalize\n",
    "        data = normalize(data)\n",
    "\n",
    "        # Save as `.npy` (use filename only, not full path)\n",
    "        output_filename = os.path.basename(edf_path).replace(\".edf\", \".npy\")\n",
    "        output_path = os.path.join(output_dir, output_filename)\n",
    "        np.save(output_path, data)\n",
    "\n",
    "        print(f\"✅ Saved: {output_path} | Shape: {data.shape}\")\n",
    "\n",
    "    except Exception as e:\n",
    "        print(f\"❌ Error processing {edf_path}: {e}\")\n",
    "\n",
    "print(\"\\n✅ All EEG files have been processed & saved!\")\n"
   ]
  },
  {
   "cell_type": "code",
   "execution_count": 13,
   "metadata": {},
   "outputs": [
    {
     "name": "stdout",
     "output_type": "stream",
     "text": [
      "✅ Sample EEG Shape: (33, 448000)\n",
      "✅ Mean: -0.0000, Std Dev: 0.9994\n"
     ]
    }
   ],
   "source": [
    "import numpy as np\n",
    "import os\n",
    "\n",
    "output_dir = r\"C:\\Users\\alsaf\\Downloads\\Capstone2\\EEG_Segments_Preprocessed\"\n",
    "\n",
    "# ✅ Load and check a sample\n",
    "sample_file = os.listdir(output_dir)[0]  # Pick first file\n",
    "sample_data = np.load(os.path.join(output_dir, sample_file))\n",
    "\n",
    "print(f\"✅ Sample EEG Shape: {sample_data.shape}\")  # Should be (n_channels, n_samples)\n",
    "print(f\"✅ Mean: {np.mean(sample_data):.4f}, Std Dev: {np.std(sample_data):.4f}\")  # Should be ~0 (normalized)\n"
   ]
  },
  {
   "cell_type": "markdown",
   "metadata": {},
   "source": [
    "TS -TCC"
   ]
  },
  {
   "cell_type": "code",
   "execution_count": 14,
   "metadata": {},
   "outputs": [
    {
     "name": "stdout",
     "output_type": "stream",
     "text": [
      "Requirement already satisfied: torch in c:\\users\\alsaf\\appdata\\local\\programs\\python\\python311\\lib\\site-packages (2.5.1+cu121)\n",
      "Requirement already satisfied: torchvision in c:\\users\\alsaf\\appdata\\local\\programs\\python\\python311\\lib\\site-packages (0.20.1+cu121)\n",
      "Requirement already satisfied: torchaudio in c:\\users\\alsaf\\appdata\\local\\programs\\python\\python311\\lib\\site-packages (2.5.1+cu121)\n",
      "Requirement already satisfied: numpy in c:\\users\\alsaf\\appdata\\local\\programs\\python\\python311\\lib\\site-packages (1.25.2)\n",
      "Requirement already satisfied: filelock in c:\\users\\alsaf\\appdata\\local\\programs\\python\\python311\\lib\\site-packages (from torch) (3.12.4)\n",
      "Requirement already satisfied: typing-extensions>=4.8.0 in c:\\users\\alsaf\\appdata\\local\\programs\\python\\python311\\lib\\site-packages (from torch) (4.12.2)\n",
      "Requirement already satisfied: networkx in c:\\users\\alsaf\\appdata\\local\\programs\\python\\python311\\lib\\site-packages (from torch) (3.0)\n",
      "Requirement already satisfied: jinja2 in c:\\users\\alsaf\\appdata\\local\\programs\\python\\python311\\lib\\site-packages (from torch) (3.1.2)\n",
      "Requirement already satisfied: fsspec in c:\\users\\alsaf\\appdata\\local\\programs\\python\\python311\\lib\\site-packages (from torch) (2023.10.0)\n",
      "Requirement already satisfied: sympy==1.13.1 in c:\\users\\alsaf\\appdata\\local\\programs\\python\\python311\\lib\\site-packages (from torch) (1.13.1)\n",
      "Requirement already satisfied: mpmath<1.4,>=1.1.0 in c:\\users\\alsaf\\appdata\\local\\programs\\python\\python311\\lib\\site-packages (from sympy==1.13.1->torch) (1.3.0)\n",
      "Requirement already satisfied: pillow!=8.3.*,>=5.3.0 in c:\\users\\alsaf\\appdata\\local\\programs\\python\\python311\\lib\\site-packages (from torchvision) (9.4.0)\n",
      "Requirement already satisfied: MarkupSafe>=2.0 in c:\\users\\alsaf\\appdata\\local\\programs\\python\\python311\\lib\\site-packages (from jinja2->torch) (2.1.1)\n",
      "Note: you may need to restart the kernel to use updated packages.\n"
     ]
    },
    {
     "name": "stderr",
     "output_type": "stream",
     "text": [
      "WARNING: Ignoring invalid distribution ~ip (c:\\Users\\alsaf\\AppData\\Local\\Programs\\Python\\Python311\\Lib\\site-packages)\n",
      "WARNING: Ignoring invalid distribution ~ip (c:\\Users\\alsaf\\AppData\\Local\\Programs\\Python\\Python311\\Lib\\site-packages)\n",
      "WARNING: Ignoring invalid distribution ~ip (c:\\Users\\alsaf\\AppData\\Local\\Programs\\Python\\Python311\\Lib\\site-packages)\n",
      "\n",
      "[notice] A new release of pip is available: 24.2 -> 25.0.1\n",
      "[notice] To update, run: python.exe -m pip install --upgrade pip\n"
     ]
    }
   ],
   "source": [
    "pip install torch torchvision torchaudio numpy\n"
   ]
  },
  {
   "cell_type": "code",
   "execution_count": 15,
   "metadata": {},
   "outputs": [
    {
     "name": "stdout",
     "output_type": "stream",
     "text": [
      "✅ Loaded 438 EEG segments for TS-TCC training.\n"
     ]
    }
   ],
   "source": [
    "import os\n",
    "import numpy as np\n",
    "import torch\n",
    "from torch.utils.data import Dataset, DataLoader\n",
    "\n",
    "# ✅ Paths\n",
    "npy_dir = r\"C:\\Users\\alsaf\\Downloads\\Capstone2\\EEG_Segments_Preprocessed\"\n",
    "\n",
    "# ✅ Augmentation Function: Adds noise + randomly crops EEG signals\n",
    "def augment_eeg(eeg_data, crop_size=10000, noise_level=0.05):\n",
    "    \"\"\"Apply random cropping & noise addition to EEG data.\"\"\"\n",
    "    total_samples = eeg_data.shape[1]\n",
    "\n",
    "    # ✅ Random Crop\n",
    "    start_idx = np.random.randint(0, total_samples - crop_size)\n",
    "    eeg_cropped = eeg_data[:, start_idx:start_idx + crop_size]\n",
    "\n",
    "    # ✅ Add Gaussian Noise\n",
    "    noise = noise_level * np.random.randn(*eeg_cropped.shape)\n",
    "    eeg_noisy = eeg_cropped + noise\n",
    "\n",
    "    return eeg_noisy\n",
    "\n",
    "# ✅ Define Custom EEG Dataset\n",
    "class EEGDataset(Dataset):\n",
    "    def __init__(self, npy_dir, crop_size=10000):\n",
    "        self.npy_files = [os.path.join(npy_dir, f) for f in os.listdir(npy_dir) if f.endswith('.npy')]\n",
    "        self.crop_size = crop_size\n",
    "\n",
    "    def __len__(self):\n",
    "        return len(self.npy_files)\n",
    "\n",
    "    def __getitem__(self, idx):\n",
    "        # ✅ Load EEG segment\n",
    "        eeg_data = np.load(self.npy_files[idx])  # Shape: (n_channels, n_samples)\n",
    "        eeg_data = torch.tensor(eeg_data, dtype=torch.float32)\n",
    "\n",
    "        # ✅ Generate two different augmentations of the same EEG signal\n",
    "        eeg_1 = augment_eeg(eeg_data.numpy(), crop_size=self.crop_size)\n",
    "        eeg_2 = augment_eeg(eeg_data.numpy(), crop_size=self.crop_size)\n",
    "\n",
    "        return torch.tensor(eeg_1, dtype=torch.float32), torch.tensor(eeg_2, dtype=torch.float32)\n",
    "\n",
    "# ✅ Create DataLoader\n",
    "batch_size = 32\n",
    "train_dataset = EEGDataset(npy_dir, crop_size=10000)\n",
    "train_loader = DataLoader(train_dataset, batch_size=batch_size, shuffle=True, num_workers=4)\n",
    "\n",
    "print(f\"✅ Loaded {len(train_dataset)} EEG segments for TS-TCC training.\")\n"
   ]
  },
  {
   "cell_type": "code",
   "execution_count": 16,
   "metadata": {},
   "outputs": [
    {
     "name": "stdout",
     "output_type": "stream",
     "text": [
      "✅ Found 438 .npy files\n",
      "✅ Sample File: C:\\Users\\alsaf\\Downloads\\Capstone2\\EEG_Segments_Preprocessed\\aaaaaajy_s001_t000.npy, Shape: (33, 448000)\n"
     ]
    }
   ],
   "source": [
    "import os\n",
    "import numpy as np\n",
    "\n",
    "npy_dir = r\"C:\\Users\\alsaf\\Downloads\\Capstone2\\EEG_Segments_Preprocessed\"\n",
    "\n",
    "# ✅ List all `.npy` files\n",
    "npy_files = [f for f in os.listdir(npy_dir) if f.endswith('.npy')]\n",
    "\n",
    "if npy_files:\n",
    "    print(f\"✅ Found {len(npy_files)} .npy files\")\n",
    "    sample_file = os.path.join(npy_dir, npy_files[0])\n",
    "    sample_data = np.load(sample_file)\n",
    "    print(f\"✅ Sample File: {sample_file}, Shape: {sample_data.shape}\")\n",
    "else:\n",
    "    print(\"❌ No .npy files found! Check preprocessing step.\")\n"
   ]
  },
  {
   "cell_type": "code",
   "execution_count": 17,
   "metadata": {},
   "outputs": [],
   "source": [
    "train_loader = DataLoader(train_dataset, batch_size=8, shuffle=True, num_workers=0)\n"
   ]
  },
  {
   "cell_type": "code",
   "execution_count": 18,
   "metadata": {},
   "outputs": [
    {
     "name": "stdout",
     "output_type": "stream",
     "text": [
      "✅ Smallest EEG segment length: 256\n"
     ]
    }
   ],
   "source": [
    "import numpy as np\n",
    "import os\n",
    "\n",
    "npy_dir = r\"C:\\Users\\alsaf\\Downloads\\Capstone2\\EEG_Segments_Preprocessed\"\n",
    "\n",
    "# ✅ Check smallest EEG segment\n",
    "min_length = float(\"inf\")\n",
    "\n",
    "for file in os.listdir(npy_dir):\n",
    "    if file.endswith(\".npy\"):\n",
    "        eeg_data = np.load(os.path.join(npy_dir, file))\n",
    "        min_length = min(min_length, eeg_data.shape[1])\n",
    "\n",
    "print(f\"✅ Smallest EEG segment length: {min_length}\")\n"
   ]
  },
  {
   "cell_type": "code",
   "execution_count": 19,
   "metadata": {},
   "outputs": [],
   "source": [
    "import numpy as np\n",
    "\n",
    "def augment_eeg(eeg_data, crop_size=10000, noise_level=0.05):\n",
    "    \"\"\"Apply random cropping & noise addition to EEG data.\"\"\"\n",
    "    total_samples = eeg_data.shape[1]\n",
    "\n",
    "    # ✅ If EEG is shorter than crop size, use full length\n",
    "    if total_samples < crop_size:\n",
    "        print(f\"⚠️ Warning: EEG sample is too short ({total_samples} samples). Using full length.\")\n",
    "        crop_size = total_samples  # Adjust crop size\n",
    "\n",
    "    # ✅ Random Crop\n",
    "    start_idx = np.random.randint(0, total_samples - crop_size + 1)\n",
    "    eeg_cropped = eeg_data[:, start_idx:start_idx + crop_size]\n",
    "\n",
    "    # ✅ Add Gaussian Noise\n",
    "    noise = noise_level * np.random.randn(*eeg_cropped.shape)\n",
    "    eeg_noisy = eeg_cropped + noise\n",
    "\n",
    "    return eeg_noisy\n"
   ]
  },
  {
   "cell_type": "code",
   "execution_count": 20,
   "metadata": {},
   "outputs": [],
   "source": [
    "train_dataset = EEGDataset(npy_dir, crop_size=256)\n",
    "train_loader = DataLoader(train_dataset, batch_size=8, shuffle=True, num_workers=0)\n"
   ]
  },
  {
   "cell_type": "code",
   "execution_count": 21,
   "metadata": {},
   "outputs": [
    {
     "name": "stdout",
     "output_type": "stream",
     "text": [
      "✅ Unique channel counts in dataset: {32, 33, 34, 36, 41, 18, 20, 21, 30, 31}\n"
     ]
    }
   ],
   "source": [
    "import os\n",
    "import numpy as np\n",
    "\n",
    "npy_dir = r\"C:\\Users\\alsaf\\Downloads\\Capstone2\\EEG_Segments_Preprocessed\"\n",
    "\n",
    "# ✅ Track unique channel counts\n",
    "channel_counts = set()\n",
    "\n",
    "for file in os.listdir(npy_dir):\n",
    "    if file.endswith(\".npy\"):\n",
    "        eeg_data = np.load(os.path.join(npy_dir, file))\n",
    "        channel_counts.add(eeg_data.shape[0])  # Get number of channels\n",
    "\n",
    "print(f\"✅ Unique channel counts in dataset: {channel_counts}\")\n"
   ]
  },
  {
   "cell_type": "code",
   "execution_count": 22,
   "metadata": {},
   "outputs": [
    {
     "name": "stdout",
     "output_type": "stream",
     "text": [
      "✅ Dataset Loaded: 438 samples\n"
     ]
    }
   ],
   "source": [
    "import os\n",
    "import numpy as np\n",
    "import torch\n",
    "from torch.utils.data import Dataset, DataLoader\n",
    "\n",
    "# ✅ Fixed number of channels for standardization\n",
    "fixed_channels = 33  \n",
    "crop_size = 256  \n",
    "\n",
    "# ✅ Custom Dataset with Channel Standardization\n",
    "class EEGDataset(Dataset):\n",
    "    def __init__(self, npy_dir, crop_size=256, fixed_channels=33):\n",
    "        self.npy_files = [os.path.join(npy_dir, f) for f in os.listdir(npy_dir) if f.endswith('.npy')]\n",
    "        self.crop_size = crop_size\n",
    "        self.fixed_channels = fixed_channels\n",
    "\n",
    "    def __len__(self):\n",
    "        return len(self.npy_files)\n",
    "\n",
    "    def __getitem__(self, idx):\n",
    "        # ✅ Load EEG segment\n",
    "        eeg_data = np.load(self.npy_files[idx])\n",
    "        num_channels, total_samples = eeg_data.shape\n",
    "\n",
    "        # ✅ Standardize Channels (Zero-pad or Trim)\n",
    "        if num_channels < self.fixed_channels:\n",
    "            pad = np.zeros((self.fixed_channels - num_channels, total_samples))\n",
    "            eeg_data = np.vstack((eeg_data, pad))  # Zero-pad missing channels\n",
    "        elif num_channels > self.fixed_channels:\n",
    "            eeg_data = eeg_data[:self.fixed_channels, :]  # Trim extra channels\n",
    "\n",
    "        # ✅ Random Crop\n",
    "        start_idx = np.random.randint(0, max(1, total_samples - self.crop_size + 1))\n",
    "        eeg_cropped = eeg_data[:, start_idx:start_idx + self.crop_size]\n",
    "\n",
    "        return torch.tensor(eeg_cropped, dtype=torch.float32)\n",
    "\n",
    "# ✅ Create DataLoader\n",
    "npy_dir = r\"C:\\Users\\alsaf\\Downloads\\Capstone2\\EEG_Segments_Preprocessed\"\n",
    "train_dataset = EEGDataset(npy_dir, crop_size=256, fixed_channels=33)\n",
    "train_loader = DataLoader(train_dataset, batch_size=8, shuffle=True, num_workers=0)\n",
    "\n",
    "print(f\"✅ Dataset Loaded: {len(train_dataset)} samples\")\n"
   ]
  },
  {
   "cell_type": "code",
   "execution_count": 23,
   "metadata": {},
   "outputs": [
    {
     "name": "stdout",
     "output_type": "stream",
     "text": [
      "✅ EEG Batch Shape: torch.Size([8, 33, 256])\n"
     ]
    }
   ],
   "source": [
    "eeg_1 = next(iter(train_loader))\n",
    "print(f\"✅ EEG Batch Shape: {eeg_1.shape}\")  # Expected: (batch_size, 33, 256)\n"
   ]
  },
  {
   "cell_type": "code",
   "execution_count": 24,
   "metadata": {},
   "outputs": [
    {
     "name": "stdout",
     "output_type": "stream",
     "text": [
      "Requirement already satisfied: torch in c:\\users\\alsaf\\appdata\\local\\programs\\python\\python311\\lib\\site-packages (2.5.1+cu121)\n",
      "Requirement already satisfied: torchvision in c:\\users\\alsaf\\appdata\\local\\programs\\python\\python311\\lib\\site-packages (0.20.1+cu121)\n",
      "Requirement already satisfied: torchaudio in c:\\users\\alsaf\\appdata\\local\\programs\\python\\python311\\lib\\site-packages (2.5.1+cu121)\n",
      "Requirement already satisfied: filelock in c:\\users\\alsaf\\appdata\\local\\programs\\python\\python311\\lib\\site-packages (from torch) (3.12.4)\n",
      "Requirement already satisfied: typing-extensions>=4.8.0 in c:\\users\\alsaf\\appdata\\local\\programs\\python\\python311\\lib\\site-packages (from torch) (4.12.2)\n",
      "Requirement already satisfied: networkx in c:\\users\\alsaf\\appdata\\local\\programs\\python\\python311\\lib\\site-packages (from torch) (3.0)\n",
      "Requirement already satisfied: jinja2 in c:\\users\\alsaf\\appdata\\local\\programs\\python\\python311\\lib\\site-packages (from torch) (3.1.2)\n",
      "Requirement already satisfied: fsspec in c:\\users\\alsaf\\appdata\\local\\programs\\python\\python311\\lib\\site-packages (from torch) (2023.10.0)\n",
      "Requirement already satisfied: sympy==1.13.1 in c:\\users\\alsaf\\appdata\\local\\programs\\python\\python311\\lib\\site-packages (from torch) (1.13.1)\n",
      "Requirement already satisfied: mpmath<1.4,>=1.1.0 in c:\\users\\alsaf\\appdata\\local\\programs\\python\\python311\\lib\\site-packages (from sympy==1.13.1->torch) (1.3.0)\n",
      "Requirement already satisfied: numpy in c:\\users\\alsaf\\appdata\\local\\programs\\python\\python311\\lib\\site-packages (from torchvision) (1.25.2)\n",
      "Requirement already satisfied: pillow!=8.3.*,>=5.3.0 in c:\\users\\alsaf\\appdata\\local\\programs\\python\\python311\\lib\\site-packages (from torchvision) (9.4.0)\n",
      "Requirement already satisfied: MarkupSafe>=2.0 in c:\\users\\alsaf\\appdata\\local\\programs\\python\\python311\\lib\\site-packages (from jinja2->torch) (2.1.1)\n",
      "Note: you may need to restart the kernel to use updated packages.\n"
     ]
    },
    {
     "name": "stderr",
     "output_type": "stream",
     "text": [
      "WARNING: Ignoring invalid distribution ~ip (c:\\Users\\alsaf\\AppData\\Local\\Programs\\Python\\Python311\\Lib\\site-packages)\n",
      "WARNING: Ignoring invalid distribution ~ip (c:\\Users\\alsaf\\AppData\\Local\\Programs\\Python\\Python311\\Lib\\site-packages)\n",
      "WARNING: Ignoring invalid distribution ~ip (c:\\Users\\alsaf\\AppData\\Local\\Programs\\Python\\Python311\\Lib\\site-packages)\n",
      "\n",
      "[notice] A new release of pip is available: 24.2 -> 25.0.1\n",
      "[notice] To update, run: python.exe -m pip install --upgrade pip\n"
     ]
    }
   ],
   "source": [
    "pip install torch torchvision torchaudio\n"
   ]
  },
  {
   "cell_type": "code",
   "execution_count": 25,
   "metadata": {},
   "outputs": [
    {
     "name": "stdout",
     "output_type": "stream",
     "text": [
      "✅ Model initialized on cuda\n"
     ]
    },
    {
     "name": "stderr",
     "output_type": "stream",
     "text": [
      "c:\\Users\\alsaf\\AppData\\Local\\Programs\\Python\\Python311\\Lib\\site-packages\\torch\\nn\\modules\\transformer.py:379: UserWarning: enable_nested_tensor is True, but self.use_nested_tensor is False because encoder_layer.self_attn.batch_first was not True(use batch_first for better inference performance)\n",
      "  warnings.warn(\n"
     ]
    }
   ],
   "source": [
    "import torch\n",
    "import torch.nn as nn\n",
    "\n",
    "class TSTCC(nn.Module):\n",
    "    def __init__(self, input_channels=33, seq_len=256, feature_dim=128):\n",
    "        super(TSTCC, self).__init__()\n",
    "\n",
    "        # ✅ CNN Encoder (Spatial Feature Extraction)\n",
    "        self.conv1 = nn.Conv1d(input_channels, 64, kernel_size=7, stride=2, padding=3)\n",
    "        self.conv2 = nn.Conv1d(64, 128, kernel_size=5, stride=2, padding=2)\n",
    "        self.conv3 = nn.Conv1d(128, 256, kernel_size=3, stride=2, padding=1)\n",
    "        self.conv4 = nn.Conv1d(256, feature_dim, kernel_size=3, stride=2, padding=1)\n",
    "\n",
    "        # ✅ Transformer Encoder (Temporal Features)\n",
    "        encoder_layer = nn.TransformerEncoderLayer(d_model=feature_dim, nhead=4)\n",
    "        self.transformer = nn.TransformerEncoder(encoder_layer, num_layers=2)\n",
    "\n",
    "        # ✅ Projection Head for Contrastive Learning\n",
    "        self.projection_head = nn.Sequential(\n",
    "            nn.Linear(feature_dim, feature_dim),\n",
    "            nn.ReLU(),\n",
    "            nn.Linear(feature_dim, feature_dim)\n",
    "        )\n",
    "\n",
    "    def forward(self, x):\n",
    "        x = self.conv1(x)\n",
    "        x = self.conv2(x)\n",
    "        x = self.conv3(x)\n",
    "        x = self.conv4(x)  # Output: (batch, feature_dim, time)\n",
    "\n",
    "        x = x.permute(2, 0, 1)  # Convert to (time, batch, features) for Transformer\n",
    "        x = self.transformer(x)  # Temporal encoding\n",
    "        x = x.mean(dim=0)  # Global pooling\n",
    "\n",
    "        z = self.projection_head(x)  # Project to contrastive space\n",
    "        return z\n",
    "\n",
    "# ✅ Initialize Model\n",
    "device = torch.device(\"cuda\" if torch.cuda.is_available() else \"cpu\")\n",
    "model = TSTCC().to(device)\n",
    "\n",
    "print(f\"✅ Model initialized on {device}\")\n"
   ]
  },
  {
   "cell_type": "code",
   "execution_count": 26,
   "metadata": {},
   "outputs": [],
   "source": [
    "import torch.nn.functional as F\n",
    "\n",
    "class NTXentLoss(nn.Module):\n",
    "    def __init__(self, temperature=0.5):\n",
    "        super(NTXentLoss, self).__init__()\n",
    "        self.temperature = temperature\n",
    "\n",
    "    def forward(self, z1, z2):\n",
    "        z1 = F.normalize(z1, dim=1)\n",
    "        z2 = F.normalize(z2, dim=1)\n",
    "\n",
    "        logits = torch.matmul(z1, z2.T) / self.temperature\n",
    "        labels = torch.arange(z1.shape[0]).to(z1.device)\n",
    "\n",
    "        loss = F.cross_entropy(logits, labels)\n",
    "        return loss\n"
   ]
  },
  {
   "cell_type": "code",
   "execution_count": 27,
   "metadata": {},
   "outputs": [
    {
     "name": "stdout",
     "output_type": "stream",
     "text": [
      "✅ Dataset Loaded: 438 samples\n"
     ]
    }
   ],
   "source": [
    "import os\n",
    "import numpy as np\n",
    "import torch\n",
    "from torch.utils.data import Dataset, DataLoader\n",
    "\n",
    "# ✅ Fixed number of channels\n",
    "fixed_channels = 33  \n",
    "crop_size = 256  \n",
    "\n",
    "# ✅ Augmentation Function\n",
    "def augment_eeg(eeg_data, crop_size=256, noise_level=0.05):\n",
    "    \"\"\"Apply random cropping & noise addition to EEG data.\"\"\"\n",
    "    total_samples = eeg_data.shape[1]\n",
    "\n",
    "    # ✅ If EEG is shorter than crop size, use full length\n",
    "    if total_samples < crop_size:\n",
    "        crop_size = total_samples  \n",
    "\n",
    "    # ✅ Random Crop\n",
    "    start_idx = np.random.randint(0, max(1, total_samples - crop_size + 1))\n",
    "    eeg_cropped = eeg_data[:, start_idx:start_idx + crop_size]\n",
    "\n",
    "    # ✅ Add Gaussian Noise\n",
    "    noise = noise_level * np.random.randn(*eeg_cropped.shape)\n",
    "    eeg_noisy = eeg_cropped + noise\n",
    "\n",
    "    return eeg_noisy\n",
    "\n",
    "# ✅ Custom Dataset with Two Augmentations for TS-TCC\n",
    "class EEGDataset(Dataset):\n",
    "    def __init__(self, npy_dir, crop_size=256, fixed_channels=33):\n",
    "        self.npy_files = [os.path.join(npy_dir, f) for f in os.listdir(npy_dir) if f.endswith('.npy')]\n",
    "        self.crop_size = crop_size\n",
    "        self.fixed_channels = fixed_channels\n",
    "\n",
    "    def __len__(self):\n",
    "        return len(self.npy_files)\n",
    "\n",
    "    def __getitem__(self, idx):\n",
    "        # ✅ Load EEG segment\n",
    "        eeg_data = np.load(self.npy_files[idx])\n",
    "        num_channels, total_samples = eeg_data.shape\n",
    "\n",
    "        # ✅ Standardize Channels (Zero-pad or Trim)\n",
    "        if num_channels < self.fixed_channels:\n",
    "            pad = np.zeros((self.fixed_channels - num_channels, total_samples))\n",
    "            eeg_data = np.vstack((eeg_data, pad))  \n",
    "        elif num_channels > self.fixed_channels:\n",
    "            eeg_data = eeg_data[:self.fixed_channels, :]  \n",
    "\n",
    "        # ✅ Generate Two Augmented Views\n",
    "        eeg_1 = augment_eeg(eeg_data, crop_size=self.crop_size)\n",
    "        eeg_2 = augment_eeg(eeg_data, crop_size=self.crop_size)\n",
    "\n",
    "        return torch.tensor(eeg_1, dtype=torch.float32), torch.tensor(eeg_2, dtype=torch.float32)\n",
    "\n",
    "# ✅ Create DataLoader\n",
    "npy_dir = r\"C:\\Users\\alsaf\\Downloads\\Capstone2\\EEG_Segments_Preprocessed\"\n",
    "train_dataset = EEGDataset(npy_dir, crop_size=256, fixed_channels=33)\n",
    "train_loader = DataLoader(train_dataset, batch_size=8, shuffle=True, num_workers=0)\n",
    "\n",
    "print(f\"✅ Dataset Loaded: {len(train_dataset)} samples\")\n"
   ]
  },
  {
   "cell_type": "code",
   "execution_count": 28,
   "metadata": {},
   "outputs": [
    {
     "name": "stdout",
     "output_type": "stream",
     "text": [
      "✅ EEG Batch 1 Shape: torch.Size([8, 33, 256])\n",
      "✅ EEG Batch 2 Shape: torch.Size([8, 33, 256])\n"
     ]
    }
   ],
   "source": [
    "eeg_1, eeg_2 = next(iter(train_loader))\n",
    "\n",
    "print(f\"✅ EEG Batch 1 Shape: {eeg_1.shape}\")  # Expected: (batch_size, 33, 256)\n",
    "print(f\"✅ EEG Batch 2 Shape: {eeg_2.shape}\")  # Expected: (batch_size, 33, 256)\n"
   ]
  },
  {
   "cell_type": "code",
   "execution_count": null,
   "metadata": {},
   "outputs": [
    {
     "name": "stdout",
     "output_type": "stream",
     "text": [
      "Epoch [1/100], Batch [5/55], Loss: 2.0794\n",
      "Epoch [1/100], Batch [10/55], Loss: 2.0794\n",
      "Epoch [1/100], Batch [15/55], Loss: 2.0789\n",
      "Epoch [1/100], Batch [20/55], Loss: 2.0795\n",
      "Epoch [1/100], Batch [25/55], Loss: 2.0793\n",
      "Epoch [1/100], Batch [30/55], Loss: 2.0805\n",
      "Epoch [1/100], Batch [35/55], Loss: 2.0787\n",
      "Epoch [1/100], Batch [40/55], Loss: 2.0759\n",
      "Epoch [1/100], Batch [45/55], Loss: 2.0617\n",
      "Epoch [1/100], Batch [50/55], Loss: 2.0599\n",
      "Epoch [1/100], Batch [55/55], Loss: 1.7836\n",
      "✅ Completed Epoch [1/100] | Avg Loss: 2.0730\n",
      "✅ Model Improved & Saved!\n",
      "Epoch [2/100], Batch [5/55], Loss: 2.0794\n",
      "Epoch [2/100], Batch [10/55], Loss: 2.0794\n",
      "Epoch [2/100], Batch [15/55], Loss: 2.0794\n",
      "Epoch [2/100], Batch [20/55], Loss: 2.0794\n",
      "Epoch [2/100], Batch [25/55], Loss: 2.0794\n",
      "Epoch [2/100], Batch [30/55], Loss: 2.0794\n",
      "Epoch [2/100], Batch [35/55], Loss: 2.0794\n",
      "Epoch [2/100], Batch [40/55], Loss: 2.0794\n",
      "Epoch [2/100], Batch [45/55], Loss: 2.0795\n",
      "Epoch [2/100], Batch [50/55], Loss: 2.0795\n",
      "Epoch [2/100], Batch [55/55], Loss: 1.7918\n",
      "✅ Completed Epoch [2/100] | Avg Loss: 2.0742\n",
      "⏳ No Improvement | Patience: 1/10\n",
      "Epoch [3/100], Batch [5/55], Loss: 2.0794\n",
      "Epoch [3/100], Batch [10/55], Loss: 2.0795\n",
      "Epoch [3/100], Batch [15/55], Loss: 2.0794\n",
      "Epoch [3/100], Batch [20/55], Loss: 2.0795\n",
      "Epoch [3/100], Batch [25/55], Loss: 2.0795\n",
      "Epoch [3/100], Batch [30/55], Loss: 2.0794\n",
      "Epoch [3/100], Batch [35/55], Loss: 2.0795\n",
      "Epoch [3/100], Batch [40/55], Loss: 2.0794\n",
      "Epoch [3/100], Batch [45/55], Loss: 2.0794\n",
      "Epoch [3/100], Batch [50/55], Loss: 2.0795\n",
      "Epoch [3/100], Batch [55/55], Loss: 1.7917\n",
      "✅ Completed Epoch [3/100] | Avg Loss: 2.0742\n",
      "⏳ No Improvement | Patience: 2/10\n",
      "Epoch [4/100], Batch [5/55], Loss: 2.0794\n",
      "Epoch [4/100], Batch [10/55], Loss: 2.0794\n",
      "Epoch [4/100], Batch [15/55], Loss: 2.0794\n",
      "Epoch [4/100], Batch [20/55], Loss: 2.0795\n",
      "Epoch [4/100], Batch [25/55], Loss: 2.0795\n",
      "Epoch [4/100], Batch [30/55], Loss: 2.0794\n",
      "Epoch [4/100], Batch [35/55], Loss: 2.0794\n",
      "Epoch [4/100], Batch [40/55], Loss: 2.0794\n",
      "Epoch [4/100], Batch [45/55], Loss: 2.0794\n",
      "Epoch [4/100], Batch [50/55], Loss: 2.0794\n",
      "Epoch [4/100], Batch [55/55], Loss: 1.7917\n",
      "✅ Completed Epoch [4/100] | Avg Loss: 2.0742\n",
      "⏳ No Improvement | Patience: 3/10\n",
      "Epoch [5/100], Batch [5/55], Loss: 2.0795\n",
      "Epoch [5/100], Batch [10/55], Loss: 2.0794\n",
      "Epoch [5/100], Batch [15/55], Loss: 2.0794\n",
      "Epoch [5/100], Batch [20/55], Loss: 2.0794\n",
      "Epoch [5/100], Batch [25/55], Loss: 2.0795\n",
      "Epoch [5/100], Batch [30/55], Loss: 2.0795\n",
      "Epoch [5/100], Batch [35/55], Loss: 2.0795\n",
      "Epoch [5/100], Batch [40/55], Loss: 2.0794\n",
      "Epoch [5/100], Batch [45/55], Loss: 2.0794\n",
      "Epoch [5/100], Batch [50/55], Loss: 2.0794\n",
      "Epoch [5/100], Batch [55/55], Loss: 1.7917\n",
      "✅ Completed Epoch [5/100] | Avg Loss: 2.0742\n",
      "⏳ No Improvement | Patience: 4/10\n",
      "Epoch [6/100], Batch [5/55], Loss: 2.0795\n",
      "Epoch [6/100], Batch [10/55], Loss: 2.0794\n",
      "Epoch [6/100], Batch [15/55], Loss: 2.0794\n",
      "Epoch [6/100], Batch [20/55], Loss: 2.0794\n",
      "Epoch [6/100], Batch [25/55], Loss: 2.0794\n",
      "Epoch [6/100], Batch [30/55], Loss: 2.0794\n",
      "Epoch [6/100], Batch [35/55], Loss: 2.0795\n",
      "Epoch [6/100], Batch [40/55], Loss: 2.0795\n",
      "Epoch [6/100], Batch [45/55], Loss: 2.0794\n",
      "Epoch [6/100], Batch [50/55], Loss: 2.0795\n",
      "Epoch [6/100], Batch [55/55], Loss: 1.7918\n",
      "✅ Completed Epoch [6/100] | Avg Loss: 2.0742\n",
      "⏳ No Improvement | Patience: 5/10\n",
      "Epoch [7/100], Batch [5/55], Loss: 2.0795\n",
      "Epoch [7/100], Batch [10/55], Loss: 2.0795\n",
      "Epoch [7/100], Batch [15/55], Loss: 2.0794\n",
      "Epoch [7/100], Batch [20/55], Loss: 2.0794\n",
      "Epoch [7/100], Batch [25/55], Loss: 2.0795\n",
      "Epoch [7/100], Batch [30/55], Loss: 2.0794\n",
      "Epoch [7/100], Batch [35/55], Loss: 2.0794\n",
      "Epoch [7/100], Batch [40/55], Loss: 2.0794\n",
      "Epoch [7/100], Batch [45/55], Loss: 2.0794\n",
      "Epoch [7/100], Batch [50/55], Loss: 2.0795\n",
      "Epoch [7/100], Batch [55/55], Loss: 1.7918\n",
      "✅ Completed Epoch [7/100] | Avg Loss: 2.0742\n",
      "⏳ No Improvement | Patience: 6/10\n",
      "Epoch [8/100], Batch [5/55], Loss: 2.0794\n",
      "Epoch [8/100], Batch [10/55], Loss: 2.0794\n",
      "Epoch [8/100], Batch [15/55], Loss: 2.0794\n",
      "Epoch [8/100], Batch [20/55], Loss: 2.0794\n",
      "Epoch [8/100], Batch [25/55], Loss: 2.0794\n",
      "Epoch [8/100], Batch [30/55], Loss: 2.0794\n",
      "Epoch [8/100], Batch [35/55], Loss: 2.0794\n",
      "Epoch [8/100], Batch [40/55], Loss: 2.0795\n",
      "Epoch [8/100], Batch [45/55], Loss: 2.0794\n",
      "Epoch [8/100], Batch [50/55], Loss: 2.0794\n",
      "Epoch [8/100], Batch [55/55], Loss: 1.7918\n",
      "✅ Completed Epoch [8/100] | Avg Loss: 2.0742\n",
      "⏳ No Improvement | Patience: 7/10\n",
      "Epoch [9/100], Batch [5/55], Loss: 2.0795\n",
      "Epoch [9/100], Batch [10/55], Loss: 2.0794\n",
      "Epoch [9/100], Batch [15/55], Loss: 2.0795\n",
      "Epoch [9/100], Batch [20/55], Loss: 2.0794\n",
      "Epoch [9/100], Batch [25/55], Loss: 2.0794\n",
      "Epoch [9/100], Batch [30/55], Loss: 2.0795\n",
      "Epoch [9/100], Batch [35/55], Loss: 2.0795\n",
      "Epoch [9/100], Batch [40/55], Loss: 2.0795\n",
      "Epoch [9/100], Batch [45/55], Loss: 2.0794\n",
      "Epoch [9/100], Batch [50/55], Loss: 2.0795\n",
      "Epoch [9/100], Batch [55/55], Loss: 1.7917\n",
      "✅ Completed Epoch [9/100] | Avg Loss: 2.0742\n",
      "⏳ No Improvement | Patience: 8/10\n",
      "Epoch [10/100], Batch [5/55], Loss: 2.0794\n",
      "Epoch [10/100], Batch [10/55], Loss: 2.0794\n",
      "Epoch [10/100], Batch [15/55], Loss: 2.0795\n",
      "Epoch [10/100], Batch [20/55], Loss: 2.0795\n",
      "Epoch [10/100], Batch [25/55], Loss: 2.0795\n",
      "Epoch [10/100], Batch [30/55], Loss: 2.0794\n",
      "Epoch [10/100], Batch [35/55], Loss: 2.0794\n",
      "Epoch [10/100], Batch [40/55], Loss: 2.0795\n",
      "Epoch [10/100], Batch [45/55], Loss: 2.0795\n",
      "Epoch [10/100], Batch [50/55], Loss: 2.0794\n",
      "Epoch [10/100], Batch [55/55], Loss: 1.7918\n",
      "✅ Completed Epoch [10/100] | Avg Loss: 2.0742\n",
      "⏳ No Improvement | Patience: 9/10\n",
      "Epoch [11/100], Batch [5/55], Loss: 2.0795\n",
      "Epoch [11/100], Batch [10/55], Loss: 2.0794\n",
      "Epoch [11/100], Batch [15/55], Loss: 2.0795\n",
      "Epoch [11/100], Batch [20/55], Loss: 2.0795\n",
      "Epoch [11/100], Batch [25/55], Loss: 2.0794\n",
      "Epoch [11/100], Batch [30/55], Loss: 2.0795\n",
      "Epoch [11/100], Batch [35/55], Loss: 2.0795\n",
      "Epoch [11/100], Batch [40/55], Loss: 2.0795\n",
      "Epoch [11/100], Batch [45/55], Loss: 2.0795\n",
      "Epoch [11/100], Batch [50/55], Loss: 2.0795\n",
      "Epoch [11/100], Batch [55/55], Loss: 1.7918\n",
      "✅ Completed Epoch [11/100] | Avg Loss: 2.0742\n",
      "⏳ No Improvement | Patience: 10/10\n",
      "🛑 Early Stopping Triggered!\n"
     ]
    }
   ],
   "source": [
    "import torch.optim as optim\n",
    "import numpy as np\n",
    "\n",
    "# ✅ Optimizer & Loss\n",
    "optimizer = optim.Adam(model.parameters(), lr=0.001)\n",
    "contrastive_loss = NTXentLoss().to(device)\n",
    "\n",
    "# ✅ Training Loop with Early Stopping\n",
    "def train_tstcc(model, train_loader, optimizer, epochs=100, patience=10):\n",
    "    model.train()\n",
    "    best_loss = np.inf  # Track best loss\n",
    "    patience_counter = 0  # Counter for early stopping\n",
    "\n",
    "    for epoch in range(epochs):\n",
    "        total_loss = 0\n",
    "        for batch_idx, (eeg_1, eeg_2) in enumerate(train_loader):\n",
    "            eeg_1, eeg_2 = eeg_1.to(device), eeg_2.to(device)\n",
    "\n",
    "            optimizer.zero_grad()\n",
    "            z1 = model(eeg_1)\n",
    "            z2 = model(eeg_2)\n",
    "\n",
    "            loss = contrastive_loss(z1, z2)\n",
    "            loss.backward()\n",
    "            optimizer.step()\n",
    "\n",
    "            total_loss += loss.item()\n",
    "            if (batch_idx + 1) % 5 == 0:\n",
    "                print(f\"Epoch [{epoch+1}/{epochs}], Batch [{batch_idx+1}/{len(train_loader)}], Loss: {loss.item():.4f}\")\n",
    "\n",
    "        # ✅ Check Early Stopping Condition\n",
    "        avg_loss = total_loss / len(train_loader)\n",
    "        print(f\"✅ Completed Epoch [{epoch+1}/{epochs}] | Avg Loss: {avg_loss:.4f}\")\n",
    "\n",
    "        if avg_loss < best_loss:\n",
    "            best_loss = avg_loss\n",
    "            patience_counter = 0  # Reset patience\n",
    "            torch.save(model.state_dict(), \"tstcc_best.pth\")  # Save best model\n",
    "            print(\"✅ Model Improved & Saved!\")\n",
    "        else:\n",
    "            patience_counter += 1\n",
    "            print(f\"⏳ No Improvement | Patience: {patience_counter}/{patience}\")\n",
    "\n",
    "        if patience_counter >= patience:\n",
    "            print(\"🛑 Early Stopping Triggered!\")\n",
    "            break\n",
    "\n",
    "# ✅ Train with Early Stopping\n",
    "train_tstcc(model, train_loader, optimizer, epochs=100, patience=10)\n"
   ]
  },
  {
   "cell_type": "code",
   "execution_count": 30,
   "metadata": {},
   "outputs": [
    {
     "name": "stdout",
     "output_type": "stream",
     "text": [
      "✅ Enhanced Model Initialized on cuda\n"
     ]
    }
   ],
   "source": [
    "import torch\n",
    "import torch.nn as nn\n",
    "\n",
    "class TSTCC_Enhanced(nn.Module):\n",
    "    def __init__(self, input_channels=33, seq_len=256, feature_dim=128):\n",
    "        super(TSTCC_Enhanced, self).__init__()\n",
    "\n",
    "        # ✅ Improved CNN Encoder (Deeper with BN & Dropout)\n",
    "        self.conv1 = nn.Conv1d(input_channels, 64, kernel_size=7, stride=2, padding=3)\n",
    "        self.bn1 = nn.BatchNorm1d(64)\n",
    "        self.conv2 = nn.Conv1d(64, 128, kernel_size=5, stride=2, padding=2)\n",
    "        self.bn2 = nn.BatchNorm1d(128)\n",
    "        self.conv3 = nn.Conv1d(128, 256, kernel_size=3, stride=2, padding=1)\n",
    "        self.bn3 = nn.BatchNorm1d(256)\n",
    "        self.conv4 = nn.Conv1d(256, feature_dim, kernel_size=3, stride=2, padding=1)\n",
    "        self.bn4 = nn.BatchNorm1d(feature_dim)\n",
    "        self.dropout = nn.Dropout(0.2)\n",
    "\n",
    "        # ✅ Deeper Transformer Encoder\n",
    "        encoder_layer = nn.TransformerEncoderLayer(d_model=feature_dim, nhead=8, dim_feedforward=512)\n",
    "        self.transformer = nn.TransformerEncoder(encoder_layer, num_layers=4)\n",
    "\n",
    "        # ✅ Projection Head for Contrastive Learning\n",
    "        self.projection_head = nn.Sequential(\n",
    "            nn.Linear(feature_dim, feature_dim),\n",
    "            nn.ReLU(),\n",
    "            nn.Linear(feature_dim, feature_dim)\n",
    "        )\n",
    "\n",
    "    def forward(self, x):\n",
    "        x = torch.relu(self.bn1(self.conv1(x)))\n",
    "        x = torch.relu(self.bn2(self.conv2(x)))\n",
    "        x = torch.relu(self.bn3(self.conv3(x)))\n",
    "        x = self.dropout(torch.relu(self.bn4(self.conv4(x))))  # Regularization\n",
    "\n",
    "        x = x.permute(2, 0, 1)  # (time, batch, features) for Transformer\n",
    "        x = self.transformer(x)  # Temporal encoding\n",
    "        x = x.mean(dim=0)  # Global pooling\n",
    "\n",
    "        z = self.projection_head(x)  # Contrastive Learning Projection\n",
    "        return z\n",
    "\n",
    "# ✅ Initialize Model\n",
    "device = torch.device(\"cuda\" if torch.cuda.is_available() else \"cpu\")\n",
    "model = TSTCC_Enhanced().to(device)\n",
    "\n",
    "print(f\"✅ Enhanced Model Initialized on {device}\")\n"
   ]
  },
  {
   "cell_type": "code",
   "execution_count": 31,
   "metadata": {},
   "outputs": [
    {
     "name": "stdout",
     "output_type": "stream",
     "text": [
      "✅ Advanced Augmentation Ready!\n"
     ]
    }
   ],
   "source": [
    "import numpy as np\n",
    "import random\n",
    "\n",
    "# ✅ New Augmentation Function\n",
    "def augment_eeg(eeg_data, crop_size=256, noise_level=0.05, freq_masking=True):\n",
    "    total_samples = eeg_data.shape[1]\n",
    "\n",
    "    # ✅ Random Crop\n",
    "    start_idx = np.random.randint(0, max(1, total_samples - crop_size + 1))\n",
    "    eeg_cropped = eeg_data[:, start_idx:start_idx + crop_size]\n",
    "\n",
    "    # ✅ Add Gaussian Noise\n",
    "    noise = noise_level * np.random.randn(*eeg_cropped.shape)\n",
    "    eeg_noisy = eeg_cropped + noise\n",
    "\n",
    "    # ✅ Frequency Masking (Randomly Zero-Out Frequencies)\n",
    "    if freq_masking:\n",
    "        num_masks = random.randint(1, 5)  # Apply 1-5 frequency masks\n",
    "        for _ in range(num_masks):\n",
    "            f = random.randint(0, eeg_cropped.shape[1] - 1)\n",
    "            eeg_noisy[:, f:f+random.randint(2, 5)] = 0  \n",
    "\n",
    "    return eeg_noisy\n",
    "\n",
    "print(\"✅ Advanced Augmentation Ready!\")\n"
   ]
  },
  {
   "cell_type": "code",
   "execution_count": 32,
   "metadata": {},
   "outputs": [
    {
     "name": "stdout",
     "output_type": "stream",
     "text": [
      "Epoch [1/100], Batch [5/55], Loss: 1.2345\n",
      "Epoch [1/100], Batch [10/55], Loss: 1.1400\n",
      "Epoch [1/100], Batch [15/55], Loss: 1.1826\n",
      "Epoch [1/100], Batch [20/55], Loss: 1.5844\n",
      "Epoch [1/100], Batch [25/55], Loss: 1.1539\n",
      "Epoch [1/100], Batch [30/55], Loss: 1.3055\n",
      "Epoch [1/100], Batch [35/55], Loss: 1.5132\n",
      "Epoch [1/100], Batch [40/55], Loss: 1.3023\n",
      "Epoch [1/100], Batch [45/55], Loss: 1.5943\n",
      "Epoch [1/100], Batch [50/55], Loss: 1.2131\n",
      "Epoch [1/100], Batch [55/55], Loss: 0.9473\n",
      "✅ Completed Epoch [1/100] | Avg Loss: 1.4246\n",
      "✅ Model Improved & Saved!\n",
      "Epoch [2/100], Batch [5/55], Loss: 1.1420\n",
      "Epoch [2/100], Batch [10/55], Loss: 1.6677\n",
      "Epoch [2/100], Batch [15/55], Loss: 1.0540\n",
      "Epoch [2/100], Batch [20/55], Loss: 1.4271\n",
      "Epoch [2/100], Batch [25/55], Loss: 1.3155\n",
      "Epoch [2/100], Batch [30/55], Loss: 1.5663\n",
      "Epoch [2/100], Batch [35/55], Loss: 1.1610\n",
      "Epoch [2/100], Batch [40/55], Loss: 1.4512\n",
      "Epoch [2/100], Batch [45/55], Loss: 1.7742\n",
      "Epoch [2/100], Batch [50/55], Loss: 1.1500\n",
      "Epoch [2/100], Batch [55/55], Loss: 1.2351\n",
      "✅ Completed Epoch [2/100] | Avg Loss: 1.3084\n",
      "✅ Model Improved & Saved!\n",
      "Epoch [3/100], Batch [5/55], Loss: 1.3152\n",
      "Epoch [3/100], Batch [10/55], Loss: 1.4189\n",
      "Epoch [3/100], Batch [15/55], Loss: 1.7769\n",
      "Epoch [3/100], Batch [20/55], Loss: 1.9143\n",
      "Epoch [3/100], Batch [25/55], Loss: 1.4890\n",
      "Epoch [3/100], Batch [30/55], Loss: 1.7164\n",
      "Epoch [3/100], Batch [35/55], Loss: 1.6358\n",
      "Epoch [3/100], Batch [40/55], Loss: 1.9328\n",
      "Epoch [3/100], Batch [45/55], Loss: 2.0167\n",
      "Epoch [3/100], Batch [50/55], Loss: 1.4298\n",
      "Epoch [3/100], Batch [55/55], Loss: 0.8588\n",
      "✅ Completed Epoch [3/100] | Avg Loss: 1.5319\n",
      "⏳ No Improvement | Patience: 1/10\n",
      "Epoch [4/100], Batch [5/55], Loss: 1.1949\n",
      "Epoch [4/100], Batch [10/55], Loss: 1.1274\n",
      "Epoch [4/100], Batch [15/55], Loss: 1.8381\n",
      "Epoch [4/100], Batch [20/55], Loss: 1.2130\n",
      "Epoch [4/100], Batch [25/55], Loss: 1.2104\n",
      "Epoch [4/100], Batch [30/55], Loss: 1.2088\n",
      "Epoch [4/100], Batch [35/55], Loss: 1.6173\n",
      "Epoch [4/100], Batch [40/55], Loss: 1.0711\n",
      "Epoch [4/100], Batch [45/55], Loss: 1.0377\n",
      "Epoch [4/100], Batch [50/55], Loss: 0.9422\n",
      "Epoch [4/100], Batch [55/55], Loss: 0.6836\n",
      "✅ Completed Epoch [4/100] | Avg Loss: 1.2173\n",
      "✅ Model Improved & Saved!\n",
      "Epoch [5/100], Batch [5/55], Loss: 1.0136\n",
      "Epoch [5/100], Batch [10/55], Loss: 0.9893\n",
      "Epoch [5/100], Batch [15/55], Loss: 1.6917\n",
      "Epoch [5/100], Batch [20/55], Loss: 1.2424\n",
      "Epoch [5/100], Batch [25/55], Loss: 1.3312\n",
      "Epoch [5/100], Batch [30/55], Loss: 1.2214\n",
      "Epoch [5/100], Batch [35/55], Loss: 1.0844\n",
      "Epoch [5/100], Batch [40/55], Loss: 0.9907\n",
      "Epoch [5/100], Batch [45/55], Loss: 1.3044\n",
      "Epoch [5/100], Batch [50/55], Loss: 1.1112\n",
      "Epoch [5/100], Batch [55/55], Loss: 0.8461\n",
      "✅ Completed Epoch [5/100] | Avg Loss: 1.1265\n",
      "✅ Model Improved & Saved!\n",
      "Epoch [6/100], Batch [5/55], Loss: 1.1286\n",
      "Epoch [6/100], Batch [10/55], Loss: 1.2244\n",
      "Epoch [6/100], Batch [15/55], Loss: 1.3806\n",
      "Epoch [6/100], Batch [20/55], Loss: 1.4555\n",
      "Epoch [6/100], Batch [25/55], Loss: 1.2368\n",
      "Epoch [6/100], Batch [30/55], Loss: 1.0558\n",
      "Epoch [6/100], Batch [35/55], Loss: 1.3919\n",
      "Epoch [6/100], Batch [40/55], Loss: 1.2631\n",
      "Epoch [6/100], Batch [45/55], Loss: 1.8663\n",
      "Epoch [6/100], Batch [50/55], Loss: 1.1839\n",
      "Epoch [6/100], Batch [55/55], Loss: 0.5963\n",
      "✅ Completed Epoch [6/100] | Avg Loss: 1.2296\n",
      "⏳ No Improvement | Patience: 1/10\n",
      "Epoch [7/100], Batch [5/55], Loss: 1.0768\n",
      "Epoch [7/100], Batch [10/55], Loss: 1.2242\n",
      "Epoch [7/100], Batch [15/55], Loss: 1.0075\n",
      "Epoch [7/100], Batch [20/55], Loss: 1.0952\n",
      "Epoch [7/100], Batch [25/55], Loss: 0.9413\n",
      "Epoch [7/100], Batch [30/55], Loss: 1.7099\n",
      "Epoch [7/100], Batch [35/55], Loss: 1.2160\n",
      "Epoch [7/100], Batch [40/55], Loss: 0.9801\n",
      "Epoch [7/100], Batch [45/55], Loss: 1.2544\n",
      "Epoch [7/100], Batch [50/55], Loss: 1.2016\n",
      "Epoch [7/100], Batch [55/55], Loss: 1.4009\n",
      "✅ Completed Epoch [7/100] | Avg Loss: 1.1198\n",
      "✅ Model Improved & Saved!\n",
      "Epoch [8/100], Batch [5/55], Loss: 1.3253\n",
      "Epoch [8/100], Batch [10/55], Loss: 1.2006\n",
      "Epoch [8/100], Batch [15/55], Loss: 1.1694\n",
      "Epoch [8/100], Batch [20/55], Loss: 1.2010\n",
      "Epoch [8/100], Batch [25/55], Loss: 0.9402\n",
      "Epoch [8/100], Batch [30/55], Loss: 0.8627\n",
      "Epoch [8/100], Batch [35/55], Loss: 1.0048\n",
      "Epoch [8/100], Batch [40/55], Loss: 0.9225\n",
      "Epoch [8/100], Batch [45/55], Loss: 0.9235\n",
      "Epoch [8/100], Batch [50/55], Loss: 0.9946\n",
      "Epoch [8/100], Batch [55/55], Loss: 0.6807\n",
      "✅ Completed Epoch [8/100] | Avg Loss: 1.0340\n",
      "✅ Model Improved & Saved!\n",
      "Epoch [9/100], Batch [5/55], Loss: 0.9383\n",
      "Epoch [9/100], Batch [10/55], Loss: 1.2265\n",
      "Epoch [9/100], Batch [15/55], Loss: 0.8808\n",
      "Epoch [9/100], Batch [20/55], Loss: 0.8143\n",
      "Epoch [9/100], Batch [25/55], Loss: 0.9718\n",
      "Epoch [9/100], Batch [30/55], Loss: 1.2861\n",
      "Epoch [9/100], Batch [35/55], Loss: 1.0533\n",
      "Epoch [9/100], Batch [40/55], Loss: 0.7464\n",
      "Epoch [9/100], Batch [45/55], Loss: 1.1605\n",
      "Epoch [9/100], Batch [50/55], Loss: 0.8000\n",
      "Epoch [9/100], Batch [55/55], Loss: 0.6492\n",
      "✅ Completed Epoch [9/100] | Avg Loss: 1.0311\n",
      "✅ Model Improved & Saved!\n",
      "Epoch [10/100], Batch [5/55], Loss: 1.4374\n",
      "Epoch [10/100], Batch [10/55], Loss: 1.1848\n",
      "Epoch [10/100], Batch [15/55], Loss: 1.0973\n",
      "Epoch [10/100], Batch [20/55], Loss: 1.1421\n",
      "Epoch [10/100], Batch [25/55], Loss: 0.8495\n",
      "Epoch [10/100], Batch [30/55], Loss: 0.8776\n",
      "Epoch [10/100], Batch [35/55], Loss: 1.0574\n",
      "Epoch [10/100], Batch [40/55], Loss: 1.2211\n",
      "Epoch [10/100], Batch [45/55], Loss: 1.0912\n",
      "Epoch [10/100], Batch [50/55], Loss: 0.8699\n",
      "Epoch [10/100], Batch [55/55], Loss: 1.0230\n",
      "✅ Completed Epoch [10/100] | Avg Loss: 1.0578\n",
      "⏳ No Improvement | Patience: 1/10\n",
      "Epoch [11/100], Batch [5/55], Loss: 1.0349\n",
      "Epoch [11/100], Batch [10/55], Loss: 1.0300\n",
      "Epoch [11/100], Batch [15/55], Loss: 0.8719\n",
      "Epoch [11/100], Batch [20/55], Loss: 0.9332\n",
      "Epoch [11/100], Batch [25/55], Loss: 0.9855\n",
      "Epoch [11/100], Batch [30/55], Loss: 0.9003\n",
      "Epoch [11/100], Batch [35/55], Loss: 1.0004\n",
      "Epoch [11/100], Batch [40/55], Loss: 0.9668\n",
      "Epoch [11/100], Batch [45/55], Loss: 1.0942\n",
      "Epoch [11/100], Batch [50/55], Loss: 1.0914\n",
      "Epoch [11/100], Batch [55/55], Loss: 0.6262\n",
      "✅ Completed Epoch [11/100] | Avg Loss: 0.9788\n",
      "✅ Model Improved & Saved!\n",
      "Epoch [12/100], Batch [5/55], Loss: 0.9405\n",
      "Epoch [12/100], Batch [10/55], Loss: 0.8859\n",
      "Epoch [12/100], Batch [15/55], Loss: 0.9838\n",
      "Epoch [12/100], Batch [20/55], Loss: 1.0778\n",
      "Epoch [12/100], Batch [25/55], Loss: 0.9877\n",
      "Epoch [12/100], Batch [30/55], Loss: 0.8410\n",
      "Epoch [12/100], Batch [35/55], Loss: 1.1019\n",
      "Epoch [12/100], Batch [40/55], Loss: 0.9153\n",
      "Epoch [12/100], Batch [45/55], Loss: 1.0228\n",
      "Epoch [12/100], Batch [50/55], Loss: 1.2485\n",
      "Epoch [12/100], Batch [55/55], Loss: 0.7400\n",
      "✅ Completed Epoch [12/100] | Avg Loss: 1.0220\n",
      "⏳ No Improvement | Patience: 1/10\n",
      "Epoch [13/100], Batch [5/55], Loss: 1.2283\n",
      "Epoch [13/100], Batch [10/55], Loss: 1.1509\n",
      "Epoch [13/100], Batch [15/55], Loss: 0.9842\n",
      "Epoch [13/100], Batch [20/55], Loss: 0.8491\n",
      "Epoch [13/100], Batch [25/55], Loss: 0.9546\n",
      "Epoch [13/100], Batch [30/55], Loss: 1.0094\n",
      "Epoch [13/100], Batch [35/55], Loss: 0.9150\n",
      "Epoch [13/100], Batch [40/55], Loss: 1.3182\n",
      "Epoch [13/100], Batch [45/55], Loss: 0.8928\n",
      "Epoch [13/100], Batch [50/55], Loss: 1.1363\n",
      "Epoch [13/100], Batch [55/55], Loss: 0.7421\n",
      "✅ Completed Epoch [13/100] | Avg Loss: 1.0352\n",
      "⏳ No Improvement | Patience: 2/10\n",
      "Epoch [14/100], Batch [5/55], Loss: 0.8492\n",
      "Epoch [14/100], Batch [10/55], Loss: 0.8827\n",
      "Epoch [14/100], Batch [15/55], Loss: 1.0793\n",
      "Epoch [14/100], Batch [20/55], Loss: 1.1318\n",
      "Epoch [14/100], Batch [25/55], Loss: 0.7903\n",
      "Epoch [14/100], Batch [30/55], Loss: 0.8818\n",
      "Epoch [14/100], Batch [35/55], Loss: 0.8508\n",
      "Epoch [14/100], Batch [40/55], Loss: 0.8112\n",
      "Epoch [14/100], Batch [45/55], Loss: 0.9811\n",
      "Epoch [14/100], Batch [50/55], Loss: 1.1529\n",
      "Epoch [14/100], Batch [55/55], Loss: 1.1885\n",
      "✅ Completed Epoch [14/100] | Avg Loss: 1.0394\n",
      "⏳ No Improvement | Patience: 3/10\n",
      "Epoch [15/100], Batch [5/55], Loss: 1.0331\n",
      "Epoch [15/100], Batch [10/55], Loss: 1.1216\n",
      "Epoch [15/100], Batch [15/55], Loss: 0.9070\n",
      "Epoch [15/100], Batch [20/55], Loss: 1.0475\n",
      "Epoch [15/100], Batch [25/55], Loss: 1.1803\n",
      "Epoch [15/100], Batch [30/55], Loss: 1.4528\n",
      "Epoch [15/100], Batch [35/55], Loss: 1.0347\n",
      "Epoch [15/100], Batch [40/55], Loss: 0.8421\n",
      "Epoch [15/100], Batch [45/55], Loss: 0.8779\n",
      "Epoch [15/100], Batch [50/55], Loss: 0.9129\n",
      "Epoch [15/100], Batch [55/55], Loss: 0.7376\n",
      "✅ Completed Epoch [15/100] | Avg Loss: 1.0822\n",
      "⏳ No Improvement | Patience: 4/10\n",
      "Epoch [16/100], Batch [5/55], Loss: 1.4553\n",
      "Epoch [16/100], Batch [10/55], Loss: 0.9047\n",
      "Epoch [16/100], Batch [15/55], Loss: 0.9347\n",
      "Epoch [16/100], Batch [20/55], Loss: 1.4393\n",
      "Epoch [16/100], Batch [25/55], Loss: 1.3691\n",
      "Epoch [16/100], Batch [30/55], Loss: 1.1063\n",
      "Epoch [16/100], Batch [35/55], Loss: 0.9084\n",
      "Epoch [16/100], Batch [40/55], Loss: 0.8488\n",
      "Epoch [16/100], Batch [45/55], Loss: 0.9590\n",
      "Epoch [16/100], Batch [50/55], Loss: 1.0871\n",
      "Epoch [16/100], Batch [55/55], Loss: 0.6061\n",
      "✅ Completed Epoch [16/100] | Avg Loss: 1.0695\n",
      "⏳ No Improvement | Patience: 5/10\n",
      "Epoch [17/100], Batch [5/55], Loss: 1.2245\n",
      "Epoch [17/100], Batch [10/55], Loss: 1.0053\n",
      "Epoch [17/100], Batch [15/55], Loss: 1.7614\n",
      "Epoch [17/100], Batch [20/55], Loss: 0.8888\n",
      "Epoch [17/100], Batch [25/55], Loss: 0.9377\n",
      "Epoch [17/100], Batch [30/55], Loss: 0.9646\n",
      "Epoch [17/100], Batch [35/55], Loss: 0.8403\n",
      "Epoch [17/100], Batch [40/55], Loss: 1.3416\n",
      "Epoch [17/100], Batch [45/55], Loss: 1.0108\n",
      "Epoch [17/100], Batch [50/55], Loss: 0.9645\n",
      "Epoch [17/100], Batch [55/55], Loss: 0.7864\n",
      "✅ Completed Epoch [17/100] | Avg Loss: 0.9885\n",
      "⏳ No Improvement | Patience: 6/10\n",
      "Epoch [18/100], Batch [5/55], Loss: 0.9133\n",
      "Epoch [18/100], Batch [10/55], Loss: 1.1516\n",
      "Epoch [18/100], Batch [15/55], Loss: 0.9800\n",
      "Epoch [18/100], Batch [20/55], Loss: 1.1811\n",
      "Epoch [18/100], Batch [25/55], Loss: 0.7955\n",
      "Epoch [18/100], Batch [30/55], Loss: 1.1336\n",
      "Epoch [18/100], Batch [35/55], Loss: 0.8061\n",
      "Epoch [18/100], Batch [40/55], Loss: 0.9441\n",
      "Epoch [18/100], Batch [45/55], Loss: 0.8935\n",
      "Epoch [18/100], Batch [50/55], Loss: 0.8038\n",
      "Epoch [18/100], Batch [55/55], Loss: 0.8719\n",
      "✅ Completed Epoch [18/100] | Avg Loss: 0.9885\n",
      "⏳ No Improvement | Patience: 7/10\n",
      "Epoch [19/100], Batch [5/55], Loss: 1.2124\n",
      "Epoch [19/100], Batch [10/55], Loss: 1.3749\n",
      "Epoch [19/100], Batch [15/55], Loss: 1.4619\n",
      "Epoch [19/100], Batch [20/55], Loss: 1.0272\n",
      "Epoch [19/100], Batch [25/55], Loss: 0.7834\n",
      "Epoch [19/100], Batch [30/55], Loss: 1.2420\n",
      "Epoch [19/100], Batch [35/55], Loss: 1.0930\n",
      "Epoch [19/100], Batch [40/55], Loss: 1.4438\n",
      "Epoch [19/100], Batch [45/55], Loss: 0.9388\n",
      "Epoch [19/100], Batch [50/55], Loss: 1.0182\n",
      "Epoch [19/100], Batch [55/55], Loss: 1.2196\n",
      "✅ Completed Epoch [19/100] | Avg Loss: 1.0109\n",
      "⏳ No Improvement | Patience: 8/10\n",
      "Epoch [20/100], Batch [5/55], Loss: 0.9198\n",
      "Epoch [20/100], Batch [10/55], Loss: 1.0783\n",
      "Epoch [20/100], Batch [15/55], Loss: 1.2235\n",
      "Epoch [20/100], Batch [20/55], Loss: 1.0695\n",
      "Epoch [20/100], Batch [25/55], Loss: 0.9391\n",
      "Epoch [20/100], Batch [30/55], Loss: 0.9295\n",
      "Epoch [20/100], Batch [35/55], Loss: 1.0870\n",
      "Epoch [20/100], Batch [40/55], Loss: 1.0069\n",
      "Epoch [20/100], Batch [45/55], Loss: 1.0170\n",
      "Epoch [20/100], Batch [50/55], Loss: 1.0467\n",
      "Epoch [20/100], Batch [55/55], Loss: 0.4867\n",
      "✅ Completed Epoch [20/100] | Avg Loss: 1.0484\n",
      "⏳ No Improvement | Patience: 9/10\n",
      "Epoch [21/100], Batch [5/55], Loss: 0.8320\n",
      "Epoch [21/100], Batch [10/55], Loss: 0.8539\n",
      "Epoch [21/100], Batch [15/55], Loss: 1.8089\n",
      "Epoch [21/100], Batch [20/55], Loss: 1.0548\n",
      "Epoch [21/100], Batch [25/55], Loss: 0.9160\n",
      "Epoch [21/100], Batch [30/55], Loss: 0.8610\n",
      "Epoch [21/100], Batch [35/55], Loss: 0.9922\n",
      "Epoch [21/100], Batch [40/55], Loss: 1.0797\n",
      "Epoch [21/100], Batch [45/55], Loss: 0.8068\n",
      "Epoch [21/100], Batch [50/55], Loss: 0.8955\n",
      "Epoch [21/100], Batch [55/55], Loss: 0.7726\n",
      "✅ Completed Epoch [21/100] | Avg Loss: 1.0018\n",
      "⏳ No Improvement | Patience: 10/10\n",
      "🛑 Early Stopping Triggered!\n"
     ]
    }
   ],
   "source": [
    "import torch.optim as optim\n",
    "import numpy as np\n",
    "\n",
    "# ✅ Improved Optimizer & Learning Rate Scheduler\n",
    "optimizer = optim.AdamW(model.parameters(), lr=0.001, weight_decay=1e-4)\n",
    "scheduler = torch.optim.lr_scheduler.CosineAnnealingLR(optimizer, T_max=50)  # Smooth decay\n",
    "\n",
    "contrastive_loss = NTXentLoss().to(device)\n",
    "\n",
    "# ✅ Enhanced Training Loop with Early Stopping & LR Scheduling\n",
    "def train_tstcc(model, train_loader, optimizer, scheduler, epochs=100, patience=10):\n",
    "    model.train()\n",
    "    best_loss = np.inf\n",
    "    patience_counter = 0\n",
    "\n",
    "    for epoch in range(epochs):\n",
    "        total_loss = 0\n",
    "        for batch_idx, (eeg_1, eeg_2) in enumerate(train_loader):\n",
    "            eeg_1, eeg_2 = eeg_1.to(device), eeg_2.to(device)\n",
    "\n",
    "            optimizer.zero_grad()\n",
    "            z1 = model(eeg_1)\n",
    "            z2 = model(eeg_2)\n",
    "\n",
    "            loss = contrastive_loss(z1, z2)\n",
    "            loss.backward()\n",
    "            optimizer.step()\n",
    "\n",
    "            total_loss += loss.item()\n",
    "            if (batch_idx + 1) % 5 == 0:\n",
    "                print(f\"Epoch [{epoch+1}/{epochs}], Batch [{batch_idx+1}/{len(train_loader)}], Loss: {loss.item():.4f}\")\n",
    "\n",
    "        avg_loss = total_loss / len(train_loader)\n",
    "        scheduler.step()  # Adjust learning rate dynamically\n",
    "\n",
    "        print(f\"✅ Completed Epoch [{epoch+1}/{epochs}] | Avg Loss: {avg_loss:.4f}\")\n",
    "\n",
    "        # ✅ Early Stopping\n",
    "        if avg_loss < best_loss:\n",
    "            best_loss = avg_loss\n",
    "            patience_counter = 0\n",
    "            torch.save(model.state_dict(), \"tstcc_best_enhanced.pth\")\n",
    "            print(\"✅ Model Improved & Saved!\")\n",
    "        else:\n",
    "            patience_counter += 1\n",
    "            print(f\"⏳ No Improvement | Patience: {patience_counter}/{patience}\")\n",
    "\n",
    "        if patience_counter >= patience:\n",
    "            print(\"🛑 Early Stopping Triggered!\")\n",
    "            break\n",
    "\n",
    "# ✅ Train with Enhanced Model\n",
    "train_tstcc(model, train_loader, optimizer, scheduler, epochs=100, patience=10)\n"
   ]
  },
  {
   "cell_type": "code",
   "execution_count": 33,
   "metadata": {},
   "outputs": [
    {
     "name": "stdout",
     "output_type": "stream",
     "text": [
      "✅ Optimized Model Initialized on cuda\n"
     ]
    }
   ],
   "source": [
    "import torch\n",
    "import torch.nn as nn\n",
    "\n",
    "class TSTCC_Optimized(nn.Module):\n",
    "    def __init__(self, input_channels=33, seq_len=256, feature_dim=512):\n",
    "        super(TSTCC_Optimized, self).__init__()\n",
    "\n",
    "        # ✅ Deeper CNN Encoder\n",
    "        self.conv1 = nn.Conv1d(input_channels, 128, kernel_size=7, stride=2, padding=3)\n",
    "        self.bn1 = nn.BatchNorm1d(128)\n",
    "        self.conv2 = nn.Conv1d(128, 256, kernel_size=5, stride=2, padding=2)\n",
    "        self.bn2 = nn.BatchNorm1d(256)\n",
    "        self.conv3 = nn.Conv1d(256, 512, kernel_size=3, stride=2, padding=1)\n",
    "        self.bn3 = nn.BatchNorm1d(512)\n",
    "        self.conv4 = nn.Conv1d(512, 512, kernel_size=3, stride=2, padding=1)\n",
    "        self.bn4 = nn.BatchNorm1d(512)\n",
    "        self.dropout = nn.Dropout(0.3)\n",
    "\n",
    "        # ✅ Stronger Transformer (6 Layers)\n",
    "        encoder_layer = nn.TransformerEncoderLayer(d_model=512, nhead=8, dim_feedforward=1024)\n",
    "        self.transformer = nn.TransformerEncoder(encoder_layer, num_layers=6)\n",
    "\n",
    "        # ✅ Projection Head for Contrastive Learning\n",
    "        self.projection_head = nn.Sequential(\n",
    "            nn.Linear(512, 512),\n",
    "            nn.ReLU(),\n",
    "            nn.Linear(512, 128)  # Reduced Dim for Better Generalization\n",
    "        )\n",
    "\n",
    "    def forward(self, x):\n",
    "        x = torch.relu(self.bn1(self.conv1(x)))\n",
    "        x = torch.relu(self.bn2(self.conv2(x)))\n",
    "        x = torch.relu(self.bn3(self.conv3(x)))\n",
    "        x = self.dropout(torch.relu(self.bn4(self.conv4(x))))  # Regularization\n",
    "\n",
    "        x = x.permute(2, 0, 1)  # (time, batch, features) for Transformer\n",
    "        x = self.transformer(x)  # Temporal encoding\n",
    "        x = x.mean(dim=0)  # Global pooling\n",
    "\n",
    "        z = self.projection_head(x)  # Contrastive Learning Projection\n",
    "        return z\n",
    "\n",
    "# ✅ Initialize Model\n",
    "device = torch.device(\"cuda\" if torch.cuda.is_available() else \"cpu\")\n",
    "model = TSTCC_Optimized().to(device)\n",
    "\n",
    "print(f\"✅ Optimized Model Initialized on {device}\")\n"
   ]
  },
  {
   "cell_type": "code",
   "execution_count": 34,
   "metadata": {},
   "outputs": [
    {
     "name": "stdout",
     "output_type": "stream",
     "text": [
      "✅ Optimized Augmentation Ready!\n"
     ]
    }
   ],
   "source": [
    "import numpy as np\n",
    "import random\n",
    "\n",
    "# ✅ Optimized Augmentation Function\n",
    "def augment_eeg(eeg_data, crop_size=256, noise_level=0.02, freq_masking=True):\n",
    "    total_samples = eeg_data.shape[1]\n",
    "\n",
    "    # ✅ Random Crop\n",
    "    start_idx = np.random.randint(0, max(1, total_samples - crop_size + 1))\n",
    "    eeg_cropped = eeg_data[:, start_idx:start_idx + crop_size]\n",
    "\n",
    "    # ✅ Time Shift (Simulates Variability)\n",
    "    shift = random.randint(-10, 10)  # Shift by up to ±10 samples\n",
    "    eeg_shifted = np.roll(eeg_cropped, shift, axis=1)\n",
    "\n",
    "    # ✅ Add Gaussian Noise\n",
    "    noise = noise_level * np.random.randn(*eeg_shifted.shape)\n",
    "    eeg_noisy = eeg_shifted + noise\n",
    "\n",
    "    # ✅ Frequency Masking (More Randomness)\n",
    "    if freq_masking:\n",
    "        num_masks = random.randint(1, 3)  # Apply 1-3 frequency masks\n",
    "        for _ in range(num_masks):\n",
    "            f = random.randint(0, eeg_noisy.shape[1] - 1)\n",
    "            eeg_noisy[:, f:f+random.randint(3, 7)] = 0  \n",
    "\n",
    "    return eeg_noisy\n",
    "\n",
    "print(\"✅ Optimized Augmentation Ready!\")\n"
   ]
  },
  {
   "cell_type": "code",
   "execution_count": 35,
   "metadata": {},
   "outputs": [
    {
     "name": "stdout",
     "output_type": "stream",
     "text": [
      "✅ Optimized Model Initialized on cuda\n"
     ]
    }
   ],
   "source": [
    "import torch\n",
    "import torch.nn as nn\n",
    "import torch.optim as optim\n",
    "import numpy as np\n",
    "\n",
    "# ✅ Optimized TS-TCC Model\n",
    "class TSTCC_Optimized(nn.Module):\n",
    "    def __init__(self, input_channels=33, seq_len=256, feature_dim=512):\n",
    "        super(TSTCC_Optimized, self).__init__()\n",
    "\n",
    "        self.conv1 = nn.Conv1d(input_channels, 128, kernel_size=7, stride=2, padding=3)\n",
    "        self.bn1 = nn.BatchNorm1d(128)\n",
    "        self.conv2 = nn.Conv1d(128, 256, kernel_size=5, stride=2, padding=2)\n",
    "        self.bn2 = nn.BatchNorm1d(256)\n",
    "        self.conv3 = nn.Conv1d(256, 512, kernel_size=3, stride=2, padding=1)\n",
    "        self.bn3 = nn.BatchNorm1d(512)\n",
    "        self.conv4 = nn.Conv1d(512, 512, kernel_size=3, stride=2, padding=1)\n",
    "        self.bn4 = nn.BatchNorm1d(512)\n",
    "        self.dropout = nn.Dropout(0.4)  # Increased dropout for better generalization\n",
    "\n",
    "        encoder_layer = nn.TransformerEncoderLayer(d_model=512, nhead=8, dim_feedforward=1024)\n",
    "        self.transformer = nn.TransformerEncoder(encoder_layer, num_layers=6)\n",
    "\n",
    "        self.projection_head = nn.Sequential(\n",
    "            nn.Linear(512, 512),\n",
    "            nn.ReLU(),\n",
    "            nn.Linear(512, 128)  # Lower dimensional embedding\n",
    "        )\n",
    "\n",
    "    def forward(self, x):\n",
    "        x = torch.relu(self.bn1(self.conv1(x)))\n",
    "        x = torch.relu(self.bn2(self.conv2(x)))\n",
    "        x = torch.relu(self.bn3(self.conv3(x)))\n",
    "        x = self.dropout(torch.relu(self.bn4(self.conv4(x))))\n",
    "\n",
    "        x = x.permute(2, 0, 1)\n",
    "        x = self.transformer(x)\n",
    "        x = x.mean(dim=0)\n",
    "\n",
    "        z = self.projection_head(x)\n",
    "        return z\n",
    "\n",
    "# ✅ Initialize Model\n",
    "device = torch.device(\"cuda\" if torch.cuda.is_available() else \"cpu\")\n",
    "model = TSTCC_Optimized().to(device)\n",
    "\n",
    "print(f\"✅ Optimized Model Initialized on {device}\")\n"
   ]
  },
  {
   "cell_type": "code",
   "execution_count": 36,
   "metadata": {},
   "outputs": [
    {
     "name": "stdout",
     "output_type": "stream",
     "text": [
      "✅ Optimized Augmentation Ready!\n"
     ]
    }
   ],
   "source": [
    "import random\n",
    "\n",
    "def augment_eeg(eeg_data, crop_size=256, noise_level=0.02, freq_masking=True):\n",
    "    total_samples = eeg_data.shape[1]\n",
    "\n",
    "    # ✅ Better Cropping: Ensure different views\n",
    "    start_idx_1 = np.random.randint(0, max(1, total_samples - crop_size + 1))\n",
    "    start_idx_2 = np.random.randint(0, max(1, total_samples - crop_size + 1))\n",
    "\n",
    "    eeg_1 = eeg_data[:, start_idx_1:start_idx_1 + crop_size]\n",
    "    eeg_2 = eeg_data[:, start_idx_2:start_idx_2 + crop_size]\n",
    "\n",
    "    # ✅ Slight amplitude scaling\n",
    "    scale_factor = np.random.uniform(0.9, 1.1)\n",
    "    eeg_1 *= scale_factor\n",
    "    eeg_2 *= scale_factor\n",
    "\n",
    "    # ✅ Add Gaussian Noise\n",
    "    eeg_1 += noise_level * np.random.randn(*eeg_1.shape)\n",
    "    eeg_2 += noise_level * np.random.randn(*eeg_2.shape)\n",
    "\n",
    "    return eeg_1, eeg_2\n",
    "\n",
    "print(\"✅ Optimized Augmentation Ready!\")\n"
   ]
  },
  {
   "cell_type": "code",
   "execution_count": 37,
   "metadata": {},
   "outputs": [],
   "source": [
    "eeg_1, eeg_2 = eeg_1.to(device), eeg_2.to(device)\n"
   ]
  },
  {
   "cell_type": "code",
   "execution_count": 38,
   "metadata": {},
   "outputs": [],
   "source": [
    "eeg_1, eeg_2 = eeg_1[:, 0].to(device), eeg_2[:, 1].to(device)  \n"
   ]
  },
  {
   "cell_type": "code",
   "execution_count": 39,
   "metadata": {},
   "outputs": [
    {
     "name": "stderr",
     "output_type": "stream",
     "text": [
      "C:\\Users\\alsaf\\AppData\\Local\\Temp\\ipykernel_204\\3678052013.py:55: UserWarning: Creating a tensor from a list of numpy.ndarrays is extremely slow. Please consider converting the list to a single numpy.ndarray with numpy.array() before converting to a tensor. (Triggered internally at C:\\actions-runner\\_work\\pytorch\\pytorch\\builder\\windows\\pytorch\\torch\\csrc\\utils\\tensor_new.cpp:281.)\n",
      "  return torch.tensor(eeg_1, dtype=torch.float32), torch.tensor(eeg_2, dtype=torch.float32)\n"
     ]
    }
   ],
   "source": [
    "for batch_idx, (eeg_1, eeg_2) in enumerate(train_loader):  # ✅ Fix Here\n",
    "    eeg_1, eeg_2 = eeg_1.to(device), eeg_2.to(device)\n"
   ]
  },
  {
   "cell_type": "code",
   "execution_count": 44,
   "metadata": {},
   "outputs": [],
   "source": [
    "def train_tstcc(model, train_loader, optimizer, scheduler, epochs=100, patience=15):\n",
    "    model.train()\n",
    "    best_loss = np.inf\n",
    "    patience_counter = 0\n",
    "\n",
    "    for epoch in range(epochs):\n",
    "        total_loss = 0\n",
    "        for batch_idx, (eeg_1, eeg_2) in enumerate(train_loader):\n",
    "            eeg_1, eeg_2 = eeg_1.squeeze(1).to(device), eeg_2.squeeze(1).to(device)  # ✅ Fix Shape\n",
    "\n",
    "            optimizer.zero_grad()\n",
    "            z1 = model(eeg_1)  # ✅ Now works\n",
    "            z2 = model(eeg_2)\n",
    "\n",
    "            loss = contrastive_loss(z1, z2)\n",
    "            loss.backward()\n",
    "            optimizer.step()\n",
    "\n",
    "            total_loss += loss.item()\n",
    "            if (batch_idx + 1) % 5 == 0:\n",
    "                print(f\"Epoch [{epoch+1}/{epochs}], Batch [{batch_idx+1}/{len(train_loader)}], Loss: {loss.item():.4f}\")\n",
    "\n",
    "        avg_loss = total_loss / len(train_loader)\n",
    "        scheduler.step()\n",
    "\n",
    "        print(f\"✅ Completed Epoch [{epoch+1}/{epochs}] | Avg Loss: {avg_loss:.4f}\")\n",
    "\n",
    "        if avg_loss < best_loss:\n",
    "            best_loss = avg_loss\n",
    "            patience_counter = 0\n",
    "            torch.save(model.state_dict(), \"tstcc_optimized.pth\")\n",
    "            print(\"✅ Model Improved & Saved!\")\n",
    "        else:\n",
    "            patience_counter += 1\n",
    "            print(f\"⏳ No Improvement | Patience: {patience_counter}/{patience}\")\n",
    "\n",
    "        if patience_counter >= patience:\n",
    "            print(\"🛑 Early Stopping Triggered!\")\n",
    "            break\n"
   ]
  },
  {
   "cell_type": "markdown",
   "metadata": {},
   "source": [
    "BYOL"
   ]
  },
  {
   "cell_type": "code",
   "execution_count": 89,
   "metadata": {},
   "outputs": [
    {
     "name": "stdout",
     "output_type": "stream",
     "text": [
      "✅ EEG Batch Shape: torch.Size([8, 33, 5120])\n"
     ]
    }
   ],
   "source": [
    "import os\n",
    "import numpy as np\n",
    "import torch\n",
    "from torch.utils.data import Dataset, DataLoader\n",
    "import random\n",
    "\n",
    "# ✅ Paths\n",
    "npy_dir = r\"C:\\Users\\alsaf\\Downloads\\Capstone2\\EEG_Segments_Preprocessed\"\n",
    "\n",
    "# ✅ Standardize EEG shape\n",
    "TARGET_CHANNELS = 33  # Most common channel count\n",
    "CROP_SIZE = 5120  # Fixed length for all EEG samples\n",
    "\n",
    "class EEGDataset(Dataset):\n",
    "    def __init__(self, npy_dir):\n",
    "        self.file_list = [os.path.join(npy_dir, f) for f in os.listdir(npy_dir) if f.endswith(\".npy\")]\n",
    "\n",
    "    def standardize_eeg(self, eeg):\n",
    "        \"\"\" Ensure EEG has fixed shape: (TARGET_CHANNELS, CROP_SIZE) \"\"\"\n",
    "        channels, timepoints = eeg.shape\n",
    "\n",
    "        # ✅ Fix Channels (Pad or Trim)\n",
    "        if channels < TARGET_CHANNELS:\n",
    "            pad = np.zeros((TARGET_CHANNELS - channels, timepoints))\n",
    "            eeg = np.vstack([eeg, pad])  # Pad missing channels\n",
    "        elif channels > TARGET_CHANNELS:\n",
    "            eeg = eeg[:TARGET_CHANNELS, :]  # Trim extra channels\n",
    "\n",
    "        # ✅ Fix Time Length (Crop or Pad)\n",
    "        if timepoints < CROP_SIZE:\n",
    "            pad = np.zeros((TARGET_CHANNELS, CROP_SIZE - timepoints))\n",
    "            eeg = np.hstack([eeg, pad])  # Pad missing timepoints\n",
    "        elif timepoints > CROP_SIZE:\n",
    "            start = random.randint(0, timepoints - CROP_SIZE)\n",
    "            eeg = eeg[:, start:start + CROP_SIZE]  # Random crop\n",
    "\n",
    "        return eeg\n",
    "\n",
    "    def augment(self, eeg):\n",
    "        \"\"\" Apply EEG-specific augmentations \"\"\"\n",
    "        eeg = eeg.copy()  # Ensure no modifications to the original data\n",
    "\n",
    "        if random.random() > 0.5:\n",
    "            eeg = np.flip(eeg, axis=1).copy()  # ✅ Copy after flipping to remove negative strides\n",
    "\n",
    "        if random.random() > 0.5:\n",
    "            noise = np.random.normal(0, 0.05, eeg.shape)  # Add small noise\n",
    "            eeg = eeg + noise\n",
    "\n",
    "        return eeg\n",
    "\n",
    "    def __getitem__(self, idx):\n",
    "        eeg_data = np.load(self.file_list[idx])  # Load raw EEG\n",
    "        eeg_data = self.standardize_eeg(eeg_data)  # ✅ Ensure fixed shape\n",
    "\n",
    "        # Create two augmented views for BYOL\n",
    "        eeg_1 = self.augment(eeg_data)\n",
    "        eeg_2 = self.augment(eeg_data)\n",
    "\n",
    "        return torch.tensor(eeg_1, dtype=torch.float32), torch.tensor(eeg_2, dtype=torch.float32)\n",
    "\n",
    "    def __len__(self):\n",
    "        return len(self.file_list)\n",
    "\n",
    "# ✅ Create DataLoader\n",
    "train_dataset = EEGDataset(npy_dir)\n",
    "train_loader = DataLoader(train_dataset, batch_size=8, shuffle=True, num_workers=0)\n",
    "\n",
    "# ✅ Check a batch\n",
    "eeg_1, eeg_2 = next(iter(train_loader))\n",
    "print(f\"✅ EEG Batch Shape: {eeg_1.shape}\")  # Expected: (batch_size, 33, 5120)\n"
   ]
  },
  {
   "cell_type": "code",
   "execution_count": 90,
   "metadata": {},
   "outputs": [],
   "source": [
    "import torch.nn as nn\n",
    "import torch.optim as optim\n",
    "import torch.nn.functional as F\n",
    "\n",
    "# ✅ Define the BYOL Model\n",
    "class BYOL(nn.Module):\n",
    "    def __init__(self, input_channels=33, hidden_dim=128, projection_dim=512):\n",
    "        super(BYOL, self).__init__()\n",
    "\n",
    "        # Feature Extractor\n",
    "        self.encoder = nn.Sequential(\n",
    "            nn.Conv1d(input_channels, hidden_dim, kernel_size=3, padding=1),\n",
    "            nn.BatchNorm1d(hidden_dim),\n",
    "            nn.ReLU(),\n",
    "            nn.Conv1d(hidden_dim, hidden_dim, kernel_size=3, padding=1),\n",
    "            nn.BatchNorm1d(hidden_dim),\n",
    "            nn.ReLU(),\n",
    "            nn.AdaptiveAvgPool1d(1)  # Global Average Pooling\n",
    "        )\n",
    "\n",
    "        # Projection Head\n",
    "        self.projector = nn.Sequential(\n",
    "            nn.Linear(hidden_dim, projection_dim),\n",
    "            nn.BatchNorm1d(projection_dim),\n",
    "            nn.ReLU(),\n",
    "            nn.Linear(projection_dim, projection_dim)\n",
    "        )\n",
    "\n",
    "        # Predictor Head\n",
    "        self.predictor = nn.Sequential(\n",
    "            nn.Linear(projection_dim, projection_dim // 2),\n",
    "            nn.BatchNorm1d(projection_dim // 2),\n",
    "            nn.ReLU(),\n",
    "            nn.Linear(projection_dim // 2, projection_dim)\n",
    "        )\n",
    "\n",
    "    def forward(self, x1, x2):\n",
    "        z1 = self.encoder(x1).squeeze(-1)\n",
    "        z2 = self.encoder(x2).squeeze(-1)\n",
    "\n",
    "        p1 = self.predictor(self.projector(z1))\n",
    "        p2 = self.predictor(self.projector(z2))\n",
    "\n",
    "        return p1, p2, z1, z2\n",
    "\n",
    "# ✅ Initialize Model\n",
    "device = torch.device(\"cuda\" if torch.cuda.is_available() else \"cpu\")\n",
    "model = BYOL(input_channels=33).to(device)\n"
   ]
  },
  {
   "cell_type": "code",
   "execution_count": 91,
   "metadata": {},
   "outputs": [],
   "source": [
    "# ✅ Define the Negative Cosine Similarity Loss for BYOL\n",
    "def byol_loss(p1, p2, z1, z2):\n",
    "    \"\"\" Negative cosine similarity loss \"\"\"\n",
    "    p1, p2, z1, z2 = map(lambda t: F.normalize(t, dim=-1), [p1, p2, z1, z2])  # Normalize embeddings\n",
    "\n",
    "    loss = (2 - 2 * (p1 * z2).sum(dim=-1).mean()) + (2 - 2 * (p2 * z1).sum(dim=-1).mean())  # Contrastive loss\n",
    "    return loss\n"
   ]
  },
  {
   "cell_type": "code",
   "execution_count": 93,
   "metadata": {},
   "outputs": [],
   "source": [
    "import torch\n",
    "import torch.nn as nn\n",
    "import torch.nn.functional as F\n",
    "\n",
    "# ✅ Define the BYOL Model\n",
    "class BYOL(nn.Module):\n",
    "    def __init__(self, input_channels=33, hidden_dim=128, projection_dim=128):  # ✅ Projection Dim = 128\n",
    "        super(BYOL, self).__init__()\n",
    "\n",
    "        # Feature Extractor\n",
    "        self.encoder = nn.Sequential(\n",
    "            nn.Conv1d(input_channels, hidden_dim, kernel_size=3, padding=1),\n",
    "            nn.BatchNorm1d(hidden_dim),\n",
    "            nn.ReLU(),\n",
    "            nn.Conv1d(hidden_dim, hidden_dim, kernel_size=3, padding=1),\n",
    "            nn.BatchNorm1d(hidden_dim),\n",
    "            nn.ReLU(),\n",
    "            nn.AdaptiveAvgPool1d(1)  # Global Average Pooling\n",
    "        )\n",
    "\n",
    "        # Projection Head\n",
    "        self.projector = nn.Sequential(\n",
    "            nn.Linear(hidden_dim, projection_dim),\n",
    "            nn.BatchNorm1d(projection_dim),\n",
    "            nn.ReLU(),\n",
    "            nn.Linear(projection_dim, projection_dim)  # ✅ Output size fixed to 128\n",
    "        )\n",
    "\n",
    "        # Predictor Head (Same size as projection now!)\n",
    "        self.predictor = nn.Sequential(\n",
    "            nn.Linear(projection_dim, projection_dim // 2),\n",
    "            nn.BatchNorm1d(projection_dim // 2),\n",
    "            nn.ReLU(),\n",
    "            nn.Linear(projection_dim // 2, projection_dim)  # ✅ Output fixed to 128\n",
    "        )\n",
    "\n",
    "    def forward(self, x1, x2):\n",
    "        \"\"\" Forward pass for BYOL: Extract, project & predict \"\"\"\n",
    "        z1 = self.encoder(x1).squeeze(-1)  # Extract features\n",
    "        z2 = self.encoder(x2).squeeze(-1)\n",
    "\n",
    "        z1 = self.projector(z1)  # Projection\n",
    "        z2 = self.projector(z2)\n",
    "\n",
    "        p1 = self.predictor(z1)  # Prediction\n",
    "        p2 = self.predictor(z2)\n",
    "\n",
    "        return p1, p2, z1, z2\n",
    "\n",
    "# ✅ Initialize Model\n",
    "device = torch.device(\"cuda\" if torch.cuda.is_available() else \"cpu\")\n",
    "model = BYOL(input_channels=33).to(device)\n"
   ]
  },
  {
   "cell_type": "code",
   "execution_count": 94,
   "metadata": {},
   "outputs": [],
   "source": [
    "# ✅ Define the Negative Cosine Similarity Loss for BYOL\n",
    "def byol_loss(p1, p2, z1, z2):\n",
    "    \"\"\" Negative cosine similarity loss \"\"\"\n",
    "    p1, p2, z1, z2 = map(lambda t: F.normalize(t, dim=-1), [p1, p2, z1, z2])  # Normalize embeddings\n",
    "\n",
    "    # ✅ Debugging - Print Shapes\n",
    "    print(f\"Shapes - p1: {p1.shape}, p2: {p2.shape}, z1: {z1.shape}, z2: {z2.shape}\")\n",
    "\n",
    "    loss = (2 - 2 * (p1 * z2).sum(dim=-1).mean()) + (2 - 2 * (p2 * z1).sum(dim=-1).mean())  # Contrastive loss\n",
    "    return loss\n"
   ]
  },
  {
   "cell_type": "code",
   "execution_count": 95,
   "metadata": {},
   "outputs": [
    {
     "name": "stdout",
     "output_type": "stream",
     "text": [
      "Shapes - p1: torch.Size([8, 128]), p2: torch.Size([8, 128]), z1: torch.Size([8, 128]), z2: torch.Size([8, 128])\n",
      "Shapes - p1: torch.Size([8, 128]), p2: torch.Size([8, 128]), z1: torch.Size([8, 128]), z2: torch.Size([8, 128])\n",
      "Shapes - p1: torch.Size([8, 128]), p2: torch.Size([8, 128]), z1: torch.Size([8, 128]), z2: torch.Size([8, 128])\n",
      "Shapes - p1: torch.Size([8, 128]), p2: torch.Size([8, 128]), z1: torch.Size([8, 128]), z2: torch.Size([8, 128])\n",
      "Shapes - p1: torch.Size([8, 128]), p2: torch.Size([8, 128]), z1: torch.Size([8, 128]), z2: torch.Size([8, 128])\n",
      "Epoch [1/100], Batch [5/55], Loss: 3.2948\n",
      "Shapes - p1: torch.Size([8, 128]), p2: torch.Size([8, 128]), z1: torch.Size([8, 128]), z2: torch.Size([8, 128])\n",
      "Shapes - p1: torch.Size([8, 128]), p2: torch.Size([8, 128]), z1: torch.Size([8, 128]), z2: torch.Size([8, 128])\n",
      "Shapes - p1: torch.Size([8, 128]), p2: torch.Size([8, 128]), z1: torch.Size([8, 128]), z2: torch.Size([8, 128])\n",
      "Shapes - p1: torch.Size([8, 128]), p2: torch.Size([8, 128]), z1: torch.Size([8, 128]), z2: torch.Size([8, 128])\n",
      "Shapes - p1: torch.Size([8, 128]), p2: torch.Size([8, 128]), z1: torch.Size([8, 128]), z2: torch.Size([8, 128])\n",
      "Epoch [1/100], Batch [10/55], Loss: 2.4535\n",
      "Shapes - p1: torch.Size([8, 128]), p2: torch.Size([8, 128]), z1: torch.Size([8, 128]), z2: torch.Size([8, 128])\n",
      "Shapes - p1: torch.Size([8, 128]), p2: torch.Size([8, 128]), z1: torch.Size([8, 128]), z2: torch.Size([8, 128])\n",
      "Shapes - p1: torch.Size([8, 128]), p2: torch.Size([8, 128]), z1: torch.Size([8, 128]), z2: torch.Size([8, 128])\n",
      "Shapes - p1: torch.Size([8, 128]), p2: torch.Size([8, 128]), z1: torch.Size([8, 128]), z2: torch.Size([8, 128])\n",
      "Shapes - p1: torch.Size([8, 128]), p2: torch.Size([8, 128]), z1: torch.Size([8, 128]), z2: torch.Size([8, 128])\n",
      "Epoch [1/100], Batch [15/55], Loss: 2.2072\n",
      "Shapes - p1: torch.Size([8, 128]), p2: torch.Size([8, 128]), z1: torch.Size([8, 128]), z2: torch.Size([8, 128])\n",
      "Shapes - p1: torch.Size([8, 128]), p2: torch.Size([8, 128]), z1: torch.Size([8, 128]), z2: torch.Size([8, 128])\n",
      "Shapes - p1: torch.Size([8, 128]), p2: torch.Size([8, 128]), z1: torch.Size([8, 128]), z2: torch.Size([8, 128])\n",
      "Shapes - p1: torch.Size([8, 128]), p2: torch.Size([8, 128]), z1: torch.Size([8, 128]), z2: torch.Size([8, 128])\n",
      "Shapes - p1: torch.Size([8, 128]), p2: torch.Size([8, 128]), z1: torch.Size([8, 128]), z2: torch.Size([8, 128])\n",
      "Epoch [1/100], Batch [20/55], Loss: 1.3387\n",
      "Shapes - p1: torch.Size([8, 128]), p2: torch.Size([8, 128]), z1: torch.Size([8, 128]), z2: torch.Size([8, 128])\n",
      "Shapes - p1: torch.Size([8, 128]), p2: torch.Size([8, 128]), z1: torch.Size([8, 128]), z2: torch.Size([8, 128])\n",
      "Shapes - p1: torch.Size([8, 128]), p2: torch.Size([8, 128]), z1: torch.Size([8, 128]), z2: torch.Size([8, 128])\n",
      "Shapes - p1: torch.Size([8, 128]), p2: torch.Size([8, 128]), z1: torch.Size([8, 128]), z2: torch.Size([8, 128])\n",
      "Shapes - p1: torch.Size([8, 128]), p2: torch.Size([8, 128]), z1: torch.Size([8, 128]), z2: torch.Size([8, 128])\n",
      "Epoch [1/100], Batch [25/55], Loss: 1.0778\n",
      "Shapes - p1: torch.Size([8, 128]), p2: torch.Size([8, 128]), z1: torch.Size([8, 128]), z2: torch.Size([8, 128])\n",
      "Shapes - p1: torch.Size([8, 128]), p2: torch.Size([8, 128]), z1: torch.Size([8, 128]), z2: torch.Size([8, 128])\n",
      "Shapes - p1: torch.Size([8, 128]), p2: torch.Size([8, 128]), z1: torch.Size([8, 128]), z2: torch.Size([8, 128])\n",
      "Shapes - p1: torch.Size([8, 128]), p2: torch.Size([8, 128]), z1: torch.Size([8, 128]), z2: torch.Size([8, 128])\n",
      "Shapes - p1: torch.Size([8, 128]), p2: torch.Size([8, 128]), z1: torch.Size([8, 128]), z2: torch.Size([8, 128])\n",
      "Epoch [1/100], Batch [30/55], Loss: 0.9187\n",
      "Shapes - p1: torch.Size([8, 128]), p2: torch.Size([8, 128]), z1: torch.Size([8, 128]), z2: torch.Size([8, 128])\n",
      "Shapes - p1: torch.Size([8, 128]), p2: torch.Size([8, 128]), z1: torch.Size([8, 128]), z2: torch.Size([8, 128])\n",
      "Shapes - p1: torch.Size([8, 128]), p2: torch.Size([8, 128]), z1: torch.Size([8, 128]), z2: torch.Size([8, 128])\n",
      "Shapes - p1: torch.Size([8, 128]), p2: torch.Size([8, 128]), z1: torch.Size([8, 128]), z2: torch.Size([8, 128])\n",
      "Shapes - p1: torch.Size([8, 128]), p2: torch.Size([8, 128]), z1: torch.Size([8, 128]), z2: torch.Size([8, 128])\n",
      "Epoch [1/100], Batch [35/55], Loss: 0.6353\n",
      "Shapes - p1: torch.Size([8, 128]), p2: torch.Size([8, 128]), z1: torch.Size([8, 128]), z2: torch.Size([8, 128])\n",
      "Shapes - p1: torch.Size([8, 128]), p2: torch.Size([8, 128]), z1: torch.Size([8, 128]), z2: torch.Size([8, 128])\n",
      "Shapes - p1: torch.Size([8, 128]), p2: torch.Size([8, 128]), z1: torch.Size([8, 128]), z2: torch.Size([8, 128])\n",
      "Shapes - p1: torch.Size([8, 128]), p2: torch.Size([8, 128]), z1: torch.Size([8, 128]), z2: torch.Size([8, 128])\n",
      "Shapes - p1: torch.Size([8, 128]), p2: torch.Size([8, 128]), z1: torch.Size([8, 128]), z2: torch.Size([8, 128])\n",
      "Epoch [1/100], Batch [40/55], Loss: 0.6058\n",
      "Shapes - p1: torch.Size([8, 128]), p2: torch.Size([8, 128]), z1: torch.Size([8, 128]), z2: torch.Size([8, 128])\n",
      "Shapes - p1: torch.Size([8, 128]), p2: torch.Size([8, 128]), z1: torch.Size([8, 128]), z2: torch.Size([8, 128])\n",
      "Shapes - p1: torch.Size([8, 128]), p2: torch.Size([8, 128]), z1: torch.Size([8, 128]), z2: torch.Size([8, 128])\n",
      "Shapes - p1: torch.Size([8, 128]), p2: torch.Size([8, 128]), z1: torch.Size([8, 128]), z2: torch.Size([8, 128])\n",
      "Shapes - p1: torch.Size([8, 128]), p2: torch.Size([8, 128]), z1: torch.Size([8, 128]), z2: torch.Size([8, 128])\n",
      "Epoch [1/100], Batch [45/55], Loss: 0.3388\n",
      "Shapes - p1: torch.Size([8, 128]), p2: torch.Size([8, 128]), z1: torch.Size([8, 128]), z2: torch.Size([8, 128])\n",
      "Shapes - p1: torch.Size([8, 128]), p2: torch.Size([8, 128]), z1: torch.Size([8, 128]), z2: torch.Size([8, 128])\n",
      "Shapes - p1: torch.Size([8, 128]), p2: torch.Size([8, 128]), z1: torch.Size([8, 128]), z2: torch.Size([8, 128])\n",
      "Shapes - p1: torch.Size([8, 128]), p2: torch.Size([8, 128]), z1: torch.Size([8, 128]), z2: torch.Size([8, 128])\n",
      "Shapes - p1: torch.Size([8, 128]), p2: torch.Size([8, 128]), z1: torch.Size([8, 128]), z2: torch.Size([8, 128])\n",
      "Epoch [1/100], Batch [50/55], Loss: 0.3911\n",
      "Shapes - p1: torch.Size([8, 128]), p2: torch.Size([8, 128]), z1: torch.Size([8, 128]), z2: torch.Size([8, 128])\n",
      "Shapes - p1: torch.Size([8, 128]), p2: torch.Size([8, 128]), z1: torch.Size([8, 128]), z2: torch.Size([8, 128])\n",
      "Shapes - p1: torch.Size([8, 128]), p2: torch.Size([8, 128]), z1: torch.Size([8, 128]), z2: torch.Size([8, 128])\n",
      "Shapes - p1: torch.Size([8, 128]), p2: torch.Size([8, 128]), z1: torch.Size([8, 128]), z2: torch.Size([8, 128])\n",
      "Shapes - p1: torch.Size([6, 128]), p2: torch.Size([6, 128]), z1: torch.Size([6, 128]), z2: torch.Size([6, 128])\n",
      "Epoch [1/100], Batch [55/55], Loss: 0.3097\n",
      "✅ Completed Epoch [1/100] | Avg Loss: 1.4509\n",
      "✅ Model Improved & Saved!\n",
      "Shapes - p1: torch.Size([8, 128]), p2: torch.Size([8, 128]), z1: torch.Size([8, 128]), z2: torch.Size([8, 128])\n",
      "Shapes - p1: torch.Size([8, 128]), p2: torch.Size([8, 128]), z1: torch.Size([8, 128]), z2: torch.Size([8, 128])\n",
      "Shapes - p1: torch.Size([8, 128]), p2: torch.Size([8, 128]), z1: torch.Size([8, 128]), z2: torch.Size([8, 128])\n",
      "Shapes - p1: torch.Size([8, 128]), p2: torch.Size([8, 128]), z1: torch.Size([8, 128]), z2: torch.Size([8, 128])\n",
      "Shapes - p1: torch.Size([8, 128]), p2: torch.Size([8, 128]), z1: torch.Size([8, 128]), z2: torch.Size([8, 128])\n",
      "Epoch [2/100], Batch [5/55], Loss: 0.4577\n",
      "Shapes - p1: torch.Size([8, 128]), p2: torch.Size([8, 128]), z1: torch.Size([8, 128]), z2: torch.Size([8, 128])\n",
      "Shapes - p1: torch.Size([8, 128]), p2: torch.Size([8, 128]), z1: torch.Size([8, 128]), z2: torch.Size([8, 128])\n",
      "Shapes - p1: torch.Size([8, 128]), p2: torch.Size([8, 128]), z1: torch.Size([8, 128]), z2: torch.Size([8, 128])\n",
      "Shapes - p1: torch.Size([8, 128]), p2: torch.Size([8, 128]), z1: torch.Size([8, 128]), z2: torch.Size([8, 128])\n",
      "Shapes - p1: torch.Size([8, 128]), p2: torch.Size([8, 128]), z1: torch.Size([8, 128]), z2: torch.Size([8, 128])\n",
      "Epoch [2/100], Batch [10/55], Loss: 0.6836\n",
      "Shapes - p1: torch.Size([8, 128]), p2: torch.Size([8, 128]), z1: torch.Size([8, 128]), z2: torch.Size([8, 128])\n",
      "Shapes - p1: torch.Size([8, 128]), p2: torch.Size([8, 128]), z1: torch.Size([8, 128]), z2: torch.Size([8, 128])\n",
      "Shapes - p1: torch.Size([8, 128]), p2: torch.Size([8, 128]), z1: torch.Size([8, 128]), z2: torch.Size([8, 128])\n",
      "Shapes - p1: torch.Size([8, 128]), p2: torch.Size([8, 128]), z1: torch.Size([8, 128]), z2: torch.Size([8, 128])\n",
      "Shapes - p1: torch.Size([8, 128]), p2: torch.Size([8, 128]), z1: torch.Size([8, 128]), z2: torch.Size([8, 128])\n",
      "Epoch [2/100], Batch [15/55], Loss: 0.0881\n",
      "Shapes - p1: torch.Size([8, 128]), p2: torch.Size([8, 128]), z1: torch.Size([8, 128]), z2: torch.Size([8, 128])\n",
      "Shapes - p1: torch.Size([8, 128]), p2: torch.Size([8, 128]), z1: torch.Size([8, 128]), z2: torch.Size([8, 128])\n",
      "Shapes - p1: torch.Size([8, 128]), p2: torch.Size([8, 128]), z1: torch.Size([8, 128]), z2: torch.Size([8, 128])\n",
      "Shapes - p1: torch.Size([8, 128]), p2: torch.Size([8, 128]), z1: torch.Size([8, 128]), z2: torch.Size([8, 128])\n",
      "Shapes - p1: torch.Size([8, 128]), p2: torch.Size([8, 128]), z1: torch.Size([8, 128]), z2: torch.Size([8, 128])\n",
      "Epoch [2/100], Batch [20/55], Loss: 0.0965\n",
      "Shapes - p1: torch.Size([8, 128]), p2: torch.Size([8, 128]), z1: torch.Size([8, 128]), z2: torch.Size([8, 128])\n",
      "Shapes - p1: torch.Size([8, 128]), p2: torch.Size([8, 128]), z1: torch.Size([8, 128]), z2: torch.Size([8, 128])\n",
      "Shapes - p1: torch.Size([8, 128]), p2: torch.Size([8, 128]), z1: torch.Size([8, 128]), z2: torch.Size([8, 128])\n",
      "Shapes - p1: torch.Size([8, 128]), p2: torch.Size([8, 128]), z1: torch.Size([8, 128]), z2: torch.Size([8, 128])\n",
      "Shapes - p1: torch.Size([8, 128]), p2: torch.Size([8, 128]), z1: torch.Size([8, 128]), z2: torch.Size([8, 128])\n",
      "Epoch [2/100], Batch [25/55], Loss: 0.0902\n",
      "Shapes - p1: torch.Size([8, 128]), p2: torch.Size([8, 128]), z1: torch.Size([8, 128]), z2: torch.Size([8, 128])\n",
      "Shapes - p1: torch.Size([8, 128]), p2: torch.Size([8, 128]), z1: torch.Size([8, 128]), z2: torch.Size([8, 128])\n",
      "Shapes - p1: torch.Size([8, 128]), p2: torch.Size([8, 128]), z1: torch.Size([8, 128]), z2: torch.Size([8, 128])\n",
      "Shapes - p1: torch.Size([8, 128]), p2: torch.Size([8, 128]), z1: torch.Size([8, 128]), z2: torch.Size([8, 128])\n",
      "Shapes - p1: torch.Size([8, 128]), p2: torch.Size([8, 128]), z1: torch.Size([8, 128]), z2: torch.Size([8, 128])\n",
      "Epoch [2/100], Batch [30/55], Loss: 0.1291\n",
      "Shapes - p1: torch.Size([8, 128]), p2: torch.Size([8, 128]), z1: torch.Size([8, 128]), z2: torch.Size([8, 128])\n",
      "Shapes - p1: torch.Size([8, 128]), p2: torch.Size([8, 128]), z1: torch.Size([8, 128]), z2: torch.Size([8, 128])\n",
      "Shapes - p1: torch.Size([8, 128]), p2: torch.Size([8, 128]), z1: torch.Size([8, 128]), z2: torch.Size([8, 128])\n",
      "Shapes - p1: torch.Size([8, 128]), p2: torch.Size([8, 128]), z1: torch.Size([8, 128]), z2: torch.Size([8, 128])\n",
      "Shapes - p1: torch.Size([8, 128]), p2: torch.Size([8, 128]), z1: torch.Size([8, 128]), z2: torch.Size([8, 128])\n",
      "Epoch [2/100], Batch [35/55], Loss: 0.1404\n",
      "Shapes - p1: torch.Size([8, 128]), p2: torch.Size([8, 128]), z1: torch.Size([8, 128]), z2: torch.Size([8, 128])\n",
      "Shapes - p1: torch.Size([8, 128]), p2: torch.Size([8, 128]), z1: torch.Size([8, 128]), z2: torch.Size([8, 128])\n",
      "Shapes - p1: torch.Size([8, 128]), p2: torch.Size([8, 128]), z1: torch.Size([8, 128]), z2: torch.Size([8, 128])\n",
      "Shapes - p1: torch.Size([8, 128]), p2: torch.Size([8, 128]), z1: torch.Size([8, 128]), z2: torch.Size([8, 128])\n",
      "Shapes - p1: torch.Size([8, 128]), p2: torch.Size([8, 128]), z1: torch.Size([8, 128]), z2: torch.Size([8, 128])\n",
      "Epoch [2/100], Batch [40/55], Loss: 0.2442\n",
      "Shapes - p1: torch.Size([8, 128]), p2: torch.Size([8, 128]), z1: torch.Size([8, 128]), z2: torch.Size([8, 128])\n",
      "Shapes - p1: torch.Size([8, 128]), p2: torch.Size([8, 128]), z1: torch.Size([8, 128]), z2: torch.Size([8, 128])\n",
      "Shapes - p1: torch.Size([8, 128]), p2: torch.Size([8, 128]), z1: torch.Size([8, 128]), z2: torch.Size([8, 128])\n",
      "Shapes - p1: torch.Size([8, 128]), p2: torch.Size([8, 128]), z1: torch.Size([8, 128]), z2: torch.Size([8, 128])\n",
      "Shapes - p1: torch.Size([8, 128]), p2: torch.Size([8, 128]), z1: torch.Size([8, 128]), z2: torch.Size([8, 128])\n",
      "Epoch [2/100], Batch [45/55], Loss: 0.0830\n",
      "Shapes - p1: torch.Size([8, 128]), p2: torch.Size([8, 128]), z1: torch.Size([8, 128]), z2: torch.Size([8, 128])\n",
      "Shapes - p1: torch.Size([8, 128]), p2: torch.Size([8, 128]), z1: torch.Size([8, 128]), z2: torch.Size([8, 128])\n",
      "Shapes - p1: torch.Size([8, 128]), p2: torch.Size([8, 128]), z1: torch.Size([8, 128]), z2: torch.Size([8, 128])\n",
      "Shapes - p1: torch.Size([8, 128]), p2: torch.Size([8, 128]), z1: torch.Size([8, 128]), z2: torch.Size([8, 128])\n",
      "Shapes - p1: torch.Size([8, 128]), p2: torch.Size([8, 128]), z1: torch.Size([8, 128]), z2: torch.Size([8, 128])\n",
      "Epoch [2/100], Batch [50/55], Loss: 0.1008\n",
      "Shapes - p1: torch.Size([8, 128]), p2: torch.Size([8, 128]), z1: torch.Size([8, 128]), z2: torch.Size([8, 128])\n",
      "Shapes - p1: torch.Size([8, 128]), p2: torch.Size([8, 128]), z1: torch.Size([8, 128]), z2: torch.Size([8, 128])\n",
      "Shapes - p1: torch.Size([8, 128]), p2: torch.Size([8, 128]), z1: torch.Size([8, 128]), z2: torch.Size([8, 128])\n",
      "Shapes - p1: torch.Size([8, 128]), p2: torch.Size([8, 128]), z1: torch.Size([8, 128]), z2: torch.Size([8, 128])\n",
      "Shapes - p1: torch.Size([6, 128]), p2: torch.Size([6, 128]), z1: torch.Size([6, 128]), z2: torch.Size([6, 128])\n",
      "Epoch [2/100], Batch [55/55], Loss: 0.1611\n",
      "✅ Completed Epoch [2/100] | Avg Loss: 0.2003\n",
      "✅ Model Improved & Saved!\n",
      "Shapes - p1: torch.Size([8, 128]), p2: torch.Size([8, 128]), z1: torch.Size([8, 128]), z2: torch.Size([8, 128])\n",
      "Shapes - p1: torch.Size([8, 128]), p2: torch.Size([8, 128]), z1: torch.Size([8, 128]), z2: torch.Size([8, 128])\n",
      "Shapes - p1: torch.Size([8, 128]), p2: torch.Size([8, 128]), z1: torch.Size([8, 128]), z2: torch.Size([8, 128])\n",
      "Shapes - p1: torch.Size([8, 128]), p2: torch.Size([8, 128]), z1: torch.Size([8, 128]), z2: torch.Size([8, 128])\n",
      "Shapes - p1: torch.Size([8, 128]), p2: torch.Size([8, 128]), z1: torch.Size([8, 128]), z2: torch.Size([8, 128])\n",
      "Epoch [3/100], Batch [5/55], Loss: 0.0425\n",
      "Shapes - p1: torch.Size([8, 128]), p2: torch.Size([8, 128]), z1: torch.Size([8, 128]), z2: torch.Size([8, 128])\n",
      "Shapes - p1: torch.Size([8, 128]), p2: torch.Size([8, 128]), z1: torch.Size([8, 128]), z2: torch.Size([8, 128])\n",
      "Shapes - p1: torch.Size([8, 128]), p2: torch.Size([8, 128]), z1: torch.Size([8, 128]), z2: torch.Size([8, 128])\n",
      "Shapes - p1: torch.Size([8, 128]), p2: torch.Size([8, 128]), z1: torch.Size([8, 128]), z2: torch.Size([8, 128])\n",
      "Shapes - p1: torch.Size([8, 128]), p2: torch.Size([8, 128]), z1: torch.Size([8, 128]), z2: torch.Size([8, 128])\n",
      "Epoch [3/100], Batch [10/55], Loss: 0.0583\n",
      "Shapes - p1: torch.Size([8, 128]), p2: torch.Size([8, 128]), z1: torch.Size([8, 128]), z2: torch.Size([8, 128])\n",
      "Shapes - p1: torch.Size([8, 128]), p2: torch.Size([8, 128]), z1: torch.Size([8, 128]), z2: torch.Size([8, 128])\n",
      "Shapes - p1: torch.Size([8, 128]), p2: torch.Size([8, 128]), z1: torch.Size([8, 128]), z2: torch.Size([8, 128])\n",
      "Shapes - p1: torch.Size([8, 128]), p2: torch.Size([8, 128]), z1: torch.Size([8, 128]), z2: torch.Size([8, 128])\n",
      "Shapes - p1: torch.Size([8, 128]), p2: torch.Size([8, 128]), z1: torch.Size([8, 128]), z2: torch.Size([8, 128])\n",
      "Epoch [3/100], Batch [15/55], Loss: 0.0422\n",
      "Shapes - p1: torch.Size([8, 128]), p2: torch.Size([8, 128]), z1: torch.Size([8, 128]), z2: torch.Size([8, 128])\n",
      "Shapes - p1: torch.Size([8, 128]), p2: torch.Size([8, 128]), z1: torch.Size([8, 128]), z2: torch.Size([8, 128])\n",
      "Shapes - p1: torch.Size([8, 128]), p2: torch.Size([8, 128]), z1: torch.Size([8, 128]), z2: torch.Size([8, 128])\n",
      "Shapes - p1: torch.Size([8, 128]), p2: torch.Size([8, 128]), z1: torch.Size([8, 128]), z2: torch.Size([8, 128])\n",
      "Shapes - p1: torch.Size([8, 128]), p2: torch.Size([8, 128]), z1: torch.Size([8, 128]), z2: torch.Size([8, 128])\n",
      "Epoch [3/100], Batch [20/55], Loss: 0.1506\n",
      "Shapes - p1: torch.Size([8, 128]), p2: torch.Size([8, 128]), z1: torch.Size([8, 128]), z2: torch.Size([8, 128])\n",
      "Shapes - p1: torch.Size([8, 128]), p2: torch.Size([8, 128]), z1: torch.Size([8, 128]), z2: torch.Size([8, 128])\n",
      "Shapes - p1: torch.Size([8, 128]), p2: torch.Size([8, 128]), z1: torch.Size([8, 128]), z2: torch.Size([8, 128])\n",
      "Shapes - p1: torch.Size([8, 128]), p2: torch.Size([8, 128]), z1: torch.Size([8, 128]), z2: torch.Size([8, 128])\n",
      "Shapes - p1: torch.Size([8, 128]), p2: torch.Size([8, 128]), z1: torch.Size([8, 128]), z2: torch.Size([8, 128])\n",
      "Epoch [3/100], Batch [25/55], Loss: 0.0396\n",
      "Shapes - p1: torch.Size([8, 128]), p2: torch.Size([8, 128]), z1: torch.Size([8, 128]), z2: torch.Size([8, 128])\n",
      "Shapes - p1: torch.Size([8, 128]), p2: torch.Size([8, 128]), z1: torch.Size([8, 128]), z2: torch.Size([8, 128])\n",
      "Shapes - p1: torch.Size([8, 128]), p2: torch.Size([8, 128]), z1: torch.Size([8, 128]), z2: torch.Size([8, 128])\n",
      "Shapes - p1: torch.Size([8, 128]), p2: torch.Size([8, 128]), z1: torch.Size([8, 128]), z2: torch.Size([8, 128])\n",
      "Shapes - p1: torch.Size([8, 128]), p2: torch.Size([8, 128]), z1: torch.Size([8, 128]), z2: torch.Size([8, 128])\n",
      "Epoch [3/100], Batch [30/55], Loss: 0.2772\n",
      "Shapes - p1: torch.Size([8, 128]), p2: torch.Size([8, 128]), z1: torch.Size([8, 128]), z2: torch.Size([8, 128])\n",
      "Shapes - p1: torch.Size([8, 128]), p2: torch.Size([8, 128]), z1: torch.Size([8, 128]), z2: torch.Size([8, 128])\n",
      "Shapes - p1: torch.Size([8, 128]), p2: torch.Size([8, 128]), z1: torch.Size([8, 128]), z2: torch.Size([8, 128])\n",
      "Shapes - p1: torch.Size([8, 128]), p2: torch.Size([8, 128]), z1: torch.Size([8, 128]), z2: torch.Size([8, 128])\n",
      "Shapes - p1: torch.Size([8, 128]), p2: torch.Size([8, 128]), z1: torch.Size([8, 128]), z2: torch.Size([8, 128])\n",
      "Epoch [3/100], Batch [35/55], Loss: 0.0740\n",
      "Shapes - p1: torch.Size([8, 128]), p2: torch.Size([8, 128]), z1: torch.Size([8, 128]), z2: torch.Size([8, 128])\n",
      "Shapes - p1: torch.Size([8, 128]), p2: torch.Size([8, 128]), z1: torch.Size([8, 128]), z2: torch.Size([8, 128])\n",
      "Shapes - p1: torch.Size([8, 128]), p2: torch.Size([8, 128]), z1: torch.Size([8, 128]), z2: torch.Size([8, 128])\n",
      "Shapes - p1: torch.Size([8, 128]), p2: torch.Size([8, 128]), z1: torch.Size([8, 128]), z2: torch.Size([8, 128])\n",
      "Shapes - p1: torch.Size([8, 128]), p2: torch.Size([8, 128]), z1: torch.Size([8, 128]), z2: torch.Size([8, 128])\n",
      "Epoch [3/100], Batch [40/55], Loss: 0.0229\n",
      "Shapes - p1: torch.Size([8, 128]), p2: torch.Size([8, 128]), z1: torch.Size([8, 128]), z2: torch.Size([8, 128])\n",
      "Shapes - p1: torch.Size([8, 128]), p2: torch.Size([8, 128]), z1: torch.Size([8, 128]), z2: torch.Size([8, 128])\n",
      "Shapes - p1: torch.Size([8, 128]), p2: torch.Size([8, 128]), z1: torch.Size([8, 128]), z2: torch.Size([8, 128])\n",
      "Shapes - p1: torch.Size([8, 128]), p2: torch.Size([8, 128]), z1: torch.Size([8, 128]), z2: torch.Size([8, 128])\n",
      "Shapes - p1: torch.Size([8, 128]), p2: torch.Size([8, 128]), z1: torch.Size([8, 128]), z2: torch.Size([8, 128])\n",
      "Epoch [3/100], Batch [45/55], Loss: 0.0243\n",
      "Shapes - p1: torch.Size([8, 128]), p2: torch.Size([8, 128]), z1: torch.Size([8, 128]), z2: torch.Size([8, 128])\n",
      "Shapes - p1: torch.Size([8, 128]), p2: torch.Size([8, 128]), z1: torch.Size([8, 128]), z2: torch.Size([8, 128])\n",
      "Shapes - p1: torch.Size([8, 128]), p2: torch.Size([8, 128]), z1: torch.Size([8, 128]), z2: torch.Size([8, 128])\n",
      "Shapes - p1: torch.Size([8, 128]), p2: torch.Size([8, 128]), z1: torch.Size([8, 128]), z2: torch.Size([8, 128])\n",
      "Shapes - p1: torch.Size([8, 128]), p2: torch.Size([8, 128]), z1: torch.Size([8, 128]), z2: torch.Size([8, 128])\n",
      "Epoch [3/100], Batch [50/55], Loss: 0.0404\n",
      "Shapes - p1: torch.Size([8, 128]), p2: torch.Size([8, 128]), z1: torch.Size([8, 128]), z2: torch.Size([8, 128])\n",
      "Shapes - p1: torch.Size([8, 128]), p2: torch.Size([8, 128]), z1: torch.Size([8, 128]), z2: torch.Size([8, 128])\n",
      "Shapes - p1: torch.Size([8, 128]), p2: torch.Size([8, 128]), z1: torch.Size([8, 128]), z2: torch.Size([8, 128])\n",
      "Shapes - p1: torch.Size([8, 128]), p2: torch.Size([8, 128]), z1: torch.Size([8, 128]), z2: torch.Size([8, 128])\n",
      "Shapes - p1: torch.Size([6, 128]), p2: torch.Size([6, 128]), z1: torch.Size([6, 128]), z2: torch.Size([6, 128])\n",
      "Epoch [3/100], Batch [55/55], Loss: 0.0849\n",
      "✅ Completed Epoch [3/100] | Avg Loss: 0.0826\n",
      "✅ Model Improved & Saved!\n",
      "Shapes - p1: torch.Size([8, 128]), p2: torch.Size([8, 128]), z1: torch.Size([8, 128]), z2: torch.Size([8, 128])\n",
      "Shapes - p1: torch.Size([8, 128]), p2: torch.Size([8, 128]), z1: torch.Size([8, 128]), z2: torch.Size([8, 128])\n",
      "Shapes - p1: torch.Size([8, 128]), p2: torch.Size([8, 128]), z1: torch.Size([8, 128]), z2: torch.Size([8, 128])\n",
      "Shapes - p1: torch.Size([8, 128]), p2: torch.Size([8, 128]), z1: torch.Size([8, 128]), z2: torch.Size([8, 128])\n",
      "Shapes - p1: torch.Size([8, 128]), p2: torch.Size([8, 128]), z1: torch.Size([8, 128]), z2: torch.Size([8, 128])\n",
      "Epoch [4/100], Batch [5/55], Loss: 0.0727\n",
      "Shapes - p1: torch.Size([8, 128]), p2: torch.Size([8, 128]), z1: torch.Size([8, 128]), z2: torch.Size([8, 128])\n",
      "Shapes - p1: torch.Size([8, 128]), p2: torch.Size([8, 128]), z1: torch.Size([8, 128]), z2: torch.Size([8, 128])\n",
      "Shapes - p1: torch.Size([8, 128]), p2: torch.Size([8, 128]), z1: torch.Size([8, 128]), z2: torch.Size([8, 128])\n",
      "Shapes - p1: torch.Size([8, 128]), p2: torch.Size([8, 128]), z1: torch.Size([8, 128]), z2: torch.Size([8, 128])\n",
      "Shapes - p1: torch.Size([8, 128]), p2: torch.Size([8, 128]), z1: torch.Size([8, 128]), z2: torch.Size([8, 128])\n",
      "Epoch [4/100], Batch [10/55], Loss: 0.0219\n",
      "Shapes - p1: torch.Size([8, 128]), p2: torch.Size([8, 128]), z1: torch.Size([8, 128]), z2: torch.Size([8, 128])\n",
      "Shapes - p1: torch.Size([8, 128]), p2: torch.Size([8, 128]), z1: torch.Size([8, 128]), z2: torch.Size([8, 128])\n",
      "Shapes - p1: torch.Size([8, 128]), p2: torch.Size([8, 128]), z1: torch.Size([8, 128]), z2: torch.Size([8, 128])\n",
      "Shapes - p1: torch.Size([8, 128]), p2: torch.Size([8, 128]), z1: torch.Size([8, 128]), z2: torch.Size([8, 128])\n",
      "Shapes - p1: torch.Size([8, 128]), p2: torch.Size([8, 128]), z1: torch.Size([8, 128]), z2: torch.Size([8, 128])\n",
      "Epoch [4/100], Batch [15/55], Loss: 0.0325\n",
      "Shapes - p1: torch.Size([8, 128]), p2: torch.Size([8, 128]), z1: torch.Size([8, 128]), z2: torch.Size([8, 128])\n",
      "Shapes - p1: torch.Size([8, 128]), p2: torch.Size([8, 128]), z1: torch.Size([8, 128]), z2: torch.Size([8, 128])\n",
      "Shapes - p1: torch.Size([8, 128]), p2: torch.Size([8, 128]), z1: torch.Size([8, 128]), z2: torch.Size([8, 128])\n",
      "Shapes - p1: torch.Size([8, 128]), p2: torch.Size([8, 128]), z1: torch.Size([8, 128]), z2: torch.Size([8, 128])\n",
      "Shapes - p1: torch.Size([8, 128]), p2: torch.Size([8, 128]), z1: torch.Size([8, 128]), z2: torch.Size([8, 128])\n",
      "Epoch [4/100], Batch [20/55], Loss: 0.1168\n",
      "Shapes - p1: torch.Size([8, 128]), p2: torch.Size([8, 128]), z1: torch.Size([8, 128]), z2: torch.Size([8, 128])\n",
      "Shapes - p1: torch.Size([8, 128]), p2: torch.Size([8, 128]), z1: torch.Size([8, 128]), z2: torch.Size([8, 128])\n",
      "Shapes - p1: torch.Size([8, 128]), p2: torch.Size([8, 128]), z1: torch.Size([8, 128]), z2: torch.Size([8, 128])\n",
      "Shapes - p1: torch.Size([8, 128]), p2: torch.Size([8, 128]), z1: torch.Size([8, 128]), z2: torch.Size([8, 128])\n",
      "Shapes - p1: torch.Size([8, 128]), p2: torch.Size([8, 128]), z1: torch.Size([8, 128]), z2: torch.Size([8, 128])\n",
      "Epoch [4/100], Batch [25/55], Loss: 0.0488\n",
      "Shapes - p1: torch.Size([8, 128]), p2: torch.Size([8, 128]), z1: torch.Size([8, 128]), z2: torch.Size([8, 128])\n",
      "Shapes - p1: torch.Size([8, 128]), p2: torch.Size([8, 128]), z1: torch.Size([8, 128]), z2: torch.Size([8, 128])\n",
      "Shapes - p1: torch.Size([8, 128]), p2: torch.Size([8, 128]), z1: torch.Size([8, 128]), z2: torch.Size([8, 128])\n",
      "Shapes - p1: torch.Size([8, 128]), p2: torch.Size([8, 128]), z1: torch.Size([8, 128]), z2: torch.Size([8, 128])\n",
      "Shapes - p1: torch.Size([8, 128]), p2: torch.Size([8, 128]), z1: torch.Size([8, 128]), z2: torch.Size([8, 128])\n",
      "Epoch [4/100], Batch [30/55], Loss: 0.0297\n",
      "Shapes - p1: torch.Size([8, 128]), p2: torch.Size([8, 128]), z1: torch.Size([8, 128]), z2: torch.Size([8, 128])\n",
      "Shapes - p1: torch.Size([8, 128]), p2: torch.Size([8, 128]), z1: torch.Size([8, 128]), z2: torch.Size([8, 128])\n",
      "Shapes - p1: torch.Size([8, 128]), p2: torch.Size([8, 128]), z1: torch.Size([8, 128]), z2: torch.Size([8, 128])\n",
      "Shapes - p1: torch.Size([8, 128]), p2: torch.Size([8, 128]), z1: torch.Size([8, 128]), z2: torch.Size([8, 128])\n",
      "Shapes - p1: torch.Size([8, 128]), p2: torch.Size([8, 128]), z1: torch.Size([8, 128]), z2: torch.Size([8, 128])\n",
      "Epoch [4/100], Batch [35/55], Loss: 0.1202\n",
      "Shapes - p1: torch.Size([8, 128]), p2: torch.Size([8, 128]), z1: torch.Size([8, 128]), z2: torch.Size([8, 128])\n",
      "Shapes - p1: torch.Size([8, 128]), p2: torch.Size([8, 128]), z1: torch.Size([8, 128]), z2: torch.Size([8, 128])\n",
      "Shapes - p1: torch.Size([8, 128]), p2: torch.Size([8, 128]), z1: torch.Size([8, 128]), z2: torch.Size([8, 128])\n",
      "Shapes - p1: torch.Size([8, 128]), p2: torch.Size([8, 128]), z1: torch.Size([8, 128]), z2: torch.Size([8, 128])\n",
      "Shapes - p1: torch.Size([8, 128]), p2: torch.Size([8, 128]), z1: torch.Size([8, 128]), z2: torch.Size([8, 128])\n",
      "Epoch [4/100], Batch [40/55], Loss: 0.0356\n",
      "Shapes - p1: torch.Size([8, 128]), p2: torch.Size([8, 128]), z1: torch.Size([8, 128]), z2: torch.Size([8, 128])\n",
      "Shapes - p1: torch.Size([8, 128]), p2: torch.Size([8, 128]), z1: torch.Size([8, 128]), z2: torch.Size([8, 128])\n",
      "Shapes - p1: torch.Size([8, 128]), p2: torch.Size([8, 128]), z1: torch.Size([8, 128]), z2: torch.Size([8, 128])\n",
      "Shapes - p1: torch.Size([8, 128]), p2: torch.Size([8, 128]), z1: torch.Size([8, 128]), z2: torch.Size([8, 128])\n",
      "Shapes - p1: torch.Size([8, 128]), p2: torch.Size([8, 128]), z1: torch.Size([8, 128]), z2: torch.Size([8, 128])\n",
      "Epoch [4/100], Batch [45/55], Loss: 0.0309\n",
      "Shapes - p1: torch.Size([8, 128]), p2: torch.Size([8, 128]), z1: torch.Size([8, 128]), z2: torch.Size([8, 128])\n",
      "Shapes - p1: torch.Size([8, 128]), p2: torch.Size([8, 128]), z1: torch.Size([8, 128]), z2: torch.Size([8, 128])\n",
      "Shapes - p1: torch.Size([8, 128]), p2: torch.Size([8, 128]), z1: torch.Size([8, 128]), z2: torch.Size([8, 128])\n",
      "Shapes - p1: torch.Size([8, 128]), p2: torch.Size([8, 128]), z1: torch.Size([8, 128]), z2: torch.Size([8, 128])\n",
      "Shapes - p1: torch.Size([8, 128]), p2: torch.Size([8, 128]), z1: torch.Size([8, 128]), z2: torch.Size([8, 128])\n",
      "Epoch [4/100], Batch [50/55], Loss: 0.0325\n",
      "Shapes - p1: torch.Size([8, 128]), p2: torch.Size([8, 128]), z1: torch.Size([8, 128]), z2: torch.Size([8, 128])\n",
      "Shapes - p1: torch.Size([8, 128]), p2: torch.Size([8, 128]), z1: torch.Size([8, 128]), z2: torch.Size([8, 128])\n",
      "Shapes - p1: torch.Size([8, 128]), p2: torch.Size([8, 128]), z1: torch.Size([8, 128]), z2: torch.Size([8, 128])\n",
      "Shapes - p1: torch.Size([8, 128]), p2: torch.Size([8, 128]), z1: torch.Size([8, 128]), z2: torch.Size([8, 128])\n",
      "Shapes - p1: torch.Size([6, 128]), p2: torch.Size([6, 128]), z1: torch.Size([6, 128]), z2: torch.Size([6, 128])\n",
      "Epoch [4/100], Batch [55/55], Loss: 0.0270\n",
      "✅ Completed Epoch [4/100] | Avg Loss: 0.0477\n",
      "✅ Model Improved & Saved!\n",
      "Shapes - p1: torch.Size([8, 128]), p2: torch.Size([8, 128]), z1: torch.Size([8, 128]), z2: torch.Size([8, 128])\n",
      "Shapes - p1: torch.Size([8, 128]), p2: torch.Size([8, 128]), z1: torch.Size([8, 128]), z2: torch.Size([8, 128])\n",
      "Shapes - p1: torch.Size([8, 128]), p2: torch.Size([8, 128]), z1: torch.Size([8, 128]), z2: torch.Size([8, 128])\n",
      "Shapes - p1: torch.Size([8, 128]), p2: torch.Size([8, 128]), z1: torch.Size([8, 128]), z2: torch.Size([8, 128])\n",
      "Shapes - p1: torch.Size([8, 128]), p2: torch.Size([8, 128]), z1: torch.Size([8, 128]), z2: torch.Size([8, 128])\n",
      "Epoch [5/100], Batch [5/55], Loss: 0.0142\n",
      "Shapes - p1: torch.Size([8, 128]), p2: torch.Size([8, 128]), z1: torch.Size([8, 128]), z2: torch.Size([8, 128])\n",
      "Shapes - p1: torch.Size([8, 128]), p2: torch.Size([8, 128]), z1: torch.Size([8, 128]), z2: torch.Size([8, 128])\n",
      "Shapes - p1: torch.Size([8, 128]), p2: torch.Size([8, 128]), z1: torch.Size([8, 128]), z2: torch.Size([8, 128])\n",
      "Shapes - p1: torch.Size([8, 128]), p2: torch.Size([8, 128]), z1: torch.Size([8, 128]), z2: torch.Size([8, 128])\n",
      "Shapes - p1: torch.Size([8, 128]), p2: torch.Size([8, 128]), z1: torch.Size([8, 128]), z2: torch.Size([8, 128])\n",
      "Epoch [5/100], Batch [10/55], Loss: 0.0241\n",
      "Shapes - p1: torch.Size([8, 128]), p2: torch.Size([8, 128]), z1: torch.Size([8, 128]), z2: torch.Size([8, 128])\n",
      "Shapes - p1: torch.Size([8, 128]), p2: torch.Size([8, 128]), z1: torch.Size([8, 128]), z2: torch.Size([8, 128])\n",
      "Shapes - p1: torch.Size([8, 128]), p2: torch.Size([8, 128]), z1: torch.Size([8, 128]), z2: torch.Size([8, 128])\n",
      "Shapes - p1: torch.Size([8, 128]), p2: torch.Size([8, 128]), z1: torch.Size([8, 128]), z2: torch.Size([8, 128])\n",
      "Shapes - p1: torch.Size([8, 128]), p2: torch.Size([8, 128]), z1: torch.Size([8, 128]), z2: torch.Size([8, 128])\n",
      "Epoch [5/100], Batch [15/55], Loss: 0.0256\n",
      "Shapes - p1: torch.Size([8, 128]), p2: torch.Size([8, 128]), z1: torch.Size([8, 128]), z2: torch.Size([8, 128])\n",
      "Shapes - p1: torch.Size([8, 128]), p2: torch.Size([8, 128]), z1: torch.Size([8, 128]), z2: torch.Size([8, 128])\n",
      "Shapes - p1: torch.Size([8, 128]), p2: torch.Size([8, 128]), z1: torch.Size([8, 128]), z2: torch.Size([8, 128])\n",
      "Shapes - p1: torch.Size([8, 128]), p2: torch.Size([8, 128]), z1: torch.Size([8, 128]), z2: torch.Size([8, 128])\n",
      "Shapes - p1: torch.Size([8, 128]), p2: torch.Size([8, 128]), z1: torch.Size([8, 128]), z2: torch.Size([8, 128])\n",
      "Epoch [5/100], Batch [20/55], Loss: 0.0177\n",
      "Shapes - p1: torch.Size([8, 128]), p2: torch.Size([8, 128]), z1: torch.Size([8, 128]), z2: torch.Size([8, 128])\n",
      "Shapes - p1: torch.Size([8, 128]), p2: torch.Size([8, 128]), z1: torch.Size([8, 128]), z2: torch.Size([8, 128])\n",
      "Shapes - p1: torch.Size([8, 128]), p2: torch.Size([8, 128]), z1: torch.Size([8, 128]), z2: torch.Size([8, 128])\n",
      "Shapes - p1: torch.Size([8, 128]), p2: torch.Size([8, 128]), z1: torch.Size([8, 128]), z2: torch.Size([8, 128])\n",
      "Shapes - p1: torch.Size([8, 128]), p2: torch.Size([8, 128]), z1: torch.Size([8, 128]), z2: torch.Size([8, 128])\n",
      "Epoch [5/100], Batch [25/55], Loss: 0.0128\n",
      "Shapes - p1: torch.Size([8, 128]), p2: torch.Size([8, 128]), z1: torch.Size([8, 128]), z2: torch.Size([8, 128])\n",
      "Shapes - p1: torch.Size([8, 128]), p2: torch.Size([8, 128]), z1: torch.Size([8, 128]), z2: torch.Size([8, 128])\n",
      "Shapes - p1: torch.Size([8, 128]), p2: torch.Size([8, 128]), z1: torch.Size([8, 128]), z2: torch.Size([8, 128])\n",
      "Shapes - p1: torch.Size([8, 128]), p2: torch.Size([8, 128]), z1: torch.Size([8, 128]), z2: torch.Size([8, 128])\n",
      "Shapes - p1: torch.Size([8, 128]), p2: torch.Size([8, 128]), z1: torch.Size([8, 128]), z2: torch.Size([8, 128])\n",
      "Epoch [5/100], Batch [30/55], Loss: 0.0260\n",
      "Shapes - p1: torch.Size([8, 128]), p2: torch.Size([8, 128]), z1: torch.Size([8, 128]), z2: torch.Size([8, 128])\n",
      "Shapes - p1: torch.Size([8, 128]), p2: torch.Size([8, 128]), z1: torch.Size([8, 128]), z2: torch.Size([8, 128])\n",
      "Shapes - p1: torch.Size([8, 128]), p2: torch.Size([8, 128]), z1: torch.Size([8, 128]), z2: torch.Size([8, 128])\n",
      "Shapes - p1: torch.Size([8, 128]), p2: torch.Size([8, 128]), z1: torch.Size([8, 128]), z2: torch.Size([8, 128])\n",
      "Shapes - p1: torch.Size([8, 128]), p2: torch.Size([8, 128]), z1: torch.Size([8, 128]), z2: torch.Size([8, 128])\n",
      "Epoch [5/100], Batch [35/55], Loss: 0.0881\n",
      "Shapes - p1: torch.Size([8, 128]), p2: torch.Size([8, 128]), z1: torch.Size([8, 128]), z2: torch.Size([8, 128])\n",
      "Shapes - p1: torch.Size([8, 128]), p2: torch.Size([8, 128]), z1: torch.Size([8, 128]), z2: torch.Size([8, 128])\n",
      "Shapes - p1: torch.Size([8, 128]), p2: torch.Size([8, 128]), z1: torch.Size([8, 128]), z2: torch.Size([8, 128])\n",
      "Shapes - p1: torch.Size([8, 128]), p2: torch.Size([8, 128]), z1: torch.Size([8, 128]), z2: torch.Size([8, 128])\n",
      "Shapes - p1: torch.Size([8, 128]), p2: torch.Size([8, 128]), z1: torch.Size([8, 128]), z2: torch.Size([8, 128])\n",
      "Epoch [5/100], Batch [40/55], Loss: 0.0281\n",
      "Shapes - p1: torch.Size([8, 128]), p2: torch.Size([8, 128]), z1: torch.Size([8, 128]), z2: torch.Size([8, 128])\n",
      "Shapes - p1: torch.Size([8, 128]), p2: torch.Size([8, 128]), z1: torch.Size([8, 128]), z2: torch.Size([8, 128])\n",
      "Shapes - p1: torch.Size([8, 128]), p2: torch.Size([8, 128]), z1: torch.Size([8, 128]), z2: torch.Size([8, 128])\n",
      "Shapes - p1: torch.Size([8, 128]), p2: torch.Size([8, 128]), z1: torch.Size([8, 128]), z2: torch.Size([8, 128])\n",
      "Shapes - p1: torch.Size([8, 128]), p2: torch.Size([8, 128]), z1: torch.Size([8, 128]), z2: torch.Size([8, 128])\n",
      "Epoch [5/100], Batch [45/55], Loss: 0.0571\n",
      "Shapes - p1: torch.Size([8, 128]), p2: torch.Size([8, 128]), z1: torch.Size([8, 128]), z2: torch.Size([8, 128])\n",
      "Shapes - p1: torch.Size([8, 128]), p2: torch.Size([8, 128]), z1: torch.Size([8, 128]), z2: torch.Size([8, 128])\n",
      "Shapes - p1: torch.Size([8, 128]), p2: torch.Size([8, 128]), z1: torch.Size([8, 128]), z2: torch.Size([8, 128])\n",
      "Shapes - p1: torch.Size([8, 128]), p2: torch.Size([8, 128]), z1: torch.Size([8, 128]), z2: torch.Size([8, 128])\n",
      "Shapes - p1: torch.Size([8, 128]), p2: torch.Size([8, 128]), z1: torch.Size([8, 128]), z2: torch.Size([8, 128])\n",
      "Epoch [5/100], Batch [50/55], Loss: 0.0102\n",
      "Shapes - p1: torch.Size([8, 128]), p2: torch.Size([8, 128]), z1: torch.Size([8, 128]), z2: torch.Size([8, 128])\n",
      "Shapes - p1: torch.Size([8, 128]), p2: torch.Size([8, 128]), z1: torch.Size([8, 128]), z2: torch.Size([8, 128])\n",
      "Shapes - p1: torch.Size([8, 128]), p2: torch.Size([8, 128]), z1: torch.Size([8, 128]), z2: torch.Size([8, 128])\n",
      "Shapes - p1: torch.Size([8, 128]), p2: torch.Size([8, 128]), z1: torch.Size([8, 128]), z2: torch.Size([8, 128])\n",
      "Shapes - p1: torch.Size([6, 128]), p2: torch.Size([6, 128]), z1: torch.Size([6, 128]), z2: torch.Size([6, 128])\n",
      "Epoch [5/100], Batch [55/55], Loss: 0.0278\n",
      "✅ Completed Epoch [5/100] | Avg Loss: 0.0354\n",
      "✅ Model Improved & Saved!\n",
      "Shapes - p1: torch.Size([8, 128]), p2: torch.Size([8, 128]), z1: torch.Size([8, 128]), z2: torch.Size([8, 128])\n",
      "Shapes - p1: torch.Size([8, 128]), p2: torch.Size([8, 128]), z1: torch.Size([8, 128]), z2: torch.Size([8, 128])\n",
      "Shapes - p1: torch.Size([8, 128]), p2: torch.Size([8, 128]), z1: torch.Size([8, 128]), z2: torch.Size([8, 128])\n",
      "Shapes - p1: torch.Size([8, 128]), p2: torch.Size([8, 128]), z1: torch.Size([8, 128]), z2: torch.Size([8, 128])\n",
      "Shapes - p1: torch.Size([8, 128]), p2: torch.Size([8, 128]), z1: torch.Size([8, 128]), z2: torch.Size([8, 128])\n",
      "Epoch [6/100], Batch [5/55], Loss: 0.0145\n",
      "Shapes - p1: torch.Size([8, 128]), p2: torch.Size([8, 128]), z1: torch.Size([8, 128]), z2: torch.Size([8, 128])\n",
      "Shapes - p1: torch.Size([8, 128]), p2: torch.Size([8, 128]), z1: torch.Size([8, 128]), z2: torch.Size([8, 128])\n",
      "Shapes - p1: torch.Size([8, 128]), p2: torch.Size([8, 128]), z1: torch.Size([8, 128]), z2: torch.Size([8, 128])\n",
      "Shapes - p1: torch.Size([8, 128]), p2: torch.Size([8, 128]), z1: torch.Size([8, 128]), z2: torch.Size([8, 128])\n",
      "Shapes - p1: torch.Size([8, 128]), p2: torch.Size([8, 128]), z1: torch.Size([8, 128]), z2: torch.Size([8, 128])\n",
      "Epoch [6/100], Batch [10/55], Loss: 0.0073\n",
      "Shapes - p1: torch.Size([8, 128]), p2: torch.Size([8, 128]), z1: torch.Size([8, 128]), z2: torch.Size([8, 128])\n",
      "Shapes - p1: torch.Size([8, 128]), p2: torch.Size([8, 128]), z1: torch.Size([8, 128]), z2: torch.Size([8, 128])\n",
      "Shapes - p1: torch.Size([8, 128]), p2: torch.Size([8, 128]), z1: torch.Size([8, 128]), z2: torch.Size([8, 128])\n",
      "Shapes - p1: torch.Size([8, 128]), p2: torch.Size([8, 128]), z1: torch.Size([8, 128]), z2: torch.Size([8, 128])\n",
      "Shapes - p1: torch.Size([8, 128]), p2: torch.Size([8, 128]), z1: torch.Size([8, 128]), z2: torch.Size([8, 128])\n",
      "Epoch [6/100], Batch [15/55], Loss: 0.0187\n",
      "Shapes - p1: torch.Size([8, 128]), p2: torch.Size([8, 128]), z1: torch.Size([8, 128]), z2: torch.Size([8, 128])\n",
      "Shapes - p1: torch.Size([8, 128]), p2: torch.Size([8, 128]), z1: torch.Size([8, 128]), z2: torch.Size([8, 128])\n",
      "Shapes - p1: torch.Size([8, 128]), p2: torch.Size([8, 128]), z1: torch.Size([8, 128]), z2: torch.Size([8, 128])\n",
      "Shapes - p1: torch.Size([8, 128]), p2: torch.Size([8, 128]), z1: torch.Size([8, 128]), z2: torch.Size([8, 128])\n",
      "Shapes - p1: torch.Size([8, 128]), p2: torch.Size([8, 128]), z1: torch.Size([8, 128]), z2: torch.Size([8, 128])\n",
      "Epoch [6/100], Batch [20/55], Loss: 0.0268\n",
      "Shapes - p1: torch.Size([8, 128]), p2: torch.Size([8, 128]), z1: torch.Size([8, 128]), z2: torch.Size([8, 128])\n",
      "Shapes - p1: torch.Size([8, 128]), p2: torch.Size([8, 128]), z1: torch.Size([8, 128]), z2: torch.Size([8, 128])\n",
      "Shapes - p1: torch.Size([8, 128]), p2: torch.Size([8, 128]), z1: torch.Size([8, 128]), z2: torch.Size([8, 128])\n",
      "Shapes - p1: torch.Size([8, 128]), p2: torch.Size([8, 128]), z1: torch.Size([8, 128]), z2: torch.Size([8, 128])\n",
      "Shapes - p1: torch.Size([8, 128]), p2: torch.Size([8, 128]), z1: torch.Size([8, 128]), z2: torch.Size([8, 128])\n",
      "Epoch [6/100], Batch [25/55], Loss: 0.0211\n",
      "Shapes - p1: torch.Size([8, 128]), p2: torch.Size([8, 128]), z1: torch.Size([8, 128]), z2: torch.Size([8, 128])\n",
      "Shapes - p1: torch.Size([8, 128]), p2: torch.Size([8, 128]), z1: torch.Size([8, 128]), z2: torch.Size([8, 128])\n",
      "Shapes - p1: torch.Size([8, 128]), p2: torch.Size([8, 128]), z1: torch.Size([8, 128]), z2: torch.Size([8, 128])\n",
      "Shapes - p1: torch.Size([8, 128]), p2: torch.Size([8, 128]), z1: torch.Size([8, 128]), z2: torch.Size([8, 128])\n",
      "Shapes - p1: torch.Size([8, 128]), p2: torch.Size([8, 128]), z1: torch.Size([8, 128]), z2: torch.Size([8, 128])\n",
      "Epoch [6/100], Batch [30/55], Loss: 0.0576\n",
      "Shapes - p1: torch.Size([8, 128]), p2: torch.Size([8, 128]), z1: torch.Size([8, 128]), z2: torch.Size([8, 128])\n",
      "Shapes - p1: torch.Size([8, 128]), p2: torch.Size([8, 128]), z1: torch.Size([8, 128]), z2: torch.Size([8, 128])\n",
      "Shapes - p1: torch.Size([8, 128]), p2: torch.Size([8, 128]), z1: torch.Size([8, 128]), z2: torch.Size([8, 128])\n",
      "Shapes - p1: torch.Size([8, 128]), p2: torch.Size([8, 128]), z1: torch.Size([8, 128]), z2: torch.Size([8, 128])\n",
      "Shapes - p1: torch.Size([8, 128]), p2: torch.Size([8, 128]), z1: torch.Size([8, 128]), z2: torch.Size([8, 128])\n",
      "Epoch [6/100], Batch [35/55], Loss: 0.0104\n",
      "Shapes - p1: torch.Size([8, 128]), p2: torch.Size([8, 128]), z1: torch.Size([8, 128]), z2: torch.Size([8, 128])\n",
      "Shapes - p1: torch.Size([8, 128]), p2: torch.Size([8, 128]), z1: torch.Size([8, 128]), z2: torch.Size([8, 128])\n",
      "Shapes - p1: torch.Size([8, 128]), p2: torch.Size([8, 128]), z1: torch.Size([8, 128]), z2: torch.Size([8, 128])\n",
      "Shapes - p1: torch.Size([8, 128]), p2: torch.Size([8, 128]), z1: torch.Size([8, 128]), z2: torch.Size([8, 128])\n",
      "Shapes - p1: torch.Size([8, 128]), p2: torch.Size([8, 128]), z1: torch.Size([8, 128]), z2: torch.Size([8, 128])\n",
      "Epoch [6/100], Batch [40/55], Loss: 0.0089\n",
      "Shapes - p1: torch.Size([8, 128]), p2: torch.Size([8, 128]), z1: torch.Size([8, 128]), z2: torch.Size([8, 128])\n",
      "Shapes - p1: torch.Size([8, 128]), p2: torch.Size([8, 128]), z1: torch.Size([8, 128]), z2: torch.Size([8, 128])\n",
      "Shapes - p1: torch.Size([8, 128]), p2: torch.Size([8, 128]), z1: torch.Size([8, 128]), z2: torch.Size([8, 128])\n",
      "Shapes - p1: torch.Size([8, 128]), p2: torch.Size([8, 128]), z1: torch.Size([8, 128]), z2: torch.Size([8, 128])\n",
      "Shapes - p1: torch.Size([8, 128]), p2: torch.Size([8, 128]), z1: torch.Size([8, 128]), z2: torch.Size([8, 128])\n",
      "Epoch [6/100], Batch [45/55], Loss: 0.0075\n",
      "Shapes - p1: torch.Size([8, 128]), p2: torch.Size([8, 128]), z1: torch.Size([8, 128]), z2: torch.Size([8, 128])\n",
      "Shapes - p1: torch.Size([8, 128]), p2: torch.Size([8, 128]), z1: torch.Size([8, 128]), z2: torch.Size([8, 128])\n",
      "Shapes - p1: torch.Size([8, 128]), p2: torch.Size([8, 128]), z1: torch.Size([8, 128]), z2: torch.Size([8, 128])\n",
      "Shapes - p1: torch.Size([8, 128]), p2: torch.Size([8, 128]), z1: torch.Size([8, 128]), z2: torch.Size([8, 128])\n",
      "Shapes - p1: torch.Size([8, 128]), p2: torch.Size([8, 128]), z1: torch.Size([8, 128]), z2: torch.Size([8, 128])\n",
      "Epoch [6/100], Batch [50/55], Loss: 0.0181\n",
      "Shapes - p1: torch.Size([8, 128]), p2: torch.Size([8, 128]), z1: torch.Size([8, 128]), z2: torch.Size([8, 128])\n",
      "Shapes - p1: torch.Size([8, 128]), p2: torch.Size([8, 128]), z1: torch.Size([8, 128]), z2: torch.Size([8, 128])\n",
      "Shapes - p1: torch.Size([8, 128]), p2: torch.Size([8, 128]), z1: torch.Size([8, 128]), z2: torch.Size([8, 128])\n",
      "Shapes - p1: torch.Size([8, 128]), p2: torch.Size([8, 128]), z1: torch.Size([8, 128]), z2: torch.Size([8, 128])\n",
      "Shapes - p1: torch.Size([6, 128]), p2: torch.Size([6, 128]), z1: torch.Size([6, 128]), z2: torch.Size([6, 128])\n",
      "Epoch [6/100], Batch [55/55], Loss: 0.0054\n",
      "✅ Completed Epoch [6/100] | Avg Loss: 0.0303\n",
      "✅ Model Improved & Saved!\n",
      "Shapes - p1: torch.Size([8, 128]), p2: torch.Size([8, 128]), z1: torch.Size([8, 128]), z2: torch.Size([8, 128])\n",
      "Shapes - p1: torch.Size([8, 128]), p2: torch.Size([8, 128]), z1: torch.Size([8, 128]), z2: torch.Size([8, 128])\n",
      "Shapes - p1: torch.Size([8, 128]), p2: torch.Size([8, 128]), z1: torch.Size([8, 128]), z2: torch.Size([8, 128])\n",
      "Shapes - p1: torch.Size([8, 128]), p2: torch.Size([8, 128]), z1: torch.Size([8, 128]), z2: torch.Size([8, 128])\n",
      "Shapes - p1: torch.Size([8, 128]), p2: torch.Size([8, 128]), z1: torch.Size([8, 128]), z2: torch.Size([8, 128])\n",
      "Epoch [7/100], Batch [5/55], Loss: 0.0109\n",
      "Shapes - p1: torch.Size([8, 128]), p2: torch.Size([8, 128]), z1: torch.Size([8, 128]), z2: torch.Size([8, 128])\n",
      "Shapes - p1: torch.Size([8, 128]), p2: torch.Size([8, 128]), z1: torch.Size([8, 128]), z2: torch.Size([8, 128])\n",
      "Shapes - p1: torch.Size([8, 128]), p2: torch.Size([8, 128]), z1: torch.Size([8, 128]), z2: torch.Size([8, 128])\n",
      "Shapes - p1: torch.Size([8, 128]), p2: torch.Size([8, 128]), z1: torch.Size([8, 128]), z2: torch.Size([8, 128])\n",
      "Shapes - p1: torch.Size([8, 128]), p2: torch.Size([8, 128]), z1: torch.Size([8, 128]), z2: torch.Size([8, 128])\n",
      "Epoch [7/100], Batch [10/55], Loss: 0.0058\n",
      "Shapes - p1: torch.Size([8, 128]), p2: torch.Size([8, 128]), z1: torch.Size([8, 128]), z2: torch.Size([8, 128])\n",
      "Shapes - p1: torch.Size([8, 128]), p2: torch.Size([8, 128]), z1: torch.Size([8, 128]), z2: torch.Size([8, 128])\n",
      "Shapes - p1: torch.Size([8, 128]), p2: torch.Size([8, 128]), z1: torch.Size([8, 128]), z2: torch.Size([8, 128])\n",
      "Shapes - p1: torch.Size([8, 128]), p2: torch.Size([8, 128]), z1: torch.Size([8, 128]), z2: torch.Size([8, 128])\n",
      "Shapes - p1: torch.Size([8, 128]), p2: torch.Size([8, 128]), z1: torch.Size([8, 128]), z2: torch.Size([8, 128])\n",
      "Epoch [7/100], Batch [15/55], Loss: 0.0044\n",
      "Shapes - p1: torch.Size([8, 128]), p2: torch.Size([8, 128]), z1: torch.Size([8, 128]), z2: torch.Size([8, 128])\n",
      "Shapes - p1: torch.Size([8, 128]), p2: torch.Size([8, 128]), z1: torch.Size([8, 128]), z2: torch.Size([8, 128])\n",
      "Shapes - p1: torch.Size([8, 128]), p2: torch.Size([8, 128]), z1: torch.Size([8, 128]), z2: torch.Size([8, 128])\n",
      "Shapes - p1: torch.Size([8, 128]), p2: torch.Size([8, 128]), z1: torch.Size([8, 128]), z2: torch.Size([8, 128])\n",
      "Shapes - p1: torch.Size([8, 128]), p2: torch.Size([8, 128]), z1: torch.Size([8, 128]), z2: torch.Size([8, 128])\n",
      "Epoch [7/100], Batch [20/55], Loss: 0.0077\n",
      "Shapes - p1: torch.Size([8, 128]), p2: torch.Size([8, 128]), z1: torch.Size([8, 128]), z2: torch.Size([8, 128])\n",
      "Shapes - p1: torch.Size([8, 128]), p2: torch.Size([8, 128]), z1: torch.Size([8, 128]), z2: torch.Size([8, 128])\n",
      "Shapes - p1: torch.Size([8, 128]), p2: torch.Size([8, 128]), z1: torch.Size([8, 128]), z2: torch.Size([8, 128])\n",
      "Shapes - p1: torch.Size([8, 128]), p2: torch.Size([8, 128]), z1: torch.Size([8, 128]), z2: torch.Size([8, 128])\n",
      "Shapes - p1: torch.Size([8, 128]), p2: torch.Size([8, 128]), z1: torch.Size([8, 128]), z2: torch.Size([8, 128])\n",
      "Epoch [7/100], Batch [25/55], Loss: 0.0228\n",
      "Shapes - p1: torch.Size([8, 128]), p2: torch.Size([8, 128]), z1: torch.Size([8, 128]), z2: torch.Size([8, 128])\n",
      "Shapes - p1: torch.Size([8, 128]), p2: torch.Size([8, 128]), z1: torch.Size([8, 128]), z2: torch.Size([8, 128])\n",
      "Shapes - p1: torch.Size([8, 128]), p2: torch.Size([8, 128]), z1: torch.Size([8, 128]), z2: torch.Size([8, 128])\n",
      "Shapes - p1: torch.Size([8, 128]), p2: torch.Size([8, 128]), z1: torch.Size([8, 128]), z2: torch.Size([8, 128])\n",
      "Shapes - p1: torch.Size([8, 128]), p2: torch.Size([8, 128]), z1: torch.Size([8, 128]), z2: torch.Size([8, 128])\n",
      "Epoch [7/100], Batch [30/55], Loss: 0.0210\n",
      "Shapes - p1: torch.Size([8, 128]), p2: torch.Size([8, 128]), z1: torch.Size([8, 128]), z2: torch.Size([8, 128])\n",
      "Shapes - p1: torch.Size([8, 128]), p2: torch.Size([8, 128]), z1: torch.Size([8, 128]), z2: torch.Size([8, 128])\n",
      "Shapes - p1: torch.Size([8, 128]), p2: torch.Size([8, 128]), z1: torch.Size([8, 128]), z2: torch.Size([8, 128])\n",
      "Shapes - p1: torch.Size([8, 128]), p2: torch.Size([8, 128]), z1: torch.Size([8, 128]), z2: torch.Size([8, 128])\n",
      "Shapes - p1: torch.Size([8, 128]), p2: torch.Size([8, 128]), z1: torch.Size([8, 128]), z2: torch.Size([8, 128])\n",
      "Epoch [7/100], Batch [35/55], Loss: 0.0119\n",
      "Shapes - p1: torch.Size([8, 128]), p2: torch.Size([8, 128]), z1: torch.Size([8, 128]), z2: torch.Size([8, 128])\n",
      "Shapes - p1: torch.Size([8, 128]), p2: torch.Size([8, 128]), z1: torch.Size([8, 128]), z2: torch.Size([8, 128])\n",
      "Shapes - p1: torch.Size([8, 128]), p2: torch.Size([8, 128]), z1: torch.Size([8, 128]), z2: torch.Size([8, 128])\n",
      "Shapes - p1: torch.Size([8, 128]), p2: torch.Size([8, 128]), z1: torch.Size([8, 128]), z2: torch.Size([8, 128])\n",
      "Shapes - p1: torch.Size([8, 128]), p2: torch.Size([8, 128]), z1: torch.Size([8, 128]), z2: torch.Size([8, 128])\n",
      "Epoch [7/100], Batch [40/55], Loss: 0.0103\n",
      "Shapes - p1: torch.Size([8, 128]), p2: torch.Size([8, 128]), z1: torch.Size([8, 128]), z2: torch.Size([8, 128])\n",
      "Shapes - p1: torch.Size([8, 128]), p2: torch.Size([8, 128]), z1: torch.Size([8, 128]), z2: torch.Size([8, 128])\n",
      "Shapes - p1: torch.Size([8, 128]), p2: torch.Size([8, 128]), z1: torch.Size([8, 128]), z2: torch.Size([8, 128])\n",
      "Shapes - p1: torch.Size([8, 128]), p2: torch.Size([8, 128]), z1: torch.Size([8, 128]), z2: torch.Size([8, 128])\n",
      "Shapes - p1: torch.Size([8, 128]), p2: torch.Size([8, 128]), z1: torch.Size([8, 128]), z2: torch.Size([8, 128])\n",
      "Epoch [7/100], Batch [45/55], Loss: 0.0084\n",
      "Shapes - p1: torch.Size([8, 128]), p2: torch.Size([8, 128]), z1: torch.Size([8, 128]), z2: torch.Size([8, 128])\n",
      "Shapes - p1: torch.Size([8, 128]), p2: torch.Size([8, 128]), z1: torch.Size([8, 128]), z2: torch.Size([8, 128])\n",
      "Shapes - p1: torch.Size([8, 128]), p2: torch.Size([8, 128]), z1: torch.Size([8, 128]), z2: torch.Size([8, 128])\n",
      "Shapes - p1: torch.Size([8, 128]), p2: torch.Size([8, 128]), z1: torch.Size([8, 128]), z2: torch.Size([8, 128])\n",
      "Shapes - p1: torch.Size([8, 128]), p2: torch.Size([8, 128]), z1: torch.Size([8, 128]), z2: torch.Size([8, 128])\n",
      "Epoch [7/100], Batch [50/55], Loss: 0.0062\n",
      "Shapes - p1: torch.Size([8, 128]), p2: torch.Size([8, 128]), z1: torch.Size([8, 128]), z2: torch.Size([8, 128])\n",
      "Shapes - p1: torch.Size([8, 128]), p2: torch.Size([8, 128]), z1: torch.Size([8, 128]), z2: torch.Size([8, 128])\n",
      "Shapes - p1: torch.Size([8, 128]), p2: torch.Size([8, 128]), z1: torch.Size([8, 128]), z2: torch.Size([8, 128])\n",
      "Shapes - p1: torch.Size([8, 128]), p2: torch.Size([8, 128]), z1: torch.Size([8, 128]), z2: torch.Size([8, 128])\n",
      "Shapes - p1: torch.Size([6, 128]), p2: torch.Size([6, 128]), z1: torch.Size([6, 128]), z2: torch.Size([6, 128])\n",
      "Epoch [7/100], Batch [55/55], Loss: 0.0311\n",
      "✅ Completed Epoch [7/100] | Avg Loss: 0.0226\n",
      "✅ Model Improved & Saved!\n",
      "Shapes - p1: torch.Size([8, 128]), p2: torch.Size([8, 128]), z1: torch.Size([8, 128]), z2: torch.Size([8, 128])\n",
      "Shapes - p1: torch.Size([8, 128]), p2: torch.Size([8, 128]), z1: torch.Size([8, 128]), z2: torch.Size([8, 128])\n",
      "Shapes - p1: torch.Size([8, 128]), p2: torch.Size([8, 128]), z1: torch.Size([8, 128]), z2: torch.Size([8, 128])\n",
      "Shapes - p1: torch.Size([8, 128]), p2: torch.Size([8, 128]), z1: torch.Size([8, 128]), z2: torch.Size([8, 128])\n",
      "Shapes - p1: torch.Size([8, 128]), p2: torch.Size([8, 128]), z1: torch.Size([8, 128]), z2: torch.Size([8, 128])\n",
      "Epoch [8/100], Batch [5/55], Loss: 0.0156\n",
      "Shapes - p1: torch.Size([8, 128]), p2: torch.Size([8, 128]), z1: torch.Size([8, 128]), z2: torch.Size([8, 128])\n",
      "Shapes - p1: torch.Size([8, 128]), p2: torch.Size([8, 128]), z1: torch.Size([8, 128]), z2: torch.Size([8, 128])\n",
      "Shapes - p1: torch.Size([8, 128]), p2: torch.Size([8, 128]), z1: torch.Size([8, 128]), z2: torch.Size([8, 128])\n",
      "Shapes - p1: torch.Size([8, 128]), p2: torch.Size([8, 128]), z1: torch.Size([8, 128]), z2: torch.Size([8, 128])\n",
      "Shapes - p1: torch.Size([8, 128]), p2: torch.Size([8, 128]), z1: torch.Size([8, 128]), z2: torch.Size([8, 128])\n",
      "Epoch [8/100], Batch [10/55], Loss: 0.0177\n",
      "Shapes - p1: torch.Size([8, 128]), p2: torch.Size([8, 128]), z1: torch.Size([8, 128]), z2: torch.Size([8, 128])\n",
      "Shapes - p1: torch.Size([8, 128]), p2: torch.Size([8, 128]), z1: torch.Size([8, 128]), z2: torch.Size([8, 128])\n",
      "Shapes - p1: torch.Size([8, 128]), p2: torch.Size([8, 128]), z1: torch.Size([8, 128]), z2: torch.Size([8, 128])\n",
      "Shapes - p1: torch.Size([8, 128]), p2: torch.Size([8, 128]), z1: torch.Size([8, 128]), z2: torch.Size([8, 128])\n",
      "Shapes - p1: torch.Size([8, 128]), p2: torch.Size([8, 128]), z1: torch.Size([8, 128]), z2: torch.Size([8, 128])\n",
      "Epoch [8/100], Batch [15/55], Loss: 0.0135\n",
      "Shapes - p1: torch.Size([8, 128]), p2: torch.Size([8, 128]), z1: torch.Size([8, 128]), z2: torch.Size([8, 128])\n",
      "Shapes - p1: torch.Size([8, 128]), p2: torch.Size([8, 128]), z1: torch.Size([8, 128]), z2: torch.Size([8, 128])\n",
      "Shapes - p1: torch.Size([8, 128]), p2: torch.Size([8, 128]), z1: torch.Size([8, 128]), z2: torch.Size([8, 128])\n",
      "Shapes - p1: torch.Size([8, 128]), p2: torch.Size([8, 128]), z1: torch.Size([8, 128]), z2: torch.Size([8, 128])\n",
      "Shapes - p1: torch.Size([8, 128]), p2: torch.Size([8, 128]), z1: torch.Size([8, 128]), z2: torch.Size([8, 128])\n",
      "Epoch [8/100], Batch [20/55], Loss: 0.0129\n",
      "Shapes - p1: torch.Size([8, 128]), p2: torch.Size([8, 128]), z1: torch.Size([8, 128]), z2: torch.Size([8, 128])\n",
      "Shapes - p1: torch.Size([8, 128]), p2: torch.Size([8, 128]), z1: torch.Size([8, 128]), z2: torch.Size([8, 128])\n",
      "Shapes - p1: torch.Size([8, 128]), p2: torch.Size([8, 128]), z1: torch.Size([8, 128]), z2: torch.Size([8, 128])\n",
      "Shapes - p1: torch.Size([8, 128]), p2: torch.Size([8, 128]), z1: torch.Size([8, 128]), z2: torch.Size([8, 128])\n",
      "Shapes - p1: torch.Size([8, 128]), p2: torch.Size([8, 128]), z1: torch.Size([8, 128]), z2: torch.Size([8, 128])\n",
      "Epoch [8/100], Batch [25/55], Loss: 0.0044\n",
      "Shapes - p1: torch.Size([8, 128]), p2: torch.Size([8, 128]), z1: torch.Size([8, 128]), z2: torch.Size([8, 128])\n",
      "Shapes - p1: torch.Size([8, 128]), p2: torch.Size([8, 128]), z1: torch.Size([8, 128]), z2: torch.Size([8, 128])\n",
      "Shapes - p1: torch.Size([8, 128]), p2: torch.Size([8, 128]), z1: torch.Size([8, 128]), z2: torch.Size([8, 128])\n",
      "Shapes - p1: torch.Size([8, 128]), p2: torch.Size([8, 128]), z1: torch.Size([8, 128]), z2: torch.Size([8, 128])\n",
      "Shapes - p1: torch.Size([8, 128]), p2: torch.Size([8, 128]), z1: torch.Size([8, 128]), z2: torch.Size([8, 128])\n",
      "Epoch [8/100], Batch [30/55], Loss: 0.0062\n",
      "Shapes - p1: torch.Size([8, 128]), p2: torch.Size([8, 128]), z1: torch.Size([8, 128]), z2: torch.Size([8, 128])\n",
      "Shapes - p1: torch.Size([8, 128]), p2: torch.Size([8, 128]), z1: torch.Size([8, 128]), z2: torch.Size([8, 128])\n",
      "Shapes - p1: torch.Size([8, 128]), p2: torch.Size([8, 128]), z1: torch.Size([8, 128]), z2: torch.Size([8, 128])\n",
      "Shapes - p1: torch.Size([8, 128]), p2: torch.Size([8, 128]), z1: torch.Size([8, 128]), z2: torch.Size([8, 128])\n",
      "Shapes - p1: torch.Size([8, 128]), p2: torch.Size([8, 128]), z1: torch.Size([8, 128]), z2: torch.Size([8, 128])\n",
      "Epoch [8/100], Batch [35/55], Loss: 0.0099\n",
      "Shapes - p1: torch.Size([8, 128]), p2: torch.Size([8, 128]), z1: torch.Size([8, 128]), z2: torch.Size([8, 128])\n",
      "Shapes - p1: torch.Size([8, 128]), p2: torch.Size([8, 128]), z1: torch.Size([8, 128]), z2: torch.Size([8, 128])\n",
      "Shapes - p1: torch.Size([8, 128]), p2: torch.Size([8, 128]), z1: torch.Size([8, 128]), z2: torch.Size([8, 128])\n",
      "Shapes - p1: torch.Size([8, 128]), p2: torch.Size([8, 128]), z1: torch.Size([8, 128]), z2: torch.Size([8, 128])\n",
      "Shapes - p1: torch.Size([8, 128]), p2: torch.Size([8, 128]), z1: torch.Size([8, 128]), z2: torch.Size([8, 128])\n",
      "Epoch [8/100], Batch [40/55], Loss: 0.0105\n",
      "Shapes - p1: torch.Size([8, 128]), p2: torch.Size([8, 128]), z1: torch.Size([8, 128]), z2: torch.Size([8, 128])\n",
      "Shapes - p1: torch.Size([8, 128]), p2: torch.Size([8, 128]), z1: torch.Size([8, 128]), z2: torch.Size([8, 128])\n",
      "Shapes - p1: torch.Size([8, 128]), p2: torch.Size([8, 128]), z1: torch.Size([8, 128]), z2: torch.Size([8, 128])\n",
      "Shapes - p1: torch.Size([8, 128]), p2: torch.Size([8, 128]), z1: torch.Size([8, 128]), z2: torch.Size([8, 128])\n",
      "Shapes - p1: torch.Size([8, 128]), p2: torch.Size([8, 128]), z1: torch.Size([8, 128]), z2: torch.Size([8, 128])\n",
      "Epoch [8/100], Batch [45/55], Loss: 0.0103\n",
      "Shapes - p1: torch.Size([8, 128]), p2: torch.Size([8, 128]), z1: torch.Size([8, 128]), z2: torch.Size([8, 128])\n",
      "Shapes - p1: torch.Size([8, 128]), p2: torch.Size([8, 128]), z1: torch.Size([8, 128]), z2: torch.Size([8, 128])\n",
      "Shapes - p1: torch.Size([8, 128]), p2: torch.Size([8, 128]), z1: torch.Size([8, 128]), z2: torch.Size([8, 128])\n",
      "Shapes - p1: torch.Size([8, 128]), p2: torch.Size([8, 128]), z1: torch.Size([8, 128]), z2: torch.Size([8, 128])\n",
      "Shapes - p1: torch.Size([8, 128]), p2: torch.Size([8, 128]), z1: torch.Size([8, 128]), z2: torch.Size([8, 128])\n",
      "Epoch [8/100], Batch [50/55], Loss: 0.0099\n",
      "Shapes - p1: torch.Size([8, 128]), p2: torch.Size([8, 128]), z1: torch.Size([8, 128]), z2: torch.Size([8, 128])\n",
      "Shapes - p1: torch.Size([8, 128]), p2: torch.Size([8, 128]), z1: torch.Size([8, 128]), z2: torch.Size([8, 128])\n",
      "Shapes - p1: torch.Size([8, 128]), p2: torch.Size([8, 128]), z1: torch.Size([8, 128]), z2: torch.Size([8, 128])\n",
      "Shapes - p1: torch.Size([8, 128]), p2: torch.Size([8, 128]), z1: torch.Size([8, 128]), z2: torch.Size([8, 128])\n",
      "Shapes - p1: torch.Size([6, 128]), p2: torch.Size([6, 128]), z1: torch.Size([6, 128]), z2: torch.Size([6, 128])\n",
      "Epoch [8/100], Batch [55/55], Loss: 0.0042\n",
      "✅ Completed Epoch [8/100] | Avg Loss: 0.0236\n",
      "⏳ No Improvement | Patience: 1/15\n",
      "Shapes - p1: torch.Size([8, 128]), p2: torch.Size([8, 128]), z1: torch.Size([8, 128]), z2: torch.Size([8, 128])\n",
      "Shapes - p1: torch.Size([8, 128]), p2: torch.Size([8, 128]), z1: torch.Size([8, 128]), z2: torch.Size([8, 128])\n",
      "Shapes - p1: torch.Size([8, 128]), p2: torch.Size([8, 128]), z1: torch.Size([8, 128]), z2: torch.Size([8, 128])\n",
      "Shapes - p1: torch.Size([8, 128]), p2: torch.Size([8, 128]), z1: torch.Size([8, 128]), z2: torch.Size([8, 128])\n",
      "Shapes - p1: torch.Size([8, 128]), p2: torch.Size([8, 128]), z1: torch.Size([8, 128]), z2: torch.Size([8, 128])\n",
      "Epoch [9/100], Batch [5/55], Loss: 0.0070\n",
      "Shapes - p1: torch.Size([8, 128]), p2: torch.Size([8, 128]), z1: torch.Size([8, 128]), z2: torch.Size([8, 128])\n",
      "Shapes - p1: torch.Size([8, 128]), p2: torch.Size([8, 128]), z1: torch.Size([8, 128]), z2: torch.Size([8, 128])\n",
      "Shapes - p1: torch.Size([8, 128]), p2: torch.Size([8, 128]), z1: torch.Size([8, 128]), z2: torch.Size([8, 128])\n",
      "Shapes - p1: torch.Size([8, 128]), p2: torch.Size([8, 128]), z1: torch.Size([8, 128]), z2: torch.Size([8, 128])\n",
      "Shapes - p1: torch.Size([8, 128]), p2: torch.Size([8, 128]), z1: torch.Size([8, 128]), z2: torch.Size([8, 128])\n",
      "Epoch [9/100], Batch [10/55], Loss: 0.0052\n",
      "Shapes - p1: torch.Size([8, 128]), p2: torch.Size([8, 128]), z1: torch.Size([8, 128]), z2: torch.Size([8, 128])\n",
      "Shapes - p1: torch.Size([8, 128]), p2: torch.Size([8, 128]), z1: torch.Size([8, 128]), z2: torch.Size([8, 128])\n",
      "Shapes - p1: torch.Size([8, 128]), p2: torch.Size([8, 128]), z1: torch.Size([8, 128]), z2: torch.Size([8, 128])\n",
      "Shapes - p1: torch.Size([8, 128]), p2: torch.Size([8, 128]), z1: torch.Size([8, 128]), z2: torch.Size([8, 128])\n",
      "Shapes - p1: torch.Size([8, 128]), p2: torch.Size([8, 128]), z1: torch.Size([8, 128]), z2: torch.Size([8, 128])\n",
      "Epoch [9/100], Batch [15/55], Loss: 0.0072\n",
      "Shapes - p1: torch.Size([8, 128]), p2: torch.Size([8, 128]), z1: torch.Size([8, 128]), z2: torch.Size([8, 128])\n",
      "Shapes - p1: torch.Size([8, 128]), p2: torch.Size([8, 128]), z1: torch.Size([8, 128]), z2: torch.Size([8, 128])\n",
      "Shapes - p1: torch.Size([8, 128]), p2: torch.Size([8, 128]), z1: torch.Size([8, 128]), z2: torch.Size([8, 128])\n",
      "Shapes - p1: torch.Size([8, 128]), p2: torch.Size([8, 128]), z1: torch.Size([8, 128]), z2: torch.Size([8, 128])\n",
      "Shapes - p1: torch.Size([8, 128]), p2: torch.Size([8, 128]), z1: torch.Size([8, 128]), z2: torch.Size([8, 128])\n",
      "Epoch [9/100], Batch [20/55], Loss: 0.0030\n",
      "Shapes - p1: torch.Size([8, 128]), p2: torch.Size([8, 128]), z1: torch.Size([8, 128]), z2: torch.Size([8, 128])\n",
      "Shapes - p1: torch.Size([8, 128]), p2: torch.Size([8, 128]), z1: torch.Size([8, 128]), z2: torch.Size([8, 128])\n",
      "Shapes - p1: torch.Size([8, 128]), p2: torch.Size([8, 128]), z1: torch.Size([8, 128]), z2: torch.Size([8, 128])\n",
      "Shapes - p1: torch.Size([8, 128]), p2: torch.Size([8, 128]), z1: torch.Size([8, 128]), z2: torch.Size([8, 128])\n",
      "Shapes - p1: torch.Size([8, 128]), p2: torch.Size([8, 128]), z1: torch.Size([8, 128]), z2: torch.Size([8, 128])\n",
      "Epoch [9/100], Batch [25/55], Loss: 0.0767\n",
      "Shapes - p1: torch.Size([8, 128]), p2: torch.Size([8, 128]), z1: torch.Size([8, 128]), z2: torch.Size([8, 128])\n",
      "Shapes - p1: torch.Size([8, 128]), p2: torch.Size([8, 128]), z1: torch.Size([8, 128]), z2: torch.Size([8, 128])\n",
      "Shapes - p1: torch.Size([8, 128]), p2: torch.Size([8, 128]), z1: torch.Size([8, 128]), z2: torch.Size([8, 128])\n",
      "Shapes - p1: torch.Size([8, 128]), p2: torch.Size([8, 128]), z1: torch.Size([8, 128]), z2: torch.Size([8, 128])\n",
      "Shapes - p1: torch.Size([8, 128]), p2: torch.Size([8, 128]), z1: torch.Size([8, 128]), z2: torch.Size([8, 128])\n",
      "Epoch [9/100], Batch [30/55], Loss: 0.0115\n",
      "Shapes - p1: torch.Size([8, 128]), p2: torch.Size([8, 128]), z1: torch.Size([8, 128]), z2: torch.Size([8, 128])\n",
      "Shapes - p1: torch.Size([8, 128]), p2: torch.Size([8, 128]), z1: torch.Size([8, 128]), z2: torch.Size([8, 128])\n",
      "Shapes - p1: torch.Size([8, 128]), p2: torch.Size([8, 128]), z1: torch.Size([8, 128]), z2: torch.Size([8, 128])\n",
      "Shapes - p1: torch.Size([8, 128]), p2: torch.Size([8, 128]), z1: torch.Size([8, 128]), z2: torch.Size([8, 128])\n",
      "Shapes - p1: torch.Size([8, 128]), p2: torch.Size([8, 128]), z1: torch.Size([8, 128]), z2: torch.Size([8, 128])\n",
      "Epoch [9/100], Batch [35/55], Loss: 0.0153\n",
      "Shapes - p1: torch.Size([8, 128]), p2: torch.Size([8, 128]), z1: torch.Size([8, 128]), z2: torch.Size([8, 128])\n",
      "Shapes - p1: torch.Size([8, 128]), p2: torch.Size([8, 128]), z1: torch.Size([8, 128]), z2: torch.Size([8, 128])\n",
      "Shapes - p1: torch.Size([8, 128]), p2: torch.Size([8, 128]), z1: torch.Size([8, 128]), z2: torch.Size([8, 128])\n",
      "Shapes - p1: torch.Size([8, 128]), p2: torch.Size([8, 128]), z1: torch.Size([8, 128]), z2: torch.Size([8, 128])\n",
      "Shapes - p1: torch.Size([8, 128]), p2: torch.Size([8, 128]), z1: torch.Size([8, 128]), z2: torch.Size([8, 128])\n",
      "Epoch [9/100], Batch [40/55], Loss: 0.0149\n",
      "Shapes - p1: torch.Size([8, 128]), p2: torch.Size([8, 128]), z1: torch.Size([8, 128]), z2: torch.Size([8, 128])\n",
      "Shapes - p1: torch.Size([8, 128]), p2: torch.Size([8, 128]), z1: torch.Size([8, 128]), z2: torch.Size([8, 128])\n",
      "Shapes - p1: torch.Size([8, 128]), p2: torch.Size([8, 128]), z1: torch.Size([8, 128]), z2: torch.Size([8, 128])\n",
      "Shapes - p1: torch.Size([8, 128]), p2: torch.Size([8, 128]), z1: torch.Size([8, 128]), z2: torch.Size([8, 128])\n",
      "Shapes - p1: torch.Size([8, 128]), p2: torch.Size([8, 128]), z1: torch.Size([8, 128]), z2: torch.Size([8, 128])\n",
      "Epoch [9/100], Batch [45/55], Loss: 0.0087\n",
      "Shapes - p1: torch.Size([8, 128]), p2: torch.Size([8, 128]), z1: torch.Size([8, 128]), z2: torch.Size([8, 128])\n",
      "Shapes - p1: torch.Size([8, 128]), p2: torch.Size([8, 128]), z1: torch.Size([8, 128]), z2: torch.Size([8, 128])\n",
      "Shapes - p1: torch.Size([8, 128]), p2: torch.Size([8, 128]), z1: torch.Size([8, 128]), z2: torch.Size([8, 128])\n",
      "Shapes - p1: torch.Size([8, 128]), p2: torch.Size([8, 128]), z1: torch.Size([8, 128]), z2: torch.Size([8, 128])\n",
      "Shapes - p1: torch.Size([8, 128]), p2: torch.Size([8, 128]), z1: torch.Size([8, 128]), z2: torch.Size([8, 128])\n",
      "Epoch [9/100], Batch [50/55], Loss: 0.0702\n",
      "Shapes - p1: torch.Size([8, 128]), p2: torch.Size([8, 128]), z1: torch.Size([8, 128]), z2: torch.Size([8, 128])\n",
      "Shapes - p1: torch.Size([8, 128]), p2: torch.Size([8, 128]), z1: torch.Size([8, 128]), z2: torch.Size([8, 128])\n",
      "Shapes - p1: torch.Size([8, 128]), p2: torch.Size([8, 128]), z1: torch.Size([8, 128]), z2: torch.Size([8, 128])\n",
      "Shapes - p1: torch.Size([8, 128]), p2: torch.Size([8, 128]), z1: torch.Size([8, 128]), z2: torch.Size([8, 128])\n",
      "Shapes - p1: torch.Size([6, 128]), p2: torch.Size([6, 128]), z1: torch.Size([6, 128]), z2: torch.Size([6, 128])\n",
      "Epoch [9/100], Batch [55/55], Loss: 0.0051\n",
      "✅ Completed Epoch [9/100] | Avg Loss: 0.0205\n",
      "✅ Model Improved & Saved!\n",
      "Shapes - p1: torch.Size([8, 128]), p2: torch.Size([8, 128]), z1: torch.Size([8, 128]), z2: torch.Size([8, 128])\n",
      "Shapes - p1: torch.Size([8, 128]), p2: torch.Size([8, 128]), z1: torch.Size([8, 128]), z2: torch.Size([8, 128])\n",
      "Shapes - p1: torch.Size([8, 128]), p2: torch.Size([8, 128]), z1: torch.Size([8, 128]), z2: torch.Size([8, 128])\n",
      "Shapes - p1: torch.Size([8, 128]), p2: torch.Size([8, 128]), z1: torch.Size([8, 128]), z2: torch.Size([8, 128])\n",
      "Shapes - p1: torch.Size([8, 128]), p2: torch.Size([8, 128]), z1: torch.Size([8, 128]), z2: torch.Size([8, 128])\n",
      "Epoch [10/100], Batch [5/55], Loss: 0.0099\n",
      "Shapes - p1: torch.Size([8, 128]), p2: torch.Size([8, 128]), z1: torch.Size([8, 128]), z2: torch.Size([8, 128])\n",
      "Shapes - p1: torch.Size([8, 128]), p2: torch.Size([8, 128]), z1: torch.Size([8, 128]), z2: torch.Size([8, 128])\n",
      "Shapes - p1: torch.Size([8, 128]), p2: torch.Size([8, 128]), z1: torch.Size([8, 128]), z2: torch.Size([8, 128])\n",
      "Shapes - p1: torch.Size([8, 128]), p2: torch.Size([8, 128]), z1: torch.Size([8, 128]), z2: torch.Size([8, 128])\n",
      "Shapes - p1: torch.Size([8, 128]), p2: torch.Size([8, 128]), z1: torch.Size([8, 128]), z2: torch.Size([8, 128])\n",
      "Epoch [10/100], Batch [10/55], Loss: 0.0165\n",
      "Shapes - p1: torch.Size([8, 128]), p2: torch.Size([8, 128]), z1: torch.Size([8, 128]), z2: torch.Size([8, 128])\n",
      "Shapes - p1: torch.Size([8, 128]), p2: torch.Size([8, 128]), z1: torch.Size([8, 128]), z2: torch.Size([8, 128])\n",
      "Shapes - p1: torch.Size([8, 128]), p2: torch.Size([8, 128]), z1: torch.Size([8, 128]), z2: torch.Size([8, 128])\n",
      "Shapes - p1: torch.Size([8, 128]), p2: torch.Size([8, 128]), z1: torch.Size([8, 128]), z2: torch.Size([8, 128])\n",
      "Shapes - p1: torch.Size([8, 128]), p2: torch.Size([8, 128]), z1: torch.Size([8, 128]), z2: torch.Size([8, 128])\n",
      "Epoch [10/100], Batch [15/55], Loss: 0.0475\n",
      "Shapes - p1: torch.Size([8, 128]), p2: torch.Size([8, 128]), z1: torch.Size([8, 128]), z2: torch.Size([8, 128])\n",
      "Shapes - p1: torch.Size([8, 128]), p2: torch.Size([8, 128]), z1: torch.Size([8, 128]), z2: torch.Size([8, 128])\n",
      "Shapes - p1: torch.Size([8, 128]), p2: torch.Size([8, 128]), z1: torch.Size([8, 128]), z2: torch.Size([8, 128])\n",
      "Shapes - p1: torch.Size([8, 128]), p2: torch.Size([8, 128]), z1: torch.Size([8, 128]), z2: torch.Size([8, 128])\n",
      "Shapes - p1: torch.Size([8, 128]), p2: torch.Size([8, 128]), z1: torch.Size([8, 128]), z2: torch.Size([8, 128])\n",
      "Epoch [10/100], Batch [20/55], Loss: 0.0520\n",
      "Shapes - p1: torch.Size([8, 128]), p2: torch.Size([8, 128]), z1: torch.Size([8, 128]), z2: torch.Size([8, 128])\n",
      "Shapes - p1: torch.Size([8, 128]), p2: torch.Size([8, 128]), z1: torch.Size([8, 128]), z2: torch.Size([8, 128])\n",
      "Shapes - p1: torch.Size([8, 128]), p2: torch.Size([8, 128]), z1: torch.Size([8, 128]), z2: torch.Size([8, 128])\n",
      "Shapes - p1: torch.Size([8, 128]), p2: torch.Size([8, 128]), z1: torch.Size([8, 128]), z2: torch.Size([8, 128])\n",
      "Shapes - p1: torch.Size([8, 128]), p2: torch.Size([8, 128]), z1: torch.Size([8, 128]), z2: torch.Size([8, 128])\n",
      "Epoch [10/100], Batch [25/55], Loss: 0.0053\n",
      "Shapes - p1: torch.Size([8, 128]), p2: torch.Size([8, 128]), z1: torch.Size([8, 128]), z2: torch.Size([8, 128])\n",
      "Shapes - p1: torch.Size([8, 128]), p2: torch.Size([8, 128]), z1: torch.Size([8, 128]), z2: torch.Size([8, 128])\n",
      "Shapes - p1: torch.Size([8, 128]), p2: torch.Size([8, 128]), z1: torch.Size([8, 128]), z2: torch.Size([8, 128])\n",
      "Shapes - p1: torch.Size([8, 128]), p2: torch.Size([8, 128]), z1: torch.Size([8, 128]), z2: torch.Size([8, 128])\n",
      "Shapes - p1: torch.Size([8, 128]), p2: torch.Size([8, 128]), z1: torch.Size([8, 128]), z2: torch.Size([8, 128])\n",
      "Epoch [10/100], Batch [30/55], Loss: 0.0347\n",
      "Shapes - p1: torch.Size([8, 128]), p2: torch.Size([8, 128]), z1: torch.Size([8, 128]), z2: torch.Size([8, 128])\n",
      "Shapes - p1: torch.Size([8, 128]), p2: torch.Size([8, 128]), z1: torch.Size([8, 128]), z2: torch.Size([8, 128])\n",
      "Shapes - p1: torch.Size([8, 128]), p2: torch.Size([8, 128]), z1: torch.Size([8, 128]), z2: torch.Size([8, 128])\n",
      "Shapes - p1: torch.Size([8, 128]), p2: torch.Size([8, 128]), z1: torch.Size([8, 128]), z2: torch.Size([8, 128])\n",
      "Shapes - p1: torch.Size([8, 128]), p2: torch.Size([8, 128]), z1: torch.Size([8, 128]), z2: torch.Size([8, 128])\n",
      "Epoch [10/100], Batch [35/55], Loss: 0.0075\n",
      "Shapes - p1: torch.Size([8, 128]), p2: torch.Size([8, 128]), z1: torch.Size([8, 128]), z2: torch.Size([8, 128])\n",
      "Shapes - p1: torch.Size([8, 128]), p2: torch.Size([8, 128]), z1: torch.Size([8, 128]), z2: torch.Size([8, 128])\n",
      "Shapes - p1: torch.Size([8, 128]), p2: torch.Size([8, 128]), z1: torch.Size([8, 128]), z2: torch.Size([8, 128])\n",
      "Shapes - p1: torch.Size([8, 128]), p2: torch.Size([8, 128]), z1: torch.Size([8, 128]), z2: torch.Size([8, 128])\n",
      "Shapes - p1: torch.Size([8, 128]), p2: torch.Size([8, 128]), z1: torch.Size([8, 128]), z2: torch.Size([8, 128])\n",
      "Epoch [10/100], Batch [40/55], Loss: 0.0064\n",
      "Shapes - p1: torch.Size([8, 128]), p2: torch.Size([8, 128]), z1: torch.Size([8, 128]), z2: torch.Size([8, 128])\n",
      "Shapes - p1: torch.Size([8, 128]), p2: torch.Size([8, 128]), z1: torch.Size([8, 128]), z2: torch.Size([8, 128])\n",
      "Shapes - p1: torch.Size([8, 128]), p2: torch.Size([8, 128]), z1: torch.Size([8, 128]), z2: torch.Size([8, 128])\n",
      "Shapes - p1: torch.Size([8, 128]), p2: torch.Size([8, 128]), z1: torch.Size([8, 128]), z2: torch.Size([8, 128])\n",
      "Shapes - p1: torch.Size([8, 128]), p2: torch.Size([8, 128]), z1: torch.Size([8, 128]), z2: torch.Size([8, 128])\n",
      "Epoch [10/100], Batch [45/55], Loss: 0.0091\n",
      "Shapes - p1: torch.Size([8, 128]), p2: torch.Size([8, 128]), z1: torch.Size([8, 128]), z2: torch.Size([8, 128])\n",
      "Shapes - p1: torch.Size([8, 128]), p2: torch.Size([8, 128]), z1: torch.Size([8, 128]), z2: torch.Size([8, 128])\n",
      "Shapes - p1: torch.Size([8, 128]), p2: torch.Size([8, 128]), z1: torch.Size([8, 128]), z2: torch.Size([8, 128])\n",
      "Shapes - p1: torch.Size([8, 128]), p2: torch.Size([8, 128]), z1: torch.Size([8, 128]), z2: torch.Size([8, 128])\n",
      "Shapes - p1: torch.Size([8, 128]), p2: torch.Size([8, 128]), z1: torch.Size([8, 128]), z2: torch.Size([8, 128])\n",
      "Epoch [10/100], Batch [50/55], Loss: 0.0127\n",
      "Shapes - p1: torch.Size([8, 128]), p2: torch.Size([8, 128]), z1: torch.Size([8, 128]), z2: torch.Size([8, 128])\n",
      "Shapes - p1: torch.Size([8, 128]), p2: torch.Size([8, 128]), z1: torch.Size([8, 128]), z2: torch.Size([8, 128])\n",
      "Shapes - p1: torch.Size([8, 128]), p2: torch.Size([8, 128]), z1: torch.Size([8, 128]), z2: torch.Size([8, 128])\n",
      "Shapes - p1: torch.Size([8, 128]), p2: torch.Size([8, 128]), z1: torch.Size([8, 128]), z2: torch.Size([8, 128])\n",
      "Shapes - p1: torch.Size([6, 128]), p2: torch.Size([6, 128]), z1: torch.Size([6, 128]), z2: torch.Size([6, 128])\n",
      "Epoch [10/100], Batch [55/55], Loss: 0.0095\n",
      "✅ Completed Epoch [10/100] | Avg Loss: 0.0259\n",
      "⏳ No Improvement | Patience: 1/15\n",
      "Shapes - p1: torch.Size([8, 128]), p2: torch.Size([8, 128]), z1: torch.Size([8, 128]), z2: torch.Size([8, 128])\n",
      "Shapes - p1: torch.Size([8, 128]), p2: torch.Size([8, 128]), z1: torch.Size([8, 128]), z2: torch.Size([8, 128])\n",
      "Shapes - p1: torch.Size([8, 128]), p2: torch.Size([8, 128]), z1: torch.Size([8, 128]), z2: torch.Size([8, 128])\n",
      "Shapes - p1: torch.Size([8, 128]), p2: torch.Size([8, 128]), z1: torch.Size([8, 128]), z2: torch.Size([8, 128])\n",
      "Shapes - p1: torch.Size([8, 128]), p2: torch.Size([8, 128]), z1: torch.Size([8, 128]), z2: torch.Size([8, 128])\n",
      "Epoch [11/100], Batch [5/55], Loss: 0.0316\n",
      "Shapes - p1: torch.Size([8, 128]), p2: torch.Size([8, 128]), z1: torch.Size([8, 128]), z2: torch.Size([8, 128])\n",
      "Shapes - p1: torch.Size([8, 128]), p2: torch.Size([8, 128]), z1: torch.Size([8, 128]), z2: torch.Size([8, 128])\n",
      "Shapes - p1: torch.Size([8, 128]), p2: torch.Size([8, 128]), z1: torch.Size([8, 128]), z2: torch.Size([8, 128])\n",
      "Shapes - p1: torch.Size([8, 128]), p2: torch.Size([8, 128]), z1: torch.Size([8, 128]), z2: torch.Size([8, 128])\n",
      "Shapes - p1: torch.Size([8, 128]), p2: torch.Size([8, 128]), z1: torch.Size([8, 128]), z2: torch.Size([8, 128])\n",
      "Epoch [11/100], Batch [10/55], Loss: 0.0034\n",
      "Shapes - p1: torch.Size([8, 128]), p2: torch.Size([8, 128]), z1: torch.Size([8, 128]), z2: torch.Size([8, 128])\n",
      "Shapes - p1: torch.Size([8, 128]), p2: torch.Size([8, 128]), z1: torch.Size([8, 128]), z2: torch.Size([8, 128])\n",
      "Shapes - p1: torch.Size([8, 128]), p2: torch.Size([8, 128]), z1: torch.Size([8, 128]), z2: torch.Size([8, 128])\n",
      "Shapes - p1: torch.Size([8, 128]), p2: torch.Size([8, 128]), z1: torch.Size([8, 128]), z2: torch.Size([8, 128])\n",
      "Shapes - p1: torch.Size([8, 128]), p2: torch.Size([8, 128]), z1: torch.Size([8, 128]), z2: torch.Size([8, 128])\n",
      "Epoch [11/100], Batch [15/55], Loss: 0.0093\n",
      "Shapes - p1: torch.Size([8, 128]), p2: torch.Size([8, 128]), z1: torch.Size([8, 128]), z2: torch.Size([8, 128])\n",
      "Shapes - p1: torch.Size([8, 128]), p2: torch.Size([8, 128]), z1: torch.Size([8, 128]), z2: torch.Size([8, 128])\n",
      "Shapes - p1: torch.Size([8, 128]), p2: torch.Size([8, 128]), z1: torch.Size([8, 128]), z2: torch.Size([8, 128])\n",
      "Shapes - p1: torch.Size([8, 128]), p2: torch.Size([8, 128]), z1: torch.Size([8, 128]), z2: torch.Size([8, 128])\n",
      "Shapes - p1: torch.Size([8, 128]), p2: torch.Size([8, 128]), z1: torch.Size([8, 128]), z2: torch.Size([8, 128])\n",
      "Epoch [11/100], Batch [20/55], Loss: 0.0138\n",
      "Shapes - p1: torch.Size([8, 128]), p2: torch.Size([8, 128]), z1: torch.Size([8, 128]), z2: torch.Size([8, 128])\n",
      "Shapes - p1: torch.Size([8, 128]), p2: torch.Size([8, 128]), z1: torch.Size([8, 128]), z2: torch.Size([8, 128])\n",
      "Shapes - p1: torch.Size([8, 128]), p2: torch.Size([8, 128]), z1: torch.Size([8, 128]), z2: torch.Size([8, 128])\n",
      "Shapes - p1: torch.Size([8, 128]), p2: torch.Size([8, 128]), z1: torch.Size([8, 128]), z2: torch.Size([8, 128])\n",
      "Shapes - p1: torch.Size([8, 128]), p2: torch.Size([8, 128]), z1: torch.Size([8, 128]), z2: torch.Size([8, 128])\n",
      "Epoch [11/100], Batch [25/55], Loss: 0.0157\n",
      "Shapes - p1: torch.Size([8, 128]), p2: torch.Size([8, 128]), z1: torch.Size([8, 128]), z2: torch.Size([8, 128])\n",
      "Shapes - p1: torch.Size([8, 128]), p2: torch.Size([8, 128]), z1: torch.Size([8, 128]), z2: torch.Size([8, 128])\n",
      "Shapes - p1: torch.Size([8, 128]), p2: torch.Size([8, 128]), z1: torch.Size([8, 128]), z2: torch.Size([8, 128])\n",
      "Shapes - p1: torch.Size([8, 128]), p2: torch.Size([8, 128]), z1: torch.Size([8, 128]), z2: torch.Size([8, 128])\n",
      "Shapes - p1: torch.Size([8, 128]), p2: torch.Size([8, 128]), z1: torch.Size([8, 128]), z2: torch.Size([8, 128])\n",
      "Epoch [11/100], Batch [30/55], Loss: 0.0029\n",
      "Shapes - p1: torch.Size([8, 128]), p2: torch.Size([8, 128]), z1: torch.Size([8, 128]), z2: torch.Size([8, 128])\n",
      "Shapes - p1: torch.Size([8, 128]), p2: torch.Size([8, 128]), z1: torch.Size([8, 128]), z2: torch.Size([8, 128])\n",
      "Shapes - p1: torch.Size([8, 128]), p2: torch.Size([8, 128]), z1: torch.Size([8, 128]), z2: torch.Size([8, 128])\n",
      "Shapes - p1: torch.Size([8, 128]), p2: torch.Size([8, 128]), z1: torch.Size([8, 128]), z2: torch.Size([8, 128])\n",
      "Shapes - p1: torch.Size([8, 128]), p2: torch.Size([8, 128]), z1: torch.Size([8, 128]), z2: torch.Size([8, 128])\n",
      "Epoch [11/100], Batch [35/55], Loss: 0.0074\n",
      "Shapes - p1: torch.Size([8, 128]), p2: torch.Size([8, 128]), z1: torch.Size([8, 128]), z2: torch.Size([8, 128])\n",
      "Shapes - p1: torch.Size([8, 128]), p2: torch.Size([8, 128]), z1: torch.Size([8, 128]), z2: torch.Size([8, 128])\n",
      "Shapes - p1: torch.Size([8, 128]), p2: torch.Size([8, 128]), z1: torch.Size([8, 128]), z2: torch.Size([8, 128])\n",
      "Shapes - p1: torch.Size([8, 128]), p2: torch.Size([8, 128]), z1: torch.Size([8, 128]), z2: torch.Size([8, 128])\n",
      "Shapes - p1: torch.Size([8, 128]), p2: torch.Size([8, 128]), z1: torch.Size([8, 128]), z2: torch.Size([8, 128])\n",
      "Epoch [11/100], Batch [40/55], Loss: 0.0029\n",
      "Shapes - p1: torch.Size([8, 128]), p2: torch.Size([8, 128]), z1: torch.Size([8, 128]), z2: torch.Size([8, 128])\n",
      "Shapes - p1: torch.Size([8, 128]), p2: torch.Size([8, 128]), z1: torch.Size([8, 128]), z2: torch.Size([8, 128])\n",
      "Shapes - p1: torch.Size([8, 128]), p2: torch.Size([8, 128]), z1: torch.Size([8, 128]), z2: torch.Size([8, 128])\n",
      "Shapes - p1: torch.Size([8, 128]), p2: torch.Size([8, 128]), z1: torch.Size([8, 128]), z2: torch.Size([8, 128])\n",
      "Shapes - p1: torch.Size([8, 128]), p2: torch.Size([8, 128]), z1: torch.Size([8, 128]), z2: torch.Size([8, 128])\n",
      "Epoch [11/100], Batch [45/55], Loss: 0.0410\n",
      "Shapes - p1: torch.Size([8, 128]), p2: torch.Size([8, 128]), z1: torch.Size([8, 128]), z2: torch.Size([8, 128])\n",
      "Shapes - p1: torch.Size([8, 128]), p2: torch.Size([8, 128]), z1: torch.Size([8, 128]), z2: torch.Size([8, 128])\n",
      "Shapes - p1: torch.Size([8, 128]), p2: torch.Size([8, 128]), z1: torch.Size([8, 128]), z2: torch.Size([8, 128])\n",
      "Shapes - p1: torch.Size([8, 128]), p2: torch.Size([8, 128]), z1: torch.Size([8, 128]), z2: torch.Size([8, 128])\n",
      "Shapes - p1: torch.Size([8, 128]), p2: torch.Size([8, 128]), z1: torch.Size([8, 128]), z2: torch.Size([8, 128])\n",
      "Epoch [11/100], Batch [50/55], Loss: 0.0406\n",
      "Shapes - p1: torch.Size([8, 128]), p2: torch.Size([8, 128]), z1: torch.Size([8, 128]), z2: torch.Size([8, 128])\n",
      "Shapes - p1: torch.Size([8, 128]), p2: torch.Size([8, 128]), z1: torch.Size([8, 128]), z2: torch.Size([8, 128])\n",
      "Shapes - p1: torch.Size([8, 128]), p2: torch.Size([8, 128]), z1: torch.Size([8, 128]), z2: torch.Size([8, 128])\n",
      "Shapes - p1: torch.Size([8, 128]), p2: torch.Size([8, 128]), z1: torch.Size([8, 128]), z2: torch.Size([8, 128])\n",
      "Shapes - p1: torch.Size([6, 128]), p2: torch.Size([6, 128]), z1: torch.Size([6, 128]), z2: torch.Size([6, 128])\n",
      "Epoch [11/100], Batch [55/55], Loss: 0.0067\n",
      "✅ Completed Epoch [11/100] | Avg Loss: 0.0126\n",
      "✅ Model Improved & Saved!\n",
      "Shapes - p1: torch.Size([8, 128]), p2: torch.Size([8, 128]), z1: torch.Size([8, 128]), z2: torch.Size([8, 128])\n",
      "Shapes - p1: torch.Size([8, 128]), p2: torch.Size([8, 128]), z1: torch.Size([8, 128]), z2: torch.Size([8, 128])\n",
      "Shapes - p1: torch.Size([8, 128]), p2: torch.Size([8, 128]), z1: torch.Size([8, 128]), z2: torch.Size([8, 128])\n",
      "Shapes - p1: torch.Size([8, 128]), p2: torch.Size([8, 128]), z1: torch.Size([8, 128]), z2: torch.Size([8, 128])\n",
      "Shapes - p1: torch.Size([8, 128]), p2: torch.Size([8, 128]), z1: torch.Size([8, 128]), z2: torch.Size([8, 128])\n",
      "Epoch [12/100], Batch [5/55], Loss: 0.0080\n",
      "Shapes - p1: torch.Size([8, 128]), p2: torch.Size([8, 128]), z1: torch.Size([8, 128]), z2: torch.Size([8, 128])\n",
      "Shapes - p1: torch.Size([8, 128]), p2: torch.Size([8, 128]), z1: torch.Size([8, 128]), z2: torch.Size([8, 128])\n",
      "Shapes - p1: torch.Size([8, 128]), p2: torch.Size([8, 128]), z1: torch.Size([8, 128]), z2: torch.Size([8, 128])\n",
      "Shapes - p1: torch.Size([8, 128]), p2: torch.Size([8, 128]), z1: torch.Size([8, 128]), z2: torch.Size([8, 128])\n",
      "Shapes - p1: torch.Size([8, 128]), p2: torch.Size([8, 128]), z1: torch.Size([8, 128]), z2: torch.Size([8, 128])\n",
      "Epoch [12/100], Batch [10/55], Loss: 0.0040\n",
      "Shapes - p1: torch.Size([8, 128]), p2: torch.Size([8, 128]), z1: torch.Size([8, 128]), z2: torch.Size([8, 128])\n",
      "Shapes - p1: torch.Size([8, 128]), p2: torch.Size([8, 128]), z1: torch.Size([8, 128]), z2: torch.Size([8, 128])\n",
      "Shapes - p1: torch.Size([8, 128]), p2: torch.Size([8, 128]), z1: torch.Size([8, 128]), z2: torch.Size([8, 128])\n",
      "Shapes - p1: torch.Size([8, 128]), p2: torch.Size([8, 128]), z1: torch.Size([8, 128]), z2: torch.Size([8, 128])\n",
      "Shapes - p1: torch.Size([8, 128]), p2: torch.Size([8, 128]), z1: torch.Size([8, 128]), z2: torch.Size([8, 128])\n",
      "Epoch [12/100], Batch [15/55], Loss: 0.0077\n",
      "Shapes - p1: torch.Size([8, 128]), p2: torch.Size([8, 128]), z1: torch.Size([8, 128]), z2: torch.Size([8, 128])\n",
      "Shapes - p1: torch.Size([8, 128]), p2: torch.Size([8, 128]), z1: torch.Size([8, 128]), z2: torch.Size([8, 128])\n",
      "Shapes - p1: torch.Size([8, 128]), p2: torch.Size([8, 128]), z1: torch.Size([8, 128]), z2: torch.Size([8, 128])\n",
      "Shapes - p1: torch.Size([8, 128]), p2: torch.Size([8, 128]), z1: torch.Size([8, 128]), z2: torch.Size([8, 128])\n",
      "Shapes - p1: torch.Size([8, 128]), p2: torch.Size([8, 128]), z1: torch.Size([8, 128]), z2: torch.Size([8, 128])\n",
      "Epoch [12/100], Batch [20/55], Loss: 0.0050\n",
      "Shapes - p1: torch.Size([8, 128]), p2: torch.Size([8, 128]), z1: torch.Size([8, 128]), z2: torch.Size([8, 128])\n",
      "Shapes - p1: torch.Size([8, 128]), p2: torch.Size([8, 128]), z1: torch.Size([8, 128]), z2: torch.Size([8, 128])\n",
      "Shapes - p1: torch.Size([8, 128]), p2: torch.Size([8, 128]), z1: torch.Size([8, 128]), z2: torch.Size([8, 128])\n",
      "Shapes - p1: torch.Size([8, 128]), p2: torch.Size([8, 128]), z1: torch.Size([8, 128]), z2: torch.Size([8, 128])\n",
      "Shapes - p1: torch.Size([8, 128]), p2: torch.Size([8, 128]), z1: torch.Size([8, 128]), z2: torch.Size([8, 128])\n",
      "Epoch [12/100], Batch [25/55], Loss: 0.0352\n",
      "Shapes - p1: torch.Size([8, 128]), p2: torch.Size([8, 128]), z1: torch.Size([8, 128]), z2: torch.Size([8, 128])\n",
      "Shapes - p1: torch.Size([8, 128]), p2: torch.Size([8, 128]), z1: torch.Size([8, 128]), z2: torch.Size([8, 128])\n",
      "Shapes - p1: torch.Size([8, 128]), p2: torch.Size([8, 128]), z1: torch.Size([8, 128]), z2: torch.Size([8, 128])\n",
      "Shapes - p1: torch.Size([8, 128]), p2: torch.Size([8, 128]), z1: torch.Size([8, 128]), z2: torch.Size([8, 128])\n",
      "Shapes - p1: torch.Size([8, 128]), p2: torch.Size([8, 128]), z1: torch.Size([8, 128]), z2: torch.Size([8, 128])\n",
      "Epoch [12/100], Batch [30/55], Loss: 0.0061\n",
      "Shapes - p1: torch.Size([8, 128]), p2: torch.Size([8, 128]), z1: torch.Size([8, 128]), z2: torch.Size([8, 128])\n",
      "Shapes - p1: torch.Size([8, 128]), p2: torch.Size([8, 128]), z1: torch.Size([8, 128]), z2: torch.Size([8, 128])\n",
      "Shapes - p1: torch.Size([8, 128]), p2: torch.Size([8, 128]), z1: torch.Size([8, 128]), z2: torch.Size([8, 128])\n",
      "Shapes - p1: torch.Size([8, 128]), p2: torch.Size([8, 128]), z1: torch.Size([8, 128]), z2: torch.Size([8, 128])\n",
      "Shapes - p1: torch.Size([8, 128]), p2: torch.Size([8, 128]), z1: torch.Size([8, 128]), z2: torch.Size([8, 128])\n",
      "Epoch [12/100], Batch [35/55], Loss: 0.0096\n",
      "Shapes - p1: torch.Size([8, 128]), p2: torch.Size([8, 128]), z1: torch.Size([8, 128]), z2: torch.Size([8, 128])\n",
      "Shapes - p1: torch.Size([8, 128]), p2: torch.Size([8, 128]), z1: torch.Size([8, 128]), z2: torch.Size([8, 128])\n",
      "Shapes - p1: torch.Size([8, 128]), p2: torch.Size([8, 128]), z1: torch.Size([8, 128]), z2: torch.Size([8, 128])\n",
      "Shapes - p1: torch.Size([8, 128]), p2: torch.Size([8, 128]), z1: torch.Size([8, 128]), z2: torch.Size([8, 128])\n",
      "Shapes - p1: torch.Size([8, 128]), p2: torch.Size([8, 128]), z1: torch.Size([8, 128]), z2: torch.Size([8, 128])\n",
      "Epoch [12/100], Batch [40/55], Loss: 0.0027\n",
      "Shapes - p1: torch.Size([8, 128]), p2: torch.Size([8, 128]), z1: torch.Size([8, 128]), z2: torch.Size([8, 128])\n",
      "Shapes - p1: torch.Size([8, 128]), p2: torch.Size([8, 128]), z1: torch.Size([8, 128]), z2: torch.Size([8, 128])\n",
      "Shapes - p1: torch.Size([8, 128]), p2: torch.Size([8, 128]), z1: torch.Size([8, 128]), z2: torch.Size([8, 128])\n",
      "Shapes - p1: torch.Size([8, 128]), p2: torch.Size([8, 128]), z1: torch.Size([8, 128]), z2: torch.Size([8, 128])\n",
      "Shapes - p1: torch.Size([8, 128]), p2: torch.Size([8, 128]), z1: torch.Size([8, 128]), z2: torch.Size([8, 128])\n",
      "Epoch [12/100], Batch [45/55], Loss: 0.0180\n",
      "Shapes - p1: torch.Size([8, 128]), p2: torch.Size([8, 128]), z1: torch.Size([8, 128]), z2: torch.Size([8, 128])\n",
      "Shapes - p1: torch.Size([8, 128]), p2: torch.Size([8, 128]), z1: torch.Size([8, 128]), z2: torch.Size([8, 128])\n",
      "Shapes - p1: torch.Size([8, 128]), p2: torch.Size([8, 128]), z1: torch.Size([8, 128]), z2: torch.Size([8, 128])\n",
      "Shapes - p1: torch.Size([8, 128]), p2: torch.Size([8, 128]), z1: torch.Size([8, 128]), z2: torch.Size([8, 128])\n",
      "Shapes - p1: torch.Size([8, 128]), p2: torch.Size([8, 128]), z1: torch.Size([8, 128]), z2: torch.Size([8, 128])\n",
      "Epoch [12/100], Batch [50/55], Loss: 0.0584\n",
      "Shapes - p1: torch.Size([8, 128]), p2: torch.Size([8, 128]), z1: torch.Size([8, 128]), z2: torch.Size([8, 128])\n",
      "Shapes - p1: torch.Size([8, 128]), p2: torch.Size([8, 128]), z1: torch.Size([8, 128]), z2: torch.Size([8, 128])\n",
      "Shapes - p1: torch.Size([8, 128]), p2: torch.Size([8, 128]), z1: torch.Size([8, 128]), z2: torch.Size([8, 128])\n",
      "Shapes - p1: torch.Size([8, 128]), p2: torch.Size([8, 128]), z1: torch.Size([8, 128]), z2: torch.Size([8, 128])\n",
      "Shapes - p1: torch.Size([6, 128]), p2: torch.Size([6, 128]), z1: torch.Size([6, 128]), z2: torch.Size([6, 128])\n",
      "Epoch [12/100], Batch [55/55], Loss: 0.0022\n",
      "✅ Completed Epoch [12/100] | Avg Loss: 0.0109\n",
      "✅ Model Improved & Saved!\n",
      "Shapes - p1: torch.Size([8, 128]), p2: torch.Size([8, 128]), z1: torch.Size([8, 128]), z2: torch.Size([8, 128])\n",
      "Shapes - p1: torch.Size([8, 128]), p2: torch.Size([8, 128]), z1: torch.Size([8, 128]), z2: torch.Size([8, 128])\n",
      "Shapes - p1: torch.Size([8, 128]), p2: torch.Size([8, 128]), z1: torch.Size([8, 128]), z2: torch.Size([8, 128])\n",
      "Shapes - p1: torch.Size([8, 128]), p2: torch.Size([8, 128]), z1: torch.Size([8, 128]), z2: torch.Size([8, 128])\n",
      "Shapes - p1: torch.Size([8, 128]), p2: torch.Size([8, 128]), z1: torch.Size([8, 128]), z2: torch.Size([8, 128])\n",
      "Epoch [13/100], Batch [5/55], Loss: 0.0046\n",
      "Shapes - p1: torch.Size([8, 128]), p2: torch.Size([8, 128]), z1: torch.Size([8, 128]), z2: torch.Size([8, 128])\n",
      "Shapes - p1: torch.Size([8, 128]), p2: torch.Size([8, 128]), z1: torch.Size([8, 128]), z2: torch.Size([8, 128])\n",
      "Shapes - p1: torch.Size([8, 128]), p2: torch.Size([8, 128]), z1: torch.Size([8, 128]), z2: torch.Size([8, 128])\n",
      "Shapes - p1: torch.Size([8, 128]), p2: torch.Size([8, 128]), z1: torch.Size([8, 128]), z2: torch.Size([8, 128])\n",
      "Shapes - p1: torch.Size([8, 128]), p2: torch.Size([8, 128]), z1: torch.Size([8, 128]), z2: torch.Size([8, 128])\n",
      "Epoch [13/100], Batch [10/55], Loss: 0.0084\n",
      "Shapes - p1: torch.Size([8, 128]), p2: torch.Size([8, 128]), z1: torch.Size([8, 128]), z2: torch.Size([8, 128])\n",
      "Shapes - p1: torch.Size([8, 128]), p2: torch.Size([8, 128]), z1: torch.Size([8, 128]), z2: torch.Size([8, 128])\n",
      "Shapes - p1: torch.Size([8, 128]), p2: torch.Size([8, 128]), z1: torch.Size([8, 128]), z2: torch.Size([8, 128])\n",
      "Shapes - p1: torch.Size([8, 128]), p2: torch.Size([8, 128]), z1: torch.Size([8, 128]), z2: torch.Size([8, 128])\n",
      "Shapes - p1: torch.Size([8, 128]), p2: torch.Size([8, 128]), z1: torch.Size([8, 128]), z2: torch.Size([8, 128])\n",
      "Epoch [13/100], Batch [15/55], Loss: 0.0056\n",
      "Shapes - p1: torch.Size([8, 128]), p2: torch.Size([8, 128]), z1: torch.Size([8, 128]), z2: torch.Size([8, 128])\n",
      "Shapes - p1: torch.Size([8, 128]), p2: torch.Size([8, 128]), z1: torch.Size([8, 128]), z2: torch.Size([8, 128])\n",
      "Shapes - p1: torch.Size([8, 128]), p2: torch.Size([8, 128]), z1: torch.Size([8, 128]), z2: torch.Size([8, 128])\n",
      "Shapes - p1: torch.Size([8, 128]), p2: torch.Size([8, 128]), z1: torch.Size([8, 128]), z2: torch.Size([8, 128])\n",
      "Shapes - p1: torch.Size([8, 128]), p2: torch.Size([8, 128]), z1: torch.Size([8, 128]), z2: torch.Size([8, 128])\n",
      "Epoch [13/100], Batch [20/55], Loss: 0.0158\n",
      "Shapes - p1: torch.Size([8, 128]), p2: torch.Size([8, 128]), z1: torch.Size([8, 128]), z2: torch.Size([8, 128])\n",
      "Shapes - p1: torch.Size([8, 128]), p2: torch.Size([8, 128]), z1: torch.Size([8, 128]), z2: torch.Size([8, 128])\n",
      "Shapes - p1: torch.Size([8, 128]), p2: torch.Size([8, 128]), z1: torch.Size([8, 128]), z2: torch.Size([8, 128])\n",
      "Shapes - p1: torch.Size([8, 128]), p2: torch.Size([8, 128]), z1: torch.Size([8, 128]), z2: torch.Size([8, 128])\n",
      "Shapes - p1: torch.Size([8, 128]), p2: torch.Size([8, 128]), z1: torch.Size([8, 128]), z2: torch.Size([8, 128])\n",
      "Epoch [13/100], Batch [25/55], Loss: 0.0084\n",
      "Shapes - p1: torch.Size([8, 128]), p2: torch.Size([8, 128]), z1: torch.Size([8, 128]), z2: torch.Size([8, 128])\n",
      "Shapes - p1: torch.Size([8, 128]), p2: torch.Size([8, 128]), z1: torch.Size([8, 128]), z2: torch.Size([8, 128])\n",
      "Shapes - p1: torch.Size([8, 128]), p2: torch.Size([8, 128]), z1: torch.Size([8, 128]), z2: torch.Size([8, 128])\n",
      "Shapes - p1: torch.Size([8, 128]), p2: torch.Size([8, 128]), z1: torch.Size([8, 128]), z2: torch.Size([8, 128])\n",
      "Shapes - p1: torch.Size([8, 128]), p2: torch.Size([8, 128]), z1: torch.Size([8, 128]), z2: torch.Size([8, 128])\n",
      "Epoch [13/100], Batch [30/55], Loss: 0.0051\n",
      "Shapes - p1: torch.Size([8, 128]), p2: torch.Size([8, 128]), z1: torch.Size([8, 128]), z2: torch.Size([8, 128])\n",
      "Shapes - p1: torch.Size([8, 128]), p2: torch.Size([8, 128]), z1: torch.Size([8, 128]), z2: torch.Size([8, 128])\n",
      "Shapes - p1: torch.Size([8, 128]), p2: torch.Size([8, 128]), z1: torch.Size([8, 128]), z2: torch.Size([8, 128])\n",
      "Shapes - p1: torch.Size([8, 128]), p2: torch.Size([8, 128]), z1: torch.Size([8, 128]), z2: torch.Size([8, 128])\n",
      "Shapes - p1: torch.Size([8, 128]), p2: torch.Size([8, 128]), z1: torch.Size([8, 128]), z2: torch.Size([8, 128])\n",
      "Epoch [13/100], Batch [35/55], Loss: 0.0045\n",
      "Shapes - p1: torch.Size([8, 128]), p2: torch.Size([8, 128]), z1: torch.Size([8, 128]), z2: torch.Size([8, 128])\n",
      "Shapes - p1: torch.Size([8, 128]), p2: torch.Size([8, 128]), z1: torch.Size([8, 128]), z2: torch.Size([8, 128])\n",
      "Shapes - p1: torch.Size([8, 128]), p2: torch.Size([8, 128]), z1: torch.Size([8, 128]), z2: torch.Size([8, 128])\n",
      "Shapes - p1: torch.Size([8, 128]), p2: torch.Size([8, 128]), z1: torch.Size([8, 128]), z2: torch.Size([8, 128])\n",
      "Shapes - p1: torch.Size([8, 128]), p2: torch.Size([8, 128]), z1: torch.Size([8, 128]), z2: torch.Size([8, 128])\n",
      "Epoch [13/100], Batch [40/55], Loss: 0.0028\n",
      "Shapes - p1: torch.Size([8, 128]), p2: torch.Size([8, 128]), z1: torch.Size([8, 128]), z2: torch.Size([8, 128])\n",
      "Shapes - p1: torch.Size([8, 128]), p2: torch.Size([8, 128]), z1: torch.Size([8, 128]), z2: torch.Size([8, 128])\n",
      "Shapes - p1: torch.Size([8, 128]), p2: torch.Size([8, 128]), z1: torch.Size([8, 128]), z2: torch.Size([8, 128])\n",
      "Shapes - p1: torch.Size([8, 128]), p2: torch.Size([8, 128]), z1: torch.Size([8, 128]), z2: torch.Size([8, 128])\n",
      "Shapes - p1: torch.Size([8, 128]), p2: torch.Size([8, 128]), z1: torch.Size([8, 128]), z2: torch.Size([8, 128])\n",
      "Epoch [13/100], Batch [45/55], Loss: 0.0075\n",
      "Shapes - p1: torch.Size([8, 128]), p2: torch.Size([8, 128]), z1: torch.Size([8, 128]), z2: torch.Size([8, 128])\n",
      "Shapes - p1: torch.Size([8, 128]), p2: torch.Size([8, 128]), z1: torch.Size([8, 128]), z2: torch.Size([8, 128])\n",
      "Shapes - p1: torch.Size([8, 128]), p2: torch.Size([8, 128]), z1: torch.Size([8, 128]), z2: torch.Size([8, 128])\n",
      "Shapes - p1: torch.Size([8, 128]), p2: torch.Size([8, 128]), z1: torch.Size([8, 128]), z2: torch.Size([8, 128])\n",
      "Shapes - p1: torch.Size([8, 128]), p2: torch.Size([8, 128]), z1: torch.Size([8, 128]), z2: torch.Size([8, 128])\n",
      "Epoch [13/100], Batch [50/55], Loss: 0.0120\n",
      "Shapes - p1: torch.Size([8, 128]), p2: torch.Size([8, 128]), z1: torch.Size([8, 128]), z2: torch.Size([8, 128])\n",
      "Shapes - p1: torch.Size([8, 128]), p2: torch.Size([8, 128]), z1: torch.Size([8, 128]), z2: torch.Size([8, 128])\n",
      "Shapes - p1: torch.Size([8, 128]), p2: torch.Size([8, 128]), z1: torch.Size([8, 128]), z2: torch.Size([8, 128])\n",
      "Shapes - p1: torch.Size([8, 128]), p2: torch.Size([8, 128]), z1: torch.Size([8, 128]), z2: torch.Size([8, 128])\n",
      "Shapes - p1: torch.Size([6, 128]), p2: torch.Size([6, 128]), z1: torch.Size([6, 128]), z2: torch.Size([6, 128])\n",
      "Epoch [13/100], Batch [55/55], Loss: 0.0033\n",
      "✅ Completed Epoch [13/100] | Avg Loss: 0.0135\n",
      "⏳ No Improvement | Patience: 1/15\n",
      "Shapes - p1: torch.Size([8, 128]), p2: torch.Size([8, 128]), z1: torch.Size([8, 128]), z2: torch.Size([8, 128])\n",
      "Shapes - p1: torch.Size([8, 128]), p2: torch.Size([8, 128]), z1: torch.Size([8, 128]), z2: torch.Size([8, 128])\n",
      "Shapes - p1: torch.Size([8, 128]), p2: torch.Size([8, 128]), z1: torch.Size([8, 128]), z2: torch.Size([8, 128])\n",
      "Shapes - p1: torch.Size([8, 128]), p2: torch.Size([8, 128]), z1: torch.Size([8, 128]), z2: torch.Size([8, 128])\n",
      "Shapes - p1: torch.Size([8, 128]), p2: torch.Size([8, 128]), z1: torch.Size([8, 128]), z2: torch.Size([8, 128])\n",
      "Epoch [14/100], Batch [5/55], Loss: 0.0035\n",
      "Shapes - p1: torch.Size([8, 128]), p2: torch.Size([8, 128]), z1: torch.Size([8, 128]), z2: torch.Size([8, 128])\n",
      "Shapes - p1: torch.Size([8, 128]), p2: torch.Size([8, 128]), z1: torch.Size([8, 128]), z2: torch.Size([8, 128])\n",
      "Shapes - p1: torch.Size([8, 128]), p2: torch.Size([8, 128]), z1: torch.Size([8, 128]), z2: torch.Size([8, 128])\n",
      "Shapes - p1: torch.Size([8, 128]), p2: torch.Size([8, 128]), z1: torch.Size([8, 128]), z2: torch.Size([8, 128])\n",
      "Shapes - p1: torch.Size([8, 128]), p2: torch.Size([8, 128]), z1: torch.Size([8, 128]), z2: torch.Size([8, 128])\n",
      "Epoch [14/100], Batch [10/55], Loss: 0.0061\n",
      "Shapes - p1: torch.Size([8, 128]), p2: torch.Size([8, 128]), z1: torch.Size([8, 128]), z2: torch.Size([8, 128])\n",
      "Shapes - p1: torch.Size([8, 128]), p2: torch.Size([8, 128]), z1: torch.Size([8, 128]), z2: torch.Size([8, 128])\n",
      "Shapes - p1: torch.Size([8, 128]), p2: torch.Size([8, 128]), z1: torch.Size([8, 128]), z2: torch.Size([8, 128])\n",
      "Shapes - p1: torch.Size([8, 128]), p2: torch.Size([8, 128]), z1: torch.Size([8, 128]), z2: torch.Size([8, 128])\n",
      "Shapes - p1: torch.Size([8, 128]), p2: torch.Size([8, 128]), z1: torch.Size([8, 128]), z2: torch.Size([8, 128])\n",
      "Epoch [14/100], Batch [15/55], Loss: 0.0069\n",
      "Shapes - p1: torch.Size([8, 128]), p2: torch.Size([8, 128]), z1: torch.Size([8, 128]), z2: torch.Size([8, 128])\n",
      "Shapes - p1: torch.Size([8, 128]), p2: torch.Size([8, 128]), z1: torch.Size([8, 128]), z2: torch.Size([8, 128])\n",
      "Shapes - p1: torch.Size([8, 128]), p2: torch.Size([8, 128]), z1: torch.Size([8, 128]), z2: torch.Size([8, 128])\n",
      "Shapes - p1: torch.Size([8, 128]), p2: torch.Size([8, 128]), z1: torch.Size([8, 128]), z2: torch.Size([8, 128])\n",
      "Shapes - p1: torch.Size([8, 128]), p2: torch.Size([8, 128]), z1: torch.Size([8, 128]), z2: torch.Size([8, 128])\n",
      "Epoch [14/100], Batch [20/55], Loss: 0.0023\n",
      "Shapes - p1: torch.Size([8, 128]), p2: torch.Size([8, 128]), z1: torch.Size([8, 128]), z2: torch.Size([8, 128])\n",
      "Shapes - p1: torch.Size([8, 128]), p2: torch.Size([8, 128]), z1: torch.Size([8, 128]), z2: torch.Size([8, 128])\n",
      "Shapes - p1: torch.Size([8, 128]), p2: torch.Size([8, 128]), z1: torch.Size([8, 128]), z2: torch.Size([8, 128])\n",
      "Shapes - p1: torch.Size([8, 128]), p2: torch.Size([8, 128]), z1: torch.Size([8, 128]), z2: torch.Size([8, 128])\n",
      "Shapes - p1: torch.Size([8, 128]), p2: torch.Size([8, 128]), z1: torch.Size([8, 128]), z2: torch.Size([8, 128])\n",
      "Epoch [14/100], Batch [25/55], Loss: 0.0038\n",
      "Shapes - p1: torch.Size([8, 128]), p2: torch.Size([8, 128]), z1: torch.Size([8, 128]), z2: torch.Size([8, 128])\n",
      "Shapes - p1: torch.Size([8, 128]), p2: torch.Size([8, 128]), z1: torch.Size([8, 128]), z2: torch.Size([8, 128])\n",
      "Shapes - p1: torch.Size([8, 128]), p2: torch.Size([8, 128]), z1: torch.Size([8, 128]), z2: torch.Size([8, 128])\n",
      "Shapes - p1: torch.Size([8, 128]), p2: torch.Size([8, 128]), z1: torch.Size([8, 128]), z2: torch.Size([8, 128])\n",
      "Shapes - p1: torch.Size([8, 128]), p2: torch.Size([8, 128]), z1: torch.Size([8, 128]), z2: torch.Size([8, 128])\n",
      "Epoch [14/100], Batch [30/55], Loss: 0.0036\n",
      "Shapes - p1: torch.Size([8, 128]), p2: torch.Size([8, 128]), z1: torch.Size([8, 128]), z2: torch.Size([8, 128])\n",
      "Shapes - p1: torch.Size([8, 128]), p2: torch.Size([8, 128]), z1: torch.Size([8, 128]), z2: torch.Size([8, 128])\n",
      "Shapes - p1: torch.Size([8, 128]), p2: torch.Size([8, 128]), z1: torch.Size([8, 128]), z2: torch.Size([8, 128])\n",
      "Shapes - p1: torch.Size([8, 128]), p2: torch.Size([8, 128]), z1: torch.Size([8, 128]), z2: torch.Size([8, 128])\n",
      "Shapes - p1: torch.Size([8, 128]), p2: torch.Size([8, 128]), z1: torch.Size([8, 128]), z2: torch.Size([8, 128])\n",
      "Epoch [14/100], Batch [35/55], Loss: 0.1014\n",
      "Shapes - p1: torch.Size([8, 128]), p2: torch.Size([8, 128]), z1: torch.Size([8, 128]), z2: torch.Size([8, 128])\n",
      "Shapes - p1: torch.Size([8, 128]), p2: torch.Size([8, 128]), z1: torch.Size([8, 128]), z2: torch.Size([8, 128])\n",
      "Shapes - p1: torch.Size([8, 128]), p2: torch.Size([8, 128]), z1: torch.Size([8, 128]), z2: torch.Size([8, 128])\n",
      "Shapes - p1: torch.Size([8, 128]), p2: torch.Size([8, 128]), z1: torch.Size([8, 128]), z2: torch.Size([8, 128])\n",
      "Shapes - p1: torch.Size([8, 128]), p2: torch.Size([8, 128]), z1: torch.Size([8, 128]), z2: torch.Size([8, 128])\n",
      "Epoch [14/100], Batch [40/55], Loss: 0.0120\n",
      "Shapes - p1: torch.Size([8, 128]), p2: torch.Size([8, 128]), z1: torch.Size([8, 128]), z2: torch.Size([8, 128])\n",
      "Shapes - p1: torch.Size([8, 128]), p2: torch.Size([8, 128]), z1: torch.Size([8, 128]), z2: torch.Size([8, 128])\n",
      "Shapes - p1: torch.Size([8, 128]), p2: torch.Size([8, 128]), z1: torch.Size([8, 128]), z2: torch.Size([8, 128])\n",
      "Shapes - p1: torch.Size([8, 128]), p2: torch.Size([8, 128]), z1: torch.Size([8, 128]), z2: torch.Size([8, 128])\n",
      "Shapes - p1: torch.Size([8, 128]), p2: torch.Size([8, 128]), z1: torch.Size([8, 128]), z2: torch.Size([8, 128])\n",
      "Epoch [14/100], Batch [45/55], Loss: 0.0034\n",
      "Shapes - p1: torch.Size([8, 128]), p2: torch.Size([8, 128]), z1: torch.Size([8, 128]), z2: torch.Size([8, 128])\n",
      "Shapes - p1: torch.Size([8, 128]), p2: torch.Size([8, 128]), z1: torch.Size([8, 128]), z2: torch.Size([8, 128])\n",
      "Shapes - p1: torch.Size([8, 128]), p2: torch.Size([8, 128]), z1: torch.Size([8, 128]), z2: torch.Size([8, 128])\n",
      "Shapes - p1: torch.Size([8, 128]), p2: torch.Size([8, 128]), z1: torch.Size([8, 128]), z2: torch.Size([8, 128])\n",
      "Shapes - p1: torch.Size([8, 128]), p2: torch.Size([8, 128]), z1: torch.Size([8, 128]), z2: torch.Size([8, 128])\n",
      "Epoch [14/100], Batch [50/55], Loss: 0.0112\n",
      "Shapes - p1: torch.Size([8, 128]), p2: torch.Size([8, 128]), z1: torch.Size([8, 128]), z2: torch.Size([8, 128])\n",
      "Shapes - p1: torch.Size([8, 128]), p2: torch.Size([8, 128]), z1: torch.Size([8, 128]), z2: torch.Size([8, 128])\n",
      "Shapes - p1: torch.Size([8, 128]), p2: torch.Size([8, 128]), z1: torch.Size([8, 128]), z2: torch.Size([8, 128])\n",
      "Shapes - p1: torch.Size([8, 128]), p2: torch.Size([8, 128]), z1: torch.Size([8, 128]), z2: torch.Size([8, 128])\n",
      "Shapes - p1: torch.Size([6, 128]), p2: torch.Size([6, 128]), z1: torch.Size([6, 128]), z2: torch.Size([6, 128])\n",
      "Epoch [14/100], Batch [55/55], Loss: 0.0267\n",
      "✅ Completed Epoch [14/100] | Avg Loss: 0.0164\n",
      "⏳ No Improvement | Patience: 2/15\n",
      "Shapes - p1: torch.Size([8, 128]), p2: torch.Size([8, 128]), z1: torch.Size([8, 128]), z2: torch.Size([8, 128])\n",
      "Shapes - p1: torch.Size([8, 128]), p2: torch.Size([8, 128]), z1: torch.Size([8, 128]), z2: torch.Size([8, 128])\n",
      "Shapes - p1: torch.Size([8, 128]), p2: torch.Size([8, 128]), z1: torch.Size([8, 128]), z2: torch.Size([8, 128])\n",
      "Shapes - p1: torch.Size([8, 128]), p2: torch.Size([8, 128]), z1: torch.Size([8, 128]), z2: torch.Size([8, 128])\n",
      "Shapes - p1: torch.Size([8, 128]), p2: torch.Size([8, 128]), z1: torch.Size([8, 128]), z2: torch.Size([8, 128])\n",
      "Epoch [15/100], Batch [5/55], Loss: 0.0118\n",
      "Shapes - p1: torch.Size([8, 128]), p2: torch.Size([8, 128]), z1: torch.Size([8, 128]), z2: torch.Size([8, 128])\n",
      "Shapes - p1: torch.Size([8, 128]), p2: torch.Size([8, 128]), z1: torch.Size([8, 128]), z2: torch.Size([8, 128])\n",
      "Shapes - p1: torch.Size([8, 128]), p2: torch.Size([8, 128]), z1: torch.Size([8, 128]), z2: torch.Size([8, 128])\n",
      "Shapes - p1: torch.Size([8, 128]), p2: torch.Size([8, 128]), z1: torch.Size([8, 128]), z2: torch.Size([8, 128])\n",
      "Shapes - p1: torch.Size([8, 128]), p2: torch.Size([8, 128]), z1: torch.Size([8, 128]), z2: torch.Size([8, 128])\n",
      "Epoch [15/100], Batch [10/55], Loss: 0.0938\n",
      "Shapes - p1: torch.Size([8, 128]), p2: torch.Size([8, 128]), z1: torch.Size([8, 128]), z2: torch.Size([8, 128])\n",
      "Shapes - p1: torch.Size([8, 128]), p2: torch.Size([8, 128]), z1: torch.Size([8, 128]), z2: torch.Size([8, 128])\n",
      "Shapes - p1: torch.Size([8, 128]), p2: torch.Size([8, 128]), z1: torch.Size([8, 128]), z2: torch.Size([8, 128])\n",
      "Shapes - p1: torch.Size([8, 128]), p2: torch.Size([8, 128]), z1: torch.Size([8, 128]), z2: torch.Size([8, 128])\n",
      "Shapes - p1: torch.Size([8, 128]), p2: torch.Size([8, 128]), z1: torch.Size([8, 128]), z2: torch.Size([8, 128])\n",
      "Epoch [15/100], Batch [15/55], Loss: 0.0054\n",
      "Shapes - p1: torch.Size([8, 128]), p2: torch.Size([8, 128]), z1: torch.Size([8, 128]), z2: torch.Size([8, 128])\n",
      "Shapes - p1: torch.Size([8, 128]), p2: torch.Size([8, 128]), z1: torch.Size([8, 128]), z2: torch.Size([8, 128])\n",
      "Shapes - p1: torch.Size([8, 128]), p2: torch.Size([8, 128]), z1: torch.Size([8, 128]), z2: torch.Size([8, 128])\n",
      "Shapes - p1: torch.Size([8, 128]), p2: torch.Size([8, 128]), z1: torch.Size([8, 128]), z2: torch.Size([8, 128])\n",
      "Shapes - p1: torch.Size([8, 128]), p2: torch.Size([8, 128]), z1: torch.Size([8, 128]), z2: torch.Size([8, 128])\n",
      "Epoch [15/100], Batch [20/55], Loss: 0.0028\n",
      "Shapes - p1: torch.Size([8, 128]), p2: torch.Size([8, 128]), z1: torch.Size([8, 128]), z2: torch.Size([8, 128])\n",
      "Shapes - p1: torch.Size([8, 128]), p2: torch.Size([8, 128]), z1: torch.Size([8, 128]), z2: torch.Size([8, 128])\n",
      "Shapes - p1: torch.Size([8, 128]), p2: torch.Size([8, 128]), z1: torch.Size([8, 128]), z2: torch.Size([8, 128])\n",
      "Shapes - p1: torch.Size([8, 128]), p2: torch.Size([8, 128]), z1: torch.Size([8, 128]), z2: torch.Size([8, 128])\n",
      "Shapes - p1: torch.Size([8, 128]), p2: torch.Size([8, 128]), z1: torch.Size([8, 128]), z2: torch.Size([8, 128])\n",
      "Epoch [15/100], Batch [25/55], Loss: 0.0033\n",
      "Shapes - p1: torch.Size([8, 128]), p2: torch.Size([8, 128]), z1: torch.Size([8, 128]), z2: torch.Size([8, 128])\n",
      "Shapes - p1: torch.Size([8, 128]), p2: torch.Size([8, 128]), z1: torch.Size([8, 128]), z2: torch.Size([8, 128])\n",
      "Shapes - p1: torch.Size([8, 128]), p2: torch.Size([8, 128]), z1: torch.Size([8, 128]), z2: torch.Size([8, 128])\n",
      "Shapes - p1: torch.Size([8, 128]), p2: torch.Size([8, 128]), z1: torch.Size([8, 128]), z2: torch.Size([8, 128])\n",
      "Shapes - p1: torch.Size([8, 128]), p2: torch.Size([8, 128]), z1: torch.Size([8, 128]), z2: torch.Size([8, 128])\n",
      "Epoch [15/100], Batch [30/55], Loss: 0.0069\n",
      "Shapes - p1: torch.Size([8, 128]), p2: torch.Size([8, 128]), z1: torch.Size([8, 128]), z2: torch.Size([8, 128])\n",
      "Shapes - p1: torch.Size([8, 128]), p2: torch.Size([8, 128]), z1: torch.Size([8, 128]), z2: torch.Size([8, 128])\n",
      "Shapes - p1: torch.Size([8, 128]), p2: torch.Size([8, 128]), z1: torch.Size([8, 128]), z2: torch.Size([8, 128])\n",
      "Shapes - p1: torch.Size([8, 128]), p2: torch.Size([8, 128]), z1: torch.Size([8, 128]), z2: torch.Size([8, 128])\n",
      "Shapes - p1: torch.Size([8, 128]), p2: torch.Size([8, 128]), z1: torch.Size([8, 128]), z2: torch.Size([8, 128])\n",
      "Epoch [15/100], Batch [35/55], Loss: 0.0019\n",
      "Shapes - p1: torch.Size([8, 128]), p2: torch.Size([8, 128]), z1: torch.Size([8, 128]), z2: torch.Size([8, 128])\n",
      "Shapes - p1: torch.Size([8, 128]), p2: torch.Size([8, 128]), z1: torch.Size([8, 128]), z2: torch.Size([8, 128])\n",
      "Shapes - p1: torch.Size([8, 128]), p2: torch.Size([8, 128]), z1: torch.Size([8, 128]), z2: torch.Size([8, 128])\n",
      "Shapes - p1: torch.Size([8, 128]), p2: torch.Size([8, 128]), z1: torch.Size([8, 128]), z2: torch.Size([8, 128])\n",
      "Shapes - p1: torch.Size([8, 128]), p2: torch.Size([8, 128]), z1: torch.Size([8, 128]), z2: torch.Size([8, 128])\n",
      "Epoch [15/100], Batch [40/55], Loss: 0.0568\n",
      "Shapes - p1: torch.Size([8, 128]), p2: torch.Size([8, 128]), z1: torch.Size([8, 128]), z2: torch.Size([8, 128])\n",
      "Shapes - p1: torch.Size([8, 128]), p2: torch.Size([8, 128]), z1: torch.Size([8, 128]), z2: torch.Size([8, 128])\n",
      "Shapes - p1: torch.Size([8, 128]), p2: torch.Size([8, 128]), z1: torch.Size([8, 128]), z2: torch.Size([8, 128])\n",
      "Shapes - p1: torch.Size([8, 128]), p2: torch.Size([8, 128]), z1: torch.Size([8, 128]), z2: torch.Size([8, 128])\n",
      "Shapes - p1: torch.Size([8, 128]), p2: torch.Size([8, 128]), z1: torch.Size([8, 128]), z2: torch.Size([8, 128])\n",
      "Epoch [15/100], Batch [45/55], Loss: 0.0021\n",
      "Shapes - p1: torch.Size([8, 128]), p2: torch.Size([8, 128]), z1: torch.Size([8, 128]), z2: torch.Size([8, 128])\n",
      "Shapes - p1: torch.Size([8, 128]), p2: torch.Size([8, 128]), z1: torch.Size([8, 128]), z2: torch.Size([8, 128])\n",
      "Shapes - p1: torch.Size([8, 128]), p2: torch.Size([8, 128]), z1: torch.Size([8, 128]), z2: torch.Size([8, 128])\n",
      "Shapes - p1: torch.Size([8, 128]), p2: torch.Size([8, 128]), z1: torch.Size([8, 128]), z2: torch.Size([8, 128])\n",
      "Shapes - p1: torch.Size([8, 128]), p2: torch.Size([8, 128]), z1: torch.Size([8, 128]), z2: torch.Size([8, 128])\n",
      "Epoch [15/100], Batch [50/55], Loss: 0.0145\n",
      "Shapes - p1: torch.Size([8, 128]), p2: torch.Size([8, 128]), z1: torch.Size([8, 128]), z2: torch.Size([8, 128])\n",
      "Shapes - p1: torch.Size([8, 128]), p2: torch.Size([8, 128]), z1: torch.Size([8, 128]), z2: torch.Size([8, 128])\n",
      "Shapes - p1: torch.Size([8, 128]), p2: torch.Size([8, 128]), z1: torch.Size([8, 128]), z2: torch.Size([8, 128])\n",
      "Shapes - p1: torch.Size([8, 128]), p2: torch.Size([8, 128]), z1: torch.Size([8, 128]), z2: torch.Size([8, 128])\n",
      "Shapes - p1: torch.Size([6, 128]), p2: torch.Size([6, 128]), z1: torch.Size([6, 128]), z2: torch.Size([6, 128])\n",
      "Epoch [15/100], Batch [55/55], Loss: 0.0028\n",
      "✅ Completed Epoch [15/100] | Avg Loss: 0.0133\n",
      "⏳ No Improvement | Patience: 3/15\n",
      "Shapes - p1: torch.Size([8, 128]), p2: torch.Size([8, 128]), z1: torch.Size([8, 128]), z2: torch.Size([8, 128])\n",
      "Shapes - p1: torch.Size([8, 128]), p2: torch.Size([8, 128]), z1: torch.Size([8, 128]), z2: torch.Size([8, 128])\n",
      "Shapes - p1: torch.Size([8, 128]), p2: torch.Size([8, 128]), z1: torch.Size([8, 128]), z2: torch.Size([8, 128])\n",
      "Shapes - p1: torch.Size([8, 128]), p2: torch.Size([8, 128]), z1: torch.Size([8, 128]), z2: torch.Size([8, 128])\n",
      "Shapes - p1: torch.Size([8, 128]), p2: torch.Size([8, 128]), z1: torch.Size([8, 128]), z2: torch.Size([8, 128])\n",
      "Epoch [16/100], Batch [5/55], Loss: 0.0196\n",
      "Shapes - p1: torch.Size([8, 128]), p2: torch.Size([8, 128]), z1: torch.Size([8, 128]), z2: torch.Size([8, 128])\n",
      "Shapes - p1: torch.Size([8, 128]), p2: torch.Size([8, 128]), z1: torch.Size([8, 128]), z2: torch.Size([8, 128])\n",
      "Shapes - p1: torch.Size([8, 128]), p2: torch.Size([8, 128]), z1: torch.Size([8, 128]), z2: torch.Size([8, 128])\n",
      "Shapes - p1: torch.Size([8, 128]), p2: torch.Size([8, 128]), z1: torch.Size([8, 128]), z2: torch.Size([8, 128])\n",
      "Shapes - p1: torch.Size([8, 128]), p2: torch.Size([8, 128]), z1: torch.Size([8, 128]), z2: torch.Size([8, 128])\n",
      "Epoch [16/100], Batch [10/55], Loss: 0.0037\n",
      "Shapes - p1: torch.Size([8, 128]), p2: torch.Size([8, 128]), z1: torch.Size([8, 128]), z2: torch.Size([8, 128])\n",
      "Shapes - p1: torch.Size([8, 128]), p2: torch.Size([8, 128]), z1: torch.Size([8, 128]), z2: torch.Size([8, 128])\n",
      "Shapes - p1: torch.Size([8, 128]), p2: torch.Size([8, 128]), z1: torch.Size([8, 128]), z2: torch.Size([8, 128])\n",
      "Shapes - p1: torch.Size([8, 128]), p2: torch.Size([8, 128]), z1: torch.Size([8, 128]), z2: torch.Size([8, 128])\n",
      "Shapes - p1: torch.Size([8, 128]), p2: torch.Size([8, 128]), z1: torch.Size([8, 128]), z2: torch.Size([8, 128])\n",
      "Epoch [16/100], Batch [15/55], Loss: 0.0034\n",
      "Shapes - p1: torch.Size([8, 128]), p2: torch.Size([8, 128]), z1: torch.Size([8, 128]), z2: torch.Size([8, 128])\n",
      "Shapes - p1: torch.Size([8, 128]), p2: torch.Size([8, 128]), z1: torch.Size([8, 128]), z2: torch.Size([8, 128])\n",
      "Shapes - p1: torch.Size([8, 128]), p2: torch.Size([8, 128]), z1: torch.Size([8, 128]), z2: torch.Size([8, 128])\n",
      "Shapes - p1: torch.Size([8, 128]), p2: torch.Size([8, 128]), z1: torch.Size([8, 128]), z2: torch.Size([8, 128])\n",
      "Shapes - p1: torch.Size([8, 128]), p2: torch.Size([8, 128]), z1: torch.Size([8, 128]), z2: torch.Size([8, 128])\n",
      "Epoch [16/100], Batch [20/55], Loss: 0.0054\n",
      "Shapes - p1: torch.Size([8, 128]), p2: torch.Size([8, 128]), z1: torch.Size([8, 128]), z2: torch.Size([8, 128])\n",
      "Shapes - p1: torch.Size([8, 128]), p2: torch.Size([8, 128]), z1: torch.Size([8, 128]), z2: torch.Size([8, 128])\n",
      "Shapes - p1: torch.Size([8, 128]), p2: torch.Size([8, 128]), z1: torch.Size([8, 128]), z2: torch.Size([8, 128])\n",
      "Shapes - p1: torch.Size([8, 128]), p2: torch.Size([8, 128]), z1: torch.Size([8, 128]), z2: torch.Size([8, 128])\n",
      "Shapes - p1: torch.Size([8, 128]), p2: torch.Size([8, 128]), z1: torch.Size([8, 128]), z2: torch.Size([8, 128])\n",
      "Epoch [16/100], Batch [25/55], Loss: 0.0049\n",
      "Shapes - p1: torch.Size([8, 128]), p2: torch.Size([8, 128]), z1: torch.Size([8, 128]), z2: torch.Size([8, 128])\n",
      "Shapes - p1: torch.Size([8, 128]), p2: torch.Size([8, 128]), z1: torch.Size([8, 128]), z2: torch.Size([8, 128])\n",
      "Shapes - p1: torch.Size([8, 128]), p2: torch.Size([8, 128]), z1: torch.Size([8, 128]), z2: torch.Size([8, 128])\n",
      "Shapes - p1: torch.Size([8, 128]), p2: torch.Size([8, 128]), z1: torch.Size([8, 128]), z2: torch.Size([8, 128])\n",
      "Shapes - p1: torch.Size([8, 128]), p2: torch.Size([8, 128]), z1: torch.Size([8, 128]), z2: torch.Size([8, 128])\n",
      "Epoch [16/100], Batch [30/55], Loss: 0.0071\n",
      "Shapes - p1: torch.Size([8, 128]), p2: torch.Size([8, 128]), z1: torch.Size([8, 128]), z2: torch.Size([8, 128])\n",
      "Shapes - p1: torch.Size([8, 128]), p2: torch.Size([8, 128]), z1: torch.Size([8, 128]), z2: torch.Size([8, 128])\n",
      "Shapes - p1: torch.Size([8, 128]), p2: torch.Size([8, 128]), z1: torch.Size([8, 128]), z2: torch.Size([8, 128])\n",
      "Shapes - p1: torch.Size([8, 128]), p2: torch.Size([8, 128]), z1: torch.Size([8, 128]), z2: torch.Size([8, 128])\n",
      "Shapes - p1: torch.Size([8, 128]), p2: torch.Size([8, 128]), z1: torch.Size([8, 128]), z2: torch.Size([8, 128])\n",
      "Epoch [16/100], Batch [35/55], Loss: 0.0042\n",
      "Shapes - p1: torch.Size([8, 128]), p2: torch.Size([8, 128]), z1: torch.Size([8, 128]), z2: torch.Size([8, 128])\n",
      "Shapes - p1: torch.Size([8, 128]), p2: torch.Size([8, 128]), z1: torch.Size([8, 128]), z2: torch.Size([8, 128])\n",
      "Shapes - p1: torch.Size([8, 128]), p2: torch.Size([8, 128]), z1: torch.Size([8, 128]), z2: torch.Size([8, 128])\n",
      "Shapes - p1: torch.Size([8, 128]), p2: torch.Size([8, 128]), z1: torch.Size([8, 128]), z2: torch.Size([8, 128])\n",
      "Shapes - p1: torch.Size([8, 128]), p2: torch.Size([8, 128]), z1: torch.Size([8, 128]), z2: torch.Size([8, 128])\n",
      "Epoch [16/100], Batch [40/55], Loss: 0.0040\n",
      "Shapes - p1: torch.Size([8, 128]), p2: torch.Size([8, 128]), z1: torch.Size([8, 128]), z2: torch.Size([8, 128])\n",
      "Shapes - p1: torch.Size([8, 128]), p2: torch.Size([8, 128]), z1: torch.Size([8, 128]), z2: torch.Size([8, 128])\n",
      "Shapes - p1: torch.Size([8, 128]), p2: torch.Size([8, 128]), z1: torch.Size([8, 128]), z2: torch.Size([8, 128])\n",
      "Shapes - p1: torch.Size([8, 128]), p2: torch.Size([8, 128]), z1: torch.Size([8, 128]), z2: torch.Size([8, 128])\n",
      "Shapes - p1: torch.Size([8, 128]), p2: torch.Size([8, 128]), z1: torch.Size([8, 128]), z2: torch.Size([8, 128])\n",
      "Epoch [16/100], Batch [45/55], Loss: 0.0061\n",
      "Shapes - p1: torch.Size([8, 128]), p2: torch.Size([8, 128]), z1: torch.Size([8, 128]), z2: torch.Size([8, 128])\n",
      "Shapes - p1: torch.Size([8, 128]), p2: torch.Size([8, 128]), z1: torch.Size([8, 128]), z2: torch.Size([8, 128])\n",
      "Shapes - p1: torch.Size([8, 128]), p2: torch.Size([8, 128]), z1: torch.Size([8, 128]), z2: torch.Size([8, 128])\n",
      "Shapes - p1: torch.Size([8, 128]), p2: torch.Size([8, 128]), z1: torch.Size([8, 128]), z2: torch.Size([8, 128])\n",
      "Shapes - p1: torch.Size([8, 128]), p2: torch.Size([8, 128]), z1: torch.Size([8, 128]), z2: torch.Size([8, 128])\n",
      "Epoch [16/100], Batch [50/55], Loss: 0.0019\n",
      "Shapes - p1: torch.Size([8, 128]), p2: torch.Size([8, 128]), z1: torch.Size([8, 128]), z2: torch.Size([8, 128])\n",
      "Shapes - p1: torch.Size([8, 128]), p2: torch.Size([8, 128]), z1: torch.Size([8, 128]), z2: torch.Size([8, 128])\n",
      "Shapes - p1: torch.Size([8, 128]), p2: torch.Size([8, 128]), z1: torch.Size([8, 128]), z2: torch.Size([8, 128])\n",
      "Shapes - p1: torch.Size([8, 128]), p2: torch.Size([8, 128]), z1: torch.Size([8, 128]), z2: torch.Size([8, 128])\n",
      "Shapes - p1: torch.Size([6, 128]), p2: torch.Size([6, 128]), z1: torch.Size([6, 128]), z2: torch.Size([6, 128])\n",
      "Epoch [16/100], Batch [55/55], Loss: 0.0020\n",
      "✅ Completed Epoch [16/100] | Avg Loss: 0.0078\n",
      "✅ Model Improved & Saved!\n",
      "Shapes - p1: torch.Size([8, 128]), p2: torch.Size([8, 128]), z1: torch.Size([8, 128]), z2: torch.Size([8, 128])\n",
      "Shapes - p1: torch.Size([8, 128]), p2: torch.Size([8, 128]), z1: torch.Size([8, 128]), z2: torch.Size([8, 128])\n",
      "Shapes - p1: torch.Size([8, 128]), p2: torch.Size([8, 128]), z1: torch.Size([8, 128]), z2: torch.Size([8, 128])\n",
      "Shapes - p1: torch.Size([8, 128]), p2: torch.Size([8, 128]), z1: torch.Size([8, 128]), z2: torch.Size([8, 128])\n",
      "Shapes - p1: torch.Size([8, 128]), p2: torch.Size([8, 128]), z1: torch.Size([8, 128]), z2: torch.Size([8, 128])\n",
      "Epoch [17/100], Batch [5/55], Loss: 0.0031\n",
      "Shapes - p1: torch.Size([8, 128]), p2: torch.Size([8, 128]), z1: torch.Size([8, 128]), z2: torch.Size([8, 128])\n",
      "Shapes - p1: torch.Size([8, 128]), p2: torch.Size([8, 128]), z1: torch.Size([8, 128]), z2: torch.Size([8, 128])\n",
      "Shapes - p1: torch.Size([8, 128]), p2: torch.Size([8, 128]), z1: torch.Size([8, 128]), z2: torch.Size([8, 128])\n",
      "Shapes - p1: torch.Size([8, 128]), p2: torch.Size([8, 128]), z1: torch.Size([8, 128]), z2: torch.Size([8, 128])\n",
      "Shapes - p1: torch.Size([8, 128]), p2: torch.Size([8, 128]), z1: torch.Size([8, 128]), z2: torch.Size([8, 128])\n",
      "Epoch [17/100], Batch [10/55], Loss: 0.0031\n",
      "Shapes - p1: torch.Size([8, 128]), p2: torch.Size([8, 128]), z1: torch.Size([8, 128]), z2: torch.Size([8, 128])\n",
      "Shapes - p1: torch.Size([8, 128]), p2: torch.Size([8, 128]), z1: torch.Size([8, 128]), z2: torch.Size([8, 128])\n",
      "Shapes - p1: torch.Size([8, 128]), p2: torch.Size([8, 128]), z1: torch.Size([8, 128]), z2: torch.Size([8, 128])\n",
      "Shapes - p1: torch.Size([8, 128]), p2: torch.Size([8, 128]), z1: torch.Size([8, 128]), z2: torch.Size([8, 128])\n",
      "Shapes - p1: torch.Size([8, 128]), p2: torch.Size([8, 128]), z1: torch.Size([8, 128]), z2: torch.Size([8, 128])\n",
      "Epoch [17/100], Batch [15/55], Loss: 0.0035\n",
      "Shapes - p1: torch.Size([8, 128]), p2: torch.Size([8, 128]), z1: torch.Size([8, 128]), z2: torch.Size([8, 128])\n",
      "Shapes - p1: torch.Size([8, 128]), p2: torch.Size([8, 128]), z1: torch.Size([8, 128]), z2: torch.Size([8, 128])\n",
      "Shapes - p1: torch.Size([8, 128]), p2: torch.Size([8, 128]), z1: torch.Size([8, 128]), z2: torch.Size([8, 128])\n",
      "Shapes - p1: torch.Size([8, 128]), p2: torch.Size([8, 128]), z1: torch.Size([8, 128]), z2: torch.Size([8, 128])\n",
      "Shapes - p1: torch.Size([8, 128]), p2: torch.Size([8, 128]), z1: torch.Size([8, 128]), z2: torch.Size([8, 128])\n",
      "Epoch [17/100], Batch [20/55], Loss: 0.0192\n",
      "Shapes - p1: torch.Size([8, 128]), p2: torch.Size([8, 128]), z1: torch.Size([8, 128]), z2: torch.Size([8, 128])\n",
      "Shapes - p1: torch.Size([8, 128]), p2: torch.Size([8, 128]), z1: torch.Size([8, 128]), z2: torch.Size([8, 128])\n",
      "Shapes - p1: torch.Size([8, 128]), p2: torch.Size([8, 128]), z1: torch.Size([8, 128]), z2: torch.Size([8, 128])\n",
      "Shapes - p1: torch.Size([8, 128]), p2: torch.Size([8, 128]), z1: torch.Size([8, 128]), z2: torch.Size([8, 128])\n",
      "Shapes - p1: torch.Size([8, 128]), p2: torch.Size([8, 128]), z1: torch.Size([8, 128]), z2: torch.Size([8, 128])\n",
      "Epoch [17/100], Batch [25/55], Loss: 0.0029\n",
      "Shapes - p1: torch.Size([8, 128]), p2: torch.Size([8, 128]), z1: torch.Size([8, 128]), z2: torch.Size([8, 128])\n",
      "Shapes - p1: torch.Size([8, 128]), p2: torch.Size([8, 128]), z1: torch.Size([8, 128]), z2: torch.Size([8, 128])\n",
      "Shapes - p1: torch.Size([8, 128]), p2: torch.Size([8, 128]), z1: torch.Size([8, 128]), z2: torch.Size([8, 128])\n",
      "Shapes - p1: torch.Size([8, 128]), p2: torch.Size([8, 128]), z1: torch.Size([8, 128]), z2: torch.Size([8, 128])\n",
      "Shapes - p1: torch.Size([8, 128]), p2: torch.Size([8, 128]), z1: torch.Size([8, 128]), z2: torch.Size([8, 128])\n",
      "Epoch [17/100], Batch [30/55], Loss: 0.0136\n",
      "Shapes - p1: torch.Size([8, 128]), p2: torch.Size([8, 128]), z1: torch.Size([8, 128]), z2: torch.Size([8, 128])\n",
      "Shapes - p1: torch.Size([8, 128]), p2: torch.Size([8, 128]), z1: torch.Size([8, 128]), z2: torch.Size([8, 128])\n",
      "Shapes - p1: torch.Size([8, 128]), p2: torch.Size([8, 128]), z1: torch.Size([8, 128]), z2: torch.Size([8, 128])\n",
      "Shapes - p1: torch.Size([8, 128]), p2: torch.Size([8, 128]), z1: torch.Size([8, 128]), z2: torch.Size([8, 128])\n",
      "Shapes - p1: torch.Size([8, 128]), p2: torch.Size([8, 128]), z1: torch.Size([8, 128]), z2: torch.Size([8, 128])\n",
      "Epoch [17/100], Batch [35/55], Loss: 0.0102\n",
      "Shapes - p1: torch.Size([8, 128]), p2: torch.Size([8, 128]), z1: torch.Size([8, 128]), z2: torch.Size([8, 128])\n",
      "Shapes - p1: torch.Size([8, 128]), p2: torch.Size([8, 128]), z1: torch.Size([8, 128]), z2: torch.Size([8, 128])\n",
      "Shapes - p1: torch.Size([8, 128]), p2: torch.Size([8, 128]), z1: torch.Size([8, 128]), z2: torch.Size([8, 128])\n",
      "Shapes - p1: torch.Size([8, 128]), p2: torch.Size([8, 128]), z1: torch.Size([8, 128]), z2: torch.Size([8, 128])\n",
      "Shapes - p1: torch.Size([8, 128]), p2: torch.Size([8, 128]), z1: torch.Size([8, 128]), z2: torch.Size([8, 128])\n",
      "Epoch [17/100], Batch [40/55], Loss: 0.0024\n",
      "Shapes - p1: torch.Size([8, 128]), p2: torch.Size([8, 128]), z1: torch.Size([8, 128]), z2: torch.Size([8, 128])\n",
      "Shapes - p1: torch.Size([8, 128]), p2: torch.Size([8, 128]), z1: torch.Size([8, 128]), z2: torch.Size([8, 128])\n",
      "Shapes - p1: torch.Size([8, 128]), p2: torch.Size([8, 128]), z1: torch.Size([8, 128]), z2: torch.Size([8, 128])\n",
      "Shapes - p1: torch.Size([8, 128]), p2: torch.Size([8, 128]), z1: torch.Size([8, 128]), z2: torch.Size([8, 128])\n",
      "Shapes - p1: torch.Size([8, 128]), p2: torch.Size([8, 128]), z1: torch.Size([8, 128]), z2: torch.Size([8, 128])\n",
      "Epoch [17/100], Batch [45/55], Loss: 0.0098\n",
      "Shapes - p1: torch.Size([8, 128]), p2: torch.Size([8, 128]), z1: torch.Size([8, 128]), z2: torch.Size([8, 128])\n",
      "Shapes - p1: torch.Size([8, 128]), p2: torch.Size([8, 128]), z1: torch.Size([8, 128]), z2: torch.Size([8, 128])\n",
      "Shapes - p1: torch.Size([8, 128]), p2: torch.Size([8, 128]), z1: torch.Size([8, 128]), z2: torch.Size([8, 128])\n",
      "Shapes - p1: torch.Size([8, 128]), p2: torch.Size([8, 128]), z1: torch.Size([8, 128]), z2: torch.Size([8, 128])\n",
      "Shapes - p1: torch.Size([8, 128]), p2: torch.Size([8, 128]), z1: torch.Size([8, 128]), z2: torch.Size([8, 128])\n",
      "Epoch [17/100], Batch [50/55], Loss: 0.0092\n",
      "Shapes - p1: torch.Size([8, 128]), p2: torch.Size([8, 128]), z1: torch.Size([8, 128]), z2: torch.Size([8, 128])\n",
      "Shapes - p1: torch.Size([8, 128]), p2: torch.Size([8, 128]), z1: torch.Size([8, 128]), z2: torch.Size([8, 128])\n",
      "Shapes - p1: torch.Size([8, 128]), p2: torch.Size([8, 128]), z1: torch.Size([8, 128]), z2: torch.Size([8, 128])\n",
      "Shapes - p1: torch.Size([8, 128]), p2: torch.Size([8, 128]), z1: torch.Size([8, 128]), z2: torch.Size([8, 128])\n",
      "Shapes - p1: torch.Size([6, 128]), p2: torch.Size([6, 128]), z1: torch.Size([6, 128]), z2: torch.Size([6, 128])\n",
      "Epoch [17/100], Batch [55/55], Loss: 0.0029\n",
      "✅ Completed Epoch [17/100] | Avg Loss: 0.0079\n",
      "⏳ No Improvement | Patience: 1/15\n",
      "Shapes - p1: torch.Size([8, 128]), p2: torch.Size([8, 128]), z1: torch.Size([8, 128]), z2: torch.Size([8, 128])\n",
      "Shapes - p1: torch.Size([8, 128]), p2: torch.Size([8, 128]), z1: torch.Size([8, 128]), z2: torch.Size([8, 128])\n",
      "Shapes - p1: torch.Size([8, 128]), p2: torch.Size([8, 128]), z1: torch.Size([8, 128]), z2: torch.Size([8, 128])\n",
      "Shapes - p1: torch.Size([8, 128]), p2: torch.Size([8, 128]), z1: torch.Size([8, 128]), z2: torch.Size([8, 128])\n",
      "Shapes - p1: torch.Size([8, 128]), p2: torch.Size([8, 128]), z1: torch.Size([8, 128]), z2: torch.Size([8, 128])\n",
      "Epoch [18/100], Batch [5/55], Loss: 0.0032\n",
      "Shapes - p1: torch.Size([8, 128]), p2: torch.Size([8, 128]), z1: torch.Size([8, 128]), z2: torch.Size([8, 128])\n",
      "Shapes - p1: torch.Size([8, 128]), p2: torch.Size([8, 128]), z1: torch.Size([8, 128]), z2: torch.Size([8, 128])\n",
      "Shapes - p1: torch.Size([8, 128]), p2: torch.Size([8, 128]), z1: torch.Size([8, 128]), z2: torch.Size([8, 128])\n",
      "Shapes - p1: torch.Size([8, 128]), p2: torch.Size([8, 128]), z1: torch.Size([8, 128]), z2: torch.Size([8, 128])\n",
      "Shapes - p1: torch.Size([8, 128]), p2: torch.Size([8, 128]), z1: torch.Size([8, 128]), z2: torch.Size([8, 128])\n",
      "Epoch [18/100], Batch [10/55], Loss: 0.0101\n",
      "Shapes - p1: torch.Size([8, 128]), p2: torch.Size([8, 128]), z1: torch.Size([8, 128]), z2: torch.Size([8, 128])\n",
      "Shapes - p1: torch.Size([8, 128]), p2: torch.Size([8, 128]), z1: torch.Size([8, 128]), z2: torch.Size([8, 128])\n",
      "Shapes - p1: torch.Size([8, 128]), p2: torch.Size([8, 128]), z1: torch.Size([8, 128]), z2: torch.Size([8, 128])\n",
      "Shapes - p1: torch.Size([8, 128]), p2: torch.Size([8, 128]), z1: torch.Size([8, 128]), z2: torch.Size([8, 128])\n",
      "Shapes - p1: torch.Size([8, 128]), p2: torch.Size([8, 128]), z1: torch.Size([8, 128]), z2: torch.Size([8, 128])\n",
      "Epoch [18/100], Batch [15/55], Loss: 0.0030\n",
      "Shapes - p1: torch.Size([8, 128]), p2: torch.Size([8, 128]), z1: torch.Size([8, 128]), z2: torch.Size([8, 128])\n",
      "Shapes - p1: torch.Size([8, 128]), p2: torch.Size([8, 128]), z1: torch.Size([8, 128]), z2: torch.Size([8, 128])\n",
      "Shapes - p1: torch.Size([8, 128]), p2: torch.Size([8, 128]), z1: torch.Size([8, 128]), z2: torch.Size([8, 128])\n",
      "Shapes - p1: torch.Size([8, 128]), p2: torch.Size([8, 128]), z1: torch.Size([8, 128]), z2: torch.Size([8, 128])\n",
      "Shapes - p1: torch.Size([8, 128]), p2: torch.Size([8, 128]), z1: torch.Size([8, 128]), z2: torch.Size([8, 128])\n",
      "Epoch [18/100], Batch [20/55], Loss: 0.0039\n",
      "Shapes - p1: torch.Size([8, 128]), p2: torch.Size([8, 128]), z1: torch.Size([8, 128]), z2: torch.Size([8, 128])\n",
      "Shapes - p1: torch.Size([8, 128]), p2: torch.Size([8, 128]), z1: torch.Size([8, 128]), z2: torch.Size([8, 128])\n",
      "Shapes - p1: torch.Size([8, 128]), p2: torch.Size([8, 128]), z1: torch.Size([8, 128]), z2: torch.Size([8, 128])\n",
      "Shapes - p1: torch.Size([8, 128]), p2: torch.Size([8, 128]), z1: torch.Size([8, 128]), z2: torch.Size([8, 128])\n",
      "Shapes - p1: torch.Size([8, 128]), p2: torch.Size([8, 128]), z1: torch.Size([8, 128]), z2: torch.Size([8, 128])\n",
      "Epoch [18/100], Batch [25/55], Loss: 0.0014\n",
      "Shapes - p1: torch.Size([8, 128]), p2: torch.Size([8, 128]), z1: torch.Size([8, 128]), z2: torch.Size([8, 128])\n",
      "Shapes - p1: torch.Size([8, 128]), p2: torch.Size([8, 128]), z1: torch.Size([8, 128]), z2: torch.Size([8, 128])\n",
      "Shapes - p1: torch.Size([8, 128]), p2: torch.Size([8, 128]), z1: torch.Size([8, 128]), z2: torch.Size([8, 128])\n",
      "Shapes - p1: torch.Size([8, 128]), p2: torch.Size([8, 128]), z1: torch.Size([8, 128]), z2: torch.Size([8, 128])\n",
      "Shapes - p1: torch.Size([8, 128]), p2: torch.Size([8, 128]), z1: torch.Size([8, 128]), z2: torch.Size([8, 128])\n",
      "Epoch [18/100], Batch [30/55], Loss: 0.0074\n",
      "Shapes - p1: torch.Size([8, 128]), p2: torch.Size([8, 128]), z1: torch.Size([8, 128]), z2: torch.Size([8, 128])\n",
      "Shapes - p1: torch.Size([8, 128]), p2: torch.Size([8, 128]), z1: torch.Size([8, 128]), z2: torch.Size([8, 128])\n",
      "Shapes - p1: torch.Size([8, 128]), p2: torch.Size([8, 128]), z1: torch.Size([8, 128]), z2: torch.Size([8, 128])\n",
      "Shapes - p1: torch.Size([8, 128]), p2: torch.Size([8, 128]), z1: torch.Size([8, 128]), z2: torch.Size([8, 128])\n",
      "Shapes - p1: torch.Size([8, 128]), p2: torch.Size([8, 128]), z1: torch.Size([8, 128]), z2: torch.Size([8, 128])\n",
      "Epoch [18/100], Batch [35/55], Loss: 0.0037\n",
      "Shapes - p1: torch.Size([8, 128]), p2: torch.Size([8, 128]), z1: torch.Size([8, 128]), z2: torch.Size([8, 128])\n",
      "Shapes - p1: torch.Size([8, 128]), p2: torch.Size([8, 128]), z1: torch.Size([8, 128]), z2: torch.Size([8, 128])\n",
      "Shapes - p1: torch.Size([8, 128]), p2: torch.Size([8, 128]), z1: torch.Size([8, 128]), z2: torch.Size([8, 128])\n",
      "Shapes - p1: torch.Size([8, 128]), p2: torch.Size([8, 128]), z1: torch.Size([8, 128]), z2: torch.Size([8, 128])\n",
      "Shapes - p1: torch.Size([8, 128]), p2: torch.Size([8, 128]), z1: torch.Size([8, 128]), z2: torch.Size([8, 128])\n",
      "Epoch [18/100], Batch [40/55], Loss: 0.0027\n",
      "Shapes - p1: torch.Size([8, 128]), p2: torch.Size([8, 128]), z1: torch.Size([8, 128]), z2: torch.Size([8, 128])\n",
      "Shapes - p1: torch.Size([8, 128]), p2: torch.Size([8, 128]), z1: torch.Size([8, 128]), z2: torch.Size([8, 128])\n",
      "Shapes - p1: torch.Size([8, 128]), p2: torch.Size([8, 128]), z1: torch.Size([8, 128]), z2: torch.Size([8, 128])\n",
      "Shapes - p1: torch.Size([8, 128]), p2: torch.Size([8, 128]), z1: torch.Size([8, 128]), z2: torch.Size([8, 128])\n",
      "Shapes - p1: torch.Size([8, 128]), p2: torch.Size([8, 128]), z1: torch.Size([8, 128]), z2: torch.Size([8, 128])\n",
      "Epoch [18/100], Batch [45/55], Loss: 0.0053\n",
      "Shapes - p1: torch.Size([8, 128]), p2: torch.Size([8, 128]), z1: torch.Size([8, 128]), z2: torch.Size([8, 128])\n",
      "Shapes - p1: torch.Size([8, 128]), p2: torch.Size([8, 128]), z1: torch.Size([8, 128]), z2: torch.Size([8, 128])\n",
      "Shapes - p1: torch.Size([8, 128]), p2: torch.Size([8, 128]), z1: torch.Size([8, 128]), z2: torch.Size([8, 128])\n",
      "Shapes - p1: torch.Size([8, 128]), p2: torch.Size([8, 128]), z1: torch.Size([8, 128]), z2: torch.Size([8, 128])\n",
      "Shapes - p1: torch.Size([8, 128]), p2: torch.Size([8, 128]), z1: torch.Size([8, 128]), z2: torch.Size([8, 128])\n",
      "Epoch [18/100], Batch [50/55], Loss: 0.0067\n",
      "Shapes - p1: torch.Size([8, 128]), p2: torch.Size([8, 128]), z1: torch.Size([8, 128]), z2: torch.Size([8, 128])\n",
      "Shapes - p1: torch.Size([8, 128]), p2: torch.Size([8, 128]), z1: torch.Size([8, 128]), z2: torch.Size([8, 128])\n",
      "Shapes - p1: torch.Size([8, 128]), p2: torch.Size([8, 128]), z1: torch.Size([8, 128]), z2: torch.Size([8, 128])\n",
      "Shapes - p1: torch.Size([8, 128]), p2: torch.Size([8, 128]), z1: torch.Size([8, 128]), z2: torch.Size([8, 128])\n",
      "Shapes - p1: torch.Size([6, 128]), p2: torch.Size([6, 128]), z1: torch.Size([6, 128]), z2: torch.Size([6, 128])\n",
      "Epoch [18/100], Batch [55/55], Loss: 0.0023\n",
      "✅ Completed Epoch [18/100] | Avg Loss: 0.0075\n",
      "✅ Model Improved & Saved!\n",
      "Shapes - p1: torch.Size([8, 128]), p2: torch.Size([8, 128]), z1: torch.Size([8, 128]), z2: torch.Size([8, 128])\n",
      "Shapes - p1: torch.Size([8, 128]), p2: torch.Size([8, 128]), z1: torch.Size([8, 128]), z2: torch.Size([8, 128])\n",
      "Shapes - p1: torch.Size([8, 128]), p2: torch.Size([8, 128]), z1: torch.Size([8, 128]), z2: torch.Size([8, 128])\n",
      "Shapes - p1: torch.Size([8, 128]), p2: torch.Size([8, 128]), z1: torch.Size([8, 128]), z2: torch.Size([8, 128])\n",
      "Shapes - p1: torch.Size([8, 128]), p2: torch.Size([8, 128]), z1: torch.Size([8, 128]), z2: torch.Size([8, 128])\n",
      "Epoch [19/100], Batch [5/55], Loss: 0.0018\n",
      "Shapes - p1: torch.Size([8, 128]), p2: torch.Size([8, 128]), z1: torch.Size([8, 128]), z2: torch.Size([8, 128])\n",
      "Shapes - p1: torch.Size([8, 128]), p2: torch.Size([8, 128]), z1: torch.Size([8, 128]), z2: torch.Size([8, 128])\n",
      "Shapes - p1: torch.Size([8, 128]), p2: torch.Size([8, 128]), z1: torch.Size([8, 128]), z2: torch.Size([8, 128])\n",
      "Shapes - p1: torch.Size([8, 128]), p2: torch.Size([8, 128]), z1: torch.Size([8, 128]), z2: torch.Size([8, 128])\n",
      "Shapes - p1: torch.Size([8, 128]), p2: torch.Size([8, 128]), z1: torch.Size([8, 128]), z2: torch.Size([8, 128])\n",
      "Epoch [19/100], Batch [10/55], Loss: 0.0035\n",
      "Shapes - p1: torch.Size([8, 128]), p2: torch.Size([8, 128]), z1: torch.Size([8, 128]), z2: torch.Size([8, 128])\n",
      "Shapes - p1: torch.Size([8, 128]), p2: torch.Size([8, 128]), z1: torch.Size([8, 128]), z2: torch.Size([8, 128])\n",
      "Shapes - p1: torch.Size([8, 128]), p2: torch.Size([8, 128]), z1: torch.Size([8, 128]), z2: torch.Size([8, 128])\n",
      "Shapes - p1: torch.Size([8, 128]), p2: torch.Size([8, 128]), z1: torch.Size([8, 128]), z2: torch.Size([8, 128])\n",
      "Shapes - p1: torch.Size([8, 128]), p2: torch.Size([8, 128]), z1: torch.Size([8, 128]), z2: torch.Size([8, 128])\n",
      "Epoch [19/100], Batch [15/55], Loss: 0.0113\n",
      "Shapes - p1: torch.Size([8, 128]), p2: torch.Size([8, 128]), z1: torch.Size([8, 128]), z2: torch.Size([8, 128])\n",
      "Shapes - p1: torch.Size([8, 128]), p2: torch.Size([8, 128]), z1: torch.Size([8, 128]), z2: torch.Size([8, 128])\n",
      "Shapes - p1: torch.Size([8, 128]), p2: torch.Size([8, 128]), z1: torch.Size([8, 128]), z2: torch.Size([8, 128])\n",
      "Shapes - p1: torch.Size([8, 128]), p2: torch.Size([8, 128]), z1: torch.Size([8, 128]), z2: torch.Size([8, 128])\n",
      "Shapes - p1: torch.Size([8, 128]), p2: torch.Size([8, 128]), z1: torch.Size([8, 128]), z2: torch.Size([8, 128])\n",
      "Epoch [19/100], Batch [20/55], Loss: 0.0020\n",
      "Shapes - p1: torch.Size([8, 128]), p2: torch.Size([8, 128]), z1: torch.Size([8, 128]), z2: torch.Size([8, 128])\n",
      "Shapes - p1: torch.Size([8, 128]), p2: torch.Size([8, 128]), z1: torch.Size([8, 128]), z2: torch.Size([8, 128])\n",
      "Shapes - p1: torch.Size([8, 128]), p2: torch.Size([8, 128]), z1: torch.Size([8, 128]), z2: torch.Size([8, 128])\n",
      "Shapes - p1: torch.Size([8, 128]), p2: torch.Size([8, 128]), z1: torch.Size([8, 128]), z2: torch.Size([8, 128])\n",
      "Shapes - p1: torch.Size([8, 128]), p2: torch.Size([8, 128]), z1: torch.Size([8, 128]), z2: torch.Size([8, 128])\n",
      "Epoch [19/100], Batch [25/55], Loss: 0.0067\n",
      "Shapes - p1: torch.Size([8, 128]), p2: torch.Size([8, 128]), z1: torch.Size([8, 128]), z2: torch.Size([8, 128])\n",
      "Shapes - p1: torch.Size([8, 128]), p2: torch.Size([8, 128]), z1: torch.Size([8, 128]), z2: torch.Size([8, 128])\n",
      "Shapes - p1: torch.Size([8, 128]), p2: torch.Size([8, 128]), z1: torch.Size([8, 128]), z2: torch.Size([8, 128])\n",
      "Shapes - p1: torch.Size([8, 128]), p2: torch.Size([8, 128]), z1: torch.Size([8, 128]), z2: torch.Size([8, 128])\n",
      "Shapes - p1: torch.Size([8, 128]), p2: torch.Size([8, 128]), z1: torch.Size([8, 128]), z2: torch.Size([8, 128])\n",
      "Epoch [19/100], Batch [30/55], Loss: 0.0071\n",
      "Shapes - p1: torch.Size([8, 128]), p2: torch.Size([8, 128]), z1: torch.Size([8, 128]), z2: torch.Size([8, 128])\n",
      "Shapes - p1: torch.Size([8, 128]), p2: torch.Size([8, 128]), z1: torch.Size([8, 128]), z2: torch.Size([8, 128])\n",
      "Shapes - p1: torch.Size([8, 128]), p2: torch.Size([8, 128]), z1: torch.Size([8, 128]), z2: torch.Size([8, 128])\n",
      "Shapes - p1: torch.Size([8, 128]), p2: torch.Size([8, 128]), z1: torch.Size([8, 128]), z2: torch.Size([8, 128])\n",
      "Shapes - p1: torch.Size([8, 128]), p2: torch.Size([8, 128]), z1: torch.Size([8, 128]), z2: torch.Size([8, 128])\n",
      "Epoch [19/100], Batch [35/55], Loss: 0.0116\n",
      "Shapes - p1: torch.Size([8, 128]), p2: torch.Size([8, 128]), z1: torch.Size([8, 128]), z2: torch.Size([8, 128])\n",
      "Shapes - p1: torch.Size([8, 128]), p2: torch.Size([8, 128]), z1: torch.Size([8, 128]), z2: torch.Size([8, 128])\n",
      "Shapes - p1: torch.Size([8, 128]), p2: torch.Size([8, 128]), z1: torch.Size([8, 128]), z2: torch.Size([8, 128])\n",
      "Shapes - p1: torch.Size([8, 128]), p2: torch.Size([8, 128]), z1: torch.Size([8, 128]), z2: torch.Size([8, 128])\n",
      "Shapes - p1: torch.Size([8, 128]), p2: torch.Size([8, 128]), z1: torch.Size([8, 128]), z2: torch.Size([8, 128])\n",
      "Epoch [19/100], Batch [40/55], Loss: 0.0176\n",
      "Shapes - p1: torch.Size([8, 128]), p2: torch.Size([8, 128]), z1: torch.Size([8, 128]), z2: torch.Size([8, 128])\n",
      "Shapes - p1: torch.Size([8, 128]), p2: torch.Size([8, 128]), z1: torch.Size([8, 128]), z2: torch.Size([8, 128])\n",
      "Shapes - p1: torch.Size([8, 128]), p2: torch.Size([8, 128]), z1: torch.Size([8, 128]), z2: torch.Size([8, 128])\n",
      "Shapes - p1: torch.Size([8, 128]), p2: torch.Size([8, 128]), z1: torch.Size([8, 128]), z2: torch.Size([8, 128])\n",
      "Shapes - p1: torch.Size([8, 128]), p2: torch.Size([8, 128]), z1: torch.Size([8, 128]), z2: torch.Size([8, 128])\n",
      "Epoch [19/100], Batch [45/55], Loss: 0.0046\n",
      "Shapes - p1: torch.Size([8, 128]), p2: torch.Size([8, 128]), z1: torch.Size([8, 128]), z2: torch.Size([8, 128])\n",
      "Shapes - p1: torch.Size([8, 128]), p2: torch.Size([8, 128]), z1: torch.Size([8, 128]), z2: torch.Size([8, 128])\n",
      "Shapes - p1: torch.Size([8, 128]), p2: torch.Size([8, 128]), z1: torch.Size([8, 128]), z2: torch.Size([8, 128])\n",
      "Shapes - p1: torch.Size([8, 128]), p2: torch.Size([8, 128]), z1: torch.Size([8, 128]), z2: torch.Size([8, 128])\n",
      "Shapes - p1: torch.Size([8, 128]), p2: torch.Size([8, 128]), z1: torch.Size([8, 128]), z2: torch.Size([8, 128])\n",
      "Epoch [19/100], Batch [50/55], Loss: 0.0022\n",
      "Shapes - p1: torch.Size([8, 128]), p2: torch.Size([8, 128]), z1: torch.Size([8, 128]), z2: torch.Size([8, 128])\n",
      "Shapes - p1: torch.Size([8, 128]), p2: torch.Size([8, 128]), z1: torch.Size([8, 128]), z2: torch.Size([8, 128])\n",
      "Shapes - p1: torch.Size([8, 128]), p2: torch.Size([8, 128]), z1: torch.Size([8, 128]), z2: torch.Size([8, 128])\n",
      "Shapes - p1: torch.Size([8, 128]), p2: torch.Size([8, 128]), z1: torch.Size([8, 128]), z2: torch.Size([8, 128])\n",
      "Shapes - p1: torch.Size([6, 128]), p2: torch.Size([6, 128]), z1: torch.Size([6, 128]), z2: torch.Size([6, 128])\n",
      "Epoch [19/100], Batch [55/55], Loss: 0.0152\n",
      "✅ Completed Epoch [19/100] | Avg Loss: 0.0086\n",
      "⏳ No Improvement | Patience: 1/15\n",
      "Shapes - p1: torch.Size([8, 128]), p2: torch.Size([8, 128]), z1: torch.Size([8, 128]), z2: torch.Size([8, 128])\n",
      "Shapes - p1: torch.Size([8, 128]), p2: torch.Size([8, 128]), z1: torch.Size([8, 128]), z2: torch.Size([8, 128])\n",
      "Shapes - p1: torch.Size([8, 128]), p2: torch.Size([8, 128]), z1: torch.Size([8, 128]), z2: torch.Size([8, 128])\n",
      "Shapes - p1: torch.Size([8, 128]), p2: torch.Size([8, 128]), z1: torch.Size([8, 128]), z2: torch.Size([8, 128])\n",
      "Shapes - p1: torch.Size([8, 128]), p2: torch.Size([8, 128]), z1: torch.Size([8, 128]), z2: torch.Size([8, 128])\n",
      "Epoch [20/100], Batch [5/55], Loss: 0.0136\n",
      "Shapes - p1: torch.Size([8, 128]), p2: torch.Size([8, 128]), z1: torch.Size([8, 128]), z2: torch.Size([8, 128])\n",
      "Shapes - p1: torch.Size([8, 128]), p2: torch.Size([8, 128]), z1: torch.Size([8, 128]), z2: torch.Size([8, 128])\n",
      "Shapes - p1: torch.Size([8, 128]), p2: torch.Size([8, 128]), z1: torch.Size([8, 128]), z2: torch.Size([8, 128])\n",
      "Shapes - p1: torch.Size([8, 128]), p2: torch.Size([8, 128]), z1: torch.Size([8, 128]), z2: torch.Size([8, 128])\n",
      "Shapes - p1: torch.Size([8, 128]), p2: torch.Size([8, 128]), z1: torch.Size([8, 128]), z2: torch.Size([8, 128])\n",
      "Epoch [20/100], Batch [10/55], Loss: 0.0029\n",
      "Shapes - p1: torch.Size([8, 128]), p2: torch.Size([8, 128]), z1: torch.Size([8, 128]), z2: torch.Size([8, 128])\n",
      "Shapes - p1: torch.Size([8, 128]), p2: torch.Size([8, 128]), z1: torch.Size([8, 128]), z2: torch.Size([8, 128])\n",
      "Shapes - p1: torch.Size([8, 128]), p2: torch.Size([8, 128]), z1: torch.Size([8, 128]), z2: torch.Size([8, 128])\n",
      "Shapes - p1: torch.Size([8, 128]), p2: torch.Size([8, 128]), z1: torch.Size([8, 128]), z2: torch.Size([8, 128])\n",
      "Shapes - p1: torch.Size([8, 128]), p2: torch.Size([8, 128]), z1: torch.Size([8, 128]), z2: torch.Size([8, 128])\n",
      "Epoch [20/100], Batch [15/55], Loss: 0.0028\n",
      "Shapes - p1: torch.Size([8, 128]), p2: torch.Size([8, 128]), z1: torch.Size([8, 128]), z2: torch.Size([8, 128])\n",
      "Shapes - p1: torch.Size([8, 128]), p2: torch.Size([8, 128]), z1: torch.Size([8, 128]), z2: torch.Size([8, 128])\n",
      "Shapes - p1: torch.Size([8, 128]), p2: torch.Size([8, 128]), z1: torch.Size([8, 128]), z2: torch.Size([8, 128])\n",
      "Shapes - p1: torch.Size([8, 128]), p2: torch.Size([8, 128]), z1: torch.Size([8, 128]), z2: torch.Size([8, 128])\n",
      "Shapes - p1: torch.Size([8, 128]), p2: torch.Size([8, 128]), z1: torch.Size([8, 128]), z2: torch.Size([8, 128])\n",
      "Epoch [20/100], Batch [20/55], Loss: 0.0025\n",
      "Shapes - p1: torch.Size([8, 128]), p2: torch.Size([8, 128]), z1: torch.Size([8, 128]), z2: torch.Size([8, 128])\n",
      "Shapes - p1: torch.Size([8, 128]), p2: torch.Size([8, 128]), z1: torch.Size([8, 128]), z2: torch.Size([8, 128])\n",
      "Shapes - p1: torch.Size([8, 128]), p2: torch.Size([8, 128]), z1: torch.Size([8, 128]), z2: torch.Size([8, 128])\n",
      "Shapes - p1: torch.Size([8, 128]), p2: torch.Size([8, 128]), z1: torch.Size([8, 128]), z2: torch.Size([8, 128])\n",
      "Shapes - p1: torch.Size([8, 128]), p2: torch.Size([8, 128]), z1: torch.Size([8, 128]), z2: torch.Size([8, 128])\n",
      "Epoch [20/100], Batch [25/55], Loss: 0.0035\n",
      "Shapes - p1: torch.Size([8, 128]), p2: torch.Size([8, 128]), z1: torch.Size([8, 128]), z2: torch.Size([8, 128])\n",
      "Shapes - p1: torch.Size([8, 128]), p2: torch.Size([8, 128]), z1: torch.Size([8, 128]), z2: torch.Size([8, 128])\n",
      "Shapes - p1: torch.Size([8, 128]), p2: torch.Size([8, 128]), z1: torch.Size([8, 128]), z2: torch.Size([8, 128])\n",
      "Shapes - p1: torch.Size([8, 128]), p2: torch.Size([8, 128]), z1: torch.Size([8, 128]), z2: torch.Size([8, 128])\n",
      "Shapes - p1: torch.Size([8, 128]), p2: torch.Size([8, 128]), z1: torch.Size([8, 128]), z2: torch.Size([8, 128])\n",
      "Epoch [20/100], Batch [30/55], Loss: 0.0117\n",
      "Shapes - p1: torch.Size([8, 128]), p2: torch.Size([8, 128]), z1: torch.Size([8, 128]), z2: torch.Size([8, 128])\n",
      "Shapes - p1: torch.Size([8, 128]), p2: torch.Size([8, 128]), z1: torch.Size([8, 128]), z2: torch.Size([8, 128])\n",
      "Shapes - p1: torch.Size([8, 128]), p2: torch.Size([8, 128]), z1: torch.Size([8, 128]), z2: torch.Size([8, 128])\n",
      "Shapes - p1: torch.Size([8, 128]), p2: torch.Size([8, 128]), z1: torch.Size([8, 128]), z2: torch.Size([8, 128])\n",
      "Shapes - p1: torch.Size([8, 128]), p2: torch.Size([8, 128]), z1: torch.Size([8, 128]), z2: torch.Size([8, 128])\n",
      "Epoch [20/100], Batch [35/55], Loss: 0.0069\n",
      "Shapes - p1: torch.Size([8, 128]), p2: torch.Size([8, 128]), z1: torch.Size([8, 128]), z2: torch.Size([8, 128])\n",
      "Shapes - p1: torch.Size([8, 128]), p2: torch.Size([8, 128]), z1: torch.Size([8, 128]), z2: torch.Size([8, 128])\n",
      "Shapes - p1: torch.Size([8, 128]), p2: torch.Size([8, 128]), z1: torch.Size([8, 128]), z2: torch.Size([8, 128])\n",
      "Shapes - p1: torch.Size([8, 128]), p2: torch.Size([8, 128]), z1: torch.Size([8, 128]), z2: torch.Size([8, 128])\n",
      "Shapes - p1: torch.Size([8, 128]), p2: torch.Size([8, 128]), z1: torch.Size([8, 128]), z2: torch.Size([8, 128])\n",
      "Epoch [20/100], Batch [40/55], Loss: 0.0022\n",
      "Shapes - p1: torch.Size([8, 128]), p2: torch.Size([8, 128]), z1: torch.Size([8, 128]), z2: torch.Size([8, 128])\n",
      "Shapes - p1: torch.Size([8, 128]), p2: torch.Size([8, 128]), z1: torch.Size([8, 128]), z2: torch.Size([8, 128])\n",
      "Shapes - p1: torch.Size([8, 128]), p2: torch.Size([8, 128]), z1: torch.Size([8, 128]), z2: torch.Size([8, 128])\n",
      "Shapes - p1: torch.Size([8, 128]), p2: torch.Size([8, 128]), z1: torch.Size([8, 128]), z2: torch.Size([8, 128])\n",
      "Shapes - p1: torch.Size([8, 128]), p2: torch.Size([8, 128]), z1: torch.Size([8, 128]), z2: torch.Size([8, 128])\n",
      "Epoch [20/100], Batch [45/55], Loss: 0.0014\n",
      "Shapes - p1: torch.Size([8, 128]), p2: torch.Size([8, 128]), z1: torch.Size([8, 128]), z2: torch.Size([8, 128])\n",
      "Shapes - p1: torch.Size([8, 128]), p2: torch.Size([8, 128]), z1: torch.Size([8, 128]), z2: torch.Size([8, 128])\n",
      "Shapes - p1: torch.Size([8, 128]), p2: torch.Size([8, 128]), z1: torch.Size([8, 128]), z2: torch.Size([8, 128])\n",
      "Shapes - p1: torch.Size([8, 128]), p2: torch.Size([8, 128]), z1: torch.Size([8, 128]), z2: torch.Size([8, 128])\n",
      "Shapes - p1: torch.Size([8, 128]), p2: torch.Size([8, 128]), z1: torch.Size([8, 128]), z2: torch.Size([8, 128])\n",
      "Epoch [20/100], Batch [50/55], Loss: 0.0286\n",
      "Shapes - p1: torch.Size([8, 128]), p2: torch.Size([8, 128]), z1: torch.Size([8, 128]), z2: torch.Size([8, 128])\n",
      "Shapes - p1: torch.Size([8, 128]), p2: torch.Size([8, 128]), z1: torch.Size([8, 128]), z2: torch.Size([8, 128])\n",
      "Shapes - p1: torch.Size([8, 128]), p2: torch.Size([8, 128]), z1: torch.Size([8, 128]), z2: torch.Size([8, 128])\n",
      "Shapes - p1: torch.Size([8, 128]), p2: torch.Size([8, 128]), z1: torch.Size([8, 128]), z2: torch.Size([8, 128])\n",
      "Shapes - p1: torch.Size([6, 128]), p2: torch.Size([6, 128]), z1: torch.Size([6, 128]), z2: torch.Size([6, 128])\n",
      "Epoch [20/100], Batch [55/55], Loss: 0.0024\n",
      "✅ Completed Epoch [20/100] | Avg Loss: 0.0087\n",
      "⏳ No Improvement | Patience: 2/15\n",
      "Shapes - p1: torch.Size([8, 128]), p2: torch.Size([8, 128]), z1: torch.Size([8, 128]), z2: torch.Size([8, 128])\n",
      "Shapes - p1: torch.Size([8, 128]), p2: torch.Size([8, 128]), z1: torch.Size([8, 128]), z2: torch.Size([8, 128])\n",
      "Shapes - p1: torch.Size([8, 128]), p2: torch.Size([8, 128]), z1: torch.Size([8, 128]), z2: torch.Size([8, 128])\n",
      "Shapes - p1: torch.Size([8, 128]), p2: torch.Size([8, 128]), z1: torch.Size([8, 128]), z2: torch.Size([8, 128])\n",
      "Shapes - p1: torch.Size([8, 128]), p2: torch.Size([8, 128]), z1: torch.Size([8, 128]), z2: torch.Size([8, 128])\n",
      "Epoch [21/100], Batch [5/55], Loss: 0.0041\n",
      "Shapes - p1: torch.Size([8, 128]), p2: torch.Size([8, 128]), z1: torch.Size([8, 128]), z2: torch.Size([8, 128])\n",
      "Shapes - p1: torch.Size([8, 128]), p2: torch.Size([8, 128]), z1: torch.Size([8, 128]), z2: torch.Size([8, 128])\n",
      "Shapes - p1: torch.Size([8, 128]), p2: torch.Size([8, 128]), z1: torch.Size([8, 128]), z2: torch.Size([8, 128])\n",
      "Shapes - p1: torch.Size([8, 128]), p2: torch.Size([8, 128]), z1: torch.Size([8, 128]), z2: torch.Size([8, 128])\n",
      "Shapes - p1: torch.Size([8, 128]), p2: torch.Size([8, 128]), z1: torch.Size([8, 128]), z2: torch.Size([8, 128])\n",
      "Epoch [21/100], Batch [10/55], Loss: 0.0128\n",
      "Shapes - p1: torch.Size([8, 128]), p2: torch.Size([8, 128]), z1: torch.Size([8, 128]), z2: torch.Size([8, 128])\n",
      "Shapes - p1: torch.Size([8, 128]), p2: torch.Size([8, 128]), z1: torch.Size([8, 128]), z2: torch.Size([8, 128])\n",
      "Shapes - p1: torch.Size([8, 128]), p2: torch.Size([8, 128]), z1: torch.Size([8, 128]), z2: torch.Size([8, 128])\n",
      "Shapes - p1: torch.Size([8, 128]), p2: torch.Size([8, 128]), z1: torch.Size([8, 128]), z2: torch.Size([8, 128])\n",
      "Shapes - p1: torch.Size([8, 128]), p2: torch.Size([8, 128]), z1: torch.Size([8, 128]), z2: torch.Size([8, 128])\n",
      "Epoch [21/100], Batch [15/55], Loss: 0.0037\n",
      "Shapes - p1: torch.Size([8, 128]), p2: torch.Size([8, 128]), z1: torch.Size([8, 128]), z2: torch.Size([8, 128])\n",
      "Shapes - p1: torch.Size([8, 128]), p2: torch.Size([8, 128]), z1: torch.Size([8, 128]), z2: torch.Size([8, 128])\n",
      "Shapes - p1: torch.Size([8, 128]), p2: torch.Size([8, 128]), z1: torch.Size([8, 128]), z2: torch.Size([8, 128])\n",
      "Shapes - p1: torch.Size([8, 128]), p2: torch.Size([8, 128]), z1: torch.Size([8, 128]), z2: torch.Size([8, 128])\n",
      "Shapes - p1: torch.Size([8, 128]), p2: torch.Size([8, 128]), z1: torch.Size([8, 128]), z2: torch.Size([8, 128])\n",
      "Epoch [21/100], Batch [20/55], Loss: 0.0070\n",
      "Shapes - p1: torch.Size([8, 128]), p2: torch.Size([8, 128]), z1: torch.Size([8, 128]), z2: torch.Size([8, 128])\n",
      "Shapes - p1: torch.Size([8, 128]), p2: torch.Size([8, 128]), z1: torch.Size([8, 128]), z2: torch.Size([8, 128])\n",
      "Shapes - p1: torch.Size([8, 128]), p2: torch.Size([8, 128]), z1: torch.Size([8, 128]), z2: torch.Size([8, 128])\n",
      "Shapes - p1: torch.Size([8, 128]), p2: torch.Size([8, 128]), z1: torch.Size([8, 128]), z2: torch.Size([8, 128])\n",
      "Shapes - p1: torch.Size([8, 128]), p2: torch.Size([8, 128]), z1: torch.Size([8, 128]), z2: torch.Size([8, 128])\n",
      "Epoch [21/100], Batch [25/55], Loss: 0.0033\n",
      "Shapes - p1: torch.Size([8, 128]), p2: torch.Size([8, 128]), z1: torch.Size([8, 128]), z2: torch.Size([8, 128])\n",
      "Shapes - p1: torch.Size([8, 128]), p2: torch.Size([8, 128]), z1: torch.Size([8, 128]), z2: torch.Size([8, 128])\n",
      "Shapes - p1: torch.Size([8, 128]), p2: torch.Size([8, 128]), z1: torch.Size([8, 128]), z2: torch.Size([8, 128])\n",
      "Shapes - p1: torch.Size([8, 128]), p2: torch.Size([8, 128]), z1: torch.Size([8, 128]), z2: torch.Size([8, 128])\n",
      "Shapes - p1: torch.Size([8, 128]), p2: torch.Size([8, 128]), z1: torch.Size([8, 128]), z2: torch.Size([8, 128])\n",
      "Epoch [21/100], Batch [30/55], Loss: 0.0051\n",
      "Shapes - p1: torch.Size([8, 128]), p2: torch.Size([8, 128]), z1: torch.Size([8, 128]), z2: torch.Size([8, 128])\n",
      "Shapes - p1: torch.Size([8, 128]), p2: torch.Size([8, 128]), z1: torch.Size([8, 128]), z2: torch.Size([8, 128])\n",
      "Shapes - p1: torch.Size([8, 128]), p2: torch.Size([8, 128]), z1: torch.Size([8, 128]), z2: torch.Size([8, 128])\n",
      "Shapes - p1: torch.Size([8, 128]), p2: torch.Size([8, 128]), z1: torch.Size([8, 128]), z2: torch.Size([8, 128])\n",
      "Shapes - p1: torch.Size([8, 128]), p2: torch.Size([8, 128]), z1: torch.Size([8, 128]), z2: torch.Size([8, 128])\n",
      "Epoch [21/100], Batch [35/55], Loss: 0.0085\n",
      "Shapes - p1: torch.Size([8, 128]), p2: torch.Size([8, 128]), z1: torch.Size([8, 128]), z2: torch.Size([8, 128])\n",
      "Shapes - p1: torch.Size([8, 128]), p2: torch.Size([8, 128]), z1: torch.Size([8, 128]), z2: torch.Size([8, 128])\n",
      "Shapes - p1: torch.Size([8, 128]), p2: torch.Size([8, 128]), z1: torch.Size([8, 128]), z2: torch.Size([8, 128])\n",
      "Shapes - p1: torch.Size([8, 128]), p2: torch.Size([8, 128]), z1: torch.Size([8, 128]), z2: torch.Size([8, 128])\n",
      "Shapes - p1: torch.Size([8, 128]), p2: torch.Size([8, 128]), z1: torch.Size([8, 128]), z2: torch.Size([8, 128])\n",
      "Epoch [21/100], Batch [40/55], Loss: 0.0049\n",
      "Shapes - p1: torch.Size([8, 128]), p2: torch.Size([8, 128]), z1: torch.Size([8, 128]), z2: torch.Size([8, 128])\n",
      "Shapes - p1: torch.Size([8, 128]), p2: torch.Size([8, 128]), z1: torch.Size([8, 128]), z2: torch.Size([8, 128])\n",
      "Shapes - p1: torch.Size([8, 128]), p2: torch.Size([8, 128]), z1: torch.Size([8, 128]), z2: torch.Size([8, 128])\n",
      "Shapes - p1: torch.Size([8, 128]), p2: torch.Size([8, 128]), z1: torch.Size([8, 128]), z2: torch.Size([8, 128])\n",
      "Shapes - p1: torch.Size([8, 128]), p2: torch.Size([8, 128]), z1: torch.Size([8, 128]), z2: torch.Size([8, 128])\n",
      "Epoch [21/100], Batch [45/55], Loss: 0.0161\n",
      "Shapes - p1: torch.Size([8, 128]), p2: torch.Size([8, 128]), z1: torch.Size([8, 128]), z2: torch.Size([8, 128])\n",
      "Shapes - p1: torch.Size([8, 128]), p2: torch.Size([8, 128]), z1: torch.Size([8, 128]), z2: torch.Size([8, 128])\n",
      "Shapes - p1: torch.Size([8, 128]), p2: torch.Size([8, 128]), z1: torch.Size([8, 128]), z2: torch.Size([8, 128])\n",
      "Shapes - p1: torch.Size([8, 128]), p2: torch.Size([8, 128]), z1: torch.Size([8, 128]), z2: torch.Size([8, 128])\n",
      "Shapes - p1: torch.Size([8, 128]), p2: torch.Size([8, 128]), z1: torch.Size([8, 128]), z2: torch.Size([8, 128])\n",
      "Epoch [21/100], Batch [50/55], Loss: 0.0029\n",
      "Shapes - p1: torch.Size([8, 128]), p2: torch.Size([8, 128]), z1: torch.Size([8, 128]), z2: torch.Size([8, 128])\n",
      "Shapes - p1: torch.Size([8, 128]), p2: torch.Size([8, 128]), z1: torch.Size([8, 128]), z2: torch.Size([8, 128])\n",
      "Shapes - p1: torch.Size([8, 128]), p2: torch.Size([8, 128]), z1: torch.Size([8, 128]), z2: torch.Size([8, 128])\n",
      "Shapes - p1: torch.Size([8, 128]), p2: torch.Size([8, 128]), z1: torch.Size([8, 128]), z2: torch.Size([8, 128])\n",
      "Shapes - p1: torch.Size([6, 128]), p2: torch.Size([6, 128]), z1: torch.Size([6, 128]), z2: torch.Size([6, 128])\n",
      "Epoch [21/100], Batch [55/55], Loss: 0.0014\n",
      "✅ Completed Epoch [21/100] | Avg Loss: 0.0066\n",
      "✅ Model Improved & Saved!\n",
      "Shapes - p1: torch.Size([8, 128]), p2: torch.Size([8, 128]), z1: torch.Size([8, 128]), z2: torch.Size([8, 128])\n",
      "Shapes - p1: torch.Size([8, 128]), p2: torch.Size([8, 128]), z1: torch.Size([8, 128]), z2: torch.Size([8, 128])\n",
      "Shapes - p1: torch.Size([8, 128]), p2: torch.Size([8, 128]), z1: torch.Size([8, 128]), z2: torch.Size([8, 128])\n",
      "Shapes - p1: torch.Size([8, 128]), p2: torch.Size([8, 128]), z1: torch.Size([8, 128]), z2: torch.Size([8, 128])\n",
      "Shapes - p1: torch.Size([8, 128]), p2: torch.Size([8, 128]), z1: torch.Size([8, 128]), z2: torch.Size([8, 128])\n",
      "Epoch [22/100], Batch [5/55], Loss: 0.0028\n",
      "Shapes - p1: torch.Size([8, 128]), p2: torch.Size([8, 128]), z1: torch.Size([8, 128]), z2: torch.Size([8, 128])\n",
      "Shapes - p1: torch.Size([8, 128]), p2: torch.Size([8, 128]), z1: torch.Size([8, 128]), z2: torch.Size([8, 128])\n",
      "Shapes - p1: torch.Size([8, 128]), p2: torch.Size([8, 128]), z1: torch.Size([8, 128]), z2: torch.Size([8, 128])\n",
      "Shapes - p1: torch.Size([8, 128]), p2: torch.Size([8, 128]), z1: torch.Size([8, 128]), z2: torch.Size([8, 128])\n",
      "Shapes - p1: torch.Size([8, 128]), p2: torch.Size([8, 128]), z1: torch.Size([8, 128]), z2: torch.Size([8, 128])\n",
      "Epoch [22/100], Batch [10/55], Loss: 0.0088\n",
      "Shapes - p1: torch.Size([8, 128]), p2: torch.Size([8, 128]), z1: torch.Size([8, 128]), z2: torch.Size([8, 128])\n",
      "Shapes - p1: torch.Size([8, 128]), p2: torch.Size([8, 128]), z1: torch.Size([8, 128]), z2: torch.Size([8, 128])\n",
      "Shapes - p1: torch.Size([8, 128]), p2: torch.Size([8, 128]), z1: torch.Size([8, 128]), z2: torch.Size([8, 128])\n",
      "Shapes - p1: torch.Size([8, 128]), p2: torch.Size([8, 128]), z1: torch.Size([8, 128]), z2: torch.Size([8, 128])\n",
      "Shapes - p1: torch.Size([8, 128]), p2: torch.Size([8, 128]), z1: torch.Size([8, 128]), z2: torch.Size([8, 128])\n",
      "Epoch [22/100], Batch [15/55], Loss: 0.0016\n",
      "Shapes - p1: torch.Size([8, 128]), p2: torch.Size([8, 128]), z1: torch.Size([8, 128]), z2: torch.Size([8, 128])\n",
      "Shapes - p1: torch.Size([8, 128]), p2: torch.Size([8, 128]), z1: torch.Size([8, 128]), z2: torch.Size([8, 128])\n",
      "Shapes - p1: torch.Size([8, 128]), p2: torch.Size([8, 128]), z1: torch.Size([8, 128]), z2: torch.Size([8, 128])\n",
      "Shapes - p1: torch.Size([8, 128]), p2: torch.Size([8, 128]), z1: torch.Size([8, 128]), z2: torch.Size([8, 128])\n",
      "Shapes - p1: torch.Size([8, 128]), p2: torch.Size([8, 128]), z1: torch.Size([8, 128]), z2: torch.Size([8, 128])\n",
      "Epoch [22/100], Batch [20/55], Loss: 0.0014\n",
      "Shapes - p1: torch.Size([8, 128]), p2: torch.Size([8, 128]), z1: torch.Size([8, 128]), z2: torch.Size([8, 128])\n",
      "Shapes - p1: torch.Size([8, 128]), p2: torch.Size([8, 128]), z1: torch.Size([8, 128]), z2: torch.Size([8, 128])\n",
      "Shapes - p1: torch.Size([8, 128]), p2: torch.Size([8, 128]), z1: torch.Size([8, 128]), z2: torch.Size([8, 128])\n",
      "Shapes - p1: torch.Size([8, 128]), p2: torch.Size([8, 128]), z1: torch.Size([8, 128]), z2: torch.Size([8, 128])\n",
      "Shapes - p1: torch.Size([8, 128]), p2: torch.Size([8, 128]), z1: torch.Size([8, 128]), z2: torch.Size([8, 128])\n",
      "Epoch [22/100], Batch [25/55], Loss: 0.0018\n",
      "Shapes - p1: torch.Size([8, 128]), p2: torch.Size([8, 128]), z1: torch.Size([8, 128]), z2: torch.Size([8, 128])\n",
      "Shapes - p1: torch.Size([8, 128]), p2: torch.Size([8, 128]), z1: torch.Size([8, 128]), z2: torch.Size([8, 128])\n",
      "Shapes - p1: torch.Size([8, 128]), p2: torch.Size([8, 128]), z1: torch.Size([8, 128]), z2: torch.Size([8, 128])\n",
      "Shapes - p1: torch.Size([8, 128]), p2: torch.Size([8, 128]), z1: torch.Size([8, 128]), z2: torch.Size([8, 128])\n",
      "Shapes - p1: torch.Size([8, 128]), p2: torch.Size([8, 128]), z1: torch.Size([8, 128]), z2: torch.Size([8, 128])\n",
      "Epoch [22/100], Batch [30/55], Loss: 0.0062\n",
      "Shapes - p1: torch.Size([8, 128]), p2: torch.Size([8, 128]), z1: torch.Size([8, 128]), z2: torch.Size([8, 128])\n",
      "Shapes - p1: torch.Size([8, 128]), p2: torch.Size([8, 128]), z1: torch.Size([8, 128]), z2: torch.Size([8, 128])\n",
      "Shapes - p1: torch.Size([8, 128]), p2: torch.Size([8, 128]), z1: torch.Size([8, 128]), z2: torch.Size([8, 128])\n",
      "Shapes - p1: torch.Size([8, 128]), p2: torch.Size([8, 128]), z1: torch.Size([8, 128]), z2: torch.Size([8, 128])\n",
      "Shapes - p1: torch.Size([8, 128]), p2: torch.Size([8, 128]), z1: torch.Size([8, 128]), z2: torch.Size([8, 128])\n",
      "Epoch [22/100], Batch [35/55], Loss: 0.0105\n",
      "Shapes - p1: torch.Size([8, 128]), p2: torch.Size([8, 128]), z1: torch.Size([8, 128]), z2: torch.Size([8, 128])\n",
      "Shapes - p1: torch.Size([8, 128]), p2: torch.Size([8, 128]), z1: torch.Size([8, 128]), z2: torch.Size([8, 128])\n",
      "Shapes - p1: torch.Size([8, 128]), p2: torch.Size([8, 128]), z1: torch.Size([8, 128]), z2: torch.Size([8, 128])\n",
      "Shapes - p1: torch.Size([8, 128]), p2: torch.Size([8, 128]), z1: torch.Size([8, 128]), z2: torch.Size([8, 128])\n",
      "Shapes - p1: torch.Size([8, 128]), p2: torch.Size([8, 128]), z1: torch.Size([8, 128]), z2: torch.Size([8, 128])\n",
      "Epoch [22/100], Batch [40/55], Loss: 0.0179\n",
      "Shapes - p1: torch.Size([8, 128]), p2: torch.Size([8, 128]), z1: torch.Size([8, 128]), z2: torch.Size([8, 128])\n",
      "Shapes - p1: torch.Size([8, 128]), p2: torch.Size([8, 128]), z1: torch.Size([8, 128]), z2: torch.Size([8, 128])\n",
      "Shapes - p1: torch.Size([8, 128]), p2: torch.Size([8, 128]), z1: torch.Size([8, 128]), z2: torch.Size([8, 128])\n",
      "Shapes - p1: torch.Size([8, 128]), p2: torch.Size([8, 128]), z1: torch.Size([8, 128]), z2: torch.Size([8, 128])\n",
      "Shapes - p1: torch.Size([8, 128]), p2: torch.Size([8, 128]), z1: torch.Size([8, 128]), z2: torch.Size([8, 128])\n",
      "Epoch [22/100], Batch [45/55], Loss: 0.0036\n",
      "Shapes - p1: torch.Size([8, 128]), p2: torch.Size([8, 128]), z1: torch.Size([8, 128]), z2: torch.Size([8, 128])\n",
      "Shapes - p1: torch.Size([8, 128]), p2: torch.Size([8, 128]), z1: torch.Size([8, 128]), z2: torch.Size([8, 128])\n",
      "Shapes - p1: torch.Size([8, 128]), p2: torch.Size([8, 128]), z1: torch.Size([8, 128]), z2: torch.Size([8, 128])\n",
      "Shapes - p1: torch.Size([8, 128]), p2: torch.Size([8, 128]), z1: torch.Size([8, 128]), z2: torch.Size([8, 128])\n",
      "Shapes - p1: torch.Size([8, 128]), p2: torch.Size([8, 128]), z1: torch.Size([8, 128]), z2: torch.Size([8, 128])\n",
      "Epoch [22/100], Batch [50/55], Loss: 0.0039\n",
      "Shapes - p1: torch.Size([8, 128]), p2: torch.Size([8, 128]), z1: torch.Size([8, 128]), z2: torch.Size([8, 128])\n",
      "Shapes - p1: torch.Size([8, 128]), p2: torch.Size([8, 128]), z1: torch.Size([8, 128]), z2: torch.Size([8, 128])\n",
      "Shapes - p1: torch.Size([8, 128]), p2: torch.Size([8, 128]), z1: torch.Size([8, 128]), z2: torch.Size([8, 128])\n",
      "Shapes - p1: torch.Size([8, 128]), p2: torch.Size([8, 128]), z1: torch.Size([8, 128]), z2: torch.Size([8, 128])\n",
      "Shapes - p1: torch.Size([6, 128]), p2: torch.Size([6, 128]), z1: torch.Size([6, 128]), z2: torch.Size([6, 128])\n",
      "Epoch [22/100], Batch [55/55], Loss: 0.0071\n",
      "✅ Completed Epoch [22/100] | Avg Loss: 0.0073\n",
      "⏳ No Improvement | Patience: 1/15\n",
      "Shapes - p1: torch.Size([8, 128]), p2: torch.Size([8, 128]), z1: torch.Size([8, 128]), z2: torch.Size([8, 128])\n",
      "Shapes - p1: torch.Size([8, 128]), p2: torch.Size([8, 128]), z1: torch.Size([8, 128]), z2: torch.Size([8, 128])\n",
      "Shapes - p1: torch.Size([8, 128]), p2: torch.Size([8, 128]), z1: torch.Size([8, 128]), z2: torch.Size([8, 128])\n",
      "Shapes - p1: torch.Size([8, 128]), p2: torch.Size([8, 128]), z1: torch.Size([8, 128]), z2: torch.Size([8, 128])\n",
      "Shapes - p1: torch.Size([8, 128]), p2: torch.Size([8, 128]), z1: torch.Size([8, 128]), z2: torch.Size([8, 128])\n",
      "Epoch [23/100], Batch [5/55], Loss: 0.0042\n",
      "Shapes - p1: torch.Size([8, 128]), p2: torch.Size([8, 128]), z1: torch.Size([8, 128]), z2: torch.Size([8, 128])\n",
      "Shapes - p1: torch.Size([8, 128]), p2: torch.Size([8, 128]), z1: torch.Size([8, 128]), z2: torch.Size([8, 128])\n",
      "Shapes - p1: torch.Size([8, 128]), p2: torch.Size([8, 128]), z1: torch.Size([8, 128]), z2: torch.Size([8, 128])\n",
      "Shapes - p1: torch.Size([8, 128]), p2: torch.Size([8, 128]), z1: torch.Size([8, 128]), z2: torch.Size([8, 128])\n",
      "Shapes - p1: torch.Size([8, 128]), p2: torch.Size([8, 128]), z1: torch.Size([8, 128]), z2: torch.Size([8, 128])\n",
      "Epoch [23/100], Batch [10/55], Loss: 0.0014\n",
      "Shapes - p1: torch.Size([8, 128]), p2: torch.Size([8, 128]), z1: torch.Size([8, 128]), z2: torch.Size([8, 128])\n",
      "Shapes - p1: torch.Size([8, 128]), p2: torch.Size([8, 128]), z1: torch.Size([8, 128]), z2: torch.Size([8, 128])\n",
      "Shapes - p1: torch.Size([8, 128]), p2: torch.Size([8, 128]), z1: torch.Size([8, 128]), z2: torch.Size([8, 128])\n",
      "Shapes - p1: torch.Size([8, 128]), p2: torch.Size([8, 128]), z1: torch.Size([8, 128]), z2: torch.Size([8, 128])\n",
      "Shapes - p1: torch.Size([8, 128]), p2: torch.Size([8, 128]), z1: torch.Size([8, 128]), z2: torch.Size([8, 128])\n",
      "Epoch [23/100], Batch [15/55], Loss: 0.0028\n",
      "Shapes - p1: torch.Size([8, 128]), p2: torch.Size([8, 128]), z1: torch.Size([8, 128]), z2: torch.Size([8, 128])\n",
      "Shapes - p1: torch.Size([8, 128]), p2: torch.Size([8, 128]), z1: torch.Size([8, 128]), z2: torch.Size([8, 128])\n",
      "Shapes - p1: torch.Size([8, 128]), p2: torch.Size([8, 128]), z1: torch.Size([8, 128]), z2: torch.Size([8, 128])\n",
      "Shapes - p1: torch.Size([8, 128]), p2: torch.Size([8, 128]), z1: torch.Size([8, 128]), z2: torch.Size([8, 128])\n",
      "Shapes - p1: torch.Size([8, 128]), p2: torch.Size([8, 128]), z1: torch.Size([8, 128]), z2: torch.Size([8, 128])\n",
      "Epoch [23/100], Batch [20/55], Loss: 0.0055\n",
      "Shapes - p1: torch.Size([8, 128]), p2: torch.Size([8, 128]), z1: torch.Size([8, 128]), z2: torch.Size([8, 128])\n",
      "Shapes - p1: torch.Size([8, 128]), p2: torch.Size([8, 128]), z1: torch.Size([8, 128]), z2: torch.Size([8, 128])\n",
      "Shapes - p1: torch.Size([8, 128]), p2: torch.Size([8, 128]), z1: torch.Size([8, 128]), z2: torch.Size([8, 128])\n",
      "Shapes - p1: torch.Size([8, 128]), p2: torch.Size([8, 128]), z1: torch.Size([8, 128]), z2: torch.Size([8, 128])\n",
      "Shapes - p1: torch.Size([8, 128]), p2: torch.Size([8, 128]), z1: torch.Size([8, 128]), z2: torch.Size([8, 128])\n",
      "Epoch [23/100], Batch [25/55], Loss: 0.0017\n",
      "Shapes - p1: torch.Size([8, 128]), p2: torch.Size([8, 128]), z1: torch.Size([8, 128]), z2: torch.Size([8, 128])\n",
      "Shapes - p1: torch.Size([8, 128]), p2: torch.Size([8, 128]), z1: torch.Size([8, 128]), z2: torch.Size([8, 128])\n",
      "Shapes - p1: torch.Size([8, 128]), p2: torch.Size([8, 128]), z1: torch.Size([8, 128]), z2: torch.Size([8, 128])\n",
      "Shapes - p1: torch.Size([8, 128]), p2: torch.Size([8, 128]), z1: torch.Size([8, 128]), z2: torch.Size([8, 128])\n",
      "Shapes - p1: torch.Size([8, 128]), p2: torch.Size([8, 128]), z1: torch.Size([8, 128]), z2: torch.Size([8, 128])\n",
      "Epoch [23/100], Batch [30/55], Loss: 0.0041\n",
      "Shapes - p1: torch.Size([8, 128]), p2: torch.Size([8, 128]), z1: torch.Size([8, 128]), z2: torch.Size([8, 128])\n",
      "Shapes - p1: torch.Size([8, 128]), p2: torch.Size([8, 128]), z1: torch.Size([8, 128]), z2: torch.Size([8, 128])\n",
      "Shapes - p1: torch.Size([8, 128]), p2: torch.Size([8, 128]), z1: torch.Size([8, 128]), z2: torch.Size([8, 128])\n",
      "Shapes - p1: torch.Size([8, 128]), p2: torch.Size([8, 128]), z1: torch.Size([8, 128]), z2: torch.Size([8, 128])\n",
      "Shapes - p1: torch.Size([8, 128]), p2: torch.Size([8, 128]), z1: torch.Size([8, 128]), z2: torch.Size([8, 128])\n",
      "Epoch [23/100], Batch [35/55], Loss: 0.0075\n",
      "Shapes - p1: torch.Size([8, 128]), p2: torch.Size([8, 128]), z1: torch.Size([8, 128]), z2: torch.Size([8, 128])\n",
      "Shapes - p1: torch.Size([8, 128]), p2: torch.Size([8, 128]), z1: torch.Size([8, 128]), z2: torch.Size([8, 128])\n",
      "Shapes - p1: torch.Size([8, 128]), p2: torch.Size([8, 128]), z1: torch.Size([8, 128]), z2: torch.Size([8, 128])\n",
      "Shapes - p1: torch.Size([8, 128]), p2: torch.Size([8, 128]), z1: torch.Size([8, 128]), z2: torch.Size([8, 128])\n",
      "Shapes - p1: torch.Size([8, 128]), p2: torch.Size([8, 128]), z1: torch.Size([8, 128]), z2: torch.Size([8, 128])\n",
      "Epoch [23/100], Batch [40/55], Loss: 0.0024\n",
      "Shapes - p1: torch.Size([8, 128]), p2: torch.Size([8, 128]), z1: torch.Size([8, 128]), z2: torch.Size([8, 128])\n",
      "Shapes - p1: torch.Size([8, 128]), p2: torch.Size([8, 128]), z1: torch.Size([8, 128]), z2: torch.Size([8, 128])\n",
      "Shapes - p1: torch.Size([8, 128]), p2: torch.Size([8, 128]), z1: torch.Size([8, 128]), z2: torch.Size([8, 128])\n",
      "Shapes - p1: torch.Size([8, 128]), p2: torch.Size([8, 128]), z1: torch.Size([8, 128]), z2: torch.Size([8, 128])\n",
      "Shapes - p1: torch.Size([8, 128]), p2: torch.Size([8, 128]), z1: torch.Size([8, 128]), z2: torch.Size([8, 128])\n",
      "Epoch [23/100], Batch [45/55], Loss: 0.0153\n",
      "Shapes - p1: torch.Size([8, 128]), p2: torch.Size([8, 128]), z1: torch.Size([8, 128]), z2: torch.Size([8, 128])\n",
      "Shapes - p1: torch.Size([8, 128]), p2: torch.Size([8, 128]), z1: torch.Size([8, 128]), z2: torch.Size([8, 128])\n",
      "Shapes - p1: torch.Size([8, 128]), p2: torch.Size([8, 128]), z1: torch.Size([8, 128]), z2: torch.Size([8, 128])\n",
      "Shapes - p1: torch.Size([8, 128]), p2: torch.Size([8, 128]), z1: torch.Size([8, 128]), z2: torch.Size([8, 128])\n",
      "Shapes - p1: torch.Size([8, 128]), p2: torch.Size([8, 128]), z1: torch.Size([8, 128]), z2: torch.Size([8, 128])\n",
      "Epoch [23/100], Batch [50/55], Loss: 0.0187\n",
      "Shapes - p1: torch.Size([8, 128]), p2: torch.Size([8, 128]), z1: torch.Size([8, 128]), z2: torch.Size([8, 128])\n",
      "Shapes - p1: torch.Size([8, 128]), p2: torch.Size([8, 128]), z1: torch.Size([8, 128]), z2: torch.Size([8, 128])\n",
      "Shapes - p1: torch.Size([8, 128]), p2: torch.Size([8, 128]), z1: torch.Size([8, 128]), z2: torch.Size([8, 128])\n",
      "Shapes - p1: torch.Size([8, 128]), p2: torch.Size([8, 128]), z1: torch.Size([8, 128]), z2: torch.Size([8, 128])\n",
      "Shapes - p1: torch.Size([6, 128]), p2: torch.Size([6, 128]), z1: torch.Size([6, 128]), z2: torch.Size([6, 128])\n",
      "Epoch [23/100], Batch [55/55], Loss: 0.0163\n",
      "✅ Completed Epoch [23/100] | Avg Loss: 0.0089\n",
      "⏳ No Improvement | Patience: 2/15\n",
      "Shapes - p1: torch.Size([8, 128]), p2: torch.Size([8, 128]), z1: torch.Size([8, 128]), z2: torch.Size([8, 128])\n",
      "Shapes - p1: torch.Size([8, 128]), p2: torch.Size([8, 128]), z1: torch.Size([8, 128]), z2: torch.Size([8, 128])\n",
      "Shapes - p1: torch.Size([8, 128]), p2: torch.Size([8, 128]), z1: torch.Size([8, 128]), z2: torch.Size([8, 128])\n",
      "Shapes - p1: torch.Size([8, 128]), p2: torch.Size([8, 128]), z1: torch.Size([8, 128]), z2: torch.Size([8, 128])\n",
      "Shapes - p1: torch.Size([8, 128]), p2: torch.Size([8, 128]), z1: torch.Size([8, 128]), z2: torch.Size([8, 128])\n",
      "Epoch [24/100], Batch [5/55], Loss: 0.0022\n",
      "Shapes - p1: torch.Size([8, 128]), p2: torch.Size([8, 128]), z1: torch.Size([8, 128]), z2: torch.Size([8, 128])\n",
      "Shapes - p1: torch.Size([8, 128]), p2: torch.Size([8, 128]), z1: torch.Size([8, 128]), z2: torch.Size([8, 128])\n",
      "Shapes - p1: torch.Size([8, 128]), p2: torch.Size([8, 128]), z1: torch.Size([8, 128]), z2: torch.Size([8, 128])\n",
      "Shapes - p1: torch.Size([8, 128]), p2: torch.Size([8, 128]), z1: torch.Size([8, 128]), z2: torch.Size([8, 128])\n",
      "Shapes - p1: torch.Size([8, 128]), p2: torch.Size([8, 128]), z1: torch.Size([8, 128]), z2: torch.Size([8, 128])\n",
      "Epoch [24/100], Batch [10/55], Loss: 0.0021\n",
      "Shapes - p1: torch.Size([8, 128]), p2: torch.Size([8, 128]), z1: torch.Size([8, 128]), z2: torch.Size([8, 128])\n",
      "Shapes - p1: torch.Size([8, 128]), p2: torch.Size([8, 128]), z1: torch.Size([8, 128]), z2: torch.Size([8, 128])\n",
      "Shapes - p1: torch.Size([8, 128]), p2: torch.Size([8, 128]), z1: torch.Size([8, 128]), z2: torch.Size([8, 128])\n",
      "Shapes - p1: torch.Size([8, 128]), p2: torch.Size([8, 128]), z1: torch.Size([8, 128]), z2: torch.Size([8, 128])\n",
      "Shapes - p1: torch.Size([8, 128]), p2: torch.Size([8, 128]), z1: torch.Size([8, 128]), z2: torch.Size([8, 128])\n",
      "Epoch [24/100], Batch [15/55], Loss: 0.0043\n",
      "Shapes - p1: torch.Size([8, 128]), p2: torch.Size([8, 128]), z1: torch.Size([8, 128]), z2: torch.Size([8, 128])\n",
      "Shapes - p1: torch.Size([8, 128]), p2: torch.Size([8, 128]), z1: torch.Size([8, 128]), z2: torch.Size([8, 128])\n",
      "Shapes - p1: torch.Size([8, 128]), p2: torch.Size([8, 128]), z1: torch.Size([8, 128]), z2: torch.Size([8, 128])\n",
      "Shapes - p1: torch.Size([8, 128]), p2: torch.Size([8, 128]), z1: torch.Size([8, 128]), z2: torch.Size([8, 128])\n",
      "Shapes - p1: torch.Size([8, 128]), p2: torch.Size([8, 128]), z1: torch.Size([8, 128]), z2: torch.Size([8, 128])\n",
      "Epoch [24/100], Batch [20/55], Loss: 0.0081\n",
      "Shapes - p1: torch.Size([8, 128]), p2: torch.Size([8, 128]), z1: torch.Size([8, 128]), z2: torch.Size([8, 128])\n",
      "Shapes - p1: torch.Size([8, 128]), p2: torch.Size([8, 128]), z1: torch.Size([8, 128]), z2: torch.Size([8, 128])\n",
      "Shapes - p1: torch.Size([8, 128]), p2: torch.Size([8, 128]), z1: torch.Size([8, 128]), z2: torch.Size([8, 128])\n",
      "Shapes - p1: torch.Size([8, 128]), p2: torch.Size([8, 128]), z1: torch.Size([8, 128]), z2: torch.Size([8, 128])\n",
      "Shapes - p1: torch.Size([8, 128]), p2: torch.Size([8, 128]), z1: torch.Size([8, 128]), z2: torch.Size([8, 128])\n",
      "Epoch [24/100], Batch [25/55], Loss: 0.0013\n",
      "Shapes - p1: torch.Size([8, 128]), p2: torch.Size([8, 128]), z1: torch.Size([8, 128]), z2: torch.Size([8, 128])\n",
      "Shapes - p1: torch.Size([8, 128]), p2: torch.Size([8, 128]), z1: torch.Size([8, 128]), z2: torch.Size([8, 128])\n",
      "Shapes - p1: torch.Size([8, 128]), p2: torch.Size([8, 128]), z1: torch.Size([8, 128]), z2: torch.Size([8, 128])\n",
      "Shapes - p1: torch.Size([8, 128]), p2: torch.Size([8, 128]), z1: torch.Size([8, 128]), z2: torch.Size([8, 128])\n",
      "Shapes - p1: torch.Size([8, 128]), p2: torch.Size([8, 128]), z1: torch.Size([8, 128]), z2: torch.Size([8, 128])\n",
      "Epoch [24/100], Batch [30/55], Loss: 0.0041\n",
      "Shapes - p1: torch.Size([8, 128]), p2: torch.Size([8, 128]), z1: torch.Size([8, 128]), z2: torch.Size([8, 128])\n",
      "Shapes - p1: torch.Size([8, 128]), p2: torch.Size([8, 128]), z1: torch.Size([8, 128]), z2: torch.Size([8, 128])\n",
      "Shapes - p1: torch.Size([8, 128]), p2: torch.Size([8, 128]), z1: torch.Size([8, 128]), z2: torch.Size([8, 128])\n",
      "Shapes - p1: torch.Size([8, 128]), p2: torch.Size([8, 128]), z1: torch.Size([8, 128]), z2: torch.Size([8, 128])\n",
      "Shapes - p1: torch.Size([8, 128]), p2: torch.Size([8, 128]), z1: torch.Size([8, 128]), z2: torch.Size([8, 128])\n",
      "Epoch [24/100], Batch [35/55], Loss: 0.0033\n",
      "Shapes - p1: torch.Size([8, 128]), p2: torch.Size([8, 128]), z1: torch.Size([8, 128]), z2: torch.Size([8, 128])\n",
      "Shapes - p1: torch.Size([8, 128]), p2: torch.Size([8, 128]), z1: torch.Size([8, 128]), z2: torch.Size([8, 128])\n",
      "Shapes - p1: torch.Size([8, 128]), p2: torch.Size([8, 128]), z1: torch.Size([8, 128]), z2: torch.Size([8, 128])\n",
      "Shapes - p1: torch.Size([8, 128]), p2: torch.Size([8, 128]), z1: torch.Size([8, 128]), z2: torch.Size([8, 128])\n",
      "Shapes - p1: torch.Size([8, 128]), p2: torch.Size([8, 128]), z1: torch.Size([8, 128]), z2: torch.Size([8, 128])\n",
      "Epoch [24/100], Batch [40/55], Loss: 0.0010\n",
      "Shapes - p1: torch.Size([8, 128]), p2: torch.Size([8, 128]), z1: torch.Size([8, 128]), z2: torch.Size([8, 128])\n",
      "Shapes - p1: torch.Size([8, 128]), p2: torch.Size([8, 128]), z1: torch.Size([8, 128]), z2: torch.Size([8, 128])\n",
      "Shapes - p1: torch.Size([8, 128]), p2: torch.Size([8, 128]), z1: torch.Size([8, 128]), z2: torch.Size([8, 128])\n",
      "Shapes - p1: torch.Size([8, 128]), p2: torch.Size([8, 128]), z1: torch.Size([8, 128]), z2: torch.Size([8, 128])\n",
      "Shapes - p1: torch.Size([8, 128]), p2: torch.Size([8, 128]), z1: torch.Size([8, 128]), z2: torch.Size([8, 128])\n",
      "Epoch [24/100], Batch [45/55], Loss: 0.0011\n",
      "Shapes - p1: torch.Size([8, 128]), p2: torch.Size([8, 128]), z1: torch.Size([8, 128]), z2: torch.Size([8, 128])\n",
      "Shapes - p1: torch.Size([8, 128]), p2: torch.Size([8, 128]), z1: torch.Size([8, 128]), z2: torch.Size([8, 128])\n",
      "Shapes - p1: torch.Size([8, 128]), p2: torch.Size([8, 128]), z1: torch.Size([8, 128]), z2: torch.Size([8, 128])\n",
      "Shapes - p1: torch.Size([8, 128]), p2: torch.Size([8, 128]), z1: torch.Size([8, 128]), z2: torch.Size([8, 128])\n",
      "Shapes - p1: torch.Size([8, 128]), p2: torch.Size([8, 128]), z1: torch.Size([8, 128]), z2: torch.Size([8, 128])\n",
      "Epoch [24/100], Batch [50/55], Loss: 0.0222\n",
      "Shapes - p1: torch.Size([8, 128]), p2: torch.Size([8, 128]), z1: torch.Size([8, 128]), z2: torch.Size([8, 128])\n",
      "Shapes - p1: torch.Size([8, 128]), p2: torch.Size([8, 128]), z1: torch.Size([8, 128]), z2: torch.Size([8, 128])\n",
      "Shapes - p1: torch.Size([8, 128]), p2: torch.Size([8, 128]), z1: torch.Size([8, 128]), z2: torch.Size([8, 128])\n",
      "Shapes - p1: torch.Size([8, 128]), p2: torch.Size([8, 128]), z1: torch.Size([8, 128]), z2: torch.Size([8, 128])\n",
      "Shapes - p1: torch.Size([6, 128]), p2: torch.Size([6, 128]), z1: torch.Size([6, 128]), z2: torch.Size([6, 128])\n",
      "Epoch [24/100], Batch [55/55], Loss: 0.0124\n",
      "✅ Completed Epoch [24/100] | Avg Loss: 0.0054\n",
      "✅ Model Improved & Saved!\n",
      "Shapes - p1: torch.Size([8, 128]), p2: torch.Size([8, 128]), z1: torch.Size([8, 128]), z2: torch.Size([8, 128])\n",
      "Shapes - p1: torch.Size([8, 128]), p2: torch.Size([8, 128]), z1: torch.Size([8, 128]), z2: torch.Size([8, 128])\n",
      "Shapes - p1: torch.Size([8, 128]), p2: torch.Size([8, 128]), z1: torch.Size([8, 128]), z2: torch.Size([8, 128])\n",
      "Shapes - p1: torch.Size([8, 128]), p2: torch.Size([8, 128]), z1: torch.Size([8, 128]), z2: torch.Size([8, 128])\n",
      "Shapes - p1: torch.Size([8, 128]), p2: torch.Size([8, 128]), z1: torch.Size([8, 128]), z2: torch.Size([8, 128])\n",
      "Epoch [25/100], Batch [5/55], Loss: 0.0014\n",
      "Shapes - p1: torch.Size([8, 128]), p2: torch.Size([8, 128]), z1: torch.Size([8, 128]), z2: torch.Size([8, 128])\n",
      "Shapes - p1: torch.Size([8, 128]), p2: torch.Size([8, 128]), z1: torch.Size([8, 128]), z2: torch.Size([8, 128])\n",
      "Shapes - p1: torch.Size([8, 128]), p2: torch.Size([8, 128]), z1: torch.Size([8, 128]), z2: torch.Size([8, 128])\n",
      "Shapes - p1: torch.Size([8, 128]), p2: torch.Size([8, 128]), z1: torch.Size([8, 128]), z2: torch.Size([8, 128])\n",
      "Shapes - p1: torch.Size([8, 128]), p2: torch.Size([8, 128]), z1: torch.Size([8, 128]), z2: torch.Size([8, 128])\n",
      "Epoch [25/100], Batch [10/55], Loss: 0.0014\n",
      "Shapes - p1: torch.Size([8, 128]), p2: torch.Size([8, 128]), z1: torch.Size([8, 128]), z2: torch.Size([8, 128])\n",
      "Shapes - p1: torch.Size([8, 128]), p2: torch.Size([8, 128]), z1: torch.Size([8, 128]), z2: torch.Size([8, 128])\n",
      "Shapes - p1: torch.Size([8, 128]), p2: torch.Size([8, 128]), z1: torch.Size([8, 128]), z2: torch.Size([8, 128])\n",
      "Shapes - p1: torch.Size([8, 128]), p2: torch.Size([8, 128]), z1: torch.Size([8, 128]), z2: torch.Size([8, 128])\n",
      "Shapes - p1: torch.Size([8, 128]), p2: torch.Size([8, 128]), z1: torch.Size([8, 128]), z2: torch.Size([8, 128])\n",
      "Epoch [25/100], Batch [15/55], Loss: 0.0028\n",
      "Shapes - p1: torch.Size([8, 128]), p2: torch.Size([8, 128]), z1: torch.Size([8, 128]), z2: torch.Size([8, 128])\n",
      "Shapes - p1: torch.Size([8, 128]), p2: torch.Size([8, 128]), z1: torch.Size([8, 128]), z2: torch.Size([8, 128])\n",
      "Shapes - p1: torch.Size([8, 128]), p2: torch.Size([8, 128]), z1: torch.Size([8, 128]), z2: torch.Size([8, 128])\n",
      "Shapes - p1: torch.Size([8, 128]), p2: torch.Size([8, 128]), z1: torch.Size([8, 128]), z2: torch.Size([8, 128])\n",
      "Shapes - p1: torch.Size([8, 128]), p2: torch.Size([8, 128]), z1: torch.Size([8, 128]), z2: torch.Size([8, 128])\n",
      "Epoch [25/100], Batch [20/55], Loss: 0.0018\n",
      "Shapes - p1: torch.Size([8, 128]), p2: torch.Size([8, 128]), z1: torch.Size([8, 128]), z2: torch.Size([8, 128])\n",
      "Shapes - p1: torch.Size([8, 128]), p2: torch.Size([8, 128]), z1: torch.Size([8, 128]), z2: torch.Size([8, 128])\n",
      "Shapes - p1: torch.Size([8, 128]), p2: torch.Size([8, 128]), z1: torch.Size([8, 128]), z2: torch.Size([8, 128])\n",
      "Shapes - p1: torch.Size([8, 128]), p2: torch.Size([8, 128]), z1: torch.Size([8, 128]), z2: torch.Size([8, 128])\n",
      "Shapes - p1: torch.Size([8, 128]), p2: torch.Size([8, 128]), z1: torch.Size([8, 128]), z2: torch.Size([8, 128])\n",
      "Epoch [25/100], Batch [25/55], Loss: 0.0064\n",
      "Shapes - p1: torch.Size([8, 128]), p2: torch.Size([8, 128]), z1: torch.Size([8, 128]), z2: torch.Size([8, 128])\n",
      "Shapes - p1: torch.Size([8, 128]), p2: torch.Size([8, 128]), z1: torch.Size([8, 128]), z2: torch.Size([8, 128])\n",
      "Shapes - p1: torch.Size([8, 128]), p2: torch.Size([8, 128]), z1: torch.Size([8, 128]), z2: torch.Size([8, 128])\n",
      "Shapes - p1: torch.Size([8, 128]), p2: torch.Size([8, 128]), z1: torch.Size([8, 128]), z2: torch.Size([8, 128])\n",
      "Shapes - p1: torch.Size([8, 128]), p2: torch.Size([8, 128]), z1: torch.Size([8, 128]), z2: torch.Size([8, 128])\n",
      "Epoch [25/100], Batch [30/55], Loss: 0.0040\n",
      "Shapes - p1: torch.Size([8, 128]), p2: torch.Size([8, 128]), z1: torch.Size([8, 128]), z2: torch.Size([8, 128])\n",
      "Shapes - p1: torch.Size([8, 128]), p2: torch.Size([8, 128]), z1: torch.Size([8, 128]), z2: torch.Size([8, 128])\n",
      "Shapes - p1: torch.Size([8, 128]), p2: torch.Size([8, 128]), z1: torch.Size([8, 128]), z2: torch.Size([8, 128])\n",
      "Shapes - p1: torch.Size([8, 128]), p2: torch.Size([8, 128]), z1: torch.Size([8, 128]), z2: torch.Size([8, 128])\n",
      "Shapes - p1: torch.Size([8, 128]), p2: torch.Size([8, 128]), z1: torch.Size([8, 128]), z2: torch.Size([8, 128])\n",
      "Epoch [25/100], Batch [35/55], Loss: 0.0008\n",
      "Shapes - p1: torch.Size([8, 128]), p2: torch.Size([8, 128]), z1: torch.Size([8, 128]), z2: torch.Size([8, 128])\n",
      "Shapes - p1: torch.Size([8, 128]), p2: torch.Size([8, 128]), z1: torch.Size([8, 128]), z2: torch.Size([8, 128])\n",
      "Shapes - p1: torch.Size([8, 128]), p2: torch.Size([8, 128]), z1: torch.Size([8, 128]), z2: torch.Size([8, 128])\n",
      "Shapes - p1: torch.Size([8, 128]), p2: torch.Size([8, 128]), z1: torch.Size([8, 128]), z2: torch.Size([8, 128])\n",
      "Shapes - p1: torch.Size([8, 128]), p2: torch.Size([8, 128]), z1: torch.Size([8, 128]), z2: torch.Size([8, 128])\n",
      "Epoch [25/100], Batch [40/55], Loss: 0.0013\n",
      "Shapes - p1: torch.Size([8, 128]), p2: torch.Size([8, 128]), z1: torch.Size([8, 128]), z2: torch.Size([8, 128])\n",
      "Shapes - p1: torch.Size([8, 128]), p2: torch.Size([8, 128]), z1: torch.Size([8, 128]), z2: torch.Size([8, 128])\n",
      "Shapes - p1: torch.Size([8, 128]), p2: torch.Size([8, 128]), z1: torch.Size([8, 128]), z2: torch.Size([8, 128])\n",
      "Shapes - p1: torch.Size([8, 128]), p2: torch.Size([8, 128]), z1: torch.Size([8, 128]), z2: torch.Size([8, 128])\n",
      "Shapes - p1: torch.Size([8, 128]), p2: torch.Size([8, 128]), z1: torch.Size([8, 128]), z2: torch.Size([8, 128])\n",
      "Epoch [25/100], Batch [45/55], Loss: 0.0032\n",
      "Shapes - p1: torch.Size([8, 128]), p2: torch.Size([8, 128]), z1: torch.Size([8, 128]), z2: torch.Size([8, 128])\n",
      "Shapes - p1: torch.Size([8, 128]), p2: torch.Size([8, 128]), z1: torch.Size([8, 128]), z2: torch.Size([8, 128])\n",
      "Shapes - p1: torch.Size([8, 128]), p2: torch.Size([8, 128]), z1: torch.Size([8, 128]), z2: torch.Size([8, 128])\n",
      "Shapes - p1: torch.Size([8, 128]), p2: torch.Size([8, 128]), z1: torch.Size([8, 128]), z2: torch.Size([8, 128])\n",
      "Shapes - p1: torch.Size([8, 128]), p2: torch.Size([8, 128]), z1: torch.Size([8, 128]), z2: torch.Size([8, 128])\n",
      "Epoch [25/100], Batch [50/55], Loss: 0.0090\n",
      "Shapes - p1: torch.Size([8, 128]), p2: torch.Size([8, 128]), z1: torch.Size([8, 128]), z2: torch.Size([8, 128])\n",
      "Shapes - p1: torch.Size([8, 128]), p2: torch.Size([8, 128]), z1: torch.Size([8, 128]), z2: torch.Size([8, 128])\n",
      "Shapes - p1: torch.Size([8, 128]), p2: torch.Size([8, 128]), z1: torch.Size([8, 128]), z2: torch.Size([8, 128])\n",
      "Shapes - p1: torch.Size([8, 128]), p2: torch.Size([8, 128]), z1: torch.Size([8, 128]), z2: torch.Size([8, 128])\n",
      "Shapes - p1: torch.Size([6, 128]), p2: torch.Size([6, 128]), z1: torch.Size([6, 128]), z2: torch.Size([6, 128])\n",
      "Epoch [25/100], Batch [55/55], Loss: 0.0011\n",
      "✅ Completed Epoch [25/100] | Avg Loss: 0.0061\n",
      "⏳ No Improvement | Patience: 1/15\n",
      "Shapes - p1: torch.Size([8, 128]), p2: torch.Size([8, 128]), z1: torch.Size([8, 128]), z2: torch.Size([8, 128])\n",
      "Shapes - p1: torch.Size([8, 128]), p2: torch.Size([8, 128]), z1: torch.Size([8, 128]), z2: torch.Size([8, 128])\n",
      "Shapes - p1: torch.Size([8, 128]), p2: torch.Size([8, 128]), z1: torch.Size([8, 128]), z2: torch.Size([8, 128])\n",
      "Shapes - p1: torch.Size([8, 128]), p2: torch.Size([8, 128]), z1: torch.Size([8, 128]), z2: torch.Size([8, 128])\n",
      "Shapes - p1: torch.Size([8, 128]), p2: torch.Size([8, 128]), z1: torch.Size([8, 128]), z2: torch.Size([8, 128])\n",
      "Epoch [26/100], Batch [5/55], Loss: 0.0015\n",
      "Shapes - p1: torch.Size([8, 128]), p2: torch.Size([8, 128]), z1: torch.Size([8, 128]), z2: torch.Size([8, 128])\n",
      "Shapes - p1: torch.Size([8, 128]), p2: torch.Size([8, 128]), z1: torch.Size([8, 128]), z2: torch.Size([8, 128])\n",
      "Shapes - p1: torch.Size([8, 128]), p2: torch.Size([8, 128]), z1: torch.Size([8, 128]), z2: torch.Size([8, 128])\n",
      "Shapes - p1: torch.Size([8, 128]), p2: torch.Size([8, 128]), z1: torch.Size([8, 128]), z2: torch.Size([8, 128])\n",
      "Shapes - p1: torch.Size([8, 128]), p2: torch.Size([8, 128]), z1: torch.Size([8, 128]), z2: torch.Size([8, 128])\n",
      "Epoch [26/100], Batch [10/55], Loss: 0.0053\n",
      "Shapes - p1: torch.Size([8, 128]), p2: torch.Size([8, 128]), z1: torch.Size([8, 128]), z2: torch.Size([8, 128])\n",
      "Shapes - p1: torch.Size([8, 128]), p2: torch.Size([8, 128]), z1: torch.Size([8, 128]), z2: torch.Size([8, 128])\n",
      "Shapes - p1: torch.Size([8, 128]), p2: torch.Size([8, 128]), z1: torch.Size([8, 128]), z2: torch.Size([8, 128])\n",
      "Shapes - p1: torch.Size([8, 128]), p2: torch.Size([8, 128]), z1: torch.Size([8, 128]), z2: torch.Size([8, 128])\n",
      "Shapes - p1: torch.Size([8, 128]), p2: torch.Size([8, 128]), z1: torch.Size([8, 128]), z2: torch.Size([8, 128])\n",
      "Epoch [26/100], Batch [15/55], Loss: 0.0019\n",
      "Shapes - p1: torch.Size([8, 128]), p2: torch.Size([8, 128]), z1: torch.Size([8, 128]), z2: torch.Size([8, 128])\n",
      "Shapes - p1: torch.Size([8, 128]), p2: torch.Size([8, 128]), z1: torch.Size([8, 128]), z2: torch.Size([8, 128])\n",
      "Shapes - p1: torch.Size([8, 128]), p2: torch.Size([8, 128]), z1: torch.Size([8, 128]), z2: torch.Size([8, 128])\n",
      "Shapes - p1: torch.Size([8, 128]), p2: torch.Size([8, 128]), z1: torch.Size([8, 128]), z2: torch.Size([8, 128])\n",
      "Shapes - p1: torch.Size([8, 128]), p2: torch.Size([8, 128]), z1: torch.Size([8, 128]), z2: torch.Size([8, 128])\n",
      "Epoch [26/100], Batch [20/55], Loss: 0.0028\n",
      "Shapes - p1: torch.Size([8, 128]), p2: torch.Size([8, 128]), z1: torch.Size([8, 128]), z2: torch.Size([8, 128])\n",
      "Shapes - p1: torch.Size([8, 128]), p2: torch.Size([8, 128]), z1: torch.Size([8, 128]), z2: torch.Size([8, 128])\n",
      "Shapes - p1: torch.Size([8, 128]), p2: torch.Size([8, 128]), z1: torch.Size([8, 128]), z2: torch.Size([8, 128])\n",
      "Shapes - p1: torch.Size([8, 128]), p2: torch.Size([8, 128]), z1: torch.Size([8, 128]), z2: torch.Size([8, 128])\n",
      "Shapes - p1: torch.Size([8, 128]), p2: torch.Size([8, 128]), z1: torch.Size([8, 128]), z2: torch.Size([8, 128])\n",
      "Epoch [26/100], Batch [25/55], Loss: 0.0013\n",
      "Shapes - p1: torch.Size([8, 128]), p2: torch.Size([8, 128]), z1: torch.Size([8, 128]), z2: torch.Size([8, 128])\n",
      "Shapes - p1: torch.Size([8, 128]), p2: torch.Size([8, 128]), z1: torch.Size([8, 128]), z2: torch.Size([8, 128])\n",
      "Shapes - p1: torch.Size([8, 128]), p2: torch.Size([8, 128]), z1: torch.Size([8, 128]), z2: torch.Size([8, 128])\n",
      "Shapes - p1: torch.Size([8, 128]), p2: torch.Size([8, 128]), z1: torch.Size([8, 128]), z2: torch.Size([8, 128])\n",
      "Shapes - p1: torch.Size([8, 128]), p2: torch.Size([8, 128]), z1: torch.Size([8, 128]), z2: torch.Size([8, 128])\n",
      "Epoch [26/100], Batch [30/55], Loss: 0.0036\n",
      "Shapes - p1: torch.Size([8, 128]), p2: torch.Size([8, 128]), z1: torch.Size([8, 128]), z2: torch.Size([8, 128])\n",
      "Shapes - p1: torch.Size([8, 128]), p2: torch.Size([8, 128]), z1: torch.Size([8, 128]), z2: torch.Size([8, 128])\n",
      "Shapes - p1: torch.Size([8, 128]), p2: torch.Size([8, 128]), z1: torch.Size([8, 128]), z2: torch.Size([8, 128])\n",
      "Shapes - p1: torch.Size([8, 128]), p2: torch.Size([8, 128]), z1: torch.Size([8, 128]), z2: torch.Size([8, 128])\n",
      "Shapes - p1: torch.Size([8, 128]), p2: torch.Size([8, 128]), z1: torch.Size([8, 128]), z2: torch.Size([8, 128])\n",
      "Epoch [26/100], Batch [35/55], Loss: 0.0046\n",
      "Shapes - p1: torch.Size([8, 128]), p2: torch.Size([8, 128]), z1: torch.Size([8, 128]), z2: torch.Size([8, 128])\n",
      "Shapes - p1: torch.Size([8, 128]), p2: torch.Size([8, 128]), z1: torch.Size([8, 128]), z2: torch.Size([8, 128])\n",
      "Shapes - p1: torch.Size([8, 128]), p2: torch.Size([8, 128]), z1: torch.Size([8, 128]), z2: torch.Size([8, 128])\n",
      "Shapes - p1: torch.Size([8, 128]), p2: torch.Size([8, 128]), z1: torch.Size([8, 128]), z2: torch.Size([8, 128])\n",
      "Shapes - p1: torch.Size([8, 128]), p2: torch.Size([8, 128]), z1: torch.Size([8, 128]), z2: torch.Size([8, 128])\n",
      "Epoch [26/100], Batch [40/55], Loss: 0.0015\n",
      "Shapes - p1: torch.Size([8, 128]), p2: torch.Size([8, 128]), z1: torch.Size([8, 128]), z2: torch.Size([8, 128])\n",
      "Shapes - p1: torch.Size([8, 128]), p2: torch.Size([8, 128]), z1: torch.Size([8, 128]), z2: torch.Size([8, 128])\n",
      "Shapes - p1: torch.Size([8, 128]), p2: torch.Size([8, 128]), z1: torch.Size([8, 128]), z2: torch.Size([8, 128])\n",
      "Shapes - p1: torch.Size([8, 128]), p2: torch.Size([8, 128]), z1: torch.Size([8, 128]), z2: torch.Size([8, 128])\n",
      "Shapes - p1: torch.Size([8, 128]), p2: torch.Size([8, 128]), z1: torch.Size([8, 128]), z2: torch.Size([8, 128])\n",
      "Epoch [26/100], Batch [45/55], Loss: 0.0020\n",
      "Shapes - p1: torch.Size([8, 128]), p2: torch.Size([8, 128]), z1: torch.Size([8, 128]), z2: torch.Size([8, 128])\n",
      "Shapes - p1: torch.Size([8, 128]), p2: torch.Size([8, 128]), z1: torch.Size([8, 128]), z2: torch.Size([8, 128])\n",
      "Shapes - p1: torch.Size([8, 128]), p2: torch.Size([8, 128]), z1: torch.Size([8, 128]), z2: torch.Size([8, 128])\n",
      "Shapes - p1: torch.Size([8, 128]), p2: torch.Size([8, 128]), z1: torch.Size([8, 128]), z2: torch.Size([8, 128])\n",
      "Shapes - p1: torch.Size([8, 128]), p2: torch.Size([8, 128]), z1: torch.Size([8, 128]), z2: torch.Size([8, 128])\n",
      "Epoch [26/100], Batch [50/55], Loss: 0.0038\n",
      "Shapes - p1: torch.Size([8, 128]), p2: torch.Size([8, 128]), z1: torch.Size([8, 128]), z2: torch.Size([8, 128])\n",
      "Shapes - p1: torch.Size([8, 128]), p2: torch.Size([8, 128]), z1: torch.Size([8, 128]), z2: torch.Size([8, 128])\n",
      "Shapes - p1: torch.Size([8, 128]), p2: torch.Size([8, 128]), z1: torch.Size([8, 128]), z2: torch.Size([8, 128])\n",
      "Shapes - p1: torch.Size([8, 128]), p2: torch.Size([8, 128]), z1: torch.Size([8, 128]), z2: torch.Size([8, 128])\n",
      "Shapes - p1: torch.Size([6, 128]), p2: torch.Size([6, 128]), z1: torch.Size([6, 128]), z2: torch.Size([6, 128])\n",
      "Epoch [26/100], Batch [55/55], Loss: 0.0065\n",
      "✅ Completed Epoch [26/100] | Avg Loss: 0.0044\n",
      "✅ Model Improved & Saved!\n",
      "Shapes - p1: torch.Size([8, 128]), p2: torch.Size([8, 128]), z1: torch.Size([8, 128]), z2: torch.Size([8, 128])\n",
      "Shapes - p1: torch.Size([8, 128]), p2: torch.Size([8, 128]), z1: torch.Size([8, 128]), z2: torch.Size([8, 128])\n",
      "Shapes - p1: torch.Size([8, 128]), p2: torch.Size([8, 128]), z1: torch.Size([8, 128]), z2: torch.Size([8, 128])\n",
      "Shapes - p1: torch.Size([8, 128]), p2: torch.Size([8, 128]), z1: torch.Size([8, 128]), z2: torch.Size([8, 128])\n",
      "Shapes - p1: torch.Size([8, 128]), p2: torch.Size([8, 128]), z1: torch.Size([8, 128]), z2: torch.Size([8, 128])\n",
      "Epoch [27/100], Batch [5/55], Loss: 0.0019\n",
      "Shapes - p1: torch.Size([8, 128]), p2: torch.Size([8, 128]), z1: torch.Size([8, 128]), z2: torch.Size([8, 128])\n",
      "Shapes - p1: torch.Size([8, 128]), p2: torch.Size([8, 128]), z1: torch.Size([8, 128]), z2: torch.Size([8, 128])\n",
      "Shapes - p1: torch.Size([8, 128]), p2: torch.Size([8, 128]), z1: torch.Size([8, 128]), z2: torch.Size([8, 128])\n",
      "Shapes - p1: torch.Size([8, 128]), p2: torch.Size([8, 128]), z1: torch.Size([8, 128]), z2: torch.Size([8, 128])\n",
      "Shapes - p1: torch.Size([8, 128]), p2: torch.Size([8, 128]), z1: torch.Size([8, 128]), z2: torch.Size([8, 128])\n",
      "Epoch [27/100], Batch [10/55], Loss: 0.0036\n",
      "Shapes - p1: torch.Size([8, 128]), p2: torch.Size([8, 128]), z1: torch.Size([8, 128]), z2: torch.Size([8, 128])\n",
      "Shapes - p1: torch.Size([8, 128]), p2: torch.Size([8, 128]), z1: torch.Size([8, 128]), z2: torch.Size([8, 128])\n",
      "Shapes - p1: torch.Size([8, 128]), p2: torch.Size([8, 128]), z1: torch.Size([8, 128]), z2: torch.Size([8, 128])\n",
      "Shapes - p1: torch.Size([8, 128]), p2: torch.Size([8, 128]), z1: torch.Size([8, 128]), z2: torch.Size([8, 128])\n",
      "Shapes - p1: torch.Size([8, 128]), p2: torch.Size([8, 128]), z1: torch.Size([8, 128]), z2: torch.Size([8, 128])\n",
      "Epoch [27/100], Batch [15/55], Loss: 0.0247\n",
      "Shapes - p1: torch.Size([8, 128]), p2: torch.Size([8, 128]), z1: torch.Size([8, 128]), z2: torch.Size([8, 128])\n",
      "Shapes - p1: torch.Size([8, 128]), p2: torch.Size([8, 128]), z1: torch.Size([8, 128]), z2: torch.Size([8, 128])\n",
      "Shapes - p1: torch.Size([8, 128]), p2: torch.Size([8, 128]), z1: torch.Size([8, 128]), z2: torch.Size([8, 128])\n",
      "Shapes - p1: torch.Size([8, 128]), p2: torch.Size([8, 128]), z1: torch.Size([8, 128]), z2: torch.Size([8, 128])\n",
      "Shapes - p1: torch.Size([8, 128]), p2: torch.Size([8, 128]), z1: torch.Size([8, 128]), z2: torch.Size([8, 128])\n",
      "Epoch [27/100], Batch [20/55], Loss: 0.0009\n",
      "Shapes - p1: torch.Size([8, 128]), p2: torch.Size([8, 128]), z1: torch.Size([8, 128]), z2: torch.Size([8, 128])\n",
      "Shapes - p1: torch.Size([8, 128]), p2: torch.Size([8, 128]), z1: torch.Size([8, 128]), z2: torch.Size([8, 128])\n",
      "Shapes - p1: torch.Size([8, 128]), p2: torch.Size([8, 128]), z1: torch.Size([8, 128]), z2: torch.Size([8, 128])\n",
      "Shapes - p1: torch.Size([8, 128]), p2: torch.Size([8, 128]), z1: torch.Size([8, 128]), z2: torch.Size([8, 128])\n",
      "Shapes - p1: torch.Size([8, 128]), p2: torch.Size([8, 128]), z1: torch.Size([8, 128]), z2: torch.Size([8, 128])\n",
      "Epoch [27/100], Batch [25/55], Loss: 0.0010\n",
      "Shapes - p1: torch.Size([8, 128]), p2: torch.Size([8, 128]), z1: torch.Size([8, 128]), z2: torch.Size([8, 128])\n",
      "Shapes - p1: torch.Size([8, 128]), p2: torch.Size([8, 128]), z1: torch.Size([8, 128]), z2: torch.Size([8, 128])\n",
      "Shapes - p1: torch.Size([8, 128]), p2: torch.Size([8, 128]), z1: torch.Size([8, 128]), z2: torch.Size([8, 128])\n",
      "Shapes - p1: torch.Size([8, 128]), p2: torch.Size([8, 128]), z1: torch.Size([8, 128]), z2: torch.Size([8, 128])\n",
      "Shapes - p1: torch.Size([8, 128]), p2: torch.Size([8, 128]), z1: torch.Size([8, 128]), z2: torch.Size([8, 128])\n",
      "Epoch [27/100], Batch [30/55], Loss: 0.0035\n",
      "Shapes - p1: torch.Size([8, 128]), p2: torch.Size([8, 128]), z1: torch.Size([8, 128]), z2: torch.Size([8, 128])\n",
      "Shapes - p1: torch.Size([8, 128]), p2: torch.Size([8, 128]), z1: torch.Size([8, 128]), z2: torch.Size([8, 128])\n",
      "Shapes - p1: torch.Size([8, 128]), p2: torch.Size([8, 128]), z1: torch.Size([8, 128]), z2: torch.Size([8, 128])\n",
      "Shapes - p1: torch.Size([8, 128]), p2: torch.Size([8, 128]), z1: torch.Size([8, 128]), z2: torch.Size([8, 128])\n",
      "Shapes - p1: torch.Size([8, 128]), p2: torch.Size([8, 128]), z1: torch.Size([8, 128]), z2: torch.Size([8, 128])\n",
      "Epoch [27/100], Batch [35/55], Loss: 0.0161\n",
      "Shapes - p1: torch.Size([8, 128]), p2: torch.Size([8, 128]), z1: torch.Size([8, 128]), z2: torch.Size([8, 128])\n",
      "Shapes - p1: torch.Size([8, 128]), p2: torch.Size([8, 128]), z1: torch.Size([8, 128]), z2: torch.Size([8, 128])\n",
      "Shapes - p1: torch.Size([8, 128]), p2: torch.Size([8, 128]), z1: torch.Size([8, 128]), z2: torch.Size([8, 128])\n",
      "Shapes - p1: torch.Size([8, 128]), p2: torch.Size([8, 128]), z1: torch.Size([8, 128]), z2: torch.Size([8, 128])\n",
      "Shapes - p1: torch.Size([8, 128]), p2: torch.Size([8, 128]), z1: torch.Size([8, 128]), z2: torch.Size([8, 128])\n",
      "Epoch [27/100], Batch [40/55], Loss: 0.0036\n",
      "Shapes - p1: torch.Size([8, 128]), p2: torch.Size([8, 128]), z1: torch.Size([8, 128]), z2: torch.Size([8, 128])\n",
      "Shapes - p1: torch.Size([8, 128]), p2: torch.Size([8, 128]), z1: torch.Size([8, 128]), z2: torch.Size([8, 128])\n",
      "Shapes - p1: torch.Size([8, 128]), p2: torch.Size([8, 128]), z1: torch.Size([8, 128]), z2: torch.Size([8, 128])\n",
      "Shapes - p1: torch.Size([8, 128]), p2: torch.Size([8, 128]), z1: torch.Size([8, 128]), z2: torch.Size([8, 128])\n",
      "Shapes - p1: torch.Size([8, 128]), p2: torch.Size([8, 128]), z1: torch.Size([8, 128]), z2: torch.Size([8, 128])\n",
      "Epoch [27/100], Batch [45/55], Loss: 0.0024\n",
      "Shapes - p1: torch.Size([8, 128]), p2: torch.Size([8, 128]), z1: torch.Size([8, 128]), z2: torch.Size([8, 128])\n",
      "Shapes - p1: torch.Size([8, 128]), p2: torch.Size([8, 128]), z1: torch.Size([8, 128]), z2: torch.Size([8, 128])\n",
      "Shapes - p1: torch.Size([8, 128]), p2: torch.Size([8, 128]), z1: torch.Size([8, 128]), z2: torch.Size([8, 128])\n",
      "Shapes - p1: torch.Size([8, 128]), p2: torch.Size([8, 128]), z1: torch.Size([8, 128]), z2: torch.Size([8, 128])\n",
      "Shapes - p1: torch.Size([8, 128]), p2: torch.Size([8, 128]), z1: torch.Size([8, 128]), z2: torch.Size([8, 128])\n",
      "Epoch [27/100], Batch [50/55], Loss: 0.0038\n",
      "Shapes - p1: torch.Size([8, 128]), p2: torch.Size([8, 128]), z1: torch.Size([8, 128]), z2: torch.Size([8, 128])\n",
      "Shapes - p1: torch.Size([8, 128]), p2: torch.Size([8, 128]), z1: torch.Size([8, 128]), z2: torch.Size([8, 128])\n",
      "Shapes - p1: torch.Size([8, 128]), p2: torch.Size([8, 128]), z1: torch.Size([8, 128]), z2: torch.Size([8, 128])\n",
      "Shapes - p1: torch.Size([8, 128]), p2: torch.Size([8, 128]), z1: torch.Size([8, 128]), z2: torch.Size([8, 128])\n",
      "Shapes - p1: torch.Size([6, 128]), p2: torch.Size([6, 128]), z1: torch.Size([6, 128]), z2: torch.Size([6, 128])\n",
      "Epoch [27/100], Batch [55/55], Loss: 0.0009\n",
      "✅ Completed Epoch [27/100] | Avg Loss: 0.0073\n",
      "⏳ No Improvement | Patience: 1/15\n",
      "Shapes - p1: torch.Size([8, 128]), p2: torch.Size([8, 128]), z1: torch.Size([8, 128]), z2: torch.Size([8, 128])\n",
      "Shapes - p1: torch.Size([8, 128]), p2: torch.Size([8, 128]), z1: torch.Size([8, 128]), z2: torch.Size([8, 128])\n",
      "Shapes - p1: torch.Size([8, 128]), p2: torch.Size([8, 128]), z1: torch.Size([8, 128]), z2: torch.Size([8, 128])\n",
      "Shapes - p1: torch.Size([8, 128]), p2: torch.Size([8, 128]), z1: torch.Size([8, 128]), z2: torch.Size([8, 128])\n",
      "Shapes - p1: torch.Size([8, 128]), p2: torch.Size([8, 128]), z1: torch.Size([8, 128]), z2: torch.Size([8, 128])\n",
      "Epoch [28/100], Batch [5/55], Loss: 0.0021\n",
      "Shapes - p1: torch.Size([8, 128]), p2: torch.Size([8, 128]), z1: torch.Size([8, 128]), z2: torch.Size([8, 128])\n",
      "Shapes - p1: torch.Size([8, 128]), p2: torch.Size([8, 128]), z1: torch.Size([8, 128]), z2: torch.Size([8, 128])\n",
      "Shapes - p1: torch.Size([8, 128]), p2: torch.Size([8, 128]), z1: torch.Size([8, 128]), z2: torch.Size([8, 128])\n",
      "Shapes - p1: torch.Size([8, 128]), p2: torch.Size([8, 128]), z1: torch.Size([8, 128]), z2: torch.Size([8, 128])\n",
      "Shapes - p1: torch.Size([8, 128]), p2: torch.Size([8, 128]), z1: torch.Size([8, 128]), z2: torch.Size([8, 128])\n",
      "Epoch [28/100], Batch [10/55], Loss: 0.0016\n",
      "Shapes - p1: torch.Size([8, 128]), p2: torch.Size([8, 128]), z1: torch.Size([8, 128]), z2: torch.Size([8, 128])\n",
      "Shapes - p1: torch.Size([8, 128]), p2: torch.Size([8, 128]), z1: torch.Size([8, 128]), z2: torch.Size([8, 128])\n",
      "Shapes - p1: torch.Size([8, 128]), p2: torch.Size([8, 128]), z1: torch.Size([8, 128]), z2: torch.Size([8, 128])\n",
      "Shapes - p1: torch.Size([8, 128]), p2: torch.Size([8, 128]), z1: torch.Size([8, 128]), z2: torch.Size([8, 128])\n",
      "Shapes - p1: torch.Size([8, 128]), p2: torch.Size([8, 128]), z1: torch.Size([8, 128]), z2: torch.Size([8, 128])\n",
      "Epoch [28/100], Batch [15/55], Loss: 0.0014\n",
      "Shapes - p1: torch.Size([8, 128]), p2: torch.Size([8, 128]), z1: torch.Size([8, 128]), z2: torch.Size([8, 128])\n",
      "Shapes - p1: torch.Size([8, 128]), p2: torch.Size([8, 128]), z1: torch.Size([8, 128]), z2: torch.Size([8, 128])\n",
      "Shapes - p1: torch.Size([8, 128]), p2: torch.Size([8, 128]), z1: torch.Size([8, 128]), z2: torch.Size([8, 128])\n",
      "Shapes - p1: torch.Size([8, 128]), p2: torch.Size([8, 128]), z1: torch.Size([8, 128]), z2: torch.Size([8, 128])\n",
      "Shapes - p1: torch.Size([8, 128]), p2: torch.Size([8, 128]), z1: torch.Size([8, 128]), z2: torch.Size([8, 128])\n",
      "Epoch [28/100], Batch [20/55], Loss: 0.0021\n",
      "Shapes - p1: torch.Size([8, 128]), p2: torch.Size([8, 128]), z1: torch.Size([8, 128]), z2: torch.Size([8, 128])\n",
      "Shapes - p1: torch.Size([8, 128]), p2: torch.Size([8, 128]), z1: torch.Size([8, 128]), z2: torch.Size([8, 128])\n",
      "Shapes - p1: torch.Size([8, 128]), p2: torch.Size([8, 128]), z1: torch.Size([8, 128]), z2: torch.Size([8, 128])\n",
      "Shapes - p1: torch.Size([8, 128]), p2: torch.Size([8, 128]), z1: torch.Size([8, 128]), z2: torch.Size([8, 128])\n",
      "Shapes - p1: torch.Size([8, 128]), p2: torch.Size([8, 128]), z1: torch.Size([8, 128]), z2: torch.Size([8, 128])\n",
      "Epoch [28/100], Batch [25/55], Loss: 0.0011\n",
      "Shapes - p1: torch.Size([8, 128]), p2: torch.Size([8, 128]), z1: torch.Size([8, 128]), z2: torch.Size([8, 128])\n",
      "Shapes - p1: torch.Size([8, 128]), p2: torch.Size([8, 128]), z1: torch.Size([8, 128]), z2: torch.Size([8, 128])\n",
      "Shapes - p1: torch.Size([8, 128]), p2: torch.Size([8, 128]), z1: torch.Size([8, 128]), z2: torch.Size([8, 128])\n",
      "Shapes - p1: torch.Size([8, 128]), p2: torch.Size([8, 128]), z1: torch.Size([8, 128]), z2: torch.Size([8, 128])\n",
      "Shapes - p1: torch.Size([8, 128]), p2: torch.Size([8, 128]), z1: torch.Size([8, 128]), z2: torch.Size([8, 128])\n",
      "Epoch [28/100], Batch [30/55], Loss: 0.0030\n",
      "Shapes - p1: torch.Size([8, 128]), p2: torch.Size([8, 128]), z1: torch.Size([8, 128]), z2: torch.Size([8, 128])\n",
      "Shapes - p1: torch.Size([8, 128]), p2: torch.Size([8, 128]), z1: torch.Size([8, 128]), z2: torch.Size([8, 128])\n",
      "Shapes - p1: torch.Size([8, 128]), p2: torch.Size([8, 128]), z1: torch.Size([8, 128]), z2: torch.Size([8, 128])\n",
      "Shapes - p1: torch.Size([8, 128]), p2: torch.Size([8, 128]), z1: torch.Size([8, 128]), z2: torch.Size([8, 128])\n",
      "Shapes - p1: torch.Size([8, 128]), p2: torch.Size([8, 128]), z1: torch.Size([8, 128]), z2: torch.Size([8, 128])\n",
      "Epoch [28/100], Batch [35/55], Loss: 0.0006\n",
      "Shapes - p1: torch.Size([8, 128]), p2: torch.Size([8, 128]), z1: torch.Size([8, 128]), z2: torch.Size([8, 128])\n",
      "Shapes - p1: torch.Size([8, 128]), p2: torch.Size([8, 128]), z1: torch.Size([8, 128]), z2: torch.Size([8, 128])\n",
      "Shapes - p1: torch.Size([8, 128]), p2: torch.Size([8, 128]), z1: torch.Size([8, 128]), z2: torch.Size([8, 128])\n",
      "Shapes - p1: torch.Size([8, 128]), p2: torch.Size([8, 128]), z1: torch.Size([8, 128]), z2: torch.Size([8, 128])\n",
      "Shapes - p1: torch.Size([8, 128]), p2: torch.Size([8, 128]), z1: torch.Size([8, 128]), z2: torch.Size([8, 128])\n",
      "Epoch [28/100], Batch [40/55], Loss: 0.0010\n",
      "Shapes - p1: torch.Size([8, 128]), p2: torch.Size([8, 128]), z1: torch.Size([8, 128]), z2: torch.Size([8, 128])\n",
      "Shapes - p1: torch.Size([8, 128]), p2: torch.Size([8, 128]), z1: torch.Size([8, 128]), z2: torch.Size([8, 128])\n",
      "Shapes - p1: torch.Size([8, 128]), p2: torch.Size([8, 128]), z1: torch.Size([8, 128]), z2: torch.Size([8, 128])\n",
      "Shapes - p1: torch.Size([8, 128]), p2: torch.Size([8, 128]), z1: torch.Size([8, 128]), z2: torch.Size([8, 128])\n",
      "Shapes - p1: torch.Size([8, 128]), p2: torch.Size([8, 128]), z1: torch.Size([8, 128]), z2: torch.Size([8, 128])\n",
      "Epoch [28/100], Batch [45/55], Loss: 0.0045\n",
      "Shapes - p1: torch.Size([8, 128]), p2: torch.Size([8, 128]), z1: torch.Size([8, 128]), z2: torch.Size([8, 128])\n",
      "Shapes - p1: torch.Size([8, 128]), p2: torch.Size([8, 128]), z1: torch.Size([8, 128]), z2: torch.Size([8, 128])\n",
      "Shapes - p1: torch.Size([8, 128]), p2: torch.Size([8, 128]), z1: torch.Size([8, 128]), z2: torch.Size([8, 128])\n",
      "Shapes - p1: torch.Size([8, 128]), p2: torch.Size([8, 128]), z1: torch.Size([8, 128]), z2: torch.Size([8, 128])\n",
      "Shapes - p1: torch.Size([8, 128]), p2: torch.Size([8, 128]), z1: torch.Size([8, 128]), z2: torch.Size([8, 128])\n",
      "Epoch [28/100], Batch [50/55], Loss: 0.0126\n",
      "Shapes - p1: torch.Size([8, 128]), p2: torch.Size([8, 128]), z1: torch.Size([8, 128]), z2: torch.Size([8, 128])\n",
      "Shapes - p1: torch.Size([8, 128]), p2: torch.Size([8, 128]), z1: torch.Size([8, 128]), z2: torch.Size([8, 128])\n",
      "Shapes - p1: torch.Size([8, 128]), p2: torch.Size([8, 128]), z1: torch.Size([8, 128]), z2: torch.Size([8, 128])\n",
      "Shapes - p1: torch.Size([8, 128]), p2: torch.Size([8, 128]), z1: torch.Size([8, 128]), z2: torch.Size([8, 128])\n",
      "Shapes - p1: torch.Size([6, 128]), p2: torch.Size([6, 128]), z1: torch.Size([6, 128]), z2: torch.Size([6, 128])\n",
      "Epoch [28/100], Batch [55/55], Loss: 0.0031\n",
      "✅ Completed Epoch [28/100] | Avg Loss: 0.0038\n",
      "✅ Model Improved & Saved!\n",
      "Shapes - p1: torch.Size([8, 128]), p2: torch.Size([8, 128]), z1: torch.Size([8, 128]), z2: torch.Size([8, 128])\n",
      "Shapes - p1: torch.Size([8, 128]), p2: torch.Size([8, 128]), z1: torch.Size([8, 128]), z2: torch.Size([8, 128])\n",
      "Shapes - p1: torch.Size([8, 128]), p2: torch.Size([8, 128]), z1: torch.Size([8, 128]), z2: torch.Size([8, 128])\n",
      "Shapes - p1: torch.Size([8, 128]), p2: torch.Size([8, 128]), z1: torch.Size([8, 128]), z2: torch.Size([8, 128])\n",
      "Shapes - p1: torch.Size([8, 128]), p2: torch.Size([8, 128]), z1: torch.Size([8, 128]), z2: torch.Size([8, 128])\n",
      "Epoch [29/100], Batch [5/55], Loss: 0.0142\n",
      "Shapes - p1: torch.Size([8, 128]), p2: torch.Size([8, 128]), z1: torch.Size([8, 128]), z2: torch.Size([8, 128])\n",
      "Shapes - p1: torch.Size([8, 128]), p2: torch.Size([8, 128]), z1: torch.Size([8, 128]), z2: torch.Size([8, 128])\n",
      "Shapes - p1: torch.Size([8, 128]), p2: torch.Size([8, 128]), z1: torch.Size([8, 128]), z2: torch.Size([8, 128])\n",
      "Shapes - p1: torch.Size([8, 128]), p2: torch.Size([8, 128]), z1: torch.Size([8, 128]), z2: torch.Size([8, 128])\n",
      "Shapes - p1: torch.Size([8, 128]), p2: torch.Size([8, 128]), z1: torch.Size([8, 128]), z2: torch.Size([8, 128])\n",
      "Epoch [29/100], Batch [10/55], Loss: 0.0028\n",
      "Shapes - p1: torch.Size([8, 128]), p2: torch.Size([8, 128]), z1: torch.Size([8, 128]), z2: torch.Size([8, 128])\n",
      "Shapes - p1: torch.Size([8, 128]), p2: torch.Size([8, 128]), z1: torch.Size([8, 128]), z2: torch.Size([8, 128])\n",
      "Shapes - p1: torch.Size([8, 128]), p2: torch.Size([8, 128]), z1: torch.Size([8, 128]), z2: torch.Size([8, 128])\n",
      "Shapes - p1: torch.Size([8, 128]), p2: torch.Size([8, 128]), z1: torch.Size([8, 128]), z2: torch.Size([8, 128])\n",
      "Shapes - p1: torch.Size([8, 128]), p2: torch.Size([8, 128]), z1: torch.Size([8, 128]), z2: torch.Size([8, 128])\n",
      "Epoch [29/100], Batch [15/55], Loss: 0.0008\n",
      "Shapes - p1: torch.Size([8, 128]), p2: torch.Size([8, 128]), z1: torch.Size([8, 128]), z2: torch.Size([8, 128])\n",
      "Shapes - p1: torch.Size([8, 128]), p2: torch.Size([8, 128]), z1: torch.Size([8, 128]), z2: torch.Size([8, 128])\n",
      "Shapes - p1: torch.Size([8, 128]), p2: torch.Size([8, 128]), z1: torch.Size([8, 128]), z2: torch.Size([8, 128])\n",
      "Shapes - p1: torch.Size([8, 128]), p2: torch.Size([8, 128]), z1: torch.Size([8, 128]), z2: torch.Size([8, 128])\n",
      "Shapes - p1: torch.Size([8, 128]), p2: torch.Size([8, 128]), z1: torch.Size([8, 128]), z2: torch.Size([8, 128])\n",
      "Epoch [29/100], Batch [20/55], Loss: 0.0010\n",
      "Shapes - p1: torch.Size([8, 128]), p2: torch.Size([8, 128]), z1: torch.Size([8, 128]), z2: torch.Size([8, 128])\n",
      "Shapes - p1: torch.Size([8, 128]), p2: torch.Size([8, 128]), z1: torch.Size([8, 128]), z2: torch.Size([8, 128])\n",
      "Shapes - p1: torch.Size([8, 128]), p2: torch.Size([8, 128]), z1: torch.Size([8, 128]), z2: torch.Size([8, 128])\n",
      "Shapes - p1: torch.Size([8, 128]), p2: torch.Size([8, 128]), z1: torch.Size([8, 128]), z2: torch.Size([8, 128])\n",
      "Shapes - p1: torch.Size([8, 128]), p2: torch.Size([8, 128]), z1: torch.Size([8, 128]), z2: torch.Size([8, 128])\n",
      "Epoch [29/100], Batch [25/55], Loss: 0.0034\n",
      "Shapes - p1: torch.Size([8, 128]), p2: torch.Size([8, 128]), z1: torch.Size([8, 128]), z2: torch.Size([8, 128])\n",
      "Shapes - p1: torch.Size([8, 128]), p2: torch.Size([8, 128]), z1: torch.Size([8, 128]), z2: torch.Size([8, 128])\n",
      "Shapes - p1: torch.Size([8, 128]), p2: torch.Size([8, 128]), z1: torch.Size([8, 128]), z2: torch.Size([8, 128])\n",
      "Shapes - p1: torch.Size([8, 128]), p2: torch.Size([8, 128]), z1: torch.Size([8, 128]), z2: torch.Size([8, 128])\n",
      "Shapes - p1: torch.Size([8, 128]), p2: torch.Size([8, 128]), z1: torch.Size([8, 128]), z2: torch.Size([8, 128])\n",
      "Epoch [29/100], Batch [30/55], Loss: 0.0010\n",
      "Shapes - p1: torch.Size([8, 128]), p2: torch.Size([8, 128]), z1: torch.Size([8, 128]), z2: torch.Size([8, 128])\n",
      "Shapes - p1: torch.Size([8, 128]), p2: torch.Size([8, 128]), z1: torch.Size([8, 128]), z2: torch.Size([8, 128])\n",
      "Shapes - p1: torch.Size([8, 128]), p2: torch.Size([8, 128]), z1: torch.Size([8, 128]), z2: torch.Size([8, 128])\n",
      "Shapes - p1: torch.Size([8, 128]), p2: torch.Size([8, 128]), z1: torch.Size([8, 128]), z2: torch.Size([8, 128])\n",
      "Shapes - p1: torch.Size([8, 128]), p2: torch.Size([8, 128]), z1: torch.Size([8, 128]), z2: torch.Size([8, 128])\n",
      "Epoch [29/100], Batch [35/55], Loss: 0.0009\n",
      "Shapes - p1: torch.Size([8, 128]), p2: torch.Size([8, 128]), z1: torch.Size([8, 128]), z2: torch.Size([8, 128])\n",
      "Shapes - p1: torch.Size([8, 128]), p2: torch.Size([8, 128]), z1: torch.Size([8, 128]), z2: torch.Size([8, 128])\n",
      "Shapes - p1: torch.Size([8, 128]), p2: torch.Size([8, 128]), z1: torch.Size([8, 128]), z2: torch.Size([8, 128])\n",
      "Shapes - p1: torch.Size([8, 128]), p2: torch.Size([8, 128]), z1: torch.Size([8, 128]), z2: torch.Size([8, 128])\n",
      "Shapes - p1: torch.Size([8, 128]), p2: torch.Size([8, 128]), z1: torch.Size([8, 128]), z2: torch.Size([8, 128])\n",
      "Epoch [29/100], Batch [40/55], Loss: 0.0038\n",
      "Shapes - p1: torch.Size([8, 128]), p2: torch.Size([8, 128]), z1: torch.Size([8, 128]), z2: torch.Size([8, 128])\n",
      "Shapes - p1: torch.Size([8, 128]), p2: torch.Size([8, 128]), z1: torch.Size([8, 128]), z2: torch.Size([8, 128])\n",
      "Shapes - p1: torch.Size([8, 128]), p2: torch.Size([8, 128]), z1: torch.Size([8, 128]), z2: torch.Size([8, 128])\n",
      "Shapes - p1: torch.Size([8, 128]), p2: torch.Size([8, 128]), z1: torch.Size([8, 128]), z2: torch.Size([8, 128])\n",
      "Shapes - p1: torch.Size([8, 128]), p2: torch.Size([8, 128]), z1: torch.Size([8, 128]), z2: torch.Size([8, 128])\n",
      "Epoch [29/100], Batch [45/55], Loss: 0.0015\n",
      "Shapes - p1: torch.Size([8, 128]), p2: torch.Size([8, 128]), z1: torch.Size([8, 128]), z2: torch.Size([8, 128])\n",
      "Shapes - p1: torch.Size([8, 128]), p2: torch.Size([8, 128]), z1: torch.Size([8, 128]), z2: torch.Size([8, 128])\n",
      "Shapes - p1: torch.Size([8, 128]), p2: torch.Size([8, 128]), z1: torch.Size([8, 128]), z2: torch.Size([8, 128])\n",
      "Shapes - p1: torch.Size([8, 128]), p2: torch.Size([8, 128]), z1: torch.Size([8, 128]), z2: torch.Size([8, 128])\n",
      "Shapes - p1: torch.Size([8, 128]), p2: torch.Size([8, 128]), z1: torch.Size([8, 128]), z2: torch.Size([8, 128])\n",
      "Epoch [29/100], Batch [50/55], Loss: 0.0141\n",
      "Shapes - p1: torch.Size([8, 128]), p2: torch.Size([8, 128]), z1: torch.Size([8, 128]), z2: torch.Size([8, 128])\n",
      "Shapes - p1: torch.Size([8, 128]), p2: torch.Size([8, 128]), z1: torch.Size([8, 128]), z2: torch.Size([8, 128])\n",
      "Shapes - p1: torch.Size([8, 128]), p2: torch.Size([8, 128]), z1: torch.Size([8, 128]), z2: torch.Size([8, 128])\n",
      "Shapes - p1: torch.Size([8, 128]), p2: torch.Size([8, 128]), z1: torch.Size([8, 128]), z2: torch.Size([8, 128])\n",
      "Shapes - p1: torch.Size([6, 128]), p2: torch.Size([6, 128]), z1: torch.Size([6, 128]), z2: torch.Size([6, 128])\n",
      "Epoch [29/100], Batch [55/55], Loss: 0.0189\n",
      "✅ Completed Epoch [29/100] | Avg Loss: 0.0064\n",
      "⏳ No Improvement | Patience: 1/15\n",
      "Shapes - p1: torch.Size([8, 128]), p2: torch.Size([8, 128]), z1: torch.Size([8, 128]), z2: torch.Size([8, 128])\n",
      "Shapes - p1: torch.Size([8, 128]), p2: torch.Size([8, 128]), z1: torch.Size([8, 128]), z2: torch.Size([8, 128])\n",
      "Shapes - p1: torch.Size([8, 128]), p2: torch.Size([8, 128]), z1: torch.Size([8, 128]), z2: torch.Size([8, 128])\n",
      "Shapes - p1: torch.Size([8, 128]), p2: torch.Size([8, 128]), z1: torch.Size([8, 128]), z2: torch.Size([8, 128])\n",
      "Shapes - p1: torch.Size([8, 128]), p2: torch.Size([8, 128]), z1: torch.Size([8, 128]), z2: torch.Size([8, 128])\n",
      "Epoch [30/100], Batch [5/55], Loss: 0.0126\n",
      "Shapes - p1: torch.Size([8, 128]), p2: torch.Size([8, 128]), z1: torch.Size([8, 128]), z2: torch.Size([8, 128])\n",
      "Shapes - p1: torch.Size([8, 128]), p2: torch.Size([8, 128]), z1: torch.Size([8, 128]), z2: torch.Size([8, 128])\n",
      "Shapes - p1: torch.Size([8, 128]), p2: torch.Size([8, 128]), z1: torch.Size([8, 128]), z2: torch.Size([8, 128])\n",
      "Shapes - p1: torch.Size([8, 128]), p2: torch.Size([8, 128]), z1: torch.Size([8, 128]), z2: torch.Size([8, 128])\n",
      "Shapes - p1: torch.Size([8, 128]), p2: torch.Size([8, 128]), z1: torch.Size([8, 128]), z2: torch.Size([8, 128])\n",
      "Epoch [30/100], Batch [10/55], Loss: 0.0040\n",
      "Shapes - p1: torch.Size([8, 128]), p2: torch.Size([8, 128]), z1: torch.Size([8, 128]), z2: torch.Size([8, 128])\n",
      "Shapes - p1: torch.Size([8, 128]), p2: torch.Size([8, 128]), z1: torch.Size([8, 128]), z2: torch.Size([8, 128])\n",
      "Shapes - p1: torch.Size([8, 128]), p2: torch.Size([8, 128]), z1: torch.Size([8, 128]), z2: torch.Size([8, 128])\n",
      "Shapes - p1: torch.Size([8, 128]), p2: torch.Size([8, 128]), z1: torch.Size([8, 128]), z2: torch.Size([8, 128])\n",
      "Shapes - p1: torch.Size([8, 128]), p2: torch.Size([8, 128]), z1: torch.Size([8, 128]), z2: torch.Size([8, 128])\n",
      "Epoch [30/100], Batch [15/55], Loss: 0.0023\n",
      "Shapes - p1: torch.Size([8, 128]), p2: torch.Size([8, 128]), z1: torch.Size([8, 128]), z2: torch.Size([8, 128])\n",
      "Shapes - p1: torch.Size([8, 128]), p2: torch.Size([8, 128]), z1: torch.Size([8, 128]), z2: torch.Size([8, 128])\n",
      "Shapes - p1: torch.Size([8, 128]), p2: torch.Size([8, 128]), z1: torch.Size([8, 128]), z2: torch.Size([8, 128])\n",
      "Shapes - p1: torch.Size([8, 128]), p2: torch.Size([8, 128]), z1: torch.Size([8, 128]), z2: torch.Size([8, 128])\n",
      "Shapes - p1: torch.Size([8, 128]), p2: torch.Size([8, 128]), z1: torch.Size([8, 128]), z2: torch.Size([8, 128])\n",
      "Epoch [30/100], Batch [20/55], Loss: 0.0029\n",
      "Shapes - p1: torch.Size([8, 128]), p2: torch.Size([8, 128]), z1: torch.Size([8, 128]), z2: torch.Size([8, 128])\n",
      "Shapes - p1: torch.Size([8, 128]), p2: torch.Size([8, 128]), z1: torch.Size([8, 128]), z2: torch.Size([8, 128])\n",
      "Shapes - p1: torch.Size([8, 128]), p2: torch.Size([8, 128]), z1: torch.Size([8, 128]), z2: torch.Size([8, 128])\n",
      "Shapes - p1: torch.Size([8, 128]), p2: torch.Size([8, 128]), z1: torch.Size([8, 128]), z2: torch.Size([8, 128])\n",
      "Shapes - p1: torch.Size([8, 128]), p2: torch.Size([8, 128]), z1: torch.Size([8, 128]), z2: torch.Size([8, 128])\n",
      "Epoch [30/100], Batch [25/55], Loss: 0.0017\n",
      "Shapes - p1: torch.Size([8, 128]), p2: torch.Size([8, 128]), z1: torch.Size([8, 128]), z2: torch.Size([8, 128])\n",
      "Shapes - p1: torch.Size([8, 128]), p2: torch.Size([8, 128]), z1: torch.Size([8, 128]), z2: torch.Size([8, 128])\n",
      "Shapes - p1: torch.Size([8, 128]), p2: torch.Size([8, 128]), z1: torch.Size([8, 128]), z2: torch.Size([8, 128])\n",
      "Shapes - p1: torch.Size([8, 128]), p2: torch.Size([8, 128]), z1: torch.Size([8, 128]), z2: torch.Size([8, 128])\n",
      "Shapes - p1: torch.Size([8, 128]), p2: torch.Size([8, 128]), z1: torch.Size([8, 128]), z2: torch.Size([8, 128])\n",
      "Epoch [30/100], Batch [30/55], Loss: 0.0117\n",
      "Shapes - p1: torch.Size([8, 128]), p2: torch.Size([8, 128]), z1: torch.Size([8, 128]), z2: torch.Size([8, 128])\n",
      "Shapes - p1: torch.Size([8, 128]), p2: torch.Size([8, 128]), z1: torch.Size([8, 128]), z2: torch.Size([8, 128])\n",
      "Shapes - p1: torch.Size([8, 128]), p2: torch.Size([8, 128]), z1: torch.Size([8, 128]), z2: torch.Size([8, 128])\n",
      "Shapes - p1: torch.Size([8, 128]), p2: torch.Size([8, 128]), z1: torch.Size([8, 128]), z2: torch.Size([8, 128])\n",
      "Shapes - p1: torch.Size([8, 128]), p2: torch.Size([8, 128]), z1: torch.Size([8, 128]), z2: torch.Size([8, 128])\n",
      "Epoch [30/100], Batch [35/55], Loss: 0.0021\n",
      "Shapes - p1: torch.Size([8, 128]), p2: torch.Size([8, 128]), z1: torch.Size([8, 128]), z2: torch.Size([8, 128])\n",
      "Shapes - p1: torch.Size([8, 128]), p2: torch.Size([8, 128]), z1: torch.Size([8, 128]), z2: torch.Size([8, 128])\n",
      "Shapes - p1: torch.Size([8, 128]), p2: torch.Size([8, 128]), z1: torch.Size([8, 128]), z2: torch.Size([8, 128])\n",
      "Shapes - p1: torch.Size([8, 128]), p2: torch.Size([8, 128]), z1: torch.Size([8, 128]), z2: torch.Size([8, 128])\n",
      "Shapes - p1: torch.Size([8, 128]), p2: torch.Size([8, 128]), z1: torch.Size([8, 128]), z2: torch.Size([8, 128])\n",
      "Epoch [30/100], Batch [40/55], Loss: 0.0056\n",
      "Shapes - p1: torch.Size([8, 128]), p2: torch.Size([8, 128]), z1: torch.Size([8, 128]), z2: torch.Size([8, 128])\n",
      "Shapes - p1: torch.Size([8, 128]), p2: torch.Size([8, 128]), z1: torch.Size([8, 128]), z2: torch.Size([8, 128])\n",
      "Shapes - p1: torch.Size([8, 128]), p2: torch.Size([8, 128]), z1: torch.Size([8, 128]), z2: torch.Size([8, 128])\n",
      "Shapes - p1: torch.Size([8, 128]), p2: torch.Size([8, 128]), z1: torch.Size([8, 128]), z2: torch.Size([8, 128])\n",
      "Shapes - p1: torch.Size([8, 128]), p2: torch.Size([8, 128]), z1: torch.Size([8, 128]), z2: torch.Size([8, 128])\n",
      "Epoch [30/100], Batch [45/55], Loss: 0.0044\n",
      "Shapes - p1: torch.Size([8, 128]), p2: torch.Size([8, 128]), z1: torch.Size([8, 128]), z2: torch.Size([8, 128])\n",
      "Shapes - p1: torch.Size([8, 128]), p2: torch.Size([8, 128]), z1: torch.Size([8, 128]), z2: torch.Size([8, 128])\n",
      "Shapes - p1: torch.Size([8, 128]), p2: torch.Size([8, 128]), z1: torch.Size([8, 128]), z2: torch.Size([8, 128])\n",
      "Shapes - p1: torch.Size([8, 128]), p2: torch.Size([8, 128]), z1: torch.Size([8, 128]), z2: torch.Size([8, 128])\n",
      "Shapes - p1: torch.Size([8, 128]), p2: torch.Size([8, 128]), z1: torch.Size([8, 128]), z2: torch.Size([8, 128])\n",
      "Epoch [30/100], Batch [50/55], Loss: 0.0025\n",
      "Shapes - p1: torch.Size([8, 128]), p2: torch.Size([8, 128]), z1: torch.Size([8, 128]), z2: torch.Size([8, 128])\n",
      "Shapes - p1: torch.Size([8, 128]), p2: torch.Size([8, 128]), z1: torch.Size([8, 128]), z2: torch.Size([8, 128])\n",
      "Shapes - p1: torch.Size([8, 128]), p2: torch.Size([8, 128]), z1: torch.Size([8, 128]), z2: torch.Size([8, 128])\n",
      "Shapes - p1: torch.Size([8, 128]), p2: torch.Size([8, 128]), z1: torch.Size([8, 128]), z2: torch.Size([8, 128])\n",
      "Shapes - p1: torch.Size([6, 128]), p2: torch.Size([6, 128]), z1: torch.Size([6, 128]), z2: torch.Size([6, 128])\n",
      "Epoch [30/100], Batch [55/55], Loss: 0.0071\n",
      "✅ Completed Epoch [30/100] | Avg Loss: 0.0044\n",
      "⏳ No Improvement | Patience: 2/15\n",
      "Shapes - p1: torch.Size([8, 128]), p2: torch.Size([8, 128]), z1: torch.Size([8, 128]), z2: torch.Size([8, 128])\n",
      "Shapes - p1: torch.Size([8, 128]), p2: torch.Size([8, 128]), z1: torch.Size([8, 128]), z2: torch.Size([8, 128])\n",
      "Shapes - p1: torch.Size([8, 128]), p2: torch.Size([8, 128]), z1: torch.Size([8, 128]), z2: torch.Size([8, 128])\n",
      "Shapes - p1: torch.Size([8, 128]), p2: torch.Size([8, 128]), z1: torch.Size([8, 128]), z2: torch.Size([8, 128])\n",
      "Shapes - p1: torch.Size([8, 128]), p2: torch.Size([8, 128]), z1: torch.Size([8, 128]), z2: torch.Size([8, 128])\n",
      "Epoch [31/100], Batch [5/55], Loss: 0.0033\n",
      "Shapes - p1: torch.Size([8, 128]), p2: torch.Size([8, 128]), z1: torch.Size([8, 128]), z2: torch.Size([8, 128])\n",
      "Shapes - p1: torch.Size([8, 128]), p2: torch.Size([8, 128]), z1: torch.Size([8, 128]), z2: torch.Size([8, 128])\n",
      "Shapes - p1: torch.Size([8, 128]), p2: torch.Size([8, 128]), z1: torch.Size([8, 128]), z2: torch.Size([8, 128])\n",
      "Shapes - p1: torch.Size([8, 128]), p2: torch.Size([8, 128]), z1: torch.Size([8, 128]), z2: torch.Size([8, 128])\n",
      "Shapes - p1: torch.Size([8, 128]), p2: torch.Size([8, 128]), z1: torch.Size([8, 128]), z2: torch.Size([8, 128])\n",
      "Epoch [31/100], Batch [10/55], Loss: 0.0063\n",
      "Shapes - p1: torch.Size([8, 128]), p2: torch.Size([8, 128]), z1: torch.Size([8, 128]), z2: torch.Size([8, 128])\n",
      "Shapes - p1: torch.Size([8, 128]), p2: torch.Size([8, 128]), z1: torch.Size([8, 128]), z2: torch.Size([8, 128])\n",
      "Shapes - p1: torch.Size([8, 128]), p2: torch.Size([8, 128]), z1: torch.Size([8, 128]), z2: torch.Size([8, 128])\n",
      "Shapes - p1: torch.Size([8, 128]), p2: torch.Size([8, 128]), z1: torch.Size([8, 128]), z2: torch.Size([8, 128])\n",
      "Shapes - p1: torch.Size([8, 128]), p2: torch.Size([8, 128]), z1: torch.Size([8, 128]), z2: torch.Size([8, 128])\n",
      "Epoch [31/100], Batch [15/55], Loss: 0.0022\n",
      "Shapes - p1: torch.Size([8, 128]), p2: torch.Size([8, 128]), z1: torch.Size([8, 128]), z2: torch.Size([8, 128])\n",
      "Shapes - p1: torch.Size([8, 128]), p2: torch.Size([8, 128]), z1: torch.Size([8, 128]), z2: torch.Size([8, 128])\n",
      "Shapes - p1: torch.Size([8, 128]), p2: torch.Size([8, 128]), z1: torch.Size([8, 128]), z2: torch.Size([8, 128])\n",
      "Shapes - p1: torch.Size([8, 128]), p2: torch.Size([8, 128]), z1: torch.Size([8, 128]), z2: torch.Size([8, 128])\n",
      "Shapes - p1: torch.Size([8, 128]), p2: torch.Size([8, 128]), z1: torch.Size([8, 128]), z2: torch.Size([8, 128])\n",
      "Epoch [31/100], Batch [20/55], Loss: 0.0018\n",
      "Shapes - p1: torch.Size([8, 128]), p2: torch.Size([8, 128]), z1: torch.Size([8, 128]), z2: torch.Size([8, 128])\n",
      "Shapes - p1: torch.Size([8, 128]), p2: torch.Size([8, 128]), z1: torch.Size([8, 128]), z2: torch.Size([8, 128])\n",
      "Shapes - p1: torch.Size([8, 128]), p2: torch.Size([8, 128]), z1: torch.Size([8, 128]), z2: torch.Size([8, 128])\n",
      "Shapes - p1: torch.Size([8, 128]), p2: torch.Size([8, 128]), z1: torch.Size([8, 128]), z2: torch.Size([8, 128])\n",
      "Shapes - p1: torch.Size([8, 128]), p2: torch.Size([8, 128]), z1: torch.Size([8, 128]), z2: torch.Size([8, 128])\n",
      "Epoch [31/100], Batch [25/55], Loss: 0.0008\n",
      "Shapes - p1: torch.Size([8, 128]), p2: torch.Size([8, 128]), z1: torch.Size([8, 128]), z2: torch.Size([8, 128])\n",
      "Shapes - p1: torch.Size([8, 128]), p2: torch.Size([8, 128]), z1: torch.Size([8, 128]), z2: torch.Size([8, 128])\n",
      "Shapes - p1: torch.Size([8, 128]), p2: torch.Size([8, 128]), z1: torch.Size([8, 128]), z2: torch.Size([8, 128])\n",
      "Shapes - p1: torch.Size([8, 128]), p2: torch.Size([8, 128]), z1: torch.Size([8, 128]), z2: torch.Size([8, 128])\n",
      "Shapes - p1: torch.Size([8, 128]), p2: torch.Size([8, 128]), z1: torch.Size([8, 128]), z2: torch.Size([8, 128])\n",
      "Epoch [31/100], Batch [30/55], Loss: 0.0028\n",
      "Shapes - p1: torch.Size([8, 128]), p2: torch.Size([8, 128]), z1: torch.Size([8, 128]), z2: torch.Size([8, 128])\n",
      "Shapes - p1: torch.Size([8, 128]), p2: torch.Size([8, 128]), z1: torch.Size([8, 128]), z2: torch.Size([8, 128])\n",
      "Shapes - p1: torch.Size([8, 128]), p2: torch.Size([8, 128]), z1: torch.Size([8, 128]), z2: torch.Size([8, 128])\n",
      "Shapes - p1: torch.Size([8, 128]), p2: torch.Size([8, 128]), z1: torch.Size([8, 128]), z2: torch.Size([8, 128])\n",
      "Shapes - p1: torch.Size([8, 128]), p2: torch.Size([8, 128]), z1: torch.Size([8, 128]), z2: torch.Size([8, 128])\n",
      "Epoch [31/100], Batch [35/55], Loss: 0.0044\n",
      "Shapes - p1: torch.Size([8, 128]), p2: torch.Size([8, 128]), z1: torch.Size([8, 128]), z2: torch.Size([8, 128])\n",
      "Shapes - p1: torch.Size([8, 128]), p2: torch.Size([8, 128]), z1: torch.Size([8, 128]), z2: torch.Size([8, 128])\n",
      "Shapes - p1: torch.Size([8, 128]), p2: torch.Size([8, 128]), z1: torch.Size([8, 128]), z2: torch.Size([8, 128])\n",
      "Shapes - p1: torch.Size([8, 128]), p2: torch.Size([8, 128]), z1: torch.Size([8, 128]), z2: torch.Size([8, 128])\n",
      "Shapes - p1: torch.Size([8, 128]), p2: torch.Size([8, 128]), z1: torch.Size([8, 128]), z2: torch.Size([8, 128])\n",
      "Epoch [31/100], Batch [40/55], Loss: 0.0024\n",
      "Shapes - p1: torch.Size([8, 128]), p2: torch.Size([8, 128]), z1: torch.Size([8, 128]), z2: torch.Size([8, 128])\n",
      "Shapes - p1: torch.Size([8, 128]), p2: torch.Size([8, 128]), z1: torch.Size([8, 128]), z2: torch.Size([8, 128])\n",
      "Shapes - p1: torch.Size([8, 128]), p2: torch.Size([8, 128]), z1: torch.Size([8, 128]), z2: torch.Size([8, 128])\n",
      "Shapes - p1: torch.Size([8, 128]), p2: torch.Size([8, 128]), z1: torch.Size([8, 128]), z2: torch.Size([8, 128])\n",
      "Shapes - p1: torch.Size([8, 128]), p2: torch.Size([8, 128]), z1: torch.Size([8, 128]), z2: torch.Size([8, 128])\n",
      "Epoch [31/100], Batch [45/55], Loss: 0.0042\n",
      "Shapes - p1: torch.Size([8, 128]), p2: torch.Size([8, 128]), z1: torch.Size([8, 128]), z2: torch.Size([8, 128])\n",
      "Shapes - p1: torch.Size([8, 128]), p2: torch.Size([8, 128]), z1: torch.Size([8, 128]), z2: torch.Size([8, 128])\n",
      "Shapes - p1: torch.Size([8, 128]), p2: torch.Size([8, 128]), z1: torch.Size([8, 128]), z2: torch.Size([8, 128])\n",
      "Shapes - p1: torch.Size([8, 128]), p2: torch.Size([8, 128]), z1: torch.Size([8, 128]), z2: torch.Size([8, 128])\n",
      "Shapes - p1: torch.Size([8, 128]), p2: torch.Size([8, 128]), z1: torch.Size([8, 128]), z2: torch.Size([8, 128])\n",
      "Epoch [31/100], Batch [50/55], Loss: 0.0010\n",
      "Shapes - p1: torch.Size([8, 128]), p2: torch.Size([8, 128]), z1: torch.Size([8, 128]), z2: torch.Size([8, 128])\n",
      "Shapes - p1: torch.Size([8, 128]), p2: torch.Size([8, 128]), z1: torch.Size([8, 128]), z2: torch.Size([8, 128])\n",
      "Shapes - p1: torch.Size([8, 128]), p2: torch.Size([8, 128]), z1: torch.Size([8, 128]), z2: torch.Size([8, 128])\n",
      "Shapes - p1: torch.Size([8, 128]), p2: torch.Size([8, 128]), z1: torch.Size([8, 128]), z2: torch.Size([8, 128])\n",
      "Shapes - p1: torch.Size([6, 128]), p2: torch.Size([6, 128]), z1: torch.Size([6, 128]), z2: torch.Size([6, 128])\n",
      "Epoch [31/100], Batch [55/55], Loss: 0.0007\n",
      "✅ Completed Epoch [31/100] | Avg Loss: 0.0030\n",
      "✅ Model Improved & Saved!\n",
      "Shapes - p1: torch.Size([8, 128]), p2: torch.Size([8, 128]), z1: torch.Size([8, 128]), z2: torch.Size([8, 128])\n",
      "Shapes - p1: torch.Size([8, 128]), p2: torch.Size([8, 128]), z1: torch.Size([8, 128]), z2: torch.Size([8, 128])\n",
      "Shapes - p1: torch.Size([8, 128]), p2: torch.Size([8, 128]), z1: torch.Size([8, 128]), z2: torch.Size([8, 128])\n",
      "Shapes - p1: torch.Size([8, 128]), p2: torch.Size([8, 128]), z1: torch.Size([8, 128]), z2: torch.Size([8, 128])\n",
      "Shapes - p1: torch.Size([8, 128]), p2: torch.Size([8, 128]), z1: torch.Size([8, 128]), z2: torch.Size([8, 128])\n",
      "Epoch [32/100], Batch [5/55], Loss: 0.0024\n",
      "Shapes - p1: torch.Size([8, 128]), p2: torch.Size([8, 128]), z1: torch.Size([8, 128]), z2: torch.Size([8, 128])\n",
      "Shapes - p1: torch.Size([8, 128]), p2: torch.Size([8, 128]), z1: torch.Size([8, 128]), z2: torch.Size([8, 128])\n",
      "Shapes - p1: torch.Size([8, 128]), p2: torch.Size([8, 128]), z1: torch.Size([8, 128]), z2: torch.Size([8, 128])\n",
      "Shapes - p1: torch.Size([8, 128]), p2: torch.Size([8, 128]), z1: torch.Size([8, 128]), z2: torch.Size([8, 128])\n",
      "Shapes - p1: torch.Size([8, 128]), p2: torch.Size([8, 128]), z1: torch.Size([8, 128]), z2: torch.Size([8, 128])\n",
      "Epoch [32/100], Batch [10/55], Loss: 0.0010\n",
      "Shapes - p1: torch.Size([8, 128]), p2: torch.Size([8, 128]), z1: torch.Size([8, 128]), z2: torch.Size([8, 128])\n",
      "Shapes - p1: torch.Size([8, 128]), p2: torch.Size([8, 128]), z1: torch.Size([8, 128]), z2: torch.Size([8, 128])\n",
      "Shapes - p1: torch.Size([8, 128]), p2: torch.Size([8, 128]), z1: torch.Size([8, 128]), z2: torch.Size([8, 128])\n",
      "Shapes - p1: torch.Size([8, 128]), p2: torch.Size([8, 128]), z1: torch.Size([8, 128]), z2: torch.Size([8, 128])\n",
      "Shapes - p1: torch.Size([8, 128]), p2: torch.Size([8, 128]), z1: torch.Size([8, 128]), z2: torch.Size([8, 128])\n",
      "Epoch [32/100], Batch [15/55], Loss: 0.0014\n",
      "Shapes - p1: torch.Size([8, 128]), p2: torch.Size([8, 128]), z1: torch.Size([8, 128]), z2: torch.Size([8, 128])\n",
      "Shapes - p1: torch.Size([8, 128]), p2: torch.Size([8, 128]), z1: torch.Size([8, 128]), z2: torch.Size([8, 128])\n",
      "Shapes - p1: torch.Size([8, 128]), p2: torch.Size([8, 128]), z1: torch.Size([8, 128]), z2: torch.Size([8, 128])\n",
      "Shapes - p1: torch.Size([8, 128]), p2: torch.Size([8, 128]), z1: torch.Size([8, 128]), z2: torch.Size([8, 128])\n",
      "Shapes - p1: torch.Size([8, 128]), p2: torch.Size([8, 128]), z1: torch.Size([8, 128]), z2: torch.Size([8, 128])\n",
      "Epoch [32/100], Batch [20/55], Loss: 0.0010\n",
      "Shapes - p1: torch.Size([8, 128]), p2: torch.Size([8, 128]), z1: torch.Size([8, 128]), z2: torch.Size([8, 128])\n",
      "Shapes - p1: torch.Size([8, 128]), p2: torch.Size([8, 128]), z1: torch.Size([8, 128]), z2: torch.Size([8, 128])\n",
      "Shapes - p1: torch.Size([8, 128]), p2: torch.Size([8, 128]), z1: torch.Size([8, 128]), z2: torch.Size([8, 128])\n",
      "Shapes - p1: torch.Size([8, 128]), p2: torch.Size([8, 128]), z1: torch.Size([8, 128]), z2: torch.Size([8, 128])\n",
      "Shapes - p1: torch.Size([8, 128]), p2: torch.Size([8, 128]), z1: torch.Size([8, 128]), z2: torch.Size([8, 128])\n",
      "Epoch [32/100], Batch [25/55], Loss: 0.0036\n",
      "Shapes - p1: torch.Size([8, 128]), p2: torch.Size([8, 128]), z1: torch.Size([8, 128]), z2: torch.Size([8, 128])\n",
      "Shapes - p1: torch.Size([8, 128]), p2: torch.Size([8, 128]), z1: torch.Size([8, 128]), z2: torch.Size([8, 128])\n",
      "Shapes - p1: torch.Size([8, 128]), p2: torch.Size([8, 128]), z1: torch.Size([8, 128]), z2: torch.Size([8, 128])\n",
      "Shapes - p1: torch.Size([8, 128]), p2: torch.Size([8, 128]), z1: torch.Size([8, 128]), z2: torch.Size([8, 128])\n",
      "Shapes - p1: torch.Size([8, 128]), p2: torch.Size([8, 128]), z1: torch.Size([8, 128]), z2: torch.Size([8, 128])\n",
      "Epoch [32/100], Batch [30/55], Loss: 0.0010\n",
      "Shapes - p1: torch.Size([8, 128]), p2: torch.Size([8, 128]), z1: torch.Size([8, 128]), z2: torch.Size([8, 128])\n",
      "Shapes - p1: torch.Size([8, 128]), p2: torch.Size([8, 128]), z1: torch.Size([8, 128]), z2: torch.Size([8, 128])\n",
      "Shapes - p1: torch.Size([8, 128]), p2: torch.Size([8, 128]), z1: torch.Size([8, 128]), z2: torch.Size([8, 128])\n",
      "Shapes - p1: torch.Size([8, 128]), p2: torch.Size([8, 128]), z1: torch.Size([8, 128]), z2: torch.Size([8, 128])\n",
      "Shapes - p1: torch.Size([8, 128]), p2: torch.Size([8, 128]), z1: torch.Size([8, 128]), z2: torch.Size([8, 128])\n",
      "Epoch [32/100], Batch [35/55], Loss: 0.0110\n",
      "Shapes - p1: torch.Size([8, 128]), p2: torch.Size([8, 128]), z1: torch.Size([8, 128]), z2: torch.Size([8, 128])\n",
      "Shapes - p1: torch.Size([8, 128]), p2: torch.Size([8, 128]), z1: torch.Size([8, 128]), z2: torch.Size([8, 128])\n",
      "Shapes - p1: torch.Size([8, 128]), p2: torch.Size([8, 128]), z1: torch.Size([8, 128]), z2: torch.Size([8, 128])\n",
      "Shapes - p1: torch.Size([8, 128]), p2: torch.Size([8, 128]), z1: torch.Size([8, 128]), z2: torch.Size([8, 128])\n",
      "Shapes - p1: torch.Size([8, 128]), p2: torch.Size([8, 128]), z1: torch.Size([8, 128]), z2: torch.Size([8, 128])\n",
      "Epoch [32/100], Batch [40/55], Loss: 0.0021\n",
      "Shapes - p1: torch.Size([8, 128]), p2: torch.Size([8, 128]), z1: torch.Size([8, 128]), z2: torch.Size([8, 128])\n",
      "Shapes - p1: torch.Size([8, 128]), p2: torch.Size([8, 128]), z1: torch.Size([8, 128]), z2: torch.Size([8, 128])\n",
      "Shapes - p1: torch.Size([8, 128]), p2: torch.Size([8, 128]), z1: torch.Size([8, 128]), z2: torch.Size([8, 128])\n",
      "Shapes - p1: torch.Size([8, 128]), p2: torch.Size([8, 128]), z1: torch.Size([8, 128]), z2: torch.Size([8, 128])\n",
      "Shapes - p1: torch.Size([8, 128]), p2: torch.Size([8, 128]), z1: torch.Size([8, 128]), z2: torch.Size([8, 128])\n",
      "Epoch [32/100], Batch [45/55], Loss: 0.0009\n",
      "Shapes - p1: torch.Size([8, 128]), p2: torch.Size([8, 128]), z1: torch.Size([8, 128]), z2: torch.Size([8, 128])\n",
      "Shapes - p1: torch.Size([8, 128]), p2: torch.Size([8, 128]), z1: torch.Size([8, 128]), z2: torch.Size([8, 128])\n",
      "Shapes - p1: torch.Size([8, 128]), p2: torch.Size([8, 128]), z1: torch.Size([8, 128]), z2: torch.Size([8, 128])\n",
      "Shapes - p1: torch.Size([8, 128]), p2: torch.Size([8, 128]), z1: torch.Size([8, 128]), z2: torch.Size([8, 128])\n",
      "Shapes - p1: torch.Size([8, 128]), p2: torch.Size([8, 128]), z1: torch.Size([8, 128]), z2: torch.Size([8, 128])\n",
      "Epoch [32/100], Batch [50/55], Loss: 0.0139\n",
      "Shapes - p1: torch.Size([8, 128]), p2: torch.Size([8, 128]), z1: torch.Size([8, 128]), z2: torch.Size([8, 128])\n",
      "Shapes - p1: torch.Size([8, 128]), p2: torch.Size([8, 128]), z1: torch.Size([8, 128]), z2: torch.Size([8, 128])\n",
      "Shapes - p1: torch.Size([8, 128]), p2: torch.Size([8, 128]), z1: torch.Size([8, 128]), z2: torch.Size([8, 128])\n",
      "Shapes - p1: torch.Size([8, 128]), p2: torch.Size([8, 128]), z1: torch.Size([8, 128]), z2: torch.Size([8, 128])\n",
      "Shapes - p1: torch.Size([6, 128]), p2: torch.Size([6, 128]), z1: torch.Size([6, 128]), z2: torch.Size([6, 128])\n",
      "Epoch [32/100], Batch [55/55], Loss: 0.0014\n",
      "✅ Completed Epoch [32/100] | Avg Loss: 0.0051\n",
      "⏳ No Improvement | Patience: 1/15\n",
      "Shapes - p1: torch.Size([8, 128]), p2: torch.Size([8, 128]), z1: torch.Size([8, 128]), z2: torch.Size([8, 128])\n",
      "Shapes - p1: torch.Size([8, 128]), p2: torch.Size([8, 128]), z1: torch.Size([8, 128]), z2: torch.Size([8, 128])\n",
      "Shapes - p1: torch.Size([8, 128]), p2: torch.Size([8, 128]), z1: torch.Size([8, 128]), z2: torch.Size([8, 128])\n",
      "Shapes - p1: torch.Size([8, 128]), p2: torch.Size([8, 128]), z1: torch.Size([8, 128]), z2: torch.Size([8, 128])\n",
      "Shapes - p1: torch.Size([8, 128]), p2: torch.Size([8, 128]), z1: torch.Size([8, 128]), z2: torch.Size([8, 128])\n",
      "Epoch [33/100], Batch [5/55], Loss: 0.0019\n",
      "Shapes - p1: torch.Size([8, 128]), p2: torch.Size([8, 128]), z1: torch.Size([8, 128]), z2: torch.Size([8, 128])\n",
      "Shapes - p1: torch.Size([8, 128]), p2: torch.Size([8, 128]), z1: torch.Size([8, 128]), z2: torch.Size([8, 128])\n",
      "Shapes - p1: torch.Size([8, 128]), p2: torch.Size([8, 128]), z1: torch.Size([8, 128]), z2: torch.Size([8, 128])\n",
      "Shapes - p1: torch.Size([8, 128]), p2: torch.Size([8, 128]), z1: torch.Size([8, 128]), z2: torch.Size([8, 128])\n",
      "Shapes - p1: torch.Size([8, 128]), p2: torch.Size([8, 128]), z1: torch.Size([8, 128]), z2: torch.Size([8, 128])\n",
      "Epoch [33/100], Batch [10/55], Loss: 0.0011\n",
      "Shapes - p1: torch.Size([8, 128]), p2: torch.Size([8, 128]), z1: torch.Size([8, 128]), z2: torch.Size([8, 128])\n",
      "Shapes - p1: torch.Size([8, 128]), p2: torch.Size([8, 128]), z1: torch.Size([8, 128]), z2: torch.Size([8, 128])\n",
      "Shapes - p1: torch.Size([8, 128]), p2: torch.Size([8, 128]), z1: torch.Size([8, 128]), z2: torch.Size([8, 128])\n",
      "Shapes - p1: torch.Size([8, 128]), p2: torch.Size([8, 128]), z1: torch.Size([8, 128]), z2: torch.Size([8, 128])\n",
      "Shapes - p1: torch.Size([8, 128]), p2: torch.Size([8, 128]), z1: torch.Size([8, 128]), z2: torch.Size([8, 128])\n",
      "Epoch [33/100], Batch [15/55], Loss: 0.0029\n",
      "Shapes - p1: torch.Size([8, 128]), p2: torch.Size([8, 128]), z1: torch.Size([8, 128]), z2: torch.Size([8, 128])\n",
      "Shapes - p1: torch.Size([8, 128]), p2: torch.Size([8, 128]), z1: torch.Size([8, 128]), z2: torch.Size([8, 128])\n",
      "Shapes - p1: torch.Size([8, 128]), p2: torch.Size([8, 128]), z1: torch.Size([8, 128]), z2: torch.Size([8, 128])\n",
      "Shapes - p1: torch.Size([8, 128]), p2: torch.Size([8, 128]), z1: torch.Size([8, 128]), z2: torch.Size([8, 128])\n",
      "Shapes - p1: torch.Size([8, 128]), p2: torch.Size([8, 128]), z1: torch.Size([8, 128]), z2: torch.Size([8, 128])\n",
      "Epoch [33/100], Batch [20/55], Loss: 0.0049\n",
      "Shapes - p1: torch.Size([8, 128]), p2: torch.Size([8, 128]), z1: torch.Size([8, 128]), z2: torch.Size([8, 128])\n",
      "Shapes - p1: torch.Size([8, 128]), p2: torch.Size([8, 128]), z1: torch.Size([8, 128]), z2: torch.Size([8, 128])\n",
      "Shapes - p1: torch.Size([8, 128]), p2: torch.Size([8, 128]), z1: torch.Size([8, 128]), z2: torch.Size([8, 128])\n",
      "Shapes - p1: torch.Size([8, 128]), p2: torch.Size([8, 128]), z1: torch.Size([8, 128]), z2: torch.Size([8, 128])\n",
      "Shapes - p1: torch.Size([8, 128]), p2: torch.Size([8, 128]), z1: torch.Size([8, 128]), z2: torch.Size([8, 128])\n",
      "Epoch [33/100], Batch [25/55], Loss: 0.0020\n",
      "Shapes - p1: torch.Size([8, 128]), p2: torch.Size([8, 128]), z1: torch.Size([8, 128]), z2: torch.Size([8, 128])\n",
      "Shapes - p1: torch.Size([8, 128]), p2: torch.Size([8, 128]), z1: torch.Size([8, 128]), z2: torch.Size([8, 128])\n",
      "Shapes - p1: torch.Size([8, 128]), p2: torch.Size([8, 128]), z1: torch.Size([8, 128]), z2: torch.Size([8, 128])\n",
      "Shapes - p1: torch.Size([8, 128]), p2: torch.Size([8, 128]), z1: torch.Size([8, 128]), z2: torch.Size([8, 128])\n",
      "Shapes - p1: torch.Size([8, 128]), p2: torch.Size([8, 128]), z1: torch.Size([8, 128]), z2: torch.Size([8, 128])\n",
      "Epoch [33/100], Batch [30/55], Loss: 0.0026\n",
      "Shapes - p1: torch.Size([8, 128]), p2: torch.Size([8, 128]), z1: torch.Size([8, 128]), z2: torch.Size([8, 128])\n",
      "Shapes - p1: torch.Size([8, 128]), p2: torch.Size([8, 128]), z1: torch.Size([8, 128]), z2: torch.Size([8, 128])\n",
      "Shapes - p1: torch.Size([8, 128]), p2: torch.Size([8, 128]), z1: torch.Size([8, 128]), z2: torch.Size([8, 128])\n",
      "Shapes - p1: torch.Size([8, 128]), p2: torch.Size([8, 128]), z1: torch.Size([8, 128]), z2: torch.Size([8, 128])\n",
      "Shapes - p1: torch.Size([8, 128]), p2: torch.Size([8, 128]), z1: torch.Size([8, 128]), z2: torch.Size([8, 128])\n",
      "Epoch [33/100], Batch [35/55], Loss: 0.0024\n",
      "Shapes - p1: torch.Size([8, 128]), p2: torch.Size([8, 128]), z1: torch.Size([8, 128]), z2: torch.Size([8, 128])\n",
      "Shapes - p1: torch.Size([8, 128]), p2: torch.Size([8, 128]), z1: torch.Size([8, 128]), z2: torch.Size([8, 128])\n",
      "Shapes - p1: torch.Size([8, 128]), p2: torch.Size([8, 128]), z1: torch.Size([8, 128]), z2: torch.Size([8, 128])\n",
      "Shapes - p1: torch.Size([8, 128]), p2: torch.Size([8, 128]), z1: torch.Size([8, 128]), z2: torch.Size([8, 128])\n",
      "Shapes - p1: torch.Size([8, 128]), p2: torch.Size([8, 128]), z1: torch.Size([8, 128]), z2: torch.Size([8, 128])\n",
      "Epoch [33/100], Batch [40/55], Loss: 0.0008\n",
      "Shapes - p1: torch.Size([8, 128]), p2: torch.Size([8, 128]), z1: torch.Size([8, 128]), z2: torch.Size([8, 128])\n",
      "Shapes - p1: torch.Size([8, 128]), p2: torch.Size([8, 128]), z1: torch.Size([8, 128]), z2: torch.Size([8, 128])\n",
      "Shapes - p1: torch.Size([8, 128]), p2: torch.Size([8, 128]), z1: torch.Size([8, 128]), z2: torch.Size([8, 128])\n",
      "Shapes - p1: torch.Size([8, 128]), p2: torch.Size([8, 128]), z1: torch.Size([8, 128]), z2: torch.Size([8, 128])\n",
      "Shapes - p1: torch.Size([8, 128]), p2: torch.Size([8, 128]), z1: torch.Size([8, 128]), z2: torch.Size([8, 128])\n",
      "Epoch [33/100], Batch [45/55], Loss: 0.0008\n",
      "Shapes - p1: torch.Size([8, 128]), p2: torch.Size([8, 128]), z1: torch.Size([8, 128]), z2: torch.Size([8, 128])\n",
      "Shapes - p1: torch.Size([8, 128]), p2: torch.Size([8, 128]), z1: torch.Size([8, 128]), z2: torch.Size([8, 128])\n",
      "Shapes - p1: torch.Size([8, 128]), p2: torch.Size([8, 128]), z1: torch.Size([8, 128]), z2: torch.Size([8, 128])\n",
      "Shapes - p1: torch.Size([8, 128]), p2: torch.Size([8, 128]), z1: torch.Size([8, 128]), z2: torch.Size([8, 128])\n",
      "Shapes - p1: torch.Size([8, 128]), p2: torch.Size([8, 128]), z1: torch.Size([8, 128]), z2: torch.Size([8, 128])\n",
      "Epoch [33/100], Batch [50/55], Loss: 0.0029\n",
      "Shapes - p1: torch.Size([8, 128]), p2: torch.Size([8, 128]), z1: torch.Size([8, 128]), z2: torch.Size([8, 128])\n",
      "Shapes - p1: torch.Size([8, 128]), p2: torch.Size([8, 128]), z1: torch.Size([8, 128]), z2: torch.Size([8, 128])\n",
      "Shapes - p1: torch.Size([8, 128]), p2: torch.Size([8, 128]), z1: torch.Size([8, 128]), z2: torch.Size([8, 128])\n",
      "Shapes - p1: torch.Size([8, 128]), p2: torch.Size([8, 128]), z1: torch.Size([8, 128]), z2: torch.Size([8, 128])\n",
      "Shapes - p1: torch.Size([6, 128]), p2: torch.Size([6, 128]), z1: torch.Size([6, 128]), z2: torch.Size([6, 128])\n",
      "Epoch [33/100], Batch [55/55], Loss: 0.0093\n",
      "✅ Completed Epoch [33/100] | Avg Loss: 0.0040\n",
      "⏳ No Improvement | Patience: 2/15\n",
      "Shapes - p1: torch.Size([8, 128]), p2: torch.Size([8, 128]), z1: torch.Size([8, 128]), z2: torch.Size([8, 128])\n",
      "Shapes - p1: torch.Size([8, 128]), p2: torch.Size([8, 128]), z1: torch.Size([8, 128]), z2: torch.Size([8, 128])\n",
      "Shapes - p1: torch.Size([8, 128]), p2: torch.Size([8, 128]), z1: torch.Size([8, 128]), z2: torch.Size([8, 128])\n",
      "Shapes - p1: torch.Size([8, 128]), p2: torch.Size([8, 128]), z1: torch.Size([8, 128]), z2: torch.Size([8, 128])\n",
      "Shapes - p1: torch.Size([8, 128]), p2: torch.Size([8, 128]), z1: torch.Size([8, 128]), z2: torch.Size([8, 128])\n",
      "Epoch [34/100], Batch [5/55], Loss: 0.0114\n",
      "Shapes - p1: torch.Size([8, 128]), p2: torch.Size([8, 128]), z1: torch.Size([8, 128]), z2: torch.Size([8, 128])\n",
      "Shapes - p1: torch.Size([8, 128]), p2: torch.Size([8, 128]), z1: torch.Size([8, 128]), z2: torch.Size([8, 128])\n",
      "Shapes - p1: torch.Size([8, 128]), p2: torch.Size([8, 128]), z1: torch.Size([8, 128]), z2: torch.Size([8, 128])\n",
      "Shapes - p1: torch.Size([8, 128]), p2: torch.Size([8, 128]), z1: torch.Size([8, 128]), z2: torch.Size([8, 128])\n",
      "Shapes - p1: torch.Size([8, 128]), p2: torch.Size([8, 128]), z1: torch.Size([8, 128]), z2: torch.Size([8, 128])\n",
      "Epoch [34/100], Batch [10/55], Loss: 0.0012\n",
      "Shapes - p1: torch.Size([8, 128]), p2: torch.Size([8, 128]), z1: torch.Size([8, 128]), z2: torch.Size([8, 128])\n",
      "Shapes - p1: torch.Size([8, 128]), p2: torch.Size([8, 128]), z1: torch.Size([8, 128]), z2: torch.Size([8, 128])\n",
      "Shapes - p1: torch.Size([8, 128]), p2: torch.Size([8, 128]), z1: torch.Size([8, 128]), z2: torch.Size([8, 128])\n",
      "Shapes - p1: torch.Size([8, 128]), p2: torch.Size([8, 128]), z1: torch.Size([8, 128]), z2: torch.Size([8, 128])\n",
      "Shapes - p1: torch.Size([8, 128]), p2: torch.Size([8, 128]), z1: torch.Size([8, 128]), z2: torch.Size([8, 128])\n",
      "Epoch [34/100], Batch [15/55], Loss: 0.0044\n",
      "Shapes - p1: torch.Size([8, 128]), p2: torch.Size([8, 128]), z1: torch.Size([8, 128]), z2: torch.Size([8, 128])\n",
      "Shapes - p1: torch.Size([8, 128]), p2: torch.Size([8, 128]), z1: torch.Size([8, 128]), z2: torch.Size([8, 128])\n",
      "Shapes - p1: torch.Size([8, 128]), p2: torch.Size([8, 128]), z1: torch.Size([8, 128]), z2: torch.Size([8, 128])\n",
      "Shapes - p1: torch.Size([8, 128]), p2: torch.Size([8, 128]), z1: torch.Size([8, 128]), z2: torch.Size([8, 128])\n",
      "Shapes - p1: torch.Size([8, 128]), p2: torch.Size([8, 128]), z1: torch.Size([8, 128]), z2: torch.Size([8, 128])\n",
      "Epoch [34/100], Batch [20/55], Loss: 0.0007\n",
      "Shapes - p1: torch.Size([8, 128]), p2: torch.Size([8, 128]), z1: torch.Size([8, 128]), z2: torch.Size([8, 128])\n",
      "Shapes - p1: torch.Size([8, 128]), p2: torch.Size([8, 128]), z1: torch.Size([8, 128]), z2: torch.Size([8, 128])\n",
      "Shapes - p1: torch.Size([8, 128]), p2: torch.Size([8, 128]), z1: torch.Size([8, 128]), z2: torch.Size([8, 128])\n",
      "Shapes - p1: torch.Size([8, 128]), p2: torch.Size([8, 128]), z1: torch.Size([8, 128]), z2: torch.Size([8, 128])\n",
      "Shapes - p1: torch.Size([8, 128]), p2: torch.Size([8, 128]), z1: torch.Size([8, 128]), z2: torch.Size([8, 128])\n",
      "Epoch [34/100], Batch [25/55], Loss: 0.0016\n",
      "Shapes - p1: torch.Size([8, 128]), p2: torch.Size([8, 128]), z1: torch.Size([8, 128]), z2: torch.Size([8, 128])\n",
      "Shapes - p1: torch.Size([8, 128]), p2: torch.Size([8, 128]), z1: torch.Size([8, 128]), z2: torch.Size([8, 128])\n",
      "Shapes - p1: torch.Size([8, 128]), p2: torch.Size([8, 128]), z1: torch.Size([8, 128]), z2: torch.Size([8, 128])\n",
      "Shapes - p1: torch.Size([8, 128]), p2: torch.Size([8, 128]), z1: torch.Size([8, 128]), z2: torch.Size([8, 128])\n",
      "Shapes - p1: torch.Size([8, 128]), p2: torch.Size([8, 128]), z1: torch.Size([8, 128]), z2: torch.Size([8, 128])\n",
      "Epoch [34/100], Batch [30/55], Loss: 0.0016\n",
      "Shapes - p1: torch.Size([8, 128]), p2: torch.Size([8, 128]), z1: torch.Size([8, 128]), z2: torch.Size([8, 128])\n",
      "Shapes - p1: torch.Size([8, 128]), p2: torch.Size([8, 128]), z1: torch.Size([8, 128]), z2: torch.Size([8, 128])\n",
      "Shapes - p1: torch.Size([8, 128]), p2: torch.Size([8, 128]), z1: torch.Size([8, 128]), z2: torch.Size([8, 128])\n",
      "Shapes - p1: torch.Size([8, 128]), p2: torch.Size([8, 128]), z1: torch.Size([8, 128]), z2: torch.Size([8, 128])\n",
      "Shapes - p1: torch.Size([8, 128]), p2: torch.Size([8, 128]), z1: torch.Size([8, 128]), z2: torch.Size([8, 128])\n",
      "Epoch [34/100], Batch [35/55], Loss: 0.0030\n",
      "Shapes - p1: torch.Size([8, 128]), p2: torch.Size([8, 128]), z1: torch.Size([8, 128]), z2: torch.Size([8, 128])\n",
      "Shapes - p1: torch.Size([8, 128]), p2: torch.Size([8, 128]), z1: torch.Size([8, 128]), z2: torch.Size([8, 128])\n",
      "Shapes - p1: torch.Size([8, 128]), p2: torch.Size([8, 128]), z1: torch.Size([8, 128]), z2: torch.Size([8, 128])\n",
      "Shapes - p1: torch.Size([8, 128]), p2: torch.Size([8, 128]), z1: torch.Size([8, 128]), z2: torch.Size([8, 128])\n",
      "Shapes - p1: torch.Size([8, 128]), p2: torch.Size([8, 128]), z1: torch.Size([8, 128]), z2: torch.Size([8, 128])\n",
      "Epoch [34/100], Batch [40/55], Loss: 0.0019\n",
      "Shapes - p1: torch.Size([8, 128]), p2: torch.Size([8, 128]), z1: torch.Size([8, 128]), z2: torch.Size([8, 128])\n",
      "Shapes - p1: torch.Size([8, 128]), p2: torch.Size([8, 128]), z1: torch.Size([8, 128]), z2: torch.Size([8, 128])\n",
      "Shapes - p1: torch.Size([8, 128]), p2: torch.Size([8, 128]), z1: torch.Size([8, 128]), z2: torch.Size([8, 128])\n",
      "Shapes - p1: torch.Size([8, 128]), p2: torch.Size([8, 128]), z1: torch.Size([8, 128]), z2: torch.Size([8, 128])\n",
      "Shapes - p1: torch.Size([8, 128]), p2: torch.Size([8, 128]), z1: torch.Size([8, 128]), z2: torch.Size([8, 128])\n",
      "Epoch [34/100], Batch [45/55], Loss: 0.0027\n",
      "Shapes - p1: torch.Size([8, 128]), p2: torch.Size([8, 128]), z1: torch.Size([8, 128]), z2: torch.Size([8, 128])\n",
      "Shapes - p1: torch.Size([8, 128]), p2: torch.Size([8, 128]), z1: torch.Size([8, 128]), z2: torch.Size([8, 128])\n",
      "Shapes - p1: torch.Size([8, 128]), p2: torch.Size([8, 128]), z1: torch.Size([8, 128]), z2: torch.Size([8, 128])\n",
      "Shapes - p1: torch.Size([8, 128]), p2: torch.Size([8, 128]), z1: torch.Size([8, 128]), z2: torch.Size([8, 128])\n",
      "Shapes - p1: torch.Size([8, 128]), p2: torch.Size([8, 128]), z1: torch.Size([8, 128]), z2: torch.Size([8, 128])\n",
      "Epoch [34/100], Batch [50/55], Loss: 0.0028\n",
      "Shapes - p1: torch.Size([8, 128]), p2: torch.Size([8, 128]), z1: torch.Size([8, 128]), z2: torch.Size([8, 128])\n",
      "Shapes - p1: torch.Size([8, 128]), p2: torch.Size([8, 128]), z1: torch.Size([8, 128]), z2: torch.Size([8, 128])\n",
      "Shapes - p1: torch.Size([8, 128]), p2: torch.Size([8, 128]), z1: torch.Size([8, 128]), z2: torch.Size([8, 128])\n",
      "Shapes - p1: torch.Size([8, 128]), p2: torch.Size([8, 128]), z1: torch.Size([8, 128]), z2: torch.Size([8, 128])\n",
      "Shapes - p1: torch.Size([6, 128]), p2: torch.Size([6, 128]), z1: torch.Size([6, 128]), z2: torch.Size([6, 128])\n",
      "Epoch [34/100], Batch [55/55], Loss: 0.0023\n",
      "✅ Completed Epoch [34/100] | Avg Loss: 0.0029\n",
      "✅ Model Improved & Saved!\n",
      "Shapes - p1: torch.Size([8, 128]), p2: torch.Size([8, 128]), z1: torch.Size([8, 128]), z2: torch.Size([8, 128])\n",
      "Shapes - p1: torch.Size([8, 128]), p2: torch.Size([8, 128]), z1: torch.Size([8, 128]), z2: torch.Size([8, 128])\n",
      "Shapes - p1: torch.Size([8, 128]), p2: torch.Size([8, 128]), z1: torch.Size([8, 128]), z2: torch.Size([8, 128])\n",
      "Shapes - p1: torch.Size([8, 128]), p2: torch.Size([8, 128]), z1: torch.Size([8, 128]), z2: torch.Size([8, 128])\n",
      "Shapes - p1: torch.Size([8, 128]), p2: torch.Size([8, 128]), z1: torch.Size([8, 128]), z2: torch.Size([8, 128])\n",
      "Epoch [35/100], Batch [5/55], Loss: 0.0010\n",
      "Shapes - p1: torch.Size([8, 128]), p2: torch.Size([8, 128]), z1: torch.Size([8, 128]), z2: torch.Size([8, 128])\n",
      "Shapes - p1: torch.Size([8, 128]), p2: torch.Size([8, 128]), z1: torch.Size([8, 128]), z2: torch.Size([8, 128])\n",
      "Shapes - p1: torch.Size([8, 128]), p2: torch.Size([8, 128]), z1: torch.Size([8, 128]), z2: torch.Size([8, 128])\n",
      "Shapes - p1: torch.Size([8, 128]), p2: torch.Size([8, 128]), z1: torch.Size([8, 128]), z2: torch.Size([8, 128])\n",
      "Shapes - p1: torch.Size([8, 128]), p2: torch.Size([8, 128]), z1: torch.Size([8, 128]), z2: torch.Size([8, 128])\n",
      "Epoch [35/100], Batch [10/55], Loss: 0.0135\n",
      "Shapes - p1: torch.Size([8, 128]), p2: torch.Size([8, 128]), z1: torch.Size([8, 128]), z2: torch.Size([8, 128])\n",
      "Shapes - p1: torch.Size([8, 128]), p2: torch.Size([8, 128]), z1: torch.Size([8, 128]), z2: torch.Size([8, 128])\n",
      "Shapes - p1: torch.Size([8, 128]), p2: torch.Size([8, 128]), z1: torch.Size([8, 128]), z2: torch.Size([8, 128])\n",
      "Shapes - p1: torch.Size([8, 128]), p2: torch.Size([8, 128]), z1: torch.Size([8, 128]), z2: torch.Size([8, 128])\n",
      "Shapes - p1: torch.Size([8, 128]), p2: torch.Size([8, 128]), z1: torch.Size([8, 128]), z2: torch.Size([8, 128])\n",
      "Epoch [35/100], Batch [15/55], Loss: 0.0052\n",
      "Shapes - p1: torch.Size([8, 128]), p2: torch.Size([8, 128]), z1: torch.Size([8, 128]), z2: torch.Size([8, 128])\n",
      "Shapes - p1: torch.Size([8, 128]), p2: torch.Size([8, 128]), z1: torch.Size([8, 128]), z2: torch.Size([8, 128])\n",
      "Shapes - p1: torch.Size([8, 128]), p2: torch.Size([8, 128]), z1: torch.Size([8, 128]), z2: torch.Size([8, 128])\n",
      "Shapes - p1: torch.Size([8, 128]), p2: torch.Size([8, 128]), z1: torch.Size([8, 128]), z2: torch.Size([8, 128])\n",
      "Shapes - p1: torch.Size([8, 128]), p2: torch.Size([8, 128]), z1: torch.Size([8, 128]), z2: torch.Size([8, 128])\n",
      "Epoch [35/100], Batch [20/55], Loss: 0.0011\n",
      "Shapes - p1: torch.Size([8, 128]), p2: torch.Size([8, 128]), z1: torch.Size([8, 128]), z2: torch.Size([8, 128])\n",
      "Shapes - p1: torch.Size([8, 128]), p2: torch.Size([8, 128]), z1: torch.Size([8, 128]), z2: torch.Size([8, 128])\n",
      "Shapes - p1: torch.Size([8, 128]), p2: torch.Size([8, 128]), z1: torch.Size([8, 128]), z2: torch.Size([8, 128])\n",
      "Shapes - p1: torch.Size([8, 128]), p2: torch.Size([8, 128]), z1: torch.Size([8, 128]), z2: torch.Size([8, 128])\n",
      "Shapes - p1: torch.Size([8, 128]), p2: torch.Size([8, 128]), z1: torch.Size([8, 128]), z2: torch.Size([8, 128])\n",
      "Epoch [35/100], Batch [25/55], Loss: 0.0036\n",
      "Shapes - p1: torch.Size([8, 128]), p2: torch.Size([8, 128]), z1: torch.Size([8, 128]), z2: torch.Size([8, 128])\n",
      "Shapes - p1: torch.Size([8, 128]), p2: torch.Size([8, 128]), z1: torch.Size([8, 128]), z2: torch.Size([8, 128])\n",
      "Shapes - p1: torch.Size([8, 128]), p2: torch.Size([8, 128]), z1: torch.Size([8, 128]), z2: torch.Size([8, 128])\n",
      "Shapes - p1: torch.Size([8, 128]), p2: torch.Size([8, 128]), z1: torch.Size([8, 128]), z2: torch.Size([8, 128])\n",
      "Shapes - p1: torch.Size([8, 128]), p2: torch.Size([8, 128]), z1: torch.Size([8, 128]), z2: torch.Size([8, 128])\n",
      "Epoch [35/100], Batch [30/55], Loss: 0.0058\n",
      "Shapes - p1: torch.Size([8, 128]), p2: torch.Size([8, 128]), z1: torch.Size([8, 128]), z2: torch.Size([8, 128])\n",
      "Shapes - p1: torch.Size([8, 128]), p2: torch.Size([8, 128]), z1: torch.Size([8, 128]), z2: torch.Size([8, 128])\n",
      "Shapes - p1: torch.Size([8, 128]), p2: torch.Size([8, 128]), z1: torch.Size([8, 128]), z2: torch.Size([8, 128])\n",
      "Shapes - p1: torch.Size([8, 128]), p2: torch.Size([8, 128]), z1: torch.Size([8, 128]), z2: torch.Size([8, 128])\n",
      "Shapes - p1: torch.Size([8, 128]), p2: torch.Size([8, 128]), z1: torch.Size([8, 128]), z2: torch.Size([8, 128])\n",
      "Epoch [35/100], Batch [35/55], Loss: 0.0032\n",
      "Shapes - p1: torch.Size([8, 128]), p2: torch.Size([8, 128]), z1: torch.Size([8, 128]), z2: torch.Size([8, 128])\n",
      "Shapes - p1: torch.Size([8, 128]), p2: torch.Size([8, 128]), z1: torch.Size([8, 128]), z2: torch.Size([8, 128])\n",
      "Shapes - p1: torch.Size([8, 128]), p2: torch.Size([8, 128]), z1: torch.Size([8, 128]), z2: torch.Size([8, 128])\n",
      "Shapes - p1: torch.Size([8, 128]), p2: torch.Size([8, 128]), z1: torch.Size([8, 128]), z2: torch.Size([8, 128])\n",
      "Shapes - p1: torch.Size([8, 128]), p2: torch.Size([8, 128]), z1: torch.Size([8, 128]), z2: torch.Size([8, 128])\n",
      "Epoch [35/100], Batch [40/55], Loss: 0.0027\n",
      "Shapes - p1: torch.Size([8, 128]), p2: torch.Size([8, 128]), z1: torch.Size([8, 128]), z2: torch.Size([8, 128])\n",
      "Shapes - p1: torch.Size([8, 128]), p2: torch.Size([8, 128]), z1: torch.Size([8, 128]), z2: torch.Size([8, 128])\n",
      "Shapes - p1: torch.Size([8, 128]), p2: torch.Size([8, 128]), z1: torch.Size([8, 128]), z2: torch.Size([8, 128])\n",
      "Shapes - p1: torch.Size([8, 128]), p2: torch.Size([8, 128]), z1: torch.Size([8, 128]), z2: torch.Size([8, 128])\n",
      "Shapes - p1: torch.Size([8, 128]), p2: torch.Size([8, 128]), z1: torch.Size([8, 128]), z2: torch.Size([8, 128])\n",
      "Epoch [35/100], Batch [45/55], Loss: 0.0129\n",
      "Shapes - p1: torch.Size([8, 128]), p2: torch.Size([8, 128]), z1: torch.Size([8, 128]), z2: torch.Size([8, 128])\n",
      "Shapes - p1: torch.Size([8, 128]), p2: torch.Size([8, 128]), z1: torch.Size([8, 128]), z2: torch.Size([8, 128])\n",
      "Shapes - p1: torch.Size([8, 128]), p2: torch.Size([8, 128]), z1: torch.Size([8, 128]), z2: torch.Size([8, 128])\n",
      "Shapes - p1: torch.Size([8, 128]), p2: torch.Size([8, 128]), z1: torch.Size([8, 128]), z2: torch.Size([8, 128])\n",
      "Shapes - p1: torch.Size([8, 128]), p2: torch.Size([8, 128]), z1: torch.Size([8, 128]), z2: torch.Size([8, 128])\n",
      "Epoch [35/100], Batch [50/55], Loss: 0.0015\n",
      "Shapes - p1: torch.Size([8, 128]), p2: torch.Size([8, 128]), z1: torch.Size([8, 128]), z2: torch.Size([8, 128])\n",
      "Shapes - p1: torch.Size([8, 128]), p2: torch.Size([8, 128]), z1: torch.Size([8, 128]), z2: torch.Size([8, 128])\n",
      "Shapes - p1: torch.Size([8, 128]), p2: torch.Size([8, 128]), z1: torch.Size([8, 128]), z2: torch.Size([8, 128])\n",
      "Shapes - p1: torch.Size([8, 128]), p2: torch.Size([8, 128]), z1: torch.Size([8, 128]), z2: torch.Size([8, 128])\n",
      "Shapes - p1: torch.Size([6, 128]), p2: torch.Size([6, 128]), z1: torch.Size([6, 128]), z2: torch.Size([6, 128])\n",
      "Epoch [35/100], Batch [55/55], Loss: 0.0009\n",
      "✅ Completed Epoch [35/100] | Avg Loss: 0.0036\n",
      "⏳ No Improvement | Patience: 1/15\n",
      "Shapes - p1: torch.Size([8, 128]), p2: torch.Size([8, 128]), z1: torch.Size([8, 128]), z2: torch.Size([8, 128])\n",
      "Shapes - p1: torch.Size([8, 128]), p2: torch.Size([8, 128]), z1: torch.Size([8, 128]), z2: torch.Size([8, 128])\n",
      "Shapes - p1: torch.Size([8, 128]), p2: torch.Size([8, 128]), z1: torch.Size([8, 128]), z2: torch.Size([8, 128])\n",
      "Shapes - p1: torch.Size([8, 128]), p2: torch.Size([8, 128]), z1: torch.Size([8, 128]), z2: torch.Size([8, 128])\n",
      "Shapes - p1: torch.Size([8, 128]), p2: torch.Size([8, 128]), z1: torch.Size([8, 128]), z2: torch.Size([8, 128])\n",
      "Epoch [36/100], Batch [5/55], Loss: 0.0013\n",
      "Shapes - p1: torch.Size([8, 128]), p2: torch.Size([8, 128]), z1: torch.Size([8, 128]), z2: torch.Size([8, 128])\n",
      "Shapes - p1: torch.Size([8, 128]), p2: torch.Size([8, 128]), z1: torch.Size([8, 128]), z2: torch.Size([8, 128])\n",
      "Shapes - p1: torch.Size([8, 128]), p2: torch.Size([8, 128]), z1: torch.Size([8, 128]), z2: torch.Size([8, 128])\n",
      "Shapes - p1: torch.Size([8, 128]), p2: torch.Size([8, 128]), z1: torch.Size([8, 128]), z2: torch.Size([8, 128])\n",
      "Shapes - p1: torch.Size([8, 128]), p2: torch.Size([8, 128]), z1: torch.Size([8, 128]), z2: torch.Size([8, 128])\n",
      "Epoch [36/100], Batch [10/55], Loss: 0.0023\n",
      "Shapes - p1: torch.Size([8, 128]), p2: torch.Size([8, 128]), z1: torch.Size([8, 128]), z2: torch.Size([8, 128])\n",
      "Shapes - p1: torch.Size([8, 128]), p2: torch.Size([8, 128]), z1: torch.Size([8, 128]), z2: torch.Size([8, 128])\n",
      "Shapes - p1: torch.Size([8, 128]), p2: torch.Size([8, 128]), z1: torch.Size([8, 128]), z2: torch.Size([8, 128])\n",
      "Shapes - p1: torch.Size([8, 128]), p2: torch.Size([8, 128]), z1: torch.Size([8, 128]), z2: torch.Size([8, 128])\n",
      "Shapes - p1: torch.Size([8, 128]), p2: torch.Size([8, 128]), z1: torch.Size([8, 128]), z2: torch.Size([8, 128])\n",
      "Epoch [36/100], Batch [15/55], Loss: 0.0010\n",
      "Shapes - p1: torch.Size([8, 128]), p2: torch.Size([8, 128]), z1: torch.Size([8, 128]), z2: torch.Size([8, 128])\n",
      "Shapes - p1: torch.Size([8, 128]), p2: torch.Size([8, 128]), z1: torch.Size([8, 128]), z2: torch.Size([8, 128])\n",
      "Shapes - p1: torch.Size([8, 128]), p2: torch.Size([8, 128]), z1: torch.Size([8, 128]), z2: torch.Size([8, 128])\n",
      "Shapes - p1: torch.Size([8, 128]), p2: torch.Size([8, 128]), z1: torch.Size([8, 128]), z2: torch.Size([8, 128])\n",
      "Shapes - p1: torch.Size([8, 128]), p2: torch.Size([8, 128]), z1: torch.Size([8, 128]), z2: torch.Size([8, 128])\n",
      "Epoch [36/100], Batch [20/55], Loss: 0.0036\n",
      "Shapes - p1: torch.Size([8, 128]), p2: torch.Size([8, 128]), z1: torch.Size([8, 128]), z2: torch.Size([8, 128])\n",
      "Shapes - p1: torch.Size([8, 128]), p2: torch.Size([8, 128]), z1: torch.Size([8, 128]), z2: torch.Size([8, 128])\n",
      "Shapes - p1: torch.Size([8, 128]), p2: torch.Size([8, 128]), z1: torch.Size([8, 128]), z2: torch.Size([8, 128])\n",
      "Shapes - p1: torch.Size([8, 128]), p2: torch.Size([8, 128]), z1: torch.Size([8, 128]), z2: torch.Size([8, 128])\n",
      "Shapes - p1: torch.Size([8, 128]), p2: torch.Size([8, 128]), z1: torch.Size([8, 128]), z2: torch.Size([8, 128])\n",
      "Epoch [36/100], Batch [25/55], Loss: 0.0038\n",
      "Shapes - p1: torch.Size([8, 128]), p2: torch.Size([8, 128]), z1: torch.Size([8, 128]), z2: torch.Size([8, 128])\n",
      "Shapes - p1: torch.Size([8, 128]), p2: torch.Size([8, 128]), z1: torch.Size([8, 128]), z2: torch.Size([8, 128])\n",
      "Shapes - p1: torch.Size([8, 128]), p2: torch.Size([8, 128]), z1: torch.Size([8, 128]), z2: torch.Size([8, 128])\n",
      "Shapes - p1: torch.Size([8, 128]), p2: torch.Size([8, 128]), z1: torch.Size([8, 128]), z2: torch.Size([8, 128])\n",
      "Shapes - p1: torch.Size([8, 128]), p2: torch.Size([8, 128]), z1: torch.Size([8, 128]), z2: torch.Size([8, 128])\n",
      "Epoch [36/100], Batch [30/55], Loss: 0.0035\n",
      "Shapes - p1: torch.Size([8, 128]), p2: torch.Size([8, 128]), z1: torch.Size([8, 128]), z2: torch.Size([8, 128])\n",
      "Shapes - p1: torch.Size([8, 128]), p2: torch.Size([8, 128]), z1: torch.Size([8, 128]), z2: torch.Size([8, 128])\n",
      "Shapes - p1: torch.Size([8, 128]), p2: torch.Size([8, 128]), z1: torch.Size([8, 128]), z2: torch.Size([8, 128])\n",
      "Shapes - p1: torch.Size([8, 128]), p2: torch.Size([8, 128]), z1: torch.Size([8, 128]), z2: torch.Size([8, 128])\n",
      "Shapes - p1: torch.Size([8, 128]), p2: torch.Size([8, 128]), z1: torch.Size([8, 128]), z2: torch.Size([8, 128])\n",
      "Epoch [36/100], Batch [35/55], Loss: 0.0009\n",
      "Shapes - p1: torch.Size([8, 128]), p2: torch.Size([8, 128]), z1: torch.Size([8, 128]), z2: torch.Size([8, 128])\n",
      "Shapes - p1: torch.Size([8, 128]), p2: torch.Size([8, 128]), z1: torch.Size([8, 128]), z2: torch.Size([8, 128])\n",
      "Shapes - p1: torch.Size([8, 128]), p2: torch.Size([8, 128]), z1: torch.Size([8, 128]), z2: torch.Size([8, 128])\n",
      "Shapes - p1: torch.Size([8, 128]), p2: torch.Size([8, 128]), z1: torch.Size([8, 128]), z2: torch.Size([8, 128])\n",
      "Shapes - p1: torch.Size([8, 128]), p2: torch.Size([8, 128]), z1: torch.Size([8, 128]), z2: torch.Size([8, 128])\n",
      "Epoch [36/100], Batch [40/55], Loss: 0.0243\n",
      "Shapes - p1: torch.Size([8, 128]), p2: torch.Size([8, 128]), z1: torch.Size([8, 128]), z2: torch.Size([8, 128])\n",
      "Shapes - p1: torch.Size([8, 128]), p2: torch.Size([8, 128]), z1: torch.Size([8, 128]), z2: torch.Size([8, 128])\n",
      "Shapes - p1: torch.Size([8, 128]), p2: torch.Size([8, 128]), z1: torch.Size([8, 128]), z2: torch.Size([8, 128])\n",
      "Shapes - p1: torch.Size([8, 128]), p2: torch.Size([8, 128]), z1: torch.Size([8, 128]), z2: torch.Size([8, 128])\n",
      "Shapes - p1: torch.Size([8, 128]), p2: torch.Size([8, 128]), z1: torch.Size([8, 128]), z2: torch.Size([8, 128])\n",
      "Epoch [36/100], Batch [45/55], Loss: 0.0021\n",
      "Shapes - p1: torch.Size([8, 128]), p2: torch.Size([8, 128]), z1: torch.Size([8, 128]), z2: torch.Size([8, 128])\n",
      "Shapes - p1: torch.Size([8, 128]), p2: torch.Size([8, 128]), z1: torch.Size([8, 128]), z2: torch.Size([8, 128])\n",
      "Shapes - p1: torch.Size([8, 128]), p2: torch.Size([8, 128]), z1: torch.Size([8, 128]), z2: torch.Size([8, 128])\n",
      "Shapes - p1: torch.Size([8, 128]), p2: torch.Size([8, 128]), z1: torch.Size([8, 128]), z2: torch.Size([8, 128])\n",
      "Shapes - p1: torch.Size([8, 128]), p2: torch.Size([8, 128]), z1: torch.Size([8, 128]), z2: torch.Size([8, 128])\n",
      "Epoch [36/100], Batch [50/55], Loss: 0.0256\n",
      "Shapes - p1: torch.Size([8, 128]), p2: torch.Size([8, 128]), z1: torch.Size([8, 128]), z2: torch.Size([8, 128])\n",
      "Shapes - p1: torch.Size([8, 128]), p2: torch.Size([8, 128]), z1: torch.Size([8, 128]), z2: torch.Size([8, 128])\n",
      "Shapes - p1: torch.Size([8, 128]), p2: torch.Size([8, 128]), z1: torch.Size([8, 128]), z2: torch.Size([8, 128])\n",
      "Shapes - p1: torch.Size([8, 128]), p2: torch.Size([8, 128]), z1: torch.Size([8, 128]), z2: torch.Size([8, 128])\n",
      "Shapes - p1: torch.Size([6, 128]), p2: torch.Size([6, 128]), z1: torch.Size([6, 128]), z2: torch.Size([6, 128])\n",
      "Epoch [36/100], Batch [55/55], Loss: 0.0009\n",
      "✅ Completed Epoch [36/100] | Avg Loss: 0.0046\n",
      "⏳ No Improvement | Patience: 2/15\n",
      "Shapes - p1: torch.Size([8, 128]), p2: torch.Size([8, 128]), z1: torch.Size([8, 128]), z2: torch.Size([8, 128])\n",
      "Shapes - p1: torch.Size([8, 128]), p2: torch.Size([8, 128]), z1: torch.Size([8, 128]), z2: torch.Size([8, 128])\n",
      "Shapes - p1: torch.Size([8, 128]), p2: torch.Size([8, 128]), z1: torch.Size([8, 128]), z2: torch.Size([8, 128])\n",
      "Shapes - p1: torch.Size([8, 128]), p2: torch.Size([8, 128]), z1: torch.Size([8, 128]), z2: torch.Size([8, 128])\n",
      "Shapes - p1: torch.Size([8, 128]), p2: torch.Size([8, 128]), z1: torch.Size([8, 128]), z2: torch.Size([8, 128])\n",
      "Epoch [37/100], Batch [5/55], Loss: 0.0008\n",
      "Shapes - p1: torch.Size([8, 128]), p2: torch.Size([8, 128]), z1: torch.Size([8, 128]), z2: torch.Size([8, 128])\n",
      "Shapes - p1: torch.Size([8, 128]), p2: torch.Size([8, 128]), z1: torch.Size([8, 128]), z2: torch.Size([8, 128])\n",
      "Shapes - p1: torch.Size([8, 128]), p2: torch.Size([8, 128]), z1: torch.Size([8, 128]), z2: torch.Size([8, 128])\n",
      "Shapes - p1: torch.Size([8, 128]), p2: torch.Size([8, 128]), z1: torch.Size([8, 128]), z2: torch.Size([8, 128])\n",
      "Shapes - p1: torch.Size([8, 128]), p2: torch.Size([8, 128]), z1: torch.Size([8, 128]), z2: torch.Size([8, 128])\n",
      "Epoch [37/100], Batch [10/55], Loss: 0.0014\n",
      "Shapes - p1: torch.Size([8, 128]), p2: torch.Size([8, 128]), z1: torch.Size([8, 128]), z2: torch.Size([8, 128])\n",
      "Shapes - p1: torch.Size([8, 128]), p2: torch.Size([8, 128]), z1: torch.Size([8, 128]), z2: torch.Size([8, 128])\n",
      "Shapes - p1: torch.Size([8, 128]), p2: torch.Size([8, 128]), z1: torch.Size([8, 128]), z2: torch.Size([8, 128])\n",
      "Shapes - p1: torch.Size([8, 128]), p2: torch.Size([8, 128]), z1: torch.Size([8, 128]), z2: torch.Size([8, 128])\n",
      "Shapes - p1: torch.Size([8, 128]), p2: torch.Size([8, 128]), z1: torch.Size([8, 128]), z2: torch.Size([8, 128])\n",
      "Epoch [37/100], Batch [15/55], Loss: 0.0070\n",
      "Shapes - p1: torch.Size([8, 128]), p2: torch.Size([8, 128]), z1: torch.Size([8, 128]), z2: torch.Size([8, 128])\n",
      "Shapes - p1: torch.Size([8, 128]), p2: torch.Size([8, 128]), z1: torch.Size([8, 128]), z2: torch.Size([8, 128])\n",
      "Shapes - p1: torch.Size([8, 128]), p2: torch.Size([8, 128]), z1: torch.Size([8, 128]), z2: torch.Size([8, 128])\n",
      "Shapes - p1: torch.Size([8, 128]), p2: torch.Size([8, 128]), z1: torch.Size([8, 128]), z2: torch.Size([8, 128])\n",
      "Shapes - p1: torch.Size([8, 128]), p2: torch.Size([8, 128]), z1: torch.Size([8, 128]), z2: torch.Size([8, 128])\n",
      "Epoch [37/100], Batch [20/55], Loss: 0.0029\n",
      "Shapes - p1: torch.Size([8, 128]), p2: torch.Size([8, 128]), z1: torch.Size([8, 128]), z2: torch.Size([8, 128])\n",
      "Shapes - p1: torch.Size([8, 128]), p2: torch.Size([8, 128]), z1: torch.Size([8, 128]), z2: torch.Size([8, 128])\n",
      "Shapes - p1: torch.Size([8, 128]), p2: torch.Size([8, 128]), z1: torch.Size([8, 128]), z2: torch.Size([8, 128])\n",
      "Shapes - p1: torch.Size([8, 128]), p2: torch.Size([8, 128]), z1: torch.Size([8, 128]), z2: torch.Size([8, 128])\n",
      "Shapes - p1: torch.Size([8, 128]), p2: torch.Size([8, 128]), z1: torch.Size([8, 128]), z2: torch.Size([8, 128])\n",
      "Epoch [37/100], Batch [25/55], Loss: 0.0014\n",
      "Shapes - p1: torch.Size([8, 128]), p2: torch.Size([8, 128]), z1: torch.Size([8, 128]), z2: torch.Size([8, 128])\n",
      "Shapes - p1: torch.Size([8, 128]), p2: torch.Size([8, 128]), z1: torch.Size([8, 128]), z2: torch.Size([8, 128])\n",
      "Shapes - p1: torch.Size([8, 128]), p2: torch.Size([8, 128]), z1: torch.Size([8, 128]), z2: torch.Size([8, 128])\n",
      "Shapes - p1: torch.Size([8, 128]), p2: torch.Size([8, 128]), z1: torch.Size([8, 128]), z2: torch.Size([8, 128])\n",
      "Shapes - p1: torch.Size([8, 128]), p2: torch.Size([8, 128]), z1: torch.Size([8, 128]), z2: torch.Size([8, 128])\n",
      "Epoch [37/100], Batch [30/55], Loss: 0.0038\n",
      "Shapes - p1: torch.Size([8, 128]), p2: torch.Size([8, 128]), z1: torch.Size([8, 128]), z2: torch.Size([8, 128])\n",
      "Shapes - p1: torch.Size([8, 128]), p2: torch.Size([8, 128]), z1: torch.Size([8, 128]), z2: torch.Size([8, 128])\n",
      "Shapes - p1: torch.Size([8, 128]), p2: torch.Size([8, 128]), z1: torch.Size([8, 128]), z2: torch.Size([8, 128])\n",
      "Shapes - p1: torch.Size([8, 128]), p2: torch.Size([8, 128]), z1: torch.Size([8, 128]), z2: torch.Size([8, 128])\n",
      "Shapes - p1: torch.Size([8, 128]), p2: torch.Size([8, 128]), z1: torch.Size([8, 128]), z2: torch.Size([8, 128])\n",
      "Epoch [37/100], Batch [35/55], Loss: 0.0115\n",
      "Shapes - p1: torch.Size([8, 128]), p2: torch.Size([8, 128]), z1: torch.Size([8, 128]), z2: torch.Size([8, 128])\n",
      "Shapes - p1: torch.Size([8, 128]), p2: torch.Size([8, 128]), z1: torch.Size([8, 128]), z2: torch.Size([8, 128])\n",
      "Shapes - p1: torch.Size([8, 128]), p2: torch.Size([8, 128]), z1: torch.Size([8, 128]), z2: torch.Size([8, 128])\n",
      "Shapes - p1: torch.Size([8, 128]), p2: torch.Size([8, 128]), z1: torch.Size([8, 128]), z2: torch.Size([8, 128])\n",
      "Shapes - p1: torch.Size([8, 128]), p2: torch.Size([8, 128]), z1: torch.Size([8, 128]), z2: torch.Size([8, 128])\n",
      "Epoch [37/100], Batch [40/55], Loss: 0.0028\n",
      "Shapes - p1: torch.Size([8, 128]), p2: torch.Size([8, 128]), z1: torch.Size([8, 128]), z2: torch.Size([8, 128])\n",
      "Shapes - p1: torch.Size([8, 128]), p2: torch.Size([8, 128]), z1: torch.Size([8, 128]), z2: torch.Size([8, 128])\n",
      "Shapes - p1: torch.Size([8, 128]), p2: torch.Size([8, 128]), z1: torch.Size([8, 128]), z2: torch.Size([8, 128])\n",
      "Shapes - p1: torch.Size([8, 128]), p2: torch.Size([8, 128]), z1: torch.Size([8, 128]), z2: torch.Size([8, 128])\n",
      "Shapes - p1: torch.Size([8, 128]), p2: torch.Size([8, 128]), z1: torch.Size([8, 128]), z2: torch.Size([8, 128])\n",
      "Epoch [37/100], Batch [45/55], Loss: 0.0065\n",
      "Shapes - p1: torch.Size([8, 128]), p2: torch.Size([8, 128]), z1: torch.Size([8, 128]), z2: torch.Size([8, 128])\n",
      "Shapes - p1: torch.Size([8, 128]), p2: torch.Size([8, 128]), z1: torch.Size([8, 128]), z2: torch.Size([8, 128])\n",
      "Shapes - p1: torch.Size([8, 128]), p2: torch.Size([8, 128]), z1: torch.Size([8, 128]), z2: torch.Size([8, 128])\n",
      "Shapes - p1: torch.Size([8, 128]), p2: torch.Size([8, 128]), z1: torch.Size([8, 128]), z2: torch.Size([8, 128])\n",
      "Shapes - p1: torch.Size([8, 128]), p2: torch.Size([8, 128]), z1: torch.Size([8, 128]), z2: torch.Size([8, 128])\n",
      "Epoch [37/100], Batch [50/55], Loss: 0.0007\n",
      "Shapes - p1: torch.Size([8, 128]), p2: torch.Size([8, 128]), z1: torch.Size([8, 128]), z2: torch.Size([8, 128])\n",
      "Shapes - p1: torch.Size([8, 128]), p2: torch.Size([8, 128]), z1: torch.Size([8, 128]), z2: torch.Size([8, 128])\n",
      "Shapes - p1: torch.Size([8, 128]), p2: torch.Size([8, 128]), z1: torch.Size([8, 128]), z2: torch.Size([8, 128])\n",
      "Shapes - p1: torch.Size([8, 128]), p2: torch.Size([8, 128]), z1: torch.Size([8, 128]), z2: torch.Size([8, 128])\n",
      "Shapes - p1: torch.Size([6, 128]), p2: torch.Size([6, 128]), z1: torch.Size([6, 128]), z2: torch.Size([6, 128])\n",
      "Epoch [37/100], Batch [55/55], Loss: 0.0042\n",
      "✅ Completed Epoch [37/100] | Avg Loss: 0.0040\n",
      "⏳ No Improvement | Patience: 3/15\n",
      "Shapes - p1: torch.Size([8, 128]), p2: torch.Size([8, 128]), z1: torch.Size([8, 128]), z2: torch.Size([8, 128])\n",
      "Shapes - p1: torch.Size([8, 128]), p2: torch.Size([8, 128]), z1: torch.Size([8, 128]), z2: torch.Size([8, 128])\n",
      "Shapes - p1: torch.Size([8, 128]), p2: torch.Size([8, 128]), z1: torch.Size([8, 128]), z2: torch.Size([8, 128])\n",
      "Shapes - p1: torch.Size([8, 128]), p2: torch.Size([8, 128]), z1: torch.Size([8, 128]), z2: torch.Size([8, 128])\n",
      "Shapes - p1: torch.Size([8, 128]), p2: torch.Size([8, 128]), z1: torch.Size([8, 128]), z2: torch.Size([8, 128])\n",
      "Epoch [38/100], Batch [5/55], Loss: 0.0015\n",
      "Shapes - p1: torch.Size([8, 128]), p2: torch.Size([8, 128]), z1: torch.Size([8, 128]), z2: torch.Size([8, 128])\n",
      "Shapes - p1: torch.Size([8, 128]), p2: torch.Size([8, 128]), z1: torch.Size([8, 128]), z2: torch.Size([8, 128])\n",
      "Shapes - p1: torch.Size([8, 128]), p2: torch.Size([8, 128]), z1: torch.Size([8, 128]), z2: torch.Size([8, 128])\n",
      "Shapes - p1: torch.Size([8, 128]), p2: torch.Size([8, 128]), z1: torch.Size([8, 128]), z2: torch.Size([8, 128])\n",
      "Shapes - p1: torch.Size([8, 128]), p2: torch.Size([8, 128]), z1: torch.Size([8, 128]), z2: torch.Size([8, 128])\n",
      "Epoch [38/100], Batch [10/55], Loss: 0.0023\n",
      "Shapes - p1: torch.Size([8, 128]), p2: torch.Size([8, 128]), z1: torch.Size([8, 128]), z2: torch.Size([8, 128])\n",
      "Shapes - p1: torch.Size([8, 128]), p2: torch.Size([8, 128]), z1: torch.Size([8, 128]), z2: torch.Size([8, 128])\n",
      "Shapes - p1: torch.Size([8, 128]), p2: torch.Size([8, 128]), z1: torch.Size([8, 128]), z2: torch.Size([8, 128])\n",
      "Shapes - p1: torch.Size([8, 128]), p2: torch.Size([8, 128]), z1: torch.Size([8, 128]), z2: torch.Size([8, 128])\n",
      "Shapes - p1: torch.Size([8, 128]), p2: torch.Size([8, 128]), z1: torch.Size([8, 128]), z2: torch.Size([8, 128])\n",
      "Epoch [38/100], Batch [15/55], Loss: 0.0036\n",
      "Shapes - p1: torch.Size([8, 128]), p2: torch.Size([8, 128]), z1: torch.Size([8, 128]), z2: torch.Size([8, 128])\n",
      "Shapes - p1: torch.Size([8, 128]), p2: torch.Size([8, 128]), z1: torch.Size([8, 128]), z2: torch.Size([8, 128])\n",
      "Shapes - p1: torch.Size([8, 128]), p2: torch.Size([8, 128]), z1: torch.Size([8, 128]), z2: torch.Size([8, 128])\n",
      "Shapes - p1: torch.Size([8, 128]), p2: torch.Size([8, 128]), z1: torch.Size([8, 128]), z2: torch.Size([8, 128])\n",
      "Shapes - p1: torch.Size([8, 128]), p2: torch.Size([8, 128]), z1: torch.Size([8, 128]), z2: torch.Size([8, 128])\n",
      "Epoch [38/100], Batch [20/55], Loss: 0.0027\n",
      "Shapes - p1: torch.Size([8, 128]), p2: torch.Size([8, 128]), z1: torch.Size([8, 128]), z2: torch.Size([8, 128])\n",
      "Shapes - p1: torch.Size([8, 128]), p2: torch.Size([8, 128]), z1: torch.Size([8, 128]), z2: torch.Size([8, 128])\n",
      "Shapes - p1: torch.Size([8, 128]), p2: torch.Size([8, 128]), z1: torch.Size([8, 128]), z2: torch.Size([8, 128])\n",
      "Shapes - p1: torch.Size([8, 128]), p2: torch.Size([8, 128]), z1: torch.Size([8, 128]), z2: torch.Size([8, 128])\n",
      "Shapes - p1: torch.Size([8, 128]), p2: torch.Size([8, 128]), z1: torch.Size([8, 128]), z2: torch.Size([8, 128])\n",
      "Epoch [38/100], Batch [25/55], Loss: 0.0006\n",
      "Shapes - p1: torch.Size([8, 128]), p2: torch.Size([8, 128]), z1: torch.Size([8, 128]), z2: torch.Size([8, 128])\n",
      "Shapes - p1: torch.Size([8, 128]), p2: torch.Size([8, 128]), z1: torch.Size([8, 128]), z2: torch.Size([8, 128])\n",
      "Shapes - p1: torch.Size([8, 128]), p2: torch.Size([8, 128]), z1: torch.Size([8, 128]), z2: torch.Size([8, 128])\n",
      "Shapes - p1: torch.Size([8, 128]), p2: torch.Size([8, 128]), z1: torch.Size([8, 128]), z2: torch.Size([8, 128])\n",
      "Shapes - p1: torch.Size([8, 128]), p2: torch.Size([8, 128]), z1: torch.Size([8, 128]), z2: torch.Size([8, 128])\n",
      "Epoch [38/100], Batch [30/55], Loss: 0.0113\n",
      "Shapes - p1: torch.Size([8, 128]), p2: torch.Size([8, 128]), z1: torch.Size([8, 128]), z2: torch.Size([8, 128])\n",
      "Shapes - p1: torch.Size([8, 128]), p2: torch.Size([8, 128]), z1: torch.Size([8, 128]), z2: torch.Size([8, 128])\n",
      "Shapes - p1: torch.Size([8, 128]), p2: torch.Size([8, 128]), z1: torch.Size([8, 128]), z2: torch.Size([8, 128])\n",
      "Shapes - p1: torch.Size([8, 128]), p2: torch.Size([8, 128]), z1: torch.Size([8, 128]), z2: torch.Size([8, 128])\n",
      "Shapes - p1: torch.Size([8, 128]), p2: torch.Size([8, 128]), z1: torch.Size([8, 128]), z2: torch.Size([8, 128])\n",
      "Epoch [38/100], Batch [35/55], Loss: 0.0045\n",
      "Shapes - p1: torch.Size([8, 128]), p2: torch.Size([8, 128]), z1: torch.Size([8, 128]), z2: torch.Size([8, 128])\n",
      "Shapes - p1: torch.Size([8, 128]), p2: torch.Size([8, 128]), z1: torch.Size([8, 128]), z2: torch.Size([8, 128])\n",
      "Shapes - p1: torch.Size([8, 128]), p2: torch.Size([8, 128]), z1: torch.Size([8, 128]), z2: torch.Size([8, 128])\n",
      "Shapes - p1: torch.Size([8, 128]), p2: torch.Size([8, 128]), z1: torch.Size([8, 128]), z2: torch.Size([8, 128])\n",
      "Shapes - p1: torch.Size([8, 128]), p2: torch.Size([8, 128]), z1: torch.Size([8, 128]), z2: torch.Size([8, 128])\n",
      "Epoch [38/100], Batch [40/55], Loss: 0.0014\n",
      "Shapes - p1: torch.Size([8, 128]), p2: torch.Size([8, 128]), z1: torch.Size([8, 128]), z2: torch.Size([8, 128])\n",
      "Shapes - p1: torch.Size([8, 128]), p2: torch.Size([8, 128]), z1: torch.Size([8, 128]), z2: torch.Size([8, 128])\n",
      "Shapes - p1: torch.Size([8, 128]), p2: torch.Size([8, 128]), z1: torch.Size([8, 128]), z2: torch.Size([8, 128])\n",
      "Shapes - p1: torch.Size([8, 128]), p2: torch.Size([8, 128]), z1: torch.Size([8, 128]), z2: torch.Size([8, 128])\n",
      "Shapes - p1: torch.Size([8, 128]), p2: torch.Size([8, 128]), z1: torch.Size([8, 128]), z2: torch.Size([8, 128])\n",
      "Epoch [38/100], Batch [45/55], Loss: 0.0029\n",
      "Shapes - p1: torch.Size([8, 128]), p2: torch.Size([8, 128]), z1: torch.Size([8, 128]), z2: torch.Size([8, 128])\n",
      "Shapes - p1: torch.Size([8, 128]), p2: torch.Size([8, 128]), z1: torch.Size([8, 128]), z2: torch.Size([8, 128])\n",
      "Shapes - p1: torch.Size([8, 128]), p2: torch.Size([8, 128]), z1: torch.Size([8, 128]), z2: torch.Size([8, 128])\n",
      "Shapes - p1: torch.Size([8, 128]), p2: torch.Size([8, 128]), z1: torch.Size([8, 128]), z2: torch.Size([8, 128])\n",
      "Shapes - p1: torch.Size([8, 128]), p2: torch.Size([8, 128]), z1: torch.Size([8, 128]), z2: torch.Size([8, 128])\n",
      "Epoch [38/100], Batch [50/55], Loss: 0.0117\n",
      "Shapes - p1: torch.Size([8, 128]), p2: torch.Size([8, 128]), z1: torch.Size([8, 128]), z2: torch.Size([8, 128])\n",
      "Shapes - p1: torch.Size([8, 128]), p2: torch.Size([8, 128]), z1: torch.Size([8, 128]), z2: torch.Size([8, 128])\n",
      "Shapes - p1: torch.Size([8, 128]), p2: torch.Size([8, 128]), z1: torch.Size([8, 128]), z2: torch.Size([8, 128])\n",
      "Shapes - p1: torch.Size([8, 128]), p2: torch.Size([8, 128]), z1: torch.Size([8, 128]), z2: torch.Size([8, 128])\n",
      "Shapes - p1: torch.Size([6, 128]), p2: torch.Size([6, 128]), z1: torch.Size([6, 128]), z2: torch.Size([6, 128])\n",
      "Epoch [38/100], Batch [55/55], Loss: 0.0011\n",
      "✅ Completed Epoch [38/100] | Avg Loss: 0.0057\n",
      "⏳ No Improvement | Patience: 4/15\n",
      "Shapes - p1: torch.Size([8, 128]), p2: torch.Size([8, 128]), z1: torch.Size([8, 128]), z2: torch.Size([8, 128])\n",
      "Shapes - p1: torch.Size([8, 128]), p2: torch.Size([8, 128]), z1: torch.Size([8, 128]), z2: torch.Size([8, 128])\n",
      "Shapes - p1: torch.Size([8, 128]), p2: torch.Size([8, 128]), z1: torch.Size([8, 128]), z2: torch.Size([8, 128])\n",
      "Shapes - p1: torch.Size([8, 128]), p2: torch.Size([8, 128]), z1: torch.Size([8, 128]), z2: torch.Size([8, 128])\n",
      "Shapes - p1: torch.Size([8, 128]), p2: torch.Size([8, 128]), z1: torch.Size([8, 128]), z2: torch.Size([8, 128])\n",
      "Epoch [39/100], Batch [5/55], Loss: 0.0053\n",
      "Shapes - p1: torch.Size([8, 128]), p2: torch.Size([8, 128]), z1: torch.Size([8, 128]), z2: torch.Size([8, 128])\n",
      "Shapes - p1: torch.Size([8, 128]), p2: torch.Size([8, 128]), z1: torch.Size([8, 128]), z2: torch.Size([8, 128])\n",
      "Shapes - p1: torch.Size([8, 128]), p2: torch.Size([8, 128]), z1: torch.Size([8, 128]), z2: torch.Size([8, 128])\n",
      "Shapes - p1: torch.Size([8, 128]), p2: torch.Size([8, 128]), z1: torch.Size([8, 128]), z2: torch.Size([8, 128])\n",
      "Shapes - p1: torch.Size([8, 128]), p2: torch.Size([8, 128]), z1: torch.Size([8, 128]), z2: torch.Size([8, 128])\n",
      "Epoch [39/100], Batch [10/55], Loss: 0.0019\n",
      "Shapes - p1: torch.Size([8, 128]), p2: torch.Size([8, 128]), z1: torch.Size([8, 128]), z2: torch.Size([8, 128])\n",
      "Shapes - p1: torch.Size([8, 128]), p2: torch.Size([8, 128]), z1: torch.Size([8, 128]), z2: torch.Size([8, 128])\n",
      "Shapes - p1: torch.Size([8, 128]), p2: torch.Size([8, 128]), z1: torch.Size([8, 128]), z2: torch.Size([8, 128])\n",
      "Shapes - p1: torch.Size([8, 128]), p2: torch.Size([8, 128]), z1: torch.Size([8, 128]), z2: torch.Size([8, 128])\n",
      "Shapes - p1: torch.Size([8, 128]), p2: torch.Size([8, 128]), z1: torch.Size([8, 128]), z2: torch.Size([8, 128])\n",
      "Epoch [39/100], Batch [15/55], Loss: 0.0021\n",
      "Shapes - p1: torch.Size([8, 128]), p2: torch.Size([8, 128]), z1: torch.Size([8, 128]), z2: torch.Size([8, 128])\n",
      "Shapes - p1: torch.Size([8, 128]), p2: torch.Size([8, 128]), z1: torch.Size([8, 128]), z2: torch.Size([8, 128])\n",
      "Shapes - p1: torch.Size([8, 128]), p2: torch.Size([8, 128]), z1: torch.Size([8, 128]), z2: torch.Size([8, 128])\n",
      "Shapes - p1: torch.Size([8, 128]), p2: torch.Size([8, 128]), z1: torch.Size([8, 128]), z2: torch.Size([8, 128])\n",
      "Shapes - p1: torch.Size([8, 128]), p2: torch.Size([8, 128]), z1: torch.Size([8, 128]), z2: torch.Size([8, 128])\n",
      "Epoch [39/100], Batch [20/55], Loss: 0.0089\n",
      "Shapes - p1: torch.Size([8, 128]), p2: torch.Size([8, 128]), z1: torch.Size([8, 128]), z2: torch.Size([8, 128])\n",
      "Shapes - p1: torch.Size([8, 128]), p2: torch.Size([8, 128]), z1: torch.Size([8, 128]), z2: torch.Size([8, 128])\n",
      "Shapes - p1: torch.Size([8, 128]), p2: torch.Size([8, 128]), z1: torch.Size([8, 128]), z2: torch.Size([8, 128])\n",
      "Shapes - p1: torch.Size([8, 128]), p2: torch.Size([8, 128]), z1: torch.Size([8, 128]), z2: torch.Size([8, 128])\n",
      "Shapes - p1: torch.Size([8, 128]), p2: torch.Size([8, 128]), z1: torch.Size([8, 128]), z2: torch.Size([8, 128])\n",
      "Epoch [39/100], Batch [25/55], Loss: 0.0028\n",
      "Shapes - p1: torch.Size([8, 128]), p2: torch.Size([8, 128]), z1: torch.Size([8, 128]), z2: torch.Size([8, 128])\n",
      "Shapes - p1: torch.Size([8, 128]), p2: torch.Size([8, 128]), z1: torch.Size([8, 128]), z2: torch.Size([8, 128])\n",
      "Shapes - p1: torch.Size([8, 128]), p2: torch.Size([8, 128]), z1: torch.Size([8, 128]), z2: torch.Size([8, 128])\n",
      "Shapes - p1: torch.Size([8, 128]), p2: torch.Size([8, 128]), z1: torch.Size([8, 128]), z2: torch.Size([8, 128])\n",
      "Shapes - p1: torch.Size([8, 128]), p2: torch.Size([8, 128]), z1: torch.Size([8, 128]), z2: torch.Size([8, 128])\n",
      "Epoch [39/100], Batch [30/55], Loss: 0.0054\n",
      "Shapes - p1: torch.Size([8, 128]), p2: torch.Size([8, 128]), z1: torch.Size([8, 128]), z2: torch.Size([8, 128])\n",
      "Shapes - p1: torch.Size([8, 128]), p2: torch.Size([8, 128]), z1: torch.Size([8, 128]), z2: torch.Size([8, 128])\n",
      "Shapes - p1: torch.Size([8, 128]), p2: torch.Size([8, 128]), z1: torch.Size([8, 128]), z2: torch.Size([8, 128])\n",
      "Shapes - p1: torch.Size([8, 128]), p2: torch.Size([8, 128]), z1: torch.Size([8, 128]), z2: torch.Size([8, 128])\n",
      "Shapes - p1: torch.Size([8, 128]), p2: torch.Size([8, 128]), z1: torch.Size([8, 128]), z2: torch.Size([8, 128])\n",
      "Epoch [39/100], Batch [35/55], Loss: 0.0019\n",
      "Shapes - p1: torch.Size([8, 128]), p2: torch.Size([8, 128]), z1: torch.Size([8, 128]), z2: torch.Size([8, 128])\n",
      "Shapes - p1: torch.Size([8, 128]), p2: torch.Size([8, 128]), z1: torch.Size([8, 128]), z2: torch.Size([8, 128])\n",
      "Shapes - p1: torch.Size([8, 128]), p2: torch.Size([8, 128]), z1: torch.Size([8, 128]), z2: torch.Size([8, 128])\n",
      "Shapes - p1: torch.Size([8, 128]), p2: torch.Size([8, 128]), z1: torch.Size([8, 128]), z2: torch.Size([8, 128])\n",
      "Shapes - p1: torch.Size([8, 128]), p2: torch.Size([8, 128]), z1: torch.Size([8, 128]), z2: torch.Size([8, 128])\n",
      "Epoch [39/100], Batch [40/55], Loss: 0.0214\n",
      "Shapes - p1: torch.Size([8, 128]), p2: torch.Size([8, 128]), z1: torch.Size([8, 128]), z2: torch.Size([8, 128])\n",
      "Shapes - p1: torch.Size([8, 128]), p2: torch.Size([8, 128]), z1: torch.Size([8, 128]), z2: torch.Size([8, 128])\n",
      "Shapes - p1: torch.Size([8, 128]), p2: torch.Size([8, 128]), z1: torch.Size([8, 128]), z2: torch.Size([8, 128])\n",
      "Shapes - p1: torch.Size([8, 128]), p2: torch.Size([8, 128]), z1: torch.Size([8, 128]), z2: torch.Size([8, 128])\n",
      "Shapes - p1: torch.Size([8, 128]), p2: torch.Size([8, 128]), z1: torch.Size([8, 128]), z2: torch.Size([8, 128])\n",
      "Epoch [39/100], Batch [45/55], Loss: 0.0005\n",
      "Shapes - p1: torch.Size([8, 128]), p2: torch.Size([8, 128]), z1: torch.Size([8, 128]), z2: torch.Size([8, 128])\n",
      "Shapes - p1: torch.Size([8, 128]), p2: torch.Size([8, 128]), z1: torch.Size([8, 128]), z2: torch.Size([8, 128])\n",
      "Shapes - p1: torch.Size([8, 128]), p2: torch.Size([8, 128]), z1: torch.Size([8, 128]), z2: torch.Size([8, 128])\n",
      "Shapes - p1: torch.Size([8, 128]), p2: torch.Size([8, 128]), z1: torch.Size([8, 128]), z2: torch.Size([8, 128])\n",
      "Shapes - p1: torch.Size([8, 128]), p2: torch.Size([8, 128]), z1: torch.Size([8, 128]), z2: torch.Size([8, 128])\n",
      "Epoch [39/100], Batch [50/55], Loss: 0.0017\n",
      "Shapes - p1: torch.Size([8, 128]), p2: torch.Size([8, 128]), z1: torch.Size([8, 128]), z2: torch.Size([8, 128])\n",
      "Shapes - p1: torch.Size([8, 128]), p2: torch.Size([8, 128]), z1: torch.Size([8, 128]), z2: torch.Size([8, 128])\n",
      "Shapes - p1: torch.Size([8, 128]), p2: torch.Size([8, 128]), z1: torch.Size([8, 128]), z2: torch.Size([8, 128])\n",
      "Shapes - p1: torch.Size([8, 128]), p2: torch.Size([8, 128]), z1: torch.Size([8, 128]), z2: torch.Size([8, 128])\n",
      "Shapes - p1: torch.Size([6, 128]), p2: torch.Size([6, 128]), z1: torch.Size([6, 128]), z2: torch.Size([6, 128])\n",
      "Epoch [39/100], Batch [55/55], Loss: 0.0006\n",
      "✅ Completed Epoch [39/100] | Avg Loss: 0.0043\n",
      "⏳ No Improvement | Patience: 5/15\n",
      "Shapes - p1: torch.Size([8, 128]), p2: torch.Size([8, 128]), z1: torch.Size([8, 128]), z2: torch.Size([8, 128])\n",
      "Shapes - p1: torch.Size([8, 128]), p2: torch.Size([8, 128]), z1: torch.Size([8, 128]), z2: torch.Size([8, 128])\n",
      "Shapes - p1: torch.Size([8, 128]), p2: torch.Size([8, 128]), z1: torch.Size([8, 128]), z2: torch.Size([8, 128])\n",
      "Shapes - p1: torch.Size([8, 128]), p2: torch.Size([8, 128]), z1: torch.Size([8, 128]), z2: torch.Size([8, 128])\n",
      "Shapes - p1: torch.Size([8, 128]), p2: torch.Size([8, 128]), z1: torch.Size([8, 128]), z2: torch.Size([8, 128])\n",
      "Epoch [40/100], Batch [5/55], Loss: 0.0014\n",
      "Shapes - p1: torch.Size([8, 128]), p2: torch.Size([8, 128]), z1: torch.Size([8, 128]), z2: torch.Size([8, 128])\n",
      "Shapes - p1: torch.Size([8, 128]), p2: torch.Size([8, 128]), z1: torch.Size([8, 128]), z2: torch.Size([8, 128])\n",
      "Shapes - p1: torch.Size([8, 128]), p2: torch.Size([8, 128]), z1: torch.Size([8, 128]), z2: torch.Size([8, 128])\n",
      "Shapes - p1: torch.Size([8, 128]), p2: torch.Size([8, 128]), z1: torch.Size([8, 128]), z2: torch.Size([8, 128])\n",
      "Shapes - p1: torch.Size([8, 128]), p2: torch.Size([8, 128]), z1: torch.Size([8, 128]), z2: torch.Size([8, 128])\n",
      "Epoch [40/100], Batch [10/55], Loss: 0.0029\n",
      "Shapes - p1: torch.Size([8, 128]), p2: torch.Size([8, 128]), z1: torch.Size([8, 128]), z2: torch.Size([8, 128])\n",
      "Shapes - p1: torch.Size([8, 128]), p2: torch.Size([8, 128]), z1: torch.Size([8, 128]), z2: torch.Size([8, 128])\n",
      "Shapes - p1: torch.Size([8, 128]), p2: torch.Size([8, 128]), z1: torch.Size([8, 128]), z2: torch.Size([8, 128])\n",
      "Shapes - p1: torch.Size([8, 128]), p2: torch.Size([8, 128]), z1: torch.Size([8, 128]), z2: torch.Size([8, 128])\n",
      "Shapes - p1: torch.Size([8, 128]), p2: torch.Size([8, 128]), z1: torch.Size([8, 128]), z2: torch.Size([8, 128])\n",
      "Epoch [40/100], Batch [15/55], Loss: 0.0010\n",
      "Shapes - p1: torch.Size([8, 128]), p2: torch.Size([8, 128]), z1: torch.Size([8, 128]), z2: torch.Size([8, 128])\n",
      "Shapes - p1: torch.Size([8, 128]), p2: torch.Size([8, 128]), z1: torch.Size([8, 128]), z2: torch.Size([8, 128])\n",
      "Shapes - p1: torch.Size([8, 128]), p2: torch.Size([8, 128]), z1: torch.Size([8, 128]), z2: torch.Size([8, 128])\n",
      "Shapes - p1: torch.Size([8, 128]), p2: torch.Size([8, 128]), z1: torch.Size([8, 128]), z2: torch.Size([8, 128])\n",
      "Shapes - p1: torch.Size([8, 128]), p2: torch.Size([8, 128]), z1: torch.Size([8, 128]), z2: torch.Size([8, 128])\n",
      "Epoch [40/100], Batch [20/55], Loss: 0.0060\n",
      "Shapes - p1: torch.Size([8, 128]), p2: torch.Size([8, 128]), z1: torch.Size([8, 128]), z2: torch.Size([8, 128])\n",
      "Shapes - p1: torch.Size([8, 128]), p2: torch.Size([8, 128]), z1: torch.Size([8, 128]), z2: torch.Size([8, 128])\n",
      "Shapes - p1: torch.Size([8, 128]), p2: torch.Size([8, 128]), z1: torch.Size([8, 128]), z2: torch.Size([8, 128])\n",
      "Shapes - p1: torch.Size([8, 128]), p2: torch.Size([8, 128]), z1: torch.Size([8, 128]), z2: torch.Size([8, 128])\n",
      "Shapes - p1: torch.Size([8, 128]), p2: torch.Size([8, 128]), z1: torch.Size([8, 128]), z2: torch.Size([8, 128])\n",
      "Epoch [40/100], Batch [25/55], Loss: 0.0036\n",
      "Shapes - p1: torch.Size([8, 128]), p2: torch.Size([8, 128]), z1: torch.Size([8, 128]), z2: torch.Size([8, 128])\n",
      "Shapes - p1: torch.Size([8, 128]), p2: torch.Size([8, 128]), z1: torch.Size([8, 128]), z2: torch.Size([8, 128])\n",
      "Shapes - p1: torch.Size([8, 128]), p2: torch.Size([8, 128]), z1: torch.Size([8, 128]), z2: torch.Size([8, 128])\n",
      "Shapes - p1: torch.Size([8, 128]), p2: torch.Size([8, 128]), z1: torch.Size([8, 128]), z2: torch.Size([8, 128])\n",
      "Shapes - p1: torch.Size([8, 128]), p2: torch.Size([8, 128]), z1: torch.Size([8, 128]), z2: torch.Size([8, 128])\n",
      "Epoch [40/100], Batch [30/55], Loss: 0.0416\n",
      "Shapes - p1: torch.Size([8, 128]), p2: torch.Size([8, 128]), z1: torch.Size([8, 128]), z2: torch.Size([8, 128])\n",
      "Shapes - p1: torch.Size([8, 128]), p2: torch.Size([8, 128]), z1: torch.Size([8, 128]), z2: torch.Size([8, 128])\n",
      "Shapes - p1: torch.Size([8, 128]), p2: torch.Size([8, 128]), z1: torch.Size([8, 128]), z2: torch.Size([8, 128])\n",
      "Shapes - p1: torch.Size([8, 128]), p2: torch.Size([8, 128]), z1: torch.Size([8, 128]), z2: torch.Size([8, 128])\n",
      "Shapes - p1: torch.Size([8, 128]), p2: torch.Size([8, 128]), z1: torch.Size([8, 128]), z2: torch.Size([8, 128])\n",
      "Epoch [40/100], Batch [35/55], Loss: 0.0036\n",
      "Shapes - p1: torch.Size([8, 128]), p2: torch.Size([8, 128]), z1: torch.Size([8, 128]), z2: torch.Size([8, 128])\n",
      "Shapes - p1: torch.Size([8, 128]), p2: torch.Size([8, 128]), z1: torch.Size([8, 128]), z2: torch.Size([8, 128])\n",
      "Shapes - p1: torch.Size([8, 128]), p2: torch.Size([8, 128]), z1: torch.Size([8, 128]), z2: torch.Size([8, 128])\n",
      "Shapes - p1: torch.Size([8, 128]), p2: torch.Size([8, 128]), z1: torch.Size([8, 128]), z2: torch.Size([8, 128])\n",
      "Shapes - p1: torch.Size([8, 128]), p2: torch.Size([8, 128]), z1: torch.Size([8, 128]), z2: torch.Size([8, 128])\n",
      "Epoch [40/100], Batch [40/55], Loss: 0.0213\n",
      "Shapes - p1: torch.Size([8, 128]), p2: torch.Size([8, 128]), z1: torch.Size([8, 128]), z2: torch.Size([8, 128])\n",
      "Shapes - p1: torch.Size([8, 128]), p2: torch.Size([8, 128]), z1: torch.Size([8, 128]), z2: torch.Size([8, 128])\n",
      "Shapes - p1: torch.Size([8, 128]), p2: torch.Size([8, 128]), z1: torch.Size([8, 128]), z2: torch.Size([8, 128])\n",
      "Shapes - p1: torch.Size([8, 128]), p2: torch.Size([8, 128]), z1: torch.Size([8, 128]), z2: torch.Size([8, 128])\n",
      "Shapes - p1: torch.Size([8, 128]), p2: torch.Size([8, 128]), z1: torch.Size([8, 128]), z2: torch.Size([8, 128])\n",
      "Epoch [40/100], Batch [45/55], Loss: 0.0042\n",
      "Shapes - p1: torch.Size([8, 128]), p2: torch.Size([8, 128]), z1: torch.Size([8, 128]), z2: torch.Size([8, 128])\n",
      "Shapes - p1: torch.Size([8, 128]), p2: torch.Size([8, 128]), z1: torch.Size([8, 128]), z2: torch.Size([8, 128])\n",
      "Shapes - p1: torch.Size([8, 128]), p2: torch.Size([8, 128]), z1: torch.Size([8, 128]), z2: torch.Size([8, 128])\n",
      "Shapes - p1: torch.Size([8, 128]), p2: torch.Size([8, 128]), z1: torch.Size([8, 128]), z2: torch.Size([8, 128])\n",
      "Shapes - p1: torch.Size([8, 128]), p2: torch.Size([8, 128]), z1: torch.Size([8, 128]), z2: torch.Size([8, 128])\n",
      "Epoch [40/100], Batch [50/55], Loss: 0.0051\n",
      "Shapes - p1: torch.Size([8, 128]), p2: torch.Size([8, 128]), z1: torch.Size([8, 128]), z2: torch.Size([8, 128])\n",
      "Shapes - p1: torch.Size([8, 128]), p2: torch.Size([8, 128]), z1: torch.Size([8, 128]), z2: torch.Size([8, 128])\n",
      "Shapes - p1: torch.Size([8, 128]), p2: torch.Size([8, 128]), z1: torch.Size([8, 128]), z2: torch.Size([8, 128])\n",
      "Shapes - p1: torch.Size([8, 128]), p2: torch.Size([8, 128]), z1: torch.Size([8, 128]), z2: torch.Size([8, 128])\n",
      "Shapes - p1: torch.Size([6, 128]), p2: torch.Size([6, 128]), z1: torch.Size([6, 128]), z2: torch.Size([6, 128])\n",
      "Epoch [40/100], Batch [55/55], Loss: 0.0094\n",
      "✅ Completed Epoch [40/100] | Avg Loss: 0.0055\n",
      "⏳ No Improvement | Patience: 6/15\n",
      "Shapes - p1: torch.Size([8, 128]), p2: torch.Size([8, 128]), z1: torch.Size([8, 128]), z2: torch.Size([8, 128])\n",
      "Shapes - p1: torch.Size([8, 128]), p2: torch.Size([8, 128]), z1: torch.Size([8, 128]), z2: torch.Size([8, 128])\n",
      "Shapes - p1: torch.Size([8, 128]), p2: torch.Size([8, 128]), z1: torch.Size([8, 128]), z2: torch.Size([8, 128])\n",
      "Shapes - p1: torch.Size([8, 128]), p2: torch.Size([8, 128]), z1: torch.Size([8, 128]), z2: torch.Size([8, 128])\n",
      "Shapes - p1: torch.Size([8, 128]), p2: torch.Size([8, 128]), z1: torch.Size([8, 128]), z2: torch.Size([8, 128])\n",
      "Epoch [41/100], Batch [5/55], Loss: 0.0019\n",
      "Shapes - p1: torch.Size([8, 128]), p2: torch.Size([8, 128]), z1: torch.Size([8, 128]), z2: torch.Size([8, 128])\n",
      "Shapes - p1: torch.Size([8, 128]), p2: torch.Size([8, 128]), z1: torch.Size([8, 128]), z2: torch.Size([8, 128])\n",
      "Shapes - p1: torch.Size([8, 128]), p2: torch.Size([8, 128]), z1: torch.Size([8, 128]), z2: torch.Size([8, 128])\n",
      "Shapes - p1: torch.Size([8, 128]), p2: torch.Size([8, 128]), z1: torch.Size([8, 128]), z2: torch.Size([8, 128])\n",
      "Shapes - p1: torch.Size([8, 128]), p2: torch.Size([8, 128]), z1: torch.Size([8, 128]), z2: torch.Size([8, 128])\n",
      "Epoch [41/100], Batch [10/55], Loss: 0.0088\n",
      "Shapes - p1: torch.Size([8, 128]), p2: torch.Size([8, 128]), z1: torch.Size([8, 128]), z2: torch.Size([8, 128])\n",
      "Shapes - p1: torch.Size([8, 128]), p2: torch.Size([8, 128]), z1: torch.Size([8, 128]), z2: torch.Size([8, 128])\n",
      "Shapes - p1: torch.Size([8, 128]), p2: torch.Size([8, 128]), z1: torch.Size([8, 128]), z2: torch.Size([8, 128])\n",
      "Shapes - p1: torch.Size([8, 128]), p2: torch.Size([8, 128]), z1: torch.Size([8, 128]), z2: torch.Size([8, 128])\n",
      "Shapes - p1: torch.Size([8, 128]), p2: torch.Size([8, 128]), z1: torch.Size([8, 128]), z2: torch.Size([8, 128])\n",
      "Epoch [41/100], Batch [15/55], Loss: 0.0008\n",
      "Shapes - p1: torch.Size([8, 128]), p2: torch.Size([8, 128]), z1: torch.Size([8, 128]), z2: torch.Size([8, 128])\n",
      "Shapes - p1: torch.Size([8, 128]), p2: torch.Size([8, 128]), z1: torch.Size([8, 128]), z2: torch.Size([8, 128])\n",
      "Shapes - p1: torch.Size([8, 128]), p2: torch.Size([8, 128]), z1: torch.Size([8, 128]), z2: torch.Size([8, 128])\n",
      "Shapes - p1: torch.Size([8, 128]), p2: torch.Size([8, 128]), z1: torch.Size([8, 128]), z2: torch.Size([8, 128])\n",
      "Shapes - p1: torch.Size([8, 128]), p2: torch.Size([8, 128]), z1: torch.Size([8, 128]), z2: torch.Size([8, 128])\n",
      "Epoch [41/100], Batch [20/55], Loss: 0.0017\n",
      "Shapes - p1: torch.Size([8, 128]), p2: torch.Size([8, 128]), z1: torch.Size([8, 128]), z2: torch.Size([8, 128])\n",
      "Shapes - p1: torch.Size([8, 128]), p2: torch.Size([8, 128]), z1: torch.Size([8, 128]), z2: torch.Size([8, 128])\n",
      "Shapes - p1: torch.Size([8, 128]), p2: torch.Size([8, 128]), z1: torch.Size([8, 128]), z2: torch.Size([8, 128])\n",
      "Shapes - p1: torch.Size([8, 128]), p2: torch.Size([8, 128]), z1: torch.Size([8, 128]), z2: torch.Size([8, 128])\n",
      "Shapes - p1: torch.Size([8, 128]), p2: torch.Size([8, 128]), z1: torch.Size([8, 128]), z2: torch.Size([8, 128])\n",
      "Epoch [41/100], Batch [25/55], Loss: 0.0010\n",
      "Shapes - p1: torch.Size([8, 128]), p2: torch.Size([8, 128]), z1: torch.Size([8, 128]), z2: torch.Size([8, 128])\n",
      "Shapes - p1: torch.Size([8, 128]), p2: torch.Size([8, 128]), z1: torch.Size([8, 128]), z2: torch.Size([8, 128])\n",
      "Shapes - p1: torch.Size([8, 128]), p2: torch.Size([8, 128]), z1: torch.Size([8, 128]), z2: torch.Size([8, 128])\n",
      "Shapes - p1: torch.Size([8, 128]), p2: torch.Size([8, 128]), z1: torch.Size([8, 128]), z2: torch.Size([8, 128])\n",
      "Shapes - p1: torch.Size([8, 128]), p2: torch.Size([8, 128]), z1: torch.Size([8, 128]), z2: torch.Size([8, 128])\n",
      "Epoch [41/100], Batch [30/55], Loss: 0.0084\n",
      "Shapes - p1: torch.Size([8, 128]), p2: torch.Size([8, 128]), z1: torch.Size([8, 128]), z2: torch.Size([8, 128])\n",
      "Shapes - p1: torch.Size([8, 128]), p2: torch.Size([8, 128]), z1: torch.Size([8, 128]), z2: torch.Size([8, 128])\n",
      "Shapes - p1: torch.Size([8, 128]), p2: torch.Size([8, 128]), z1: torch.Size([8, 128]), z2: torch.Size([8, 128])\n",
      "Shapes - p1: torch.Size([8, 128]), p2: torch.Size([8, 128]), z1: torch.Size([8, 128]), z2: torch.Size([8, 128])\n",
      "Shapes - p1: torch.Size([8, 128]), p2: torch.Size([8, 128]), z1: torch.Size([8, 128]), z2: torch.Size([8, 128])\n",
      "Epoch [41/100], Batch [35/55], Loss: 0.0010\n",
      "Shapes - p1: torch.Size([8, 128]), p2: torch.Size([8, 128]), z1: torch.Size([8, 128]), z2: torch.Size([8, 128])\n",
      "Shapes - p1: torch.Size([8, 128]), p2: torch.Size([8, 128]), z1: torch.Size([8, 128]), z2: torch.Size([8, 128])\n",
      "Shapes - p1: torch.Size([8, 128]), p2: torch.Size([8, 128]), z1: torch.Size([8, 128]), z2: torch.Size([8, 128])\n",
      "Shapes - p1: torch.Size([8, 128]), p2: torch.Size([8, 128]), z1: torch.Size([8, 128]), z2: torch.Size([8, 128])\n",
      "Shapes - p1: torch.Size([8, 128]), p2: torch.Size([8, 128]), z1: torch.Size([8, 128]), z2: torch.Size([8, 128])\n",
      "Epoch [41/100], Batch [40/55], Loss: 0.0007\n",
      "Shapes - p1: torch.Size([8, 128]), p2: torch.Size([8, 128]), z1: torch.Size([8, 128]), z2: torch.Size([8, 128])\n",
      "Shapes - p1: torch.Size([8, 128]), p2: torch.Size([8, 128]), z1: torch.Size([8, 128]), z2: torch.Size([8, 128])\n",
      "Shapes - p1: torch.Size([8, 128]), p2: torch.Size([8, 128]), z1: torch.Size([8, 128]), z2: torch.Size([8, 128])\n",
      "Shapes - p1: torch.Size([8, 128]), p2: torch.Size([8, 128]), z1: torch.Size([8, 128]), z2: torch.Size([8, 128])\n",
      "Shapes - p1: torch.Size([8, 128]), p2: torch.Size([8, 128]), z1: torch.Size([8, 128]), z2: torch.Size([8, 128])\n",
      "Epoch [41/100], Batch [45/55], Loss: 0.0013\n",
      "Shapes - p1: torch.Size([8, 128]), p2: torch.Size([8, 128]), z1: torch.Size([8, 128]), z2: torch.Size([8, 128])\n",
      "Shapes - p1: torch.Size([8, 128]), p2: torch.Size([8, 128]), z1: torch.Size([8, 128]), z2: torch.Size([8, 128])\n",
      "Shapes - p1: torch.Size([8, 128]), p2: torch.Size([8, 128]), z1: torch.Size([8, 128]), z2: torch.Size([8, 128])\n",
      "Shapes - p1: torch.Size([8, 128]), p2: torch.Size([8, 128]), z1: torch.Size([8, 128]), z2: torch.Size([8, 128])\n",
      "Shapes - p1: torch.Size([8, 128]), p2: torch.Size([8, 128]), z1: torch.Size([8, 128]), z2: torch.Size([8, 128])\n",
      "Epoch [41/100], Batch [50/55], Loss: 0.0012\n",
      "Shapes - p1: torch.Size([8, 128]), p2: torch.Size([8, 128]), z1: torch.Size([8, 128]), z2: torch.Size([8, 128])\n",
      "Shapes - p1: torch.Size([8, 128]), p2: torch.Size([8, 128]), z1: torch.Size([8, 128]), z2: torch.Size([8, 128])\n",
      "Shapes - p1: torch.Size([8, 128]), p2: torch.Size([8, 128]), z1: torch.Size([8, 128]), z2: torch.Size([8, 128])\n",
      "Shapes - p1: torch.Size([8, 128]), p2: torch.Size([8, 128]), z1: torch.Size([8, 128]), z2: torch.Size([8, 128])\n",
      "Shapes - p1: torch.Size([6, 128]), p2: torch.Size([6, 128]), z1: torch.Size([6, 128]), z2: torch.Size([6, 128])\n",
      "Epoch [41/100], Batch [55/55], Loss: 0.0022\n",
      "✅ Completed Epoch [41/100] | Avg Loss: 0.0043\n",
      "⏳ No Improvement | Patience: 7/15\n",
      "Shapes - p1: torch.Size([8, 128]), p2: torch.Size([8, 128]), z1: torch.Size([8, 128]), z2: torch.Size([8, 128])\n",
      "Shapes - p1: torch.Size([8, 128]), p2: torch.Size([8, 128]), z1: torch.Size([8, 128]), z2: torch.Size([8, 128])\n",
      "Shapes - p1: torch.Size([8, 128]), p2: torch.Size([8, 128]), z1: torch.Size([8, 128]), z2: torch.Size([8, 128])\n",
      "Shapes - p1: torch.Size([8, 128]), p2: torch.Size([8, 128]), z1: torch.Size([8, 128]), z2: torch.Size([8, 128])\n",
      "Shapes - p1: torch.Size([8, 128]), p2: torch.Size([8, 128]), z1: torch.Size([8, 128]), z2: torch.Size([8, 128])\n",
      "Epoch [42/100], Batch [5/55], Loss: 0.0141\n",
      "Shapes - p1: torch.Size([8, 128]), p2: torch.Size([8, 128]), z1: torch.Size([8, 128]), z2: torch.Size([8, 128])\n",
      "Shapes - p1: torch.Size([8, 128]), p2: torch.Size([8, 128]), z1: torch.Size([8, 128]), z2: torch.Size([8, 128])\n",
      "Shapes - p1: torch.Size([8, 128]), p2: torch.Size([8, 128]), z1: torch.Size([8, 128]), z2: torch.Size([8, 128])\n",
      "Shapes - p1: torch.Size([8, 128]), p2: torch.Size([8, 128]), z1: torch.Size([8, 128]), z2: torch.Size([8, 128])\n",
      "Shapes - p1: torch.Size([8, 128]), p2: torch.Size([8, 128]), z1: torch.Size([8, 128]), z2: torch.Size([8, 128])\n",
      "Epoch [42/100], Batch [10/55], Loss: 0.0022\n",
      "Shapes - p1: torch.Size([8, 128]), p2: torch.Size([8, 128]), z1: torch.Size([8, 128]), z2: torch.Size([8, 128])\n",
      "Shapes - p1: torch.Size([8, 128]), p2: torch.Size([8, 128]), z1: torch.Size([8, 128]), z2: torch.Size([8, 128])\n",
      "Shapes - p1: torch.Size([8, 128]), p2: torch.Size([8, 128]), z1: torch.Size([8, 128]), z2: torch.Size([8, 128])\n",
      "Shapes - p1: torch.Size([8, 128]), p2: torch.Size([8, 128]), z1: torch.Size([8, 128]), z2: torch.Size([8, 128])\n",
      "Shapes - p1: torch.Size([8, 128]), p2: torch.Size([8, 128]), z1: torch.Size([8, 128]), z2: torch.Size([8, 128])\n",
      "Epoch [42/100], Batch [15/55], Loss: 0.0006\n",
      "Shapes - p1: torch.Size([8, 128]), p2: torch.Size([8, 128]), z1: torch.Size([8, 128]), z2: torch.Size([8, 128])\n",
      "Shapes - p1: torch.Size([8, 128]), p2: torch.Size([8, 128]), z1: torch.Size([8, 128]), z2: torch.Size([8, 128])\n",
      "Shapes - p1: torch.Size([8, 128]), p2: torch.Size([8, 128]), z1: torch.Size([8, 128]), z2: torch.Size([8, 128])\n",
      "Shapes - p1: torch.Size([8, 128]), p2: torch.Size([8, 128]), z1: torch.Size([8, 128]), z2: torch.Size([8, 128])\n",
      "Shapes - p1: torch.Size([8, 128]), p2: torch.Size([8, 128]), z1: torch.Size([8, 128]), z2: torch.Size([8, 128])\n",
      "Epoch [42/100], Batch [20/55], Loss: 0.0087\n",
      "Shapes - p1: torch.Size([8, 128]), p2: torch.Size([8, 128]), z1: torch.Size([8, 128]), z2: torch.Size([8, 128])\n",
      "Shapes - p1: torch.Size([8, 128]), p2: torch.Size([8, 128]), z1: torch.Size([8, 128]), z2: torch.Size([8, 128])\n",
      "Shapes - p1: torch.Size([8, 128]), p2: torch.Size([8, 128]), z1: torch.Size([8, 128]), z2: torch.Size([8, 128])\n",
      "Shapes - p1: torch.Size([8, 128]), p2: torch.Size([8, 128]), z1: torch.Size([8, 128]), z2: torch.Size([8, 128])\n",
      "Shapes - p1: torch.Size([8, 128]), p2: torch.Size([8, 128]), z1: torch.Size([8, 128]), z2: torch.Size([8, 128])\n",
      "Epoch [42/100], Batch [25/55], Loss: 0.0007\n",
      "Shapes - p1: torch.Size([8, 128]), p2: torch.Size([8, 128]), z1: torch.Size([8, 128]), z2: torch.Size([8, 128])\n",
      "Shapes - p1: torch.Size([8, 128]), p2: torch.Size([8, 128]), z1: torch.Size([8, 128]), z2: torch.Size([8, 128])\n",
      "Shapes - p1: torch.Size([8, 128]), p2: torch.Size([8, 128]), z1: torch.Size([8, 128]), z2: torch.Size([8, 128])\n",
      "Shapes - p1: torch.Size([8, 128]), p2: torch.Size([8, 128]), z1: torch.Size([8, 128]), z2: torch.Size([8, 128])\n",
      "Shapes - p1: torch.Size([8, 128]), p2: torch.Size([8, 128]), z1: torch.Size([8, 128]), z2: torch.Size([8, 128])\n",
      "Epoch [42/100], Batch [30/55], Loss: 0.0040\n",
      "Shapes - p1: torch.Size([8, 128]), p2: torch.Size([8, 128]), z1: torch.Size([8, 128]), z2: torch.Size([8, 128])\n",
      "Shapes - p1: torch.Size([8, 128]), p2: torch.Size([8, 128]), z1: torch.Size([8, 128]), z2: torch.Size([8, 128])\n",
      "Shapes - p1: torch.Size([8, 128]), p2: torch.Size([8, 128]), z1: torch.Size([8, 128]), z2: torch.Size([8, 128])\n",
      "Shapes - p1: torch.Size([8, 128]), p2: torch.Size([8, 128]), z1: torch.Size([8, 128]), z2: torch.Size([8, 128])\n",
      "Shapes - p1: torch.Size([8, 128]), p2: torch.Size([8, 128]), z1: torch.Size([8, 128]), z2: torch.Size([8, 128])\n",
      "Epoch [42/100], Batch [35/55], Loss: 0.0010\n",
      "Shapes - p1: torch.Size([8, 128]), p2: torch.Size([8, 128]), z1: torch.Size([8, 128]), z2: torch.Size([8, 128])\n",
      "Shapes - p1: torch.Size([8, 128]), p2: torch.Size([8, 128]), z1: torch.Size([8, 128]), z2: torch.Size([8, 128])\n",
      "Shapes - p1: torch.Size([8, 128]), p2: torch.Size([8, 128]), z1: torch.Size([8, 128]), z2: torch.Size([8, 128])\n",
      "Shapes - p1: torch.Size([8, 128]), p2: torch.Size([8, 128]), z1: torch.Size([8, 128]), z2: torch.Size([8, 128])\n",
      "Shapes - p1: torch.Size([8, 128]), p2: torch.Size([8, 128]), z1: torch.Size([8, 128]), z2: torch.Size([8, 128])\n",
      "Epoch [42/100], Batch [40/55], Loss: 0.0011\n",
      "Shapes - p1: torch.Size([8, 128]), p2: torch.Size([8, 128]), z1: torch.Size([8, 128]), z2: torch.Size([8, 128])\n",
      "Shapes - p1: torch.Size([8, 128]), p2: torch.Size([8, 128]), z1: torch.Size([8, 128]), z2: torch.Size([8, 128])\n",
      "Shapes - p1: torch.Size([8, 128]), p2: torch.Size([8, 128]), z1: torch.Size([8, 128]), z2: torch.Size([8, 128])\n",
      "Shapes - p1: torch.Size([8, 128]), p2: torch.Size([8, 128]), z1: torch.Size([8, 128]), z2: torch.Size([8, 128])\n",
      "Shapes - p1: torch.Size([8, 128]), p2: torch.Size([8, 128]), z1: torch.Size([8, 128]), z2: torch.Size([8, 128])\n",
      "Epoch [42/100], Batch [45/55], Loss: 0.0029\n",
      "Shapes - p1: torch.Size([8, 128]), p2: torch.Size([8, 128]), z1: torch.Size([8, 128]), z2: torch.Size([8, 128])\n",
      "Shapes - p1: torch.Size([8, 128]), p2: torch.Size([8, 128]), z1: torch.Size([8, 128]), z2: torch.Size([8, 128])\n",
      "Shapes - p1: torch.Size([8, 128]), p2: torch.Size([8, 128]), z1: torch.Size([8, 128]), z2: torch.Size([8, 128])\n",
      "Shapes - p1: torch.Size([8, 128]), p2: torch.Size([8, 128]), z1: torch.Size([8, 128]), z2: torch.Size([8, 128])\n",
      "Shapes - p1: torch.Size([8, 128]), p2: torch.Size([8, 128]), z1: torch.Size([8, 128]), z2: torch.Size([8, 128])\n",
      "Epoch [42/100], Batch [50/55], Loss: 0.0023\n",
      "Shapes - p1: torch.Size([8, 128]), p2: torch.Size([8, 128]), z1: torch.Size([8, 128]), z2: torch.Size([8, 128])\n",
      "Shapes - p1: torch.Size([8, 128]), p2: torch.Size([8, 128]), z1: torch.Size([8, 128]), z2: torch.Size([8, 128])\n",
      "Shapes - p1: torch.Size([8, 128]), p2: torch.Size([8, 128]), z1: torch.Size([8, 128]), z2: torch.Size([8, 128])\n",
      "Shapes - p1: torch.Size([8, 128]), p2: torch.Size([8, 128]), z1: torch.Size([8, 128]), z2: torch.Size([8, 128])\n",
      "Shapes - p1: torch.Size([6, 128]), p2: torch.Size([6, 128]), z1: torch.Size([6, 128]), z2: torch.Size([6, 128])\n",
      "Epoch [42/100], Batch [55/55], Loss: 0.0053\n",
      "✅ Completed Epoch [42/100] | Avg Loss: 0.0032\n",
      "⏳ No Improvement | Patience: 8/15\n",
      "Shapes - p1: torch.Size([8, 128]), p2: torch.Size([8, 128]), z1: torch.Size([8, 128]), z2: torch.Size([8, 128])\n",
      "Shapes - p1: torch.Size([8, 128]), p2: torch.Size([8, 128]), z1: torch.Size([8, 128]), z2: torch.Size([8, 128])\n",
      "Shapes - p1: torch.Size([8, 128]), p2: torch.Size([8, 128]), z1: torch.Size([8, 128]), z2: torch.Size([8, 128])\n",
      "Shapes - p1: torch.Size([8, 128]), p2: torch.Size([8, 128]), z1: torch.Size([8, 128]), z2: torch.Size([8, 128])\n",
      "Shapes - p1: torch.Size([8, 128]), p2: torch.Size([8, 128]), z1: torch.Size([8, 128]), z2: torch.Size([8, 128])\n",
      "Epoch [43/100], Batch [5/55], Loss: 0.0009\n",
      "Shapes - p1: torch.Size([8, 128]), p2: torch.Size([8, 128]), z1: torch.Size([8, 128]), z2: torch.Size([8, 128])\n",
      "Shapes - p1: torch.Size([8, 128]), p2: torch.Size([8, 128]), z1: torch.Size([8, 128]), z2: torch.Size([8, 128])\n",
      "Shapes - p1: torch.Size([8, 128]), p2: torch.Size([8, 128]), z1: torch.Size([8, 128]), z2: torch.Size([8, 128])\n",
      "Shapes - p1: torch.Size([8, 128]), p2: torch.Size([8, 128]), z1: torch.Size([8, 128]), z2: torch.Size([8, 128])\n",
      "Shapes - p1: torch.Size([8, 128]), p2: torch.Size([8, 128]), z1: torch.Size([8, 128]), z2: torch.Size([8, 128])\n",
      "Epoch [43/100], Batch [10/55], Loss: 0.0013\n",
      "Shapes - p1: torch.Size([8, 128]), p2: torch.Size([8, 128]), z1: torch.Size([8, 128]), z2: torch.Size([8, 128])\n",
      "Shapes - p1: torch.Size([8, 128]), p2: torch.Size([8, 128]), z1: torch.Size([8, 128]), z2: torch.Size([8, 128])\n",
      "Shapes - p1: torch.Size([8, 128]), p2: torch.Size([8, 128]), z1: torch.Size([8, 128]), z2: torch.Size([8, 128])\n",
      "Shapes - p1: torch.Size([8, 128]), p2: torch.Size([8, 128]), z1: torch.Size([8, 128]), z2: torch.Size([8, 128])\n",
      "Shapes - p1: torch.Size([8, 128]), p2: torch.Size([8, 128]), z1: torch.Size([8, 128]), z2: torch.Size([8, 128])\n",
      "Epoch [43/100], Batch [15/55], Loss: 0.0035\n",
      "Shapes - p1: torch.Size([8, 128]), p2: torch.Size([8, 128]), z1: torch.Size([8, 128]), z2: torch.Size([8, 128])\n",
      "Shapes - p1: torch.Size([8, 128]), p2: torch.Size([8, 128]), z1: torch.Size([8, 128]), z2: torch.Size([8, 128])\n",
      "Shapes - p1: torch.Size([8, 128]), p2: torch.Size([8, 128]), z1: torch.Size([8, 128]), z2: torch.Size([8, 128])\n",
      "Shapes - p1: torch.Size([8, 128]), p2: torch.Size([8, 128]), z1: torch.Size([8, 128]), z2: torch.Size([8, 128])\n",
      "Shapes - p1: torch.Size([8, 128]), p2: torch.Size([8, 128]), z1: torch.Size([8, 128]), z2: torch.Size([8, 128])\n",
      "Epoch [43/100], Batch [20/55], Loss: 0.0026\n",
      "Shapes - p1: torch.Size([8, 128]), p2: torch.Size([8, 128]), z1: torch.Size([8, 128]), z2: torch.Size([8, 128])\n",
      "Shapes - p1: torch.Size([8, 128]), p2: torch.Size([8, 128]), z1: torch.Size([8, 128]), z2: torch.Size([8, 128])\n",
      "Shapes - p1: torch.Size([8, 128]), p2: torch.Size([8, 128]), z1: torch.Size([8, 128]), z2: torch.Size([8, 128])\n",
      "Shapes - p1: torch.Size([8, 128]), p2: torch.Size([8, 128]), z1: torch.Size([8, 128]), z2: torch.Size([8, 128])\n",
      "Shapes - p1: torch.Size([8, 128]), p2: torch.Size([8, 128]), z1: torch.Size([8, 128]), z2: torch.Size([8, 128])\n",
      "Epoch [43/100], Batch [25/55], Loss: 0.0007\n",
      "Shapes - p1: torch.Size([8, 128]), p2: torch.Size([8, 128]), z1: torch.Size([8, 128]), z2: torch.Size([8, 128])\n",
      "Shapes - p1: torch.Size([8, 128]), p2: torch.Size([8, 128]), z1: torch.Size([8, 128]), z2: torch.Size([8, 128])\n",
      "Shapes - p1: torch.Size([8, 128]), p2: torch.Size([8, 128]), z1: torch.Size([8, 128]), z2: torch.Size([8, 128])\n",
      "Shapes - p1: torch.Size([8, 128]), p2: torch.Size([8, 128]), z1: torch.Size([8, 128]), z2: torch.Size([8, 128])\n",
      "Shapes - p1: torch.Size([8, 128]), p2: torch.Size([8, 128]), z1: torch.Size([8, 128]), z2: torch.Size([8, 128])\n",
      "Epoch [43/100], Batch [30/55], Loss: 0.0007\n",
      "Shapes - p1: torch.Size([8, 128]), p2: torch.Size([8, 128]), z1: torch.Size([8, 128]), z2: torch.Size([8, 128])\n",
      "Shapes - p1: torch.Size([8, 128]), p2: torch.Size([8, 128]), z1: torch.Size([8, 128]), z2: torch.Size([8, 128])\n",
      "Shapes - p1: torch.Size([8, 128]), p2: torch.Size([8, 128]), z1: torch.Size([8, 128]), z2: torch.Size([8, 128])\n",
      "Shapes - p1: torch.Size([8, 128]), p2: torch.Size([8, 128]), z1: torch.Size([8, 128]), z2: torch.Size([8, 128])\n",
      "Shapes - p1: torch.Size([8, 128]), p2: torch.Size([8, 128]), z1: torch.Size([8, 128]), z2: torch.Size([8, 128])\n",
      "Epoch [43/100], Batch [35/55], Loss: 0.0005\n",
      "Shapes - p1: torch.Size([8, 128]), p2: torch.Size([8, 128]), z1: torch.Size([8, 128]), z2: torch.Size([8, 128])\n",
      "Shapes - p1: torch.Size([8, 128]), p2: torch.Size([8, 128]), z1: torch.Size([8, 128]), z2: torch.Size([8, 128])\n",
      "Shapes - p1: torch.Size([8, 128]), p2: torch.Size([8, 128]), z1: torch.Size([8, 128]), z2: torch.Size([8, 128])\n",
      "Shapes - p1: torch.Size([8, 128]), p2: torch.Size([8, 128]), z1: torch.Size([8, 128]), z2: torch.Size([8, 128])\n",
      "Shapes - p1: torch.Size([8, 128]), p2: torch.Size([8, 128]), z1: torch.Size([8, 128]), z2: torch.Size([8, 128])\n",
      "Epoch [43/100], Batch [40/55], Loss: 0.0006\n",
      "Shapes - p1: torch.Size([8, 128]), p2: torch.Size([8, 128]), z1: torch.Size([8, 128]), z2: torch.Size([8, 128])\n",
      "Shapes - p1: torch.Size([8, 128]), p2: torch.Size([8, 128]), z1: torch.Size([8, 128]), z2: torch.Size([8, 128])\n",
      "Shapes - p1: torch.Size([8, 128]), p2: torch.Size([8, 128]), z1: torch.Size([8, 128]), z2: torch.Size([8, 128])\n",
      "Shapes - p1: torch.Size([8, 128]), p2: torch.Size([8, 128]), z1: torch.Size([8, 128]), z2: torch.Size([8, 128])\n",
      "Shapes - p1: torch.Size([8, 128]), p2: torch.Size([8, 128]), z1: torch.Size([8, 128]), z2: torch.Size([8, 128])\n",
      "Epoch [43/100], Batch [45/55], Loss: 0.0204\n",
      "Shapes - p1: torch.Size([8, 128]), p2: torch.Size([8, 128]), z1: torch.Size([8, 128]), z2: torch.Size([8, 128])\n",
      "Shapes - p1: torch.Size([8, 128]), p2: torch.Size([8, 128]), z1: torch.Size([8, 128]), z2: torch.Size([8, 128])\n",
      "Shapes - p1: torch.Size([8, 128]), p2: torch.Size([8, 128]), z1: torch.Size([8, 128]), z2: torch.Size([8, 128])\n",
      "Shapes - p1: torch.Size([8, 128]), p2: torch.Size([8, 128]), z1: torch.Size([8, 128]), z2: torch.Size([8, 128])\n",
      "Shapes - p1: torch.Size([8, 128]), p2: torch.Size([8, 128]), z1: torch.Size([8, 128]), z2: torch.Size([8, 128])\n",
      "Epoch [43/100], Batch [50/55], Loss: 0.0024\n",
      "Shapes - p1: torch.Size([8, 128]), p2: torch.Size([8, 128]), z1: torch.Size([8, 128]), z2: torch.Size([8, 128])\n",
      "Shapes - p1: torch.Size([8, 128]), p2: torch.Size([8, 128]), z1: torch.Size([8, 128]), z2: torch.Size([8, 128])\n",
      "Shapes - p1: torch.Size([8, 128]), p2: torch.Size([8, 128]), z1: torch.Size([8, 128]), z2: torch.Size([8, 128])\n",
      "Shapes - p1: torch.Size([8, 128]), p2: torch.Size([8, 128]), z1: torch.Size([8, 128]), z2: torch.Size([8, 128])\n",
      "Shapes - p1: torch.Size([6, 128]), p2: torch.Size([6, 128]), z1: torch.Size([6, 128]), z2: torch.Size([6, 128])\n",
      "Epoch [43/100], Batch [55/55], Loss: 0.0019\n",
      "✅ Completed Epoch [43/100] | Avg Loss: 0.0047\n",
      "⏳ No Improvement | Patience: 9/15\n",
      "Shapes - p1: torch.Size([8, 128]), p2: torch.Size([8, 128]), z1: torch.Size([8, 128]), z2: torch.Size([8, 128])\n",
      "Shapes - p1: torch.Size([8, 128]), p2: torch.Size([8, 128]), z1: torch.Size([8, 128]), z2: torch.Size([8, 128])\n",
      "Shapes - p1: torch.Size([8, 128]), p2: torch.Size([8, 128]), z1: torch.Size([8, 128]), z2: torch.Size([8, 128])\n",
      "Shapes - p1: torch.Size([8, 128]), p2: torch.Size([8, 128]), z1: torch.Size([8, 128]), z2: torch.Size([8, 128])\n",
      "Shapes - p1: torch.Size([8, 128]), p2: torch.Size([8, 128]), z1: torch.Size([8, 128]), z2: torch.Size([8, 128])\n",
      "Epoch [44/100], Batch [5/55], Loss: 0.0033\n",
      "Shapes - p1: torch.Size([8, 128]), p2: torch.Size([8, 128]), z1: torch.Size([8, 128]), z2: torch.Size([8, 128])\n",
      "Shapes - p1: torch.Size([8, 128]), p2: torch.Size([8, 128]), z1: torch.Size([8, 128]), z2: torch.Size([8, 128])\n",
      "Shapes - p1: torch.Size([8, 128]), p2: torch.Size([8, 128]), z1: torch.Size([8, 128]), z2: torch.Size([8, 128])\n",
      "Shapes - p1: torch.Size([8, 128]), p2: torch.Size([8, 128]), z1: torch.Size([8, 128]), z2: torch.Size([8, 128])\n",
      "Shapes - p1: torch.Size([8, 128]), p2: torch.Size([8, 128]), z1: torch.Size([8, 128]), z2: torch.Size([8, 128])\n",
      "Epoch [44/100], Batch [10/55], Loss: 0.0061\n",
      "Shapes - p1: torch.Size([8, 128]), p2: torch.Size([8, 128]), z1: torch.Size([8, 128]), z2: torch.Size([8, 128])\n",
      "Shapes - p1: torch.Size([8, 128]), p2: torch.Size([8, 128]), z1: torch.Size([8, 128]), z2: torch.Size([8, 128])\n",
      "Shapes - p1: torch.Size([8, 128]), p2: torch.Size([8, 128]), z1: torch.Size([8, 128]), z2: torch.Size([8, 128])\n",
      "Shapes - p1: torch.Size([8, 128]), p2: torch.Size([8, 128]), z1: torch.Size([8, 128]), z2: torch.Size([8, 128])\n",
      "Shapes - p1: torch.Size([8, 128]), p2: torch.Size([8, 128]), z1: torch.Size([8, 128]), z2: torch.Size([8, 128])\n",
      "Epoch [44/100], Batch [15/55], Loss: 0.0038\n",
      "Shapes - p1: torch.Size([8, 128]), p2: torch.Size([8, 128]), z1: torch.Size([8, 128]), z2: torch.Size([8, 128])\n",
      "Shapes - p1: torch.Size([8, 128]), p2: torch.Size([8, 128]), z1: torch.Size([8, 128]), z2: torch.Size([8, 128])\n",
      "Shapes - p1: torch.Size([8, 128]), p2: torch.Size([8, 128]), z1: torch.Size([8, 128]), z2: torch.Size([8, 128])\n",
      "Shapes - p1: torch.Size([8, 128]), p2: torch.Size([8, 128]), z1: torch.Size([8, 128]), z2: torch.Size([8, 128])\n",
      "Shapes - p1: torch.Size([8, 128]), p2: torch.Size([8, 128]), z1: torch.Size([8, 128]), z2: torch.Size([8, 128])\n",
      "Epoch [44/100], Batch [20/55], Loss: 0.0043\n",
      "Shapes - p1: torch.Size([8, 128]), p2: torch.Size([8, 128]), z1: torch.Size([8, 128]), z2: torch.Size([8, 128])\n",
      "Shapes - p1: torch.Size([8, 128]), p2: torch.Size([8, 128]), z1: torch.Size([8, 128]), z2: torch.Size([8, 128])\n",
      "Shapes - p1: torch.Size([8, 128]), p2: torch.Size([8, 128]), z1: torch.Size([8, 128]), z2: torch.Size([8, 128])\n",
      "Shapes - p1: torch.Size([8, 128]), p2: torch.Size([8, 128]), z1: torch.Size([8, 128]), z2: torch.Size([8, 128])\n",
      "Shapes - p1: torch.Size([8, 128]), p2: torch.Size([8, 128]), z1: torch.Size([8, 128]), z2: torch.Size([8, 128])\n",
      "Epoch [44/100], Batch [25/55], Loss: 0.0006\n",
      "Shapes - p1: torch.Size([8, 128]), p2: torch.Size([8, 128]), z1: torch.Size([8, 128]), z2: torch.Size([8, 128])\n",
      "Shapes - p1: torch.Size([8, 128]), p2: torch.Size([8, 128]), z1: torch.Size([8, 128]), z2: torch.Size([8, 128])\n",
      "Shapes - p1: torch.Size([8, 128]), p2: torch.Size([8, 128]), z1: torch.Size([8, 128]), z2: torch.Size([8, 128])\n",
      "Shapes - p1: torch.Size([8, 128]), p2: torch.Size([8, 128]), z1: torch.Size([8, 128]), z2: torch.Size([8, 128])\n",
      "Shapes - p1: torch.Size([8, 128]), p2: torch.Size([8, 128]), z1: torch.Size([8, 128]), z2: torch.Size([8, 128])\n",
      "Epoch [44/100], Batch [30/55], Loss: 0.0020\n",
      "Shapes - p1: torch.Size([8, 128]), p2: torch.Size([8, 128]), z1: torch.Size([8, 128]), z2: torch.Size([8, 128])\n",
      "Shapes - p1: torch.Size([8, 128]), p2: torch.Size([8, 128]), z1: torch.Size([8, 128]), z2: torch.Size([8, 128])\n",
      "Shapes - p1: torch.Size([8, 128]), p2: torch.Size([8, 128]), z1: torch.Size([8, 128]), z2: torch.Size([8, 128])\n",
      "Shapes - p1: torch.Size([8, 128]), p2: torch.Size([8, 128]), z1: torch.Size([8, 128]), z2: torch.Size([8, 128])\n",
      "Shapes - p1: torch.Size([8, 128]), p2: torch.Size([8, 128]), z1: torch.Size([8, 128]), z2: torch.Size([8, 128])\n",
      "Epoch [44/100], Batch [35/55], Loss: 0.0022\n",
      "Shapes - p1: torch.Size([8, 128]), p2: torch.Size([8, 128]), z1: torch.Size([8, 128]), z2: torch.Size([8, 128])\n",
      "Shapes - p1: torch.Size([8, 128]), p2: torch.Size([8, 128]), z1: torch.Size([8, 128]), z2: torch.Size([8, 128])\n",
      "Shapes - p1: torch.Size([8, 128]), p2: torch.Size([8, 128]), z1: torch.Size([8, 128]), z2: torch.Size([8, 128])\n",
      "Shapes - p1: torch.Size([8, 128]), p2: torch.Size([8, 128]), z1: torch.Size([8, 128]), z2: torch.Size([8, 128])\n",
      "Shapes - p1: torch.Size([8, 128]), p2: torch.Size([8, 128]), z1: torch.Size([8, 128]), z2: torch.Size([8, 128])\n",
      "Epoch [44/100], Batch [40/55], Loss: 0.0026\n",
      "Shapes - p1: torch.Size([8, 128]), p2: torch.Size([8, 128]), z1: torch.Size([8, 128]), z2: torch.Size([8, 128])\n",
      "Shapes - p1: torch.Size([8, 128]), p2: torch.Size([8, 128]), z1: torch.Size([8, 128]), z2: torch.Size([8, 128])\n",
      "Shapes - p1: torch.Size([8, 128]), p2: torch.Size([8, 128]), z1: torch.Size([8, 128]), z2: torch.Size([8, 128])\n",
      "Shapes - p1: torch.Size([8, 128]), p2: torch.Size([8, 128]), z1: torch.Size([8, 128]), z2: torch.Size([8, 128])\n",
      "Shapes - p1: torch.Size([8, 128]), p2: torch.Size([8, 128]), z1: torch.Size([8, 128]), z2: torch.Size([8, 128])\n",
      "Epoch [44/100], Batch [45/55], Loss: 0.0022\n",
      "Shapes - p1: torch.Size([8, 128]), p2: torch.Size([8, 128]), z1: torch.Size([8, 128]), z2: torch.Size([8, 128])\n",
      "Shapes - p1: torch.Size([8, 128]), p2: torch.Size([8, 128]), z1: torch.Size([8, 128]), z2: torch.Size([8, 128])\n",
      "Shapes - p1: torch.Size([8, 128]), p2: torch.Size([8, 128]), z1: torch.Size([8, 128]), z2: torch.Size([8, 128])\n",
      "Shapes - p1: torch.Size([8, 128]), p2: torch.Size([8, 128]), z1: torch.Size([8, 128]), z2: torch.Size([8, 128])\n",
      "Shapes - p1: torch.Size([8, 128]), p2: torch.Size([8, 128]), z1: torch.Size([8, 128]), z2: torch.Size([8, 128])\n",
      "Epoch [44/100], Batch [50/55], Loss: 0.0035\n",
      "Shapes - p1: torch.Size([8, 128]), p2: torch.Size([8, 128]), z1: torch.Size([8, 128]), z2: torch.Size([8, 128])\n",
      "Shapes - p1: torch.Size([8, 128]), p2: torch.Size([8, 128]), z1: torch.Size([8, 128]), z2: torch.Size([8, 128])\n",
      "Shapes - p1: torch.Size([8, 128]), p2: torch.Size([8, 128]), z1: torch.Size([8, 128]), z2: torch.Size([8, 128])\n",
      "Shapes - p1: torch.Size([8, 128]), p2: torch.Size([8, 128]), z1: torch.Size([8, 128]), z2: torch.Size([8, 128])\n",
      "Shapes - p1: torch.Size([6, 128]), p2: torch.Size([6, 128]), z1: torch.Size([6, 128]), z2: torch.Size([6, 128])\n",
      "Epoch [44/100], Batch [55/55], Loss: 0.0018\n",
      "✅ Completed Epoch [44/100] | Avg Loss: 0.0027\n",
      "✅ Model Improved & Saved!\n",
      "Shapes - p1: torch.Size([8, 128]), p2: torch.Size([8, 128]), z1: torch.Size([8, 128]), z2: torch.Size([8, 128])\n",
      "Shapes - p1: torch.Size([8, 128]), p2: torch.Size([8, 128]), z1: torch.Size([8, 128]), z2: torch.Size([8, 128])\n",
      "Shapes - p1: torch.Size([8, 128]), p2: torch.Size([8, 128]), z1: torch.Size([8, 128]), z2: torch.Size([8, 128])\n",
      "Shapes - p1: torch.Size([8, 128]), p2: torch.Size([8, 128]), z1: torch.Size([8, 128]), z2: torch.Size([8, 128])\n",
      "Shapes - p1: torch.Size([8, 128]), p2: torch.Size([8, 128]), z1: torch.Size([8, 128]), z2: torch.Size([8, 128])\n",
      "Epoch [45/100], Batch [5/55], Loss: 0.0025\n",
      "Shapes - p1: torch.Size([8, 128]), p2: torch.Size([8, 128]), z1: torch.Size([8, 128]), z2: torch.Size([8, 128])\n",
      "Shapes - p1: torch.Size([8, 128]), p2: torch.Size([8, 128]), z1: torch.Size([8, 128]), z2: torch.Size([8, 128])\n",
      "Shapes - p1: torch.Size([8, 128]), p2: torch.Size([8, 128]), z1: torch.Size([8, 128]), z2: torch.Size([8, 128])\n",
      "Shapes - p1: torch.Size([8, 128]), p2: torch.Size([8, 128]), z1: torch.Size([8, 128]), z2: torch.Size([8, 128])\n",
      "Shapes - p1: torch.Size([8, 128]), p2: torch.Size([8, 128]), z1: torch.Size([8, 128]), z2: torch.Size([8, 128])\n",
      "Epoch [45/100], Batch [10/55], Loss: 0.0097\n",
      "Shapes - p1: torch.Size([8, 128]), p2: torch.Size([8, 128]), z1: torch.Size([8, 128]), z2: torch.Size([8, 128])\n",
      "Shapes - p1: torch.Size([8, 128]), p2: torch.Size([8, 128]), z1: torch.Size([8, 128]), z2: torch.Size([8, 128])\n",
      "Shapes - p1: torch.Size([8, 128]), p2: torch.Size([8, 128]), z1: torch.Size([8, 128]), z2: torch.Size([8, 128])\n",
      "Shapes - p1: torch.Size([8, 128]), p2: torch.Size([8, 128]), z1: torch.Size([8, 128]), z2: torch.Size([8, 128])\n",
      "Shapes - p1: torch.Size([8, 128]), p2: torch.Size([8, 128]), z1: torch.Size([8, 128]), z2: torch.Size([8, 128])\n",
      "Epoch [45/100], Batch [15/55], Loss: 0.0018\n",
      "Shapes - p1: torch.Size([8, 128]), p2: torch.Size([8, 128]), z1: torch.Size([8, 128]), z2: torch.Size([8, 128])\n",
      "Shapes - p1: torch.Size([8, 128]), p2: torch.Size([8, 128]), z1: torch.Size([8, 128]), z2: torch.Size([8, 128])\n",
      "Shapes - p1: torch.Size([8, 128]), p2: torch.Size([8, 128]), z1: torch.Size([8, 128]), z2: torch.Size([8, 128])\n",
      "Shapes - p1: torch.Size([8, 128]), p2: torch.Size([8, 128]), z1: torch.Size([8, 128]), z2: torch.Size([8, 128])\n",
      "Shapes - p1: torch.Size([8, 128]), p2: torch.Size([8, 128]), z1: torch.Size([8, 128]), z2: torch.Size([8, 128])\n",
      "Epoch [45/100], Batch [20/55], Loss: 0.0012\n",
      "Shapes - p1: torch.Size([8, 128]), p2: torch.Size([8, 128]), z1: torch.Size([8, 128]), z2: torch.Size([8, 128])\n",
      "Shapes - p1: torch.Size([8, 128]), p2: torch.Size([8, 128]), z1: torch.Size([8, 128]), z2: torch.Size([8, 128])\n",
      "Shapes - p1: torch.Size([8, 128]), p2: torch.Size([8, 128]), z1: torch.Size([8, 128]), z2: torch.Size([8, 128])\n",
      "Shapes - p1: torch.Size([8, 128]), p2: torch.Size([8, 128]), z1: torch.Size([8, 128]), z2: torch.Size([8, 128])\n",
      "Shapes - p1: torch.Size([8, 128]), p2: torch.Size([8, 128]), z1: torch.Size([8, 128]), z2: torch.Size([8, 128])\n",
      "Epoch [45/100], Batch [25/55], Loss: 0.0027\n",
      "Shapes - p1: torch.Size([8, 128]), p2: torch.Size([8, 128]), z1: torch.Size([8, 128]), z2: torch.Size([8, 128])\n",
      "Shapes - p1: torch.Size([8, 128]), p2: torch.Size([8, 128]), z1: torch.Size([8, 128]), z2: torch.Size([8, 128])\n",
      "Shapes - p1: torch.Size([8, 128]), p2: torch.Size([8, 128]), z1: torch.Size([8, 128]), z2: torch.Size([8, 128])\n",
      "Shapes - p1: torch.Size([8, 128]), p2: torch.Size([8, 128]), z1: torch.Size([8, 128]), z2: torch.Size([8, 128])\n",
      "Shapes - p1: torch.Size([8, 128]), p2: torch.Size([8, 128]), z1: torch.Size([8, 128]), z2: torch.Size([8, 128])\n",
      "Epoch [45/100], Batch [30/55], Loss: 0.0008\n",
      "Shapes - p1: torch.Size([8, 128]), p2: torch.Size([8, 128]), z1: torch.Size([8, 128]), z2: torch.Size([8, 128])\n",
      "Shapes - p1: torch.Size([8, 128]), p2: torch.Size([8, 128]), z1: torch.Size([8, 128]), z2: torch.Size([8, 128])\n",
      "Shapes - p1: torch.Size([8, 128]), p2: torch.Size([8, 128]), z1: torch.Size([8, 128]), z2: torch.Size([8, 128])\n",
      "Shapes - p1: torch.Size([8, 128]), p2: torch.Size([8, 128]), z1: torch.Size([8, 128]), z2: torch.Size([8, 128])\n",
      "Shapes - p1: torch.Size([8, 128]), p2: torch.Size([8, 128]), z1: torch.Size([8, 128]), z2: torch.Size([8, 128])\n",
      "Epoch [45/100], Batch [35/55], Loss: 0.0024\n",
      "Shapes - p1: torch.Size([8, 128]), p2: torch.Size([8, 128]), z1: torch.Size([8, 128]), z2: torch.Size([8, 128])\n",
      "Shapes - p1: torch.Size([8, 128]), p2: torch.Size([8, 128]), z1: torch.Size([8, 128]), z2: torch.Size([8, 128])\n",
      "Shapes - p1: torch.Size([8, 128]), p2: torch.Size([8, 128]), z1: torch.Size([8, 128]), z2: torch.Size([8, 128])\n",
      "Shapes - p1: torch.Size([8, 128]), p2: torch.Size([8, 128]), z1: torch.Size([8, 128]), z2: torch.Size([8, 128])\n",
      "Shapes - p1: torch.Size([8, 128]), p2: torch.Size([8, 128]), z1: torch.Size([8, 128]), z2: torch.Size([8, 128])\n",
      "Epoch [45/100], Batch [40/55], Loss: 0.0006\n",
      "Shapes - p1: torch.Size([8, 128]), p2: torch.Size([8, 128]), z1: torch.Size([8, 128]), z2: torch.Size([8, 128])\n",
      "Shapes - p1: torch.Size([8, 128]), p2: torch.Size([8, 128]), z1: torch.Size([8, 128]), z2: torch.Size([8, 128])\n",
      "Shapes - p1: torch.Size([8, 128]), p2: torch.Size([8, 128]), z1: torch.Size([8, 128]), z2: torch.Size([8, 128])\n",
      "Shapes - p1: torch.Size([8, 128]), p2: torch.Size([8, 128]), z1: torch.Size([8, 128]), z2: torch.Size([8, 128])\n",
      "Shapes - p1: torch.Size([8, 128]), p2: torch.Size([8, 128]), z1: torch.Size([8, 128]), z2: torch.Size([8, 128])\n",
      "Epoch [45/100], Batch [45/55], Loss: 0.0014\n",
      "Shapes - p1: torch.Size([8, 128]), p2: torch.Size([8, 128]), z1: torch.Size([8, 128]), z2: torch.Size([8, 128])\n",
      "Shapes - p1: torch.Size([8, 128]), p2: torch.Size([8, 128]), z1: torch.Size([8, 128]), z2: torch.Size([8, 128])\n",
      "Shapes - p1: torch.Size([8, 128]), p2: torch.Size([8, 128]), z1: torch.Size([8, 128]), z2: torch.Size([8, 128])\n",
      "Shapes - p1: torch.Size([8, 128]), p2: torch.Size([8, 128]), z1: torch.Size([8, 128]), z2: torch.Size([8, 128])\n",
      "Shapes - p1: torch.Size([8, 128]), p2: torch.Size([8, 128]), z1: torch.Size([8, 128]), z2: torch.Size([8, 128])\n",
      "Epoch [45/100], Batch [50/55], Loss: 0.0029\n",
      "Shapes - p1: torch.Size([8, 128]), p2: torch.Size([8, 128]), z1: torch.Size([8, 128]), z2: torch.Size([8, 128])\n",
      "Shapes - p1: torch.Size([8, 128]), p2: torch.Size([8, 128]), z1: torch.Size([8, 128]), z2: torch.Size([8, 128])\n",
      "Shapes - p1: torch.Size([8, 128]), p2: torch.Size([8, 128]), z1: torch.Size([8, 128]), z2: torch.Size([8, 128])\n",
      "Shapes - p1: torch.Size([8, 128]), p2: torch.Size([8, 128]), z1: torch.Size([8, 128]), z2: torch.Size([8, 128])\n",
      "Shapes - p1: torch.Size([6, 128]), p2: torch.Size([6, 128]), z1: torch.Size([6, 128]), z2: torch.Size([6, 128])\n",
      "Epoch [45/100], Batch [55/55], Loss: 0.0008\n",
      "✅ Completed Epoch [45/100] | Avg Loss: 0.0029\n",
      "⏳ No Improvement | Patience: 1/15\n",
      "Shapes - p1: torch.Size([8, 128]), p2: torch.Size([8, 128]), z1: torch.Size([8, 128]), z2: torch.Size([8, 128])\n",
      "Shapes - p1: torch.Size([8, 128]), p2: torch.Size([8, 128]), z1: torch.Size([8, 128]), z2: torch.Size([8, 128])\n",
      "Shapes - p1: torch.Size([8, 128]), p2: torch.Size([8, 128]), z1: torch.Size([8, 128]), z2: torch.Size([8, 128])\n",
      "Shapes - p1: torch.Size([8, 128]), p2: torch.Size([8, 128]), z1: torch.Size([8, 128]), z2: torch.Size([8, 128])\n",
      "Shapes - p1: torch.Size([8, 128]), p2: torch.Size([8, 128]), z1: torch.Size([8, 128]), z2: torch.Size([8, 128])\n",
      "Epoch [46/100], Batch [5/55], Loss: 0.0040\n",
      "Shapes - p1: torch.Size([8, 128]), p2: torch.Size([8, 128]), z1: torch.Size([8, 128]), z2: torch.Size([8, 128])\n",
      "Shapes - p1: torch.Size([8, 128]), p2: torch.Size([8, 128]), z1: torch.Size([8, 128]), z2: torch.Size([8, 128])\n",
      "Shapes - p1: torch.Size([8, 128]), p2: torch.Size([8, 128]), z1: torch.Size([8, 128]), z2: torch.Size([8, 128])\n",
      "Shapes - p1: torch.Size([8, 128]), p2: torch.Size([8, 128]), z1: torch.Size([8, 128]), z2: torch.Size([8, 128])\n",
      "Shapes - p1: torch.Size([8, 128]), p2: torch.Size([8, 128]), z1: torch.Size([8, 128]), z2: torch.Size([8, 128])\n",
      "Epoch [46/100], Batch [10/55], Loss: 0.0011\n",
      "Shapes - p1: torch.Size([8, 128]), p2: torch.Size([8, 128]), z1: torch.Size([8, 128]), z2: torch.Size([8, 128])\n",
      "Shapes - p1: torch.Size([8, 128]), p2: torch.Size([8, 128]), z1: torch.Size([8, 128]), z2: torch.Size([8, 128])\n",
      "Shapes - p1: torch.Size([8, 128]), p2: torch.Size([8, 128]), z1: torch.Size([8, 128]), z2: torch.Size([8, 128])\n",
      "Shapes - p1: torch.Size([8, 128]), p2: torch.Size([8, 128]), z1: torch.Size([8, 128]), z2: torch.Size([8, 128])\n",
      "Shapes - p1: torch.Size([8, 128]), p2: torch.Size([8, 128]), z1: torch.Size([8, 128]), z2: torch.Size([8, 128])\n",
      "Epoch [46/100], Batch [15/55], Loss: 0.0095\n",
      "Shapes - p1: torch.Size([8, 128]), p2: torch.Size([8, 128]), z1: torch.Size([8, 128]), z2: torch.Size([8, 128])\n",
      "Shapes - p1: torch.Size([8, 128]), p2: torch.Size([8, 128]), z1: torch.Size([8, 128]), z2: torch.Size([8, 128])\n",
      "Shapes - p1: torch.Size([8, 128]), p2: torch.Size([8, 128]), z1: torch.Size([8, 128]), z2: torch.Size([8, 128])\n",
      "Shapes - p1: torch.Size([8, 128]), p2: torch.Size([8, 128]), z1: torch.Size([8, 128]), z2: torch.Size([8, 128])\n",
      "Shapes - p1: torch.Size([8, 128]), p2: torch.Size([8, 128]), z1: torch.Size([8, 128]), z2: torch.Size([8, 128])\n",
      "Epoch [46/100], Batch [20/55], Loss: 0.0011\n",
      "Shapes - p1: torch.Size([8, 128]), p2: torch.Size([8, 128]), z1: torch.Size([8, 128]), z2: torch.Size([8, 128])\n",
      "Shapes - p1: torch.Size([8, 128]), p2: torch.Size([8, 128]), z1: torch.Size([8, 128]), z2: torch.Size([8, 128])\n",
      "Shapes - p1: torch.Size([8, 128]), p2: torch.Size([8, 128]), z1: torch.Size([8, 128]), z2: torch.Size([8, 128])\n",
      "Shapes - p1: torch.Size([8, 128]), p2: torch.Size([8, 128]), z1: torch.Size([8, 128]), z2: torch.Size([8, 128])\n",
      "Shapes - p1: torch.Size([8, 128]), p2: torch.Size([8, 128]), z1: torch.Size([8, 128]), z2: torch.Size([8, 128])\n",
      "Epoch [46/100], Batch [25/55], Loss: 0.0020\n",
      "Shapes - p1: torch.Size([8, 128]), p2: torch.Size([8, 128]), z1: torch.Size([8, 128]), z2: torch.Size([8, 128])\n",
      "Shapes - p1: torch.Size([8, 128]), p2: torch.Size([8, 128]), z1: torch.Size([8, 128]), z2: torch.Size([8, 128])\n",
      "Shapes - p1: torch.Size([8, 128]), p2: torch.Size([8, 128]), z1: torch.Size([8, 128]), z2: torch.Size([8, 128])\n",
      "Shapes - p1: torch.Size([8, 128]), p2: torch.Size([8, 128]), z1: torch.Size([8, 128]), z2: torch.Size([8, 128])\n",
      "Shapes - p1: torch.Size([8, 128]), p2: torch.Size([8, 128]), z1: torch.Size([8, 128]), z2: torch.Size([8, 128])\n",
      "Epoch [46/100], Batch [30/55], Loss: 0.0012\n",
      "Shapes - p1: torch.Size([8, 128]), p2: torch.Size([8, 128]), z1: torch.Size([8, 128]), z2: torch.Size([8, 128])\n",
      "Shapes - p1: torch.Size([8, 128]), p2: torch.Size([8, 128]), z1: torch.Size([8, 128]), z2: torch.Size([8, 128])\n",
      "Shapes - p1: torch.Size([8, 128]), p2: torch.Size([8, 128]), z1: torch.Size([8, 128]), z2: torch.Size([8, 128])\n",
      "Shapes - p1: torch.Size([8, 128]), p2: torch.Size([8, 128]), z1: torch.Size([8, 128]), z2: torch.Size([8, 128])\n",
      "Shapes - p1: torch.Size([8, 128]), p2: torch.Size([8, 128]), z1: torch.Size([8, 128]), z2: torch.Size([8, 128])\n",
      "Epoch [46/100], Batch [35/55], Loss: 0.0037\n",
      "Shapes - p1: torch.Size([8, 128]), p2: torch.Size([8, 128]), z1: torch.Size([8, 128]), z2: torch.Size([8, 128])\n",
      "Shapes - p1: torch.Size([8, 128]), p2: torch.Size([8, 128]), z1: torch.Size([8, 128]), z2: torch.Size([8, 128])\n",
      "Shapes - p1: torch.Size([8, 128]), p2: torch.Size([8, 128]), z1: torch.Size([8, 128]), z2: torch.Size([8, 128])\n",
      "Shapes - p1: torch.Size([8, 128]), p2: torch.Size([8, 128]), z1: torch.Size([8, 128]), z2: torch.Size([8, 128])\n",
      "Shapes - p1: torch.Size([8, 128]), p2: torch.Size([8, 128]), z1: torch.Size([8, 128]), z2: torch.Size([8, 128])\n",
      "Epoch [46/100], Batch [40/55], Loss: 0.0008\n",
      "Shapes - p1: torch.Size([8, 128]), p2: torch.Size([8, 128]), z1: torch.Size([8, 128]), z2: torch.Size([8, 128])\n",
      "Shapes - p1: torch.Size([8, 128]), p2: torch.Size([8, 128]), z1: torch.Size([8, 128]), z2: torch.Size([8, 128])\n",
      "Shapes - p1: torch.Size([8, 128]), p2: torch.Size([8, 128]), z1: torch.Size([8, 128]), z2: torch.Size([8, 128])\n",
      "Shapes - p1: torch.Size([8, 128]), p2: torch.Size([8, 128]), z1: torch.Size([8, 128]), z2: torch.Size([8, 128])\n",
      "Shapes - p1: torch.Size([8, 128]), p2: torch.Size([8, 128]), z1: torch.Size([8, 128]), z2: torch.Size([8, 128])\n",
      "Epoch [46/100], Batch [45/55], Loss: 0.0266\n",
      "Shapes - p1: torch.Size([8, 128]), p2: torch.Size([8, 128]), z1: torch.Size([8, 128]), z2: torch.Size([8, 128])\n",
      "Shapes - p1: torch.Size([8, 128]), p2: torch.Size([8, 128]), z1: torch.Size([8, 128]), z2: torch.Size([8, 128])\n",
      "Shapes - p1: torch.Size([8, 128]), p2: torch.Size([8, 128]), z1: torch.Size([8, 128]), z2: torch.Size([8, 128])\n",
      "Shapes - p1: torch.Size([8, 128]), p2: torch.Size([8, 128]), z1: torch.Size([8, 128]), z2: torch.Size([8, 128])\n",
      "Shapes - p1: torch.Size([8, 128]), p2: torch.Size([8, 128]), z1: torch.Size([8, 128]), z2: torch.Size([8, 128])\n",
      "Epoch [46/100], Batch [50/55], Loss: 0.0039\n",
      "Shapes - p1: torch.Size([8, 128]), p2: torch.Size([8, 128]), z1: torch.Size([8, 128]), z2: torch.Size([8, 128])\n",
      "Shapes - p1: torch.Size([8, 128]), p2: torch.Size([8, 128]), z1: torch.Size([8, 128]), z2: torch.Size([8, 128])\n",
      "Shapes - p1: torch.Size([8, 128]), p2: torch.Size([8, 128]), z1: torch.Size([8, 128]), z2: torch.Size([8, 128])\n",
      "Shapes - p1: torch.Size([8, 128]), p2: torch.Size([8, 128]), z1: torch.Size([8, 128]), z2: torch.Size([8, 128])\n",
      "Shapes - p1: torch.Size([6, 128]), p2: torch.Size([6, 128]), z1: torch.Size([6, 128]), z2: torch.Size([6, 128])\n",
      "Epoch [46/100], Batch [55/55], Loss: 0.0014\n",
      "✅ Completed Epoch [46/100] | Avg Loss: 0.0038\n",
      "⏳ No Improvement | Patience: 2/15\n",
      "Shapes - p1: torch.Size([8, 128]), p2: torch.Size([8, 128]), z1: torch.Size([8, 128]), z2: torch.Size([8, 128])\n",
      "Shapes - p1: torch.Size([8, 128]), p2: torch.Size([8, 128]), z1: torch.Size([8, 128]), z2: torch.Size([8, 128])\n",
      "Shapes - p1: torch.Size([8, 128]), p2: torch.Size([8, 128]), z1: torch.Size([8, 128]), z2: torch.Size([8, 128])\n",
      "Shapes - p1: torch.Size([8, 128]), p2: torch.Size([8, 128]), z1: torch.Size([8, 128]), z2: torch.Size([8, 128])\n",
      "Shapes - p1: torch.Size([8, 128]), p2: torch.Size([8, 128]), z1: torch.Size([8, 128]), z2: torch.Size([8, 128])\n",
      "Epoch [47/100], Batch [5/55], Loss: 0.0025\n",
      "Shapes - p1: torch.Size([8, 128]), p2: torch.Size([8, 128]), z1: torch.Size([8, 128]), z2: torch.Size([8, 128])\n",
      "Shapes - p1: torch.Size([8, 128]), p2: torch.Size([8, 128]), z1: torch.Size([8, 128]), z2: torch.Size([8, 128])\n",
      "Shapes - p1: torch.Size([8, 128]), p2: torch.Size([8, 128]), z1: torch.Size([8, 128]), z2: torch.Size([8, 128])\n",
      "Shapes - p1: torch.Size([8, 128]), p2: torch.Size([8, 128]), z1: torch.Size([8, 128]), z2: torch.Size([8, 128])\n",
      "Shapes - p1: torch.Size([8, 128]), p2: torch.Size([8, 128]), z1: torch.Size([8, 128]), z2: torch.Size([8, 128])\n",
      "Epoch [47/100], Batch [10/55], Loss: 0.0007\n",
      "Shapes - p1: torch.Size([8, 128]), p2: torch.Size([8, 128]), z1: torch.Size([8, 128]), z2: torch.Size([8, 128])\n",
      "Shapes - p1: torch.Size([8, 128]), p2: torch.Size([8, 128]), z1: torch.Size([8, 128]), z2: torch.Size([8, 128])\n",
      "Shapes - p1: torch.Size([8, 128]), p2: torch.Size([8, 128]), z1: torch.Size([8, 128]), z2: torch.Size([8, 128])\n",
      "Shapes - p1: torch.Size([8, 128]), p2: torch.Size([8, 128]), z1: torch.Size([8, 128]), z2: torch.Size([8, 128])\n",
      "Shapes - p1: torch.Size([8, 128]), p2: torch.Size([8, 128]), z1: torch.Size([8, 128]), z2: torch.Size([8, 128])\n",
      "Epoch [47/100], Batch [15/55], Loss: 0.0118\n",
      "Shapes - p1: torch.Size([8, 128]), p2: torch.Size([8, 128]), z1: torch.Size([8, 128]), z2: torch.Size([8, 128])\n",
      "Shapes - p1: torch.Size([8, 128]), p2: torch.Size([8, 128]), z1: torch.Size([8, 128]), z2: torch.Size([8, 128])\n",
      "Shapes - p1: torch.Size([8, 128]), p2: torch.Size([8, 128]), z1: torch.Size([8, 128]), z2: torch.Size([8, 128])\n",
      "Shapes - p1: torch.Size([8, 128]), p2: torch.Size([8, 128]), z1: torch.Size([8, 128]), z2: torch.Size([8, 128])\n",
      "Shapes - p1: torch.Size([8, 128]), p2: torch.Size([8, 128]), z1: torch.Size([8, 128]), z2: torch.Size([8, 128])\n",
      "Epoch [47/100], Batch [20/55], Loss: 0.0009\n",
      "Shapes - p1: torch.Size([8, 128]), p2: torch.Size([8, 128]), z1: torch.Size([8, 128]), z2: torch.Size([8, 128])\n",
      "Shapes - p1: torch.Size([8, 128]), p2: torch.Size([8, 128]), z1: torch.Size([8, 128]), z2: torch.Size([8, 128])\n",
      "Shapes - p1: torch.Size([8, 128]), p2: torch.Size([8, 128]), z1: torch.Size([8, 128]), z2: torch.Size([8, 128])\n",
      "Shapes - p1: torch.Size([8, 128]), p2: torch.Size([8, 128]), z1: torch.Size([8, 128]), z2: torch.Size([8, 128])\n",
      "Shapes - p1: torch.Size([8, 128]), p2: torch.Size([8, 128]), z1: torch.Size([8, 128]), z2: torch.Size([8, 128])\n",
      "Epoch [47/100], Batch [25/55], Loss: 0.0040\n",
      "Shapes - p1: torch.Size([8, 128]), p2: torch.Size([8, 128]), z1: torch.Size([8, 128]), z2: torch.Size([8, 128])\n",
      "Shapes - p1: torch.Size([8, 128]), p2: torch.Size([8, 128]), z1: torch.Size([8, 128]), z2: torch.Size([8, 128])\n",
      "Shapes - p1: torch.Size([8, 128]), p2: torch.Size([8, 128]), z1: torch.Size([8, 128]), z2: torch.Size([8, 128])\n",
      "Shapes - p1: torch.Size([8, 128]), p2: torch.Size([8, 128]), z1: torch.Size([8, 128]), z2: torch.Size([8, 128])\n",
      "Shapes - p1: torch.Size([8, 128]), p2: torch.Size([8, 128]), z1: torch.Size([8, 128]), z2: torch.Size([8, 128])\n",
      "Epoch [47/100], Batch [30/55], Loss: 0.0130\n",
      "Shapes - p1: torch.Size([8, 128]), p2: torch.Size([8, 128]), z1: torch.Size([8, 128]), z2: torch.Size([8, 128])\n",
      "Shapes - p1: torch.Size([8, 128]), p2: torch.Size([8, 128]), z1: torch.Size([8, 128]), z2: torch.Size([8, 128])\n",
      "Shapes - p1: torch.Size([8, 128]), p2: torch.Size([8, 128]), z1: torch.Size([8, 128]), z2: torch.Size([8, 128])\n",
      "Shapes - p1: torch.Size([8, 128]), p2: torch.Size([8, 128]), z1: torch.Size([8, 128]), z2: torch.Size([8, 128])\n",
      "Shapes - p1: torch.Size([8, 128]), p2: torch.Size([8, 128]), z1: torch.Size([8, 128]), z2: torch.Size([8, 128])\n",
      "Epoch [47/100], Batch [35/55], Loss: 0.0012\n",
      "Shapes - p1: torch.Size([8, 128]), p2: torch.Size([8, 128]), z1: torch.Size([8, 128]), z2: torch.Size([8, 128])\n",
      "Shapes - p1: torch.Size([8, 128]), p2: torch.Size([8, 128]), z1: torch.Size([8, 128]), z2: torch.Size([8, 128])\n",
      "Shapes - p1: torch.Size([8, 128]), p2: torch.Size([8, 128]), z1: torch.Size([8, 128]), z2: torch.Size([8, 128])\n",
      "Shapes - p1: torch.Size([8, 128]), p2: torch.Size([8, 128]), z1: torch.Size([8, 128]), z2: torch.Size([8, 128])\n",
      "Shapes - p1: torch.Size([8, 128]), p2: torch.Size([8, 128]), z1: torch.Size([8, 128]), z2: torch.Size([8, 128])\n",
      "Epoch [47/100], Batch [40/55], Loss: 0.0005\n",
      "Shapes - p1: torch.Size([8, 128]), p2: torch.Size([8, 128]), z1: torch.Size([8, 128]), z2: torch.Size([8, 128])\n",
      "Shapes - p1: torch.Size([8, 128]), p2: torch.Size([8, 128]), z1: torch.Size([8, 128]), z2: torch.Size([8, 128])\n",
      "Shapes - p1: torch.Size([8, 128]), p2: torch.Size([8, 128]), z1: torch.Size([8, 128]), z2: torch.Size([8, 128])\n",
      "Shapes - p1: torch.Size([8, 128]), p2: torch.Size([8, 128]), z1: torch.Size([8, 128]), z2: torch.Size([8, 128])\n",
      "Shapes - p1: torch.Size([8, 128]), p2: torch.Size([8, 128]), z1: torch.Size([8, 128]), z2: torch.Size([8, 128])\n",
      "Epoch [47/100], Batch [45/55], Loss: 0.0028\n",
      "Shapes - p1: torch.Size([8, 128]), p2: torch.Size([8, 128]), z1: torch.Size([8, 128]), z2: torch.Size([8, 128])\n",
      "Shapes - p1: torch.Size([8, 128]), p2: torch.Size([8, 128]), z1: torch.Size([8, 128]), z2: torch.Size([8, 128])\n",
      "Shapes - p1: torch.Size([8, 128]), p2: torch.Size([8, 128]), z1: torch.Size([8, 128]), z2: torch.Size([8, 128])\n",
      "Shapes - p1: torch.Size([8, 128]), p2: torch.Size([8, 128]), z1: torch.Size([8, 128]), z2: torch.Size([8, 128])\n",
      "Shapes - p1: torch.Size([8, 128]), p2: torch.Size([8, 128]), z1: torch.Size([8, 128]), z2: torch.Size([8, 128])\n",
      "Epoch [47/100], Batch [50/55], Loss: 0.0083\n",
      "Shapes - p1: torch.Size([8, 128]), p2: torch.Size([8, 128]), z1: torch.Size([8, 128]), z2: torch.Size([8, 128])\n",
      "Shapes - p1: torch.Size([8, 128]), p2: torch.Size([8, 128]), z1: torch.Size([8, 128]), z2: torch.Size([8, 128])\n",
      "Shapes - p1: torch.Size([8, 128]), p2: torch.Size([8, 128]), z1: torch.Size([8, 128]), z2: torch.Size([8, 128])\n",
      "Shapes - p1: torch.Size([8, 128]), p2: torch.Size([8, 128]), z1: torch.Size([8, 128]), z2: torch.Size([8, 128])\n",
      "Shapes - p1: torch.Size([6, 128]), p2: torch.Size([6, 128]), z1: torch.Size([6, 128]), z2: torch.Size([6, 128])\n",
      "Epoch [47/100], Batch [55/55], Loss: 0.0018\n",
      "✅ Completed Epoch [47/100] | Avg Loss: 0.0032\n",
      "⏳ No Improvement | Patience: 3/15\n",
      "Shapes - p1: torch.Size([8, 128]), p2: torch.Size([8, 128]), z1: torch.Size([8, 128]), z2: torch.Size([8, 128])\n",
      "Shapes - p1: torch.Size([8, 128]), p2: torch.Size([8, 128]), z1: torch.Size([8, 128]), z2: torch.Size([8, 128])\n",
      "Shapes - p1: torch.Size([8, 128]), p2: torch.Size([8, 128]), z1: torch.Size([8, 128]), z2: torch.Size([8, 128])\n",
      "Shapes - p1: torch.Size([8, 128]), p2: torch.Size([8, 128]), z1: torch.Size([8, 128]), z2: torch.Size([8, 128])\n",
      "Shapes - p1: torch.Size([8, 128]), p2: torch.Size([8, 128]), z1: torch.Size([8, 128]), z2: torch.Size([8, 128])\n",
      "Epoch [48/100], Batch [5/55], Loss: 0.0006\n",
      "Shapes - p1: torch.Size([8, 128]), p2: torch.Size([8, 128]), z1: torch.Size([8, 128]), z2: torch.Size([8, 128])\n",
      "Shapes - p1: torch.Size([8, 128]), p2: torch.Size([8, 128]), z1: torch.Size([8, 128]), z2: torch.Size([8, 128])\n",
      "Shapes - p1: torch.Size([8, 128]), p2: torch.Size([8, 128]), z1: torch.Size([8, 128]), z2: torch.Size([8, 128])\n",
      "Shapes - p1: torch.Size([8, 128]), p2: torch.Size([8, 128]), z1: torch.Size([8, 128]), z2: torch.Size([8, 128])\n",
      "Shapes - p1: torch.Size([8, 128]), p2: torch.Size([8, 128]), z1: torch.Size([8, 128]), z2: torch.Size([8, 128])\n",
      "Epoch [48/100], Batch [10/55], Loss: 0.0254\n",
      "Shapes - p1: torch.Size([8, 128]), p2: torch.Size([8, 128]), z1: torch.Size([8, 128]), z2: torch.Size([8, 128])\n",
      "Shapes - p1: torch.Size([8, 128]), p2: torch.Size([8, 128]), z1: torch.Size([8, 128]), z2: torch.Size([8, 128])\n",
      "Shapes - p1: torch.Size([8, 128]), p2: torch.Size([8, 128]), z1: torch.Size([8, 128]), z2: torch.Size([8, 128])\n",
      "Shapes - p1: torch.Size([8, 128]), p2: torch.Size([8, 128]), z1: torch.Size([8, 128]), z2: torch.Size([8, 128])\n",
      "Shapes - p1: torch.Size([8, 128]), p2: torch.Size([8, 128]), z1: torch.Size([8, 128]), z2: torch.Size([8, 128])\n",
      "Epoch [48/100], Batch [15/55], Loss: 0.0012\n",
      "Shapes - p1: torch.Size([8, 128]), p2: torch.Size([8, 128]), z1: torch.Size([8, 128]), z2: torch.Size([8, 128])\n",
      "Shapes - p1: torch.Size([8, 128]), p2: torch.Size([8, 128]), z1: torch.Size([8, 128]), z2: torch.Size([8, 128])\n",
      "Shapes - p1: torch.Size([8, 128]), p2: torch.Size([8, 128]), z1: torch.Size([8, 128]), z2: torch.Size([8, 128])\n",
      "Shapes - p1: torch.Size([8, 128]), p2: torch.Size([8, 128]), z1: torch.Size([8, 128]), z2: torch.Size([8, 128])\n",
      "Shapes - p1: torch.Size([8, 128]), p2: torch.Size([8, 128]), z1: torch.Size([8, 128]), z2: torch.Size([8, 128])\n",
      "Epoch [48/100], Batch [20/55], Loss: 0.0033\n",
      "Shapes - p1: torch.Size([8, 128]), p2: torch.Size([8, 128]), z1: torch.Size([8, 128]), z2: torch.Size([8, 128])\n",
      "Shapes - p1: torch.Size([8, 128]), p2: torch.Size([8, 128]), z1: torch.Size([8, 128]), z2: torch.Size([8, 128])\n",
      "Shapes - p1: torch.Size([8, 128]), p2: torch.Size([8, 128]), z1: torch.Size([8, 128]), z2: torch.Size([8, 128])\n",
      "Shapes - p1: torch.Size([8, 128]), p2: torch.Size([8, 128]), z1: torch.Size([8, 128]), z2: torch.Size([8, 128])\n",
      "Shapes - p1: torch.Size([8, 128]), p2: torch.Size([8, 128]), z1: torch.Size([8, 128]), z2: torch.Size([8, 128])\n",
      "Epoch [48/100], Batch [25/55], Loss: 0.0070\n",
      "Shapes - p1: torch.Size([8, 128]), p2: torch.Size([8, 128]), z1: torch.Size([8, 128]), z2: torch.Size([8, 128])\n",
      "Shapes - p1: torch.Size([8, 128]), p2: torch.Size([8, 128]), z1: torch.Size([8, 128]), z2: torch.Size([8, 128])\n",
      "Shapes - p1: torch.Size([8, 128]), p2: torch.Size([8, 128]), z1: torch.Size([8, 128]), z2: torch.Size([8, 128])\n",
      "Shapes - p1: torch.Size([8, 128]), p2: torch.Size([8, 128]), z1: torch.Size([8, 128]), z2: torch.Size([8, 128])\n",
      "Shapes - p1: torch.Size([8, 128]), p2: torch.Size([8, 128]), z1: torch.Size([8, 128]), z2: torch.Size([8, 128])\n",
      "Epoch [48/100], Batch [30/55], Loss: 0.0014\n",
      "Shapes - p1: torch.Size([8, 128]), p2: torch.Size([8, 128]), z1: torch.Size([8, 128]), z2: torch.Size([8, 128])\n",
      "Shapes - p1: torch.Size([8, 128]), p2: torch.Size([8, 128]), z1: torch.Size([8, 128]), z2: torch.Size([8, 128])\n",
      "Shapes - p1: torch.Size([8, 128]), p2: torch.Size([8, 128]), z1: torch.Size([8, 128]), z2: torch.Size([8, 128])\n",
      "Shapes - p1: torch.Size([8, 128]), p2: torch.Size([8, 128]), z1: torch.Size([8, 128]), z2: torch.Size([8, 128])\n",
      "Shapes - p1: torch.Size([8, 128]), p2: torch.Size([8, 128]), z1: torch.Size([8, 128]), z2: torch.Size([8, 128])\n",
      "Epoch [48/100], Batch [35/55], Loss: 0.0023\n",
      "Shapes - p1: torch.Size([8, 128]), p2: torch.Size([8, 128]), z1: torch.Size([8, 128]), z2: torch.Size([8, 128])\n",
      "Shapes - p1: torch.Size([8, 128]), p2: torch.Size([8, 128]), z1: torch.Size([8, 128]), z2: torch.Size([8, 128])\n",
      "Shapes - p1: torch.Size([8, 128]), p2: torch.Size([8, 128]), z1: torch.Size([8, 128]), z2: torch.Size([8, 128])\n",
      "Shapes - p1: torch.Size([8, 128]), p2: torch.Size([8, 128]), z1: torch.Size([8, 128]), z2: torch.Size([8, 128])\n",
      "Shapes - p1: torch.Size([8, 128]), p2: torch.Size([8, 128]), z1: torch.Size([8, 128]), z2: torch.Size([8, 128])\n",
      "Epoch [48/100], Batch [40/55], Loss: 0.0005\n",
      "Shapes - p1: torch.Size([8, 128]), p2: torch.Size([8, 128]), z1: torch.Size([8, 128]), z2: torch.Size([8, 128])\n",
      "Shapes - p1: torch.Size([8, 128]), p2: torch.Size([8, 128]), z1: torch.Size([8, 128]), z2: torch.Size([8, 128])\n",
      "Shapes - p1: torch.Size([8, 128]), p2: torch.Size([8, 128]), z1: torch.Size([8, 128]), z2: torch.Size([8, 128])\n",
      "Shapes - p1: torch.Size([8, 128]), p2: torch.Size([8, 128]), z1: torch.Size([8, 128]), z2: torch.Size([8, 128])\n",
      "Shapes - p1: torch.Size([8, 128]), p2: torch.Size([8, 128]), z1: torch.Size([8, 128]), z2: torch.Size([8, 128])\n",
      "Epoch [48/100], Batch [45/55], Loss: 0.0053\n",
      "Shapes - p1: torch.Size([8, 128]), p2: torch.Size([8, 128]), z1: torch.Size([8, 128]), z2: torch.Size([8, 128])\n",
      "Shapes - p1: torch.Size([8, 128]), p2: torch.Size([8, 128]), z1: torch.Size([8, 128]), z2: torch.Size([8, 128])\n",
      "Shapes - p1: torch.Size([8, 128]), p2: torch.Size([8, 128]), z1: torch.Size([8, 128]), z2: torch.Size([8, 128])\n",
      "Shapes - p1: torch.Size([8, 128]), p2: torch.Size([8, 128]), z1: torch.Size([8, 128]), z2: torch.Size([8, 128])\n",
      "Shapes - p1: torch.Size([8, 128]), p2: torch.Size([8, 128]), z1: torch.Size([8, 128]), z2: torch.Size([8, 128])\n",
      "Epoch [48/100], Batch [50/55], Loss: 0.0026\n",
      "Shapes - p1: torch.Size([8, 128]), p2: torch.Size([8, 128]), z1: torch.Size([8, 128]), z2: torch.Size([8, 128])\n",
      "Shapes - p1: torch.Size([8, 128]), p2: torch.Size([8, 128]), z1: torch.Size([8, 128]), z2: torch.Size([8, 128])\n",
      "Shapes - p1: torch.Size([8, 128]), p2: torch.Size([8, 128]), z1: torch.Size([8, 128]), z2: torch.Size([8, 128])\n",
      "Shapes - p1: torch.Size([8, 128]), p2: torch.Size([8, 128]), z1: torch.Size([8, 128]), z2: torch.Size([8, 128])\n",
      "Shapes - p1: torch.Size([6, 128]), p2: torch.Size([6, 128]), z1: torch.Size([6, 128]), z2: torch.Size([6, 128])\n",
      "Epoch [48/100], Batch [55/55], Loss: 0.0034\n",
      "✅ Completed Epoch [48/100] | Avg Loss: 0.0035\n",
      "⏳ No Improvement | Patience: 4/15\n",
      "Shapes - p1: torch.Size([8, 128]), p2: torch.Size([8, 128]), z1: torch.Size([8, 128]), z2: torch.Size([8, 128])\n",
      "Shapes - p1: torch.Size([8, 128]), p2: torch.Size([8, 128]), z1: torch.Size([8, 128]), z2: torch.Size([8, 128])\n",
      "Shapes - p1: torch.Size([8, 128]), p2: torch.Size([8, 128]), z1: torch.Size([8, 128]), z2: torch.Size([8, 128])\n",
      "Shapes - p1: torch.Size([8, 128]), p2: torch.Size([8, 128]), z1: torch.Size([8, 128]), z2: torch.Size([8, 128])\n",
      "Shapes - p1: torch.Size([8, 128]), p2: torch.Size([8, 128]), z1: torch.Size([8, 128]), z2: torch.Size([8, 128])\n",
      "Epoch [49/100], Batch [5/55], Loss: 0.0010\n",
      "Shapes - p1: torch.Size([8, 128]), p2: torch.Size([8, 128]), z1: torch.Size([8, 128]), z2: torch.Size([8, 128])\n",
      "Shapes - p1: torch.Size([8, 128]), p2: torch.Size([8, 128]), z1: torch.Size([8, 128]), z2: torch.Size([8, 128])\n",
      "Shapes - p1: torch.Size([8, 128]), p2: torch.Size([8, 128]), z1: torch.Size([8, 128]), z2: torch.Size([8, 128])\n",
      "Shapes - p1: torch.Size([8, 128]), p2: torch.Size([8, 128]), z1: torch.Size([8, 128]), z2: torch.Size([8, 128])\n",
      "Shapes - p1: torch.Size([8, 128]), p2: torch.Size([8, 128]), z1: torch.Size([8, 128]), z2: torch.Size([8, 128])\n",
      "Epoch [49/100], Batch [10/55], Loss: 0.0006\n",
      "Shapes - p1: torch.Size([8, 128]), p2: torch.Size([8, 128]), z1: torch.Size([8, 128]), z2: torch.Size([8, 128])\n",
      "Shapes - p1: torch.Size([8, 128]), p2: torch.Size([8, 128]), z1: torch.Size([8, 128]), z2: torch.Size([8, 128])\n",
      "Shapes - p1: torch.Size([8, 128]), p2: torch.Size([8, 128]), z1: torch.Size([8, 128]), z2: torch.Size([8, 128])\n",
      "Shapes - p1: torch.Size([8, 128]), p2: torch.Size([8, 128]), z1: torch.Size([8, 128]), z2: torch.Size([8, 128])\n",
      "Shapes - p1: torch.Size([8, 128]), p2: torch.Size([8, 128]), z1: torch.Size([8, 128]), z2: torch.Size([8, 128])\n",
      "Epoch [49/100], Batch [15/55], Loss: 0.0010\n",
      "Shapes - p1: torch.Size([8, 128]), p2: torch.Size([8, 128]), z1: torch.Size([8, 128]), z2: torch.Size([8, 128])\n",
      "Shapes - p1: torch.Size([8, 128]), p2: torch.Size([8, 128]), z1: torch.Size([8, 128]), z2: torch.Size([8, 128])\n",
      "Shapes - p1: torch.Size([8, 128]), p2: torch.Size([8, 128]), z1: torch.Size([8, 128]), z2: torch.Size([8, 128])\n",
      "Shapes - p1: torch.Size([8, 128]), p2: torch.Size([8, 128]), z1: torch.Size([8, 128]), z2: torch.Size([8, 128])\n",
      "Shapes - p1: torch.Size([8, 128]), p2: torch.Size([8, 128]), z1: torch.Size([8, 128]), z2: torch.Size([8, 128])\n",
      "Epoch [49/100], Batch [20/55], Loss: 0.0027\n",
      "Shapes - p1: torch.Size([8, 128]), p2: torch.Size([8, 128]), z1: torch.Size([8, 128]), z2: torch.Size([8, 128])\n",
      "Shapes - p1: torch.Size([8, 128]), p2: torch.Size([8, 128]), z1: torch.Size([8, 128]), z2: torch.Size([8, 128])\n",
      "Shapes - p1: torch.Size([8, 128]), p2: torch.Size([8, 128]), z1: torch.Size([8, 128]), z2: torch.Size([8, 128])\n",
      "Shapes - p1: torch.Size([8, 128]), p2: torch.Size([8, 128]), z1: torch.Size([8, 128]), z2: torch.Size([8, 128])\n",
      "Shapes - p1: torch.Size([8, 128]), p2: torch.Size([8, 128]), z1: torch.Size([8, 128]), z2: torch.Size([8, 128])\n",
      "Epoch [49/100], Batch [25/55], Loss: 0.0019\n",
      "Shapes - p1: torch.Size([8, 128]), p2: torch.Size([8, 128]), z1: torch.Size([8, 128]), z2: torch.Size([8, 128])\n",
      "Shapes - p1: torch.Size([8, 128]), p2: torch.Size([8, 128]), z1: torch.Size([8, 128]), z2: torch.Size([8, 128])\n",
      "Shapes - p1: torch.Size([8, 128]), p2: torch.Size([8, 128]), z1: torch.Size([8, 128]), z2: torch.Size([8, 128])\n",
      "Shapes - p1: torch.Size([8, 128]), p2: torch.Size([8, 128]), z1: torch.Size([8, 128]), z2: torch.Size([8, 128])\n",
      "Shapes - p1: torch.Size([8, 128]), p2: torch.Size([8, 128]), z1: torch.Size([8, 128]), z2: torch.Size([8, 128])\n",
      "Epoch [49/100], Batch [30/55], Loss: 0.0036\n",
      "Shapes - p1: torch.Size([8, 128]), p2: torch.Size([8, 128]), z1: torch.Size([8, 128]), z2: torch.Size([8, 128])\n",
      "Shapes - p1: torch.Size([8, 128]), p2: torch.Size([8, 128]), z1: torch.Size([8, 128]), z2: torch.Size([8, 128])\n",
      "Shapes - p1: torch.Size([8, 128]), p2: torch.Size([8, 128]), z1: torch.Size([8, 128]), z2: torch.Size([8, 128])\n",
      "Shapes - p1: torch.Size([8, 128]), p2: torch.Size([8, 128]), z1: torch.Size([8, 128]), z2: torch.Size([8, 128])\n",
      "Shapes - p1: torch.Size([8, 128]), p2: torch.Size([8, 128]), z1: torch.Size([8, 128]), z2: torch.Size([8, 128])\n",
      "Epoch [49/100], Batch [35/55], Loss: 0.0056\n",
      "Shapes - p1: torch.Size([8, 128]), p2: torch.Size([8, 128]), z1: torch.Size([8, 128]), z2: torch.Size([8, 128])\n",
      "Shapes - p1: torch.Size([8, 128]), p2: torch.Size([8, 128]), z1: torch.Size([8, 128]), z2: torch.Size([8, 128])\n",
      "Shapes - p1: torch.Size([8, 128]), p2: torch.Size([8, 128]), z1: torch.Size([8, 128]), z2: torch.Size([8, 128])\n",
      "Shapes - p1: torch.Size([8, 128]), p2: torch.Size([8, 128]), z1: torch.Size([8, 128]), z2: torch.Size([8, 128])\n",
      "Shapes - p1: torch.Size([8, 128]), p2: torch.Size([8, 128]), z1: torch.Size([8, 128]), z2: torch.Size([8, 128])\n",
      "Epoch [49/100], Batch [40/55], Loss: 0.0005\n",
      "Shapes - p1: torch.Size([8, 128]), p2: torch.Size([8, 128]), z1: torch.Size([8, 128]), z2: torch.Size([8, 128])\n",
      "Shapes - p1: torch.Size([8, 128]), p2: torch.Size([8, 128]), z1: torch.Size([8, 128]), z2: torch.Size([8, 128])\n",
      "Shapes - p1: torch.Size([8, 128]), p2: torch.Size([8, 128]), z1: torch.Size([8, 128]), z2: torch.Size([8, 128])\n",
      "Shapes - p1: torch.Size([8, 128]), p2: torch.Size([8, 128]), z1: torch.Size([8, 128]), z2: torch.Size([8, 128])\n",
      "Shapes - p1: torch.Size([8, 128]), p2: torch.Size([8, 128]), z1: torch.Size([8, 128]), z2: torch.Size([8, 128])\n",
      "Epoch [49/100], Batch [45/55], Loss: 0.0175\n",
      "Shapes - p1: torch.Size([8, 128]), p2: torch.Size([8, 128]), z1: torch.Size([8, 128]), z2: torch.Size([8, 128])\n",
      "Shapes - p1: torch.Size([8, 128]), p2: torch.Size([8, 128]), z1: torch.Size([8, 128]), z2: torch.Size([8, 128])\n",
      "Shapes - p1: torch.Size([8, 128]), p2: torch.Size([8, 128]), z1: torch.Size([8, 128]), z2: torch.Size([8, 128])\n",
      "Shapes - p1: torch.Size([8, 128]), p2: torch.Size([8, 128]), z1: torch.Size([8, 128]), z2: torch.Size([8, 128])\n",
      "Shapes - p1: torch.Size([8, 128]), p2: torch.Size([8, 128]), z1: torch.Size([8, 128]), z2: torch.Size([8, 128])\n",
      "Epoch [49/100], Batch [50/55], Loss: 0.0006\n",
      "Shapes - p1: torch.Size([8, 128]), p2: torch.Size([8, 128]), z1: torch.Size([8, 128]), z2: torch.Size([8, 128])\n",
      "Shapes - p1: torch.Size([8, 128]), p2: torch.Size([8, 128]), z1: torch.Size([8, 128]), z2: torch.Size([8, 128])\n",
      "Shapes - p1: torch.Size([8, 128]), p2: torch.Size([8, 128]), z1: torch.Size([8, 128]), z2: torch.Size([8, 128])\n",
      "Shapes - p1: torch.Size([8, 128]), p2: torch.Size([8, 128]), z1: torch.Size([8, 128]), z2: torch.Size([8, 128])\n",
      "Shapes - p1: torch.Size([6, 128]), p2: torch.Size([6, 128]), z1: torch.Size([6, 128]), z2: torch.Size([6, 128])\n",
      "Epoch [49/100], Batch [55/55], Loss: 0.0033\n",
      "✅ Completed Epoch [49/100] | Avg Loss: 0.0047\n",
      "⏳ No Improvement | Patience: 5/15\n",
      "Shapes - p1: torch.Size([8, 128]), p2: torch.Size([8, 128]), z1: torch.Size([8, 128]), z2: torch.Size([8, 128])\n",
      "Shapes - p1: torch.Size([8, 128]), p2: torch.Size([8, 128]), z1: torch.Size([8, 128]), z2: torch.Size([8, 128])\n",
      "Shapes - p1: torch.Size([8, 128]), p2: torch.Size([8, 128]), z1: torch.Size([8, 128]), z2: torch.Size([8, 128])\n",
      "Shapes - p1: torch.Size([8, 128]), p2: torch.Size([8, 128]), z1: torch.Size([8, 128]), z2: torch.Size([8, 128])\n",
      "Shapes - p1: torch.Size([8, 128]), p2: torch.Size([8, 128]), z1: torch.Size([8, 128]), z2: torch.Size([8, 128])\n",
      "Epoch [50/100], Batch [5/55], Loss: 0.0005\n",
      "Shapes - p1: torch.Size([8, 128]), p2: torch.Size([8, 128]), z1: torch.Size([8, 128]), z2: torch.Size([8, 128])\n",
      "Shapes - p1: torch.Size([8, 128]), p2: torch.Size([8, 128]), z1: torch.Size([8, 128]), z2: torch.Size([8, 128])\n",
      "Shapes - p1: torch.Size([8, 128]), p2: torch.Size([8, 128]), z1: torch.Size([8, 128]), z2: torch.Size([8, 128])\n",
      "Shapes - p1: torch.Size([8, 128]), p2: torch.Size([8, 128]), z1: torch.Size([8, 128]), z2: torch.Size([8, 128])\n",
      "Shapes - p1: torch.Size([8, 128]), p2: torch.Size([8, 128]), z1: torch.Size([8, 128]), z2: torch.Size([8, 128])\n",
      "Epoch [50/100], Batch [10/55], Loss: 0.0016\n",
      "Shapes - p1: torch.Size([8, 128]), p2: torch.Size([8, 128]), z1: torch.Size([8, 128]), z2: torch.Size([8, 128])\n",
      "Shapes - p1: torch.Size([8, 128]), p2: torch.Size([8, 128]), z1: torch.Size([8, 128]), z2: torch.Size([8, 128])\n",
      "Shapes - p1: torch.Size([8, 128]), p2: torch.Size([8, 128]), z1: torch.Size([8, 128]), z2: torch.Size([8, 128])\n",
      "Shapes - p1: torch.Size([8, 128]), p2: torch.Size([8, 128]), z1: torch.Size([8, 128]), z2: torch.Size([8, 128])\n",
      "Shapes - p1: torch.Size([8, 128]), p2: torch.Size([8, 128]), z1: torch.Size([8, 128]), z2: torch.Size([8, 128])\n",
      "Epoch [50/100], Batch [15/55], Loss: 0.0009\n",
      "Shapes - p1: torch.Size([8, 128]), p2: torch.Size([8, 128]), z1: torch.Size([8, 128]), z2: torch.Size([8, 128])\n",
      "Shapes - p1: torch.Size([8, 128]), p2: torch.Size([8, 128]), z1: torch.Size([8, 128]), z2: torch.Size([8, 128])\n",
      "Shapes - p1: torch.Size([8, 128]), p2: torch.Size([8, 128]), z1: torch.Size([8, 128]), z2: torch.Size([8, 128])\n",
      "Shapes - p1: torch.Size([8, 128]), p2: torch.Size([8, 128]), z1: torch.Size([8, 128]), z2: torch.Size([8, 128])\n",
      "Shapes - p1: torch.Size([8, 128]), p2: torch.Size([8, 128]), z1: torch.Size([8, 128]), z2: torch.Size([8, 128])\n",
      "Epoch [50/100], Batch [20/55], Loss: 0.0009\n",
      "Shapes - p1: torch.Size([8, 128]), p2: torch.Size([8, 128]), z1: torch.Size([8, 128]), z2: torch.Size([8, 128])\n",
      "Shapes - p1: torch.Size([8, 128]), p2: torch.Size([8, 128]), z1: torch.Size([8, 128]), z2: torch.Size([8, 128])\n",
      "Shapes - p1: torch.Size([8, 128]), p2: torch.Size([8, 128]), z1: torch.Size([8, 128]), z2: torch.Size([8, 128])\n",
      "Shapes - p1: torch.Size([8, 128]), p2: torch.Size([8, 128]), z1: torch.Size([8, 128]), z2: torch.Size([8, 128])\n",
      "Shapes - p1: torch.Size([8, 128]), p2: torch.Size([8, 128]), z1: torch.Size([8, 128]), z2: torch.Size([8, 128])\n",
      "Epoch [50/100], Batch [25/55], Loss: 0.0629\n",
      "Shapes - p1: torch.Size([8, 128]), p2: torch.Size([8, 128]), z1: torch.Size([8, 128]), z2: torch.Size([8, 128])\n",
      "Shapes - p1: torch.Size([8, 128]), p2: torch.Size([8, 128]), z1: torch.Size([8, 128]), z2: torch.Size([8, 128])\n",
      "Shapes - p1: torch.Size([8, 128]), p2: torch.Size([8, 128]), z1: torch.Size([8, 128]), z2: torch.Size([8, 128])\n",
      "Shapes - p1: torch.Size([8, 128]), p2: torch.Size([8, 128]), z1: torch.Size([8, 128]), z2: torch.Size([8, 128])\n",
      "Shapes - p1: torch.Size([8, 128]), p2: torch.Size([8, 128]), z1: torch.Size([8, 128]), z2: torch.Size([8, 128])\n",
      "Epoch [50/100], Batch [30/55], Loss: 0.0015\n",
      "Shapes - p1: torch.Size([8, 128]), p2: torch.Size([8, 128]), z1: torch.Size([8, 128]), z2: torch.Size([8, 128])\n",
      "Shapes - p1: torch.Size([8, 128]), p2: torch.Size([8, 128]), z1: torch.Size([8, 128]), z2: torch.Size([8, 128])\n",
      "Shapes - p1: torch.Size([8, 128]), p2: torch.Size([8, 128]), z1: torch.Size([8, 128]), z2: torch.Size([8, 128])\n",
      "Shapes - p1: torch.Size([8, 128]), p2: torch.Size([8, 128]), z1: torch.Size([8, 128]), z2: torch.Size([8, 128])\n",
      "Shapes - p1: torch.Size([8, 128]), p2: torch.Size([8, 128]), z1: torch.Size([8, 128]), z2: torch.Size([8, 128])\n",
      "Epoch [50/100], Batch [35/55], Loss: 0.0012\n",
      "Shapes - p1: torch.Size([8, 128]), p2: torch.Size([8, 128]), z1: torch.Size([8, 128]), z2: torch.Size([8, 128])\n",
      "Shapes - p1: torch.Size([8, 128]), p2: torch.Size([8, 128]), z1: torch.Size([8, 128]), z2: torch.Size([8, 128])\n",
      "Shapes - p1: torch.Size([8, 128]), p2: torch.Size([8, 128]), z1: torch.Size([8, 128]), z2: torch.Size([8, 128])\n",
      "Shapes - p1: torch.Size([8, 128]), p2: torch.Size([8, 128]), z1: torch.Size([8, 128]), z2: torch.Size([8, 128])\n",
      "Shapes - p1: torch.Size([8, 128]), p2: torch.Size([8, 128]), z1: torch.Size([8, 128]), z2: torch.Size([8, 128])\n",
      "Epoch [50/100], Batch [40/55], Loss: 0.0019\n",
      "Shapes - p1: torch.Size([8, 128]), p2: torch.Size([8, 128]), z1: torch.Size([8, 128]), z2: torch.Size([8, 128])\n",
      "Shapes - p1: torch.Size([8, 128]), p2: torch.Size([8, 128]), z1: torch.Size([8, 128]), z2: torch.Size([8, 128])\n",
      "Shapes - p1: torch.Size([8, 128]), p2: torch.Size([8, 128]), z1: torch.Size([8, 128]), z2: torch.Size([8, 128])\n",
      "Shapes - p1: torch.Size([8, 128]), p2: torch.Size([8, 128]), z1: torch.Size([8, 128]), z2: torch.Size([8, 128])\n",
      "Shapes - p1: torch.Size([8, 128]), p2: torch.Size([8, 128]), z1: torch.Size([8, 128]), z2: torch.Size([8, 128])\n",
      "Epoch [50/100], Batch [45/55], Loss: 0.0009\n",
      "Shapes - p1: torch.Size([8, 128]), p2: torch.Size([8, 128]), z1: torch.Size([8, 128]), z2: torch.Size([8, 128])\n",
      "Shapes - p1: torch.Size([8, 128]), p2: torch.Size([8, 128]), z1: torch.Size([8, 128]), z2: torch.Size([8, 128])\n",
      "Shapes - p1: torch.Size([8, 128]), p2: torch.Size([8, 128]), z1: torch.Size([8, 128]), z2: torch.Size([8, 128])\n",
      "Shapes - p1: torch.Size([8, 128]), p2: torch.Size([8, 128]), z1: torch.Size([8, 128]), z2: torch.Size([8, 128])\n",
      "Shapes - p1: torch.Size([8, 128]), p2: torch.Size([8, 128]), z1: torch.Size([8, 128]), z2: torch.Size([8, 128])\n",
      "Epoch [50/100], Batch [50/55], Loss: 0.0007\n",
      "Shapes - p1: torch.Size([8, 128]), p2: torch.Size([8, 128]), z1: torch.Size([8, 128]), z2: torch.Size([8, 128])\n",
      "Shapes - p1: torch.Size([8, 128]), p2: torch.Size([8, 128]), z1: torch.Size([8, 128]), z2: torch.Size([8, 128])\n",
      "Shapes - p1: torch.Size([8, 128]), p2: torch.Size([8, 128]), z1: torch.Size([8, 128]), z2: torch.Size([8, 128])\n",
      "Shapes - p1: torch.Size([8, 128]), p2: torch.Size([8, 128]), z1: torch.Size([8, 128]), z2: torch.Size([8, 128])\n",
      "Shapes - p1: torch.Size([6, 128]), p2: torch.Size([6, 128]), z1: torch.Size([6, 128]), z2: torch.Size([6, 128])\n",
      "Epoch [50/100], Batch [55/55], Loss: 0.0010\n",
      "✅ Completed Epoch [50/100] | Avg Loss: 0.0047\n",
      "⏳ No Improvement | Patience: 6/15\n",
      "Shapes - p1: torch.Size([8, 128]), p2: torch.Size([8, 128]), z1: torch.Size([8, 128]), z2: torch.Size([8, 128])\n",
      "Shapes - p1: torch.Size([8, 128]), p2: torch.Size([8, 128]), z1: torch.Size([8, 128]), z2: torch.Size([8, 128])\n",
      "Shapes - p1: torch.Size([8, 128]), p2: torch.Size([8, 128]), z1: torch.Size([8, 128]), z2: torch.Size([8, 128])\n",
      "Shapes - p1: torch.Size([8, 128]), p2: torch.Size([8, 128]), z1: torch.Size([8, 128]), z2: torch.Size([8, 128])\n",
      "Shapes - p1: torch.Size([8, 128]), p2: torch.Size([8, 128]), z1: torch.Size([8, 128]), z2: torch.Size([8, 128])\n",
      "Epoch [51/100], Batch [5/55], Loss: 0.0035\n",
      "Shapes - p1: torch.Size([8, 128]), p2: torch.Size([8, 128]), z1: torch.Size([8, 128]), z2: torch.Size([8, 128])\n",
      "Shapes - p1: torch.Size([8, 128]), p2: torch.Size([8, 128]), z1: torch.Size([8, 128]), z2: torch.Size([8, 128])\n",
      "Shapes - p1: torch.Size([8, 128]), p2: torch.Size([8, 128]), z1: torch.Size([8, 128]), z2: torch.Size([8, 128])\n",
      "Shapes - p1: torch.Size([8, 128]), p2: torch.Size([8, 128]), z1: torch.Size([8, 128]), z2: torch.Size([8, 128])\n",
      "Shapes - p1: torch.Size([8, 128]), p2: torch.Size([8, 128]), z1: torch.Size([8, 128]), z2: torch.Size([8, 128])\n",
      "Epoch [51/100], Batch [10/55], Loss: 0.0009\n",
      "Shapes - p1: torch.Size([8, 128]), p2: torch.Size([8, 128]), z1: torch.Size([8, 128]), z2: torch.Size([8, 128])\n",
      "Shapes - p1: torch.Size([8, 128]), p2: torch.Size([8, 128]), z1: torch.Size([8, 128]), z2: torch.Size([8, 128])\n",
      "Shapes - p1: torch.Size([8, 128]), p2: torch.Size([8, 128]), z1: torch.Size([8, 128]), z2: torch.Size([8, 128])\n",
      "Shapes - p1: torch.Size([8, 128]), p2: torch.Size([8, 128]), z1: torch.Size([8, 128]), z2: torch.Size([8, 128])\n",
      "Shapes - p1: torch.Size([8, 128]), p2: torch.Size([8, 128]), z1: torch.Size([8, 128]), z2: torch.Size([8, 128])\n",
      "Epoch [51/100], Batch [15/55], Loss: 0.0021\n",
      "Shapes - p1: torch.Size([8, 128]), p2: torch.Size([8, 128]), z1: torch.Size([8, 128]), z2: torch.Size([8, 128])\n",
      "Shapes - p1: torch.Size([8, 128]), p2: torch.Size([8, 128]), z1: torch.Size([8, 128]), z2: torch.Size([8, 128])\n",
      "Shapes - p1: torch.Size([8, 128]), p2: torch.Size([8, 128]), z1: torch.Size([8, 128]), z2: torch.Size([8, 128])\n",
      "Shapes - p1: torch.Size([8, 128]), p2: torch.Size([8, 128]), z1: torch.Size([8, 128]), z2: torch.Size([8, 128])\n",
      "Shapes - p1: torch.Size([8, 128]), p2: torch.Size([8, 128]), z1: torch.Size([8, 128]), z2: torch.Size([8, 128])\n",
      "Epoch [51/100], Batch [20/55], Loss: 0.0006\n",
      "Shapes - p1: torch.Size([8, 128]), p2: torch.Size([8, 128]), z1: torch.Size([8, 128]), z2: torch.Size([8, 128])\n",
      "Shapes - p1: torch.Size([8, 128]), p2: torch.Size([8, 128]), z1: torch.Size([8, 128]), z2: torch.Size([8, 128])\n",
      "Shapes - p1: torch.Size([8, 128]), p2: torch.Size([8, 128]), z1: torch.Size([8, 128]), z2: torch.Size([8, 128])\n",
      "Shapes - p1: torch.Size([8, 128]), p2: torch.Size([8, 128]), z1: torch.Size([8, 128]), z2: torch.Size([8, 128])\n",
      "Shapes - p1: torch.Size([8, 128]), p2: torch.Size([8, 128]), z1: torch.Size([8, 128]), z2: torch.Size([8, 128])\n",
      "Epoch [51/100], Batch [25/55], Loss: 0.0006\n",
      "Shapes - p1: torch.Size([8, 128]), p2: torch.Size([8, 128]), z1: torch.Size([8, 128]), z2: torch.Size([8, 128])\n",
      "Shapes - p1: torch.Size([8, 128]), p2: torch.Size([8, 128]), z1: torch.Size([8, 128]), z2: torch.Size([8, 128])\n",
      "Shapes - p1: torch.Size([8, 128]), p2: torch.Size([8, 128]), z1: torch.Size([8, 128]), z2: torch.Size([8, 128])\n",
      "Shapes - p1: torch.Size([8, 128]), p2: torch.Size([8, 128]), z1: torch.Size([8, 128]), z2: torch.Size([8, 128])\n",
      "Shapes - p1: torch.Size([8, 128]), p2: torch.Size([8, 128]), z1: torch.Size([8, 128]), z2: torch.Size([8, 128])\n",
      "Epoch [51/100], Batch [30/55], Loss: 0.0042\n",
      "Shapes - p1: torch.Size([8, 128]), p2: torch.Size([8, 128]), z1: torch.Size([8, 128]), z2: torch.Size([8, 128])\n",
      "Shapes - p1: torch.Size([8, 128]), p2: torch.Size([8, 128]), z1: torch.Size([8, 128]), z2: torch.Size([8, 128])\n",
      "Shapes - p1: torch.Size([8, 128]), p2: torch.Size([8, 128]), z1: torch.Size([8, 128]), z2: torch.Size([8, 128])\n",
      "Shapes - p1: torch.Size([8, 128]), p2: torch.Size([8, 128]), z1: torch.Size([8, 128]), z2: torch.Size([8, 128])\n",
      "Shapes - p1: torch.Size([8, 128]), p2: torch.Size([8, 128]), z1: torch.Size([8, 128]), z2: torch.Size([8, 128])\n",
      "Epoch [51/100], Batch [35/55], Loss: 0.0008\n",
      "Shapes - p1: torch.Size([8, 128]), p2: torch.Size([8, 128]), z1: torch.Size([8, 128]), z2: torch.Size([8, 128])\n",
      "Shapes - p1: torch.Size([8, 128]), p2: torch.Size([8, 128]), z1: torch.Size([8, 128]), z2: torch.Size([8, 128])\n",
      "Shapes - p1: torch.Size([8, 128]), p2: torch.Size([8, 128]), z1: torch.Size([8, 128]), z2: torch.Size([8, 128])\n",
      "Shapes - p1: torch.Size([8, 128]), p2: torch.Size([8, 128]), z1: torch.Size([8, 128]), z2: torch.Size([8, 128])\n",
      "Shapes - p1: torch.Size([8, 128]), p2: torch.Size([8, 128]), z1: torch.Size([8, 128]), z2: torch.Size([8, 128])\n",
      "Epoch [51/100], Batch [40/55], Loss: 0.0060\n",
      "Shapes - p1: torch.Size([8, 128]), p2: torch.Size([8, 128]), z1: torch.Size([8, 128]), z2: torch.Size([8, 128])\n",
      "Shapes - p1: torch.Size([8, 128]), p2: torch.Size([8, 128]), z1: torch.Size([8, 128]), z2: torch.Size([8, 128])\n",
      "Shapes - p1: torch.Size([8, 128]), p2: torch.Size([8, 128]), z1: torch.Size([8, 128]), z2: torch.Size([8, 128])\n",
      "Shapes - p1: torch.Size([8, 128]), p2: torch.Size([8, 128]), z1: torch.Size([8, 128]), z2: torch.Size([8, 128])\n",
      "Shapes - p1: torch.Size([8, 128]), p2: torch.Size([8, 128]), z1: torch.Size([8, 128]), z2: torch.Size([8, 128])\n",
      "Epoch [51/100], Batch [45/55], Loss: 0.0030\n",
      "Shapes - p1: torch.Size([8, 128]), p2: torch.Size([8, 128]), z1: torch.Size([8, 128]), z2: torch.Size([8, 128])\n",
      "Shapes - p1: torch.Size([8, 128]), p2: torch.Size([8, 128]), z1: torch.Size([8, 128]), z2: torch.Size([8, 128])\n",
      "Shapes - p1: torch.Size([8, 128]), p2: torch.Size([8, 128]), z1: torch.Size([8, 128]), z2: torch.Size([8, 128])\n",
      "Shapes - p1: torch.Size([8, 128]), p2: torch.Size([8, 128]), z1: torch.Size([8, 128]), z2: torch.Size([8, 128])\n",
      "Shapes - p1: torch.Size([8, 128]), p2: torch.Size([8, 128]), z1: torch.Size([8, 128]), z2: torch.Size([8, 128])\n",
      "Epoch [51/100], Batch [50/55], Loss: 0.0004\n",
      "Shapes - p1: torch.Size([8, 128]), p2: torch.Size([8, 128]), z1: torch.Size([8, 128]), z2: torch.Size([8, 128])\n",
      "Shapes - p1: torch.Size([8, 128]), p2: torch.Size([8, 128]), z1: torch.Size([8, 128]), z2: torch.Size([8, 128])\n",
      "Shapes - p1: torch.Size([8, 128]), p2: torch.Size([8, 128]), z1: torch.Size([8, 128]), z2: torch.Size([8, 128])\n",
      "Shapes - p1: torch.Size([8, 128]), p2: torch.Size([8, 128]), z1: torch.Size([8, 128]), z2: torch.Size([8, 128])\n",
      "Shapes - p1: torch.Size([6, 128]), p2: torch.Size([6, 128]), z1: torch.Size([6, 128]), z2: torch.Size([6, 128])\n",
      "Epoch [51/100], Batch [55/55], Loss: 0.0008\n",
      "✅ Completed Epoch [51/100] | Avg Loss: 0.0028\n",
      "⏳ No Improvement | Patience: 7/15\n",
      "Shapes - p1: torch.Size([8, 128]), p2: torch.Size([8, 128]), z1: torch.Size([8, 128]), z2: torch.Size([8, 128])\n",
      "Shapes - p1: torch.Size([8, 128]), p2: torch.Size([8, 128]), z1: torch.Size([8, 128]), z2: torch.Size([8, 128])\n",
      "Shapes - p1: torch.Size([8, 128]), p2: torch.Size([8, 128]), z1: torch.Size([8, 128]), z2: torch.Size([8, 128])\n",
      "Shapes - p1: torch.Size([8, 128]), p2: torch.Size([8, 128]), z1: torch.Size([8, 128]), z2: torch.Size([8, 128])\n",
      "Shapes - p1: torch.Size([8, 128]), p2: torch.Size([8, 128]), z1: torch.Size([8, 128]), z2: torch.Size([8, 128])\n",
      "Epoch [52/100], Batch [5/55], Loss: 0.0017\n",
      "Shapes - p1: torch.Size([8, 128]), p2: torch.Size([8, 128]), z1: torch.Size([8, 128]), z2: torch.Size([8, 128])\n",
      "Shapes - p1: torch.Size([8, 128]), p2: torch.Size([8, 128]), z1: torch.Size([8, 128]), z2: torch.Size([8, 128])\n",
      "Shapes - p1: torch.Size([8, 128]), p2: torch.Size([8, 128]), z1: torch.Size([8, 128]), z2: torch.Size([8, 128])\n",
      "Shapes - p1: torch.Size([8, 128]), p2: torch.Size([8, 128]), z1: torch.Size([8, 128]), z2: torch.Size([8, 128])\n",
      "Shapes - p1: torch.Size([8, 128]), p2: torch.Size([8, 128]), z1: torch.Size([8, 128]), z2: torch.Size([8, 128])\n",
      "Epoch [52/100], Batch [10/55], Loss: 0.0022\n",
      "Shapes - p1: torch.Size([8, 128]), p2: torch.Size([8, 128]), z1: torch.Size([8, 128]), z2: torch.Size([8, 128])\n",
      "Shapes - p1: torch.Size([8, 128]), p2: torch.Size([8, 128]), z1: torch.Size([8, 128]), z2: torch.Size([8, 128])\n",
      "Shapes - p1: torch.Size([8, 128]), p2: torch.Size([8, 128]), z1: torch.Size([8, 128]), z2: torch.Size([8, 128])\n",
      "Shapes - p1: torch.Size([8, 128]), p2: torch.Size([8, 128]), z1: torch.Size([8, 128]), z2: torch.Size([8, 128])\n",
      "Shapes - p1: torch.Size([8, 128]), p2: torch.Size([8, 128]), z1: torch.Size([8, 128]), z2: torch.Size([8, 128])\n",
      "Epoch [52/100], Batch [15/55], Loss: 0.0093\n",
      "Shapes - p1: torch.Size([8, 128]), p2: torch.Size([8, 128]), z1: torch.Size([8, 128]), z2: torch.Size([8, 128])\n",
      "Shapes - p1: torch.Size([8, 128]), p2: torch.Size([8, 128]), z1: torch.Size([8, 128]), z2: torch.Size([8, 128])\n",
      "Shapes - p1: torch.Size([8, 128]), p2: torch.Size([8, 128]), z1: torch.Size([8, 128]), z2: torch.Size([8, 128])\n",
      "Shapes - p1: torch.Size([8, 128]), p2: torch.Size([8, 128]), z1: torch.Size([8, 128]), z2: torch.Size([8, 128])\n",
      "Shapes - p1: torch.Size([8, 128]), p2: torch.Size([8, 128]), z1: torch.Size([8, 128]), z2: torch.Size([8, 128])\n",
      "Epoch [52/100], Batch [20/55], Loss: 0.0013\n",
      "Shapes - p1: torch.Size([8, 128]), p2: torch.Size([8, 128]), z1: torch.Size([8, 128]), z2: torch.Size([8, 128])\n",
      "Shapes - p1: torch.Size([8, 128]), p2: torch.Size([8, 128]), z1: torch.Size([8, 128]), z2: torch.Size([8, 128])\n",
      "Shapes - p1: torch.Size([8, 128]), p2: torch.Size([8, 128]), z1: torch.Size([8, 128]), z2: torch.Size([8, 128])\n",
      "Shapes - p1: torch.Size([8, 128]), p2: torch.Size([8, 128]), z1: torch.Size([8, 128]), z2: torch.Size([8, 128])\n",
      "Shapes - p1: torch.Size([8, 128]), p2: torch.Size([8, 128]), z1: torch.Size([8, 128]), z2: torch.Size([8, 128])\n",
      "Epoch [52/100], Batch [25/55], Loss: 0.0008\n",
      "Shapes - p1: torch.Size([8, 128]), p2: torch.Size([8, 128]), z1: torch.Size([8, 128]), z2: torch.Size([8, 128])\n",
      "Shapes - p1: torch.Size([8, 128]), p2: torch.Size([8, 128]), z1: torch.Size([8, 128]), z2: torch.Size([8, 128])\n",
      "Shapes - p1: torch.Size([8, 128]), p2: torch.Size([8, 128]), z1: torch.Size([8, 128]), z2: torch.Size([8, 128])\n",
      "Shapes - p1: torch.Size([8, 128]), p2: torch.Size([8, 128]), z1: torch.Size([8, 128]), z2: torch.Size([8, 128])\n",
      "Shapes - p1: torch.Size([8, 128]), p2: torch.Size([8, 128]), z1: torch.Size([8, 128]), z2: torch.Size([8, 128])\n",
      "Epoch [52/100], Batch [30/55], Loss: 0.0010\n",
      "Shapes - p1: torch.Size([8, 128]), p2: torch.Size([8, 128]), z1: torch.Size([8, 128]), z2: torch.Size([8, 128])\n",
      "Shapes - p1: torch.Size([8, 128]), p2: torch.Size([8, 128]), z1: torch.Size([8, 128]), z2: torch.Size([8, 128])\n",
      "Shapes - p1: torch.Size([8, 128]), p2: torch.Size([8, 128]), z1: torch.Size([8, 128]), z2: torch.Size([8, 128])\n",
      "Shapes - p1: torch.Size([8, 128]), p2: torch.Size([8, 128]), z1: torch.Size([8, 128]), z2: torch.Size([8, 128])\n",
      "Shapes - p1: torch.Size([8, 128]), p2: torch.Size([8, 128]), z1: torch.Size([8, 128]), z2: torch.Size([8, 128])\n",
      "Epoch [52/100], Batch [35/55], Loss: 0.0008\n",
      "Shapes - p1: torch.Size([8, 128]), p2: torch.Size([8, 128]), z1: torch.Size([8, 128]), z2: torch.Size([8, 128])\n",
      "Shapes - p1: torch.Size([8, 128]), p2: torch.Size([8, 128]), z1: torch.Size([8, 128]), z2: torch.Size([8, 128])\n",
      "Shapes - p1: torch.Size([8, 128]), p2: torch.Size([8, 128]), z1: torch.Size([8, 128]), z2: torch.Size([8, 128])\n",
      "Shapes - p1: torch.Size([8, 128]), p2: torch.Size([8, 128]), z1: torch.Size([8, 128]), z2: torch.Size([8, 128])\n",
      "Shapes - p1: torch.Size([8, 128]), p2: torch.Size([8, 128]), z1: torch.Size([8, 128]), z2: torch.Size([8, 128])\n",
      "Epoch [52/100], Batch [40/55], Loss: 0.0024\n",
      "Shapes - p1: torch.Size([8, 128]), p2: torch.Size([8, 128]), z1: torch.Size([8, 128]), z2: torch.Size([8, 128])\n",
      "Shapes - p1: torch.Size([8, 128]), p2: torch.Size([8, 128]), z1: torch.Size([8, 128]), z2: torch.Size([8, 128])\n",
      "Shapes - p1: torch.Size([8, 128]), p2: torch.Size([8, 128]), z1: torch.Size([8, 128]), z2: torch.Size([8, 128])\n",
      "Shapes - p1: torch.Size([8, 128]), p2: torch.Size([8, 128]), z1: torch.Size([8, 128]), z2: torch.Size([8, 128])\n",
      "Shapes - p1: torch.Size([8, 128]), p2: torch.Size([8, 128]), z1: torch.Size([8, 128]), z2: torch.Size([8, 128])\n",
      "Epoch [52/100], Batch [45/55], Loss: 0.0036\n",
      "Shapes - p1: torch.Size([8, 128]), p2: torch.Size([8, 128]), z1: torch.Size([8, 128]), z2: torch.Size([8, 128])\n",
      "Shapes - p1: torch.Size([8, 128]), p2: torch.Size([8, 128]), z1: torch.Size([8, 128]), z2: torch.Size([8, 128])\n",
      "Shapes - p1: torch.Size([8, 128]), p2: torch.Size([8, 128]), z1: torch.Size([8, 128]), z2: torch.Size([8, 128])\n",
      "Shapes - p1: torch.Size([8, 128]), p2: torch.Size([8, 128]), z1: torch.Size([8, 128]), z2: torch.Size([8, 128])\n",
      "Shapes - p1: torch.Size([8, 128]), p2: torch.Size([8, 128]), z1: torch.Size([8, 128]), z2: torch.Size([8, 128])\n",
      "Epoch [52/100], Batch [50/55], Loss: 0.0052\n",
      "Shapes - p1: torch.Size([8, 128]), p2: torch.Size([8, 128]), z1: torch.Size([8, 128]), z2: torch.Size([8, 128])\n",
      "Shapes - p1: torch.Size([8, 128]), p2: torch.Size([8, 128]), z1: torch.Size([8, 128]), z2: torch.Size([8, 128])\n",
      "Shapes - p1: torch.Size([8, 128]), p2: torch.Size([8, 128]), z1: torch.Size([8, 128]), z2: torch.Size([8, 128])\n",
      "Shapes - p1: torch.Size([8, 128]), p2: torch.Size([8, 128]), z1: torch.Size([8, 128]), z2: torch.Size([8, 128])\n",
      "Shapes - p1: torch.Size([6, 128]), p2: torch.Size([6, 128]), z1: torch.Size([6, 128]), z2: torch.Size([6, 128])\n",
      "Epoch [52/100], Batch [55/55], Loss: 0.0066\n",
      "✅ Completed Epoch [52/100] | Avg Loss: 0.0027\n",
      "⏳ No Improvement | Patience: 8/15\n",
      "Shapes - p1: torch.Size([8, 128]), p2: torch.Size([8, 128]), z1: torch.Size([8, 128]), z2: torch.Size([8, 128])\n",
      "Shapes - p1: torch.Size([8, 128]), p2: torch.Size([8, 128]), z1: torch.Size([8, 128]), z2: torch.Size([8, 128])\n",
      "Shapes - p1: torch.Size([8, 128]), p2: torch.Size([8, 128]), z1: torch.Size([8, 128]), z2: torch.Size([8, 128])\n",
      "Shapes - p1: torch.Size([8, 128]), p2: torch.Size([8, 128]), z1: torch.Size([8, 128]), z2: torch.Size([8, 128])\n",
      "Shapes - p1: torch.Size([8, 128]), p2: torch.Size([8, 128]), z1: torch.Size([8, 128]), z2: torch.Size([8, 128])\n",
      "Epoch [53/100], Batch [5/55], Loss: 0.0023\n",
      "Shapes - p1: torch.Size([8, 128]), p2: torch.Size([8, 128]), z1: torch.Size([8, 128]), z2: torch.Size([8, 128])\n",
      "Shapes - p1: torch.Size([8, 128]), p2: torch.Size([8, 128]), z1: torch.Size([8, 128]), z2: torch.Size([8, 128])\n",
      "Shapes - p1: torch.Size([8, 128]), p2: torch.Size([8, 128]), z1: torch.Size([8, 128]), z2: torch.Size([8, 128])\n",
      "Shapes - p1: torch.Size([8, 128]), p2: torch.Size([8, 128]), z1: torch.Size([8, 128]), z2: torch.Size([8, 128])\n",
      "Shapes - p1: torch.Size([8, 128]), p2: torch.Size([8, 128]), z1: torch.Size([8, 128]), z2: torch.Size([8, 128])\n",
      "Epoch [53/100], Batch [10/55], Loss: 0.0017\n",
      "Shapes - p1: torch.Size([8, 128]), p2: torch.Size([8, 128]), z1: torch.Size([8, 128]), z2: torch.Size([8, 128])\n",
      "Shapes - p1: torch.Size([8, 128]), p2: torch.Size([8, 128]), z1: torch.Size([8, 128]), z2: torch.Size([8, 128])\n",
      "Shapes - p1: torch.Size([8, 128]), p2: torch.Size([8, 128]), z1: torch.Size([8, 128]), z2: torch.Size([8, 128])\n",
      "Shapes - p1: torch.Size([8, 128]), p2: torch.Size([8, 128]), z1: torch.Size([8, 128]), z2: torch.Size([8, 128])\n",
      "Shapes - p1: torch.Size([8, 128]), p2: torch.Size([8, 128]), z1: torch.Size([8, 128]), z2: torch.Size([8, 128])\n",
      "Epoch [53/100], Batch [15/55], Loss: 0.0128\n",
      "Shapes - p1: torch.Size([8, 128]), p2: torch.Size([8, 128]), z1: torch.Size([8, 128]), z2: torch.Size([8, 128])\n",
      "Shapes - p1: torch.Size([8, 128]), p2: torch.Size([8, 128]), z1: torch.Size([8, 128]), z2: torch.Size([8, 128])\n",
      "Shapes - p1: torch.Size([8, 128]), p2: torch.Size([8, 128]), z1: torch.Size([8, 128]), z2: torch.Size([8, 128])\n",
      "Shapes - p1: torch.Size([8, 128]), p2: torch.Size([8, 128]), z1: torch.Size([8, 128]), z2: torch.Size([8, 128])\n",
      "Shapes - p1: torch.Size([8, 128]), p2: torch.Size([8, 128]), z1: torch.Size([8, 128]), z2: torch.Size([8, 128])\n",
      "Epoch [53/100], Batch [20/55], Loss: 0.0027\n",
      "Shapes - p1: torch.Size([8, 128]), p2: torch.Size([8, 128]), z1: torch.Size([8, 128]), z2: torch.Size([8, 128])\n",
      "Shapes - p1: torch.Size([8, 128]), p2: torch.Size([8, 128]), z1: torch.Size([8, 128]), z2: torch.Size([8, 128])\n",
      "Shapes - p1: torch.Size([8, 128]), p2: torch.Size([8, 128]), z1: torch.Size([8, 128]), z2: torch.Size([8, 128])\n",
      "Shapes - p1: torch.Size([8, 128]), p2: torch.Size([8, 128]), z1: torch.Size([8, 128]), z2: torch.Size([8, 128])\n",
      "Shapes - p1: torch.Size([8, 128]), p2: torch.Size([8, 128]), z1: torch.Size([8, 128]), z2: torch.Size([8, 128])\n",
      "Epoch [53/100], Batch [25/55], Loss: 0.0026\n",
      "Shapes - p1: torch.Size([8, 128]), p2: torch.Size([8, 128]), z1: torch.Size([8, 128]), z2: torch.Size([8, 128])\n",
      "Shapes - p1: torch.Size([8, 128]), p2: torch.Size([8, 128]), z1: torch.Size([8, 128]), z2: torch.Size([8, 128])\n",
      "Shapes - p1: torch.Size([8, 128]), p2: torch.Size([8, 128]), z1: torch.Size([8, 128]), z2: torch.Size([8, 128])\n",
      "Shapes - p1: torch.Size([8, 128]), p2: torch.Size([8, 128]), z1: torch.Size([8, 128]), z2: torch.Size([8, 128])\n",
      "Shapes - p1: torch.Size([8, 128]), p2: torch.Size([8, 128]), z1: torch.Size([8, 128]), z2: torch.Size([8, 128])\n",
      "Epoch [53/100], Batch [30/55], Loss: 0.0015\n",
      "Shapes - p1: torch.Size([8, 128]), p2: torch.Size([8, 128]), z1: torch.Size([8, 128]), z2: torch.Size([8, 128])\n",
      "Shapes - p1: torch.Size([8, 128]), p2: torch.Size([8, 128]), z1: torch.Size([8, 128]), z2: torch.Size([8, 128])\n",
      "Shapes - p1: torch.Size([8, 128]), p2: torch.Size([8, 128]), z1: torch.Size([8, 128]), z2: torch.Size([8, 128])\n",
      "Shapes - p1: torch.Size([8, 128]), p2: torch.Size([8, 128]), z1: torch.Size([8, 128]), z2: torch.Size([8, 128])\n",
      "Shapes - p1: torch.Size([8, 128]), p2: torch.Size([8, 128]), z1: torch.Size([8, 128]), z2: torch.Size([8, 128])\n",
      "Epoch [53/100], Batch [35/55], Loss: 0.0027\n",
      "Shapes - p1: torch.Size([8, 128]), p2: torch.Size([8, 128]), z1: torch.Size([8, 128]), z2: torch.Size([8, 128])\n",
      "Shapes - p1: torch.Size([8, 128]), p2: torch.Size([8, 128]), z1: torch.Size([8, 128]), z2: torch.Size([8, 128])\n",
      "Shapes - p1: torch.Size([8, 128]), p2: torch.Size([8, 128]), z1: torch.Size([8, 128]), z2: torch.Size([8, 128])\n",
      "Shapes - p1: torch.Size([8, 128]), p2: torch.Size([8, 128]), z1: torch.Size([8, 128]), z2: torch.Size([8, 128])\n",
      "Shapes - p1: torch.Size([8, 128]), p2: torch.Size([8, 128]), z1: torch.Size([8, 128]), z2: torch.Size([8, 128])\n",
      "Epoch [53/100], Batch [40/55], Loss: 0.0015\n",
      "Shapes - p1: torch.Size([8, 128]), p2: torch.Size([8, 128]), z1: torch.Size([8, 128]), z2: torch.Size([8, 128])\n",
      "Shapes - p1: torch.Size([8, 128]), p2: torch.Size([8, 128]), z1: torch.Size([8, 128]), z2: torch.Size([8, 128])\n",
      "Shapes - p1: torch.Size([8, 128]), p2: torch.Size([8, 128]), z1: torch.Size([8, 128]), z2: torch.Size([8, 128])\n",
      "Shapes - p1: torch.Size([8, 128]), p2: torch.Size([8, 128]), z1: torch.Size([8, 128]), z2: torch.Size([8, 128])\n",
      "Shapes - p1: torch.Size([8, 128]), p2: torch.Size([8, 128]), z1: torch.Size([8, 128]), z2: torch.Size([8, 128])\n",
      "Epoch [53/100], Batch [45/55], Loss: 0.0005\n",
      "Shapes - p1: torch.Size([8, 128]), p2: torch.Size([8, 128]), z1: torch.Size([8, 128]), z2: torch.Size([8, 128])\n",
      "Shapes - p1: torch.Size([8, 128]), p2: torch.Size([8, 128]), z1: torch.Size([8, 128]), z2: torch.Size([8, 128])\n",
      "Shapes - p1: torch.Size([8, 128]), p2: torch.Size([8, 128]), z1: torch.Size([8, 128]), z2: torch.Size([8, 128])\n",
      "Shapes - p1: torch.Size([8, 128]), p2: torch.Size([8, 128]), z1: torch.Size([8, 128]), z2: torch.Size([8, 128])\n",
      "Shapes - p1: torch.Size([8, 128]), p2: torch.Size([8, 128]), z1: torch.Size([8, 128]), z2: torch.Size([8, 128])\n",
      "Epoch [53/100], Batch [50/55], Loss: 0.0021\n",
      "Shapes - p1: torch.Size([8, 128]), p2: torch.Size([8, 128]), z1: torch.Size([8, 128]), z2: torch.Size([8, 128])\n",
      "Shapes - p1: torch.Size([8, 128]), p2: torch.Size([8, 128]), z1: torch.Size([8, 128]), z2: torch.Size([8, 128])\n",
      "Shapes - p1: torch.Size([8, 128]), p2: torch.Size([8, 128]), z1: torch.Size([8, 128]), z2: torch.Size([8, 128])\n",
      "Shapes - p1: torch.Size([8, 128]), p2: torch.Size([8, 128]), z1: torch.Size([8, 128]), z2: torch.Size([8, 128])\n",
      "Shapes - p1: torch.Size([6, 128]), p2: torch.Size([6, 128]), z1: torch.Size([6, 128]), z2: torch.Size([6, 128])\n",
      "Epoch [53/100], Batch [55/55], Loss: 0.0007\n",
      "✅ Completed Epoch [53/100] | Avg Loss: 0.0044\n",
      "⏳ No Improvement | Patience: 9/15\n",
      "Shapes - p1: torch.Size([8, 128]), p2: torch.Size([8, 128]), z1: torch.Size([8, 128]), z2: torch.Size([8, 128])\n",
      "Shapes - p1: torch.Size([8, 128]), p2: torch.Size([8, 128]), z1: torch.Size([8, 128]), z2: torch.Size([8, 128])\n",
      "Shapes - p1: torch.Size([8, 128]), p2: torch.Size([8, 128]), z1: torch.Size([8, 128]), z2: torch.Size([8, 128])\n",
      "Shapes - p1: torch.Size([8, 128]), p2: torch.Size([8, 128]), z1: torch.Size([8, 128]), z2: torch.Size([8, 128])\n",
      "Shapes - p1: torch.Size([8, 128]), p2: torch.Size([8, 128]), z1: torch.Size([8, 128]), z2: torch.Size([8, 128])\n",
      "Epoch [54/100], Batch [5/55], Loss: 0.0012\n",
      "Shapes - p1: torch.Size([8, 128]), p2: torch.Size([8, 128]), z1: torch.Size([8, 128]), z2: torch.Size([8, 128])\n",
      "Shapes - p1: torch.Size([8, 128]), p2: torch.Size([8, 128]), z1: torch.Size([8, 128]), z2: torch.Size([8, 128])\n",
      "Shapes - p1: torch.Size([8, 128]), p2: torch.Size([8, 128]), z1: torch.Size([8, 128]), z2: torch.Size([8, 128])\n",
      "Shapes - p1: torch.Size([8, 128]), p2: torch.Size([8, 128]), z1: torch.Size([8, 128]), z2: torch.Size([8, 128])\n",
      "Shapes - p1: torch.Size([8, 128]), p2: torch.Size([8, 128]), z1: torch.Size([8, 128]), z2: torch.Size([8, 128])\n",
      "Epoch [54/100], Batch [10/55], Loss: 0.0017\n",
      "Shapes - p1: torch.Size([8, 128]), p2: torch.Size([8, 128]), z1: torch.Size([8, 128]), z2: torch.Size([8, 128])\n",
      "Shapes - p1: torch.Size([8, 128]), p2: torch.Size([8, 128]), z1: torch.Size([8, 128]), z2: torch.Size([8, 128])\n",
      "Shapes - p1: torch.Size([8, 128]), p2: torch.Size([8, 128]), z1: torch.Size([8, 128]), z2: torch.Size([8, 128])\n",
      "Shapes - p1: torch.Size([8, 128]), p2: torch.Size([8, 128]), z1: torch.Size([8, 128]), z2: torch.Size([8, 128])\n",
      "Shapes - p1: torch.Size([8, 128]), p2: torch.Size([8, 128]), z1: torch.Size([8, 128]), z2: torch.Size([8, 128])\n",
      "Epoch [54/100], Batch [15/55], Loss: 0.0009\n",
      "Shapes - p1: torch.Size([8, 128]), p2: torch.Size([8, 128]), z1: torch.Size([8, 128]), z2: torch.Size([8, 128])\n",
      "Shapes - p1: torch.Size([8, 128]), p2: torch.Size([8, 128]), z1: torch.Size([8, 128]), z2: torch.Size([8, 128])\n",
      "Shapes - p1: torch.Size([8, 128]), p2: torch.Size([8, 128]), z1: torch.Size([8, 128]), z2: torch.Size([8, 128])\n",
      "Shapes - p1: torch.Size([8, 128]), p2: torch.Size([8, 128]), z1: torch.Size([8, 128]), z2: torch.Size([8, 128])\n",
      "Shapes - p1: torch.Size([8, 128]), p2: torch.Size([8, 128]), z1: torch.Size([8, 128]), z2: torch.Size([8, 128])\n",
      "Epoch [54/100], Batch [20/55], Loss: 0.0028\n",
      "Shapes - p1: torch.Size([8, 128]), p2: torch.Size([8, 128]), z1: torch.Size([8, 128]), z2: torch.Size([8, 128])\n",
      "Shapes - p1: torch.Size([8, 128]), p2: torch.Size([8, 128]), z1: torch.Size([8, 128]), z2: torch.Size([8, 128])\n",
      "Shapes - p1: torch.Size([8, 128]), p2: torch.Size([8, 128]), z1: torch.Size([8, 128]), z2: torch.Size([8, 128])\n",
      "Shapes - p1: torch.Size([8, 128]), p2: torch.Size([8, 128]), z1: torch.Size([8, 128]), z2: torch.Size([8, 128])\n",
      "Shapes - p1: torch.Size([8, 128]), p2: torch.Size([8, 128]), z1: torch.Size([8, 128]), z2: torch.Size([8, 128])\n",
      "Epoch [54/100], Batch [25/55], Loss: 0.0021\n",
      "Shapes - p1: torch.Size([8, 128]), p2: torch.Size([8, 128]), z1: torch.Size([8, 128]), z2: torch.Size([8, 128])\n",
      "Shapes - p1: torch.Size([8, 128]), p2: torch.Size([8, 128]), z1: torch.Size([8, 128]), z2: torch.Size([8, 128])\n",
      "Shapes - p1: torch.Size([8, 128]), p2: torch.Size([8, 128]), z1: torch.Size([8, 128]), z2: torch.Size([8, 128])\n",
      "Shapes - p1: torch.Size([8, 128]), p2: torch.Size([8, 128]), z1: torch.Size([8, 128]), z2: torch.Size([8, 128])\n",
      "Shapes - p1: torch.Size([8, 128]), p2: torch.Size([8, 128]), z1: torch.Size([8, 128]), z2: torch.Size([8, 128])\n",
      "Epoch [54/100], Batch [30/55], Loss: 0.0069\n",
      "Shapes - p1: torch.Size([8, 128]), p2: torch.Size([8, 128]), z1: torch.Size([8, 128]), z2: torch.Size([8, 128])\n",
      "Shapes - p1: torch.Size([8, 128]), p2: torch.Size([8, 128]), z1: torch.Size([8, 128]), z2: torch.Size([8, 128])\n",
      "Shapes - p1: torch.Size([8, 128]), p2: torch.Size([8, 128]), z1: torch.Size([8, 128]), z2: torch.Size([8, 128])\n",
      "Shapes - p1: torch.Size([8, 128]), p2: torch.Size([8, 128]), z1: torch.Size([8, 128]), z2: torch.Size([8, 128])\n",
      "Shapes - p1: torch.Size([8, 128]), p2: torch.Size([8, 128]), z1: torch.Size([8, 128]), z2: torch.Size([8, 128])\n",
      "Epoch [54/100], Batch [35/55], Loss: 0.0018\n",
      "Shapes - p1: torch.Size([8, 128]), p2: torch.Size([8, 128]), z1: torch.Size([8, 128]), z2: torch.Size([8, 128])\n",
      "Shapes - p1: torch.Size([8, 128]), p2: torch.Size([8, 128]), z1: torch.Size([8, 128]), z2: torch.Size([8, 128])\n",
      "Shapes - p1: torch.Size([8, 128]), p2: torch.Size([8, 128]), z1: torch.Size([8, 128]), z2: torch.Size([8, 128])\n",
      "Shapes - p1: torch.Size([8, 128]), p2: torch.Size([8, 128]), z1: torch.Size([8, 128]), z2: torch.Size([8, 128])\n",
      "Shapes - p1: torch.Size([8, 128]), p2: torch.Size([8, 128]), z1: torch.Size([8, 128]), z2: torch.Size([8, 128])\n",
      "Epoch [54/100], Batch [40/55], Loss: 0.0076\n",
      "Shapes - p1: torch.Size([8, 128]), p2: torch.Size([8, 128]), z1: torch.Size([8, 128]), z2: torch.Size([8, 128])\n",
      "Shapes - p1: torch.Size([8, 128]), p2: torch.Size([8, 128]), z1: torch.Size([8, 128]), z2: torch.Size([8, 128])\n",
      "Shapes - p1: torch.Size([8, 128]), p2: torch.Size([8, 128]), z1: torch.Size([8, 128]), z2: torch.Size([8, 128])\n",
      "Shapes - p1: torch.Size([8, 128]), p2: torch.Size([8, 128]), z1: torch.Size([8, 128]), z2: torch.Size([8, 128])\n",
      "Shapes - p1: torch.Size([8, 128]), p2: torch.Size([8, 128]), z1: torch.Size([8, 128]), z2: torch.Size([8, 128])\n",
      "Epoch [54/100], Batch [45/55], Loss: 0.0006\n",
      "Shapes - p1: torch.Size([8, 128]), p2: torch.Size([8, 128]), z1: torch.Size([8, 128]), z2: torch.Size([8, 128])\n",
      "Shapes - p1: torch.Size([8, 128]), p2: torch.Size([8, 128]), z1: torch.Size([8, 128]), z2: torch.Size([8, 128])\n",
      "Shapes - p1: torch.Size([8, 128]), p2: torch.Size([8, 128]), z1: torch.Size([8, 128]), z2: torch.Size([8, 128])\n",
      "Shapes - p1: torch.Size([8, 128]), p2: torch.Size([8, 128]), z1: torch.Size([8, 128]), z2: torch.Size([8, 128])\n",
      "Shapes - p1: torch.Size([8, 128]), p2: torch.Size([8, 128]), z1: torch.Size([8, 128]), z2: torch.Size([8, 128])\n",
      "Epoch [54/100], Batch [50/55], Loss: 0.0036\n",
      "Shapes - p1: torch.Size([8, 128]), p2: torch.Size([8, 128]), z1: torch.Size([8, 128]), z2: torch.Size([8, 128])\n",
      "Shapes - p1: torch.Size([8, 128]), p2: torch.Size([8, 128]), z1: torch.Size([8, 128]), z2: torch.Size([8, 128])\n",
      "Shapes - p1: torch.Size([8, 128]), p2: torch.Size([8, 128]), z1: torch.Size([8, 128]), z2: torch.Size([8, 128])\n",
      "Shapes - p1: torch.Size([8, 128]), p2: torch.Size([8, 128]), z1: torch.Size([8, 128]), z2: torch.Size([8, 128])\n",
      "Shapes - p1: torch.Size([6, 128]), p2: torch.Size([6, 128]), z1: torch.Size([6, 128]), z2: torch.Size([6, 128])\n",
      "Epoch [54/100], Batch [55/55], Loss: 0.0026\n",
      "✅ Completed Epoch [54/100] | Avg Loss: 0.0052\n",
      "⏳ No Improvement | Patience: 10/15\n",
      "Shapes - p1: torch.Size([8, 128]), p2: torch.Size([8, 128]), z1: torch.Size([8, 128]), z2: torch.Size([8, 128])\n",
      "Shapes - p1: torch.Size([8, 128]), p2: torch.Size([8, 128]), z1: torch.Size([8, 128]), z2: torch.Size([8, 128])\n",
      "Shapes - p1: torch.Size([8, 128]), p2: torch.Size([8, 128]), z1: torch.Size([8, 128]), z2: torch.Size([8, 128])\n",
      "Shapes - p1: torch.Size([8, 128]), p2: torch.Size([8, 128]), z1: torch.Size([8, 128]), z2: torch.Size([8, 128])\n",
      "Shapes - p1: torch.Size([8, 128]), p2: torch.Size([8, 128]), z1: torch.Size([8, 128]), z2: torch.Size([8, 128])\n",
      "Epoch [55/100], Batch [5/55], Loss: 0.0032\n",
      "Shapes - p1: torch.Size([8, 128]), p2: torch.Size([8, 128]), z1: torch.Size([8, 128]), z2: torch.Size([8, 128])\n",
      "Shapes - p1: torch.Size([8, 128]), p2: torch.Size([8, 128]), z1: torch.Size([8, 128]), z2: torch.Size([8, 128])\n",
      "Shapes - p1: torch.Size([8, 128]), p2: torch.Size([8, 128]), z1: torch.Size([8, 128]), z2: torch.Size([8, 128])\n",
      "Shapes - p1: torch.Size([8, 128]), p2: torch.Size([8, 128]), z1: torch.Size([8, 128]), z2: torch.Size([8, 128])\n",
      "Shapes - p1: torch.Size([8, 128]), p2: torch.Size([8, 128]), z1: torch.Size([8, 128]), z2: torch.Size([8, 128])\n",
      "Epoch [55/100], Batch [10/55], Loss: 0.0014\n",
      "Shapes - p1: torch.Size([8, 128]), p2: torch.Size([8, 128]), z1: torch.Size([8, 128]), z2: torch.Size([8, 128])\n",
      "Shapes - p1: torch.Size([8, 128]), p2: torch.Size([8, 128]), z1: torch.Size([8, 128]), z2: torch.Size([8, 128])\n",
      "Shapes - p1: torch.Size([8, 128]), p2: torch.Size([8, 128]), z1: torch.Size([8, 128]), z2: torch.Size([8, 128])\n",
      "Shapes - p1: torch.Size([8, 128]), p2: torch.Size([8, 128]), z1: torch.Size([8, 128]), z2: torch.Size([8, 128])\n",
      "Shapes - p1: torch.Size([8, 128]), p2: torch.Size([8, 128]), z1: torch.Size([8, 128]), z2: torch.Size([8, 128])\n",
      "Epoch [55/100], Batch [15/55], Loss: 0.0016\n",
      "Shapes - p1: torch.Size([8, 128]), p2: torch.Size([8, 128]), z1: torch.Size([8, 128]), z2: torch.Size([8, 128])\n",
      "Shapes - p1: torch.Size([8, 128]), p2: torch.Size([8, 128]), z1: torch.Size([8, 128]), z2: torch.Size([8, 128])\n",
      "Shapes - p1: torch.Size([8, 128]), p2: torch.Size([8, 128]), z1: torch.Size([8, 128]), z2: torch.Size([8, 128])\n",
      "Shapes - p1: torch.Size([8, 128]), p2: torch.Size([8, 128]), z1: torch.Size([8, 128]), z2: torch.Size([8, 128])\n",
      "Shapes - p1: torch.Size([8, 128]), p2: torch.Size([8, 128]), z1: torch.Size([8, 128]), z2: torch.Size([8, 128])\n",
      "Epoch [55/100], Batch [20/55], Loss: 0.0038\n",
      "Shapes - p1: torch.Size([8, 128]), p2: torch.Size([8, 128]), z1: torch.Size([8, 128]), z2: torch.Size([8, 128])\n",
      "Shapes - p1: torch.Size([8, 128]), p2: torch.Size([8, 128]), z1: torch.Size([8, 128]), z2: torch.Size([8, 128])\n",
      "Shapes - p1: torch.Size([8, 128]), p2: torch.Size([8, 128]), z1: torch.Size([8, 128]), z2: torch.Size([8, 128])\n",
      "Shapes - p1: torch.Size([8, 128]), p2: torch.Size([8, 128]), z1: torch.Size([8, 128]), z2: torch.Size([8, 128])\n",
      "Shapes - p1: torch.Size([8, 128]), p2: torch.Size([8, 128]), z1: torch.Size([8, 128]), z2: torch.Size([8, 128])\n",
      "Epoch [55/100], Batch [25/55], Loss: 0.0014\n",
      "Shapes - p1: torch.Size([8, 128]), p2: torch.Size([8, 128]), z1: torch.Size([8, 128]), z2: torch.Size([8, 128])\n",
      "Shapes - p1: torch.Size([8, 128]), p2: torch.Size([8, 128]), z1: torch.Size([8, 128]), z2: torch.Size([8, 128])\n",
      "Shapes - p1: torch.Size([8, 128]), p2: torch.Size([8, 128]), z1: torch.Size([8, 128]), z2: torch.Size([8, 128])\n",
      "Shapes - p1: torch.Size([8, 128]), p2: torch.Size([8, 128]), z1: torch.Size([8, 128]), z2: torch.Size([8, 128])\n",
      "Shapes - p1: torch.Size([8, 128]), p2: torch.Size([8, 128]), z1: torch.Size([8, 128]), z2: torch.Size([8, 128])\n",
      "Epoch [55/100], Batch [30/55], Loss: 0.0005\n",
      "Shapes - p1: torch.Size([8, 128]), p2: torch.Size([8, 128]), z1: torch.Size([8, 128]), z2: torch.Size([8, 128])\n",
      "Shapes - p1: torch.Size([8, 128]), p2: torch.Size([8, 128]), z1: torch.Size([8, 128]), z2: torch.Size([8, 128])\n",
      "Shapes - p1: torch.Size([8, 128]), p2: torch.Size([8, 128]), z1: torch.Size([8, 128]), z2: torch.Size([8, 128])\n",
      "Shapes - p1: torch.Size([8, 128]), p2: torch.Size([8, 128]), z1: torch.Size([8, 128]), z2: torch.Size([8, 128])\n",
      "Shapes - p1: torch.Size([8, 128]), p2: torch.Size([8, 128]), z1: torch.Size([8, 128]), z2: torch.Size([8, 128])\n",
      "Epoch [55/100], Batch [35/55], Loss: 0.0013\n",
      "Shapes - p1: torch.Size([8, 128]), p2: torch.Size([8, 128]), z1: torch.Size([8, 128]), z2: torch.Size([8, 128])\n",
      "Shapes - p1: torch.Size([8, 128]), p2: torch.Size([8, 128]), z1: torch.Size([8, 128]), z2: torch.Size([8, 128])\n",
      "Shapes - p1: torch.Size([8, 128]), p2: torch.Size([8, 128]), z1: torch.Size([8, 128]), z2: torch.Size([8, 128])\n",
      "Shapes - p1: torch.Size([8, 128]), p2: torch.Size([8, 128]), z1: torch.Size([8, 128]), z2: torch.Size([8, 128])\n",
      "Shapes - p1: torch.Size([8, 128]), p2: torch.Size([8, 128]), z1: torch.Size([8, 128]), z2: torch.Size([8, 128])\n",
      "Epoch [55/100], Batch [40/55], Loss: 0.0008\n",
      "Shapes - p1: torch.Size([8, 128]), p2: torch.Size([8, 128]), z1: torch.Size([8, 128]), z2: torch.Size([8, 128])\n",
      "Shapes - p1: torch.Size([8, 128]), p2: torch.Size([8, 128]), z1: torch.Size([8, 128]), z2: torch.Size([8, 128])\n",
      "Shapes - p1: torch.Size([8, 128]), p2: torch.Size([8, 128]), z1: torch.Size([8, 128]), z2: torch.Size([8, 128])\n",
      "Shapes - p1: torch.Size([8, 128]), p2: torch.Size([8, 128]), z1: torch.Size([8, 128]), z2: torch.Size([8, 128])\n",
      "Shapes - p1: torch.Size([8, 128]), p2: torch.Size([8, 128]), z1: torch.Size([8, 128]), z2: torch.Size([8, 128])\n",
      "Epoch [55/100], Batch [45/55], Loss: 0.0089\n",
      "Shapes - p1: torch.Size([8, 128]), p2: torch.Size([8, 128]), z1: torch.Size([8, 128]), z2: torch.Size([8, 128])\n",
      "Shapes - p1: torch.Size([8, 128]), p2: torch.Size([8, 128]), z1: torch.Size([8, 128]), z2: torch.Size([8, 128])\n",
      "Shapes - p1: torch.Size([8, 128]), p2: torch.Size([8, 128]), z1: torch.Size([8, 128]), z2: torch.Size([8, 128])\n",
      "Shapes - p1: torch.Size([8, 128]), p2: torch.Size([8, 128]), z1: torch.Size([8, 128]), z2: torch.Size([8, 128])\n",
      "Shapes - p1: torch.Size([8, 128]), p2: torch.Size([8, 128]), z1: torch.Size([8, 128]), z2: torch.Size([8, 128])\n",
      "Epoch [55/100], Batch [50/55], Loss: 0.0050\n",
      "Shapes - p1: torch.Size([8, 128]), p2: torch.Size([8, 128]), z1: torch.Size([8, 128]), z2: torch.Size([8, 128])\n",
      "Shapes - p1: torch.Size([8, 128]), p2: torch.Size([8, 128]), z1: torch.Size([8, 128]), z2: torch.Size([8, 128])\n",
      "Shapes - p1: torch.Size([8, 128]), p2: torch.Size([8, 128]), z1: torch.Size([8, 128]), z2: torch.Size([8, 128])\n",
      "Shapes - p1: torch.Size([8, 128]), p2: torch.Size([8, 128]), z1: torch.Size([8, 128]), z2: torch.Size([8, 128])\n",
      "Shapes - p1: torch.Size([6, 128]), p2: torch.Size([6, 128]), z1: torch.Size([6, 128]), z2: torch.Size([6, 128])\n",
      "Epoch [55/100], Batch [55/55], Loss: 0.0063\n",
      "✅ Completed Epoch [55/100] | Avg Loss: 0.0042\n",
      "⏳ No Improvement | Patience: 11/15\n",
      "Shapes - p1: torch.Size([8, 128]), p2: torch.Size([8, 128]), z1: torch.Size([8, 128]), z2: torch.Size([8, 128])\n",
      "Shapes - p1: torch.Size([8, 128]), p2: torch.Size([8, 128]), z1: torch.Size([8, 128]), z2: torch.Size([8, 128])\n",
      "Shapes - p1: torch.Size([8, 128]), p2: torch.Size([8, 128]), z1: torch.Size([8, 128]), z2: torch.Size([8, 128])\n",
      "Shapes - p1: torch.Size([8, 128]), p2: torch.Size([8, 128]), z1: torch.Size([8, 128]), z2: torch.Size([8, 128])\n",
      "Shapes - p1: torch.Size([8, 128]), p2: torch.Size([8, 128]), z1: torch.Size([8, 128]), z2: torch.Size([8, 128])\n",
      "Epoch [56/100], Batch [5/55], Loss: 0.0010\n",
      "Shapes - p1: torch.Size([8, 128]), p2: torch.Size([8, 128]), z1: torch.Size([8, 128]), z2: torch.Size([8, 128])\n",
      "Shapes - p1: torch.Size([8, 128]), p2: torch.Size([8, 128]), z1: torch.Size([8, 128]), z2: torch.Size([8, 128])\n",
      "Shapes - p1: torch.Size([8, 128]), p2: torch.Size([8, 128]), z1: torch.Size([8, 128]), z2: torch.Size([8, 128])\n",
      "Shapes - p1: torch.Size([8, 128]), p2: torch.Size([8, 128]), z1: torch.Size([8, 128]), z2: torch.Size([8, 128])\n",
      "Shapes - p1: torch.Size([8, 128]), p2: torch.Size([8, 128]), z1: torch.Size([8, 128]), z2: torch.Size([8, 128])\n",
      "Epoch [56/100], Batch [10/55], Loss: 0.0102\n",
      "Shapes - p1: torch.Size([8, 128]), p2: torch.Size([8, 128]), z1: torch.Size([8, 128]), z2: torch.Size([8, 128])\n",
      "Shapes - p1: torch.Size([8, 128]), p2: torch.Size([8, 128]), z1: torch.Size([8, 128]), z2: torch.Size([8, 128])\n",
      "Shapes - p1: torch.Size([8, 128]), p2: torch.Size([8, 128]), z1: torch.Size([8, 128]), z2: torch.Size([8, 128])\n",
      "Shapes - p1: torch.Size([8, 128]), p2: torch.Size([8, 128]), z1: torch.Size([8, 128]), z2: torch.Size([8, 128])\n",
      "Shapes - p1: torch.Size([8, 128]), p2: torch.Size([8, 128]), z1: torch.Size([8, 128]), z2: torch.Size([8, 128])\n",
      "Epoch [56/100], Batch [15/55], Loss: 0.0125\n",
      "Shapes - p1: torch.Size([8, 128]), p2: torch.Size([8, 128]), z1: torch.Size([8, 128]), z2: torch.Size([8, 128])\n",
      "Shapes - p1: torch.Size([8, 128]), p2: torch.Size([8, 128]), z1: torch.Size([8, 128]), z2: torch.Size([8, 128])\n",
      "Shapes - p1: torch.Size([8, 128]), p2: torch.Size([8, 128]), z1: torch.Size([8, 128]), z2: torch.Size([8, 128])\n",
      "Shapes - p1: torch.Size([8, 128]), p2: torch.Size([8, 128]), z1: torch.Size([8, 128]), z2: torch.Size([8, 128])\n",
      "Shapes - p1: torch.Size([8, 128]), p2: torch.Size([8, 128]), z1: torch.Size([8, 128]), z2: torch.Size([8, 128])\n",
      "Epoch [56/100], Batch [20/55], Loss: 0.0019\n",
      "Shapes - p1: torch.Size([8, 128]), p2: torch.Size([8, 128]), z1: torch.Size([8, 128]), z2: torch.Size([8, 128])\n",
      "Shapes - p1: torch.Size([8, 128]), p2: torch.Size([8, 128]), z1: torch.Size([8, 128]), z2: torch.Size([8, 128])\n",
      "Shapes - p1: torch.Size([8, 128]), p2: torch.Size([8, 128]), z1: torch.Size([8, 128]), z2: torch.Size([8, 128])\n",
      "Shapes - p1: torch.Size([8, 128]), p2: torch.Size([8, 128]), z1: torch.Size([8, 128]), z2: torch.Size([8, 128])\n",
      "Shapes - p1: torch.Size([8, 128]), p2: torch.Size([8, 128]), z1: torch.Size([8, 128]), z2: torch.Size([8, 128])\n",
      "Epoch [56/100], Batch [25/55], Loss: 0.0056\n",
      "Shapes - p1: torch.Size([8, 128]), p2: torch.Size([8, 128]), z1: torch.Size([8, 128]), z2: torch.Size([8, 128])\n",
      "Shapes - p1: torch.Size([8, 128]), p2: torch.Size([8, 128]), z1: torch.Size([8, 128]), z2: torch.Size([8, 128])\n",
      "Shapes - p1: torch.Size([8, 128]), p2: torch.Size([8, 128]), z1: torch.Size([8, 128]), z2: torch.Size([8, 128])\n",
      "Shapes - p1: torch.Size([8, 128]), p2: torch.Size([8, 128]), z1: torch.Size([8, 128]), z2: torch.Size([8, 128])\n",
      "Shapes - p1: torch.Size([8, 128]), p2: torch.Size([8, 128]), z1: torch.Size([8, 128]), z2: torch.Size([8, 128])\n",
      "Epoch [56/100], Batch [30/55], Loss: 0.0027\n",
      "Shapes - p1: torch.Size([8, 128]), p2: torch.Size([8, 128]), z1: torch.Size([8, 128]), z2: torch.Size([8, 128])\n",
      "Shapes - p1: torch.Size([8, 128]), p2: torch.Size([8, 128]), z1: torch.Size([8, 128]), z2: torch.Size([8, 128])\n",
      "Shapes - p1: torch.Size([8, 128]), p2: torch.Size([8, 128]), z1: torch.Size([8, 128]), z2: torch.Size([8, 128])\n",
      "Shapes - p1: torch.Size([8, 128]), p2: torch.Size([8, 128]), z1: torch.Size([8, 128]), z2: torch.Size([8, 128])\n",
      "Shapes - p1: torch.Size([8, 128]), p2: torch.Size([8, 128]), z1: torch.Size([8, 128]), z2: torch.Size([8, 128])\n",
      "Epoch [56/100], Batch [35/55], Loss: 0.0009\n",
      "Shapes - p1: torch.Size([8, 128]), p2: torch.Size([8, 128]), z1: torch.Size([8, 128]), z2: torch.Size([8, 128])\n",
      "Shapes - p1: torch.Size([8, 128]), p2: torch.Size([8, 128]), z1: torch.Size([8, 128]), z2: torch.Size([8, 128])\n",
      "Shapes - p1: torch.Size([8, 128]), p2: torch.Size([8, 128]), z1: torch.Size([8, 128]), z2: torch.Size([8, 128])\n",
      "Shapes - p1: torch.Size([8, 128]), p2: torch.Size([8, 128]), z1: torch.Size([8, 128]), z2: torch.Size([8, 128])\n",
      "Shapes - p1: torch.Size([8, 128]), p2: torch.Size([8, 128]), z1: torch.Size([8, 128]), z2: torch.Size([8, 128])\n",
      "Epoch [56/100], Batch [40/55], Loss: 0.0067\n",
      "Shapes - p1: torch.Size([8, 128]), p2: torch.Size([8, 128]), z1: torch.Size([8, 128]), z2: torch.Size([8, 128])\n",
      "Shapes - p1: torch.Size([8, 128]), p2: torch.Size([8, 128]), z1: torch.Size([8, 128]), z2: torch.Size([8, 128])\n",
      "Shapes - p1: torch.Size([8, 128]), p2: torch.Size([8, 128]), z1: torch.Size([8, 128]), z2: torch.Size([8, 128])\n",
      "Shapes - p1: torch.Size([8, 128]), p2: torch.Size([8, 128]), z1: torch.Size([8, 128]), z2: torch.Size([8, 128])\n",
      "Shapes - p1: torch.Size([8, 128]), p2: torch.Size([8, 128]), z1: torch.Size([8, 128]), z2: torch.Size([8, 128])\n",
      "Epoch [56/100], Batch [45/55], Loss: 0.0020\n",
      "Shapes - p1: torch.Size([8, 128]), p2: torch.Size([8, 128]), z1: torch.Size([8, 128]), z2: torch.Size([8, 128])\n",
      "Shapes - p1: torch.Size([8, 128]), p2: torch.Size([8, 128]), z1: torch.Size([8, 128]), z2: torch.Size([8, 128])\n",
      "Shapes - p1: torch.Size([8, 128]), p2: torch.Size([8, 128]), z1: torch.Size([8, 128]), z2: torch.Size([8, 128])\n",
      "Shapes - p1: torch.Size([8, 128]), p2: torch.Size([8, 128]), z1: torch.Size([8, 128]), z2: torch.Size([8, 128])\n",
      "Shapes - p1: torch.Size([8, 128]), p2: torch.Size([8, 128]), z1: torch.Size([8, 128]), z2: torch.Size([8, 128])\n",
      "Epoch [56/100], Batch [50/55], Loss: 0.0016\n",
      "Shapes - p1: torch.Size([8, 128]), p2: torch.Size([8, 128]), z1: torch.Size([8, 128]), z2: torch.Size([8, 128])\n",
      "Shapes - p1: torch.Size([8, 128]), p2: torch.Size([8, 128]), z1: torch.Size([8, 128]), z2: torch.Size([8, 128])\n",
      "Shapes - p1: torch.Size([8, 128]), p2: torch.Size([8, 128]), z1: torch.Size([8, 128]), z2: torch.Size([8, 128])\n",
      "Shapes - p1: torch.Size([8, 128]), p2: torch.Size([8, 128]), z1: torch.Size([8, 128]), z2: torch.Size([8, 128])\n",
      "Shapes - p1: torch.Size([6, 128]), p2: torch.Size([6, 128]), z1: torch.Size([6, 128]), z2: torch.Size([6, 128])\n",
      "Epoch [56/100], Batch [55/55], Loss: 0.0026\n",
      "✅ Completed Epoch [56/100] | Avg Loss: 0.0044\n",
      "⏳ No Improvement | Patience: 12/15\n",
      "Shapes - p1: torch.Size([8, 128]), p2: torch.Size([8, 128]), z1: torch.Size([8, 128]), z2: torch.Size([8, 128])\n",
      "Shapes - p1: torch.Size([8, 128]), p2: torch.Size([8, 128]), z1: torch.Size([8, 128]), z2: torch.Size([8, 128])\n",
      "Shapes - p1: torch.Size([8, 128]), p2: torch.Size([8, 128]), z1: torch.Size([8, 128]), z2: torch.Size([8, 128])\n",
      "Shapes - p1: torch.Size([8, 128]), p2: torch.Size([8, 128]), z1: torch.Size([8, 128]), z2: torch.Size([8, 128])\n",
      "Shapes - p1: torch.Size([8, 128]), p2: torch.Size([8, 128]), z1: torch.Size([8, 128]), z2: torch.Size([8, 128])\n",
      "Epoch [57/100], Batch [5/55], Loss: 0.0065\n",
      "Shapes - p1: torch.Size([8, 128]), p2: torch.Size([8, 128]), z1: torch.Size([8, 128]), z2: torch.Size([8, 128])\n",
      "Shapes - p1: torch.Size([8, 128]), p2: torch.Size([8, 128]), z1: torch.Size([8, 128]), z2: torch.Size([8, 128])\n",
      "Shapes - p1: torch.Size([8, 128]), p2: torch.Size([8, 128]), z1: torch.Size([8, 128]), z2: torch.Size([8, 128])\n",
      "Shapes - p1: torch.Size([8, 128]), p2: torch.Size([8, 128]), z1: torch.Size([8, 128]), z2: torch.Size([8, 128])\n",
      "Shapes - p1: torch.Size([8, 128]), p2: torch.Size([8, 128]), z1: torch.Size([8, 128]), z2: torch.Size([8, 128])\n",
      "Epoch [57/100], Batch [10/55], Loss: 0.0005\n",
      "Shapes - p1: torch.Size([8, 128]), p2: torch.Size([8, 128]), z1: torch.Size([8, 128]), z2: torch.Size([8, 128])\n",
      "Shapes - p1: torch.Size([8, 128]), p2: torch.Size([8, 128]), z1: torch.Size([8, 128]), z2: torch.Size([8, 128])\n",
      "Shapes - p1: torch.Size([8, 128]), p2: torch.Size([8, 128]), z1: torch.Size([8, 128]), z2: torch.Size([8, 128])\n",
      "Shapes - p1: torch.Size([8, 128]), p2: torch.Size([8, 128]), z1: torch.Size([8, 128]), z2: torch.Size([8, 128])\n",
      "Shapes - p1: torch.Size([8, 128]), p2: torch.Size([8, 128]), z1: torch.Size([8, 128]), z2: torch.Size([8, 128])\n",
      "Epoch [57/100], Batch [15/55], Loss: 0.0031\n",
      "Shapes - p1: torch.Size([8, 128]), p2: torch.Size([8, 128]), z1: torch.Size([8, 128]), z2: torch.Size([8, 128])\n",
      "Shapes - p1: torch.Size([8, 128]), p2: torch.Size([8, 128]), z1: torch.Size([8, 128]), z2: torch.Size([8, 128])\n",
      "Shapes - p1: torch.Size([8, 128]), p2: torch.Size([8, 128]), z1: torch.Size([8, 128]), z2: torch.Size([8, 128])\n",
      "Shapes - p1: torch.Size([8, 128]), p2: torch.Size([8, 128]), z1: torch.Size([8, 128]), z2: torch.Size([8, 128])\n",
      "Shapes - p1: torch.Size([8, 128]), p2: torch.Size([8, 128]), z1: torch.Size([8, 128]), z2: torch.Size([8, 128])\n",
      "Epoch [57/100], Batch [20/55], Loss: 0.0010\n",
      "Shapes - p1: torch.Size([8, 128]), p2: torch.Size([8, 128]), z1: torch.Size([8, 128]), z2: torch.Size([8, 128])\n",
      "Shapes - p1: torch.Size([8, 128]), p2: torch.Size([8, 128]), z1: torch.Size([8, 128]), z2: torch.Size([8, 128])\n",
      "Shapes - p1: torch.Size([8, 128]), p2: torch.Size([8, 128]), z1: torch.Size([8, 128]), z2: torch.Size([8, 128])\n",
      "Shapes - p1: torch.Size([8, 128]), p2: torch.Size([8, 128]), z1: torch.Size([8, 128]), z2: torch.Size([8, 128])\n",
      "Shapes - p1: torch.Size([8, 128]), p2: torch.Size([8, 128]), z1: torch.Size([8, 128]), z2: torch.Size([8, 128])\n",
      "Epoch [57/100], Batch [25/55], Loss: 0.0013\n",
      "Shapes - p1: torch.Size([8, 128]), p2: torch.Size([8, 128]), z1: torch.Size([8, 128]), z2: torch.Size([8, 128])\n",
      "Shapes - p1: torch.Size([8, 128]), p2: torch.Size([8, 128]), z1: torch.Size([8, 128]), z2: torch.Size([8, 128])\n",
      "Shapes - p1: torch.Size([8, 128]), p2: torch.Size([8, 128]), z1: torch.Size([8, 128]), z2: torch.Size([8, 128])\n",
      "Shapes - p1: torch.Size([8, 128]), p2: torch.Size([8, 128]), z1: torch.Size([8, 128]), z2: torch.Size([8, 128])\n",
      "Shapes - p1: torch.Size([8, 128]), p2: torch.Size([8, 128]), z1: torch.Size([8, 128]), z2: torch.Size([8, 128])\n",
      "Epoch [57/100], Batch [30/55], Loss: 0.0104\n",
      "Shapes - p1: torch.Size([8, 128]), p2: torch.Size([8, 128]), z1: torch.Size([8, 128]), z2: torch.Size([8, 128])\n",
      "Shapes - p1: torch.Size([8, 128]), p2: torch.Size([8, 128]), z1: torch.Size([8, 128]), z2: torch.Size([8, 128])\n",
      "Shapes - p1: torch.Size([8, 128]), p2: torch.Size([8, 128]), z1: torch.Size([8, 128]), z2: torch.Size([8, 128])\n",
      "Shapes - p1: torch.Size([8, 128]), p2: torch.Size([8, 128]), z1: torch.Size([8, 128]), z2: torch.Size([8, 128])\n",
      "Shapes - p1: torch.Size([8, 128]), p2: torch.Size([8, 128]), z1: torch.Size([8, 128]), z2: torch.Size([8, 128])\n",
      "Epoch [57/100], Batch [35/55], Loss: 0.0008\n",
      "Shapes - p1: torch.Size([8, 128]), p2: torch.Size([8, 128]), z1: torch.Size([8, 128]), z2: torch.Size([8, 128])\n",
      "Shapes - p1: torch.Size([8, 128]), p2: torch.Size([8, 128]), z1: torch.Size([8, 128]), z2: torch.Size([8, 128])\n",
      "Shapes - p1: torch.Size([8, 128]), p2: torch.Size([8, 128]), z1: torch.Size([8, 128]), z2: torch.Size([8, 128])\n",
      "Shapes - p1: torch.Size([8, 128]), p2: torch.Size([8, 128]), z1: torch.Size([8, 128]), z2: torch.Size([8, 128])\n",
      "Shapes - p1: torch.Size([8, 128]), p2: torch.Size([8, 128]), z1: torch.Size([8, 128]), z2: torch.Size([8, 128])\n",
      "Epoch [57/100], Batch [40/55], Loss: 0.0026\n",
      "Shapes - p1: torch.Size([8, 128]), p2: torch.Size([8, 128]), z1: torch.Size([8, 128]), z2: torch.Size([8, 128])\n",
      "Shapes - p1: torch.Size([8, 128]), p2: torch.Size([8, 128]), z1: torch.Size([8, 128]), z2: torch.Size([8, 128])\n",
      "Shapes - p1: torch.Size([8, 128]), p2: torch.Size([8, 128]), z1: torch.Size([8, 128]), z2: torch.Size([8, 128])\n",
      "Shapes - p1: torch.Size([8, 128]), p2: torch.Size([8, 128]), z1: torch.Size([8, 128]), z2: torch.Size([8, 128])\n",
      "Shapes - p1: torch.Size([8, 128]), p2: torch.Size([8, 128]), z1: torch.Size([8, 128]), z2: torch.Size([8, 128])\n",
      "Epoch [57/100], Batch [45/55], Loss: 0.0011\n",
      "Shapes - p1: torch.Size([8, 128]), p2: torch.Size([8, 128]), z1: torch.Size([8, 128]), z2: torch.Size([8, 128])\n",
      "Shapes - p1: torch.Size([8, 128]), p2: torch.Size([8, 128]), z1: torch.Size([8, 128]), z2: torch.Size([8, 128])\n",
      "Shapes - p1: torch.Size([8, 128]), p2: torch.Size([8, 128]), z1: torch.Size([8, 128]), z2: torch.Size([8, 128])\n",
      "Shapes - p1: torch.Size([8, 128]), p2: torch.Size([8, 128]), z1: torch.Size([8, 128]), z2: torch.Size([8, 128])\n",
      "Shapes - p1: torch.Size([8, 128]), p2: torch.Size([8, 128]), z1: torch.Size([8, 128]), z2: torch.Size([8, 128])\n",
      "Epoch [57/100], Batch [50/55], Loss: 0.0012\n",
      "Shapes - p1: torch.Size([8, 128]), p2: torch.Size([8, 128]), z1: torch.Size([8, 128]), z2: torch.Size([8, 128])\n",
      "Shapes - p1: torch.Size([8, 128]), p2: torch.Size([8, 128]), z1: torch.Size([8, 128]), z2: torch.Size([8, 128])\n",
      "Shapes - p1: torch.Size([8, 128]), p2: torch.Size([8, 128]), z1: torch.Size([8, 128]), z2: torch.Size([8, 128])\n",
      "Shapes - p1: torch.Size([8, 128]), p2: torch.Size([8, 128]), z1: torch.Size([8, 128]), z2: torch.Size([8, 128])\n",
      "Shapes - p1: torch.Size([6, 128]), p2: torch.Size([6, 128]), z1: torch.Size([6, 128]), z2: torch.Size([6, 128])\n",
      "Epoch [57/100], Batch [55/55], Loss: 0.0078\n",
      "✅ Completed Epoch [57/100] | Avg Loss: 0.0046\n",
      "⏳ No Improvement | Patience: 13/15\n",
      "Shapes - p1: torch.Size([8, 128]), p2: torch.Size([8, 128]), z1: torch.Size([8, 128]), z2: torch.Size([8, 128])\n",
      "Shapes - p1: torch.Size([8, 128]), p2: torch.Size([8, 128]), z1: torch.Size([8, 128]), z2: torch.Size([8, 128])\n",
      "Shapes - p1: torch.Size([8, 128]), p2: torch.Size([8, 128]), z1: torch.Size([8, 128]), z2: torch.Size([8, 128])\n",
      "Shapes - p1: torch.Size([8, 128]), p2: torch.Size([8, 128]), z1: torch.Size([8, 128]), z2: torch.Size([8, 128])\n",
      "Shapes - p1: torch.Size([8, 128]), p2: torch.Size([8, 128]), z1: torch.Size([8, 128]), z2: torch.Size([8, 128])\n",
      "Epoch [58/100], Batch [5/55], Loss: 0.0007\n",
      "Shapes - p1: torch.Size([8, 128]), p2: torch.Size([8, 128]), z1: torch.Size([8, 128]), z2: torch.Size([8, 128])\n",
      "Shapes - p1: torch.Size([8, 128]), p2: torch.Size([8, 128]), z1: torch.Size([8, 128]), z2: torch.Size([8, 128])\n",
      "Shapes - p1: torch.Size([8, 128]), p2: torch.Size([8, 128]), z1: torch.Size([8, 128]), z2: torch.Size([8, 128])\n",
      "Shapes - p1: torch.Size([8, 128]), p2: torch.Size([8, 128]), z1: torch.Size([8, 128]), z2: torch.Size([8, 128])\n",
      "Shapes - p1: torch.Size([8, 128]), p2: torch.Size([8, 128]), z1: torch.Size([8, 128]), z2: torch.Size([8, 128])\n",
      "Epoch [58/100], Batch [10/55], Loss: 0.0021\n",
      "Shapes - p1: torch.Size([8, 128]), p2: torch.Size([8, 128]), z1: torch.Size([8, 128]), z2: torch.Size([8, 128])\n",
      "Shapes - p1: torch.Size([8, 128]), p2: torch.Size([8, 128]), z1: torch.Size([8, 128]), z2: torch.Size([8, 128])\n",
      "Shapes - p1: torch.Size([8, 128]), p2: torch.Size([8, 128]), z1: torch.Size([8, 128]), z2: torch.Size([8, 128])\n",
      "Shapes - p1: torch.Size([8, 128]), p2: torch.Size([8, 128]), z1: torch.Size([8, 128]), z2: torch.Size([8, 128])\n",
      "Shapes - p1: torch.Size([8, 128]), p2: torch.Size([8, 128]), z1: torch.Size([8, 128]), z2: torch.Size([8, 128])\n",
      "Epoch [58/100], Batch [15/55], Loss: 0.0067\n",
      "Shapes - p1: torch.Size([8, 128]), p2: torch.Size([8, 128]), z1: torch.Size([8, 128]), z2: torch.Size([8, 128])\n",
      "Shapes - p1: torch.Size([8, 128]), p2: torch.Size([8, 128]), z1: torch.Size([8, 128]), z2: torch.Size([8, 128])\n",
      "Shapes - p1: torch.Size([8, 128]), p2: torch.Size([8, 128]), z1: torch.Size([8, 128]), z2: torch.Size([8, 128])\n",
      "Shapes - p1: torch.Size([8, 128]), p2: torch.Size([8, 128]), z1: torch.Size([8, 128]), z2: torch.Size([8, 128])\n",
      "Shapes - p1: torch.Size([8, 128]), p2: torch.Size([8, 128]), z1: torch.Size([8, 128]), z2: torch.Size([8, 128])\n",
      "Epoch [58/100], Batch [20/55], Loss: 0.0008\n",
      "Shapes - p1: torch.Size([8, 128]), p2: torch.Size([8, 128]), z1: torch.Size([8, 128]), z2: torch.Size([8, 128])\n",
      "Shapes - p1: torch.Size([8, 128]), p2: torch.Size([8, 128]), z1: torch.Size([8, 128]), z2: torch.Size([8, 128])\n",
      "Shapes - p1: torch.Size([8, 128]), p2: torch.Size([8, 128]), z1: torch.Size([8, 128]), z2: torch.Size([8, 128])\n",
      "Shapes - p1: torch.Size([8, 128]), p2: torch.Size([8, 128]), z1: torch.Size([8, 128]), z2: torch.Size([8, 128])\n",
      "Shapes - p1: torch.Size([8, 128]), p2: torch.Size([8, 128]), z1: torch.Size([8, 128]), z2: torch.Size([8, 128])\n",
      "Epoch [58/100], Batch [25/55], Loss: 0.0054\n",
      "Shapes - p1: torch.Size([8, 128]), p2: torch.Size([8, 128]), z1: torch.Size([8, 128]), z2: torch.Size([8, 128])\n",
      "Shapes - p1: torch.Size([8, 128]), p2: torch.Size([8, 128]), z1: torch.Size([8, 128]), z2: torch.Size([8, 128])\n",
      "Shapes - p1: torch.Size([8, 128]), p2: torch.Size([8, 128]), z1: torch.Size([8, 128]), z2: torch.Size([8, 128])\n",
      "Shapes - p1: torch.Size([8, 128]), p2: torch.Size([8, 128]), z1: torch.Size([8, 128]), z2: torch.Size([8, 128])\n",
      "Shapes - p1: torch.Size([8, 128]), p2: torch.Size([8, 128]), z1: torch.Size([8, 128]), z2: torch.Size([8, 128])\n",
      "Epoch [58/100], Batch [30/55], Loss: 0.0019\n",
      "Shapes - p1: torch.Size([8, 128]), p2: torch.Size([8, 128]), z1: torch.Size([8, 128]), z2: torch.Size([8, 128])\n",
      "Shapes - p1: torch.Size([8, 128]), p2: torch.Size([8, 128]), z1: torch.Size([8, 128]), z2: torch.Size([8, 128])\n",
      "Shapes - p1: torch.Size([8, 128]), p2: torch.Size([8, 128]), z1: torch.Size([8, 128]), z2: torch.Size([8, 128])\n",
      "Shapes - p1: torch.Size([8, 128]), p2: torch.Size([8, 128]), z1: torch.Size([8, 128]), z2: torch.Size([8, 128])\n",
      "Shapes - p1: torch.Size([8, 128]), p2: torch.Size([8, 128]), z1: torch.Size([8, 128]), z2: torch.Size([8, 128])\n",
      "Epoch [58/100], Batch [35/55], Loss: 0.0041\n",
      "Shapes - p1: torch.Size([8, 128]), p2: torch.Size([8, 128]), z1: torch.Size([8, 128]), z2: torch.Size([8, 128])\n",
      "Shapes - p1: torch.Size([8, 128]), p2: torch.Size([8, 128]), z1: torch.Size([8, 128]), z2: torch.Size([8, 128])\n",
      "Shapes - p1: torch.Size([8, 128]), p2: torch.Size([8, 128]), z1: torch.Size([8, 128]), z2: torch.Size([8, 128])\n",
      "Shapes - p1: torch.Size([8, 128]), p2: torch.Size([8, 128]), z1: torch.Size([8, 128]), z2: torch.Size([8, 128])\n",
      "Shapes - p1: torch.Size([8, 128]), p2: torch.Size([8, 128]), z1: torch.Size([8, 128]), z2: torch.Size([8, 128])\n",
      "Epoch [58/100], Batch [40/55], Loss: 0.0007\n",
      "Shapes - p1: torch.Size([8, 128]), p2: torch.Size([8, 128]), z1: torch.Size([8, 128]), z2: torch.Size([8, 128])\n",
      "Shapes - p1: torch.Size([8, 128]), p2: torch.Size([8, 128]), z1: torch.Size([8, 128]), z2: torch.Size([8, 128])\n",
      "Shapes - p1: torch.Size([8, 128]), p2: torch.Size([8, 128]), z1: torch.Size([8, 128]), z2: torch.Size([8, 128])\n",
      "Shapes - p1: torch.Size([8, 128]), p2: torch.Size([8, 128]), z1: torch.Size([8, 128]), z2: torch.Size([8, 128])\n",
      "Shapes - p1: torch.Size([8, 128]), p2: torch.Size([8, 128]), z1: torch.Size([8, 128]), z2: torch.Size([8, 128])\n",
      "Epoch [58/100], Batch [45/55], Loss: 0.0043\n",
      "Shapes - p1: torch.Size([8, 128]), p2: torch.Size([8, 128]), z1: torch.Size([8, 128]), z2: torch.Size([8, 128])\n",
      "Shapes - p1: torch.Size([8, 128]), p2: torch.Size([8, 128]), z1: torch.Size([8, 128]), z2: torch.Size([8, 128])\n",
      "Shapes - p1: torch.Size([8, 128]), p2: torch.Size([8, 128]), z1: torch.Size([8, 128]), z2: torch.Size([8, 128])\n",
      "Shapes - p1: torch.Size([8, 128]), p2: torch.Size([8, 128]), z1: torch.Size([8, 128]), z2: torch.Size([8, 128])\n",
      "Shapes - p1: torch.Size([8, 128]), p2: torch.Size([8, 128]), z1: torch.Size([8, 128]), z2: torch.Size([8, 128])\n",
      "Epoch [58/100], Batch [50/55], Loss: 0.0024\n",
      "Shapes - p1: torch.Size([8, 128]), p2: torch.Size([8, 128]), z1: torch.Size([8, 128]), z2: torch.Size([8, 128])\n",
      "Shapes - p1: torch.Size([8, 128]), p2: torch.Size([8, 128]), z1: torch.Size([8, 128]), z2: torch.Size([8, 128])\n",
      "Shapes - p1: torch.Size([8, 128]), p2: torch.Size([8, 128]), z1: torch.Size([8, 128]), z2: torch.Size([8, 128])\n",
      "Shapes - p1: torch.Size([8, 128]), p2: torch.Size([8, 128]), z1: torch.Size([8, 128]), z2: torch.Size([8, 128])\n",
      "Shapes - p1: torch.Size([6, 128]), p2: torch.Size([6, 128]), z1: torch.Size([6, 128]), z2: torch.Size([6, 128])\n",
      "Epoch [58/100], Batch [55/55], Loss: 0.0025\n",
      "✅ Completed Epoch [58/100] | Avg Loss: 0.0041\n",
      "⏳ No Improvement | Patience: 14/15\n",
      "Shapes - p1: torch.Size([8, 128]), p2: torch.Size([8, 128]), z1: torch.Size([8, 128]), z2: torch.Size([8, 128])\n",
      "Shapes - p1: torch.Size([8, 128]), p2: torch.Size([8, 128]), z1: torch.Size([8, 128]), z2: torch.Size([8, 128])\n",
      "Shapes - p1: torch.Size([8, 128]), p2: torch.Size([8, 128]), z1: torch.Size([8, 128]), z2: torch.Size([8, 128])\n",
      "Shapes - p1: torch.Size([8, 128]), p2: torch.Size([8, 128]), z1: torch.Size([8, 128]), z2: torch.Size([8, 128])\n",
      "Shapes - p1: torch.Size([8, 128]), p2: torch.Size([8, 128]), z1: torch.Size([8, 128]), z2: torch.Size([8, 128])\n",
      "Epoch [59/100], Batch [5/55], Loss: 0.0015\n",
      "Shapes - p1: torch.Size([8, 128]), p2: torch.Size([8, 128]), z1: torch.Size([8, 128]), z2: torch.Size([8, 128])\n",
      "Shapes - p1: torch.Size([8, 128]), p2: torch.Size([8, 128]), z1: torch.Size([8, 128]), z2: torch.Size([8, 128])\n",
      "Shapes - p1: torch.Size([8, 128]), p2: torch.Size([8, 128]), z1: torch.Size([8, 128]), z2: torch.Size([8, 128])\n",
      "Shapes - p1: torch.Size([8, 128]), p2: torch.Size([8, 128]), z1: torch.Size([8, 128]), z2: torch.Size([8, 128])\n",
      "Shapes - p1: torch.Size([8, 128]), p2: torch.Size([8, 128]), z1: torch.Size([8, 128]), z2: torch.Size([8, 128])\n",
      "Epoch [59/100], Batch [10/55], Loss: 0.0008\n",
      "Shapes - p1: torch.Size([8, 128]), p2: torch.Size([8, 128]), z1: torch.Size([8, 128]), z2: torch.Size([8, 128])\n",
      "Shapes - p1: torch.Size([8, 128]), p2: torch.Size([8, 128]), z1: torch.Size([8, 128]), z2: torch.Size([8, 128])\n",
      "Shapes - p1: torch.Size([8, 128]), p2: torch.Size([8, 128]), z1: torch.Size([8, 128]), z2: torch.Size([8, 128])\n",
      "Shapes - p1: torch.Size([8, 128]), p2: torch.Size([8, 128]), z1: torch.Size([8, 128]), z2: torch.Size([8, 128])\n",
      "Shapes - p1: torch.Size([8, 128]), p2: torch.Size([8, 128]), z1: torch.Size([8, 128]), z2: torch.Size([8, 128])\n",
      "Epoch [59/100], Batch [15/55], Loss: 0.0069\n",
      "Shapes - p1: torch.Size([8, 128]), p2: torch.Size([8, 128]), z1: torch.Size([8, 128]), z2: torch.Size([8, 128])\n",
      "Shapes - p1: torch.Size([8, 128]), p2: torch.Size([8, 128]), z1: torch.Size([8, 128]), z2: torch.Size([8, 128])\n",
      "Shapes - p1: torch.Size([8, 128]), p2: torch.Size([8, 128]), z1: torch.Size([8, 128]), z2: torch.Size([8, 128])\n",
      "Shapes - p1: torch.Size([8, 128]), p2: torch.Size([8, 128]), z1: torch.Size([8, 128]), z2: torch.Size([8, 128])\n",
      "Shapes - p1: torch.Size([8, 128]), p2: torch.Size([8, 128]), z1: torch.Size([8, 128]), z2: torch.Size([8, 128])\n",
      "Epoch [59/100], Batch [20/55], Loss: 0.0017\n",
      "Shapes - p1: torch.Size([8, 128]), p2: torch.Size([8, 128]), z1: torch.Size([8, 128]), z2: torch.Size([8, 128])\n",
      "Shapes - p1: torch.Size([8, 128]), p2: torch.Size([8, 128]), z1: torch.Size([8, 128]), z2: torch.Size([8, 128])\n",
      "Shapes - p1: torch.Size([8, 128]), p2: torch.Size([8, 128]), z1: torch.Size([8, 128]), z2: torch.Size([8, 128])\n",
      "Shapes - p1: torch.Size([8, 128]), p2: torch.Size([8, 128]), z1: torch.Size([8, 128]), z2: torch.Size([8, 128])\n",
      "Shapes - p1: torch.Size([8, 128]), p2: torch.Size([8, 128]), z1: torch.Size([8, 128]), z2: torch.Size([8, 128])\n",
      "Epoch [59/100], Batch [25/55], Loss: 0.0019\n",
      "Shapes - p1: torch.Size([8, 128]), p2: torch.Size([8, 128]), z1: torch.Size([8, 128]), z2: torch.Size([8, 128])\n",
      "Shapes - p1: torch.Size([8, 128]), p2: torch.Size([8, 128]), z1: torch.Size([8, 128]), z2: torch.Size([8, 128])\n",
      "Shapes - p1: torch.Size([8, 128]), p2: torch.Size([8, 128]), z1: torch.Size([8, 128]), z2: torch.Size([8, 128])\n",
      "Shapes - p1: torch.Size([8, 128]), p2: torch.Size([8, 128]), z1: torch.Size([8, 128]), z2: torch.Size([8, 128])\n",
      "Shapes - p1: torch.Size([8, 128]), p2: torch.Size([8, 128]), z1: torch.Size([8, 128]), z2: torch.Size([8, 128])\n",
      "Epoch [59/100], Batch [30/55], Loss: 0.0010\n",
      "Shapes - p1: torch.Size([8, 128]), p2: torch.Size([8, 128]), z1: torch.Size([8, 128]), z2: torch.Size([8, 128])\n",
      "Shapes - p1: torch.Size([8, 128]), p2: torch.Size([8, 128]), z1: torch.Size([8, 128]), z2: torch.Size([8, 128])\n",
      "Shapes - p1: torch.Size([8, 128]), p2: torch.Size([8, 128]), z1: torch.Size([8, 128]), z2: torch.Size([8, 128])\n",
      "Shapes - p1: torch.Size([8, 128]), p2: torch.Size([8, 128]), z1: torch.Size([8, 128]), z2: torch.Size([8, 128])\n",
      "Shapes - p1: torch.Size([8, 128]), p2: torch.Size([8, 128]), z1: torch.Size([8, 128]), z2: torch.Size([8, 128])\n",
      "Epoch [59/100], Batch [35/55], Loss: 0.0006\n",
      "Shapes - p1: torch.Size([8, 128]), p2: torch.Size([8, 128]), z1: torch.Size([8, 128]), z2: torch.Size([8, 128])\n",
      "Shapes - p1: torch.Size([8, 128]), p2: torch.Size([8, 128]), z1: torch.Size([8, 128]), z2: torch.Size([8, 128])\n",
      "Shapes - p1: torch.Size([8, 128]), p2: torch.Size([8, 128]), z1: torch.Size([8, 128]), z2: torch.Size([8, 128])\n",
      "Shapes - p1: torch.Size([8, 128]), p2: torch.Size([8, 128]), z1: torch.Size([8, 128]), z2: torch.Size([8, 128])\n",
      "Shapes - p1: torch.Size([8, 128]), p2: torch.Size([8, 128]), z1: torch.Size([8, 128]), z2: torch.Size([8, 128])\n",
      "Epoch [59/100], Batch [40/55], Loss: 0.0030\n",
      "Shapes - p1: torch.Size([8, 128]), p2: torch.Size([8, 128]), z1: torch.Size([8, 128]), z2: torch.Size([8, 128])\n",
      "Shapes - p1: torch.Size([8, 128]), p2: torch.Size([8, 128]), z1: torch.Size([8, 128]), z2: torch.Size([8, 128])\n",
      "Shapes - p1: torch.Size([8, 128]), p2: torch.Size([8, 128]), z1: torch.Size([8, 128]), z2: torch.Size([8, 128])\n",
      "Shapes - p1: torch.Size([8, 128]), p2: torch.Size([8, 128]), z1: torch.Size([8, 128]), z2: torch.Size([8, 128])\n",
      "Shapes - p1: torch.Size([8, 128]), p2: torch.Size([8, 128]), z1: torch.Size([8, 128]), z2: torch.Size([8, 128])\n",
      "Epoch [59/100], Batch [45/55], Loss: 0.0009\n",
      "Shapes - p1: torch.Size([8, 128]), p2: torch.Size([8, 128]), z1: torch.Size([8, 128]), z2: torch.Size([8, 128])\n",
      "Shapes - p1: torch.Size([8, 128]), p2: torch.Size([8, 128]), z1: torch.Size([8, 128]), z2: torch.Size([8, 128])\n",
      "Shapes - p1: torch.Size([8, 128]), p2: torch.Size([8, 128]), z1: torch.Size([8, 128]), z2: torch.Size([8, 128])\n",
      "Shapes - p1: torch.Size([8, 128]), p2: torch.Size([8, 128]), z1: torch.Size([8, 128]), z2: torch.Size([8, 128])\n",
      "Shapes - p1: torch.Size([8, 128]), p2: torch.Size([8, 128]), z1: torch.Size([8, 128]), z2: torch.Size([8, 128])\n",
      "Epoch [59/100], Batch [50/55], Loss: 0.0004\n",
      "Shapes - p1: torch.Size([8, 128]), p2: torch.Size([8, 128]), z1: torch.Size([8, 128]), z2: torch.Size([8, 128])\n",
      "Shapes - p1: torch.Size([8, 128]), p2: torch.Size([8, 128]), z1: torch.Size([8, 128]), z2: torch.Size([8, 128])\n",
      "Shapes - p1: torch.Size([8, 128]), p2: torch.Size([8, 128]), z1: torch.Size([8, 128]), z2: torch.Size([8, 128])\n",
      "Shapes - p1: torch.Size([8, 128]), p2: torch.Size([8, 128]), z1: torch.Size([8, 128]), z2: torch.Size([8, 128])\n",
      "Shapes - p1: torch.Size([6, 128]), p2: torch.Size([6, 128]), z1: torch.Size([6, 128]), z2: torch.Size([6, 128])\n",
      "Epoch [59/100], Batch [55/55], Loss: 0.0030\n",
      "✅ Completed Epoch [59/100] | Avg Loss: 0.0033\n",
      "⏳ No Improvement | Patience: 15/15\n",
      "🛑 Early Stopping Triggered!\n"
     ]
    }
   ],
   "source": [
    "# ✅ Optimizer & Scheduler\n",
    "import torch.optim as optim\n",
    "\n",
    "optimizer = optim.AdamW(model.parameters(), lr=0.0003, weight_decay=1e-4)\n",
    "scheduler = torch.optim.lr_scheduler.CosineAnnealingLR(optimizer, T_max=50)\n",
    "\n",
    "# ✅ Training Loop with Early Stopping\n",
    "def train_byol(model, train_loader, optimizer, scheduler, epochs=100, patience=15):\n",
    "    model.train()\n",
    "    best_loss = float(\"inf\")\n",
    "    patience_counter = 0\n",
    "\n",
    "    for epoch in range(epochs):\n",
    "        total_loss = 0\n",
    "        for batch_idx, (eeg_1, eeg_2) in enumerate(train_loader):\n",
    "            eeg_1, eeg_2 = eeg_1.to(device), eeg_2.to(device)\n",
    "\n",
    "            optimizer.zero_grad()\n",
    "            p1, p2, z1, z2 = model(eeg_1, eeg_2)\n",
    "\n",
    "            loss = byol_loss(p1, p2, z1, z2)\n",
    "            loss.backward()\n",
    "            optimizer.step()\n",
    "\n",
    "            total_loss += loss.item()\n",
    "            if (batch_idx + 1) % 5 == 0:\n",
    "                print(f\"Epoch [{epoch+1}/{epochs}], Batch [{batch_idx+1}/{len(train_loader)}], Loss: {loss.item():.4f}\")\n",
    "\n",
    "        avg_loss = total_loss / len(train_loader)\n",
    "        scheduler.step()\n",
    "\n",
    "        print(f\"✅ Completed Epoch [{epoch+1}/{epochs}] | Avg Loss: {avg_loss:.4f}\")\n",
    "\n",
    "        if avg_loss < best_loss:\n",
    "            best_loss = avg_loss\n",
    "            patience_counter = 0\n",
    "            torch.save(model.state_dict(), \"byol_best.pth\")\n",
    "            print(\"✅ Model Improved & Saved!\")\n",
    "        else:\n",
    "            patience_counter += 1\n",
    "            print(f\"⏳ No Improvement | Patience: {patience_counter}/{patience}\")\n",
    "\n",
    "        if patience_counter >= patience:\n",
    "            print(\"🛑 Early Stopping Triggered!\")\n",
    "            break\n",
    "\n",
    "# ✅ Train the Model\n",
    "train_byol(model, train_loader, optimizer, scheduler, epochs=100, patience=15)\n"
   ]
  },
  {
   "cell_type": "code",
   "execution_count": 96,
   "metadata": {},
   "outputs": [
    {
     "name": "stdout",
     "output_type": "stream",
     "text": [
      "✅ Model weights saved successfully!\n"
     ]
    }
   ],
   "source": [
    "# ✅ Save Model Weights\n",
    "torch.save(model.state_dict(), \"byol_best.pth\")\n",
    "print(\"✅ Model weights saved successfully!\")\n"
   ]
  },
  {
   "cell_type": "code",
   "execution_count": 98,
   "metadata": {},
   "outputs": [
    {
     "name": "stdout",
     "output_type": "stream",
     "text": [
      "✅ Model weights loaded successfully!\n"
     ]
    },
    {
     "name": "stderr",
     "output_type": "stream",
     "text": [
      "C:\\Users\\alsaf\\AppData\\Local\\Temp\\ipykernel_204\\1282376678.py:10: FutureWarning: You are using `torch.load` with `weights_only=False` (the current default value), which uses the default pickle module implicitly. It is possible to construct malicious pickle data which will execute arbitrary code during unpickling (See https://github.com/pytorch/pytorch/blob/main/SECURITY.md#untrusted-models for more details). In a future release, the default value for `weights_only` will be flipped to `True`. This limits the functions that could be executed during unpickling. Arbitrary objects will no longer be allowed to be loaded via this mode unless they are explicitly allowlisted by the user via `torch.serialization.add_safe_globals`. We recommend you start setting `weights_only=True` for any use case where you don't have full control of the loaded file. Please open an issue on GitHub for any issues related to this experimental feature.\n",
      "  model.load_state_dict(torch.load(\"byol_best.pth\"))\n"
     ]
    }
   ],
   "source": [
    "# ✅ Ensure Model Definition Matches Training\n",
    "input_channels = 33  # Set this to match your EEG dataset\n",
    "hidden_dim = 128\n",
    "projection_dim = 128\n",
    "\n",
    "# ✅ Recreate the Model\n",
    "model = BYOL(input_channels=input_channels, hidden_dim=hidden_dim, projection_dim=projection_dim)\n",
    "\n",
    "# ✅ Load Trained Weights\n",
    "model.load_state_dict(torch.load(\"byol_best.pth\"))\n",
    "\n",
    "# ✅ Move to Device & Set to Evaluation Mode\n",
    "model.to(device)\n",
    "model.eval()\n",
    "\n",
    "print(\"✅ Model weights loaded successfully!\")\n"
   ]
  }
 ],
 "metadata": {
  "kernelspec": {
   "display_name": "Python 3",
   "language": "python",
   "name": "python3"
  },
  "language_info": {
   "codemirror_mode": {
    "name": "ipython",
    "version": 3
   },
   "file_extension": ".py",
   "mimetype": "text/x-python",
   "name": "python",
   "nbconvert_exporter": "python",
   "pygments_lexer": "ipython3",
   "version": "3.11.0"
  }
 },
 "nbformat": 4,
 "nbformat_minor": 2
}
